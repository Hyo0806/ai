{
 "cells": [
  {
   "cell_type": "code",
   "execution_count": 1,
   "id": "a11f1719",
   "metadata": {},
   "outputs": [
    {
     "data": {
      "text/html": [
       "\n",
       "<style>\n",
       "div.container{width:90% !important;}\n",
       "div.cell.code_cell.rendered{width:100%;}\n",
       "div.input_prompt{padding:0px;}\n",
       "div.CodeMirror {font-family:Consolas; font-size:12pt;}\n",
       "div.text_cell_render.rendered_html{font-size:12pt;}\n",
       "div.output {font-size:12pt; font-weight:bold;}\n",
       "div.input {font-family:Consolas; font-size:12pt;}\n",
       "div.prompt {min-width:70px;}\n",
       "div#toc-wrapper{padding-top:120px;}\n",
       "div.text_cell_render ul li{font-size:12pt;padding:5px;}\n",
       "table.dataframe{font-size:12px;}\n",
       "</style>\n"
      ],
      "text/plain": [
       "<IPython.core.display.HTML object>"
      ]
     },
     "metadata": {},
     "output_type": "display_data"
    }
   ],
   "source": [
    "from IPython.display import display, HTML\n",
    "display(HTML(\"\"\"\n",
    "<style>\n",
    "div.container{width:90% !important;}\n",
    "div.cell.code_cell.rendered{width:100%;}\n",
    "div.input_prompt{padding:0px;}\n",
    "div.CodeMirror {font-family:Consolas; font-size:12pt;}\n",
    "div.text_cell_render.rendered_html{font-size:12pt;}\n",
    "div.output {font-size:12pt; font-weight:bold;}\n",
    "div.input {font-family:Consolas; font-size:12pt;}\n",
    "div.prompt {min-width:70px;}\n",
    "div#toc-wrapper{padding-top:120px;}\n",
    "div.text_cell_render ul li{font-size:12pt;padding:5px;}\n",
    "table.dataframe{font-size:12px;}\n",
    "</style>\n",
    "\"\"\"))"
   ]
  },
  {
   "cell_type": "markdown",
   "id": "2d002431",
   "metadata": {},
   "source": [
    "<b><font size=\"6\" color=\"red\"> 정리 </font></b>\n"
   ]
  },
  {
   "cell_type": "markdown",
   "id": "ed713b83",
   "metadata": {},
   "source": [
    "# 예약어\n",
    "\n",
    "파이썬의 구문과 구조를 정의하고, 특정 기능을 수행하기 위해 미리 약속된 단어\n",
    "\n",
    "- if, else, while, for, True, False, None, def, import, class, return 등"
   ]
  },
  {
   "cell_type": "markdown",
   "id": "6703783a",
   "metadata": {},
   "source": [
    "## import\n",
    "\n",
    "- 다른 파이썬 모듈을 현재 프로그램에서 사용하도록 가져오는 명령어\n",
    "\n",
    "**모듈 전체 가져오기**\n",
    "\n",
    "- import 모듈이름\n",
    "- from 모듈이름 import 함수이름( 특정 함수나 변수만 가져와 바로 사용 )\n",
    "\n",
    "**특정 요소만 가져오기**\n",
    "- import 모듈이름 as 별칭"
   ]
  },
  {
   "cell_type": "markdown",
   "id": "fc00b4f8",
   "metadata": {},
   "source": [
    "## def\n",
    "\n",
    "- 함수(function)를 정의할 때 사용하는 예약어\n",
    "``` \n",
    "def 함수이름(매개변수) :\n",
    "    '''\n",
    "    설명\n",
    "    '''\n",
    "```"
   ]
  },
  {
   "cell_type": "markdown",
   "id": "00991a07",
   "metadata": {},
   "source": [
    "# 문법"
   ]
  },
  {
   "cell_type": "markdown",
   "id": "fa8cf3cc",
   "metadata": {},
   "source": [
    "## raw string\n",
    "\n",
    "- 문자열 앞에 r을 붙여 이스케이프 문자(\\)를 무시하고 문자열을 그대로 인식\n",
    "```\n",
    "     ex) print(r\"Hello\\nWorld\")\n",
    "     #출력: Hello\\nWorld\n",
    "```\n",
    "- 경로 표현 : 파일 경로 등 백슬래시가 포함된 문자열\n",
    "- 정규표현식 :  정규식 패턴에서 백슬래시가 특별한 의미로 사용되므로, 백슬래시를 그대로 유지하기 위해\n",
    "- JSON/HTML 문자열 : 외부에서 가져온 JSON이나 HTML 소스 코드의 특수 문자나 태그 등을 파이썬이 임의로 해석하지 않고 그대로 사용"
   ]
  },
  {
   "cell_type": "markdown",
   "id": "1530804d",
   "metadata": {},
   "source": [
    "# 함수"
   ]
  },
  {
   "cell_type": "markdown",
   "id": "d80b0e4c",
   "metadata": {},
   "source": [
    "## input \n",
    "\n",
    "- input() 함수는 사용자로부터 값을 입력받는 데 사용\n",
    "- str(문자열)타입\n",
    "- 입력받은 값을 숫자처럼 사용하려면 int(), float()과 같은 형변환 함수를 사용하여 데이터 타입을 변환"
   ]
  },
  {
   "cell_type": "code",
   "execution_count": null,
   "id": "0bb4bb5a",
   "metadata": {},
   "outputs": [],
   "source": []
  }
 ],
 "metadata": {
  "kernelspec": {
   "display_name": "Python 3 (ipykernel)",
   "language": "python",
   "name": "python3"
  },
  "language_info": {
   "codemirror_mode": {
    "name": "ipython",
    "version": 3
   },
   "file_extension": ".py",
   "mimetype": "text/x-python",
   "name": "python",
   "nbconvert_exporter": "python",
   "pygments_lexer": "ipython3",
   "version": "3.10.9"
  },
  "toc": {
   "base_numbering": 1,
   "nav_menu": {},
   "number_sections": false,
   "sideBar": true,
   "skip_h1_title": false,
   "title_cell": "Table of Contents",
   "title_sidebar": "Contents",
   "toc_cell": false,
   "toc_position": {
    "height": "calc(100% - 180px)",
    "left": "10px",
    "top": "150px",
    "width": "201px"
   },
   "toc_section_display": true,
   "toc_window_display": true
  }
 },
 "nbformat": 4,
 "nbformat_minor": 5
}
