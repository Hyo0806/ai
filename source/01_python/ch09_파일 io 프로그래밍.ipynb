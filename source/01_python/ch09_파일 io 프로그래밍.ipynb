{
 "cells": [
  {
   "cell_type": "code",
   "execution_count": 1,
   "id": "4c35c35e",
   "metadata": {},
   "outputs": [
    {
     "data": {
      "text/html": [
       "\n",
       "<style>\n",
       "div.container{width:90% !important;}\n",
       "div.cell.code_cell.rendered{width:100%;}\n",
       "div.input_prompt{padding:0px;}\n",
       "div.CodeMirror {font-family:Consolas; font-size:12pt;}\n",
       "div.text_cell_render.rendered_html{font-size:12pt;}\n",
       "div.output {font-size:12pt; font-weight:bold;}\n",
       "div.input {font-family:Consolas; font-size:12pt;}\n",
       "div.prompt {min-width:70px;}\n",
       "div#toc-wrapper{padding-top:120px;}\n",
       "div.text_cell_render ul li{font-size:12pt;padding:5px;}\n",
       "table.dataframe{font-size:12px;}\n",
       "</style>\n"
      ],
      "text/plain": [
       "<IPython.core.display.HTML object>"
      ]
     },
     "metadata": {},
     "output_type": "display_data"
    }
   ],
   "source": [
    "from IPython.display import display, HTML\n",
    "display(HTML(\"\"\"\n",
    "<style>\n",
    "div.container{width:90% !important;}\n",
    "div.cell.code_cell.rendered{width:100%;}\n",
    "div.input_prompt{padding:0px;}\n",
    "div.CodeMirror {font-family:Consolas; font-size:12pt;}\n",
    "div.text_cell_render.rendered_html{font-size:12pt;}\n",
    "div.output {font-size:12pt; font-weight:bold;}\n",
    "div.input {font-family:Consolas; font-size:12pt;}\n",
    "div.prompt {min-width:70px;}\n",
    "div#toc-wrapper{padding-top:120px;}\n",
    "div.text_cell_render ul li{font-size:12pt;padding:5px;}\n",
    "table.dataframe{font-size:12px;}\n",
    "</style>\n",
    "\"\"\"))"
   ]
  },
  {
   "cell_type": "markdown",
   "id": "2d8e7d9d",
   "metadata": {},
   "source": [
    "<b><font size=\"6\" color=\"red\"> ch09. 파일 i/o 프로그래밍 </font></b>\n",
    "\n",
    "- 파일 : txt, pickle(머신러닝모델저장, 배열저장), csv, json, h5(딥러닝모델저장)"
   ]
  },
  {
   "cell_type": "markdown",
   "id": "fe48648f",
   "metadata": {},
   "source": [
    "* 다양한 형태의 반정형데이터 파일들\n",
    "(반정형인 이유는 바로 사용하기에 어려움이 있어서)\n",
    "\n",
    "```\n",
    "* csv, json 파일을 압도적으로 많이 씀\n",
    "1. *.csv\n",
    "name, age\n",
    "'홍길동',30\n",
    "'김길동',20\n",
    "\n",
    "2. *.json (open API)\n",
    "[{'name':'홍길동','age':30},\n",
    " {'name':'김길동','age':20}]\n",
    "\n",
    "3. *.xml\n",
    "<person>\n",
    "\t<name>홍길동</name>\n",
    "\t<age>30</age>\n",
    "</person>\n",
    "<person>\n",
    "\t<name>김길동</name>\n",
    "\t<age>20</age>\n",
    "</person>\n",
    "\n",
    "4. *.xlsx : 엑셀파일\n",
    "\n",
    "5. *.txt(text 저장) : 히스토리\n",
    "\n",
    "\n",
    "```\n",
    "\n",
    "- 메모장에서 열 수 있는 확장자 : *.txt , *.csv , *.json\n",
    "- *.pickle , *.pkl , *.data (객체 list, dictlist)\n",
    "- *.h5, *.hdf5 (객체, dictlist)"
   ]
  },
  {
   "cell_type": "markdown",
   "id": "123d49c0",
   "metadata": {},
   "source": [
    "# 1절. txt 파일에 데이터 저장하고 불러오기"
   ]
  },
  {
   "cell_type": "code",
   "execution_count": 9,
   "id": "666c3d19",
   "metadata": {},
   "outputs": [
    {
     "name": "stdout",
     "output_type": "stream",
     "text": [
      "쓰기 가능한지 :  True\n"
     ]
    }
   ],
   "source": [
    "# mode = 'r' 또는 'rt'(read text) : 텍스트 읽기모드로 열기. 파일이 없을 경우 예외 발생\n",
    "# mode = 'w' 또는 'wt'(write text) : 텍스트 쓰기모드로 열기. 폴더가 없을 경우 예외 발생\n",
    "                                   # 파일이 없으면 생성. 파일이 있으면 덮어씀\n",
    "# mode = 'a' 또는 'at'(append text) : 텍스트 쓰기모드로 열기. 폴더가 없을 경우 예외 발생\n",
    "                                   # 파일이 없으면 생성. 파일이 있으면 뒤에 append\n",
    "    \n",
    "f = open('data/ch09.txt', 'w') # 기본 encoding = 'cp949'(win)\n",
    "print('쓰기 가능한지 : ', f.writable())\n",
    "f.write('Hello\\nWorld\\n')\n",
    "f.close()"
   ]
  },
  {
   "cell_type": "code",
   "execution_count": 15,
   "id": "3f7dd65b",
   "metadata": {},
   "outputs": [
    {
     "name": "stdout",
     "output_type": "stream",
     "text": [
      "쓰기 가능한지 :  True\n"
     ]
    }
   ],
   "source": [
    "# with구문을 사용하면 매번 close()하는 코드가 불필요\n",
    "\n",
    "with open('data/ch09.txt', 'w') as f:\n",
    "    print('쓰기 가능한지 : ', f.writable())\n",
    "    f.write('Python is easy.\\nPython is smart.\\n')"
   ]
  },
  {
   "cell_type": "code",
   "execution_count": 16,
   "id": "653f94ca",
   "metadata": {},
   "outputs": [
    {
     "name": "stdout",
     "output_type": "stream",
     "text": [
      "프린트 함수로 파일 쓰기가 가능합니다-콘솔출력\n"
     ]
    }
   ],
   "source": [
    "with open('data/ch09.txt', 'a', encoding='utf-8') as f:\n",
    "    print('프린트 함수로 파일 쓰기가 가능합니다-파일출력', file=f)\n",
    "    print('프린트 함수로 파일 쓰기가 가능합니다-콘솔출력')"
   ]
  },
  {
   "cell_type": "markdown",
   "id": "2c467233",
   "metadata": {},
   "source": [
    "- 한글 읽기/쓰기\n",
    "    * cp949(한글완성형확장형) : open함수의 기본 인코딩(window)\n",
    "    * utf-8(한글조합형) : 주피터노트북에서 열림"
   ]
  },
  {
   "cell_type": "code",
   "execution_count": 5,
   "id": "a70a93e6",
   "metadata": {},
   "outputs": [],
   "source": [
    "# 텍스트 쓰기\n",
    "\n",
    "with open('data/ch09.txt','w', encoding='utf-8') as f:  # f는 일명 빨대\n",
    "    \n",
    "    # 방법 1.\n",
    "    f.write('홍길동, 30, 서울\\n')\n",
    "    f.write('김길동, 20, 수원\\n')\n",
    "    \n",
    "    # 방법 2. 추천안함\n",
    "    textlist = ['홍길동, 30, 서울\\n', '김길동, 20, 부산\\n']\n",
    "    for line in textlist:\n",
    "        f.write(line)\n",
    "        \n",
    "    # 방법 3. (방법1, 방법3 추천)\n",
    "    f.writelines(textlist) #리스트를 한꺼번에 write"
   ]
  },
  {
   "cell_type": "code",
   "execution_count": 6,
   "id": "52c6e49d",
   "metadata": {},
   "outputs": [
    {
     "data": {
      "text/plain": [
       "'홍길동, 30, 서울\\n김길동, 20, 수원\\n홍길동, 30, 서울\\n김길동, 20, 부산\\n홍길동, 30, 서울\\n김길동, 20, 부산\\n'"
      ]
     },
     "execution_count": 6,
     "metadata": {},
     "output_type": "execute_result"
    }
   ],
   "source": [
    "# 텍스트 읽기 - 파일을 한꺼번에 읽어오기\n",
    "\n",
    "with open('data/ch09.txt','r',encoding='utf-8') as f:\n",
    "    filecontent = f.read()\n",
    "filecontent"
   ]
  },
  {
   "cell_type": "code",
   "execution_count": 9,
   "id": "dcbf0bf3",
   "metadata": {},
   "outputs": [
    {
     "name": "stdout",
     "output_type": "stream",
     "text": [
      "홍길동, 30, 서울\n",
      "김길동, 20, 수원\n",
      "홍길동, 30, 서울\n",
      "김길동, 20, 부산\n",
      "홍길동, 30, 서울\n",
      "김길동, 20, 부산\n"
     ]
    }
   ],
   "source": [
    "# 텍스트 읽기 - 파일을 한줄 읽고 출력, 한줄읽고 출력, ....\n",
    "\n",
    "with open('data/ch09.txt','r',encoding='utf-8') as txtfile:\n",
    "    line = txtfile.readline()\n",
    "    while line != '': # line에 ''이 나올때까지 계속 읽어라\n",
    "        print(line, end='') # line에 \\n이 포함되어있어 출력시 개행은 제거\n",
    "        line = txtfile.readline()"
   ]
  },
  {
   "cell_type": "code",
   "execution_count": 10,
   "id": "c62428e5",
   "metadata": {},
   "outputs": [
    {
     "name": "stdout",
     "output_type": "stream",
     "text": [
      "['홍길동, 30, 서울\\n', '김길동, 20, 수원\\n', '홍길동, 30, 서울\\n', '김길동, 20, 부산\\n', '홍길동, 30, 서울\\n', '김길동, 20, 부산\\n']\n"
     ]
    }
   ],
   "source": [
    "# 텍스트 읽기 - 파일을 한꺼번에 여러줄을 읽어, 한줄씩 list에 담아 return\n",
    "\n",
    "with open('data/ch09.txt','r',encoding='utf-8') as txtfile:\n",
    "    lines = txtfile.readlines()\n",
    "print(lines)"
   ]
  },
  {
   "cell_type": "code",
   "execution_count": 11,
   "id": "14c34e21",
   "metadata": {},
   "outputs": [
    {
     "name": "stdout",
     "output_type": "stream",
     "text": [
      "홍길동, 30, 서울\n",
      "김길동, 20, 수원\n",
      "홍길동, 30, 서울\n",
      "김길동, 20, 부산\n",
      "홍길동, 30, 서울\n",
      "김길동, 20, 부산\n"
     ]
    }
   ],
   "source": [
    "for line in lines:\n",
    "    print(line, end='')"
   ]
  },
  {
   "cell_type": "markdown",
   "id": "62ff3e1a",
   "metadata": {},
   "source": [
    "# 2절. 피클을 이용한 객체 저장 및 불러오기\n",
    "\n",
    "- 머신러닝 모델저장, 배열저장, 객체저장\n",
    "\n",
    "## 2.1 형식이 있는 텍스트 데이터 불러오기"
   ]
  },
  {
   "cell_type": "code",
   "execution_count": 15,
   "id": "cb1efb3a",
   "metadata": {},
   "outputs": [
    {
     "name": "stdout",
     "output_type": "stream",
     "text": [
      "{'name': '홍길동', 'age': 20, 'email': 'kildong@hong.com', 'adress': '서울시 관악구'}\n",
      "{'name': '홍길숙', 'age': 25, 'email': 'kilsuk1@hong.com', 'adress': '서울시 영등포구'}\n",
      "{'name': '신길동', 'age': 30, 'email': 'shinkil@hong.com', 'adress': '서울시 동작구'}\n"
     ]
    }
   ],
   "source": [
    "with open('data/ch09_member.txt','r',encoding='utf-8') as f:\n",
    "    lines = f.readlines()\n",
    "# print(lines)\n",
    "for line in lines:\n",
    "    # print(line)\n",
    "    data = line.split(', ') # 컴마 스페이스 단위로 쪼가리를 낸다\n",
    "    # print(data)\n",
    "    name = data[0]\n",
    "    age = int(data[1])\n",
    "    email = data[2]\n",
    "    adress = data[3].strip()\n",
    "    print({'name':name,\n",
    "          'age':age,\n",
    "          'email':email,\n",
    "          'adress':adress})"
   ]
  },
  {
   "cell_type": "code",
   "execution_count": 16,
   "id": "5062bb00",
   "metadata": {},
   "outputs": [],
   "source": [
    "class Member:\n",
    "    def __init__(self, name, age, email, adress):\n",
    "        self.name = name\n",
    "        self.age = age\n",
    "        self.email = email\n",
    "        self.adress = adress\n",
    "    def __str__(self):\n",
    "        return '{},{},{},{}'.format(self.name, self.age, self.email, self.adress)"
   ]
  },
  {
   "cell_type": "code",
   "execution_count": 17,
   "id": "11d6f905",
   "metadata": {},
   "outputs": [
    {
     "name": "stdout",
     "output_type": "stream",
     "text": [
      "신길동,30,shinkil@hong.com,서울시 동작구\n",
      "신길동,30,shinkil@hong.com,서울시 동작구\n",
      "False\n"
     ]
    }
   ],
   "source": [
    "member1 = Member('신길동', 30, 'shinkil@hong.com', '서울시 동작구')\n",
    "member2 = Member('신길동', 30, 'shinkil@hong.com', '서울시 동작구')\n",
    "print(member1)\n",
    "print(member2)\n",
    "print(member2==member1) # 지금은 둘의 주소를 비교했기 때문에 False가 나온것\n",
    "# print(member2.__eq__(member1)) 바로 위에줄과 같은말. "
   ]
  },
  {
   "cell_type": "code",
   "execution_count": 18,
   "id": "9c1b934c",
   "metadata": {},
   "outputs": [],
   "source": [
    "# 둘의 주소를 비교하는게 아니라 내용을 비교하는 정의를 추가함.\n",
    "\n",
    "class Member:\n",
    "    def __init__(self, name, age, email, adress):\n",
    "        self.name = name\n",
    "        self.age = age\n",
    "        self.email = email\n",
    "        self.adress = adress\n",
    "    def __str__(self):\n",
    "        return '{},{},{},{}'.format(self.name, self.age, self.email, self.adress)\n",
    "    def __eq__(self, other): # __str__은 매개변수가 필요없지만 __eq__는 member1과 member2를 비교해야하기 때문에 무조건 매개변수 넣어줘야함.\n",
    "        return self.name == other.name and self.age == other.age and\\\n",
    "                self.email == other.email and self.adress == other.adress"
   ]
  },
  {
   "cell_type": "code",
   "execution_count": 19,
   "id": "acdabff2",
   "metadata": {},
   "outputs": [
    {
     "name": "stdout",
     "output_type": "stream",
     "text": [
      "신길동,30,shinkil@hong.com,서울시 동작구\n",
      "신길동,30,shinkil@hong.com,서울시 동작구\n",
      "True\n"
     ]
    }
   ],
   "source": [
    "member1 = Member('신길동', 30, 'shinkil@hong.com', '서울시 동작구')\n",
    "member2 = Member('신길동', 30, 'shinkil@hong.com', '서울시 동작구')\n",
    "print(member1)\n",
    "print(member2)\n",
    "print(member2==member1)"
   ]
  },
  {
   "cell_type": "code",
   "execution_count": 8,
   "id": "f29f3dfd",
   "metadata": {},
   "outputs": [],
   "source": [
    "# 위에 매개변수를 모두 쓰기 싫으니까 간단하게 바꾸는방법 + 딕셔너리로 바꾸는 것 추가\n",
    "\n",
    "class Member:\n",
    "    def __init__(self, name, age, email, adress):\n",
    "        self.name = name\n",
    "        self.age = age\n",
    "        self.email = email\n",
    "        self.adress = adress\n",
    "    def __str__(self):\n",
    "        return '{},{},{},{}'.format(self.name, self.age, self.email, self.adress)\n",
    "    def __eq__(self, other):\n",
    "        return self.__str__() == other.__str__()\n",
    "    def as_dict(self):\n",
    "        '객체를 딕셔너리로 바꿔 return(json파일 저장시 필요)'\n",
    "        return self.__dict__"
   ]
  },
  {
   "cell_type": "code",
   "execution_count": 21,
   "id": "ea553164",
   "metadata": {},
   "outputs": [
    {
     "name": "stdout",
     "output_type": "stream",
     "text": [
      "True\n",
      "{'name': '신길동', 'age': 30, 'email': 'shinkil@hong.com', 'adress': '서울시 동작구'}\n"
     ]
    }
   ],
   "source": [
    "member1 = Member('신길동', 30, 'shinkil@hong.com', '서울시 동작구')\n",
    "member2 = Member('신길동', 30, 'shinkil@hong.com', '서울시 동작구')\n",
    "print(member2==member1)\n",
    "print(member1.as_dict())"
   ]
  },
  {
   "cell_type": "markdown",
   "id": "411c6e1c",
   "metadata": {},
   "source": [
    "## 2.2 피클링\n",
    "\n",
    "- 객체리스트 **→** 피클파일로 쓰기\n",
    "- 피클파일 **→** 객체리스트로 읽기"
   ]
  },
  {
   "cell_type": "code",
   "execution_count": 9,
   "id": "efc122b6",
   "metadata": {},
   "outputs": [],
   "source": [
    "# ch09_member.txt 파일 → 객체list, 딕셔너리list로 읽어오기\n",
    "\n",
    "member_list = [] # member객체 list\n",
    "dict_list = [] # 딕셔너리 lsit\n",
    "with open('data/ch09_member.txt', 'r', encoding='utf-8') as f:\n",
    "    lines = f.readlines()\n",
    "for line in lines:\n",
    "    data = line.strip().split(', ')\n",
    "    name = data[0]\n",
    "    age = int(data[1])\n",
    "    email = data[2]\n",
    "    address = data[3]\n",
    "    member = Member(name, age, email, address)\n",
    "    member_list.append(member)\n",
    "    dict_list.append(member.__dict__)"
   ]
  },
  {
   "cell_type": "code",
   "execution_count": 10,
   "id": "d3e9daf0",
   "metadata": {},
   "outputs": [
    {
     "name": "stdout",
     "output_type": "stream",
     "text": [
      "홍길동,20,kildong@hong.com,서울시 관악구\n",
      "홍길숙,25,kilsuk1@hong.com,서울시 영등포구\n",
      "신길동,30,shinkil@hong.com,서울시 동작구\n"
     ]
    }
   ],
   "source": [
    "for member in member_list: # 객체 list\n",
    "    print(member)"
   ]
  },
  {
   "cell_type": "code",
   "execution_count": 11,
   "id": "de9f6b68",
   "metadata": {},
   "outputs": [],
   "source": [
    "# 피클링(확장자 : pkl, pickle, data)을 이용한 객체를 파일에 저장하기\n",
    "\n",
    "import pickle \n",
    "with open('data/ch09_member.pkl', 'wb') as f: # 피클로 저장할때는 꼭 'b'(바이너리) 로 저장해야함\n",
    "    pickle.dump(member_list, f) # dump : 저장해라"
   ]
  },
  {
   "cell_type": "code",
   "execution_count": 12,
   "id": "62dc803b",
   "metadata": {},
   "outputs": [],
   "source": [
    "# 피클링을 이용한 파일을 객체리스트로 읽기\n",
    "\n",
    "with open('data/ch09_member.pkl', 'rb') as f:\n",
    "    load_member_list = pickle.load(f)"
   ]
  },
  {
   "cell_type": "code",
   "execution_count": 13,
   "id": "0ee8b08b",
   "metadata": {},
   "outputs": [
    {
     "data": {
      "text/plain": [
       "(1789588116224, 1789571357952)"
      ]
     },
     "execution_count": 13,
     "metadata": {},
     "output_type": "execute_result"
    }
   ],
   "source": [
    "id(member_list), id(load_member_list)"
   ]
  },
  {
   "cell_type": "code",
   "execution_count": 15,
   "id": "f440cc3d",
   "metadata": {},
   "outputs": [
    {
     "name": "stdout",
     "output_type": "stream",
     "text": [
      "0 번째 비교 : True\n",
      "1 번째 비교 : True\n",
      "2 번째 비교 : True\n"
     ]
    }
   ],
   "source": [
    "for idx in range(len(member_list)):\n",
    "    print(idx, '번째 비교 :', (member_list[idx]==load_member_list[idx]))"
   ]
  },
  {
   "cell_type": "code",
   "execution_count": 17,
   "id": "2a1e5356",
   "metadata": {},
   "outputs": [
    {
     "name": "stdout",
     "output_type": "stream",
     "text": [
      "0 번째 비교 : True\n",
      "1 번째 비교 : True\n",
      "2 번째 비교 : True\n"
     ]
    }
   ],
   "source": [
    "for idx, (member, load_member) in enumerate(zip(member_list, load_member_list)):\n",
    "    print(idx, '번째 비교 :', member==load_member)"
   ]
  },
  {
   "cell_type": "code",
   "execution_count": 18,
   "id": "8394acd5",
   "metadata": {},
   "outputs": [
    {
     "data": {
      "text/plain": [
       "[True, True, True]"
      ]
     },
     "execution_count": 18,
     "metadata": {},
     "output_type": "execute_result"
    }
   ],
   "source": [
    "result = [] # 비교결과(True/False)를 append\n",
    "for member, load_member in zip(member_list, load_member_list):\n",
    "    result.append(member==load_member)\n",
    "result"
   ]
  },
  {
   "cell_type": "code",
   "execution_count": 19,
   "id": "9c904ffe",
   "metadata": {},
   "outputs": [
    {
     "data": {
      "text/plain": [
       "True"
      ]
     },
     "execution_count": 19,
     "metadata": {},
     "output_type": "execute_result"
    }
   ],
   "source": [
    "all(result) # 모든 요소들이 True인지 여부를 반환"
   ]
  },
  {
   "cell_type": "code",
   "execution_count": 20,
   "id": "2a78fa98",
   "metadata": {},
   "outputs": [
    {
     "data": {
      "text/plain": [
       "False"
      ]
     },
     "execution_count": 20,
     "metadata": {},
     "output_type": "execute_result"
    }
   ],
   "source": [
    "all([True, True, True, True, True, True, True, True, True, False])"
   ]
  },
  {
   "cell_type": "markdown",
   "id": "2d2094dd",
   "metadata": {},
   "source": [
    "# 3절. CSV파일 읽기/쓰기\n",
    "\n",
    "- CSV파일의 자료를 리스트 데이터로 읽고 쓰기 (3.1과 3.2)\n",
    "- CSV파일의 자료를 딕셔너리 데이터로 읽고 쓰기 (3.3과 3.4)\n",
    "\n",
    "## 3.1 reader"
   ]
  },
  {
   "cell_type": "code",
   "execution_count": 23,
   "id": "42e0ad2d",
   "metadata": {},
   "outputs": [
    {
     "data": {
      "text/plain": [
       "[['홍길동', '20', 'kildong@hong.com', '서울시 관악구'],\n",
       " ['김길동', '40', 'kimdong@hong.com', '서울시 영등포구'],\n",
       " ['신길동', '30', 'sindong@hong.com', '서울시 동작구']]"
      ]
     },
     "execution_count": 23,
     "metadata": {},
     "output_type": "execute_result"
    }
   ],
   "source": [
    "# 원래 빨대는 text밖에 못읽어서 보조빨대를 꽂는게 reader\n",
    "\n",
    "import csv\n",
    "with open('data/ch09_member1.csv', 'r', encoding='utf-8') as f:\n",
    "    reader = csv.reader(f)\n",
    "    result = list(reader) # 한번 더 감싸는 이유는 밖에서도 result를 보기 위해서\n",
    "result"
   ]
  },
  {
   "cell_type": "code",
   "execution_count": 24,
   "id": "c03f2ec3",
   "metadata": {},
   "outputs": [
    {
     "name": "stdout",
     "output_type": "stream",
     "text": [
      "['홍길동', '20', 'kildong@hong.com', '서울시 관악구', '']\n",
      "['김길동', '40', 'kimdong@hong.com', '서울시 영등포구', '팀장']\n",
      "['신길동', '30', 'sindong@hong.com', '서울시 동작구', '']\n"
     ]
    }
   ],
   "source": [
    "with open('data/ch09_member1-cp.csv','r') as f:\n",
    "    reader = csv.reader(f)\n",
    "    for row in reader:\n",
    "        print(row)"
   ]
  },
  {
   "cell_type": "code",
   "execution_count": 27,
   "id": "e1b130be",
   "metadata": {},
   "outputs": [
    {
     "name": "stdout",
     "output_type": "stream",
     "text": [
      "['홍길동', 20.0, 'kildong@hong.com', '서울시 관악구']\n",
      "['김길동', 40.0, 'kimdong@hong.com', '서울시 영등포구']\n",
      "['신길동', 30.0, 'sindong@hong.com', '서울시 동작구']\n"
     ]
    }
   ],
   "source": [
    "# \"\"(따옴표)가 없는 데이터는 numeric으로\n",
    "\n",
    "with open('data/ch09_member1.csv','r',encoding='utf-8') as f:\n",
    "    reader = csv.reader(f, quoting = csv.QUOTE_NONNUMERIC)\n",
    "    for row in reader:\n",
    "        print(row)"
   ]
  },
  {
   "cell_type": "markdown",
   "id": "4c772c42",
   "metadata": {},
   "source": [
    "## 3.2 writer\n",
    "\n",
    "- list → csv로 저장"
   ]
  },
  {
   "cell_type": "code",
   "execution_count": 28,
   "id": "73fdc5fc",
   "metadata": {},
   "outputs": [],
   "source": [
    "user_list = [['홍길동', 20.0, 'kildong@hong.com', '서울시 관악구'],\n",
    "             ['김길동', 40.0, 'kimdong@hong.com', '서울시 영등포구'],\n",
    "             ['신길동', 30.0, 'sindong@hong.com', '서울시 동작구']]"
   ]
  },
  {
   "cell_type": "code",
   "execution_count": 30,
   "id": "6078338c",
   "metadata": {},
   "outputs": [],
   "source": [
    "# newline='' 이 옵션을 빼면 개행이 2번 이루어짐. 모양이 안예뻐짐.(python 3.10 요즘 버전은 안그런다고함)\n",
    "try:\n",
    "    with open('data/ch09_member2-write.csv', 'w', encoding='utf-8', newline='') as f:\n",
    "        writer = csv.writer(f)\n",
    "        writer.writerows(user_list)\n",
    "except FileNotFoundError as e:\n",
    "    print(e)"
   ]
  },
  {
   "cell_type": "markdown",
   "id": "1dc98594",
   "metadata": {},
   "source": [
    "## 3.3 DictReader\n",
    "\n",
    "- CSV파일을 딕셔너리 데이터로 읽기"
   ]
  },
  {
   "cell_type": "code",
   "execution_count": 31,
   "id": "c87f3341",
   "metadata": {
    "collapsed": true
   },
   "outputs": [
    {
     "data": {
      "text/plain": [
       "[{'name': '홍길동',\n",
       "  'age': '20',\n",
       "  'email': 'h@h.com',\n",
       "  'address': '서울시 관악구',\n",
       "  'job': None},\n",
       " {'name': '신길동',\n",
       "  'age': '40',\n",
       "  'email': 's@h.com',\n",
       "  'address': '서울시 영등포구',\n",
       "  'job': '팀장'},\n",
       " {'name': '김길동',\n",
       "  'age': '30',\n",
       "  'email': 'k@h.com',\n",
       "  'address': '서울시 동작구',\n",
       "  'job': None}]"
      ]
     },
     "execution_count": 31,
     "metadata": {},
     "output_type": "execute_result"
    }
   ],
   "source": [
    "# header가 있는 csv파일을 딕셔너리로 읽기(ch09_member3.csv)\n",
    "\n",
    "import csv\n",
    "with open('data/ch09_member3.csv', 'r', encoding='utf-8') as f:\n",
    "    dict_reader = csv.DictReader(f)\n",
    "    result = list(dict_reader)\n",
    "result"
   ]
  },
  {
   "cell_type": "code",
   "execution_count": 32,
   "id": "6e52587b",
   "metadata": {},
   "outputs": [
    {
     "name": "stdout",
     "output_type": "stream",
     "text": [
      "{'name': '홍길동', 'age': '20', 'email': 'h@h.com', 'address': '서울시 관악구', 'job': '없음'}\n",
      "{'name': '신길동', 'age': '40', 'email': 's@h.com', 'address': '서울시 영등포구', 'job': '팀장'}\n",
      "{'name': '김길동', 'age': '30', 'email': 'k@h.com', 'address': '서울시 동작구', 'job': '없음'}\n"
     ]
    }
   ],
   "source": [
    "# header가 있는 csv파일을 딕셔너리로 읽기(ch09_member3.csv)\n",
    "\n",
    "import csv\n",
    "with open('data/ch09_member3.csv', 'r', encoding='utf-8') as f:\n",
    "    dict_reader = csv.DictReader(f, restval = '없음')\n",
    "    for row in dict_reader:\n",
    "        print(row)\n",
    "    "
   ]
  },
  {
   "cell_type": "code",
   "execution_count": 33,
   "id": "ed9a0bdd",
   "metadata": {},
   "outputs": [
    {
     "data": {
      "text/html": [
       "<div>\n",
       "<style scoped>\n",
       "    .dataframe tbody tr th:only-of-type {\n",
       "        vertical-align: middle;\n",
       "    }\n",
       "\n",
       "    .dataframe tbody tr th {\n",
       "        vertical-align: top;\n",
       "    }\n",
       "\n",
       "    .dataframe thead th {\n",
       "        text-align: right;\n",
       "    }\n",
       "</style>\n",
       "<table border=\"1\" class=\"dataframe\">\n",
       "  <thead>\n",
       "    <tr style=\"text-align: right;\">\n",
       "      <th></th>\n",
       "      <th>name</th>\n",
       "      <th>age</th>\n",
       "      <th>email</th>\n",
       "      <th>address</th>\n",
       "      <th>job</th>\n",
       "    </tr>\n",
       "  </thead>\n",
       "  <tbody>\n",
       "    <tr>\n",
       "      <th>0</th>\n",
       "      <td>홍길동</td>\n",
       "      <td>20</td>\n",
       "      <td>h@h.com</td>\n",
       "      <td>서울시 관악구</td>\n",
       "      <td>NaN</td>\n",
       "    </tr>\n",
       "    <tr>\n",
       "      <th>1</th>\n",
       "      <td>신길동</td>\n",
       "      <td>40</td>\n",
       "      <td>s@h.com</td>\n",
       "      <td>서울시 영등포구</td>\n",
       "      <td>팀장</td>\n",
       "    </tr>\n",
       "    <tr>\n",
       "      <th>2</th>\n",
       "      <td>김길동</td>\n",
       "      <td>30</td>\n",
       "      <td>k@h.com</td>\n",
       "      <td>서울시 동작구</td>\n",
       "      <td>NaN</td>\n",
       "    </tr>\n",
       "  </tbody>\n",
       "</table>\n",
       "</div>"
      ],
      "text/plain": [
       "  name  age    email   address  job\n",
       "0  홍길동   20  h@h.com   서울시 관악구  NaN\n",
       "1  신길동   40  s@h.com  서울시 영등포구   팀장\n",
       "2  김길동   30  k@h.com   서울시 동작구  NaN"
      ]
     },
     "execution_count": 33,
     "metadata": {},
     "output_type": "execute_result"
    }
   ],
   "source": [
    "# csv파일을 데이터프레임 데이터로 읽기\n",
    "\n",
    "import pandas as pd # pandas는 기본 인코딩 방식이 'utf-8'이라서 안써줘도 됨\n",
    "members = pd.read_csv('data/ch09_member3.csv')\n",
    "members"
   ]
  },
  {
   "cell_type": "code",
   "execution_count": 34,
   "id": "7312c07b",
   "metadata": {},
   "outputs": [
    {
     "data": {
      "text/plain": [
       "pandas.core.frame.DataFrame"
      ]
     },
     "execution_count": 34,
     "metadata": {},
     "output_type": "execute_result"
    }
   ],
   "source": [
    "type(members)"
   ]
  },
  {
   "cell_type": "code",
   "execution_count": 35,
   "id": "7247b5ac",
   "metadata": {},
   "outputs": [
    {
     "data": {
      "text/html": [
       "<div>\n",
       "<style scoped>\n",
       "    .dataframe tbody tr th:only-of-type {\n",
       "        vertical-align: middle;\n",
       "    }\n",
       "\n",
       "    .dataframe tbody tr th {\n",
       "        vertical-align: top;\n",
       "    }\n",
       "\n",
       "    .dataframe thead th {\n",
       "        text-align: right;\n",
       "    }\n",
       "</style>\n",
       "<table border=\"1\" class=\"dataframe\">\n",
       "  <thead>\n",
       "    <tr style=\"text-align: right;\">\n",
       "      <th></th>\n",
       "      <th>name</th>\n",
       "      <th>age</th>\n",
       "      <th>email</th>\n",
       "      <th>address</th>\n",
       "      <th>job</th>\n",
       "    </tr>\n",
       "  </thead>\n",
       "  <tbody>\n",
       "    <tr>\n",
       "      <th>0</th>\n",
       "      <td>홍길동</td>\n",
       "      <td>20</td>\n",
       "      <td>h@h.com</td>\n",
       "      <td>서울시 관악구</td>\n",
       "      <td>None</td>\n",
       "    </tr>\n",
       "    <tr>\n",
       "      <th>1</th>\n",
       "      <td>신길동</td>\n",
       "      <td>40</td>\n",
       "      <td>s@h.com</td>\n",
       "      <td>서울시 영등포구</td>\n",
       "      <td>팀장</td>\n",
       "    </tr>\n",
       "    <tr>\n",
       "      <th>2</th>\n",
       "      <td>김길동</td>\n",
       "      <td>30</td>\n",
       "      <td>k@h.com</td>\n",
       "      <td>서울시 동작구</td>\n",
       "      <td>None</td>\n",
       "    </tr>\n",
       "  </tbody>\n",
       "</table>\n",
       "</div>"
      ],
      "text/plain": [
       "  name age    email   address   job\n",
       "0  홍길동  20  h@h.com   서울시 관악구  None\n",
       "1  신길동  40  s@h.com  서울시 영등포구    팀장\n",
       "2  김길동  30  k@h.com   서울시 동작구  None"
      ]
     },
     "execution_count": 35,
     "metadata": {},
     "output_type": "execute_result"
    }
   ],
   "source": [
    "pd.DataFrame(data = result)"
   ]
  },
  {
   "cell_type": "code",
   "execution_count": 38,
   "id": "53b3ac55",
   "metadata": {},
   "outputs": [
    {
     "name": "stdout",
     "output_type": "stream",
     "text": [
      "{'Name': '홍길동', 'Age': '20', 'Email': 'kildong@hong.com', 'Address': '서울시 관악구', 'Job': ''}\n",
      "{'Name': '김길동', 'Age': '40', 'Email': 'kimdong@hong.com', 'Address': '서울시 영등포구', 'Job': '팀장'}\n",
      "{'Name': '신길동', 'Age': '30', 'Email': 'sindong@hong.com', 'Address': '서울시 동작구', 'Job': ''}\n"
     ]
    }
   ],
   "source": [
    "# header가 없는 csv파일을 딕셔너리로 읽기(ch09_member1-cp.csv)\n",
    "\n",
    "with open('data/ch09_member1-cp.csv', 'r') as f:\n",
    "    dict_reader = csv.DictReader(f, fieldnames=['Name','Age','Email','Address','Job'])\n",
    "    for row in dict_reader:\n",
    "        print(row)"
   ]
  },
  {
   "cell_type": "code",
   "execution_count": 39,
   "id": "35e3cb5e",
   "metadata": {},
   "outputs": [
    {
     "name": "stdout",
     "output_type": "stream",
     "text": [
      "{'Name': '홍길동', 'Age': '20', 'Email': 'kildong@hong.com', 'Address': '서울시 관악구', 'Job': ['']}\n",
      "{'Name': '김길동', 'Age': '40', 'Email': 'kimdong@hong.com', 'Address': '서울시 영등포구', 'Job': ['팀장']}\n",
      "{'Name': '신길동', 'Age': '30', 'Email': 'sindong@hong.com', 'Address': '서울시 동작구', 'Job': ['']}\n"
     ]
    }
   ],
   "source": [
    "# header가 없는 csv파일을 딕셔너리로 읽기(ch09_member1-cp.csv) + 빈칸 채우기\n",
    "\n",
    "with open('data/ch09_member1-cp.csv', 'r') as f:\n",
    "    dict_reader = csv.DictReader(f, fieldnames=['Name','Age','Email','Address'], restkey='Job')\n",
    "    for row in dict_reader:\n",
    "        print(row)"
   ]
  },
  {
   "cell_type": "markdown",
   "id": "b46a3e22",
   "metadata": {},
   "source": [
    "## 3.4 DIctWriter\n",
    "\n",
    "- 딕셔너리 데이터(딕셔너리list)를 csv파일로 쓰기"
   ]
  },
  {
   "cell_type": "code",
   "execution_count": 54,
   "id": "fc1a5764",
   "metadata": {},
   "outputs": [
    {
     "data": {
      "text/plain": [
       "[{'Name': '홍길동', 'Age': '20', 'Email': 'kildong@hong.com', 'Address': '서울'},\n",
       " {'Name': '김길동', 'Age': '40', 'Email': 'kimdong@hong.com', 'Address': '부산'},\n",
       " {'Name': '신길동', 'Age': '30', 'Email': 'sindong@hong.com', 'Address': '대전'}]"
      ]
     },
     "execution_count": 54,
     "metadata": {},
     "output_type": "execute_result"
    }
   ],
   "source": [
    "user1 = {'Name':'홍길동', 'Age':'20', 'Email':'kildong@hong.com', 'Address':'서울'}\n",
    "user2 = {'Name':'김길동', 'Age':'40', 'Email':'kimdong@hong.com', 'Address':'부산'}\n",
    "user3 = {'Name':'신길동', 'Age':'30', 'Email':'sindong@hong.com', 'Address':'대전'}\n",
    "user_list = [user1, user2, user3]\n",
    "user_list"
   ]
  },
  {
   "cell_type": "code",
   "execution_count": 55,
   "id": "ad82ff0f",
   "metadata": {},
   "outputs": [
    {
     "data": {
      "text/plain": [
       "['Name', 'Age', 'Email', 'Address']"
      ]
     },
     "execution_count": 55,
     "metadata": {},
     "output_type": "execute_result"
    }
   ],
   "source": [
    "fieldnames = list(user1.keys())\n",
    "fieldnames"
   ]
  },
  {
   "cell_type": "code",
   "execution_count": 56,
   "id": "8da5d2a5",
   "metadata": {},
   "outputs": [],
   "source": [
    "with open('data/ch09_member4.csv', 'w', encoding='utf-8', newline='') as f:\n",
    "    dic_writer = csv.DictWriter(f, fieldnames=fieldnames)\n",
    "    dic_writer.writeheader() #header 한줄 쓰기\n",
    "    dic_writer.writerows(user_list)"
   ]
  },
  {
   "cell_type": "markdown",
   "id": "5df11a97",
   "metadata": {},
   "source": [
    "# 4절. JSON 파일에 저장하고 불러오기(dump/load)\n",
    "\n",
    "```\n",
    "[{'title':'국가정보원 화재','url':'http://~','content':'내용'},\n",
    "{'title':'국가정보원 화재','url':'http://~','content':'내용'},\n",
    "{'title':'국가정보원 화재','url':'http://~','content':'내용'},]\n",
    "```\n",
    "\n",
    "## 4.1 JSON dump(파일에 저장)\n",
    "\n",
    "### (1) 딕셔너리 list를 json파일로 저장\n"
   ]
  },
  {
   "cell_type": "code",
   "execution_count": 53,
   "id": "ea271237",
   "metadata": {},
   "outputs": [
    {
     "data": {
      "text/plain": [
       "[{'Name': '홍길동', 'Age': 20, 'Email': 'kildong@hong.com', 'Address': '서울'},\n",
       " {'Name': '김길동', 'Age': 40, 'Email': 'kimdong@hong.com', 'Address': '부산'},\n",
       " {'Name': '신길동', 'Age': 30, 'Email': 'sindong@hong.com', 'Address': '대전'}]"
      ]
     },
     "execution_count": 53,
     "metadata": {},
     "output_type": "execute_result"
    }
   ],
   "source": [
    "data = [{'Name': '홍길동','Age': 20,'Email': 'kildong@hong.com','Address': '서울'},\n",
    "        {'Name': '김길동','Age': 40,'Email': 'kimdong@hong.com','Address': '부산'},\n",
    "        {'Name': '신길동','Age': 30,'Email': 'sindong@hong.com','Address': '대전'}]\n",
    "data"
   ]
  },
  {
   "cell_type": "code",
   "execution_count": 57,
   "id": "9d885dd3",
   "metadata": {},
   "outputs": [],
   "source": [
    "import json\n",
    "with open('data/ch09_member1.json', 'w') as jsonfile:\n",
    "    json.dump(data,     # 딕셔너리 리스트\n",
    "              jsonfile,)# 파일 스트림 \n",
    "    \n",
    "# [{\"Name\": \"\\ud64d\\uae38\\ub3d9\", \"Age\": 20, \"Email\": \"kildong@hong.com\", \"Address\": \"\\uc11c\\uc6b8\"} 그럼 이런식으로 저장됨"
   ]
  },
  {
   "cell_type": "code",
   "execution_count": 59,
   "id": "b1c1c55c",
   "metadata": {},
   "outputs": [],
   "source": [
    "# 위의 한글데이터를 제대로 보기 위해서 추가해야할것\n",
    "# ensure_ascii 옵션의 역할 : ASCII 코드를 넘어선 문자를 어떻게 처리할지\n",
    "# 기본값(True) : ASCII 코드를 넘어선 글자는 유니코드로 저장\n",
    "# False : 비ASCII 문자는 원래 형태로 그대로 저장 \n",
    "\n",
    "import json\n",
    "with open('data/ch09_member1.json', 'w') as jsonfile:\n",
    "    json.dump(data,              # 딕셔너리 리스트\n",
    "              jsonfile,          # 파일 스트림\n",
    "             ensure_ascii=False, # 비ASCII코드 문자처리 여부\n",
    "             indent='  ')        # 들여쓰기 여부"
   ]
  },
  {
   "cell_type": "markdown",
   "id": "e4035528",
   "metadata": {},
   "source": [
    "### (2) 객체 list를 json파일로 저장\n",
    "\n",
    "- 객체를 딕셔너리로 바꾸는 함수 필요"
   ]
  },
  {
   "cell_type": "code",
   "execution_count": 91,
   "id": "5a26c6fa",
   "metadata": {},
   "outputs": [],
   "source": [
    "class Member:\n",
    "    def __init__(self, name, age, email, address):\n",
    "        self.name = name\n",
    "        self.age = age\n",
    "        self.email = email\n",
    "        self.address = address\n",
    "    def __str__(self):\n",
    "        return '{},{},{},{}'.format(self.name, self.age, self.email, self.address)\n",
    "    def __eq__(self, other):\n",
    "        return self.__str__() == other.__str__()\n",
    "    def as_dict(self):\n",
    "        '객체를 딕셔너리로 바꿔 return(json파일 저장시 필요)'\n",
    "        return self.__dict__"
   ]
  },
  {
   "cell_type": "code",
   "execution_count": 92,
   "id": "ccb33267",
   "metadata": {},
   "outputs": [
    {
     "data": {
      "text/plain": [
       "['홍길동,30,h@h.com,서울', '마길동,25,m@m.com,하남', '박길동,30,p@p.com,대전']"
      ]
     },
     "execution_count": 92,
     "metadata": {},
     "output_type": "execute_result"
    }
   ],
   "source": [
    "member_list = [Member('홍길동', 30, 'h@h.com', '서울'),\n",
    "              Member('마길동', 25, 'm@m.com', '하남'),\n",
    "              Member('박길동', 30, 'p@p.com', '대전')]\n",
    "[member.__str__() for member in member_list]"
   ]
  },
  {
   "cell_type": "code",
   "execution_count": 93,
   "id": "c1e7b486",
   "metadata": {},
   "outputs": [],
   "source": [
    "with open('data/ch09_member2.json', 'w', encoding='utf-8') as jsonfile:\n",
    "    json.dump(member_list, # 저장할 리스트(객체 리스트)\n",
    "             jsonfile,\n",
    "             ensure_ascii=False,\n",
    "             indent='\\t',\n",
    "             default=Member.as_dict) # 객체를 딕셔너리형태로 return하는 함수"
   ]
  },
  {
   "cell_type": "markdown",
   "id": "fdf3a3ce",
   "metadata": {},
   "source": [
    "## 4.2 JSON load(파일읽기)\n",
    "\n",
    "### (1) JSON파일을 딕셔너리 리스트로 읽기"
   ]
  },
  {
   "cell_type": "code",
   "execution_count": 67,
   "id": "68eff94b",
   "metadata": {},
   "outputs": [
    {
     "data": {
      "text/plain": [
       "[{'Name': '홍길동', 'Age': 20, 'Email': 'kildong@hong.com', 'Address': '서울'},\n",
       " {'Name': '김길동', 'Age': 40, 'Email': 'kimdong@hong.com', 'Address': '부산'},\n",
       " {'Name': '신길동', 'Age': 30, 'Email': 'sindong@hong.com', 'Address': '대전'}]"
      ]
     },
     "execution_count": 67,
     "metadata": {},
     "output_type": "execute_result"
    }
   ],
   "source": [
    "with open('data/ch09_member1.json', 'r') as f:\n",
    "    load_data = json.load(f)\n",
    "load_data"
   ]
  },
  {
   "cell_type": "code",
   "execution_count": 68,
   "id": "07f4aa4f",
   "metadata": {},
   "outputs": [
    {
     "data": {
      "text/plain": [
       "(list, dict)"
      ]
     },
     "execution_count": 68,
     "metadata": {},
     "output_type": "execute_result"
    }
   ],
   "source": [
    "type(load_data), type(load_data[0])"
   ]
  },
  {
   "cell_type": "markdown",
   "id": "19935c21",
   "metadata": {},
   "source": [
    "### (2) JSON파일을 객체 리스트로 읽기\n",
    "\n",
    "- 딕셔너리를 객체로 return하는 함수 필요"
   ]
  },
  {
   "cell_type": "code",
   "execution_count": 95,
   "id": "fc4f6a69",
   "metadata": {},
   "outputs": [],
   "source": [
    "# {'name': '홍길동', 'age': 20, 'email': 'h@hong.com', 'address': '서울'} → Member('홍길동',30,'h@hong.com','서울')\n",
    "\n",
    "def as_member(dic):\n",
    "#    return Member(dic['name'], dic['age'], dic['email'], dic['address']) 이건 없으면 에러나니까 비추\n",
    "    return Member(dic.get('name'), dic.get('age'), dic.get('email'), dic.get('address'))"
   ]
  },
  {
   "cell_type": "code",
   "execution_count": 96,
   "id": "c96614c4",
   "metadata": {},
   "outputs": [
    {
     "name": "stdout",
     "output_type": "stream",
     "text": [
      "홍길동,30,h@h.com,서울\n",
      "마길동,25,m@m.com,하남\n",
      "박길동,30,p@p.com,대전\n"
     ]
    }
   ],
   "source": [
    "with open('data/ch09_member2.json', 'r', encoding='utf-8') as jsonfile:\n",
    "    load_member_list = json.load(jsonfile, \n",
    "                                 object_hook=as_member) # 딕셔너리를 객체로 return 함수\n",
    "for load_member in load_member_list:\n",
    "    print(load_member)"
   ]
  },
  {
   "cell_type": "code",
   "execution_count": 97,
   "id": "0b14897e",
   "metadata": {},
   "outputs": [],
   "source": [
    "# member_list -> ch09_member2.json -> load_member_list\n",
    "# member_list 와 load_member_list 가 같은 내용인지 검사\n",
    "# 내가 해본것\n",
    "class Member2:\n",
    "    def __init__(self, name, age, email, address):\n",
    "        self.name = name\n",
    "        self.age = age\n",
    "        self.email = email\n",
    "        slef.address = address\n",
    "    def __str__(self):\n",
    "        return '{},{},{},{}'.format(self.name, self.age, self.email, self.address)\n",
    "    def __eq__(self, other):\n",
    "        return self.__str__() == other.__str__()\n",
    "    def as_dict(self):\n",
    "        return self.__dict__"
   ]
  },
  {
   "cell_type": "code",
   "execution_count": 100,
   "id": "d7c795af",
   "metadata": {},
   "outputs": [
    {
     "name": "stdout",
     "output_type": "stream",
     "text": [
      "True\n"
     ]
    }
   ],
   "source": [
    "print(member_list == load_member_list)"
   ]
  },
  {
   "cell_type": "code",
   "execution_count": 99,
   "id": "3adcb835",
   "metadata": {},
   "outputs": [
    {
     "name": "stdout",
     "output_type": "stream",
     "text": [
      "두 객체 리스트의 모든 데이터가 일치하는지 여부 : True\n"
     ]
    }
   ],
   "source": [
    "# 답\n",
    "\n",
    "result = []\n",
    "for member, load_member in zip(member_list, load_member_list):\n",
    "    result.append(member==load_member)\n",
    "print('두 객체 리스트의 모든 데이터가 일치하는지 여부 :', all(result))"
   ]
  },
  {
   "cell_type": "code",
   "execution_count": 90,
   "id": "4a9a9a1b",
   "metadata": {},
   "outputs": [
    {
     "data": {
      "text/plain": [
       "numpy.ndarray"
      ]
     },
     "execution_count": 90,
     "metadata": {},
     "output_type": "execute_result"
    }
   ],
   "source": [
    "# False인 곳의 index가 궁금?\n",
    "\n",
    "import numpy as np\n",
    "result = np.array([True, True, True, False, True]) # 배열\n",
    "type(result)"
   ]
  },
  {
   "cell_type": "code",
   "execution_count": 101,
   "id": "a287b159",
   "metadata": {},
   "outputs": [
    {
     "data": {
      "text/plain": [
       "{True}"
      ]
     },
     "execution_count": 101,
     "metadata": {},
     "output_type": "execute_result"
    }
   ],
   "source": [
    "# all(result) 대신 확인용\n",
    "\n",
    "result = set() # 빈셋/ {}:빈딕셔너리\n",
    "for member, load_member in zip(member_list, load_member_list):\n",
    "    result.add(member == load_member)\n",
    "result"
   ]
  },
  {
   "cell_type": "markdown",
   "id": "f1d38dc9",
   "metadata": {},
   "source": [
    "# 5절. hdf5파일 쓰기/읽기\n",
    "\n",
    "- *.hdf5나 *.h5 파일을 볼 수 있는 hdfviewer를 설치\n",
    "- 딕셔너리 리스트, 데이터프레임, 딥러닝 모델"
   ]
  },
  {
   "cell_type": "code",
   "execution_count": 2,
   "id": "c87de547",
   "metadata": {},
   "outputs": [
    {
     "data": {
      "text/html": [
       "<div>\n",
       "<style scoped>\n",
       "    .dataframe tbody tr th:only-of-type {\n",
       "        vertical-align: middle;\n",
       "    }\n",
       "\n",
       "    .dataframe tbody tr th {\n",
       "        vertical-align: top;\n",
       "    }\n",
       "\n",
       "    .dataframe thead th {\n",
       "        text-align: right;\n",
       "    }\n",
       "</style>\n",
       "<table border=\"1\" class=\"dataframe\">\n",
       "  <thead>\n",
       "    <tr style=\"text-align: right;\">\n",
       "      <th></th>\n",
       "      <th>sepal_length</th>\n",
       "      <th>sepal_width</th>\n",
       "      <th>petal_length</th>\n",
       "      <th>petal_width</th>\n",
       "      <th>species</th>\n",
       "    </tr>\n",
       "  </thead>\n",
       "  <tbody>\n",
       "    <tr>\n",
       "      <th>0</th>\n",
       "      <td>5.1</td>\n",
       "      <td>3.5</td>\n",
       "      <td>1.4</td>\n",
       "      <td>0.2</td>\n",
       "      <td>setosa</td>\n",
       "    </tr>\n",
       "    <tr>\n",
       "      <th>1</th>\n",
       "      <td>4.9</td>\n",
       "      <td>3.0</td>\n",
       "      <td>1.4</td>\n",
       "      <td>0.2</td>\n",
       "      <td>setosa</td>\n",
       "    </tr>\n",
       "    <tr>\n",
       "      <th>2</th>\n",
       "      <td>4.7</td>\n",
       "      <td>3.2</td>\n",
       "      <td>1.3</td>\n",
       "      <td>0.2</td>\n",
       "      <td>setosa</td>\n",
       "    </tr>\n",
       "    <tr>\n",
       "      <th>3</th>\n",
       "      <td>4.6</td>\n",
       "      <td>3.1</td>\n",
       "      <td>1.5</td>\n",
       "      <td>0.2</td>\n",
       "      <td>setosa</td>\n",
       "    </tr>\n",
       "    <tr>\n",
       "      <th>4</th>\n",
       "      <td>5.0</td>\n",
       "      <td>3.6</td>\n",
       "      <td>1.4</td>\n",
       "      <td>0.2</td>\n",
       "      <td>setosa</td>\n",
       "    </tr>\n",
       "    <tr>\n",
       "      <th>...</th>\n",
       "      <td>...</td>\n",
       "      <td>...</td>\n",
       "      <td>...</td>\n",
       "      <td>...</td>\n",
       "      <td>...</td>\n",
       "    </tr>\n",
       "    <tr>\n",
       "      <th>145</th>\n",
       "      <td>6.7</td>\n",
       "      <td>3.0</td>\n",
       "      <td>5.2</td>\n",
       "      <td>2.3</td>\n",
       "      <td>virginica</td>\n",
       "    </tr>\n",
       "    <tr>\n",
       "      <th>146</th>\n",
       "      <td>6.3</td>\n",
       "      <td>2.5</td>\n",
       "      <td>5.0</td>\n",
       "      <td>1.9</td>\n",
       "      <td>virginica</td>\n",
       "    </tr>\n",
       "    <tr>\n",
       "      <th>147</th>\n",
       "      <td>6.5</td>\n",
       "      <td>3.0</td>\n",
       "      <td>5.2</td>\n",
       "      <td>2.0</td>\n",
       "      <td>virginica</td>\n",
       "    </tr>\n",
       "    <tr>\n",
       "      <th>148</th>\n",
       "      <td>6.2</td>\n",
       "      <td>3.4</td>\n",
       "      <td>5.4</td>\n",
       "      <td>2.3</td>\n",
       "      <td>virginica</td>\n",
       "    </tr>\n",
       "    <tr>\n",
       "      <th>149</th>\n",
       "      <td>5.9</td>\n",
       "      <td>3.0</td>\n",
       "      <td>5.1</td>\n",
       "      <td>1.8</td>\n",
       "      <td>virginica</td>\n",
       "    </tr>\n",
       "  </tbody>\n",
       "</table>\n",
       "<p>150 rows × 5 columns</p>\n",
       "</div>"
      ],
      "text/plain": [
       "     sepal_length  sepal_width  petal_length  petal_width    species\n",
       "0             5.1          3.5           1.4          0.2     setosa\n",
       "1             4.9          3.0           1.4          0.2     setosa\n",
       "2             4.7          3.2           1.3          0.2     setosa\n",
       "3             4.6          3.1           1.5          0.2     setosa\n",
       "4             5.0          3.6           1.4          0.2     setosa\n",
       "..            ...          ...           ...          ...        ...\n",
       "145           6.7          3.0           5.2          2.3  virginica\n",
       "146           6.3          2.5           5.0          1.9  virginica\n",
       "147           6.5          3.0           5.2          2.0  virginica\n",
       "148           6.2          3.4           5.4          2.3  virginica\n",
       "149           5.9          3.0           5.1          1.8  virginica\n",
       "\n",
       "[150 rows x 5 columns]"
      ]
     },
     "execution_count": 2,
     "metadata": {},
     "output_type": "execute_result"
    }
   ],
   "source": [
    "# seaborn : 파이썬에서 데이터 시각화를 도와주는 라이브러리\n",
    "# numpy 나 pandas처럼 많은 개발자들이 sns로 불러옴\n",
    "\n",
    "# 꽃의 종, 꽂받침 길이, 꽃받침 너비, 꽃잎 길이, 꽃잎 너비\n",
    "import seaborn as sns\n",
    "iris_df = sns.load_dataset('iris')\n",
    "iris_df # print를 하면 가독성 떨어짐. 할거면 display()로 감싸야함"
   ]
  },
  {
   "cell_type": "code",
   "execution_count": 3,
   "id": "5e363569",
   "metadata": {},
   "outputs": [],
   "source": [
    "# 데이터 프레임을 hdf파일로 쓰기\n",
    "\n",
    "iris_df.to_hdf('data/ch09_irisdf.hdf5', key='iris') # 데이터 저장할때 키 필수!"
   ]
  },
  {
   "cell_type": "code",
   "execution_count": 5,
   "id": "6fc03de9",
   "metadata": {},
   "outputs": [
    {
     "data": {
      "text/html": [
       "<div>\n",
       "<style scoped>\n",
       "    .dataframe tbody tr th:only-of-type {\n",
       "        vertical-align: middle;\n",
       "    }\n",
       "\n",
       "    .dataframe tbody tr th {\n",
       "        vertical-align: top;\n",
       "    }\n",
       "\n",
       "    .dataframe thead th {\n",
       "        text-align: right;\n",
       "    }\n",
       "</style>\n",
       "<table border=\"1\" class=\"dataframe\">\n",
       "  <thead>\n",
       "    <tr style=\"text-align: right;\">\n",
       "      <th></th>\n",
       "      <th>sepal_length</th>\n",
       "      <th>sepal_width</th>\n",
       "      <th>petal_length</th>\n",
       "      <th>petal_width</th>\n",
       "      <th>species</th>\n",
       "    </tr>\n",
       "  </thead>\n",
       "  <tbody>\n",
       "    <tr>\n",
       "      <th>0</th>\n",
       "      <td>5.1</td>\n",
       "      <td>3.5</td>\n",
       "      <td>1.4</td>\n",
       "      <td>0.2</td>\n",
       "      <td>setosa</td>\n",
       "    </tr>\n",
       "    <tr>\n",
       "      <th>1</th>\n",
       "      <td>4.9</td>\n",
       "      <td>3.0</td>\n",
       "      <td>1.4</td>\n",
       "      <td>0.2</td>\n",
       "      <td>setosa</td>\n",
       "    </tr>\n",
       "    <tr>\n",
       "      <th>2</th>\n",
       "      <td>4.7</td>\n",
       "      <td>3.2</td>\n",
       "      <td>1.3</td>\n",
       "      <td>0.2</td>\n",
       "      <td>setosa</td>\n",
       "    </tr>\n",
       "    <tr>\n",
       "      <th>3</th>\n",
       "      <td>4.6</td>\n",
       "      <td>3.1</td>\n",
       "      <td>1.5</td>\n",
       "      <td>0.2</td>\n",
       "      <td>setosa</td>\n",
       "    </tr>\n",
       "    <tr>\n",
       "      <th>4</th>\n",
       "      <td>5.0</td>\n",
       "      <td>3.6</td>\n",
       "      <td>1.4</td>\n",
       "      <td>0.2</td>\n",
       "      <td>setosa</td>\n",
       "    </tr>\n",
       "    <tr>\n",
       "      <th>...</th>\n",
       "      <td>...</td>\n",
       "      <td>...</td>\n",
       "      <td>...</td>\n",
       "      <td>...</td>\n",
       "      <td>...</td>\n",
       "    </tr>\n",
       "    <tr>\n",
       "      <th>145</th>\n",
       "      <td>6.7</td>\n",
       "      <td>3.0</td>\n",
       "      <td>5.2</td>\n",
       "      <td>2.3</td>\n",
       "      <td>virginica</td>\n",
       "    </tr>\n",
       "    <tr>\n",
       "      <th>146</th>\n",
       "      <td>6.3</td>\n",
       "      <td>2.5</td>\n",
       "      <td>5.0</td>\n",
       "      <td>1.9</td>\n",
       "      <td>virginica</td>\n",
       "    </tr>\n",
       "    <tr>\n",
       "      <th>147</th>\n",
       "      <td>6.5</td>\n",
       "      <td>3.0</td>\n",
       "      <td>5.2</td>\n",
       "      <td>2.0</td>\n",
       "      <td>virginica</td>\n",
       "    </tr>\n",
       "    <tr>\n",
       "      <th>148</th>\n",
       "      <td>6.2</td>\n",
       "      <td>3.4</td>\n",
       "      <td>5.4</td>\n",
       "      <td>2.3</td>\n",
       "      <td>virginica</td>\n",
       "    </tr>\n",
       "    <tr>\n",
       "      <th>149</th>\n",
       "      <td>5.9</td>\n",
       "      <td>3.0</td>\n",
       "      <td>5.1</td>\n",
       "      <td>1.8</td>\n",
       "      <td>virginica</td>\n",
       "    </tr>\n",
       "  </tbody>\n",
       "</table>\n",
       "<p>150 rows × 5 columns</p>\n",
       "</div>"
      ],
      "text/plain": [
       "     sepal_length  sepal_width  petal_length  petal_width    species\n",
       "0             5.1          3.5           1.4          0.2     setosa\n",
       "1             4.9          3.0           1.4          0.2     setosa\n",
       "2             4.7          3.2           1.3          0.2     setosa\n",
       "3             4.6          3.1           1.5          0.2     setosa\n",
       "4             5.0          3.6           1.4          0.2     setosa\n",
       "..            ...          ...           ...          ...        ...\n",
       "145           6.7          3.0           5.2          2.3  virginica\n",
       "146           6.3          2.5           5.0          1.9  virginica\n",
       "147           6.5          3.0           5.2          2.0  virginica\n",
       "148           6.2          3.4           5.4          2.3  virginica\n",
       "149           5.9          3.0           5.1          1.8  virginica\n",
       "\n",
       "[150 rows x 5 columns]"
      ]
     },
     "execution_count": 5,
     "metadata": {},
     "output_type": "execute_result"
    }
   ],
   "source": [
    "# hdf파일을 데이터프레임으로 읽어오기\n",
    "\n",
    "import pandas as pd\n",
    "load_iris_df = pd.read_hdf('data/ch09_irisdf.hdf5', key='iris')\n",
    "load_iris_df"
   ]
  },
  {
   "cell_type": "markdown",
   "id": "e6d9c3d2",
   "metadata": {},
   "source": [
    "# 6절. 연습문제 : 고객관리\n",
    "\n",
    "## 6.1 실습형\n",
    "\n",
    "- 프로그램 시작시\n",
    "    * data/ch09_customers.txt(프로그램 종료시 백업용 데이터)파일이 있으면 파일을 customer_list에\n",
    "    * data/ch09_customers.txt 파일이 없으면 빈 파일 생성(w모드 열어 close)\n",
    "    * data/ch09_customers.txt 파일 내용\n",
    "    ```\n",
    "        홍길동, 010-9999-9999, k@hong.com, 30, 5, vvip\n",
    "        유길동, 010-5432-2222, y@hong.com, 20, 2, 가칠해\n",
    "    ```\n",
    "    \n",
    "### Customer 클래스 작성\n",
    "\n",
    "        * Customer('홍길동', '010-9999-9999', 'h@h', 30, 2, '기타') 객체 생성\n",
    "                    name     phone          email  age grade etc\n",
    "        * 함수 : __init__, __str__, as_dict(객체를 딕셔너리로 return), to_txt_style(객체를 text로)"
   ]
  },
  {
   "cell_type": "code",
   "execution_count": null,
   "id": "48b41792",
   "metadata": {},
   "outputs": [],
   "source": [
    "## to_customer(text):\n",
    "##    return Customer 객체"
   ]
  },
  {
   "cell_type": "code",
   "execution_count": null,
   "id": "cf782c8d",
   "metadata": {},
   "outputs": [],
   "source": [
    "# 기능별 함수를 작성한다.\n",
    "# 실행하면 data/ch09_customers.txt파일의 내용을 load(customer_list).\n",
    "# 파일이 존재하지 않으면 빈 customers.txt파일을 생성하고 데이터는 customer_list = []\n",
    "# 종료시 data/ch09_customers.txt에 백업후 종료(9번 기능)\n",
    "\n",
    "if __name__ == '__main__':\n",
    "    main()\n",
    "    \n",
    "'''\n",
    "\n",
    "    데이터가 로드 되었습니다.\n",
    "    1:입력|2:전체출력|3:삭제|4:이름찾기|5:내보내기(CSV)|9:종료 메뉴 선택 : 1\n",
    "    이름 : 홍길동\n",
    "    전화번호 : 010-8888-8888\n",
    "    이메일 : hong2@abc.com\n",
    "    나이 : 31\n",
    "    고객등급(1~5) : 5\n",
    "    기타 정보 : abc\n",
    "    1:입력|2:전체출력|3:삭제|4:이름찾기|5:내보내기(CSV)|9:종료 메뉴 선택 : 2\n",
    "    ========================================================\n",
    "                            고객 정보\n",
    "    --------------------------------------------------------\n",
    "    GRADE  이름   전화          메일               나이  기타\n",
    "    ========================================================\n",
    "       ** 유길동 010-5432-2222  yu@hong.com       20   까칠해\n",
    "    ***** 홍길동 010-9999-9999  hong@mega_it.com  30   열심히\n",
    "    ***** 홍길동 010-8888-8888  hong2@abc.com     31   abc\n",
    "    ========================================================\n",
    "    1:입력|2:전체출력|3:삭제|4:이름찾기|5:내보내기(CSV)|9:종료 메뉴 선택 : 4\n",
    "    찾을 고객 이름은? 홍길동\n",
    "     ========================================================\n",
    "                            고객 정보\n",
    "    --------------------------------------------------------\n",
    "    GRADE  이름   전화          메일               나이  기타\n",
    "    ========================================================\n",
    "    ***** 홍길동 010-9999-9999  hong@mega_it.com  30   열심히\n",
    "    ***** 홍길동 010-8888-8888  hong2@abc.com     31   abc\n",
    "    ========================================================\n",
    "    1:입력|2:전체출력|3:삭제|4:이름찾기|5:내보내기(CSV)|9:종료 메뉴 선택 : 5\n",
    "    저장할 파일이름은 : abc.csv\n",
    "    CSV 파일이 저장되었습니다. 파일명은 abc.csv\n",
    "    1:입력|2:전체출력|3:삭제|4:이름찾기|5:내보내기(CSV)|9:종료 메뉴 선택 : 4\n",
    "    찾을 고객 이름은? 유길동\n",
    "    ========================================================\n",
    "                            고객 정보\n",
    "    --------------------------------------------------------\n",
    "    GRADE  이름   전화          메일               나이  기타\n",
    "    ========================================================\n",
    "       ** 유길동 010-5432-2222  yu@hong.com       20   까칠해\n",
    "    ========================================================\n",
    "    1:입력|2:전체출력|3:삭제|4:이름찾기|5:내보내기(CSV)|9:종료 메뉴 선택 : 9\n",
    "\n",
    "'''"
   ]
  },
  {
   "cell_type": "code",
   "execution_count": null,
   "id": "9e78cd61",
   "metadata": {},
   "outputs": [],
   "source": [
    "class Customer:\n",
    "    def __init__(self, name, phone, email, age, grade, etc):\n",
    "    def as_dic (self): # 객체를 딕셔너리데이터로 반환 (csv 파일 저장시)\n",
    "    def to_list_style (self): # 객체를 text return('홍길동 010 8999 9999, e@e.com, 20, 3, 까칠해')\n",
    "    def __str__(self): # ***홍길동 010 8999 9999 e@e.com 20 까칠해\n",
    "def to_customer (row): # txt 파일 내용 한줄 (홍길동 , 010 8999 9999, e@e.com, 20, 3, 까칠해)을 Customer 객체로 반환\n",
    "\n",
    "# 0.실행하면 data/ch09_customers.txt 파일의 내용을 load( customer_list )\n",
    "#        data/ch09_customers.txt이 존재하지 않으면\n",
    "#                빈 data/ch09_customers.txt 파일을 생성하고\n",
    "#                        데이터는 customer_list = []\n",
    "\n",
    "def load_customers():\n",
    "\n",
    "# 1. 입력\n",
    "def fn1_insert_customer_info():\n",
    "\n",
    "# 2. 전체 출력\n",
    "def fn2_print_customers(customer_list):\n",
    "\n",
    "# 3. 삭제 (동명이인이 있다고 할지 동명이인이 없다고 할지 미리 정해놓고 구현)\n",
    "def fn3_delete_customer(customer_list):\n",
    "\n",
    "# 4.이름찾기 (동명이인이 있다고 할지 없다고 할지 정한대로 구현)\n",
    "def fn4_search_customer(customer_list):\n",
    "\n",
    "# 5.내보내기 (CSV)\n",
    "def fn5_save_customer_csv(customer_list):\n",
    "\n",
    "# 9.종료 (종료하기 전 customer_list 를 txt 파일에 저장하고 종료)\n",
    "def fn9_save_customer_txt(customer_list):\n",
    "    \n",
    "\n",
    "def main():\n",
    "    global customer_list\n",
    "    customer_list = load_customers() # ch09_customers.txt의 내용을 load\n",
    "    while True:\n",
    "        print(\"1:입력 \",\" 전체출력 \",\" 삭제 \",\" 이름찾기 \",\" 내보내기 (CSV)\", \" 종료 \", sep='|', end='')\n",
    "        fn = int(input('메뉴선택 : '))\n",
    "        if fn == 1:\n",
    "            customer = fn1_insert_customer_info() #입력받은 내용으로 customer 객체를 반환\n",
    "            customer_list.append(customer)\n",
    "        elif fn == 2:\n",
    "            fn2_print_customers(customer_list)\n",
    "        elif fn == 3:\n",
    "            fn3_delete_customer(customer_list)\n",
    "        elif fn == 4:\n",
    "            fn4_search_customer(customer_list)\n",
    "        elif fn == 5:\n",
    "            fn5_save_customer_csv(customer_list)\n",
    "        elif fn == 9:\n",
    "            fn9_save_customer_txt(customer_list)\n",
    "            break\n",
    "if __name__ == '__main__':\n",
    "    main()"
   ]
  },
  {
   "cell_type": "code",
   "execution_count": 1,
   "id": "4689d5db",
   "metadata": {},
   "outputs": [],
   "source": [
    "# 클래스 생성\n",
    "\n",
    "class Customer:\n",
    "    '고객데이터'\n",
    "    def __init__(self, name, phone, email, age, grade, etc):\n",
    "        self.name = name\n",
    "        self.phone = phone\n",
    "        self.email = email\n",
    "        self.age = age\n",
    "        self.grade = grade\n",
    "        self.etc = etc\n",
    "    def as_dic (self):\n",
    "        return self.__dict__\n",
    "    def to_txt_style (self):\n",
    "        return '{},{},{},{},{}'.format(self.name, self.phone, self.email, self.age, self.grade, self.etc)\n",
    "    def __str__(self): \n",
    "        return '{:>5}\\t{:^3}\\t{:^13}\\t{:^10}\\t{}\\t{}'.format('*'*self.grade, self.name, self.phone, self.email, self.age, self.etc)\n"
   ]
  },
  {
   "cell_type": "code",
   "execution_count": 2,
   "id": "d8e4e206",
   "metadata": {},
   "outputs": [
    {
     "name": "stdout",
     "output_type": "stream",
     "text": [
      "  ***\t홍길동\t010-9999-9999\t h@h.com  \t20\t기타\n",
      "*****\t홍길동\t010-9999-9999\t h@h.com  \t25\t기타\n",
      "홍길동,010-9999-9999,h@h.com,20,3\n",
      "{'name': '홍길동', 'phone': '010-9999-9999', 'email': 'h@h.com', 'age': 20, 'grade': 3, 'etc': '기타'}\n"
     ]
    }
   ],
   "source": [
    "#테스트\n",
    "\n",
    "c1 = Customer('홍길동','010-9999-9999','h@h.com',20,3,'기타')\n",
    "c2 = Customer('홍길동','010-9999-9999','h@h.com',25,5,'기타')\n",
    "print(c1)\n",
    "print(c2)\n",
    "print(c1.to_txt_style())\n",
    "print(c1.as_dic())"
   ]
  },
  {
   "cell_type": "code",
   "execution_count": 3,
   "id": "0881dbed",
   "metadata": {},
   "outputs": [],
   "source": [
    "# 함수정의\n",
    "\n",
    "def to_customer(text):\n",
    "    'text 파일 내용 한줄(홍길동, 010-9999-9999, h@h.com, 20, 3, 까칠해)을 Customer 객체로 반환'\n",
    "    data = text.strip().split(', ')\n",
    "    name = data[0]\n",
    "    phone = data[1]\n",
    "    email = data[2]\n",
    "    age = int(data[3])\n",
    "    grade = int(data[4])\n",
    "    etc = data[5]\n",
    "    return Customer(name, phone, email, age, grade, etc)   "
   ]
  },
  {
   "cell_type": "code",
   "execution_count": 4,
   "id": "7234f42e",
   "metadata": {},
   "outputs": [
    {
     "name": "stdout",
     "output_type": "stream",
     "text": [
      "   **\t유길동\t010-5432-2222\ty@hong.com\t20\t가칠해\n"
     ]
    }
   ],
   "source": [
    "# 테스트\n",
    "\n",
    "customer = to_customer('유길동, 010-5432-2222, y@hong.com, 20, 2, 가칠해')\n",
    "print(customer)"
   ]
  },
  {
   "cell_type": "markdown",
   "id": "78d06080",
   "metadata": {},
   "source": [
    "### 0. 처음 실행\n",
    "\n",
    "```\n",
    "\n",
    "data/ch09_customers.txt 파일의 내용을 load(to_customer()함수를 이용해서 customer_list append)\n",
    "data/ch09_customers.txt 파일이 존재하지 않으면(예외발생)\n",
    "    빈 data/ch09_customers.txt 파일 생성(w모드로 열고 닫으면) f.write('') customer_list = []\n",
    "\n",
    "```"
   ]
  },
  {
   "cell_type": "code",
   "execution_count": 79,
   "id": "317784b1",
   "metadata": {},
   "outputs": [],
   "source": [
    "# 방법1. 한줄씩 읽어서 customer_list에 append하기\n",
    "\n",
    "def load_customers():\n",
    "    customer_list = []\n",
    "    # 파일 내용을 customer list에 append한다. 예외발생시 파일 작성\n",
    "    try:\n",
    "        with open('data/ch09_customers.txt', 'r', encoding='utf-8') as f: \n",
    "            line = f.readline()\n",
    "            while line != '':\n",
    "                customer = to_customer(line)\n",
    "                customer_list.append(customer)\n",
    "                line = f.readline()\n",
    "    except FileNotFoundError as e:\n",
    "        with open('data/ch09_customers.txt', 'w', encoding='utf-8') as f:\n",
    "            pass\n",
    "    return customer_list"
   ]
  },
  {
   "cell_type": "code",
   "execution_count": 5,
   "id": "40a939f6",
   "metadata": {},
   "outputs": [],
   "source": [
    "# 방법2. 여러줄을 한꺼번에 읽어서 for문으로 append하기\n",
    "\n",
    "def load_customers():\n",
    "    customer_list = []\n",
    "    # 파일 내용을 customer list에 append한다. 예외발생시 파일 작성\n",
    "    try:\n",
    "        with open('data/ch09_customers.txt', 'r', encoding='utf-8') as f: \n",
    "            lines = f.readlines()\n",
    "        for line in lines:\n",
    "            customer = to_customer(line)\n",
    "            customer_list.append(customer)      \n",
    "    except FileNotFoundError as e:\n",
    "        with open('data/ch09_customers.txt', 'w', encoding='utf-8') as f:\n",
    "            pass\n",
    "    return customer_list"
   ]
  },
  {
   "cell_type": "code",
   "execution_count": 8,
   "id": "8c10cf73",
   "metadata": {},
   "outputs": [
    {
     "data": {
      "text/plain": [
       "['*****\\t홍길동\\t010-9999-9999\\tk@hong.com\\t30\\t까칠해',\n",
       " '   **\\t유길동\\t010-5432-2222\\ty@hong.com\\t20\\tVVIP',\n",
       " '  ***\\t신림동\\t010-8888-8888\\ts@song.com\\t33\\t글쎄',\n",
       " ' ****\\t홍길동\\t010-7777-7777\\th@hong.com\\t33\\tVIP']"
      ]
     },
     "execution_count": 8,
     "metadata": {},
     "output_type": "execute_result"
    }
   ],
   "source": [
    "# 테스트\n",
    "\n",
    "customer_list = load_customers()\n",
    "[customer.__str__() for customer in customer_list]"
   ]
  },
  {
   "cell_type": "markdown",
   "id": "51a73f30",
   "metadata": {},
   "source": [
    "### 1. 입력"
   ]
  },
  {
   "cell_type": "code",
   "execution_count": null,
   "id": "223bae38",
   "metadata": {},
   "outputs": [],
   "source": [
    "import re\n",
    "name = \"홍\"\n",
    "name_pattern = r'[a-zA-Z]{2,}'\n",
    "print(re.search(name_pattern, name))"
   ]
  },
  {
   "cell_type": "code",
   "execution_count": 9,
   "id": "b1f2474c",
   "metadata": {},
   "outputs": [],
   "source": [
    "def fn1_insert_customer_info():\n",
    "    '''name(정규표현식을 이용해서 유효성 검증), phone, email, age, grade, etc 입력받아 \n",
    "    Customer형 객체 return'''\n",
    "    import re\n",
    "    #이름\n",
    "    name = input('이름 :')\n",
    "    name_pattern = r'[가-힣]{2,}'\n",
    "    while not re.search(name_pattern, name):\n",
    "        print('이름을 제대로 입력하세요(한글 2글자 이상)')\n",
    "        name = input('이름 :')\n",
    "    # 전화번호\n",
    "    phone = input('전화 :')\n",
    "    phone_pattern = r'0\\d{1,2}[ \\-\\.]?\\d{3,4}[ \\-\\.]?\\d{4}'\n",
    "    while not re.search(phone_pattern, phone):\n",
    "        print('전화번호를 제대로 입력하세요')\n",
    "        phone = input('전화 :')\n",
    "    # 메일\n",
    "    email = input('메일 :')\n",
    "    # 나이 (제대로 된 숫자를 입력 안하면 에러 발생하니까 try문 사용)\n",
    "    while True:\n",
    "        try:\n",
    "            age = int(input('나이 :'))\n",
    "            if (age<0) or (age>130):\n",
    "                raise Exception('나이 범위가 이상합니다')\n",
    "            break\n",
    "        except:\n",
    "            print('올바른 나이를 입력하세요')\n",
    "    # 점수\n",
    "    try:\n",
    "        grade = int(input('등급(1~5) :'))\n",
    "        # grade = 1 if grade < 1 else 5 if grade > 5 else grade\n",
    "        if grade < 1:\n",
    "            grade = 1\n",
    "        if grade > 5:\n",
    "            grade = 5\n",
    "    except:\n",
    "        print('유효하지 않은 등급 입력시 1등급으로 초기화')\n",
    "        grade = 1\n",
    "    # 기타\n",
    "    etc = input('기타 정보 :')\n",
    "    return Customer(name, phone, email, age, grade, etc)"
   ]
  },
  {
   "cell_type": "code",
   "execution_count": 10,
   "id": "bc580224",
   "metadata": {},
   "outputs": [
    {
     "name": "stdout",
     "output_type": "stream",
     "text": [
      "이름 :김수미\n",
      "전화 :010-8888-9999\n",
      "메일 :s@s.com\n",
      "나이 :45\n",
      "등급(1~5) :9\n",
      "기타 정보 :없음\n",
      "*****\t홍길동\t010-9999-9999\tk@hong.com\t30\t까칠해\n",
      "   **\t유길동\t010-5432-2222\ty@hong.com\t20\tVVIP\n",
      "  ***\t신림동\t010-8888-8888\ts@song.com\t33\t글쎄\n",
      " ****\t홍길동\t010-7777-7777\th@hong.com\t33\tVIP\n",
      "*****\t김수미\t010-8888-9999\t s@s.com  \t45\t없음\n"
     ]
    }
   ],
   "source": [
    "# 테스트\n",
    "\n",
    "customer_list = load_customers()\n",
    "customer = fn1_insert_customer_info()\n",
    "customer_list.append(customer)\n",
    "for customer in customer_list:\n",
    "    print(customer)"
   ]
  },
  {
   "cell_type": "markdown",
   "id": "69fdfd7c",
   "metadata": {},
   "source": [
    "### 2. 전체 출력"
   ]
  },
  {
   "cell_type": "code",
   "execution_count": 29,
   "id": "de482fc1",
   "metadata": {},
   "outputs": [],
   "source": [
    "def fn2_print_customers(customer_list):\n",
    "    'customer_list 출력'\n",
    "    print('='*70)\n",
    "    print('{:^70}'.format('고객정보'))\n",
    "    print('='*70)\n",
    "    print('{:>5}\\t{:^3}\\t{:^13}\\t{:^10}\\t{}\\t{}'.format('GRADE','이름','전화','메일','나이','기타'))\n",
    "    print('-'*70)\n",
    "    for customer in customer_list:\n",
    "        print(customer)"
   ]
  },
  {
   "cell_type": "code",
   "execution_count": 12,
   "id": "4d7b5541",
   "metadata": {},
   "outputs": [
    {
     "name": "stdout",
     "output_type": "stream",
     "text": [
      "======================================================================\n",
      "                                 고객정보                                 \n",
      "======================================================================\n",
      "GRADE\t이름 \t     전화      \t    메일    \t나이\t기타\n",
      "----------------------------------------------------------------------\n",
      "*****\t홍길동\t010-9999-9999\tk@hong.com\t30\t까칠해\n",
      "   **\t유길동\t010-5432-2222\ty@hong.com\t20\tVVIP\n",
      "  ***\t신림동\t010-8888-8888\ts@song.com\t33\t글쎄\n",
      " ****\t홍길동\t010-7777-7777\th@hong.com\t33\tVIP\n",
      "*****\t김수미\t010-8888-9999\t s@s.com  \t45\t없음\n"
     ]
    }
   ],
   "source": [
    "# 테스트\n",
    "\n",
    "fn2_print_customers(customer_list)"
   ]
  },
  {
   "cell_type": "code",
   "execution_count": 26,
   "id": "e7aff3c4",
   "metadata": {},
   "outputs": [],
   "source": [
    "def fn2_print_customers(customer_list): # 친구 소스\n",
    "    import csv\n",
    "    import pandas as pd\n",
    "    dict_list = []\n",
    "    for customer in customer_list:\n",
    "        dict_list.append(customer.__dict__)\n",
    "    fieldnames = list(dict_list[0].keys())\n",
    "    with open('data/ch09_customers.csv', 'w', encoding='utf-8', newline='') as f:\n",
    "        dict_writer = csv.DictWriter(f, fieldnames=fieldnames)\n",
    "        dict_writer.writeheader() # header 한줄 쓰기\n",
    "        dict_writer.writerows(dict_list)\n",
    "    display(pd.read_csv('data/ch09_customers.csv'))"
   ]
  },
  {
   "cell_type": "code",
   "execution_count": 27,
   "id": "cdbba225",
   "metadata": {},
   "outputs": [
    {
     "data": {
      "text/html": [
       "<div>\n",
       "<style scoped>\n",
       "    .dataframe tbody tr th:only-of-type {\n",
       "        vertical-align: middle;\n",
       "    }\n",
       "\n",
       "    .dataframe tbody tr th {\n",
       "        vertical-align: top;\n",
       "    }\n",
       "\n",
       "    .dataframe thead th {\n",
       "        text-align: right;\n",
       "    }\n",
       "</style>\n",
       "<table border=\"1\" class=\"dataframe\">\n",
       "  <thead>\n",
       "    <tr style=\"text-align: right;\">\n",
       "      <th></th>\n",
       "      <th>name</th>\n",
       "      <th>phone</th>\n",
       "      <th>email</th>\n",
       "      <th>age</th>\n",
       "      <th>grade</th>\n",
       "      <th>etc</th>\n",
       "    </tr>\n",
       "  </thead>\n",
       "  <tbody>\n",
       "    <tr>\n",
       "      <th>0</th>\n",
       "      <td>홍길동</td>\n",
       "      <td>010-9999-9999</td>\n",
       "      <td>k@hong.com</td>\n",
       "      <td>30</td>\n",
       "      <td>5</td>\n",
       "      <td>까칠해</td>\n",
       "    </tr>\n",
       "    <tr>\n",
       "      <th>1</th>\n",
       "      <td>유길동</td>\n",
       "      <td>010-5432-2222</td>\n",
       "      <td>y@hong.com</td>\n",
       "      <td>20</td>\n",
       "      <td>2</td>\n",
       "      <td>VVIP</td>\n",
       "    </tr>\n",
       "    <tr>\n",
       "      <th>2</th>\n",
       "      <td>신림동</td>\n",
       "      <td>010-8888-8888</td>\n",
       "      <td>s@song.com</td>\n",
       "      <td>33</td>\n",
       "      <td>3</td>\n",
       "      <td>글쎄</td>\n",
       "    </tr>\n",
       "    <tr>\n",
       "      <th>3</th>\n",
       "      <td>홍길동</td>\n",
       "      <td>010-7777-7777</td>\n",
       "      <td>h@hong.com</td>\n",
       "      <td>33</td>\n",
       "      <td>4</td>\n",
       "      <td>VIP</td>\n",
       "    </tr>\n",
       "  </tbody>\n",
       "</table>\n",
       "</div>"
      ],
      "text/plain": [
       "  name          phone       email  age  grade   etc\n",
       "0  홍길동  010-9999-9999  k@hong.com   30      5   까칠해\n",
       "1  유길동  010-5432-2222  y@hong.com   20      2  VVIP\n",
       "2  신림동  010-8888-8888  s@song.com   33      3    글쎄\n",
       "3  홍길동  010-7777-7777  h@hong.com   33      4   VIP"
      ]
     },
     "metadata": {},
     "output_type": "display_data"
    }
   ],
   "source": [
    "# 테스트\n",
    "\n",
    "fn2_print_customers(customer_list)"
   ]
  },
  {
   "cell_type": "markdown",
   "id": "d8d7216d",
   "metadata": {},
   "source": [
    "### 3. 삭제"
   ]
  },
  {
   "cell_type": "code",
   "execution_count": 13,
   "id": "d757b15d",
   "metadata": {},
   "outputs": [],
   "source": [
    "# 동명이인이 없을 경우 삭제 구현\n",
    "\n",
    "def fn3_delete_customer(customer_list):\n",
    "    '삭제하고자 하는 고객이름을 받아 customer_list에서 삭제'\n",
    "    name = input('삭제할 고객의 이름은?')\n",
    "    for idx, customer in enumerate(customer_list):\n",
    "        if customer.name == name:\n",
    "            # 리스트에서 customer 삭제\n",
    "            # customer_list.remove(customer)\n",
    "            # 리스트에서 idx번째 삭제\n",
    "            del customer_list[idx]\n",
    "            print(name, '님 데이터를 삭제하였습니다')\n",
    "            break\n",
    "    else:\n",
    "        print(name, '님이 데이터에 존재하지 않습니다')\n",
    "    "
   ]
  },
  {
   "cell_type": "code",
   "execution_count": 14,
   "id": "944da86a",
   "metadata": {},
   "outputs": [
    {
     "name": "stdout",
     "output_type": "stream",
     "text": [
      "삭제할 고객의 이름은?김철수\n",
      "김철수 님이 데이터에 존재하지 않습니다\n"
     ]
    }
   ],
   "source": [
    "# 테스트\n",
    "\n",
    "fn3_delete_customer(customer_list)"
   ]
  },
  {
   "cell_type": "code",
   "execution_count": 43,
   "id": "b8966cb4",
   "metadata": {},
   "outputs": [],
   "source": [
    "# 동명이인이 있을 경우(해당 동명이인을 다 삭제) 삭제 구현\n",
    "\n",
    "def fn3_delete_customer(customer_list):\n",
    "    '삭제하고자 하는 고객이름을 받아 customer_list에서 동명이인 모두 삭제'\n",
    "    name = input('삭제할 고객의 이름은?')\n",
    "    delete_idx = [] # 삭제할 인덱스 저장 용도\n",
    "    for idx, customer in enumerate(customer_list):\n",
    "        if customer_list[idx].name == name:\n",
    "            delete_idx.append(idx) # 삭제할 인덱스 추가함\n",
    "    if delete_idx:\n",
    "        for idx in delete_idx[::-1]:\n",
    "            del customer_list[idx]\n",
    "        print(f'{name}님 {len(delete_idx)}명을 삭제하였습니다')\n",
    "    else:\n",
    "        print(name, '님이 데이터에 존재하지 않습니다')"
   ]
  },
  {
   "cell_type": "code",
   "execution_count": 44,
   "id": "cd90ef99",
   "metadata": {},
   "outputs": [
    {
     "name": "stdout",
     "output_type": "stream",
     "text": [
      "삭제할 고객의 이름은?홍길동\n",
      "홍길동님 2명을 삭제하였습니다\n"
     ]
    }
   ],
   "source": [
    "# 테스트\n",
    "\n",
    "fn3_delete_customer(customer_list)"
   ]
  },
  {
   "cell_type": "code",
   "execution_count": 15,
   "id": "ad638526",
   "metadata": {},
   "outputs": [],
   "source": [
    "# 동명이인이 있을 경우 해당 customer를 삭제할지 묻고 Y를 입력시 삭제 구현\n",
    "\n",
    "def fn3_delete_customer(customer_list):\n",
    "    '''삭제하고자 하는 고객이름을 input으로 받아\n",
    "    매개변수로 들어온 customer_list에서 삭제하고 \"삭제했음/삭제못했음\"을 메세지로 출력'''\n",
    "    delete_name = input('삭제할 고객의 이름은?')\n",
    "    delete_idx = [] # 삭제할 인덱스 저장 용도\n",
    "    count = 0 #지울 고객 수 count하는 변수. cnt로 많이씀\n",
    "    for idx, customer in enumerate(customer_list):\n",
    "        if customer_list[idx].name == delete_name:\n",
    "            delete_idx.append(idx) # 삭제할 인덱스 추가함\n",
    "    print(delete_idx)\n",
    "    if delete_idx:\n",
    "        for idx in delete_idx[::-1]:\n",
    "            print(customer_list[idx], '를 지우시겠습니까(Y/N)', end='')\n",
    "            answer = input()\n",
    "            if (answer.lower() == 'y') | (answer == '네'): # (answer == 'Y') | (answer == 'y') 이거랑 같은말이었다 #혹은 answer.upper()=='Y'\n",
    "                count += 1\n",
    "                del customer_list[idx]\n",
    "        print('{}님 {}명 삭제하였습니다'.format(delete_name, count))\n",
    "    else:\n",
    "        print('{}님 데이터가 존재하지 않습니다'.format(delete_name))"
   ]
  },
  {
   "cell_type": "code",
   "execution_count": 16,
   "id": "65b980d2",
   "metadata": {},
   "outputs": [
    {
     "name": "stdout",
     "output_type": "stream",
     "text": [
      "삭제할 고객의 이름은?홍길동\n",
      "[0, 3]\n",
      " ****\t홍길동\t010-7777-7777\th@hong.com\t33\tVIP 를 지우시겠습니까(Y/N)ㅇ\n",
      "*****\t홍길동\t010-9999-9999\tk@hong.com\t30\t까칠해 를 지우시겠습니까(Y/N)ㅇ\n",
      "홍길동님 0명 삭제하였습니다\n"
     ]
    }
   ],
   "source": [
    "# 테스트\n",
    "\n",
    "customer_list = load_customers()\n",
    "fn3_delete_customer(customer_list)"
   ]
  },
  {
   "cell_type": "markdown",
   "id": "db890609",
   "metadata": {},
   "source": [
    "### 4. 이름찾기"
   ]
  },
  {
   "cell_type": "code",
   "execution_count": 17,
   "id": "a1232d2a",
   "metadata": {},
   "outputs": [],
   "source": [
    "def fn4_search_customer(customer_list):\n",
    "    '찾고자 하는 이름을 input받아, customer_list에서 검색하여 fn2_print_customers()이용하여 출력'\n",
    "    name = input('검색할 이름은?')\n",
    "    search_list = [] # 검색한 결과 append\n",
    "    for customer in customer_list:\n",
    "        if customer.name == name:\n",
    "            search_list.append(customer)\n",
    "    if search_list:\n",
    "        fn2_print_customers(search_list)\n",
    "    else:\n",
    "        print(f'{name}님 데이터는 존재하지 않습니다')"
   ]
  },
  {
   "cell_type": "code",
   "execution_count": 18,
   "id": "57dae3e3",
   "metadata": {},
   "outputs": [
    {
     "name": "stdout",
     "output_type": "stream",
     "text": [
      "검색할 이름은?홍길동\n",
      "======================================================================\n",
      "                                 고객정보                                 \n",
      "======================================================================\n",
      "GRADE\t이름 \t     전화      \t    메일    \t나이\t기타\n",
      "----------------------------------------------------------------------\n",
      "*****\t홍길동\t010-9999-9999\tk@hong.com\t30\t까칠해\n",
      " ****\t홍길동\t010-7777-7777\th@hong.com\t33\tVIP\n"
     ]
    }
   ],
   "source": [
    "# 테스트\n",
    "\n",
    "customer_list = load_customers()\n",
    "fn4_search_customer(customer_list)"
   ]
  },
  {
   "cell_type": "markdown",
   "id": "a94f6d45",
   "metadata": {},
   "source": [
    "### 5. 내보내기(CSV)"
   ]
  },
  {
   "cell_type": "code",
   "execution_count": 19,
   "id": "524b56fc",
   "metadata": {},
   "outputs": [],
   "source": [
    "def fn5_save_customer_csv(customer_list):\n",
    "    '매개변수로 받은 customer_list를 딕셔너리리스트로 변환하여 csv출력'\n",
    "    import csv\n",
    "    if customer_list:\n",
    "        customer_dict_list = []\n",
    "        for customer in customer_list:\n",
    "            customer_dict_list.append(customer.__dict__)\n",
    "        fieldnames = list(customer_dict_list[0].keys())\n",
    "        filename = input('저장할 csv파일명은(확장자 제외)?')\n",
    "        with open('data/{}.csv'.format(filename),'w', encoding='utf-8', newline='') as f:\n",
    "            dict_writer = csv.DictWriter(f, fieldnames=fieldnames)\n",
    "            dict_writer.writeheader() # 헤더쓰기\n",
    "            dict_writer.writerows(customer_dict_list) # 데이터쓰기\n",
    "            print(f'data/{filename}.csv 내보내기 완료')\n",
    "    else:\n",
    "        print('입력된 회원 데이터가 없어서 csv 내보내기를 취소합니다')"
   ]
  },
  {
   "cell_type": "code",
   "execution_count": 21,
   "id": "ae8c09e0",
   "metadata": {},
   "outputs": [
    {
     "name": "stdout",
     "output_type": "stream",
     "text": [
      "저장할 csv파일명은(확장자 제외)?dsafd\n",
      "data/dsafd.csv 내보내기 완료\n"
     ]
    }
   ],
   "source": [
    "# 테스트\n",
    "\n",
    "customer_list = load_customers()\n",
    "fn5_save_customer_csv(customer_list)"
   ]
  },
  {
   "cell_type": "markdown",
   "id": "d3019d5c",
   "metadata": {},
   "source": [
    "### 9. 종료\n",
    "\n",
    "- 종료하기 전 customer_list를 txt파일에 저장하고 종료"
   ]
  },
  {
   "cell_type": "code",
   "execution_count": 22,
   "id": "60caac95",
   "metadata": {},
   "outputs": [],
   "source": [
    "def fn9_save_customer_txt(customer_list):\n",
    "    'customer_list의 내용을 data/ch09_customers.txt에 저장'\n",
    "    customer_text_list = []\n",
    "    for customer in customer_list:\n",
    "        customer_text_list.append(customer.to_txt_style()+'\\n')\n",
    "    with open('data/ch09_customers.txt', 'w', encoding='utf-8') as f:\n",
    "        f.writelines(customer_text_list)"
   ]
  },
  {
   "cell_type": "code",
   "execution_count": 23,
   "id": "227e4a93",
   "metadata": {},
   "outputs": [],
   "source": [
    "# 테스트\n",
    "\n",
    "fn9_save_customer_txt(customer_list)"
   ]
  },
  {
   "cell_type": "markdown",
   "id": "b50c92d0",
   "metadata": {},
   "source": [
    "### main"
   ]
  },
  {
   "cell_type": "code",
   "execution_count": 28,
   "id": "d7c3eddf",
   "metadata": {},
   "outputs": [
    {
     "name": "stdout",
     "output_type": "stream",
     "text": [
      "1:입력 | 2:전체출력 | 3:삭제 | 4:이름찾기 | 5:내보내기(CSV) | 9:종료 메뉴선택 : 1\n",
      "이름 :김철수\n",
      "전화 :010-5454-5454\n",
      "메일 :c@c.com\n",
      "나이 :55\n",
      "등급(1~5) :6\n",
      "기타 정보 :없어\n",
      "1:입력 | 2:전체출력 | 3:삭제 | 4:이름찾기 | 5:내보내기(CSV) | 9:종료 메뉴선택 : 2\n"
     ]
    },
    {
     "data": {
      "text/html": [
       "<div>\n",
       "<style scoped>\n",
       "    .dataframe tbody tr th:only-of-type {\n",
       "        vertical-align: middle;\n",
       "    }\n",
       "\n",
       "    .dataframe tbody tr th {\n",
       "        vertical-align: top;\n",
       "    }\n",
       "\n",
       "    .dataframe thead th {\n",
       "        text-align: right;\n",
       "    }\n",
       "</style>\n",
       "<table border=\"1\" class=\"dataframe\">\n",
       "  <thead>\n",
       "    <tr style=\"text-align: right;\">\n",
       "      <th></th>\n",
       "      <th>name</th>\n",
       "      <th>phone</th>\n",
       "      <th>email</th>\n",
       "      <th>age</th>\n",
       "      <th>grade</th>\n",
       "      <th>etc</th>\n",
       "    </tr>\n",
       "  </thead>\n",
       "  <tbody>\n",
       "    <tr>\n",
       "      <th>0</th>\n",
       "      <td>홍길동</td>\n",
       "      <td>010-9999-9999</td>\n",
       "      <td>k@hong.com</td>\n",
       "      <td>30</td>\n",
       "      <td>5</td>\n",
       "      <td>VVIP</td>\n",
       "    </tr>\n",
       "    <tr>\n",
       "      <th>1</th>\n",
       "      <td>유길동</td>\n",
       "      <td>010-5432-2222</td>\n",
       "      <td>y@hong.com</td>\n",
       "      <td>20</td>\n",
       "      <td>2</td>\n",
       "      <td>까칠해</td>\n",
       "    </tr>\n",
       "    <tr>\n",
       "      <th>2</th>\n",
       "      <td>신림동</td>\n",
       "      <td>010-8888-8888</td>\n",
       "      <td>s@song.com</td>\n",
       "      <td>33</td>\n",
       "      <td>3</td>\n",
       "      <td>글쎄</td>\n",
       "    </tr>\n",
       "    <tr>\n",
       "      <th>3</th>\n",
       "      <td>홍길동</td>\n",
       "      <td>010-7777-7777</td>\n",
       "      <td>h@hong.com</td>\n",
       "      <td>33</td>\n",
       "      <td>4</td>\n",
       "      <td>VIP</td>\n",
       "    </tr>\n",
       "    <tr>\n",
       "      <th>4</th>\n",
       "      <td>김철수</td>\n",
       "      <td>010-5454-5454</td>\n",
       "      <td>c@c.com</td>\n",
       "      <td>55</td>\n",
       "      <td>5</td>\n",
       "      <td>없어</td>\n",
       "    </tr>\n",
       "  </tbody>\n",
       "</table>\n",
       "</div>"
      ],
      "text/plain": [
       "  name          phone       email  age  grade   etc\n",
       "0  홍길동  010-9999-9999  k@hong.com   30      5  VVIP\n",
       "1  유길동  010-5432-2222  y@hong.com   20      2   까칠해\n",
       "2  신림동  010-8888-8888  s@song.com   33      3    글쎄\n",
       "3  홍길동  010-7777-7777  h@hong.com   33      4   VIP\n",
       "4  김철수  010-5454-5454     c@c.com   55      5    없어"
      ]
     },
     "metadata": {},
     "output_type": "display_data"
    },
    {
     "name": "stdout",
     "output_type": "stream",
     "text": [
      "1:입력 | 2:전체출력 | 3:삭제 | 4:이름찾기 | 5:내보내기(CSV) | 9:종료 메뉴선택 : 9\n"
     ]
    }
   ],
   "source": [
    "def main():\n",
    "    global customer_list\n",
    "    customer_list = load_customers() # ch09_customers.txt의 내용을 load\n",
    "    while True:\n",
    "        print(\"1:입력\",\"2:전체출력\",\"3:삭제\",\"4:이름찾기\",\"5:내보내기(CSV)\", \"9:종료\", \n",
    "              sep=' | ', end=' ')\n",
    "        fn = int(input('메뉴선택 : '))\n",
    "        if fn == 1:\n",
    "            customer = fn1_insert_customer_info() # 입력받은 내용으로 customer객체를 반환\n",
    "            customer_list.append(customer)\n",
    "        elif fn == 2:\n",
    "            fn2_print_customers(customer_list) # 전체 customer_list 출력\n",
    "        elif fn == 3:\n",
    "            fn3_delete_customer(customer_list) # 이름으로 삭제\n",
    "        elif fn == 4:\n",
    "            fn4_search_customer(customer_list) # 이름 검색\n",
    "        elif fn == 5:\n",
    "            fn5_save_customer_csv(customer_list) # csv 백업\n",
    "        elif fn == 9:\n",
    "            fn9_save_customer_txt(customer_list) # txt 백업\n",
    "            break\n",
    "if __name__ == '__main__':\n",
    "    main()"
   ]
  },
  {
   "cell_type": "markdown",
   "id": "249417d7",
   "metadata": {},
   "source": [
    "## 6.2 문제풀이형"
   ]
  },
  {
   "cell_type": "code",
   "execution_count": null,
   "id": "dc85244b",
   "metadata": {},
   "outputs": [],
   "source": [
    "'''\n",
    "1. 다음 중 O pen 함수에 대해 잘못 설명한 것은?\n",
    "\n",
    "① 함수가 반환하는 것은 열린 파일 객체이다\n",
    "② 파일을 열 때 사용하는 모드는 읽기 (r), 쓰기 (w), 추가 (a), 바이너리 (b) 모드가 있다\n",
    "③ 바이너리 (b) 모드와 쓰기 (w) 모드는 같이 사용할 수 없다\n",
    "④ 파일의 인코딩은 encoding 속성을 이용해 설정 할 수 있다\n",
    "\n",
    "'''\n",
    "\n",
    "# 3번"
   ]
  },
  {
   "cell_type": "code",
   "execution_count": null,
   "id": "a073b5ee",
   "metadata": {},
   "outputs": [],
   "source": [
    "'''\n",
    "2. 피클링 (pickling) 에 대해 잘 못 설명한 것은?\n",
    "\n",
    "① 파이썬의 객체 직렬화 (Object Serialization) 방법이다\n",
    "② pickle 모 듈 의 dump() 와 load() 함수를 이용해 객체를 쓰고 읽는다\n",
    "③ 파이썬 객체를 별도의 텍스트 변환과정 없이 파일에 직접 쓰고 읽는 것을 의미한다\n",
    "④ 피클링하기 위한 모드는 쓰기모드 ('w') 여야 한다\n",
    "\n",
    "'''\n",
    "\n",
    "# 4번 wb모드"
   ]
  },
  {
   "cell_type": "code",
   "execution_count": null,
   "id": "b146127e",
   "metadata": {},
   "outputs": [],
   "source": [
    "'''\n",
    "3. 다음 중 파이썬의 입/출력 모듈에 대한 설명 중 잘 못된 것은?\n",
    "\n",
    "① Pandas 패키지를 이용하면 리스트 데이터를 쉽게 파일에 쓰고 읽을 수 있다\n",
    "② json 모 듈 의 dump load 함 수 를 이 용 해 JSON 데 이터 를 파 일 에 읽 고 쓸 수 있 다\n",
    "③ h5py 모듈의 File 클래스를 이용해 HDF5 데이터를 파일에 읽고 쓸 수 있다\n",
    "④ csv 모듈의 reader(), writer() 함수를 이용해 CSV 파일을 읽고 쓸 수 있다\n",
    "\n",
    "'''\n",
    "\n",
    "# 1번 데이터프레임데이터를 쉽게 파일 io"
   ]
  }
 ],
 "metadata": {
  "kernelspec": {
   "display_name": "Python 3 (ipykernel)",
   "language": "python",
   "name": "python3"
  },
  "language_info": {
   "codemirror_mode": {
    "name": "ipython",
    "version": 3
   },
   "file_extension": ".py",
   "mimetype": "text/x-python",
   "name": "python",
   "nbconvert_exporter": "python",
   "pygments_lexer": "ipython3",
   "version": "3.10.9"
  },
  "toc": {
   "base_numbering": 1,
   "nav_menu": {},
   "number_sections": false,
   "sideBar": true,
   "skip_h1_title": false,
   "title_cell": "Table of Contents",
   "title_sidebar": "Contents",
   "toc_cell": false,
   "toc_position": {
    "height": "calc(100% - 180px)",
    "left": "10px",
    "top": "150px",
    "width": "187px"
   },
   "toc_section_display": true,
   "toc_window_display": true
  }
 },
 "nbformat": 4,
 "nbformat_minor": 5
}
