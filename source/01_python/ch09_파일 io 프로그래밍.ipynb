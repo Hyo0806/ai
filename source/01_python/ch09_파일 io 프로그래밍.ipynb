{
 "cells": [
  {
   "cell_type": "code",
   "execution_count": 1,
   "id": "4c35c35e",
   "metadata": {},
   "outputs": [
    {
     "data": {
      "text/html": [
       "\n",
       "<style>\n",
       "div.container{width:90% !important;}\n",
       "div.cell.code_cell.rendered{width:100%;}\n",
       "div.input_prompt{padding:0px;}\n",
       "div.CodeMirror {font-family:Consolas; font-size:12pt;}\n",
       "div.text_cell_render.rendered_html{font-size:12pt;}\n",
       "div.output {font-size:12pt; font-weight:bold;}\n",
       "div.input {font-family:Consolas; font-size:12pt;}\n",
       "div.prompt {min-width:70px;}\n",
       "div#toc-wrapper{padding-top:120px;}\n",
       "div.text_cell_render ul li{font-size:12pt;padding:5px;}\n",
       "table.dataframe{font-size:12px;}\n",
       "</style>\n"
      ],
      "text/plain": [
       "<IPython.core.display.HTML object>"
      ]
     },
     "metadata": {},
     "output_type": "display_data"
    }
   ],
   "source": [
    "from IPython.display import display, HTML\n",
    "display(HTML(\"\"\"\n",
    "<style>\n",
    "div.container{width:90% !important;}\n",
    "div.cell.code_cell.rendered{width:100%;}\n",
    "div.input_prompt{padding:0px;}\n",
    "div.CodeMirror {font-family:Consolas; font-size:12pt;}\n",
    "div.text_cell_render.rendered_html{font-size:12pt;}\n",
    "div.output {font-size:12pt; font-weight:bold;}\n",
    "div.input {font-family:Consolas; font-size:12pt;}\n",
    "div.prompt {min-width:70px;}\n",
    "div#toc-wrapper{padding-top:120px;}\n",
    "div.text_cell_render ul li{font-size:12pt;padding:5px;}\n",
    "table.dataframe{font-size:12px;}\n",
    "</style>\n",
    "\"\"\"))"
   ]
  },
  {
   "cell_type": "markdown",
   "id": "2d8e7d9d",
   "metadata": {},
   "source": [
    "<b><font size=\"6\" color=\"red\"> ch09. 파일 i/o 프로그래밍 </font></b>\n",
    "\n",
    "- 파일 : txt, pickle(머신러닝모델저장, 배열저장), csv, json, h5(딥러닝모델저장)"
   ]
  },
  {
   "cell_type": "markdown",
   "id": "fe48648f",
   "metadata": {},
   "source": [
    "* 다양한 형태의 반정형데이터 파일들\n",
    "(반정형인 이유는 바로 사용하기에 어려움이 있어서)\n",
    "\n",
    "```\n",
    "1. *.csv\n",
    "name, age\n",
    "'홍길동',30\n",
    "'김길동',20\n",
    "\n",
    "2. *.json (open API)\n",
    "[{'name':'홍길동','age':30},\n",
    " {'name':'김길동','age':20}]\n",
    "\n",
    "3. *.xml\n",
    "<person>\n",
    "\t<name>홍길동</name>\n",
    "\t<age>30</age>\n",
    "</person>\n",
    "<person>\n",
    "\t<name>김길동</name>\n",
    "\t<age>20</age>\n",
    "</person>\n",
    "\n",
    "4. *.xlsx : 엑셀파일\n",
    "\n",
    "5. *.txt : 히스토리\n",
    "\n",
    "\n",
    "```"
   ]
  },
  {
   "cell_type": "markdown",
   "id": "123d49c0",
   "metadata": {},
   "source": [
    "# 1절. txt 파일에 데이터 저장하고 불러오기"
   ]
  },
  {
   "cell_type": "code",
   "execution_count": 9,
   "id": "666c3d19",
   "metadata": {},
   "outputs": [
    {
     "name": "stdout",
     "output_type": "stream",
     "text": [
      "쓰기 가능한지 :  True\n"
     ]
    }
   ],
   "source": [
    "# mode = 'r' 또는 'rt'(read text) : 텍스트 읽기모드로 열기. 파일이 없을 경우 예외 발생\n",
    "# mode = 'w' 또는 'wt'(write text) : 텍스트 쓰기모드로 열기. 폴더가 없을 경우 예외 발생\n",
    "                                   # 파일이 없으면 생성. 파일이 있으면 덮어씀\n",
    "# mode = 'a' 또는 'at'(append text) : 텍스트 쓰기모드로 열기. 폴더가 없을 경우 예외 발생\n",
    "                                   # 파일이 없으면 생성. 파일이 있으면 뒤에 append\n",
    "    \n",
    "f = open('data/ch09.txt', 'w') # 기본 encoding = 'cp949'(win)\n",
    "print('쓰기 가능한지 : ', f.writable())\n",
    "f.write('Hello\\nWorld\\n')\n",
    "f.close()"
   ]
  },
  {
   "cell_type": "code",
   "execution_count": 15,
   "id": "3f7dd65b",
   "metadata": {},
   "outputs": [
    {
     "name": "stdout",
     "output_type": "stream",
     "text": [
      "쓰기 가능한지 :  True\n"
     ]
    }
   ],
   "source": [
    "# with구문을 사용하면 매번 close()하는 코드가 불필요\n",
    "\n",
    "with open('data/ch09.txt', 'w') as f:\n",
    "    print('쓰기 가능한지 : ', f.writable())\n",
    "    f.write('Python is easy.\\nPython is smart.\\n')"
   ]
  },
  {
   "cell_type": "code",
   "execution_count": 16,
   "id": "653f94ca",
   "metadata": {},
   "outputs": [
    {
     "name": "stdout",
     "output_type": "stream",
     "text": [
      "프린트 함수로 파일 쓰기가 가능합니다-콘솔출력\n"
     ]
    }
   ],
   "source": [
    "with open('data/ch09.txt', 'a', encoding='utf-8') as f:\n",
    "    print('프린트 함수로 파일 쓰기가 가능합니다-파일출력', file=f)\n",
    "    print('프린트 함수로 파일 쓰기가 가능합니다-콘솔출력')"
   ]
  },
  {
   "cell_type": "markdown",
   "id": "2c467233",
   "metadata": {},
   "source": [
    "- 한글 읽기/쓰기\n",
    "    * cp949(한글완성형확장형) : open함수의 기본 인코딩(window)\n",
    "    * utf-8(한글조합형) : 주피터노트북에서 열림"
   ]
  },
  {
   "cell_type": "code",
   "execution_count": null,
   "id": "a70a93e6",
   "metadata": {},
   "outputs": [],
   "source": []
  },
  {
   "cell_type": "code",
   "execution_count": null,
   "id": "52c6e49d",
   "metadata": {},
   "outputs": [],
   "source": []
  },
  {
   "cell_type": "code",
   "execution_count": null,
   "id": "dcbf0bf3",
   "metadata": {},
   "outputs": [],
   "source": []
  },
  {
   "cell_type": "code",
   "execution_count": null,
   "id": "c62428e5",
   "metadata": {},
   "outputs": [],
   "source": []
  },
  {
   "cell_type": "code",
   "execution_count": null,
   "id": "14c34e21",
   "metadata": {},
   "outputs": [],
   "source": []
  },
  {
   "cell_type": "code",
   "execution_count": null,
   "id": "fe78d67e",
   "metadata": {},
   "outputs": [],
   "source": []
  },
  {
   "cell_type": "code",
   "execution_count": null,
   "id": "6e52587b",
   "metadata": {},
   "outputs": [],
   "source": []
  },
  {
   "cell_type": "code",
   "execution_count": null,
   "id": "ed9a0bdd",
   "metadata": {},
   "outputs": [],
   "source": []
  },
  {
   "cell_type": "code",
   "execution_count": null,
   "id": "7312c07b",
   "metadata": {},
   "outputs": [],
   "source": []
  },
  {
   "cell_type": "code",
   "execution_count": null,
   "id": "7247b5ac",
   "metadata": {},
   "outputs": [],
   "source": []
  },
  {
   "cell_type": "code",
   "execution_count": null,
   "id": "68eff94b",
   "metadata": {},
   "outputs": [],
   "source": []
  },
  {
   "cell_type": "code",
   "execution_count": null,
   "id": "07f4aa4f",
   "metadata": {},
   "outputs": [],
   "source": []
  },
  {
   "cell_type": "code",
   "execution_count": null,
   "id": "fc4f6a69",
   "metadata": {},
   "outputs": [],
   "source": []
  },
  {
   "cell_type": "code",
   "execution_count": null,
   "id": "694360dd",
   "metadata": {},
   "outputs": [],
   "source": []
  },
  {
   "cell_type": "code",
   "execution_count": null,
   "id": "c96614c4",
   "metadata": {},
   "outputs": [],
   "source": []
  },
  {
   "cell_type": "code",
   "execution_count": null,
   "id": "0b14897e",
   "metadata": {},
   "outputs": [],
   "source": []
  },
  {
   "cell_type": "code",
   "execution_count": null,
   "id": "d7c795af",
   "metadata": {},
   "outputs": [],
   "source": []
  },
  {
   "cell_type": "code",
   "execution_count": null,
   "id": "3adcb835",
   "metadata": {},
   "outputs": [],
   "source": []
  },
  {
   "cell_type": "code",
   "execution_count": null,
   "id": "4a9a9a1b",
   "metadata": {},
   "outputs": [],
   "source": []
  },
  {
   "cell_type": "code",
   "execution_count": null,
   "id": "a287b159",
   "metadata": {},
   "outputs": [],
   "source": []
  }
 ],
 "metadata": {
  "kernelspec": {
   "display_name": "Python 3 (ipykernel)",
   "language": "python",
   "name": "python3"
  },
  "language_info": {
   "codemirror_mode": {
    "name": "ipython",
    "version": 3
   },
   "file_extension": ".py",
   "mimetype": "text/x-python",
   "name": "python",
   "nbconvert_exporter": "python",
   "pygments_lexer": "ipython3",
   "version": "3.10.9"
  },
  "toc": {
   "base_numbering": 1,
   "nav_menu": {},
   "number_sections": false,
   "sideBar": true,
   "skip_h1_title": false,
   "title_cell": "Table of Contents",
   "title_sidebar": "Contents",
   "toc_cell": false,
   "toc_position": {
    "height": "calc(100% - 180px)",
    "left": "10px",
    "top": "150px",
    "width": "165px"
   },
   "toc_section_display": true,
   "toc_window_display": true
  }
 },
 "nbformat": 4,
 "nbformat_minor": 5
}
