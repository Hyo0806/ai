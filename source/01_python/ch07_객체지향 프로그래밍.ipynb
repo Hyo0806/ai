{
 "cells": [
  {
   "cell_type": "code",
   "execution_count": 1,
   "id": "906d0ec9",
   "metadata": {},
   "outputs": [
    {
     "data": {
      "text/html": [
       "\n",
       "<style>\n",
       "div.container{width:90% !important;}\n",
       "div.cell.code_cell.rendered{width:100%;}\n",
       "div.input_prompt{padding:0px;}\n",
       "div.CodeMirror {font-family:Consolas; font-size:12pt;}\n",
       "div.text_cell_render.rendered_html{font-size:12pt;}\n",
       "div.output {font-size:12pt; font-weight:bold;}\n",
       "div.input {font-family:Consolas; font-size:12pt;}\n",
       "div.prompt {min-width:70px;}\n",
       "div#toc-wrapper{padding-top:120px;}\n",
       "div.text_cell_render ul li{font-size:12pt;padding:5px;}\n",
       "table.dataframe{font-size:12px;}\n",
       "</style>\n"
      ],
      "text/plain": [
       "<IPython.core.display.HTML object>"
      ]
     },
     "metadata": {},
     "output_type": "display_data"
    }
   ],
   "source": [
    "from IPython.display import display, HTML\n",
    "display(HTML(\"\"\"\n",
    "<style>\n",
    "div.container{width:90% !important;}\n",
    "div.cell.code_cell.rendered{width:100%;}\n",
    "div.input_prompt{padding:0px;}\n",
    "div.CodeMirror {font-family:Consolas; font-size:12pt;}\n",
    "div.text_cell_render.rendered_html{font-size:12pt;}\n",
    "div.output {font-size:12pt; font-weight:bold;}\n",
    "div.input {font-family:Consolas; font-size:12pt;}\n",
    "div.prompt {min-width:70px;}\n",
    "div#toc-wrapper{padding-top:120px;}\n",
    "div.text_cell_render ul li{font-size:12pt;padding:5px;}\n",
    "table.dataframe{font-size:12px;}\n",
    "</style>\n",
    "\"\"\"))"
   ]
  },
  {
   "cell_type": "markdown",
   "id": "dd9bdf5e",
   "metadata": {},
   "source": [
    "<b><font size=\"6\" color=\"red\"> ch07. 객체지향 프로그래밍 </font></b>\n"
   ]
  },
  {
   "cell_type": "code",
   "execution_count": 2,
   "id": "d708f769",
   "metadata": {},
   "outputs": [
    {
     "name": "stdout",
     "output_type": "stream",
     "text": [
      "홍길동 남자\n",
      "{'name': '홍낄뚱', 'gender': '남자', 'academy': 'MBC'}\n",
      "{'name': '김길숙', 'gender': '여자', 'academy': 'MBC'}\n"
     ]
    }
   ],
   "source": [
    "person1 = {'name':'홍길동','gender':'남자','academy':'MBC'}\n",
    "person2 = {'name':'김길숙','gender':'여자','academy':'MBC'}\n",
    "print(person1['name'],person1.get('gender'))\n",
    "person1['name'] = '홍낄뚱'\n",
    "print(person1)\n",
    "print(person2)\n",
    "# person1.my_function() 지금 하려는게 이런식으로 쓰고싶은것"
   ]
  },
  {
   "cell_type": "code",
   "execution_count": 9,
   "id": "7b88f2a6",
   "metadata": {},
   "outputs": [
    {
     "name": "stdout",
     "output_type": "stream",
     "text": [
      "MBC의 김길숙님은 여자입니다\n",
      "MBC의 홍길동님은 남자입니다\n",
      "MBC의 홍홍홍님은 여자입니다\n",
      "MBC의 홍길동님은 남자입니다\n",
      "<__main__.Person object at 0x000002ACF8AF6890>\n"
     ]
    }
   ],
   "source": [
    "# 클래스 이름은 !!!대문자!!!. 소문자도 가능은 하지만 모두가 대문자로 쓰기때문에 소문자로 클래스명을 만들면 이력서 광탈함!\n",
    "\n",
    "class Person:    # 이건 설계도라고 보면 편함. Person 이라는 설계도대로 만들겠다는 소리.\n",
    "    academy = 'MBC' # 클래스변수\n",
    "    def __init__(self, name, gender):   # 생성자 함수 # 반드시 __init__(self,~) 넣어야함. self 안넣으면 에러남. 내 객체변수 자신을 뜻함.\n",
    "        self.name = name\n",
    "        self.gender = gender\n",
    "    def print_info(self):\n",
    "        print('{}의 {}님은 {}입니다'.format(self.academy, self.name, self.gender))\n",
    "\n",
    "p1 = Person('김길숙','여자') # 객체변수(인스턴스)\n",
    "p1.print_info()\n",
    "p2 = Person('홍길동','남자') # 반드시 생성자함수 수대로 넣어야함. 내가 안만들어서 모르겠는데? 하면 shift + tap + tap\n",
    "p2.print_info()\n",
    "p1.name = '홍홍홍'\n",
    "p1.print_info() \n",
    "p2.print_info() # p2는 프린트해도 바뀌지 않음. \n",
    "print(p1) # 클래스는 프린트가 안나옴"
   ]
  },
  {
   "cell_type": "code",
   "execution_count": 7,
   "id": "6a9bc93c",
   "metadata": {},
   "outputs": [
    {
     "name": "stdout",
     "output_type": "stream",
     "text": [
      "SBS의 홍길동님은 남자입니다\n",
      "MBC의 홍홍홍님은 여자입니다\n"
     ]
    }
   ],
   "source": [
    "p2.academy = 'SBS'\n",
    "p2.print_info()\n",
    "p1.print_info()"
   ]
  },
  {
   "cell_type": "markdown",
   "id": "bcb02c96",
   "metadata": {},
   "source": [
    "# 1절. 객체와 클래스\n",
    "\n",
    "```\n",
    "class 클래스명(상속받을 클래스명) : \n",
    "    '독스트링'\n",
    "    변수나 함수들을 선언\n",
    "```"
   ]
  },
  {
   "cell_type": "code",
   "execution_count": 10,
   "id": "f98bb4cc",
   "metadata": {},
   "outputs": [
    {
     "data": {
      "text/plain": [
       "__main__.Person"
      ]
     },
     "execution_count": 10,
     "metadata": {},
     "output_type": "execute_result"
    }
   ],
   "source": [
    "class Person:\n",
    "    'Person 클래스는 어쩌구 저쩌구 여러줄 설명하는 독스트링'\n",
    "    pass\n",
    "\n",
    "#     def __init__(self):\n",
    "#         pass  생성자함수를 안만들면 자동적으로 만들어주기 때문에 그냥 pass만 써도됨\n",
    "    \n",
    "p1 = Person()\n",
    "type(p1)"
   ]
  },
  {
   "cell_type": "code",
   "execution_count": 12,
   "id": "6775d571",
   "metadata": {},
   "outputs": [
    {
     "name": "stdout",
     "output_type": "stream",
     "text": [
      "<__main__.Person object at 0x000002ACF8AF5D80>\n",
      "<__main__.Person object at 0x000002ACF8AF5D80>\n"
     ]
    }
   ],
   "source": [
    "print(p1)\n",
    "print(p1.__str__())  # print하면 객체가 자동적으로 __str__을 호출함. 우리가 아무것도 넣지 않았기 때문에 기본적으로 들어가있는 __str__과 동일"
   ]
  },
  {
   "cell_type": "code",
   "execution_count": 13,
   "id": "9735c6fe",
   "metadata": {},
   "outputs": [
    {
     "data": {
      "text/plain": [
       "True"
      ]
     },
     "execution_count": 13,
     "metadata": {},
     "output_type": "execute_result"
    }
   ],
   "source": [
    "isinstance(p1, Person) # p1이 Person 타입이니? "
   ]
  },
  {
   "cell_type": "code",
   "execution_count": 14,
   "id": "84c79323",
   "metadata": {},
   "outputs": [
    {
     "data": {
      "text/plain": [
       "'Person 클래스는 어쩌구 저쩌구 여러줄 설명하는 독스트링'"
      ]
     },
     "execution_count": 14,
     "metadata": {},
     "output_type": "execute_result"
    }
   ],
   "source": [
    "p1.__doc__ # p1의 독스트링 호출"
   ]
  },
  {
   "cell_type": "markdown",
   "id": "726f13b7",
   "metadata": {},
   "source": [
    "# 2절. 생성자(`__init__()`)와 소멸자(`__del__()`)\n",
    "\n",
    "- 생성자 : `__init__`(self, [매개변수1, 매개변수2,...]) : 객체가 생성될 때 자동 실행 \\\n",
    "생성시 필요한 코드(인스턴스 변수 생성과 초기화를 포함한다\n",
    "- 소멸자 : `__del__`(self) : 객체가 소멸될 때 자동 실행\\\n",
    "객체 소멸시 필요한 코드를 포함\\\n",
    "instance(객체)의 레퍼런스 카운트가 0이 될 때 실행"
   ]
  },
  {
   "cell_type": "code",
   "execution_count": 22,
   "id": "59839140",
   "metadata": {},
   "outputs": [],
   "source": [
    "class Person:\n",
    "    def __init__(self, name, gender):\n",
    "        self.name = name  # 인스턴스 변수를 초기화\n",
    "        self.gender = gender\n",
    "        print('Person형 객체 생성')\n",
    "    def __del__(self):\n",
    "        print('Person형 객체 소멸')\n",
    "    def print_info(self):\n",
    "        print('{}님은 {}입니다'.format(self.name, self.gender))\n",
    "    def __str__(self): # 오버라이딩(함수의 재정의)\n",
    "        return '{}님은 {}입니다'.format(self.name, self.gender)"
   ]
  },
  {
   "cell_type": "code",
   "execution_count": 23,
   "id": "92c9542d",
   "metadata": {},
   "outputs": [
    {
     "name": "stdout",
     "output_type": "stream",
     "text": [
      "Person형 객체 생성\n",
      "Person형 객체 소멸\n"
     ]
    }
   ],
   "source": [
    "p1 = Person('신사임당','여자')"
   ]
  },
  {
   "cell_type": "code",
   "execution_count": 24,
   "id": "c33ea706",
   "metadata": {},
   "outputs": [
    {
     "name": "stdout",
     "output_type": "stream",
     "text": [
      "신사임당님은 여자입니다\n"
     ]
    }
   ],
   "source": [
    "p1.print_info()"
   ]
  },
  {
   "cell_type": "code",
   "execution_count": 3,
   "id": "1df2ccd6",
   "metadata": {},
   "outputs": [
    {
     "data": {
      "text/plain": [
       "'신사임당'"
      ]
     },
     "execution_count": 3,
     "metadata": {},
     "output_type": "execute_result"
    }
   ],
   "source": [
    "p1.name"
   ]
  },
  {
   "cell_type": "code",
   "execution_count": 15,
   "id": "7ec5c4f8",
   "metadata": {},
   "outputs": [
    {
     "name": "stdout",
     "output_type": "stream",
     "text": [
      "신사임당님은 여자입니다\n",
      "신사임당님은 여자입니다\n"
     ]
    }
   ],
   "source": [
    "print(p1) # p1 자리에는 객체가 들어와야하는데 p1이 들어와서 자동적으로 문자로 바꿔줌.\n",
    "print(p1.__str__())"
   ]
  },
  {
   "cell_type": "code",
   "execution_count": 25,
   "id": "fb6adc30",
   "metadata": {},
   "outputs": [
    {
     "data": {
      "text/plain": [
       "(__main__.Person, True)"
      ]
     },
     "execution_count": 25,
     "metadata": {},
     "output_type": "execute_result"
    }
   ],
   "source": [
    "type(p1), isinstance(p1, Person)"
   ]
  },
  {
   "cell_type": "code",
   "execution_count": 26,
   "id": "c75519a3",
   "metadata": {},
   "outputs": [
    {
     "name": "stdout",
     "output_type": "stream",
     "text": [
      "Person형 객체 소멸\n"
     ]
    }
   ],
   "source": [
    "del p1"
   ]
  },
  {
   "cell_type": "code",
   "execution_count": 27,
   "id": "14461d3b",
   "metadata": {},
   "outputs": [
    {
     "name": "stdout",
     "output_type": "stream",
     "text": [
      "Person형 객체 생성\n"
     ]
    }
   ],
   "source": [
    "p2 = Person('홍길동','남자')"
   ]
  },
  {
   "cell_type": "code",
   "execution_count": 28,
   "id": "69ffb22a",
   "metadata": {},
   "outputs": [],
   "source": [
    "p3 = p2  # 레퍼런스 카운트가 2다. ex) p2가 원래 99번지를 가리켰는데 p3도 99번지를 가리킴."
   ]
  },
  {
   "cell_type": "code",
   "execution_count": 29,
   "id": "01ae01da",
   "metadata": {},
   "outputs": [],
   "source": [
    "del p2 # p2가 사라져도 아직 99번지를 가리키는게 p3가 남아있기 때문에 레퍼런스가 1이라서 아무런 문장도 나오지않음."
   ]
  },
  {
   "cell_type": "code",
   "execution_count": 30,
   "id": "787cd2fa",
   "metadata": {},
   "outputs": [
    {
     "name": "stdout",
     "output_type": "stream",
     "text": [
      "Person형 객체 소멸\n"
     ]
    }
   ],
   "source": [
    "del p3 # 레퍼런스 카운트가 0가 되어서 그제서야 소멸자함수가 실행된 것."
   ]
  },
  {
   "cell_type": "markdown",
   "id": "ce785b1b",
   "metadata": {},
   "source": [
    "- **오버라이딩**(함수의 재정의)\n",
    "- 파이썬은 **오버로딩**(함수의 중복정의) 불가\n",
    "- 생성자함수 **오버로딩** 불가"
   ]
  },
  {
   "cell_type": "code",
   "execution_count": 33,
   "id": "3e7f73f4",
   "metadata": {},
   "outputs": [],
   "source": [
    "class Person:\n",
    "    def __init__(self, name, gender):\n",
    "        self.name = name  \n",
    "        self.gender = gender\n",
    "        print('Person형 객체 생성')\n",
    "    \n",
    "#     def __init__(self, name): # 생성자 함수의 오버로딩. 위의 생성자함수는 덮어씌워짐.\n",
    "#         self.name = name\n",
    "#         self.gender = '남자'\n",
    "\n",
    "# 생성자함수의 오버로딩 불가. 대신 기본값을 갖는 매개변수 이용\n",
    "\n",
    "    def __init__(self, name, gender='남자'): # 남자를 안쳤을때도, 남자라고 쳤을때도 나오게 하는 방법. \n",
    "        self.name = name  \n",
    "        self.gender = gender\n",
    "        print('Person형 객체 생성')\n",
    "        \n",
    "    def print_info(self):\n",
    "        print('{}님은 {}입니다'.format(self.name, self.gender))\n",
    "    def __str__(self): # 오버라이딩(함수의 재정의)\n",
    "        return '{}님은 {}입니다'.format(self.name, self.gender)"
   ]
  },
  {
   "cell_type": "code",
   "execution_count": 36,
   "id": "68511264",
   "metadata": {},
   "outputs": [
    {
     "name": "stdout",
     "output_type": "stream",
     "text": [
      "Person형 객체 생성\n",
      "Person형 객체 생성\n",
      "Person형 객체 생성\n",
      "p1 =  홍길동님은 남자입니다\n",
      "p2 =  홍길동님은 남자입니다\n",
      "p3 =  강감찬님은 남자입니다\n"
     ]
    }
   ],
   "source": [
    "p1 = Person('홍길동', '남자')\n",
    "p2 = Person(gender='남자', name='홍길동')\n",
    "p3 = Person('강감찬')\n",
    "print('p1 = ', p1)\n",
    "print('p2 = ', p2)\n",
    "print('p3 = ', p3)"
   ]
  },
  {
   "cell_type": "code",
   "execution_count": 37,
   "id": "830a69ef",
   "metadata": {},
   "outputs": [],
   "source": [
    "class Person:\n",
    "    def __init__(self, name='홍길동', gender='남자'): \n",
    "        self.name = name  \n",
    "        self.gender = gender\n",
    "        print('Person형 객체 생성')\n",
    "        \n",
    "    def print_info(self):\n",
    "        print('{}님은 {}입니다'.format(self.name, self.gender))\n",
    "    def __str__(self): # 오버라이딩(함수의 재정의)\n",
    "        return '{}님은 {}입니다'.format(self.name, self.gender)"
   ]
  },
  {
   "cell_type": "code",
   "execution_count": 43,
   "id": "9da11ae3",
   "metadata": {},
   "outputs": [
    {
     "name": "stdout",
     "output_type": "stream",
     "text": [
      "Person형 객체 생성\n",
      "Person형 객체 생성\n",
      "Person형 객체 생성\n",
      "Person형 객체 생성\n",
      "p1 =  김길숙님은 여자입니다\n",
      "p2 =  홍길동님은 남자입니다\n",
      "p3 =  홍길동님은 남자입니다\n",
      "p4 =  홍길동님은 여자입니다\n"
     ]
    }
   ],
   "source": [
    "p1 = Person('김길숙', '여자')\n",
    "p2 = Person(gender='남자', name='홍길동')\n",
    "p3 = Person()\n",
    "p4 = Person(gender = '여자') # '여자'라고만 치면 name이 먼저있어서 '여자 님은 남자입니다' 라고 나옴. 꼭 'gender='를 붙여줘야함\n",
    "print('p1 = ', p1)\n",
    "print('p2 = ', p2)\n",
    "print('p3 = ', p3)\n",
    "print('p4 = ', p4)"
   ]
  },
  {
   "cell_type": "markdown",
   "id": "de0d748a",
   "metadata": {},
   "source": [
    "# 3절 변수와 메소드(함수)\n",
    "\n",
    "- 인스턴스변수 vs 클래스변수 vs static변수(정적변수)\n",
    "- 인스턴스메소드(self) vs 클래스메소드(cls) vs static메소드()"
   ]
  },
  {
   "cell_type": "code",
   "execution_count": 10,
   "id": "8c0bab26",
   "metadata": {},
   "outputs": [
    {
     "name": "stdout",
     "output_type": "stream",
     "text": [
      "MBC\n",
      "p1객체변수(인스턴스) = MBC의 홍길동님은 남자입니다\n",
      "p2객체변수(인스턴스) = MBC의 홍길동님은 남자입니다\n",
      "p1객체변수(인스턴스) = SBS의 홍길동님은 남자입니다\n",
      "p2객체변수(인스턴스) = 다른데의 홍길동님은 남자입니다\n"
     ]
    }
   ],
   "source": [
    "# 클래스 변수는 클래스 내부에 선언되며, 생성된 모든 인스턴스(객체)에 동일한 값을 가진다\n",
    "# 인스턴스(객체).클래스변수로 수정하면 해당 인스턴스(객체)만 반영\n",
    "# 클래스명.클래스변수로 수정하면 모든 인스턴스에 반영\n",
    "\n",
    "class Person:    \n",
    "    academy = 'MBC' # 클래스변수\n",
    "    def __init__(self, name = '홍길동', gender = '남자'):   # 생성자 함수 \n",
    "        self.name = name\n",
    "        self.gender = gender\n",
    "    def __str__(self):\n",
    "        return '{}의 {}님은 {}입니다'.format(self.academy, self.name, self.gender)\n",
    "\n",
    "print(Person.academy)\n",
    "# print(Person.name) 이건 에러남\n",
    "\n",
    "p1 = Person()\n",
    "p2 = Person()\n",
    "print('p1객체변수(인스턴스) =', p1)\n",
    "print('p2객체변수(인스턴스) =', p2)\n",
    "p1.academy = 'SBS' # 인스턴스(객체).클래스변수로 수정하면 해당 인스턴스(객체)만 반영\n",
    "Person.academy = '다른데' # 클래스명.클래스변수로 수정하면 모든 인스턴스에 반영\n",
    "print('p1객체변수(인스턴스) =', p1)\n",
    "print('p2객체변수(인스턴스) =', p2)\n",
    "\n",
    "# p1.__str__() 인스턴스 메소드 \n",
    "# Person.__str__() 이건 에러남"
   ]
  },
  {
   "cell_type": "markdown",
   "id": "295d4c8e",
   "metadata": {},
   "source": [
    "※ 인스턴스 메소드 vs 클래스 메소드 vs static 메소드\n",
    "\n",
    "- 인스턴스 메소드 : 첫번째 인자에 self를 꼭 명시. 객체를 통해서만 호출할 수 있는 메소드\n",
    "- 클래스 메소드 : 메소드 위에 @classmethod를 명시. 첫번째 인자에 clz(cls)를 명시\n",
    "- static 메소드 : 메소드 위에 @staticmethod를 명시. 디폴트인자가 없음"
   ]
  },
  {
   "cell_type": "code",
   "execution_count": 20,
   "id": "cb09cbfe",
   "metadata": {},
   "outputs": [],
   "source": [
    "class Person:\n",
    "    academy = 'MBC' # 클래스 변수\n",
    "    def __init__(self, name = '홍길동' , gender = '남자'):\n",
    "        self.name = name\n",
    "        self.gender = gender\n",
    "    \n",
    "    def print_info(self): # 인스턴스 메소드 : 객체변수.print_info()로 호출\n",
    "        print('일반(인스턴스)메소드 - {}의 {}님은 {}입니다'.format(self.academy, self.name, self.gender))\n",
    "    def change_info(self, name = '익명', gender = '여자'):\n",
    "        self.name = name\n",
    "        self.gender = gender\n",
    "        print('일반(인스턴스)메소드를 통해 {}로 이름변경. {}로 성별변경'.format(self.name, self.gender))\n",
    "    \n",
    "    @classmethod  # 클래스메소드 바로 위에 써야함. \n",
    "    def do_(cls): # cls → Person의미. 클래스 변수를 이용한 로직\n",
    "        cls.academy = 'classAcademy'\n",
    "        print('클래스 메소드에서 {}로 클래스변수 변경'.format(cls.academy))\n",
    "    @classmethod # 이거 빼면 클래스 메소드가 적영되지 않기 때문에 메소드(함수)마다 classmethod를 넣어주어야함\n",
    "    def done_(cls, academy): \n",
    "        cls.academy = academy\n",
    "        print('클래스 메소드에서 {}로 클래스변수 변경'.format(cls.academy))\n",
    "    @staticmethod\n",
    "    def that_(): # 클래스변수보다는 로직이 우선일 경우\n",
    "        Person.academy = 'staticAcademy'\n",
    "        print('static메소드에서 {}로 클래스변수 변경'.format(Person.academy))"
   ]
  },
  {
   "cell_type": "code",
   "execution_count": 21,
   "id": "d7b44a11",
   "metadata": {},
   "outputs": [
    {
     "name": "stdout",
     "output_type": "stream",
     "text": [
      "일반(인스턴스)메소드 - MBC의 홍길동님은 남자입니다\n"
     ]
    }
   ],
   "source": [
    "p1 = Person()\n",
    "p1.print_info()"
   ]
  },
  {
   "cell_type": "code",
   "execution_count": 22,
   "id": "26d95fce",
   "metadata": {},
   "outputs": [
    {
     "name": "stdout",
     "output_type": "stream",
     "text": [
      "static메소드에서 staticAcademy로 클래스변수 변경\n"
     ]
    }
   ],
   "source": [
    "Person.that_()"
   ]
  },
  {
   "cell_type": "code",
   "execution_count": 23,
   "id": "79a28f7d",
   "metadata": {},
   "outputs": [
    {
     "name": "stdout",
     "output_type": "stream",
     "text": [
      "일반(인스턴스)메소드 - staticAcademy의 홍길동님은 남자입니다\n"
     ]
    }
   ],
   "source": [
    "p1.print_info()"
   ]
  },
  {
   "cell_type": "code",
   "execution_count": 24,
   "id": "6efe585f",
   "metadata": {},
   "outputs": [
    {
     "name": "stdout",
     "output_type": "stream",
     "text": [
      "일반(인스턴스)메소드를 통해 익명로 이름변경. 여자로 성별변경\n",
      "일반(인스턴스)메소드 - staticAcademy의 익명님은 여자입니다\n"
     ]
    }
   ],
   "source": [
    "p1.change_info()\n",
    "p1.print_info()"
   ]
  },
  {
   "cell_type": "code",
   "execution_count": 25,
   "id": "561bea11",
   "metadata": {},
   "outputs": [
    {
     "name": "stdout",
     "output_type": "stream",
     "text": [
      "일반(인스턴스)메소드 - staticAcademy의 홍길동님은 남자입니다\n"
     ]
    }
   ],
   "source": [
    "p2 = Person()\n",
    "p2.print_info()"
   ]
  },
  {
   "cell_type": "code",
   "execution_count": 26,
   "id": "56d6fc32",
   "metadata": {},
   "outputs": [
    {
     "name": "stdout",
     "output_type": "stream",
     "text": [
      "클래스 메소드에서 classAcademy로 클래스변수 변경\n",
      "일반(인스턴스)메소드 - classAcademy의 익명님은 여자입니다\n",
      "일반(인스턴스)메소드 - classAcademy의 홍길동님은 남자입니다\n"
     ]
    }
   ],
   "source": [
    "Person.do_()\n",
    "p1.print_info()\n",
    "p2.print_info()"
   ]
  },
  {
   "cell_type": "code",
   "execution_count": 27,
   "id": "ca643c76",
   "metadata": {},
   "outputs": [
    {
     "name": "stdout",
     "output_type": "stream",
     "text": [
      "클래스 메소드에서 SBS로 클래스변수 변경\n",
      "일반(인스턴스)메소드 - SBS의 익명님은 여자입니다\n",
      "일반(인스턴스)메소드 - SBS의 홍길동님은 남자입니다\n"
     ]
    }
   ],
   "source": [
    "Person.done_('SBS')\n",
    "p1.print_info()\n",
    "p2.print_info()"
   ]
  },
  {
   "cell_type": "markdown",
   "id": "7721199d",
   "metadata": {},
   "source": [
    "# 4절. 상속과 재정의\n",
    "\n",
    "- 클래스 재사용\n",
    "- 상속을 이용하면 부모클래스의 모든 속성을 자식클래스로 물려줄 수 있음\n",
    "```\n",
    "class 자식클래스명(부모클래스명): \n",
    "     (생성자함수 제외하고 부모클래스의 모든게 온다.)\n",
    "```"
   ]
  },
  {
   "cell_type": "code",
   "execution_count": 28,
   "id": "a6491576",
   "metadata": {},
   "outputs": [],
   "source": [
    "class Person:\n",
    "    def __init__(self, name, gender):\n",
    "        self.name = name  # 인스턴스 변수를 초기화\n",
    "        self.gender = gender\n",
    "        print('Person 객체 생성합니다(부모클래스)')\n",
    "    \n",
    "    def print_info(self):\n",
    "        print(self)\n",
    "    def __str__(self): # 오버라이딩(함수의 재정의)\n",
    "        return '{}님은 {}입니다'.format(self.name, self.gender)"
   ]
  },
  {
   "cell_type": "code",
   "execution_count": 35,
   "id": "cbf86c07",
   "metadata": {},
   "outputs": [],
   "source": [
    "class Student(Person):\n",
    "    def __init__(self, name, gender, major):\n",
    "        self.name = name\n",
    "        self.gender = gender\n",
    "        self.major = major\n",
    "        print('Student 객체 생성합니다(자식클래스)')\n",
    "        \n",
    "# 재정의(override) : 부모클래스에서 정의한 함수를 자식클래스에서 다시 정의 \n",
    "    def __str__(self):\n",
    "        return '{}님은 {}입니다. 전공은 {}입니다'.format(self.name, self.gender, self.major)"
   ]
  },
  {
   "cell_type": "code",
   "execution_count": 30,
   "id": "2edbe0ec",
   "metadata": {},
   "outputs": [
    {
     "name": "stdout",
     "output_type": "stream",
     "text": [
      "Person 객체 생성합니다(부모클래스)\n",
      "홍길동님은 남자입니다\n",
      "True\n"
     ]
    }
   ],
   "source": [
    "p1 = Person('홍길동','남자')\n",
    "print(p1)\n",
    "print(isinstance(p1, Person))"
   ]
  },
  {
   "cell_type": "code",
   "execution_count": 36,
   "id": "6c564cbe",
   "metadata": {},
   "outputs": [
    {
     "name": "stdout",
     "output_type": "stream",
     "text": [
      "Student 객체 생성합니다(자식클래스)\n",
      "홍길숙님은 여자입니다. 전공은 AI입니다\n"
     ]
    }
   ],
   "source": [
    "s1 = Student('홍길숙','여자','AI')\n",
    "print(s1)"
   ]
  },
  {
   "cell_type": "code",
   "execution_count": 37,
   "id": "610b7304",
   "metadata": {},
   "outputs": [
    {
     "name": "stdout",
     "output_type": "stream",
     "text": [
      "홍길숙님은 여자입니다. 전공은 AI입니다\n"
     ]
    }
   ],
   "source": [
    "s1.print_info()"
   ]
  },
  {
   "cell_type": "code",
   "execution_count": 39,
   "id": "4e957c97",
   "metadata": {},
   "outputs": [
    {
     "name": "stdout",
     "output_type": "stream",
     "text": [
      "True\n",
      "True\n"
     ]
    }
   ],
   "source": [
    "print(isinstance(s1, Student))\n",
    "print(isinstance(s1, Person)) # 상속받으면 부모클래스 Person형을 먼저 만들고 자식클래스 Student형을 만들기 때문에 s1이 Person형인 것이 True인 것."
   ]
  },
  {
   "cell_type": "markdown",
   "id": "22ad1655",
   "metadata": {},
   "source": [
    "### super()이용\n",
    "- super() : '부모클래스의'를 의미"
   ]
  },
  {
   "cell_type": "code",
   "execution_count": null,
   "id": "1a4b4971",
   "metadata": {},
   "outputs": [],
   "source": [
    "# 상속 받았는데 똑같은것 또 쳐야해? 마음에 안드는 부분 수정하기\n",
    "\n",
    "# super()는 '부모클래스의'를 뜻하는 예약어"
   ]
  },
  {
   "cell_type": "code",
   "execution_count": 40,
   "id": "ff10f917",
   "metadata": {},
   "outputs": [],
   "source": [
    "class Person:\n",
    "    def __init__(self, name, gender):\n",
    "        self.name = name  # 인스턴스 변수를 초기화\n",
    "        self.gender = gender\n",
    "        print('Person 객체 생성합니다(부모클래스)')\n",
    "    \n",
    "    def print_info(self):\n",
    "        print(self)\n",
    "    def __str__(self): # 오버라이딩(함수의 재정의)\n",
    "        return '{}님은 {}입니다'.format(self.name, self.gender)\n",
    "    \n",
    "    \n",
    "class Student(Person):\n",
    "    def __init__(self, name, gender, major):\n",
    "        super().__init__(name,gender)\n",
    "#         self.name = name  \n",
    "#         self.gender = gender 부모 클래스의 이거를 호출하는것\n",
    "        self.major = major\n",
    "        print('Student 객체 생성합니다(자식클래스)')\n",
    "        \n",
    "    def __str__(self):\n",
    "        return super().__str__()+'. 전공은 {}입니다'.format(self.major)"
   ]
  },
  {
   "cell_type": "code",
   "execution_count": 41,
   "id": "7e2c9dfa",
   "metadata": {},
   "outputs": [
    {
     "name": "stdout",
     "output_type": "stream",
     "text": [
      "Person 객체 생성합니다(부모클래스)\n",
      "Student 객체 생성합니다(자식클래스)\n",
      "아무개님은 여자입니다. 전공은 AI입니다\n",
      "아무개님은 여자입니다. 전공은 AI입니다\n"
     ]
    }
   ],
   "source": [
    "s2 = Student('아무개', '여자', 'AI')\n",
    "print(s2)\n",
    "s2.print_info()"
   ]
  },
  {
   "cell_type": "markdown",
   "id": "969f6da6",
   "metadata": {},
   "source": [
    "### static 변수(정적변수) : 여러 객체들 사이에 데이터를 공유하고 싶을 때 사용\n",
    "\n",
    "- static 변수 : 앞에 under score 2개( __ ) 붙임. 클래스명._클래스명__static 변수명으로 참조\n",
    "- static 변수는 클래스 내부에서만 접근하도록 하려는 용도"
   ]
  },
  {
   "cell_type": "code",
   "execution_count": 44,
   "id": "6a086834",
   "metadata": {},
   "outputs": [],
   "source": [
    "class Student(Person):\n",
    "    'name, gender에 major변수를 갖는 Student 타입. Student 객체를 몇번 생성되어 있는지 공유'\n",
    "    __count = 0  # 언더바 2개만 붙이면 static변수.\n",
    "    def __init__(self, name, gender, major):\n",
    "        super().__init__(name, gender)\n",
    "        self.major = major\n",
    "        Student._Student__count += 1 # 객체가 생성될 때마다 __count 1 증가\n",
    "    def __del__(self):\n",
    "        Student._Student__count -= 1 # 객체가 생성될 때마다 __count 1 감소\n",
    "    def __str__(self):\n",
    "        return super().__str__() + '. 전공은 {} - 객체 {} 생성'.format(self.major, Student._Student__count)\n",
    "    \n",
    "    @classmethod\n",
    "    def get_count(cls): # 클래스변수나 static변수를 이용하는 로직일때\n",
    "        return cls.__count\n",
    "        # return Student._Student__count"
   ]
  },
  {
   "cell_type": "code",
   "execution_count": 46,
   "id": "a9c4487d",
   "metadata": {},
   "outputs": [
    {
     "name": "stdout",
     "output_type": "stream",
     "text": [
      "Person 객체 생성합니다(부모클래스)\n",
      "홍길동님은 남자입니다. 전공은 컴공 - 객체 1 생성\n",
      "객체 갯수 : 1\n",
      "객체 갯수 : 1\n"
     ]
    }
   ],
   "source": [
    "s1 = Student('홍길동','남자','컴공')\n",
    "print(s1)\n",
    "print('객체 갯수 :', Student.get_count())\n",
    "print('객체 갯수 :', s1.get_count()) # 클래스 메소드는 클래스명.클래스메소드() 추천"
   ]
  },
  {
   "cell_type": "code",
   "execution_count": 47,
   "id": "8ff0dd1a",
   "metadata": {},
   "outputs": [
    {
     "name": "stdout",
     "output_type": "stream",
     "text": [
      "Person 객체 생성합니다(부모클래스)\n",
      "홍길숙님은 여자입니다. 전공은 컴공 - 객체 2 생성\n",
      "객체 갯수 : 2\n"
     ]
    }
   ],
   "source": [
    "s2 = Student('홍길숙','여자','컴공')\n",
    "print(s2)\n",
    "print('객체 갯수 :', Student.get_count())"
   ]
  },
  {
   "cell_type": "code",
   "execution_count": 48,
   "id": "ab9759d6",
   "metadata": {},
   "outputs": [],
   "source": [
    "del s1"
   ]
  },
  {
   "cell_type": "code",
   "execution_count": 49,
   "id": "0d9e0a86",
   "metadata": {},
   "outputs": [
    {
     "name": "stdout",
     "output_type": "stream",
     "text": [
      "객체 갯수 : 1\n"
     ]
    }
   ],
   "source": [
    "print('객체 갯수 :', Student.get_count())"
   ]
  },
  {
   "cell_type": "code",
   "execution_count": 50,
   "id": "897a34b3",
   "metadata": {},
   "outputs": [],
   "source": [
    "del s2"
   ]
  },
  {
   "cell_type": "code",
   "execution_count": 51,
   "id": "959ab5fb",
   "metadata": {},
   "outputs": [
    {
     "name": "stdout",
     "output_type": "stream",
     "text": [
      "객체 갯수 : 0\n"
     ]
    }
   ],
   "source": [
    "print('객체 갯수 :', Student.get_count())"
   ]
  },
  {
   "cell_type": "markdown",
   "id": "36fef1ab",
   "metadata": {},
   "source": [
    "# 5절. 연습문제"
   ]
  },
  {
   "cell_type": "markdown",
   "id": "c87bb5bc",
   "metadata": {},
   "source": [
    "## 실습형"
   ]
  },
  {
   "cell_type": "code",
   "execution_count": null,
   "id": "d8be2c94",
   "metadata": {},
   "outputs": [],
   "source": [
    "'''1.다음 조건을 만족하는 클래스를 작성하세요\n",
    "    - 도형 (Shape)클래스와 삼각형 (Triangle) 클래스를 만들어야 합니다\n",
    "    - 도형 (Shape)클래스\n",
    "          - 생성자를 통해 x, y 좌표를 초기화할 수 있습니다 . x, y 좌표의 기본값은 0, 0 입니다\n",
    "          - x, y 좌표를 이동시킬 수 있는 move 함수가 있습니다\n",
    "          - x, y 좌표값 정보를 문자열로 리턴하는 __str__ 함수가 있습니다\n",
    "          - 도형의 면적을 구하는 함수 (calc_area) 가 있습니다 . 다만 도형 클래스의 calc_area() 는\n",
    "            구현되어 있지 않아 호출하면 오류가 발생합니다 (파이썬은 추상메소드가 없음 추상메소드 역할을 구현)\n",
    "          - 정적메소드 (staticmethod) 를 하나 이상 구현합니다\n",
    "\n",
    "    - '삼각형 (Triangle) 클래스는 도형 (Shape) 클래스이다' 관계가 성립해야 합니다\n",
    "        - 생성자를 통해 , width, height, x, y 좌표를 초기화하고 x, y 좌표의 기본값은 0, 0 입니다\n",
    "        - 삼각형의 면적을 구하는 메소드 calc_area 를 재정의합니다\n",
    "        - 삼각형의 정보를 문자열로 반환하는 __str__() 함수가 있습니다\n",
    "        - 삼각형 객체가 몇 개가 만들어져 있는지 정보를 저장하는 클래스 변수를 추가하고\n",
    "          생성자에서 객체를 만들 때마다 증가시키고 소멸자에서 객체를 소멸시킬 때마다 감소합니다 '''"
   ]
  },
  {
   "cell_type": "code",
   "execution_count": null,
   "id": "a17d95ad",
   "metadata": {},
   "outputs": [],
   "source": [
    "# 강사님의 가이드라인\n",
    "class Shape:\n",
    "    def __init__(self, x, y):\n",
    "        pass\n",
    "    def move(self, x, y): # x축으로 얼마 move할지, y축으로 얼마 move할지를 받아 move\n",
    "        pass\n",
    "    def cal_area(self): # 호출시 강제로 예외발생\n",
    "        raise Exception('예외메세지') # Exception은 기본적으로 쓸 수 있는 클래스. 예외발생시 나오는 클래스\n",
    "    def __str__(self):\n",
    "        pass\n",
    "    \n",
    "    @staticmethod\n",
    "    def staticmethod_():\n",
    "        print('도형 클래스의 staticmethod 호출')"
   ]
  },
  {
   "cell_type": "code",
   "execution_count": 53,
   "id": "e528a7ff",
   "metadata": {},
   "outputs": [],
   "source": [
    "# 풀이 \n",
    "\n",
    "class Shape:\n",
    "    def __init__(self, x=0, y=0):\n",
    "        self.x = x\n",
    "        self.y = y\n",
    "    def move(self, x, y): # x축으로 얼마 move할지, y축으로 얼마 move할지를 받아 move\n",
    "        self.x += x\n",
    "        self.y += y\n",
    "    def cal_area(self): # 호출시 강제로 예외발생\n",
    "        raise Exception('예외메세지') # Exception은 기본적으로 쓸 수 있는 클래스. 예외발생시 나오는 클래스\n",
    "    def __str__(self):\n",
    "        return '{},{}의 좌표값'.format(self.x, self.y)\n",
    "    \n",
    "    @staticmethod\n",
    "    def staticmethod_():\n",
    "        print('도형 클래스의 staticmethod 호출')\n",
    "        \n",
    "        \n",
    "class Triangle(Shape):\n",
    "    def __init__(self, width, heigt, x=0, y=0):\n",
    "        super().__init__(x,y)\n",
    "        self.width = width\n",
    "        self.heigt = heigt\n",
    "        Triangle._Triangle__count += 1\n",
    "    def __del__(self):\n",
    "        Triangle._Triangle__count -= 1\n",
    "    def cal_area(self):\n",
    "        return (self.x*self.heigt)/2\n",
    "    def __str__(self):\n",
    "        return super().__str__()+', 높이는 {}, 넓이는 {} - 객체 갯수 : {}'.format(self.heigt, self.width, Triangle._Triangle__count)\n",
    "    \n",
    "    \n",
    "    \n",
    "    @classmethod\n",
    "    def get_count(cls):\n",
    "        return cls.__count\n",
    "    "
   ]
  },
  {
   "cell_type": "code",
   "execution_count": 55,
   "id": "5066dbea",
   "metadata": {},
   "outputs": [
    {
     "name": "stdout",
     "output_type": "stream",
     "text": [
      "3,4의 좌표값\n"
     ]
    }
   ],
   "source": [
    "s1 = Shape(3,4)\n",
    "print(s1)\n",
    "Shape.move"
   ]
  },
  {
   "cell_type": "code",
   "execution_count": null,
   "id": "fff24ecd",
   "metadata": {},
   "outputs": [],
   "source": [
    "# 1번 정답\n",
    "class Shape:\n",
    "    def __init__(self, x=0, y=0):\n",
    "        self.x = x\n",
    "        self.y = y\n",
    "    def move(self, x, y): # x축으로 얼마 move할지, y축으로 얼마 move할지를 받아 move\n",
    "        self.x += x\n",
    "        self.y += y\n",
    "    def cal_area(self): # 호출시 강제로 예외발생\n",
    "        raise Exception(\"예외메세지\")\n",
    "    def __str__(self):\n",
    "        return \"x좌표값:{}, y좌표값:{}\".format(self.x, self.y)\n",
    "    @staticmethod\n",
    "    def staticmethod_():\n",
    "        print('도형 클래스의 staticmethod 호출')"
   ]
  },
  {
   "cell_type": "code",
   "execution_count": null,
   "id": "fb8f28c4",
   "metadata": {},
   "outputs": [],
   "source": [
    "# 2번 정답\n",
    "class Triangle(Shape):\n",
    "    __count = 0\n",
    "    def __init__(self, width, height, x=0, y=0):\n",
    "        Triangle._Triangle__count += 1\n",
    "        super().__init__(x, y)\n",
    "        self.width = width\n",
    "        self.height = height    \n",
    "    def __del__(self):\n",
    "        Triangle._Triangle__count -= 1        \n",
    "    def __str__(self):\n",
    "        return super().__str__() + \", width:{}, height:{}, area:{}\".\\\n",
    "                            format(self.width, self.height, self.calc_area())    \n",
    "    def calc_area(self):\n",
    "        return (self.width*self.height)/2    \n",
    "    @classmethod\n",
    "    def get_count(cls):\n",
    "        return cls.__count"
   ]
  },
  {
   "cell_type": "code",
   "execution_count": null,
   "id": "375f83f8",
   "metadata": {},
   "outputs": [],
   "source": [
    "t1 = Triangle(10, 20)\n",
    "t2 = Triangle(3, 4, 5, 5)\n",
    "print(t1)\n",
    "print(t2)\n",
    "print('객체 갯수 :', Triangle.get_count())"
   ]
  },
  {
   "cell_type": "code",
   "execution_count": null,
   "id": "ad5719e1",
   "metadata": {},
   "outputs": [],
   "source": [
    "t1.move(50,50)\n",
    "print(t1)"
   ]
  },
  {
   "cell_type": "code",
   "execution_count": null,
   "id": "d41b9087",
   "metadata": {},
   "outputs": [],
   "source": [
    "del t1, t2\n",
    "print('객체 갯수 :', Triangle.get_count())"
   ]
  },
  {
   "cell_type": "markdown",
   "id": "fa7c67cc",
   "metadata": {},
   "source": [
    "## 서술형"
   ]
  },
  {
   "cell_type": "code",
   "execution_count": null,
   "id": "2ddada66",
   "metadata": {},
   "outputs": [],
   "source": [
    "# 1번. "
   ]
  },
  {
   "cell_type": "code",
   "execution_count": null,
   "id": "4838f5e9",
   "metadata": {},
   "outputs": [],
   "source": [
    "# 2번."
   ]
  },
  {
   "cell_type": "code",
   "execution_count": null,
   "id": "e62c5c97",
   "metadata": {},
   "outputs": [],
   "source": [
    "# 3번."
   ]
  },
  {
   "cell_type": "code",
   "execution_count": null,
   "id": "f8bcdda6",
   "metadata": {},
   "outputs": [],
   "source": [
    "# 4번."
   ]
  },
  {
   "cell_type": "code",
   "execution_count": null,
   "id": "67d0101f",
   "metadata": {},
   "outputs": [],
   "source": [
    "# 5번."
   ]
  },
  {
   "cell_type": "code",
   "execution_count": null,
   "id": "b10f09ba",
   "metadata": {},
   "outputs": [],
   "source": [
    "# 6번."
   ]
  },
  {
   "cell_type": "code",
   "execution_count": null,
   "id": "1794b4c0",
   "metadata": {},
   "outputs": [],
   "source": [
    "# 7번."
   ]
  },
  {
   "cell_type": "code",
   "execution_count": null,
   "id": "01ef5df8",
   "metadata": {},
   "outputs": [],
   "source": [
    "# 8번. "
   ]
  },
  {
   "cell_type": "code",
   "execution_count": null,
   "id": "332f9d48",
   "metadata": {},
   "outputs": [],
   "source": [
    "# 9번."
   ]
  }
 ],
 "metadata": {
  "kernelspec": {
   "display_name": "Python 3 (ipykernel)",
   "language": "python",
   "name": "python3"
  },
  "language_info": {
   "codemirror_mode": {
    "name": "ipython",
    "version": 3
   },
   "file_extension": ".py",
   "mimetype": "text/x-python",
   "name": "python",
   "nbconvert_exporter": "python",
   "pygments_lexer": "ipython3",
   "version": "3.10.9"
  },
  "toc": {
   "base_numbering": 1,
   "nav_menu": {},
   "number_sections": false,
   "sideBar": true,
   "skip_h1_title": false,
   "title_cell": "Table of Contents",
   "title_sidebar": "Contents",
   "toc_cell": false,
   "toc_position": {
    "height": "calc(100% - 180px)",
    "left": "10px",
    "top": "150px",
    "width": "165px"
   },
   "toc_section_display": true,
   "toc_window_display": true
  }
 },
 "nbformat": 4,
 "nbformat_minor": 5
}
