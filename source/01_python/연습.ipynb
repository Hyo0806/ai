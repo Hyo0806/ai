{
 "cells": [
  {
   "cell_type": "code",
   "execution_count": 1,
   "id": "e1aa47e8",
   "metadata": {},
   "outputs": [
    {
     "data": {
      "text/html": [
       "\n",
       "<style>\n",
       "div.container{width:90% !important;}\n",
       "div.cell.code_cell.rendered{width:100%;}\n",
       "div.input_prompt{padding:0px;}\n",
       "div.CodeMirror {font-family:Consolas; font-size:12pt;}\n",
       "div.text_cell_render.rendered_html{font-size:12pt;}\n",
       "div.output {font-size:12pt; font-weight:bold;}\n",
       "div.input {font-family:Consolas; font-size:12pt;}\n",
       "div.prompt {min-width:70px;}\n",
       "div#toc-wrapper{padding-top:120px;}\n",
       "div.text_cell_render ul li{font-size:12pt;padding:5px;}\n",
       "table.dataframe{font-size:12px;}\n",
       "</style>\n"
      ],
      "text/plain": [
       "<IPython.core.display.HTML object>"
      ]
     },
     "metadata": {},
     "output_type": "display_data"
    }
   ],
   "source": [
    "from IPython.display import display, HTML\n",
    "display(HTML(\"\"\"\n",
    "<style>\n",
    "div.container{width:90% !important;}\n",
    "div.cell.code_cell.rendered{width:100%;}\n",
    "div.input_prompt{padding:0px;}\n",
    "div.CodeMirror {font-family:Consolas; font-size:12pt;}\n",
    "div.text_cell_render.rendered_html{font-size:12pt;}\n",
    "div.output {font-size:12pt; font-weight:bold;}\n",
    "div.input {font-family:Consolas; font-size:12pt;}\n",
    "div.prompt {min-width:70px;}\n",
    "div#toc-wrapper{padding-top:120px;}\n",
    "div.text_cell_render ul li{font-size:12pt;padding:5px;}\n",
    "table.dataframe{font-size:12px;}\n",
    "</style>\n",
    "\"\"\"))"
   ]
  },
  {
   "cell_type": "markdown",
   "id": "1ee6baf4",
   "metadata": {},
   "source": [
    "# 복사용"
   ]
  },
  {
   "cell_type": "markdown",
   "id": "01fd16a1",
   "metadata": {},
   "source": [
    "- 정답\n",
    "<!-- 1. \n",
    "\n",
    "-->\n",
    "\n",
    "<!-- 2.\n",
    "\n",
    "-->"
   ]
  },
  {
   "cell_type": "code",
   "execution_count": 28,
   "id": "da03b757",
   "metadata": {},
   "outputs": [],
   "source": [
    "# 연습"
   ]
  },
  {
   "cell_type": "markdown",
   "id": "0ea3fa0c",
   "metadata": {},
   "source": [
    "# 4절. 람다식\n",
    "## 4.1 람다식 연습"
   ]
  },
  {
   "cell_type": "markdown",
   "id": "3d4d9b92",
   "metadata": {},
   "source": [
    "## 4.2 함수의 매개변수\n",
    "### (1) map"
   ]
  },
  {
   "cell_type": "code",
   "execution_count": 29,
   "id": "821fb70a",
   "metadata": {},
   "outputs": [],
   "source": [
    "# 1. 2배로 출력(map)\n",
    "# 2. 2배로 출력(리스트컴프리헨션)\n",
    "\n",
    "list_data = [1,2,3,4,5,6,7,8,9]"
   ]
  },
  {
   "cell_type": "markdown",
   "id": "0a68eb8d",
   "metadata": {},
   "source": [
    "- 정답\n",
    "<!-- 1. \n",
    "list(map(lambda x : x*2, list_data))\n",
    "-->\n",
    "\n",
    "<!-- 2.\n",
    "for data in map(lambda x : x*2, list_data)\n",
    "-->"
   ]
  },
  {
   "cell_type": "code",
   "execution_count": null,
   "id": "356e2aab",
   "metadata": {},
   "outputs": [],
   "source": []
  },
  {
   "cell_type": "code",
   "execution_count": null,
   "id": "e8fa242b",
   "metadata": {},
   "outputs": [],
   "source": []
  },
  {
   "cell_type": "code",
   "execution_count": null,
   "id": "286c96c2",
   "metadata": {},
   "outputs": [],
   "source": []
  },
  {
   "cell_type": "code",
   "execution_count": null,
   "id": "37cdcc9d",
   "metadata": {},
   "outputs": [],
   "source": []
  },
  {
   "cell_type": "code",
   "execution_count": null,
   "id": "5366e797",
   "metadata": {},
   "outputs": [],
   "source": []
  },
  {
   "cell_type": "code",
   "execution_count": null,
   "id": "95a37487",
   "metadata": {},
   "outputs": [],
   "source": []
  },
  {
   "cell_type": "markdown",
   "id": "3e4adb0f",
   "metadata": {},
   "source": [
    "### (2) filter"
   ]
  },
  {
   "cell_type": "markdown",
   "id": "133e4434",
   "metadata": {},
   "source": [
    "### (3) sort"
   ]
  },
  {
   "cell_type": "code",
   "execution_count": null,
   "id": "43aa3dbd",
   "metadata": {},
   "outputs": [],
   "source": [
    "# 1번째 item 기준으로 내림차순 정렬\n",
    "\n",
    "pairs = [(2, 'two'), (1,'one'), (3,'three'), (4, 'four')]"
   ]
  },
  {
   "cell_type": "code",
   "execution_count": null,
   "id": "afc0ca21",
   "metadata": {},
   "outputs": [],
   "source": [
    "# 연습"
   ]
  },
  {
   "cell_type": "markdown",
   "id": "487e4706",
   "metadata": {},
   "source": [
    "- 정답\n",
    "<!-- \n",
    "pairs.sort(key=lambda data : data[1], reverse=True)\n",
    "pairs -->"
   ]
  },
  {
   "cell_type": "code",
   "execution_count": null,
   "id": "e76fe304",
   "metadata": {},
   "outputs": [],
   "source": [
    "# 1. 0번째 item이 큰 순\n",
    "# 2. 합이 큰 순으로 정렬\n",
    "\n",
    "number_2d = [[9,9], [1,100], [10,200,2]]"
   ]
  },
  {
   "cell_type": "code",
   "execution_count": null,
   "id": "c441742c",
   "metadata": {},
   "outputs": [],
   "source": [
    "# 연습"
   ]
  },
  {
   "cell_type": "markdown",
   "id": "0fad7369",
   "metadata": {},
   "source": [
    "- 정답\n",
    "<!-- 1. \n",
    "number_2d.sort()\n",
    "print(number_2d) -->\n",
    "\n",
    "<!-- 2.\n",
    "number_2d.sort(key=lambda items : sum(items), reverse=True)\n",
    "print(number_2d) -->"
   ]
  },
  {
   "cell_type": "code",
   "execution_count": null,
   "id": "93d95923",
   "metadata": {},
   "outputs": [],
   "source": [
    "# 1. students를 name 순으로 정렬(ㄱㄴㄷ순 - 오름차순 정렬)\n",
    "# 2. studendts를 score 큰 순 정렬\n",
    "\n",
    "students = [{'name':'홍', 'score':99},\n",
    "           {'name':'김', 'score':50},\n",
    "           {'name':'박', 'score':77},\n",
    "           {'score':100},]"
   ]
  },
  {
   "cell_type": "code",
   "execution_count": null,
   "id": "f4a24a73",
   "metadata": {},
   "outputs": [],
   "source": [
    "# 1. no 기준으로 sort\n",
    "# 2. title 기준으로 sort\n",
    "\n",
    "books = \\\n",
    "   [{'no':2, 'title':'더트릭컬', 'writer':'폴빠','price':'19,800'},\n",
    "    {'no':1, 'title':'흔한남매', 'writer':'백난도', 'price':'15,120'},\n",
    "    {'no':3, 'title':'단 한 번의 삶', 'writer':'김영하', 'price':'15,120'},\n",
    "    {'no':4, 'title':'가격잘못', 'writer':'홍길동', 'price':'ㅁ'},\n",
    "    {'no':5, 'title':'가격이숫자', 'writer':'백난도', 'price':30200},\n",
    "    {'no':6, 'title':'가격이없음', 'writer':'이길동'},] "
   ]
  },
  {
   "cell_type": "code",
   "execution_count": null,
   "id": "3efeb4d0",
   "metadata": {},
   "outputs": [],
   "source": [
    "# 연습"
   ]
  },
  {
   "cell_type": "markdown",
   "id": "562d8e9c",
   "metadata": {},
   "source": [
    "- 정답\n",
    "<!-- 1. \n",
    "books.sort(key=lambda data : data.get('no'))\n",
    "books\n",
    "-->\n",
    "\n",
    "<!-- 2.\n",
    "books.sort(key=lambda data : data.get('title'))\n",
    "books\n",
    "-->\n",
    "\n",
    "<!-- 3.\n",
    "\n",
    "-->"
   ]
  },
  {
   "cell_type": "code",
   "execution_count": null,
   "id": "407a9356",
   "metadata": {},
   "outputs": [],
   "source": []
  },
  {
   "cell_type": "code",
   "execution_count": null,
   "id": "175ec7df",
   "metadata": {},
   "outputs": [],
   "source": []
  },
  {
   "cell_type": "code",
   "execution_count": null,
   "id": "1a3c2654",
   "metadata": {},
   "outputs": [],
   "source": []
  },
  {
   "cell_type": "code",
   "execution_count": null,
   "id": "5088493f",
   "metadata": {},
   "outputs": [],
   "source": []
  },
  {
   "cell_type": "code",
   "execution_count": null,
   "id": "c9f13bf0",
   "metadata": {},
   "outputs": [],
   "source": []
  },
  {
   "cell_type": "code",
   "execution_count": null,
   "id": "1293d350",
   "metadata": {},
   "outputs": [],
   "source": []
  },
  {
   "cell_type": "code",
   "execution_count": null,
   "id": "6e79545f",
   "metadata": {},
   "outputs": [],
   "source": []
  },
  {
   "cell_type": "code",
   "execution_count": null,
   "id": "d4903f26",
   "metadata": {},
   "outputs": [],
   "source": []
  },
  {
   "cell_type": "code",
   "execution_count": null,
   "id": "650fa609",
   "metadata": {},
   "outputs": [],
   "source": []
  },
  {
   "cell_type": "code",
   "execution_count": null,
   "id": "da7e7249",
   "metadata": {},
   "outputs": [],
   "source": []
  },
  {
   "cell_type": "code",
   "execution_count": null,
   "id": "c925e45e",
   "metadata": {},
   "outputs": [],
   "source": []
  },
  {
   "cell_type": "code",
   "execution_count": null,
   "id": "a740678a",
   "metadata": {},
   "outputs": [],
   "source": []
  },
  {
   "cell_type": "code",
   "execution_count": null,
   "id": "86961f39",
   "metadata": {},
   "outputs": [],
   "source": []
  },
  {
   "cell_type": "code",
   "execution_count": null,
   "id": "ac9678bf",
   "metadata": {},
   "outputs": [],
   "source": []
  }
 ],
 "metadata": {
  "kernelspec": {
   "display_name": "Python 3 (ipykernel)",
   "language": "python",
   "name": "python3"
  },
  "language_info": {
   "codemirror_mode": {
    "name": "ipython",
    "version": 3
   },
   "file_extension": ".py",
   "mimetype": "text/x-python",
   "name": "python",
   "nbconvert_exporter": "python",
   "pygments_lexer": "ipython3",
   "version": "3.10.9"
  },
  "toc": {
   "base_numbering": 1,
   "nav_menu": {},
   "number_sections": false,
   "sideBar": true,
   "skip_h1_title": false,
   "title_cell": "Table of Contents",
   "title_sidebar": "Contents",
   "toc_cell": false,
   "toc_position": {
    "height": "calc(100% - 180px)",
    "left": "10px",
    "top": "150px",
    "width": "165px"
   },
   "toc_section_display": true,
   "toc_window_display": true
  }
 },
 "nbformat": 4,
 "nbformat_minor": 5
}
