{
 "cells": [
  {
   "cell_type": "code",
   "execution_count": 1,
   "id": "e1aa47e8",
   "metadata": {},
   "outputs": [
    {
     "data": {
      "text/html": [
       "\n",
       "<style>\n",
       "div.container{width:90% !important;}\n",
       "div.cell.code_cell.rendered{width:100%;}\n",
       "div.input_prompt{padding:0px;}\n",
       "div.CodeMirror {font-family:Consolas; font-size:12pt;}\n",
       "div.text_cell_render.rendered_html{font-size:12pt;}\n",
       "div.output {font-size:12pt; font-weight:bold;}\n",
       "div.input {font-family:Consolas; font-size:12pt;}\n",
       "div.prompt {min-width:70px;}\n",
       "div#toc-wrapper{padding-top:120px;}\n",
       "div.text_cell_render ul li{font-size:12pt;padding:5px;}\n",
       "table.dataframe{font-size:12px;}\n",
       "</style>\n"
      ],
      "text/plain": [
       "<IPython.core.display.HTML object>"
      ]
     },
     "metadata": {},
     "output_type": "display_data"
    }
   ],
   "source": [
    "from IPython.display import display, HTML\n",
    "display(HTML(\"\"\"\n",
    "<style>\n",
    "div.container{width:90% !important;}\n",
    "div.cell.code_cell.rendered{width:100%;}\n",
    "div.input_prompt{padding:0px;}\n",
    "div.CodeMirror {font-family:Consolas; font-size:12pt;}\n",
    "div.text_cell_render.rendered_html{font-size:12pt;}\n",
    "div.output {font-size:12pt; font-weight:bold;}\n",
    "div.input {font-family:Consolas; font-size:12pt;}\n",
    "div.prompt {min-width:70px;}\n",
    "div#toc-wrapper{padding-top:120px;}\n",
    "div.text_cell_render ul li{font-size:12pt;padding:5px;}\n",
    "table.dataframe{font-size:12px;}\n",
    "</style>\n",
    "\"\"\"))"
   ]
  },
  {
   "cell_type": "markdown",
   "id": "1ee6baf4",
   "metadata": {},
   "source": [
    "# 복사용"
   ]
  },
  {
   "cell_type": "markdown",
   "id": "01fd16a1",
   "metadata": {},
   "source": [
    "- 정답\n",
    "<!-- 1. \n",
    "\n",
    "-->\n",
    "\n",
    "<!-- 2.\n",
    "\n",
    "-->"
   ]
  },
  {
   "cell_type": "code",
   "execution_count": null,
   "id": "da03b757",
   "metadata": {},
   "outputs": [],
   "source": [
    "# 연습"
   ]
  },
  {
   "cell_type": "markdown",
   "id": "c9d68c7b",
   "metadata": {},
   "source": [
    "# 2장. 자료형과 연산자\n",
    "## 3절. 기본 자료형\n",
    "### 3.2 문자형\n",
    "#### row 데이터"
   ]
  },
  {
   "cell_type": "code",
   "execution_count": null,
   "id": "2bae38e1",
   "metadata": {},
   "outputs": [],
   "source": [
    "# tel_pattern 정규표현식 작성 후 모든 데이터 추출\n",
    "\n",
    "data = \"이름:홍길동, 주소:서울, 전화:02-888-8888, \\\n",
    "핸드폰:010-9999-9999, 특징:동해번쩍 서해번쩍\\\n",
    "혈액형:Bㅋㅋ ㅋㅋzz\""
   ]
  },
  {
   "cell_type": "code",
   "execution_count": null,
   "id": "18c75ef7",
   "metadata": {},
   "outputs": [],
   "source": [
    "# 연습"
   ]
  },
  {
   "cell_type": "markdown",
   "id": "b029c4b5",
   "metadata": {},
   "source": [
    "- 정답\n",
    "<!-- 1. \n",
    "tel_pattern = r\"0\\d{1,2}[ \\-\\.)]?\\d{3,4}[ \\-\\.]?\\d{4}\"\n",
    "tels = re.findall(tel_pattern, data) \n",
    "tels\n",
    "-->"
   ]
  },
  {
   "cell_type": "code",
   "execution_count": null,
   "id": "8605dfae",
   "metadata": {},
   "outputs": [],
   "source": [
    "# firtsTel의 전체 번호, 국번, 중간번호, 끝번호를 차례대로 출력하라.\n",
    "\n",
    "firstTel = re.search(tel_pattern, data)"
   ]
  },
  {
   "cell_type": "code",
   "execution_count": null,
   "id": "1b583dcb",
   "metadata": {},
   "outputs": [],
   "source": [
    "# 연습"
   ]
  },
  {
   "cell_type": "markdown",
   "id": "fe9cec2b",
   "metadata": {},
   "source": [
    "- 정답\n",
    "<!-- 1. \n",
    "print('전체 전화번호 :', firstPhone.group(0))\n",
    "print('국번 :', firstPhone.group(1))\n",
    "print('중간번호 :', firstPhone.group(2))\n",
    "print('끝번호 :', firstPhone.group(3))\n",
    "-->"
   ]
  },
  {
   "cell_type": "code",
   "execution_count": null,
   "id": "f16e722c",
   "metadata": {},
   "outputs": [],
   "source": [
    "# data에서 ㅋㅋzz 없애기"
   ]
  },
  {
   "cell_type": "code",
   "execution_count": null,
   "id": "d4a5ba4a",
   "metadata": {},
   "outputs": [],
   "source": [
    "# 연습"
   ]
  },
  {
   "cell_type": "markdown",
   "id": "db69cbc5",
   "metadata": {},
   "source": [
    "- 정답\n",
    "<!-- 1. \n",
    "re.sub(\"[^가-힣0-9A-Z\\s]\", '', data)\n",
    "-->"
   ]
  },
  {
   "cell_type": "code",
   "execution_count": null,
   "id": "1c098836",
   "metadata": {},
   "outputs": [],
   "source": [
    "# data에서 전화번호 없애기"
   ]
  },
  {
   "cell_type": "code",
   "execution_count": null,
   "id": "8d18e84a",
   "metadata": {},
   "outputs": [],
   "source": [
    "# 연습"
   ]
  },
  {
   "cell_type": "markdown",
   "id": "00599636",
   "metadata": {},
   "source": [
    "- 정답\n",
    "<!-- 1. \n",
    "tel_pattern = r\"0\\d{1,2}[ \\-\\.)]?\\d{3,4}[ \\-\\.]?\\d{4}\"\n",
    "re.sub(tel_pattern, ' ', data)\n",
    "-->"
   ]
  },
  {
   "cell_type": "markdown",
   "id": "655ab6ed",
   "metadata": {},
   "source": [
    "#### 문자열 인덱싱"
   ]
  },
  {
   "cell_type": "code",
   "execution_count": null,
   "id": "29e50572",
   "metadata": {},
   "outputs": [],
   "source": [
    "# 0,2,뒤에서 첫번째,뒤에서 세번째 인덱싱 추출\n",
    "\n",
    "str_='0123456789'"
   ]
  },
  {
   "cell_type": "code",
   "execution_count": null,
   "id": "e8f3c32f",
   "metadata": {},
   "outputs": [],
   "source": [
    "# 연습"
   ]
  },
  {
   "cell_type": "markdown",
   "id": "794fcd61",
   "metadata": {},
   "source": [
    "- 정답\n",
    "<!-- 1. \n",
    "str_[0],str_[2],str_[-1],str_[-3]\n",
    "-->"
   ]
  },
  {
   "cell_type": "markdown",
   "id": "8fc65c4a",
   "metadata": {},
   "source": [
    "#### 문자열 슬라이싱"
   ]
  },
  {
   "cell_type": "code",
   "execution_count": null,
   "id": "6404a169",
   "metadata": {},
   "outputs": [],
   "source": [
    "# str_에서 3번째 까지 추출\n",
    "# str_에서 6번째부터 끝까지 추출\n",
    "# str_에서 짝수번째 추출\n",
    "# 마지막부터 처음까지 거꾸로 출력"
   ]
  },
  {
   "cell_type": "code",
   "execution_count": null,
   "id": "646ffda5",
   "metadata": {},
   "outputs": [],
   "source": [
    "# 연습"
   ]
  },
  {
   "cell_type": "markdown",
   "id": "cab72e71",
   "metadata": {},
   "source": [
    "- 정답\n",
    "<!-- 1. \n",
    "str_[0:3], str_[:3]\n",
    "-->\n",
    "\n",
    "<!-- 2.\n",
    "str_[5:10], str_[5:]\n",
    "-->\n",
    "\n",
    "<!-- 3. \n",
    "str_[0:10:2]\n",
    "-->\n",
    "\n",
    "<!-- 4. \n",
    "print(str_[::-1])\n",
    "print(str_[9::-1])\n",
    "print(str_[-1::-1])\n",
    "-->"
   ]
  },
  {
   "cell_type": "markdown",
   "id": "9ffe52e6",
   "metadata": {},
   "source": [
    "### 3.3 논리형"
   ]
  },
  {
   "cell_type": "code",
   "execution_count": null,
   "id": "08823077",
   "metadata": {},
   "outputs": [],
   "source": [
    "# 이름을 입력받고 이름을 입력하지 않을 시 '이름을 입력 안 하셨군요' 출력"
   ]
  },
  {
   "cell_type": "code",
   "execution_count": null,
   "id": "01ae0789",
   "metadata": {},
   "outputs": [],
   "source": [
    "# 연습"
   ]
  },
  {
   "cell_type": "markdown",
   "id": "d142d13d",
   "metadata": {},
   "source": [
    "- 정답\n",
    "<!-- 1. \n",
    "name = input('이름은?')\n",
    "if name: \n",
    "    print('당신 이름은', name)\n",
    "else:\n",
    "    print('이름을 입력 안 하셨군요')\n",
    "-->"
   ]
  },
  {
   "cell_type": "markdown",
   "id": "b507a9c3",
   "metadata": {},
   "source": [
    "## 4절. 포맷팅\n",
    "### 4.1 문자열에 형식 지정"
   ]
  },
  {
   "cell_type": "code",
   "execution_count": null,
   "id": "c435bc9d",
   "metadata": {},
   "outputs": [],
   "source": [
    "# 홍길동님의 나이는 30살입니다. 출력\n",
    "\n",
    "name = '홍길동'\n",
    "age = 30"
   ]
  },
  {
   "cell_type": "code",
   "execution_count": null,
   "id": "7f443538",
   "metadata": {},
   "outputs": [],
   "source": [
    "# 연습"
   ]
  },
  {
   "cell_type": "markdown",
   "id": "6a03ac32",
   "metadata": {},
   "source": [
    "- 정답\n",
    "<!-- 1. \n",
    "print(f'{name}님의 나이는 {age}살입니다')\n",
    "print(\"{}님의 나이는 {}살입니다\".format(name, age))\n",
    "-->"
   ]
  },
  {
   "cell_type": "markdown",
   "id": "25e8055e",
   "metadata": {},
   "source": [
    "### 4.2 format() 문법"
   ]
  },
  {
   "cell_type": "code",
   "execution_count": null,
   "id": "dbf45fea",
   "metadata": {},
   "outputs": [],
   "source": [
    "# 4자리 정렬. a는 왼쪽 정렬, b는 가운데 정렬, c는 오른쪽 정렬하기\n",
    "\n",
    "a, b, c = 10, 20, 3"
   ]
  },
  {
   "cell_type": "code",
   "execution_count": null,
   "id": "da9c86cc",
   "metadata": {},
   "outputs": [],
   "source": [
    "# 연습"
   ]
  },
  {
   "cell_type": "markdown",
   "id": "7405d8e8",
   "metadata": {},
   "source": [
    "- 정답\n",
    "<!-- 1. \n",
    "print('[{:<4}] [{:^4}] [{:>4}]'.format(a,b,c))\n",
    "-->"
   ]
  },
  {
   "cell_type": "code",
   "execution_count": null,
   "id": "a5f2caa4",
   "metadata": {},
   "outputs": [],
   "source": [
    "# 6자리, 소숫점 2번째 자리까지 정렬. a는 $표시를 앞에 붙이고  우측정렬. c도 우측정렬.\n",
    "\n",
    "a = 10\n",
    "f = 12.569\n",
    "s = 'Hello'"
   ]
  },
  {
   "cell_type": "code",
   "execution_count": null,
   "id": "acf73ad9",
   "metadata": {},
   "outputs": [],
   "source": [
    "# 연습"
   ]
  },
  {
   "cell_type": "markdown",
   "id": "cfb5bc3d",
   "metadata": {},
   "source": [
    "- 정답\n",
    "<!-- 1. \n",
    "print('[{:$>6.2f}] [{:6.2f}] [{:_>6.2}]'.format(a,f,s))\n",
    "-->\n"
   ]
  },
  {
   "cell_type": "markdown",
   "id": "a1150e46",
   "metadata": {},
   "source": [
    "### 4.3 날짜출력"
   ]
  },
  {
   "cell_type": "code",
   "execution_count": null,
   "id": "caf00159",
   "metadata": {},
   "outputs": [],
   "source": [
    "# 아래 형식에 맞게 출력하시오\n",
    "# 25년 09월 11일 00시 00분 00초\n",
    "# 25년 09월 11일 PM 02시 30분 00초\n",
    "\n",
    "from datetime import datetime # datetime 모듈안의 datetime 만 메모리 load\n",
    "thatday1 = datetime(2025, 9, 11) # 25년9월11일 0시0분0초\n",
    "thatday2 = datetime(2025, 9, 11, 14, 30, 0)"
   ]
  },
  {
   "cell_type": "code",
   "execution_count": null,
   "id": "169f0f81",
   "metadata": {},
   "outputs": [],
   "source": [
    "# 연습"
   ]
  },
  {
   "cell_type": "markdown",
   "id": "36f28d59",
   "metadata": {},
   "source": [
    "- 정답\n",
    "<!-- 1. 둘다 밑에있는것을 훨씬 많이 씀\n",
    "print('{:%y년 %m월 %d일 %H시 %M분 %S초}'.format(thatday1))\n",
    "thatday1.strftime(\"%y년 %m월 %d일 %H시 %M분 %S초\")\n",
    "-->\n",
    "\n",
    "<!-- 2.\n",
    "print('{:%y년 %m월 %d일 %p %I시 %M분 %S초}'.format(thatday2))\n",
    "thatday2.strftime('%y년 %m월 %d일 %p %I시 %M분 %S초')\n",
    "-->"
   ]
  },
  {
   "cell_type": "code",
   "execution_count": null,
   "id": "21a35348",
   "metadata": {},
   "outputs": [],
   "source": [
    "# 현재 날짜를 아래와 같은 형식으로 출력하시오 \n",
    "# 25-09-15 PM 02:55\n",
    "\n",
    "now = datetime.now()"
   ]
  },
  {
   "cell_type": "code",
   "execution_count": null,
   "id": "06d010f6",
   "metadata": {},
   "outputs": [],
   "source": [
    "# 연습"
   ]
  },
  {
   "cell_type": "markdown",
   "id": "86602808",
   "metadata": {},
   "source": [
    "- 정답\n",
    "<!-- 1. \n",
    "print('{:%y-%m-%d %p %I:%M}'.format(now))\n",
    "print(now.strftime('%y-%m-%d %p %I:%M')) \n",
    "-->"
   ]
  },
  {
   "cell_type": "markdown",
   "id": "f3b064a0",
   "metadata": {},
   "source": [
    "## 5절. 연산자\n",
    "### 5.1 산술연산자"
   ]
  },
  {
   "cell_type": "code",
   "execution_count": null,
   "id": "4129f2ed",
   "metadata": {},
   "outputs": [],
   "source": [
    "# 정수를 입력받아 짝수인지 홀수인지 여부를 출력하시오.\n"
   ]
  },
  {
   "cell_type": "code",
   "execution_count": null,
   "id": "f530d2ff",
   "metadata": {},
   "outputs": [],
   "source": [
    "# 연습"
   ]
  },
  {
   "cell_type": "markdown",
   "id": "20d4238f",
   "metadata": {},
   "source": [
    "- 정답\n",
    "<!-- 1. \n",
    "num = int(input('정수를 입력하세요:'))\n",
    "result = num % 2 \n",
    "if result:\n",
    "    temp = '홀수' \n",
    "else:\n",
    "    temp = '짝수'\n",
    "print(f'입력하신 수는 {num}, 2로 나눈 나머지는 {result}이라서 {temp}를 입력하셨습니다')\n",
    "-->"
   ]
  },
  {
   "cell_type": "code",
   "execution_count": null,
   "id": "6ce23f24",
   "metadata": {},
   "outputs": [],
   "source": [
    "# 정수를 입력받아 5의 배수인지 여부를 출력하시오"
   ]
  },
  {
   "cell_type": "code",
   "execution_count": null,
   "id": "a894e3a5",
   "metadata": {},
   "outputs": [],
   "source": [
    "# 연습"
   ]
  },
  {
   "cell_type": "markdown",
   "id": "fbf2689a",
   "metadata": {},
   "source": [
    "- 정답\n",
    "<!-- 1. \n",
    "num = int(input('정수를 입력하세요:'))\n",
    "if num%5:\n",
    "    print('5의 배수가 아닙니다')\n",
    "else:\n",
    "    print('5의 배수입니다')\n",
    "-->"
   ]
  },
  {
   "cell_type": "code",
   "execution_count": null,
   "id": "f131e97f",
   "metadata": {},
   "outputs": [],
   "source": [
    "# 국, 영, 수 점수를 입력받아 다음셀에서 다음과 같이 출력하도록 구현하시오.\n",
    "# 국어 : 99    영어 : 100    수학 : 99\n",
    "# 총점 : 298   평균 : 99.3\n"
   ]
  },
  {
   "cell_type": "code",
   "execution_count": null,
   "id": "9873aec8",
   "metadata": {},
   "outputs": [],
   "source": [
    "# 연습"
   ]
  },
  {
   "cell_type": "markdown",
   "id": "54d01f4e",
   "metadata": {},
   "source": [
    "- 정답\n",
    "<!-- 1. \n",
    "kor = int(input('국어?'))\n",
    "eng = int(input('영어?'))\n",
    "mat = int(input('수학?'))\n",
    "sum = kor+eng+mat\n",
    "avg = sum / 3\n",
    "print('국어 : {:3d}\\t영어 : {:3d}\\t수학 : {:3d}'.format(kor,eng,mat))\n",
    "print('총점 : {:3d}\\t평균 : {:5.1f}'.format(sum,avg))\n",
    "-->"
   ]
  },
  {
   "cell_type": "markdown",
   "id": "c852b9be",
   "metadata": {},
   "source": [
    "### 5.2 할당연산자"
   ]
  },
  {
   "cell_type": "code",
   "execution_count": null,
   "id": "4e1e56fe",
   "metadata": {},
   "outputs": [],
   "source": [
    "# 할당연산자를 사용하여 a의 값이 15, 10, 100, 20(몫)나오도록 하시오.\n",
    "\n",
    "a = 10"
   ]
  },
  {
   "cell_type": "code",
   "execution_count": null,
   "id": "f5452900",
   "metadata": {},
   "outputs": [],
   "source": [
    "# 연습"
   ]
  },
  {
   "cell_type": "markdown",
   "id": "94409800",
   "metadata": {},
   "source": [
    "- 정답\n",
    "<!-- 1. \n",
    "a += 5\n",
    "print(f'a = {a}')\n",
    "a -= 5 \n",
    "print('5빼기 :', a) \n",
    "a *= 10 \n",
    "print('10배', a) \n",
    "a //= 5 \n",
    "print('5나눈 몫 :',a)\n",
    "-->\n"
   ]
  },
  {
   "cell_type": "markdown",
   "id": "f24ebf71",
   "metadata": {},
   "source": [
    "### 5.3 논리연산자"
   ]
  },
  {
   "cell_type": "code",
   "execution_count": null,
   "id": "c3a6c3ce",
   "metadata": {},
   "outputs": [],
   "source": [
    "# 다음의 결과는?\n",
    "\n",
    "a = 15 # 1111(8+4+2+1)\n",
    "b =  2 # 0010\n",
    "print('  a = {0:2} : {0:04b}'.format(a))\n",
    "print('  b = {0:2} : {0:04b}'.format(b))\n",
    "print('a&b = {0:2} : {0:04b}'.format(a&b))\n",
    "print('a|b = {0:2} : {0:04b}'.format(a|b))\n",
    "print('a^b = {0:2} : {0:04b}'.format(a^b))"
   ]
  },
  {
   "cell_type": "code",
   "execution_count": null,
   "id": "5a005139",
   "metadata": {},
   "outputs": [],
   "source": [
    "# 연습"
   ]
  },
  {
   "cell_type": "markdown",
   "id": "1cf9db8b",
   "metadata": {},
   "source": [
    "- 정답\n",
    "<!-- 1. \n",
    "  a = 15 : 1111\n",
    "  b =  2 : 0010\n",
    "a&b =  2 : 0010\n",
    "a|b = 15 : 1111\n",
    "a^b = 13 : 1101\n",
    "-->"
   ]
  },
  {
   "cell_type": "markdown",
   "id": "74edc3ec",
   "metadata": {},
   "source": [
    "## 6절. 문자열 다루기"
   ]
  },
  {
   "cell_type": "markdown",
   "id": "ce48abed",
   "metadata": {},
   "source": [
    "**문자열함수**\n",
    "\n",
    "-열어서 확인-\n",
    "\n",
    "<!-- \n",
    "upper() : 대문자로\n",
    "lower() : 소문자로\n",
    "title() : 각 어절의 앞글자만 대문자로\n",
    "capitalize() : 첫문자만 대문자로\n",
    "count('찾을문자') : '찾을문자'가 몇개 들어있는지 갯수 반환\n",
    "\n",
    "find('찾을문자') : '찾을문자'가 왼쪽부터 몇번째에 있는지 index를 반환(없으면 -1)\n",
    "\n",
    "rfind('찾을문자') : '찾을문자'가 오른쪽부터 몇번째에 있는지 index를 반환(없으면 -1)\n",
    "\n",
    "cf. index('찾을문자') : '찾을문자'가 왼쪽부터 몇번째에 있는 index를 반환(없으면 에러)\n",
    "\n",
    "startswith('특정문자') : '특정문자'로 시작하는지 여부 반환\n",
    "endswith('특정문자') : '특정문자'로 끝나는지 여부 반환\n",
    "strip() : 좌우 공백 제거(trim)\n",
    "lstrip() : 왼쪽 공백만 제거\n",
    "rstrip() : 오른쪽 공백만 제거\n",
    "split() : 문자열을 공백이나 다른 문자 기준으로 나누어 list로 반환\n",
    "isdigit() : 문자열이 숫자문자열인지 여부 반환\n",
    "islower() : 문자열이 소문자인지 여부 반환\n",
    "isupper() : 문자열이 대문자인지 여부 반환\n",
    "replace(oldStr, newStr) : oldStr을 newStr로 변경 \n",
    "-->"
   ]
  },
  {
   "cell_type": "code",
   "execution_count": null,
   "id": "1fe06af8",
   "metadata": {},
   "outputs": [],
   "source": [
    "# temp를 전부 대문자로 쓰시오\n",
    "# temp를 전부 소문자로 쓰시오\n",
    "# temp의 각 어절 앞글자를 대문자로 쓰시오\n",
    "# temp의 첫글자만 대문자로 쓰시오\n",
    "\n",
    "temp = 'python is easy. Python is smart. python'"
   ]
  },
  {
   "cell_type": "code",
   "execution_count": null,
   "id": "fdfbad12",
   "metadata": {},
   "outputs": [],
   "source": [
    "# 연습"
   ]
  },
  {
   "cell_type": "markdown",
   "id": "91cff40f",
   "metadata": {},
   "source": [
    "- 정답\n",
    "<!-- 1. \n",
    "print('대문자로 :',temp.upper())\n",
    "-->\n",
    "\n",
    "<!-- 2.\n",
    "print('소문자로 :',temp.lower())\n",
    "-->\n",
    "\n",
    "<!-- 3. \n",
    "print('title() :',temp.title())\n",
    "-->\n",
    "\n",
    "<!-- 4.\n",
    "print('capitalize() :', temp.capitalize())\n",
    "-->"
   ]
  },
  {
   "cell_type": "code",
   "execution_count": null,
   "id": "bcc1b6ea",
   "metadata": {},
   "outputs": [],
   "source": [
    "# temp에서 대문자C가 몇번 나오는지 출력하시오\n",
    "# temp에서 python이 몇번 나오는지 출력하시오\n",
    "# temp에서 대소문자 구분없이 python이 몇번 나오는지 출력하시오"
   ]
  },
  {
   "cell_type": "code",
   "execution_count": null,
   "id": "ad3c70be",
   "metadata": {},
   "outputs": [],
   "source": [
    "# 연습"
   ]
  },
  {
   "cell_type": "markdown",
   "id": "7610710d",
   "metadata": {},
   "source": [
    "- 정답\n",
    "<!-- 1. \n",
    "print('C가 몇번 나오는지 :', temp.count('C'))\n",
    "-->\n",
    "\n",
    "<!-- 2.\n",
    "print('python이 몇번 나오는지 :', temp.count('python'))\n",
    "-->\n",
    "\n",
    "<!-- 3.\n",
    "print('대소문자 구분없이 python이 몇번 :', temp.lower().count('python'))\n",
    "print('대소문자 구분없이 python이 몇번 :', temp.upper().count('PYTHON'))\n",
    "print('대소문자 구분없이 python이 몇번 :', temp.title().count('Python'))\n",
    "-->"
   ]
  },
  {
   "cell_type": "code",
   "execution_count": null,
   "id": "59a3dcfa",
   "metadata": {},
   "outputs": [],
   "source": [
    "# temp에서 python이 나오는 첫 index위치를 구하시오\n",
    "# temp에서 python이 나오는 마지막 index위치를 구하시오\n",
    "# temp에서 C가 나오는 첫 index위치를 구하시오"
   ]
  },
  {
   "cell_type": "code",
   "execution_count": null,
   "id": "0443a63c",
   "metadata": {},
   "outputs": [],
   "source": [
    "# 연습"
   ]
  },
  {
   "cell_type": "markdown",
   "id": "c2191c4a",
   "metadata": {},
   "source": [
    "- 정답\n",
    "<!-- 1. \n",
    "print('python이 나오는 첫 index 위치 :', temp.index('python')) #잘안씀\n",
    "print('python이 나오는 첫 index 위치 :',temp.find('python'))\n",
    "-->\n",
    "\n",
    "<!-- 2.\n",
    "print('python이 나오는 첫 index 위치 :',temp.rfind('python'))\n",
    "-->\n",
    "\n",
    "<!-- 3.\n",
    "print('C가 나오는 index 위치 :', temp.find(\"C\")) # 찾을문자가 없을 경우 -1\n",
    "-->"
   ]
  },
  {
   "cell_type": "code",
   "execution_count": null,
   "id": "af13ae9a",
   "metadata": {},
   "outputs": [],
   "source": [
    "# python으로 시작하는지 여부를 구하시오\n",
    "# Python으로 시작하는지 여부를 구하시오\n",
    "# 대소문자 구분없이 python으로 시작하는지 여부를 구하시오\n",
    "# n으로 끝나는지 여부를 구하시오\n",
    "# python을 R로 변경하시오"
   ]
  },
  {
   "cell_type": "code",
   "execution_count": null,
   "id": "db54604a",
   "metadata": {},
   "outputs": [],
   "source": [
    "# 연습"
   ]
  },
  {
   "cell_type": "markdown",
   "id": "ea43819f",
   "metadata": {},
   "source": [
    "- 정답\n",
    "<!-- 1. \n",
    "print('python으로 시작하는지 여부 :',temp.startswith('python'))\n",
    "-->\n",
    "\n",
    "<!-- 2.\n",
    "print('python으로 시작하는지 여부 :',temp.startswith('Python'))\n",
    "-->\n",
    "\n",
    "<!-- 3. \n",
    "print('대소문자 구분없이 python으로 시작하는지 여부 :',temp.lower().startswith('python'))\n",
    "-->\n",
    "\n",
    "<!-- 4.\n",
    "print('python으로 끝나는지 여부 :', temp.endswith('n'))\n",
    "-->\n",
    "\n",
    "<!-- 5. \n",
    "print('python을 R로 변경 :', temp.replace('python','R'))\n",
    "-->"
   ]
  },
  {
   "cell_type": "code",
   "execution_count": null,
   "id": "cdd4543d",
   "metadata": {},
   "outputs": [],
   "source": [
    "# temp의 좌우 공백을 제거하시오\n",
    "# temp의 왼쪽 공백을 제거하시오\n",
    "# temp의 오른쪽 공백을 제거하시오\n",
    "# notdigit이 숫자인지 여부를 구하시오\n",
    "# notdigit이 숫자문자 True가 나오게 변경하시오\n",
    "# temp가 대문자인지 여부를 구하시오\n",
    "# temp가 소문자인지 여부를 구하시오\n",
    "\n",
    "temp = \"      python is easy      \"\n",
    "notdigit = \"1,000\""
   ]
  },
  {
   "cell_type": "code",
   "execution_count": null,
   "id": "36595f82",
   "metadata": {},
   "outputs": [],
   "source": [
    "# 연습"
   ]
  },
  {
   "cell_type": "markdown",
   "id": "6dce5bbc",
   "metadata": {},
   "source": [
    "- 정답\n",
    "<!-- 1. \n",
    "print('좌우 공백 제거 : [{}]'.format(temp.strip()))\n",
    "-->\n",
    "\n",
    "<!-- 2.\n",
    "print('왼쪽 공백 제거 : [{}]'.format(temp.lstrip()))\n",
    "-->\n",
    "\n",
    "<!-- 3. \n",
    "print('오른쪽 공백 제거 : [{}]'.format(temp.rstrip()))\n",
    "-->\n",
    "\n",
    "<!-- 4.\n",
    "print('isdigit(숫자문자)인지 여부 :', notdigit.isdigit())\n",
    "-->\n",
    "\n",
    "<!-- 5. \n",
    "print('replace후 isdigit :', notdigit.replace(',','').isdigit())\n",
    "-->\n",
    "\n",
    "<!-- 6.\n",
    "print('대분자인지 여부 :', temp.isupper()) # 모두 대문자여아 True로 나옴\n",
    "-->\n",
    "\n",
    "<!-- 7. \n",
    "print('소문자인지 여부 :', temp.islower())\n",
    "-->"
   ]
  },
  {
   "cell_type": "code",
   "execution_count": null,
   "id": "2837cec2",
   "metadata": {},
   "outputs": [],
   "source": [
    "# names 를 스페이스 단위로 분리하여 리스트로 반환하시오\n",
    "# names의 0행, 3행을 출력하시오\n",
    "\n",
    "names = '홍길동 김길동    박길동 주길동 고길동'"
   ]
  },
  {
   "cell_type": "code",
   "execution_count": null,
   "id": "d86fbb27",
   "metadata": {},
   "outputs": [],
   "source": [
    "# 연습"
   ]
  },
  {
   "cell_type": "markdown",
   "id": "f7ec874e",
   "metadata": {},
   "source": [
    "- 정답\n",
    "<!-- 1. \n",
    "name_list = names.split()\n",
    "print(names.split())\n",
    "-->\n",
    "\n",
    "<!-- 2.\n",
    "print(name_list[0], name_list[3])\n",
    "-->"
   ]
  },
  {
   "cell_type": "code",
   "execution_count": null,
   "id": "557f698f",
   "metadata": {},
   "outputs": [],
   "source": [
    "# date_str을 -단위로 쪼개어 년도, 월, 일 단위로 출력하시오\n",
    "\n",
    "date_str = '2025-09-17'"
   ]
  },
  {
   "cell_type": "code",
   "execution_count": null,
   "id": "1f195189",
   "metadata": {},
   "outputs": [],
   "source": [
    "# 연습"
   ]
  },
  {
   "cell_type": "markdown",
   "id": "ff4f28bc",
   "metadata": {},
   "source": [
    "- 정답\n",
    "<!-- 1. \n",
    "date_list = date_str.split('-')\n",
    "\n",
    "print('년도 :', date_list[0])\n",
    "print('월 :', date_list[1])\n",
    "print('일 :', date_list[2])\n",
    "-->"
   ]
  },
  {
   "cell_type": "code",
   "execution_count": null,
   "id": "55ffa8ab",
   "metadata": {},
   "outputs": [],
   "source": [
    "# '1,000' 을 숫자로 변경하시오"
   ]
  },
  {
   "cell_type": "code",
   "execution_count": null,
   "id": "2f94732d",
   "metadata": {},
   "outputs": [],
   "source": [
    "# 연습"
   ]
  },
  {
   "cell_type": "markdown",
   "id": "5a7df712",
   "metadata": {},
   "source": [
    "- 정답\n",
    "<!-- 1. \n",
    "int('1,000'.replace(',',''))\n",
    "-->"
   ]
  },
  {
   "cell_type": "code",
   "execution_count": null,
   "id": "5f40fb1a",
   "metadata": {},
   "outputs": [],
   "source": [
    "#temp.replace(' - ','/')를 사용하지 않고 -을 /으로 변경하시오\n",
    "\n",
    "temp = 'Python - 웹(HTML/CSS/JS) - Oracle/MySQL(DBMS) - DL/ML(M/DNN/CNN/RNN) - LLM(RAG)'"
   ]
  },
  {
   "cell_type": "code",
   "execution_count": null,
   "id": "35d6319d",
   "metadata": {},
   "outputs": [],
   "source": [
    "# 연습"
   ]
  },
  {
   "cell_type": "markdown",
   "id": "2b328b29",
   "metadata": {},
   "source": [
    "- 정답\n",
    "<!-- 1. \n",
    "splited_temp = temp.split(' - ')\n",
    "print('분리된 temp :', splited_temp)\n",
    "joined_temp = '/'.join(splited_temp)\n",
    "print('join temp :', joined_temp)\n",
    "-->"
   ]
  },
  {
   "cell_type": "markdown",
   "id": "1d02f484",
   "metadata": {},
   "source": [
    "## 7절. 시간, 날짜 다루기\n",
    "\n",
    "### 7.1 시간과 날짜"
   ]
  },
  {
   "cell_type": "code",
   "execution_count": null,
   "id": "35039620",
   "metadata": {},
   "outputs": [],
   "source": [
    "# 25년09월11일(Thursday) 09:30:00 형식으로 출력하시오\n",
    "\n",
    "thatday = datetime(2025, 9, 11, 9, 30)"
   ]
  },
  {
   "cell_type": "code",
   "execution_count": null,
   "id": "2f662daa",
   "metadata": {},
   "outputs": [],
   "source": [
    "# 연습"
   ]
  },
  {
   "cell_type": "markdown",
   "id": "176f2c46",
   "metadata": {},
   "source": [
    "- 정답\n",
    "<!-- 1. \n",
    "from datetime import datetime, date, time\n",
    "print('{:%y년%m월%d일(%A) %H:%M:%S}'.format(thatday)) #많이 안씀\n",
    "print(thatday.strftime('%y년%m월%d일(%A) %H:%M:%S'))\n",
    "-->"
   ]
  },
  {
   "cell_type": "code",
   "execution_count": null,
   "id": "d2692e46",
   "metadata": {},
   "outputs": [],
   "source": [
    "# 현재 시간을 25년09월11일(Thursday) 09:30:00 형식으로 출력하시오\n"
   ]
  },
  {
   "cell_type": "code",
   "execution_count": null,
   "id": "adb2b8d2",
   "metadata": {},
   "outputs": [],
   "source": [
    "# 연습"
   ]
  },
  {
   "cell_type": "markdown",
   "id": "f425bea5",
   "metadata": {},
   "source": [
    "- 정답\n",
    "<!-- 1. \n",
    "now = datetime.now()\n",
    "print(now.strftime('%Y년%m월%d일 %p %I:%M:%S'))\n",
    "-->"
   ]
  },
  {
   "cell_type": "markdown",
   "id": "818ce61b",
   "metadata": {},
   "source": [
    "## 8절 연습문제"
   ]
  },
  {
   "cell_type": "code",
   "execution_count": null,
   "id": "e1fd8bd0",
   "metadata": {},
   "outputs": [],
   "source": [
    "# 1. 이름과 나이 변수를 다음 형식으로 출력하도록 format() 함수를 이용해 형식화하세요\n",
    "#[출력형식 : 홍길동님의 나이는 23살입니다]"
   ]
  },
  {
   "cell_type": "code",
   "execution_count": null,
   "id": "33aaf590",
   "metadata": {},
   "outputs": [],
   "source": [
    "# 연습"
   ]
  },
  {
   "cell_type": "markdown",
   "id": "a29e5f38",
   "metadata": {},
   "source": [
    "- 정답\n",
    "<!-- 1. \n",
    "name = '홍길동'\n",
    "age = 23\n",
    "print('{}님의 나이는 {}살입니다'.format(name, age))\n",
    "-->"
   ]
  },
  {
   "cell_type": "code",
   "execution_count": null,
   "id": "c51fed70",
   "metadata": {},
   "outputs": [],
   "source": [
    "# 2. 두 정수를 입력받아 두 수의 덧셈 , 뺄셈 , 곱셈 , 나눗셈 , 몫 , 나머지를 출력하세요"
   ]
  },
  {
   "cell_type": "code",
   "execution_count": null,
   "id": "35739b9a",
   "metadata": {},
   "outputs": [],
   "source": [
    "# 연습"
   ]
  },
  {
   "cell_type": "markdown",
   "id": "74a3c55e",
   "metadata": {},
   "source": [
    "- 정답\n",
    "<!-- 1. \n",
    "num1 = int(input('첫번째 수를 입력하세요 :'))\n",
    "num2 = int(input('두번째 수를 입력하세요 :'))\n",
    "\n",
    "print(num1 + num2) \n",
    "print(num1 - num2) \n",
    "print(num1 * num2) \n",
    "if num2!=0\n",
    "    print(num1 / num2) \n",
    "    print(num1 // num2)\n",
    "    print(num1 % num2)\n",
    "else:\n",
    "    print('num2가 0이라서 나눗셈 불가')\n",
    "-->"
   ]
  },
  {
   "cell_type": "code",
   "execution_count": null,
   "id": "86fc198f",
   "metadata": {},
   "outputs": [],
   "source": [
    "# 3. 문자열의 분리하기와 합치기 기능을 이용하여 ‘Hello World'가 할당된 변수를 이용하여 ‘World Hello'로 출력하세요\n",
    "\n",
    "temp = 'Hello World'"
   ]
  },
  {
   "cell_type": "code",
   "execution_count": null,
   "id": "f05c0397",
   "metadata": {},
   "outputs": [],
   "source": [
    "# 연습"
   ]
  },
  {
   "cell_type": "markdown",
   "id": "f8442968",
   "metadata": {},
   "source": [
    "- 정답\n",
    "<!-- 1. \n",
    "splited_temp = temp.split()\n",
    "print(splited_temp[1],splited_temp[0])\n",
    "-->"
   ]
  },
  {
   "cell_type": "code",
   "execution_count": null,
   "id": "971e20c1",
   "metadata": {},
   "outputs": [],
   "source": [
    "# 4. x = ' abcdef ＇를 이용하여 bcdefa 로 출력하세요 (문자 슬라이싱이용)\n",
    "# 5. x = ‘ abcdef 를 이용하여 fedcba 로 출력하세요\n",
    "\n",
    "x = 'abcdef'"
   ]
  },
  {
   "cell_type": "code",
   "execution_count": null,
   "id": "7ba8ab7f",
   "metadata": {},
   "outputs": [],
   "source": [
    "# 연습"
   ]
  },
  {
   "cell_type": "markdown",
   "id": "adce3675",
   "metadata": {},
   "source": [
    "- 정답\n",
    "<!-- 1. \n",
    "print(x[1:]+x[0])\n",
    "print(x[1:],x[0], sep=\"\")\n",
    "-->\n",
    "\n",
    "<!-- 2.\n",
    "x[::-1]\n",
    "-->"
   ]
  },
  {
   "cell_type": "code",
   "execution_count": null,
   "id": "9949ac4e",
   "metadata": {},
   "outputs": [],
   "source": [
    "# 6. 오늘의 온도를 섭씨온도로 입력받아 화씨 온도로 변환하는 프로그램을 작성하세요 . \n",
    "#화씨 온도는 소수점이 있을 경우만 두번째 자리까지 출력되고 , \n",
    "#소수점이하 값이 없는 경우 소수점을 출력하지 않도록 합니다 \n",
    "#다음은 섭씨와 화씨의 변환 공식입니다 . C 는 섭씨 ,F 는 화씨\n",
    "#C = (F-32) / 1.8\n",
    "#F = (C*1.8) + 32"
   ]
  },
  {
   "cell_type": "code",
   "execution_count": null,
   "id": "7535964c",
   "metadata": {},
   "outputs": [],
   "source": [
    "# 연습"
   ]
  },
  {
   "cell_type": "markdown",
   "id": "e667ef55",
   "metadata": {},
   "source": [
    "- 정답\n",
    "<!-- 1. \n",
    "C = float(input())\n",
    "F = (C*1.8) + 32\n",
    "\n",
    "if F%1==0: #혹은 f.is_integer(): 으로 쓸 수도 있음. 실수를 정수로 써라는 말.\n",
    "    print('섭씨 {}°C는 화씨 {:.0f}°F입니다.'.format(C,F))\n",
    "else:\n",
    "    print('섭씨 {}°C는 화씨 {:.2f}°F입니다.'.format(C,F))\n",
    "-->"
   ]
  },
  {
   "cell_type": "code",
   "execution_count": null,
   "id": "3c36037e",
   "metadata": {},
   "outputs": [],
   "source": [
    "# 7.다음 중 변수 선언으로 잘못된 것을 모두 고르시오\n",
    "\n",
    "'''\n",
    "① for\n",
    "② 10th\n",
    "③ Student.name\n",
    "④ _1234\n",
    "\n",
    "'''"
   ]
  },
  {
   "cell_type": "code",
   "execution_count": null,
   "id": "37074789",
   "metadata": {},
   "outputs": [],
   "source": [
    "# 연습"
   ]
  },
  {
   "cell_type": "markdown",
   "id": "0e93989e",
   "metadata": {},
   "source": [
    "- 정답\n",
    "<!-- 1. \n",
    "1.2.3번\n",
    "-->"
   ]
  },
  {
   "cell_type": "code",
   "execution_count": null,
   "id": "fc446516",
   "metadata": {},
   "outputs": [],
   "source": [
    "#8.다음의 코드의 실행결과는?\n",
    "\n",
    "text = 'Seoul A001 - programming with python'\n",
    "print(text[:4] + text[-1] + text.split()[0])\n",
    "print(text[:4], text[-1], text.split()[0])"
   ]
  },
  {
   "cell_type": "code",
   "execution_count": null,
   "id": "cb861c67",
   "metadata": {},
   "outputs": [],
   "source": [
    "# 연습"
   ]
  },
  {
   "cell_type": "markdown",
   "id": "7f50b21f",
   "metadata": {},
   "source": [
    "- 정답\n",
    "<!-- 1. \n",
    "SeounSeoul\n",
    "Seou n Seoul\n",
    "-->"
   ]
  },
  {
   "cell_type": "code",
   "execution_count": null,
   "id": "3987fd84",
   "metadata": {},
   "outputs": [],
   "source": [
    "#9.다음 중 파이썬 3.x 버전에서 연산식과 그 결과의 출력이 잘못된 것은\n",
    " '''\n",
    " ① 수식 8//2 결과 4\n",
    " ② 수식 8/2 결과 4\n",
    " ③ 수식 8**2 결과 64\n",
    " \n",
    " '''"
   ]
  },
  {
   "cell_type": "code",
   "execution_count": null,
   "id": "f5807061",
   "metadata": {},
   "outputs": [],
   "source": [
    "# 연습"
   ]
  },
  {
   "cell_type": "markdown",
   "id": "10985d05",
   "metadata": {},
   "source": [
    "- 정답\n",
    "<!-- 1. \n",
    "2번. 4.0\n",
    "-->"
   ]
  },
  {
   "cell_type": "code",
   "execution_count": null,
   "id": "d5b8da9e",
   "metadata": {},
   "outputs": [],
   "source": [
    "# 10. 아래 프로그램의 결과는? \n",
    "\n",
    "x = 5\n",
    "y = 'John'\n",
    "print(x + y)"
   ]
  },
  {
   "cell_type": "code",
   "execution_count": null,
   "id": "197600ad",
   "metadata": {},
   "outputs": [],
   "source": [
    "# 연습"
   ]
  },
  {
   "cell_type": "markdown",
   "id": "e55f0127",
   "metadata": {},
   "source": [
    "- 정답\n",
    "<!-- 1. \n",
    "에러 \n",
    "고치는건 print(str(x)+y)\n",
    "-->"
   ]
  },
  {
   "cell_type": "code",
   "execution_count": null,
   "id": "32d606cb",
   "metadata": {},
   "outputs": [],
   "source": [
    "# 11. split() 함수를 이용하여 str_ 의 값 중 나라 를 출력하는 프로그램을 완성하시오\n",
    "\n",
    "str_ = '우리 나라 대한 민국'"
   ]
  },
  {
   "cell_type": "code",
   "execution_count": null,
   "id": "e02e16f8",
   "metadata": {},
   "outputs": [],
   "source": [
    "# 연습"
   ]
  },
  {
   "cell_type": "markdown",
   "id": "d79873bb",
   "metadata": {},
   "source": [
    "- 정답\n",
    "<!-- 1. \n",
    "str_split()[1]\n",
    "-->"
   ]
  },
  {
   "cell_type": "markdown",
   "id": "aa3e8fa2",
   "metadata": {},
   "source": [
    "# 3장. 데이터 구조\n",
    "\n",
    "## 1절. 리스트\n",
    "\n",
    "### 1.1 리스트 만들기"
   ]
  },
  {
   "cell_type": "code",
   "execution_count": null,
   "id": "63a97747",
   "metadata": {},
   "outputs": [],
   "source": [
    "# banana를 mango로 변환하시오\n",
    "\n",
    "fruits = ['banana','apple','orange','grape']"
   ]
  },
  {
   "cell_type": "code",
   "execution_count": null,
   "id": "2cbed5cf",
   "metadata": {},
   "outputs": [],
   "source": [
    "# 연습"
   ]
  },
  {
   "cell_type": "markdown",
   "id": "b30a7fc1",
   "metadata": {},
   "source": [
    "- 정답\n",
    "<!-- 1. \n",
    "fruits[0] = 'mango' \n",
    "print(fruits)\n",
    "-->"
   ]
  },
  {
   "cell_type": "code",
   "execution_count": null,
   "id": "bf0bc6c6",
   "metadata": {},
   "outputs": [],
   "source": [
    "# [0, 1, 2, 3, 4, 5, 6, 7, 8, 9]를 출력하시오\n",
    "# [10, 8, 6, 4, 2, 0]를 출력하시오"
   ]
  },
  {
   "cell_type": "code",
   "execution_count": null,
   "id": "d8499a15",
   "metadata": {},
   "outputs": [],
   "source": [
    "# 연습"
   ]
  },
  {
   "cell_type": "markdown",
   "id": "4b1e8cc4",
   "metadata": {},
   "source": [
    "- 정답\n",
    "<!-- 1. \n",
    "list(range(10))\n",
    "list(range(0, 10, 1))\n",
    "-->\n",
    "\n",
    "<!-- 2.\n",
    "list(range(10, -1, -2))\n",
    "-->"
   ]
  },
  {
   "cell_type": "code",
   "execution_count": null,
   "id": "f1d77436",
   "metadata": {},
   "outputs": [],
   "source": [
    "# '0번째 과일은 mango' 같이 출력하시오\n",
    "\n",
    "fruits = ['mango', 'apple', 'orange'"
   ]
  },
  {
   "cell_type": "code",
   "execution_count": null,
   "id": "363f1c16",
   "metadata": {},
   "outputs": [],
   "source": [
    "# 연습"
   ]
  },
  {
   "cell_type": "markdown",
   "id": "780f92ad",
   "metadata": {},
   "source": [
    "- 정답\n",
    "<!-- 1. \n",
    "for i, fruit in enumerate(fruits): \n",
    "    print(f'{i}번째 과일은 {fruit}')\n",
    "-->"
   ]
  },
  {
   "cell_type": "code",
   "execution_count": null,
   "id": "fd2d33e3",
   "metadata": {},
   "outputs": [],
   "source": [
    "#  True 와 [4,5,6]의 5를 추출하시오\n",
    "\n",
    "numbers = [0, True, '2', [2,3], [4,5,6]]"
   ]
  },
  {
   "cell_type": "code",
   "execution_count": null,
   "id": "e5dfcf93",
   "metadata": {},
   "outputs": [],
   "source": [
    "# 연습"
   ]
  },
  {
   "cell_type": "markdown",
   "id": "cf05c0db",
   "metadata": {},
   "source": [
    "- 정답\n",
    "<!-- 1. \n",
    "numbers[2], numbers[4][1]\n",
    "-->"
   ]
  },
  {
   "cell_type": "code",
   "execution_count": null,
   "id": "bfb34777",
   "metadata": {},
   "outputs": [],
   "source": [
    "# 아래와 같은 모양으로 출력하시오\n",
    "'''\n",
    "1\t2\t3\t4\t5\t\n",
    "10\t20\t30\t40\t50\t\n",
    "1\t3\t5\t7\t9\t\n",
    "2\t4\t6\t8\t10\n",
    "\n",
    "'''\n",
    "\n",
    "numbers_2d = [[1,2,3,4,5],      \n",
    "              [10,20,30,40,50], \n",
    "              [1,3,5,7,9],      \n",
    "              [2,4,6,8,10]] "
   ]
  },
  {
   "cell_type": "code",
   "execution_count": null,
   "id": "d0755774",
   "metadata": {},
   "outputs": [],
   "source": [
    "# 연습"
   ]
  },
  {
   "cell_type": "markdown",
   "id": "cb27ea6d",
   "metadata": {},
   "source": [
    "- 정답\n",
    "<!-- 1. \n",
    "for row in numbers_2d:\n",
    "    for item in row:\n",
    "        print(item, end='\\t')\n",
    "    print()\n",
    "-->"
   ]
  },
  {
   "cell_type": "code",
   "execution_count": null,
   "id": "6884547d",
   "metadata": {},
   "outputs": [],
   "source": [
    "# 아래와 같은 형식으로 출력하시오\n",
    "'''\n",
    "0행0열 : 1\t0행1열 : 2\t0행2열 : 3\t0행3열 : 4\t0행4열 : 5\t\n",
    "1행0열 : 10\t1행1열 : 20\t1행2열 : 30\t1행3열 : 40\t1행4열 : 50\t\n",
    "2행0열 : 1\t2행1열 : 3\t2행2열 : 5\t2행3열 : 7\t2행4열 : 9\t\n",
    "3행0열 : 2\t3행1열 : 4\t3행2열 : 6\t3행3열 : 8\t3행4열 : 10\t\n",
    "\n",
    "'''"
   ]
  },
  {
   "cell_type": "code",
   "execution_count": null,
   "id": "eb6ce8d5",
   "metadata": {},
   "outputs": [],
   "source": [
    "# 연습"
   ]
  },
  {
   "cell_type": "markdown",
   "id": "57114e56",
   "metadata": {},
   "source": [
    "- 정답\n",
    "<!-- 1. \n",
    "for i in range(len(numbers_2d)):         # i : 행\n",
    "    for j in range(len(numbers_2d[i])):  # j : 열\n",
    "        print(f'{i}행{j}열 : {numbers_2d[i][j]}', end='\\t')\n",
    "    print() \n",
    "\n",
    "\n",
    "# range 쓰지 않고 enumerate 쓰는 방법\n",
    "\n",
    "for i,row in enumerate(numbers_2d):\n",
    "    for j, item in enumerate(numbers_2d[i]):\n",
    "        print('{}행{}열 : {}'.format(i,j,numbers_2d[i][j]), end='\\t')\n",
    "    print() \n",
    "-->"
   ]
  },
  {
   "cell_type": "markdown",
   "id": "152bb5e5",
   "metadata": {},
   "source": [
    "### 1.2 기본정보 조회"
   ]
  },
  {
   "cell_type": "code",
   "execution_count": null,
   "id": "6c38843c",
   "metadata": {},
   "outputs": [],
   "source": [
    "# 오름차순, 내림차순, 합, 평균을 구하시오.\n",
    "\n",
    "numbers = [1,12,3,4,5]"
   ]
  },
  {
   "cell_type": "code",
   "execution_count": null,
   "id": "cecb22c2",
   "metadata": {},
   "outputs": [],
   "source": [
    "# 연습"
   ]
  },
  {
   "cell_type": "markdown",
   "id": "999c7d92",
   "metadata": {},
   "source": [
    "- 정답\n",
    "<!-- 1. \n",
    "print('오름차순 정렬 :', sorted(numbers))\n",
    "-->\n",
    "\n",
    "<!-- 2.\n",
    "print('내림차순 정렬 :', sorted(numbers, reverse=True))\n",
    "-->\n",
    "\n",
    "<!-- 3. \n",
    "print('합 :', sum(numbers))\n",
    "-->\n",
    "\n",
    "<!-- 4.\n",
    "print('평균 :', sum(numbers)/len(numbers))\n",
    "-->"
   ]
  },
  {
   "cell_type": "markdown",
   "id": "626d204e",
   "metadata": {},
   "source": [
    "### 1.3 요소추가"
   ]
  },
  {
   "cell_type": "code",
   "execution_count": null,
   "id": "421c44c5",
   "metadata": {},
   "outputs": [],
   "source": [
    "# [1,2,3,[4,5,6]] 으로 추가하시오\n",
    "# [1,2,3,4,5,6] 으로 추가하시오\n",
    "\n",
    "numbers = [1, 2, 3]"
   ]
  },
  {
   "cell_type": "code",
   "execution_count": null,
   "id": "29cdabde",
   "metadata": {},
   "outputs": [],
   "source": [
    "# 연습"
   ]
  },
  {
   "cell_type": "markdown",
   "id": "8949e281",
   "metadata": {},
   "source": [
    "- 정답\n",
    "<!-- 1. \n",
    "numbers.append([4,5,6])\n",
    "-->\n",
    "\n",
    "<!-- 2.\n",
    "numbers.extend([4,5,6])\n",
    "-->"
   ]
  },
  {
   "cell_type": "markdown",
   "id": "d8062f4a",
   "metadata": {},
   "source": [
    "### 1.4 인덱싱과 요소 갯수"
   ]
  },
  {
   "cell_type": "code",
   "execution_count": null,
   "id": "572b83c2",
   "metadata": {},
   "outputs": [],
   "source": [
    "# numbers에서 5를 추출하시오. 없을 경우 '5가 요소에 포함되지 않습니다'를 출력하시오\n",
    "\n",
    "numbers = [1, 2, 3, [1,2,3], 1, 2, 3,] "
   ]
  },
  {
   "cell_type": "code",
   "execution_count": null,
   "id": "0a611548",
   "metadata": {},
   "outputs": [],
   "source": [
    "# 연습"
   ]
  },
  {
   "cell_type": "markdown",
   "id": "24093a5e",
   "metadata": {},
   "source": [
    "- 정답\n",
    "<!-- 1. \n",
    "if 5 in numbers:\n",
    "    print(numbers.index(5))\n",
    "else:\n",
    "    print('5가 요소에 포함되지 않습니다')\n",
    "-->\n",
    "\n",
    "<!-- 2.이건 잘 안씀`\n",
    "if numbers.count(5):\n",
    "    print(numbers.index(5))\n",
    "else:\n",
    "    print('5가 요소에 포함되지 않습니다')\n",
    "-->"
   ]
  },
  {
   "cell_type": "markdown",
   "id": "548bffd9",
   "metadata": {},
   "source": [
    "### 1.5 원하는 요소 추출\n",
    "\n",
    "중요한 **리스트컴프리헨션** 있음"
   ]
  },
  {
   "cell_type": "code",
   "execution_count": null,
   "id": "1b9fd00d",
   "metadata": {},
   "outputs": [],
   "source": [
    "# numbers를 거꾸로 출력하시오\n",
    "# 짝수 인덱스 값을 출력하시오\n",
    "\n",
    "numbers = [1, 3, 5, 9, 10, 12, 13, 18, 19, 20]"
   ]
  },
  {
   "cell_type": "code",
   "execution_count": null,
   "id": "9bf392a9",
   "metadata": {},
   "outputs": [],
   "source": [
    "# 연습"
   ]
  },
  {
   "cell_type": "markdown",
   "id": "8dad3ed6",
   "metadata": {},
   "source": [
    "- 정답\n",
    "<!-- 1. \n",
    "print(numbers[::-1]) \n",
    "-->\n",
    "\n",
    "<!-- 2.\n",
    "print(numbers[::2])\n",
    "-->"
   ]
  },
  {
   "cell_type": "code",
   "execution_count": null,
   "id": "1a028c9d",
   "metadata": {},
   "outputs": [],
   "source": [
    "# numbers의 짝수 데이터를 출력하시오(짝수번째 아님)\n",
    "# numbers 에서 10이상인 요소만 추출"
   ]
  },
  {
   "cell_type": "code",
   "execution_count": null,
   "id": "1bf577a5",
   "metadata": {},
   "outputs": [],
   "source": [
    "# 연습"
   ]
  },
  {
   "cell_type": "markdown",
   "id": "3d603625",
   "metadata": {},
   "source": [
    "- 정답\n",
    "<!-- 1. \n",
    "[data for data in numbers if data%2==0] \n",
    "-->\n",
    "\n",
    "<!-- 2.\n",
    "[data for data in numbers if data>=10]\n",
    "-->"
   ]
  },
  {
   "cell_type": "code",
   "execution_count": null,
   "id": "b519abc2",
   "metadata": {},
   "outputs": [],
   "source": [
    "# fruits에서 과일의 글자가 5글자 이상인 과일만 추출\n",
    "# fruits 리스트의 과일 글자수\n",
    "\n",
    "fruits = ['orange', 'apple', 'mango', 'kiwi']"
   ]
  },
  {
   "cell_type": "code",
   "execution_count": null,
   "id": "8cb6df4e",
   "metadata": {},
   "outputs": [],
   "source": [
    "# 연습"
   ]
  },
  {
   "cell_type": "markdown",
   "id": "581ae23b",
   "metadata": {},
   "source": [
    "- 정답\n",
    "<!-- 1. \n",
    "[data for data in fruits if len(data)>=5]\n",
    "-->\n",
    "\n",
    "<!-- 2.\n",
    "[len(data) for data in fruits] \n",
    "-->"
   ]
  },
  {
   "cell_type": "code",
   "execution_count": null,
   "id": "f3a73967",
   "metadata": {},
   "outputs": [],
   "source": [
    "# 3이상인 요소들의 제곱을 추출 \n",
    "# 리스트 요소의 값의 2배를 추출\n",
    "\n",
    "L = [1,2,3,4,5]"
   ]
  },
  {
   "cell_type": "code",
   "execution_count": null,
   "id": "8ffb53a2",
   "metadata": {},
   "outputs": [],
   "source": [
    "# 연습"
   ]
  },
  {
   "cell_type": "markdown",
   "id": "fc65da7e",
   "metadata": {},
   "source": [
    "- 정답\n",
    "<!-- 1. \n",
    "[data**2 for data in L if data>=3]\n",
    "-->\n",
    "\n",
    "<!-- 2.\n",
    "[data*2 for data in L]\n",
    "-->"
   ]
  },
  {
   "cell_type": "markdown",
   "id": "2e451d34",
   "metadata": {},
   "source": [
    "### 1.6 요소 수정하기"
   ]
  },
  {
   "cell_type": "code",
   "execution_count": null,
   "id": "e910e8fe",
   "metadata": {},
   "outputs": [],
   "source": [
    "# numbers의 2를 222로 변경하기\n",
    "# 슬라이싱을 이용하여 2번째 인덱스까지 'a','b'로 수정\n",
    "\n",
    "numbers = [0,1,2,3,4,5,6,7,8,9]"
   ]
  },
  {
   "cell_type": "code",
   "execution_count": null,
   "id": "fa095f8c",
   "metadata": {},
   "outputs": [],
   "source": [
    "# 연습"
   ]
  },
  {
   "cell_type": "markdown",
   "id": "11bee32f",
   "metadata": {},
   "source": [
    "- 정답\n",
    "<!-- 1. \n",
    "numbers[2] = 222\n",
    "-->\n",
    "\n",
    "<!-- 2.\n",
    "numbers[0:2] = ['a','b']\n",
    "-->"
   ]
  },
  {
   "cell_type": "markdown",
   "id": "c5ff5223",
   "metadata": {},
   "source": [
    "### 1.7 요소삭제"
   ]
  },
  {
   "cell_type": "code",
   "execution_count": null,
   "id": "295ddace",
   "metadata": {},
   "outputs": [],
   "source": [
    "# numbers에서 9를 삭제하고 없을 시 '해당 데이터는 없는 item입니다'를 출력하시오\n",
    "\n",
    "numbers = [1,2,3,4,5]"
   ]
  },
  {
   "cell_type": "code",
   "execution_count": null,
   "id": "312d9a0e",
   "metadata": {},
   "outputs": [],
   "source": [
    "# 연습"
   ]
  },
  {
   "cell_type": "markdown",
   "id": "305e7878",
   "metadata": {},
   "source": [
    "- 정답\n",
    "<!-- 1. \n",
    "if 9 in numbers:\n",
    "    numbers.remove(9)\n",
    "else:\n",
    "    print('해당 데이터는 없는 item입니다')\n",
    "-->"
   ]
  },
  {
   "cell_type": "markdown",
   "id": "aa0ed23b",
   "metadata": {},
   "source": [
    "### 1.8 정렬하기"
   ]
  },
  {
   "cell_type": "code",
   "execution_count": null,
   "id": "516af7aa",
   "metadata": {},
   "outputs": [],
   "source": [
    "# numbers를 변경하지 않고 정렬하시오\n",
    "# numbers 자체를 오름차순으로 변경하시오\n",
    "# numbers 자체를 내림차순으로 변경하시오\n",
    "\n",
    "numbers = [9, 5, 0, 8, 6]"
   ]
  },
  {
   "cell_type": "code",
   "execution_count": null,
   "id": "be2d4500",
   "metadata": {},
   "outputs": [],
   "source": [
    "# 연습"
   ]
  },
  {
   "cell_type": "markdown",
   "id": "232446ed",
   "metadata": {},
   "source": [
    "- 정답\n",
    "<!-- 1. \n",
    "print(sorted(numbers))\n",
    "print(numbers)\n",
    "-->\n",
    "\n",
    "<!-- 2.\n",
    "numbers.sort()\n",
    "print(numbers)\n",
    "-->\n",
    "\n",
    "<!-- 3.\n",
    "numbers.sort(reverse=True)\n",
    "print(numbers)\n",
    "-->"
   ]
  },
  {
   "cell_type": "markdown",
   "id": "6a490984",
   "metadata": {},
   "source": [
    "### 1.9 리스트 복제"
   ]
  },
  {
   "cell_type": "code",
   "execution_count": null,
   "id": "d999b257",
   "metadata": {},
   "outputs": [],
   "source": [
    "# 리스트를 복제해서 정렬하시오\n",
    "\n",
    "city = ['서울', '대전', '대구', '부산', '하남', '수원', '제주']"
   ]
  },
  {
   "cell_type": "code",
   "execution_count": null,
   "id": "1b7cc960",
   "metadata": {},
   "outputs": [],
   "source": [
    "# 연습"
   ]
  },
  {
   "cell_type": "markdown",
   "id": "339b3031",
   "metadata": {},
   "source": [
    "- 정답\n",
    "<!-- 1. \n",
    "temp = city.copy()\n",
    "temp.sort()\n",
    "print(\"정렬전 :\", city)\n",
    "print('정렬후 :', temp)\n",
    "-->"
   ]
  },
  {
   "cell_type": "markdown",
   "id": "8152f2c9",
   "metadata": {},
   "source": [
    "## 2절. 튜플"
   ]
  },
  {
   "cell_type": "code",
   "execution_count": null,
   "id": "286de143",
   "metadata": {},
   "outputs": [],
   "source": [
    "# 최소값, 최대값, 합을 구하시오\n",
    "\n",
    "numbers = (1, 2, 3)"
   ]
  },
  {
   "cell_type": "code",
   "execution_count": null,
   "id": "192e2e7d",
   "metadata": {},
   "outputs": [],
   "source": [
    "# 연습"
   ]
  },
  {
   "cell_type": "markdown",
   "id": "3c867a86",
   "metadata": {},
   "source": [
    "- 정답\n",
    "<!-- 1. \n",
    "min(numbers), max(numbers), sum(numbers)\n",
    "-->"
   ]
  },
  {
   "cell_type": "code",
   "execution_count": null,
   "id": "124f7fca",
   "metadata": {},
   "outputs": [],
   "source": [
    "# numbers에서 4번 인덱스를 추출하시오. 없을경우 '해당 데이터 없음'을 출력하시오."
   ]
  },
  {
   "cell_type": "code",
   "execution_count": null,
   "id": "5131027c",
   "metadata": {},
   "outputs": [],
   "source": [
    "# 연습"
   ]
  },
  {
   "cell_type": "markdown",
   "id": "f57041af",
   "metadata": {},
   "source": [
    "- 정답\n",
    "<!-- 1. \n",
    "if 4 in numbers:\n",
    "    numbers.index(4)\n",
    "else:\n",
    "    print('해당 데이터 없음')\n",
    "-->"
   ]
  },
  {
   "cell_type": "code",
   "execution_count": null,
   "id": "d51b0463",
   "metadata": {},
   "outputs": [],
   "source": [
    "# x,y 값의 차를 정수로 출력하는 함수식을 만드시오"
   ]
  },
  {
   "cell_type": "code",
   "execution_count": null,
   "id": "85fef953",
   "metadata": {},
   "outputs": [],
   "source": [
    "# 연습"
   ]
  },
  {
   "cell_type": "markdown",
   "id": "0bf601b5",
   "metadata": {},
   "source": [
    "- 정답\n",
    "<!-- 1. \n",
    "def diff(x, y):\n",
    "    return x-y if x>y else y-x  \n",
    "    \n",
    "diff(10, 20)\n",
    "-->"
   ]
  },
  {
   "cell_type": "code",
   "execution_count": null,
   "id": "ddd6cf9e",
   "metadata": {},
   "outputs": [],
   "source": [
    "# 짝수 요소들을 추출하여 제곱한 데이터를 튜플로 출력하시오\n",
    "\n",
    "numbers = (11, 2, 3, 4, 5, 6)"
   ]
  },
  {
   "cell_type": "code",
   "execution_count": null,
   "id": "13fad819",
   "metadata": {},
   "outputs": [],
   "source": [
    "# 연습"
   ]
  },
  {
   "cell_type": "markdown",
   "id": "0c437f22",
   "metadata": {},
   "source": [
    "- 정답\n",
    "<!-- 1. \n",
    "tuple(data**2 for data in numbers if data%2==0)\n",
    "-->"
   ]
  },
  {
   "cell_type": "markdown",
   "id": "f63db097",
   "metadata": {},
   "source": [
    "## 3절. 딕셔너리"
   ]
  },
  {
   "cell_type": "code",
   "execution_count": null,
   "id": "ffa85579",
   "metadata": {},
   "outputs": [],
   "source": [
    "# fruit를 추출하시오\n",
    "\n",
    "my_favorite = {'fruit':'apple', 'number':12, 'sport':'yoga'}"
   ]
  },
  {
   "cell_type": "code",
   "execution_count": null,
   "id": "6b788f52",
   "metadata": {},
   "outputs": [],
   "source": [
    "# 연습"
   ]
  },
  {
   "cell_type": "markdown",
   "id": "cc03e20b",
   "metadata": {},
   "source": [
    "- 정답\n",
    "<!-- 1. \n",
    "print(my_favorite['fruit']) # index에 키값을 입력. 이건 없으면 오류나서 이왕이면 get함수 쓰자\n",
    "print(my_favorite.get('fruit'))\n",
    "-->"
   ]
  },
  {
   "cell_type": "markdown",
   "id": "7950b024",
   "metadata": {},
   "source": [
    "### 딕셔너리 item 수정, 추가, 삭제¶"
   ]
  },
  {
   "cell_type": "code",
   "execution_count": null,
   "id": "40cda805",
   "metadata": {},
   "outputs": [],
   "source": [
    "# 'people' : '홍길동'을 추가하시오\n",
    "# 'subject':'수학','major':'AI'를 한번에 추가하시오\n",
    "# 'fruit'를 'mango'로 수정하시오\n",
    "# 'fruit':'kiwi', 'number':-99 로 한번에 수정하시오\n",
    "# 'subject'를 제거하시오\n",
    "# 'major'를 제거하시오(위에 것과 다른 방식으로)\n",
    "\n",
    "my_favorite = {'fruit':'apple', 'number':12, 'sport':'yoga'}"
   ]
  },
  {
   "cell_type": "code",
   "execution_count": null,
   "id": "c65a2a25",
   "metadata": {},
   "outputs": [],
   "source": [
    "# 연습"
   ]
  },
  {
   "cell_type": "markdown",
   "id": "9be9d47a",
   "metadata": {},
   "source": [
    "- 정답\n",
    "<!-- 1. \n",
    "my_favorite['people'] = '홍길동'\n",
    "-->\n",
    "\n",
    "<!-- 2.\n",
    "my_favorite.update({'subject':'수학','major':'AI'})\n",
    "-->\n",
    "\n",
    "<!-- 3. \n",
    "my_favorite['fruit'] = 'mango'\n",
    "-->\n",
    "\n",
    "<!-- 4.\n",
    "my_favorite.update(fruit='kiwi', number=-99)\n",
    "-->\n",
    "\n",
    "<!-- 5. 제거한 것이 없을 경우 에러나기 때문에 이렇게쓰기\n",
    "if 'subject' in my_favorite:      \n",
    "    del my_favorite['subject'] \n",
    "else:\n",
    "    print('subject 키가 존재하지 않습니다')\n",
    "-->\n",
    "\n",
    "<!-- 6.\n",
    "if 'major' in my_favorite:\n",
    "    print('제거한 데이터 :', my_favorite.pop('major'))\n",
    "else:\n",
    "    print('major 키가 존재하지 않습니다')\n",
    "-->"
   ]
  },
  {
   "cell_type": "code",
   "execution_count": null,
   "id": "69355140",
   "metadata": {},
   "outputs": [],
   "source": [
    "# for문을 이용한 튜플 출력\n",
    "# 0번째 : 홍길동\t1번째 : 30\t2번째 : 010-9999-9999 형식으로 출력\n",
    "\n",
    "my_tuple = ('홍길동', 30, '010-9999-9999')"
   ]
  },
  {
   "cell_type": "code",
   "execution_count": null,
   "id": "5024d7fc",
   "metadata": {},
   "outputs": [],
   "source": [
    "# 연습"
   ]
  },
  {
   "cell_type": "markdown",
   "id": "776fd776",
   "metadata": {},
   "source": [
    "- 정답\n",
    "<!-- 1. \n",
    "for idx in range(len(my_tuple)):\n",
    "    print(f'{idx}번째 : {my_tuple[idx]}', end='\\t')\n",
    "print()  \n",
    "for idx, data in enumerate(my_tuple):\n",
    "    print(f'{idx}번째 : {data}', end='\\t')\n",
    "-->"
   ]
  },
  {
   "cell_type": "markdown",
   "id": "d7a9c2c1",
   "metadata": {},
   "source": [
    "### 출력하기"
   ]
  },
  {
   "cell_type": "code",
   "execution_count": null,
   "id": "afa5db6d",
   "metadata": {},
   "outputs": [],
   "source": [
    "# for문을 이용한 딕셔너리 출력\n",
    "# key 출력\n",
    "# key, dictionary 모두 출력\n",
    "# 번호를 붙여서 key, dictionary 모두 출력\n",
    "\n",
    "my_dic = {'name':'홍길동', 'age':30, 'tel':'010-9999-9999'}"
   ]
  },
  {
   "cell_type": "code",
   "execution_count": null,
   "id": "feb81bf0",
   "metadata": {},
   "outputs": [],
   "source": [
    "# 연습"
   ]
  },
  {
   "cell_type": "markdown",
   "id": "12ebb726",
   "metadata": {},
   "source": [
    "- 정답\n",
    "<!-- 1. \n",
    "for key in my_dic:   \n",
    "    print(key, end = '\\t')\n",
    "-->\n",
    "\n",
    "<!-- 2.\n",
    "for key, value in my_dic.items():\n",
    "    print('{}:{}'.format(key,value), end='\\t')\n",
    "-->\n",
    "\n",
    "<!-- 3. \n",
    "for num, (key,value) in enumerate(my_dic.items()):\n",
    "    print('{}.{} : {}'.format(num+1, key, value))\n",
    "-->"
   ]
  },
  {
   "cell_type": "markdown",
   "id": "9a8419c1",
   "metadata": {},
   "source": [
    "### 복제하기"
   ]
  },
  {
   "cell_type": "code",
   "execution_count": null,
   "id": "ca2df6a9",
   "metadata": {},
   "outputs": [],
   "source": [
    "# my_favirite 을 복제하고 'fruit'는 '과일은 다 좋아'로 수정, 'people'은 '홍길동'을 추가하시오\n",
    "\n",
    "my_favorite = {'fruit':'apple', 'number':12}"
   ]
  },
  {
   "cell_type": "code",
   "execution_count": null,
   "id": "cd4ad561",
   "metadata": {},
   "outputs": [],
   "source": [
    "# 연습"
   ]
  },
  {
   "cell_type": "markdown",
   "id": "1d52abf3",
   "metadata": {},
   "source": [
    "- 정답\n",
    "<!-- 1. \n",
    "new_favorite['fruit'] = '과일은 다 좋아'\n",
    "new_favorite['people'] = '홍길동'\n",
    "print('원본 :', my_favorite)\n",
    "print('수정본 :', new_favorite)\n",
    "-->"
   ]
  },
  {
   "cell_type": "markdown",
   "id": "7990a077",
   "metadata": {},
   "source": [
    "## 4절. 셋\n",
    "### 추가하기"
   ]
  },
  {
   "cell_type": "code",
   "execution_count": null,
   "id": "3d92096d",
   "metadata": {},
   "outputs": [],
   "source": [
    "# 다음의 결과는?\n",
    "\n",
    "s = {1, 2, 3}\n",
    "s.add(True) \n",
    "print('True add 후 :', s)"
   ]
  },
  {
   "cell_type": "code",
   "execution_count": null,
   "id": "ba5d8130",
   "metadata": {},
   "outputs": [],
   "source": [
    "# 연습"
   ]
  },
  {
   "cell_type": "markdown",
   "id": "b98157c3",
   "metadata": {},
   "source": [
    "- 정답\n",
    "<!-- 1. \n",
    "True add 후 : {1, 2, 3}\n",
    "-->"
   ]
  },
  {
   "cell_type": "markdown",
   "id": "776455d8",
   "metadata": {},
   "source": [
    "### 삭제하기"
   ]
  },
  {
   "cell_type": "code",
   "execution_count": null,
   "id": "590e2ee9",
   "metadata": {},
   "outputs": [],
   "source": [
    "# s에서 5를 삭제하시오 \n",
    "\n",
    "s = {1, 2, 3, 1, 1}"
   ]
  },
  {
   "cell_type": "code",
   "execution_count": null,
   "id": "2fca9116",
   "metadata": {},
   "outputs": [],
   "source": [
    "# 연습"
   ]
  },
  {
   "cell_type": "markdown",
   "id": "a92452ab",
   "metadata": {},
   "source": [
    "- 정답\n",
    "<!-- 1. \n",
    "if 5 in s:\n",
    "    s.remove(5)\n",
    "else:\n",
    "    print('해당 데이터는 없습니다')\n",
    "-->"
   ]
  },
  {
   "cell_type": "code",
   "execution_count": null,
   "id": "8b3cf542",
   "metadata": {},
   "outputs": [],
   "source": [
    "# 아래처럼 출력하시오\n",
    "'''\n",
    "길동\n",
    "길자\n",
    "길숙\n",
    "\n",
    "'''\n",
    "\n",
    "names = {'길동', '길숙', '길자'}"
   ]
  },
  {
   "cell_type": "code",
   "execution_count": null,
   "id": "3e9e4289",
   "metadata": {},
   "outputs": [],
   "source": [
    "# 연습"
   ]
  },
  {
   "cell_type": "markdown",
   "id": "cedebf7e",
   "metadata": {},
   "source": [
    "- 정답\n",
    "<!-- 1. \n",
    "for name in names:\n",
    "    print(name)\n",
    "-->"
   ]
  },
  {
   "cell_type": "markdown",
   "id": "10e105cc",
   "metadata": {},
   "source": [
    "## 5절. enumerate"
   ]
  },
  {
   "cell_type": "code",
   "execution_count": null,
   "id": "5631b2f2",
   "metadata": {},
   "outputs": [],
   "source": [
    "# 아래처럼 출력하시오\n",
    "\n",
    "'''\n",
    "1. 길동님의 연락처는 02-999-9999이고, 서울 살아요\n",
    "2. 길자님의 연락처는 02-888-8888이고, 판교 살아요\n",
    "3. 길숙님의 연락처는 02-777-7777이고, 하남 살아요\n",
    "\n",
    "'''\n",
    "\n",
    "ames = ['길동', '길자', '길숙']\n",
    "tels = ['02-999-9999', '02-888-8888', '02-777-7777']\n",
    "adds = ['서울', '판교', '하남']"
   ]
  },
  {
   "cell_type": "code",
   "execution_count": null,
   "id": "14af50fe",
   "metadata": {},
   "outputs": [],
   "source": [
    "# 연습"
   ]
  },
  {
   "cell_type": "markdown",
   "id": "6c8bf218",
   "metadata": {},
   "source": [
    "- 정답\n",
    "<!-- 1. \n",
    "for idx in range(len(names)):\n",
    "    print('{}. {}님의 연락처는 {}이고, {} 살아요'.format(idx+1,\n",
    "                                             names[idx],\n",
    "                                             tels[idx],\n",
    "                                             adds[idx]))\n",
    "-->\n",
    "\n",
    "<!-- 2. zip을 쓰는 방식\n",
    "for idx, (name, tel, add) in enumerate(zip(names, tels, adds)):\n",
    "    print(f'{idx+1}. {name}님의 연락처는 {tel}이고, {add} 살아요')\n",
    "-->"
   ]
  },
  {
   "cell_type": "markdown",
   "id": "16f65983",
   "metadata": {},
   "source": [
    "## 6절. 연습문제"
   ]
  },
  {
   "cell_type": "code",
   "execution_count": null,
   "id": "02c9a7db",
   "metadata": {},
   "outputs": [],
   "source": [
    "# 다음 리스트가 주어졌을 경우 요구사항대로 코드를 작성하시오\n",
    "# 1.숫자 100 을 맨 뒤에 추가하세요\n",
    "\n",
    "numbers = [1,2,3,4,5,6,7,8,9,10]\n",
    "\n",
    "# 2.다음 리스트를 numbers 리스트 맨 뒤에 추가하세요\n",
    "data = [200, 300, 400, 500]\n",
    "\n",
    "# 3.처음 다섯 개 숫자만 출력하세요\n",
    "# 4.리스트에서 짝수 번째 데이터만 출력하세요\n",
    "# 5.짝수번째 데이터를 모두 0 으로 바꾸세요\n",
    "# 6.데이터를 역순으로 나열하세요 내림차순 정렬이 아닙니다"
   ]
  },
  {
   "cell_type": "code",
   "execution_count": null,
   "id": "754658da",
   "metadata": {},
   "outputs": [],
   "source": [
    "# 연습"
   ]
  },
  {
   "cell_type": "markdown",
   "id": "2c3e4c1e",
   "metadata": {},
   "source": [
    "- 정답\n",
    "<!-- 1. \n",
    "numbers.append(100)\n",
    "-->\n",
    "\n",
    "<!-- 2.\n",
    "numbers.extend(data)\n",
    "-->\n",
    "\n",
    "<!-- 3. \n",
    "numbers[:5]\n",
    "-->\n",
    "\n",
    "<!-- 4.\n",
    "numbers[::2]\n",
    "-->\n",
    "\n",
    "<!-- 5. \n",
    "numbers[::2] = [0] * len(numbers[::2])\n",
    "-->\n",
    "\n",
    "<!-- 6.\n",
    "numbers[::-1]\n",
    "-->"
   ]
  },
  {
   "cell_type": "code",
   "execution_count": null,
   "id": "aa2f80ae",
   "metadata": {},
   "outputs": [],
   "source": [
    "# 다음 딕셔너리 데이터가 주어졌을 경우 요구사항대로 코드를 작성하세요\n",
    "\n",
    "member_info = {'name':'홍길동', 'age':20, 'address':'서울시 마포구', 'score': 90}\n",
    "\n",
    "# 7.address 값을 출력하세요\n",
    "# 8.score 를 출력하고 member_info 딕셔너리에서 삭제하세요\n",
    "# 9.address 를 서울시 서대문구 로 변경하세요\n",
    "# 10.member_info 딕셔너리 데이터의 값을 리스트로 출력하세요"
   ]
  },
  {
   "cell_type": "code",
   "execution_count": null,
   "id": "ace19b5e",
   "metadata": {},
   "outputs": [],
   "source": [
    "# 연습"
   ]
  },
  {
   "cell_type": "markdown",
   "id": "29c18803",
   "metadata": {},
   "source": [
    "- 정답\n",
    "<!-- 1. \n",
    "member_info.get('address')\n",
    "-->\n",
    "\n",
    "<!-- 2.\n",
    "member_info.pop('score')\n",
    "member_info\n",
    "-->\n",
    "\n",
    "<!-- 3. \n",
    "member_info['address'] = '서울시 서대문구'\n",
    "-->\n",
    "\n",
    "<!-- 4.\n",
    "list(member_info.values())\n",
    "-->"
   ]
  },
  {
   "cell_type": "markdown",
   "id": "9a0867d9",
   "metadata": {},
   "source": [
    "# 4장. 제어문\n",
    "\n",
    "## 1절. 조건문(if)"
   ]
  },
  {
   "cell_type": "code",
   "execution_count": null,
   "id": "2e9a0d0b",
   "metadata": {},
   "outputs": [],
   "source": [
    "# 점수를 입력받아 학점출력(A, B, C, D, E, F, 유효하지 않는 점수)"
   ]
  },
  {
   "cell_type": "code",
   "execution_count": null,
   "id": "b4bcf543",
   "metadata": {},
   "outputs": [],
   "source": [
    "# 연습"
   ]
  },
  {
   "cell_type": "markdown",
   "id": "ba8a8653",
   "metadata": {},
   "source": [
    "- 정답\n",
    "<!-- 1. \n",
    "score = int(input('Enter your score > '))\n",
    "if 90 <= score <= 100:\n",
    "    print(f'입력하신 점수 {score}점은 A학점')\n",
    "elif 80<=score<90:\n",
    "    print(f'입력하신 점수 {score}점은 B학점')\n",
    "elif 70<=score<80:\n",
    "    print(f'입력하신 점수 {score}점은 C학점')\n",
    "elif 60<=score<70:\n",
    "    print(f'입력하신 점수 {score}점은 D학점')\n",
    "elif 0<=score<60:\n",
    "    print(f'입력하신 점수 {score}점은 F학점')\n",
    "else :\n",
    "    print(f'입력하신 점수 {score}점은 유효하지 않는 점수')\n",
    "-->"
   ]
  },
  {
   "cell_type": "markdown",
   "id": "77df7acb",
   "metadata": {},
   "source": [
    "## 2절. 반복문\n",
    "\n",
    "### 2.1 for-in 문"
   ]
  },
  {
   "cell_type": "code",
   "execution_count": null,
   "id": "70fec13f",
   "metadata": {},
   "outputs": [],
   "source": [
    "# 1. 1~100 까지 합을 계산하고 출력하시오(for문)\n",
    "# 2. 1~100까지 짝수들의 합을 계산하고 출력하시오"
   ]
  },
  {
   "cell_type": "code",
   "execution_count": null,
   "id": "42acb040",
   "metadata": {},
   "outputs": [],
   "source": [
    "# 연습"
   ]
  },
  {
   "cell_type": "markdown",
   "id": "6e2fc3c2",
   "metadata": {},
   "source": [
    "- 정답\n",
    "<!-- 1. \n",
    "sum = 0 \n",
    "for i in range(1,101):\n",
    "    sum += i  \n",
    "print('1~100까지 합은', sum)\n",
    "-->\n",
    "\n",
    "<!-- 2.\n",
    "sum = 0\n",
    "for i in range(1,101):\n",
    "    if i%2==0:\n",
    "        sum += i  \n",
    "print('1~100까지 짝수들의 합은', sum)\n",
    "-->"
   ]
  },
  {
   "cell_type": "markdown",
   "id": "a8844ff8",
   "metadata": {},
   "source": [
    "### 2.2 while 문"
   ]
  },
  {
   "cell_type": "code",
   "execution_count": null,
   "id": "9b8dc88c",
   "metadata": {},
   "outputs": [],
   "source": [
    "# 1~100까지 짝수들의 합을 계산하고 출력하시오(while문)"
   ]
  },
  {
   "cell_type": "code",
   "execution_count": null,
   "id": "ffd94689",
   "metadata": {},
   "outputs": [],
   "source": [
    "# 연습"
   ]
  },
  {
   "cell_type": "markdown",
   "id": "8ec2fec8",
   "metadata": {},
   "source": [
    "- 정답\n",
    "<!-- 1. \n",
    "sum = 0 # 누적변수\n",
    "i = 1   # i값 초기화. (for문에서는 넣을 필요 없었지만 while문 에서는 꼭 써줘야함)\n",
    "while i <= 100:\n",
    "    if i%2==0:\n",
    "        sum += i\n",
    "    i += 1\n",
    "else:\n",
    "    print('1~100까지 짝수의 합은', sum)\n",
    "-->"
   ]
  },
  {
   "cell_type": "code",
   "execution_count": null,
   "id": "28771c85",
   "metadata": {},
   "outputs": [],
   "source": [
    "# 사용자에게 두 정수를 입력받아, 작은수부터 큰수까지 홀수의 합을 누적해서 출력하시오\n",
    "\n",
    "# 두 정수를 입력\n",
    "# 두 정수중  작은수와 큰수\n",
    "# 누적"
   ]
  },
  {
   "cell_type": "code",
   "execution_count": null,
   "id": "d1b1384f",
   "metadata": {},
   "outputs": [],
   "source": [
    "# 연습"
   ]
  },
  {
   "cell_type": "markdown",
   "id": "94f447ca",
   "metadata": {},
   "source": [
    "- 정답\n",
    "<!-- 1. \n",
    "# 두 정수를 입력\n",
    "first = int(input('첫번째 정수?'))\n",
    "second = int(input('두번째 정수?'))\n",
    "\n",
    "# first에 작은값, second에 큰값\n",
    "if first > second:\n",
    "    first, second = second, first # 다중 변수 할당\n",
    "\n",
    "# 누적\n",
    "sum = 0\n",
    "for i in range(first, second+1):\n",
    "    if i%2: # (i%2==1) | (i%2==-1):\n",
    "        sum += i\n",
    "print(f'{first}~{second}까지 홀수들의 누적 합은 {sum}')\n",
    "-->"
   ]
  },
  {
   "cell_type": "code",
   "execution_count": null,
   "id": "3b6b3886",
   "metadata": {},
   "outputs": [],
   "source": [
    "# 1. 로또번호 6개를 추출후, 정렬하여 출력(1~45)\n",
    "# 2. set 이용하여 출력\n",
    "# 3. 1~45중 6개 뽑아 정렬\n",
    "\n",
    "import random # 랜덤 수를 가져오는 모듈\n",
    "random.randint(1,45) # 1~45의 정수 난수"
   ]
  },
  {
   "cell_type": "code",
   "execution_count": null,
   "id": "f9553ba4",
   "metadata": {},
   "outputs": [],
   "source": [
    "# 연습"
   ]
  },
  {
   "cell_type": "markdown",
   "id": "2db61240",
   "metadata": {},
   "source": [
    "- 정답\n",
    "<!-- 1. \n",
    "lotto_lst = []\n",
    "cnt = 0\n",
    "while len(lotto_lst) < 6:\n",
    "    temp = random.randint(1,45)\n",
    "    cnt += 1\n",
    "    if not temp in lotto_lst:  # not 은 True를 False로 False를 True로 바꿈. temp가 lotto_lst에 없으면 append해라는 말.\n",
    "        lotto_lst.append(temp)\n",
    "print('{}번 로또번호 추출함 : {}'.format(cnt , sorted(lotto_lst)))\n",
    "-->\n",
    "\n",
    "<!-- 2.\n",
    "lotto_set = set() # 빈 셋  # {}해두고 아무것도 안넣으면 딕셔너리로 인식함\n",
    "while len(lotto_set)<6: #lotto_set에 6개가 안되면 계속해. 6개가 되면 빠져나와 라는말.\n",
    "    lotto_set.add(random.randint(1,45))\n",
    "sorted(lotto_set) # 원래는 set이 sorted가 안되어서 list()로 감쌌어야했는데 지금은 알아서 리스트로 바꾸네 \n",
    "-->\n",
    "\n",
    "<!-- 3. \n",
    "sorted(random.sample(range(1,46),6)) \n",
    "\n",
    "# range 1부터 46앞까지 6개 랜덤으로 뽑아. 이건 하나씩 뽑는게 아니라 한꺼번에 6개를 추출하라는 명령이기 때문에 중복이 없음. 정렬만 하면 끝.\n",
    "-->"
   ]
  },
  {
   "cell_type": "markdown",
   "id": "b9eacf42",
   "metadata": {},
   "source": [
    "## 3절. 중첩루프"
   ]
  },
  {
   "cell_type": "code",
   "execution_count": null,
   "id": "89461f4d",
   "metadata": {},
   "outputs": [],
   "source": [
    "# # 2~9단 구구단 출력\n",
    "\n",
    "'''\n",
    "2단  \t  3단  \t  4단  \t  5단  \t  6단  \t  7단  \t  8단  \t  9단  \t\n",
    "2x1= 2\t3x1= 3\t4x1= 4\t5x1= 5\t6x1= 6\t7x1= 7\t8x1= 8\t9x1= 9\t\n",
    "2x2= 4\t3x2= 6\t4x2= 8\t5x2=10\t6x2=12\t7x2=14\t8x2=16\t9x2=18\t\n",
    "2x3= 6\t3x3= 9\t4x3=12\t5x3=15\t6x3=18\t7x3=21\t8x3=24\t9x3=27\t\n",
    "2x4= 8\t3x4=12\t4x4=16\t5x4=20\t6x4=24\t7x4=28\t8x4=32\t9x4=36\t\n",
    "2x5=10\t3x5=15\t4x5=20\t5x5=25\t6x5=30\t7x5=35\t8x5=40\t9x5=45\t\n",
    "2x6=12\t3x6=18\t4x6=24\t5x6=30\t6x6=36\t7x6=42\t8x6=48\t9x6=54\t\n",
    "2x7=14\t3x7=21\t4x7=28\t5x7=35\t6x7=42\t7x7=49\t8x7=56\t9x7=63\t\n",
    "2x8=16\t3x8=24\t4x8=32\t5x8=40\t6x8=48\t7x8=56\t8x8=64\t9x8=72\t\n",
    "2x9=18\t3x9=27\t4x9=36\t5x9=45\t6x9=54\t7x9=63\t8x9=72\t9x9=81\t\n",
    "\n",
    "'''"
   ]
  },
  {
   "cell_type": "code",
   "execution_count": null,
   "id": "9a9423ac",
   "metadata": {},
   "outputs": [],
   "source": [
    "# 연습"
   ]
  },
  {
   "cell_type": "markdown",
   "id": "4e8c5fdc",
   "metadata": {},
   "source": [
    "- 정답\n",
    "<!-- 1. \n",
    "for i in range(2,10):\n",
    "    print('{:^6}'.format(str(i)+'단'), end = '\\t')\n",
    "print() # 개행\n",
    "for i in range(1, 10):\n",
    "    for j in range(2, 10):\n",
    "        print(f'{j}x{i}={i*j:2}', end = '\\t')\n",
    "    print()\n",
    "-->"
   ]
  },
  {
   "cell_type": "markdown",
   "id": "5d51127b",
   "metadata": {},
   "source": [
    "## 4절. 중첩루프 탈출"
   ]
  },
  {
   "cell_type": "code",
   "execution_count": null,
   "id": "267a48fd",
   "metadata": {},
   "outputs": [],
   "source": [
    "# 1. flag 변수를 이용하여 중첩루프 탈출문을 만들어라\n",
    "# 2. 예외 처리를 이용하여 중첩루프 탈출문을 만들어라\n",
    "\n",
    "'''\n",
    "0 1\n",
    "0 2\n",
    "Done\n",
    "'''"
   ]
  },
  {
   "cell_type": "code",
   "execution_count": null,
   "id": "e68a182c",
   "metadata": {},
   "outputs": [],
   "source": [
    "# 연습"
   ]
  },
  {
   "cell_type": "markdown",
   "id": "a4d15c5c",
   "metadata": {},
   "source": [
    "- 정답\n",
    "<!-- 1. \n",
    "flag = False # break를 만나면 True로 바꿔준다\n",
    "for a in range(0,3):      \n",
    "    for b in range(1,3):  \n",
    "        if a==b:\n",
    "            flag = True\n",
    "            break \n",
    "        print(a,b)\n",
    "    # break를 만나면 오는 곳    \n",
    "    if flag: # flag가 True면 break해라\n",
    "        break\n",
    "print('Done')\n",
    "-->\n",
    "\n",
    "<!-- 2.\n",
    "class BreakOutLoopException(Exception):\n",
    "    pass\n",
    "\n",
    "try:\n",
    "    for a in range(0,3):      # a = 0일때, 1일때, 2일때 수행\n",
    "        for b in range(1,3):  # b = 1일때, 2일때 수행\n",
    "            if a==b:\n",
    "                print(f'a={a}, b={b}일때, break함')\n",
    "                # 중첩반복문 탈출(강제로 예외발생)\n",
    "                # raise Exception('중첩반복문 탈출') 이것도 되긴 하지만 없어보임.\n",
    "                raise BreakOutLoopException('중첩반복문 탈출')\n",
    "            print(a,b)\n",
    "except:\n",
    "    print('Done')\n",
    "-->"
   ]
  },
  {
   "cell_type": "markdown",
   "id": "08fa0a1b",
   "metadata": {},
   "source": [
    "## 5절. 연습문제"
   ]
  },
  {
   "cell_type": "code",
   "execution_count": null,
   "id": "bb92875b",
   "metadata": {},
   "outputs": [],
   "source": [
    "# 1. 양의 정수를 입력 받아 홀수인지 짝수인지를 판별하는 프로그램을 작성하세요 . 양의 정수가 아니면 숫자를 다시 입력 받아야 합니다"
   ]
  },
  {
   "cell_type": "code",
   "execution_count": null,
   "id": "88a11811",
   "metadata": {},
   "outputs": [],
   "source": [
    "# 연습"
   ]
  },
  {
   "cell_type": "markdown",
   "id": "971fad43",
   "metadata": {},
   "source": [
    "- 정답\n",
    "<!-- 1. \n",
    "inputStr = ''\n",
    "while(inputStr.isdigit()==False) | (inputStr=='0'):\n",
    "    inputStr = input('양의 정수를 입력하세요')\n",
    "inputNum = int(inputStr)\n",
    "even_odd = '홀수' if inputNum%2 else '짝수'\n",
    "print('입력하신 양의 정수는 {}이고 {}입니다'.format(inputNum, even_odd))\n",
    "-->"
   ]
  },
  {
   "cell_type": "code",
   "execution_count": null,
   "id": "25e7ab78",
   "metadata": {},
   "outputs": [],
   "source": [
    "# 2. 중첩 for 문을 이용하여 아래 패턴의 별을 출력하는 프로그램을 작성하세요 \n",
    "'''\n",
    "     (1)               (2)\n",
    "    *****            *\n",
    "    *****            **   \n",
    "    *****            ***\n",
    "    *****            ****\n",
    "    *****            *****\n",
    "\n",
    "\n",
    "'''"
   ]
  },
  {
   "cell_type": "code",
   "execution_count": null,
   "id": "e1a188dc",
   "metadata": {},
   "outputs": [],
   "source": [
    "# 연습"
   ]
  },
  {
   "cell_type": "markdown",
   "id": "d16b04af",
   "metadata": {},
   "source": [
    "- 정답\n",
    "<!-- 1. \n",
    "for i in range(5):\n",
    "    for j in range(5):\n",
    "        print('*', end = '')\n",
    "    print()\n",
    "-->\n",
    "\n",
    "<!-- 2.\n",
    "for i in range(5):\n",
    "    for j in range(i+1):\n",
    "        print('*', end='')\n",
    "    print()\n",
    "-->"
   ]
  },
  {
   "cell_type": "code",
   "execution_count": null,
   "id": "4b7b8d80",
   "metadata": {},
   "outputs": [],
   "source": [
    "# 3. 1 부터 30 까지 (30 포함 ) 자연수 중에서 3 의 배수의 총 합을 출력시오."
   ]
  },
  {
   "cell_type": "code",
   "execution_count": null,
   "id": "8a126671",
   "metadata": {},
   "outputs": [],
   "source": [
    "# 연습"
   ]
  },
  {
   "cell_type": "markdown",
   "id": "4be91cf6",
   "metadata": {},
   "source": [
    "- 정답\n",
    "<!-- 1. \n",
    "sum = 0\n",
    "for i in range(1,31):\n",
    "    if i%3==0: # i%3: 그냥 이렇게 끝내는게 더 좋음\n",
    "        sum = sum + i\n",
    "    else:\n",
    "        pass\n",
    "print(sum)\n",
    "-->"
   ]
  },
  {
   "cell_type": "code",
   "execution_count": null,
   "id": "9caf26c8",
   "metadata": {},
   "outputs": [],
   "source": [
    "# 4. while문을 사용하여 실행결과가 '1 3 5 7 9'가 되도록 출력하시오"
   ]
  },
  {
   "cell_type": "code",
   "execution_count": null,
   "id": "1f15c6d7",
   "metadata": {},
   "outputs": [],
   "source": [
    "# 연습"
   ]
  },
  {
   "cell_type": "markdown",
   "id": "0a200ee8",
   "metadata": {},
   "source": [
    "- 정답\n",
    "<!-- 1. \n",
    "num = 0\n",
    "while num <= 10:\n",
    "    if num%2:\n",
    "        print(num, end='')\n",
    "    num += 1\n",
    "-->"
   ]
  },
  {
   "cell_type": "code",
   "execution_count": null,
   "id": "b6f95dcf",
   "metadata": {},
   "outputs": [],
   "source": [
    "# 5. 다음 2 차원 리스트의 모든 값을 출력하하시오\n",
    "\n",
    "list2d = [ [1,2,3],[4,5,6,7],[8,9]]"
   ]
  },
  {
   "cell_type": "code",
   "execution_count": null,
   "id": "8d5e3d61",
   "metadata": {},
   "outputs": [],
   "source": [
    "# 연습"
   ]
  },
  {
   "cell_type": "markdown",
   "id": "415c0dd5",
   "metadata": {},
   "source": [
    "- 정답\n",
    "<!-- 1. \n",
    "for row in list2d:\n",
    "    for data in row:\n",
    "        print(data, end=' ')\n",
    "    print()\n",
    "-->"
   ]
  },
  {
   "cell_type": "code",
   "execution_count": null,
   "id": "770fdf4e",
   "metadata": {},
   "outputs": [],
   "source": [
    "# 6. 다음과 같이 출력하시오\n",
    "'''\n",
    "0 apple \n",
    "1 banana\n",
    "'''\n",
    "\n",
    "colors = {\"red\":'apple ', 'yellow':'banana'}"
   ]
  },
  {
   "cell_type": "code",
   "execution_count": null,
   "id": "05d42191",
   "metadata": {},
   "outputs": [],
   "source": [
    "# 연습"
   ]
  },
  {
   "cell_type": "markdown",
   "id": "0dd1833b",
   "metadata": {},
   "source": [
    "- 정답\n",
    "<!-- 1. \n",
    "for i,v in enumerate(colors.values()):\n",
    "    print(i,v)\n",
    "-->"
   ]
  },
  {
   "cell_type": "code",
   "execution_count": null,
   "id": "135e32b3",
   "metadata": {},
   "outputs": [],
   "source": [
    "# 7. 다음 코드의 실행결과는?\n",
    "\n",
    "'''\n",
    "for i in range(0,2):\n",
    "    for j in range(0,2):\n",
    "        if i==j:\n",
    "            break\n",
    "        print(i,j)\n",
    "'''        "
   ]
  },
  {
   "cell_type": "code",
   "execution_count": null,
   "id": "b1c940bd",
   "metadata": {},
   "outputs": [],
   "source": [
    "# 연습"
   ]
  },
  {
   "cell_type": "markdown",
   "id": "2131bc6d",
   "metadata": {},
   "source": [
    "- 정답\n",
    "<!-- 1. \n",
    "1 0\n",
    "-->"
   ]
  },
  {
   "cell_type": "code",
   "execution_count": null,
   "id": "8b4fae89",
   "metadata": {},
   "outputs": [],
   "source": [
    "# 8. 다음 코드의 실행 결과로 출력될 수 없는 것은?\n",
    "'''\n",
    "for i in range(0, 2):\n",
    "    for j in range(0,2):\n",
    "        print(i, j)\n",
    "        if i == j:\n",
    "            break\n",
    "'''\n",
    "\n",
    "# ① 0 0   ② 0 1   ③ 1 0   ④ 1 1"
   ]
  },
  {
   "cell_type": "code",
   "execution_count": null,
   "id": "1919d0c9",
   "metadata": {},
   "outputs": [],
   "source": [
    "# 연습"
   ]
  },
  {
   "cell_type": "markdown",
   "id": "30c17e39",
   "metadata": {},
   "source": [
    "- 정답\n",
    "<!-- 1. \n",
    "② 0 1 \n",
    "-->"
   ]
  },
  {
   "cell_type": "code",
   "execution_count": null,
   "id": "37970c39",
   "metadata": {},
   "outputs": [],
   "source": [
    "# 9. 다음의 리스트에서  3579를 추출하시오\n",
    "\n",
    "L = [3, 4, 5, 6, 7, 8, 9, 10]"
   ]
  },
  {
   "cell_type": "code",
   "execution_count": null,
   "id": "81d28f98",
   "metadata": {},
   "outputs": [],
   "source": [
    "# 연습"
   ]
  },
  {
   "cell_type": "markdown",
   "id": "bb745806",
   "metadata": {},
   "source": [
    "- 정답\n",
    "<!-- 1. \n",
    "for i , data in enumerate(L):\n",
    "    if i%2 == 0:\n",
    "        print(data, end='')\n",
    "-->\n",
    "\n",
    "<!-- 2.\n",
    "for data in L[o::2]\n",
    "  print(data, end=' ')\n",
    "-->"
   ]
  },
  {
   "cell_type": "code",
   "execution_count": null,
   "id": "01f8319e",
   "metadata": {},
   "outputs": [],
   "source": [
    "# 10. 1~100사이의 정수를 맞추는 프로그램을 구현하시오\n",
    "\n",
    "'''\n",
    "\n",
    "1~100 사이의 정수 맞추기 프로그램\n",
    "(프로그램 안에서 random수가 만들어지고, 그 random수 맞추기)\n",
    "1단계 : 숫자를 못 맞추면 UP/DOWN을 출력하고, 맞추면 축하메세지 출력하고 종료.\n",
    "2단계 : 숫자를 못 맞추면 min(0), max(100)를 조정하고, 맞추면 축하메세지 출력하고 종료.\n",
    "3단계 : 2단계의 기회를 5회로 제한. 5회의 기회가 지나면 실패메세지 출력하고 종료.\n",
    "        5회 이내에 맞추면 축하메세지 출력하고 종료\n",
    "\n",
    "'''\n",
    "# 1단계 : 숫자를 못 맞추면 UP/DOWN을 출력하고, 맞추면 축하메세지 출력하고 종료.\n",
    "\n",
    "import random\n",
    "randomNum = random.randint(1, 100)"
   ]
  },
  {
   "cell_type": "code",
   "execution_count": null,
   "id": "54e7eaf8",
   "metadata": {},
   "outputs": [],
   "source": [
    "# 연습"
   ]
  },
  {
   "cell_type": "markdown",
   "id": "598cbf71",
   "metadata": {},
   "source": [
    "- 정답\n",
    "<!-- 1. \n",
    "print('컴퓨터가 발생한 random 수 : ', randomNum)\n",
    "while True:\n",
    "    inputNum = int(input('1~100 사이의 수를 맞춰 보세요 :'))\n",
    "    if (inputNum<1) | (inputNum>100):\n",
    "        print('수의 범위를 벗어났습니다')\n",
    "    elif randomNum < inputNum :\n",
    "        print('Down ↓')\n",
    "    elif randomNum > inputNum :\n",
    "        print('Up ↑')\n",
    "    else:\n",
    "        print('축하 축하 맞추셨습니다')\n",
    "        break\n",
    "print('Bye')\n",
    "-->\n",
    "\n",
    "<!-- 2. # break를 안쓸 경우 하는 방법. 이건 원하는 방식으로 해도 되는듯\n",
    "\n",
    "import random\n",
    "randomNum = random.randint(1, 100)\n",
    "print('컴퓨터가 발생한 random 수 : ', randomNum)\n",
    "inputNum = -1 #5번째에 들어있는 inputNum은 아직 정의가 안되어있기 때문에 1~100에 포함되지 않는 아무숫자를 넣는것\n",
    "while randomNum != inputNum:\n",
    "    inputNum = int(input('1~100 사이의 수를 맞춰 보세요 :'))\n",
    "    if (inputNum<1) | (inputNum>100):\n",
    "        print('수의 범위를 벗어났습니다')\n",
    "    elif randomNum < inputNum :\n",
    "        print('Down ↓')\n",
    "    elif randomNum > inputNum :\n",
    "        print('Up ↑')\n",
    "else:\n",
    "    print('축하 축하 맞추셨습니다')\n",
    "print('Bye')\n",
    "-->"
   ]
  },
  {
   "cell_type": "code",
   "execution_count": null,
   "id": "b7bd8e4e",
   "metadata": {},
   "outputs": [],
   "source": [
    "# 2단계 : 숫자를 못 맞추면 min(0), max(100)를 조정하고, 맞추면 축하메세지 출력하고 종료."
   ]
  },
  {
   "cell_type": "code",
   "execution_count": null,
   "id": "4cfbbc95",
   "metadata": {},
   "outputs": [],
   "source": [
    "# 연습"
   ]
  },
  {
   "cell_type": "markdown",
   "id": "f2c95874",
   "metadata": {},
   "source": [
    "- 정답\n",
    "<!-- 1. \n",
    "import random\n",
    "randomNum = random.randint(1, 100)\n",
    "print('컴퓨터가 발생한 random 수 : ', randomNum)\n",
    "\n",
    "min_ = 1\n",
    "max_ = 100\n",
    "\n",
    "while True:\n",
    "    inputNum = int(input(f'{min_}~{max_} 사이의 수를 맞춰 보세요 :'))\n",
    "    if (inputNum<min_) | (inputNum>max_):\n",
    "        print('수의 범위를 벗어났습니다')\n",
    "    elif randomNum < inputNum :\n",
    "        print('Down ↓')\n",
    "        max_ = inputNum-1\n",
    "    elif randomNum > inputNum :\n",
    "        print('Up ↑')\n",
    "        min_ = inputNum+1\n",
    "    else:\n",
    "        print('축하 축하 맞추셨습니다')\n",
    "        break\n",
    "print('Bye')\n",
    "-->"
   ]
  },
  {
   "cell_type": "code",
   "execution_count": null,
   "id": "59f0a162",
   "metadata": {},
   "outputs": [],
   "source": [
    "# 3단계 : 2단계의 기회를 5회로 제한. 5회의 기회가 지나면 실패메세지 출력하고 종료.\n",
    "#        5회 이내에 맞추면 축하메세지 출력하고 종료"
   ]
  },
  {
   "cell_type": "code",
   "execution_count": null,
   "id": "350f2678",
   "metadata": {},
   "outputs": [],
   "source": [
    "# 연습"
   ]
  },
  {
   "cell_type": "markdown",
   "id": "924f5a09",
   "metadata": {},
   "source": [
    "- 정답\n",
    "<!-- 1. \n",
    "import random\n",
    "randomNum = random.randint(1, 100)\n",
    "print('컴퓨터가 발생한 random 수 : ', randomNum)\n",
    "\n",
    "min_ = 1\n",
    "max_ = 100\n",
    "\n",
    "for cnt in range(5,0,-1):\n",
    "    inputNum = int(input(f'{min_}~{max_} 사이의 수를 맞춰 보세요(남은 기회 {cnt}회) :'))\n",
    "    if (inputNum<min_) | (inputNum>max_):\n",
    "        print('수의 범위를 벗어났습니다')\n",
    "    elif randomNum < inputNum :\n",
    "        print('Down ↓')\n",
    "        max_ = inputNum-1\n",
    "    elif randomNum > inputNum :\n",
    "        print('Up ↑')\n",
    "        min_ = inputNum+1\n",
    "    else:\n",
    "        print('축하 축하 맞추셨습니다')\n",
    "        break\n",
    "else:\n",
    "    print('기회를 모두 사용하셨습니다. 실패하셨습니다')\n",
    "print('Bye')\n",
    "-->"
   ]
  },
  {
   "cell_type": "markdown",
   "id": "b58c24d8",
   "metadata": {},
   "source": [
    "# 5장. 함수\n",
    "\n",
    "## 1절. 함수의 정의 및 사용\n",
    "\n",
    "### 1.2 docstring"
   ]
  },
  {
   "cell_type": "code",
   "execution_count": null,
   "id": "7325c10f",
   "metadata": {},
   "outputs": [],
   "source": [
    "# 매개변수로 들어온 n값 미만의 피보나치 수열을 출력하는 함수를 만드시오\n",
    "'''\n",
    "    ex. \n",
    "    n=10 : 0 1 1 2 3 5 8\n",
    "    n=100 : 0 1 1 2 3 5 8 13 21 34 55 89\n",
    "'''"
   ]
  },
  {
   "cell_type": "code",
   "execution_count": null,
   "id": "a094b2d8",
   "metadata": {},
   "outputs": [],
   "source": [
    "# 연습"
   ]
  },
  {
   "cell_type": "markdown",
   "id": "fded83e8",
   "metadata": {},
   "source": [
    "- 정답\n",
    "<!-- 1. \n",
    "def fibonacci(n):\n",
    "    a,b = 0,1 # 함수 내에 선언한 변수 : 지역변수(반대말 : 전역변수) (지역변수는 이 함수 내에서만 정의된 것. fibonacci가 전역변수)\n",
    "    while a < n:\n",
    "        print(a, end=' ')\n",
    "        a, b = b, a+b\n",
    "    print() # 개행\n",
    "-->"
   ]
  },
  {
   "cell_type": "markdown",
   "id": "cfbe8b51",
   "metadata": {},
   "source": [
    "## 2절. 함수의 실행결과를 반환하는 return"
   ]
  },
  {
   "cell_type": "code",
   "execution_count": null,
   "id": "2e5437f7",
   "metadata": {},
   "outputs": [],
   "source": [
    "# 위에서 만든 피보나치 수열을 리스트로 return하는 함수를 만드시오"
   ]
  },
  {
   "cell_type": "code",
   "execution_count": null,
   "id": "59a74f22",
   "metadata": {},
   "outputs": [],
   "source": [
    "# 연습"
   ]
  },
  {
   "cell_type": "markdown",
   "id": "17d8a0a4",
   "metadata": {},
   "source": [
    "- 정답\n",
    "<!-- 1. \n",
    "def fibonacci(n):\n",
    "    'n미만의 피보나치 수열을 리스트로 return'\n",
    "    result = [] # 피보나치 수열을 append할 리스트\n",
    "    a,b = 0,1\n",
    "    while a < n:\n",
    "        result.append(a) # 리스트에 append\n",
    "        a,b = b,a+b\n",
    "    return result\n",
    "-->"
   ]
  },
  {
   "cell_type": "markdown",
   "id": "89a8b032",
   "metadata": {},
   "source": [
    "## 3절. 함수의 매개변수\n",
    "\n",
    "### 3.4 튜플매개변수를 이용한 가변인수 설정"
   ]
  },
  {
   "cell_type": "code",
   "execution_count": null,
   "id": "6e23c758",
   "metadata": {},
   "outputs": [],
   "source": [
    "# 'Python', 'HTML/CSS', 'JavaScript', 'DBMS'을\n",
    "# Python-HTML/CSS-JavaScript-DBMS으로 묶는 함수를 생성하시오"
   ]
  },
  {
   "cell_type": "code",
   "execution_count": null,
   "id": "e54a715a",
   "metadata": {},
   "outputs": [],
   "source": [
    "# 연습"
   ]
  },
  {
   "cell_type": "markdown",
   "id": "9a3b1fa3",
   "metadata": {},
   "source": [
    "- 정답\n",
    "<!-- 1. \n",
    "def concat(sep, *subject):\n",
    "    return sep.join(subject)\n",
    "\n",
    "concat('-', 'Python', 'Web', 'JS', 'DB', 'MLDL')\n",
    "-->"
   ]
  },
  {
   "cell_type": "markdown",
   "id": "a42a7eb7",
   "metadata": {},
   "source": [
    "### 3.5 딕셔너리 매개변수"
   ]
  },
  {
   "cell_type": "code",
   "execution_count": null,
   "id": "8a459ed0",
   "metadata": {},
   "outputs": [],
   "source": [
    "# (2)번으로 출력되게 (1)번의 func5 함수를 정의하시오\n",
    "'''(1)\n",
    "func5(name='홍길동',\n",
    "      age=30, \n",
    "      tel='010-9999-9999', \n",
    "      address='서울 관악구')\n",
    "'''\n",
    "'''(2)\n",
    "nam : 홍길동\n",
    "age : 30\n",
    "tel : 010-9999-9999\n",
    "address : 서울 관악구\n",
    "'''"
   ]
  },
  {
   "cell_type": "code",
   "execution_count": null,
   "id": "621a9d64",
   "metadata": {},
   "outputs": [],
   "source": [
    "# 연습"
   ]
  },
  {
   "cell_type": "markdown",
   "id": "077c158a",
   "metadata": {},
   "source": [
    "- 정답\n",
    "<!-- 1. \n",
    "def func5(**args):\n",
    "    for key, value in args.items():\n",
    "        print(f'{key} : {value}')\n",
    "-->"
   ]
  },
  {
   "cell_type": "code",
   "execution_count": null,
   "id": "1c13466c",
   "metadata": {},
   "outputs": [],
   "source": [
    "# 위의 func5함수에 address가 없을 경우에는 '서울시 관악구' 로 출력되게 함수를 수정하시오"
   ]
  },
  {
   "cell_type": "code",
   "execution_count": null,
   "id": "f80bcffb",
   "metadata": {},
   "outputs": [],
   "source": [
    "# 연습"
   ]
  },
  {
   "cell_type": "markdown",
   "id": "b85db5d7",
   "metadata": {},
   "source": [
    "- 정답\n",
    "<!-- 1. \n",
    "def func5(**args):\n",
    "    '''딕셔너리 매개변수로 받아 address 키가 없으면 \n",
    "    서울시 관악구로 추가하고 키-값을 출력'''\n",
    "    if not 'address' in args: # args에 address키가 없으면 아래를 수행해라\n",
    "        args.update(address='서울시 관악구')\n",
    "    for key, value in args.items():\n",
    "        print(f'{key} : {value}')\n",
    "-->\n",
    "\n",
    "<!-- 1. \n",
    "# 정보가 없을 경우 무조건 나오게 하려는 방식.\n",
    "\n",
    "def func5(**args):  \n",
    "    print('이름 :', args.get('name', '몰라'))\n",
    "    print('나이 :', args.get('age', 30))\n",
    "    print('번호 :', args.get('tel', '없음'))\n",
    "    print('주소 :', args.get('address', '서울 관악'))\n",
    "-->"
   ]
  },
  {
   "cell_type": "markdown",
   "id": "c69141ca",
   "metadata": {},
   "source": [
    "### 3.7 인수의 언패킹\n",
    "#### (1) 튜플인수 언패킹"
   ]
  },
  {
   "cell_type": "code",
   "execution_count": null,
   "id": "c8bb1594",
   "metadata": {},
   "outputs": [],
   "source": [
    "# 아래의 함수에 numbers를 넣어 출력하시오\n",
    "\n",
    "def add(*args):\n",
    "    sum=0\n",
    "    for num in args:\n",
    "        sum += num\n",
    "    return sum\n",
    "numbers = (1,2,3)"
   ]
  },
  {
   "cell_type": "code",
   "execution_count": null,
   "id": "c83585b3",
   "metadata": {},
   "outputs": [],
   "source": [
    "# 연습"
   ]
  },
  {
   "cell_type": "markdown",
   "id": "8f18784a",
   "metadata": {},
   "source": [
    "- 정답\n",
    "<!-- 1. \n",
    "add(*numbers)\n",
    "-->"
   ]
  },
  {
   "cell_type": "markdown",
   "id": "a6ae0c56",
   "metadata": {},
   "source": [
    "#### (2) 딕셔너리인수 언패킹"
   ]
  },
  {
   "cell_type": "code",
   "execution_count": null,
   "id": "b6faed4f",
   "metadata": {},
   "outputs": [],
   "source": [
    "# 아래의 함수에 info를 넣어 출력하시오\n",
    "\n",
    "def func8(**data):\n",
    "    print(data)\n",
    "    for item in data.items():\n",
    "        print(item)\n",
    "        \n",
    "info = {'shape':'rect', 'width':40 , 'height':30}"
   ]
  },
  {
   "cell_type": "code",
   "execution_count": null,
   "id": "72699602",
   "metadata": {},
   "outputs": [],
   "source": [
    "# 연습"
   ]
  },
  {
   "cell_type": "markdown",
   "id": "abfd1238",
   "metadata": {},
   "source": [
    "- 정답\n",
    "<!-- 1. \n",
    "func8(**info)\n",
    "-->"
   ]
  },
  {
   "cell_type": "markdown",
   "id": "0ea3fa0c",
   "metadata": {},
   "source": [
    "## 4절. 람다식\n",
    "### 4.1 람다식 연습"
   ]
  },
  {
   "cell_type": "code",
   "execution_count": null,
   "id": "408e671b",
   "metadata": {},
   "outputs": [],
   "source": [
    "# 아래의 함수를 람다식으로 변경하시오\n",
    "\n",
    "def even_odd_chk(num):\n",
    "    if num%2:\n",
    "        result = '홀수'\n",
    "    else:\n",
    "        result = '짝수'\n",
    "    return result"
   ]
  },
  {
   "cell_type": "code",
   "execution_count": null,
   "id": "f82d5baf",
   "metadata": {},
   "outputs": [],
   "source": [
    "# 연습"
   ]
  },
  {
   "cell_type": "markdown",
   "id": "540eab16",
   "metadata": {},
   "source": [
    "- 정답\n",
    "<!-- 1. \n",
    "def even_odd_chk(num):\n",
    "    result = '홀수' if num%2 else '짝수'\n",
    "    return result\n",
    "-->\n",
    "\n",
    "<!-- 2.\n",
    "def even_odd_chk(num): \n",
    "    return '홀수' if num%2 else '짝수'\n",
    "-->\n",
    "\n",
    "<!-- 3.\n",
    "even_odd_chk = lambda num : '홀수' if num%2 else '짝수'\n",
    "-->"
   ]
  },
  {
   "cell_type": "code",
   "execution_count": null,
   "id": "507c04d1",
   "metadata": {},
   "outputs": [],
   "source": [
    "# ex2. 두 매개변수의 차이를 return하는 함수를 만들고 람다식으로 만들어보세요"
   ]
  },
  {
   "cell_type": "code",
   "execution_count": null,
   "id": "8091e084",
   "metadata": {},
   "outputs": [],
   "source": [
    "# 연습"
   ]
  },
  {
   "cell_type": "markdown",
   "id": "d3a091a9",
   "metadata": {},
   "source": [
    "- 정답\n",
    "<!-- 1. \n",
    "def diff(a,b):\n",
    "    if a>b:\n",
    "        result = a-b\n",
    "    else:\n",
    "        result = b-a\n",
    "    return result\n",
    "-->\n",
    "\n",
    "<!-- 2.\n",
    "diff = lambda a,b : a-b if a>b else b-a\n",
    "-->"
   ]
  },
  {
   "cell_type": "code",
   "execution_count": null,
   "id": "f0f0c8a7",
   "metadata": {},
   "outputs": [],
   "source": [
    "# ex3. 매개변수로 잔액을 받아, 잔액이 양수면 잔액을 return, 음수면 'negative'를 return"
   ]
  },
  {
   "cell_type": "code",
   "execution_count": null,
   "id": "4f442c9b",
   "metadata": {},
   "outputs": [],
   "source": [
    "# 연습"
   ]
  },
  {
   "cell_type": "markdown",
   "id": "89880a81",
   "metadata": {},
   "source": [
    "- 정답\n",
    "<!-- 1. \n",
    "ex3 = lambda balance : balance if balance>=0 else 'negative'\n",
    "-->"
   ]
  },
  {
   "cell_type": "code",
   "execution_count": null,
   "id": "dc62eef7",
   "metadata": {},
   "outputs": [],
   "source": [
    "# ex4. 점수를 입력받아 80점 이상은 'A팀', 60점 이상은 'B팀', 60점 미만은 '재시험'\n",
    "     # 100점 초과, 0점 미만은 '유효하지 않음'을 return"
   ]
  },
  {
   "cell_type": "code",
   "execution_count": null,
   "id": "e3d7ee8a",
   "metadata": {},
   "outputs": [],
   "source": [
    "# 연습"
   ]
  },
  {
   "cell_type": "markdown",
   "id": "683c5924",
   "metadata": {},
   "source": [
    "- 정답\n",
    "<!-- 1. \n",
    "def grade(num):\n",
    "    if 80<=num<=100:\n",
    "        result = 'A팀'\n",
    "    elif 60<=num<80:\n",
    "        result = 'B팀'\n",
    "    elif 0<=num<60:\n",
    "        result = '재시험'\n",
    "    else:\n",
    "        result = '유효하지 않음'\n",
    "    return result\n",
    "-->\n",
    "\n",
    "<!-- 2.\n",
    "grade = lambda num : 'A팀' if 80<=num<=100 else \\\n",
    "                      'B팀' if 60<=num<80 else\\\n",
    "                      '재시험' if 0<=num<60 else\\\n",
    "                      '유효하지 않음'\n",
    "-->"
   ]
  },
  {
   "cell_type": "markdown",
   "id": "3d4d9b92",
   "metadata": {},
   "source": [
    "### 4.2 함수의 매개변수(인수)에 람다식 사용\n",
    "#### (1) map"
   ]
  },
  {
   "cell_type": "code",
   "execution_count": null,
   "id": "821fb70a",
   "metadata": {},
   "outputs": [],
   "source": [
    "# 1. 2배로 출력(map)\n",
    "# 2. 2배로 출력(리스트컴프리헨션)\n",
    "\n",
    "list_data = [1,2,3,4,5,6,7,8,9]"
   ]
  },
  {
   "cell_type": "code",
   "execution_count": null,
   "id": "356e2aab",
   "metadata": {},
   "outputs": [],
   "source": [
    "# 연습"
   ]
  },
  {
   "cell_type": "markdown",
   "id": "0a68eb8d",
   "metadata": {},
   "source": [
    "- 정답\n",
    "<!-- 1. \n",
    "list(map(lambda x : x*2, list_data))\n",
    "-->\n",
    "\n",
    "<!-- 2.\n",
    "for data in map(lambda x : x*2, list_data)\n",
    "-->"
   ]
  },
  {
   "cell_type": "code",
   "execution_count": null,
   "id": "e8fa242b",
   "metadata": {},
   "outputs": [],
   "source": [
    "# prices = ['5,000', '5000', '6,000', '1000','5,000', '5000', '6,000', '1000’]를 [5000,5000,6000,1000]식으로 바꾸시오\n",
    "\n",
    "prices = ['5,000', '5000', '6,000', '1000','5,000', '5000', '6,000', '1000']\n"
   ]
  },
  {
   "cell_type": "code",
   "execution_count": null,
   "id": "37cdcc9d",
   "metadata": {},
   "outputs": [],
   "source": [
    "# 연습"
   ]
  },
  {
   "cell_type": "markdown",
   "id": "877bc55b",
   "metadata": {},
   "source": [
    "- 정답\n",
    "<!-- 1. \n",
    "prices_int = map(lambda value : int(value.replace(',','')), prices)\n",
    "for price in prices_int:\n",
    "    print(price, end = ' ')\n",
    "-->"
   ]
  },
  {
   "cell_type": "code",
   "execution_count": null,
   "id": "5366e797",
   "metadata": {},
   "outputs": [],
   "source": [
    "# 예제2. : members1을 members2로 변환\n",
    "'''\n",
    "members1 = [{'name':'홍길동', 'birth':'2000-01-01’},\n",
    "            {'name':'신길동', 'birth':'1995-12-18'},]를\n",
    "members2 = [\n",
    "    {'name':'홍길동', 'year':2000, 'month':1,'day':1},\n",
    "    {'name':'신길동', 'year':1995, 'month':12, 'day':18},] 변환\n",
    "'''\n",
    "members1 = [{'name':'홍길동', 'birth':'2000-01-01'},\n",
    "            {'name':'신길동', 'birth':'1995-12-18'},]\n",
    "\n",
    "# setp 1. '2000-01-01' -> {'year':2000, 'month':1,'day':1}\n",
    "# setp 2. {'birth':'2000-01-01'} -> {'year':2000, 'month':1,'day':1}\n",
    "# setp 3. {'name':'홍길동', 'birth':'2000-01-01'} -> {'name':'홍길동', 'year':2000, 'month':1,'day':1}"
   ]
  },
  {
   "cell_type": "code",
   "execution_count": null,
   "id": "9aefed3b",
   "metadata": {},
   "outputs": [],
   "source": [
    "# 연습"
   ]
  },
  {
   "cell_type": "markdown",
   "id": "b3f26ec1",
   "metadata": {},
   "source": [
    "- 정답\n",
    "<!-- setp 1.  \n",
    "def split_date(data):\n",
    "    return {'year': int(data.split[0]), \n",
    "            'month': int(data.split[1]), \n",
    "            'day': int(data.split[2])}\n",
    "split_date('2000-01-01'), split_date('2025-04-04')\n",
    "-->\n",
    "\n",
    "<!-- setp 2.\n",
    "split_date = lambda data : {'year': int(data['birth'].split('-')[0]), \n",
    "                            'month': int(data['birth'].split('-')[1]), \n",
    "                            'day': int(data['birth'].split('-')[2])}\n",
    "\n",
    "split_date({'birth':'2000-01-01'}), split_date({'birth':'2025-04-04'})\n",
    "-->\n",
    "\n",
    "<!-- setp 3.\n",
    "members2 = list(map(lambda member : {\n",
    "    'name': member.get('name','이름없음'),\n",
    "    'year' : int(member.get('birth').split('-')[0]),\n",
    "    'month': int(member.get('birth').split('-')[1]),\n",
    "    'day'  : int(member.get('birth').split('-')[2]),}, members1))\n",
    "\n",
    "members2\n",
    "-->"
   ]
  },
  {
   "cell_type": "code",
   "execution_count": null,
   "id": "f685486e",
   "metadata": {},
   "outputs": [],
   "source": [
    "# 예제3. member2를 member1로 전환\n",
    "# {'year':2000, 'month':1,'day':1} -> '2000-01-01'\n",
    "# {'year':2000, 'month':1,'day':1} -> {'birth' : '2000-01-01'}\n",
    "# {'name':'Hong','year':2000, 'month':1,'day':1} -> {'name':'Hong','birth' : '2000-01-01'}\n",
    "\n",
    "members2 = [{'name': '홍길동', 'year': 2000, 'month': 1, 'day': 1},\n",
    " {'name': '신길동', 'year': 1995, 'month': 12, 'day': 18}]"
   ]
  },
  {
   "cell_type": "code",
   "execution_count": null,
   "id": "1a6f082a",
   "metadata": {},
   "outputs": [],
   "source": [
    "#연습"
   ]
  },
  {
   "cell_type": "markdown",
   "id": "843155d6",
   "metadata": {},
   "source": [
    "- 정답\n",
    "<!-- step 1. \n",
    "1.\n",
    "def join_date(data):\n",
    "    return '{year}-{month:02}-{day:02}'.format(year=data.get('year'),\n",
    "                                              month=data.get('month'),\n",
    "                                              day=data.get('day'))\n",
    "2.\n",
    "def join_date(data):\n",
    "    return '{year}-{month:02}-{day:02}'.format(**data)\n",
    "\n",
    "join_date({'year': 2000, 'month': 1, 'day': 1})\n",
    "-->\n",
    "\n",
    "<!-- step 2.\n",
    "def join_date(data):\n",
    "    return {'birth' : '{year}-{month:02}-{day:02}'.format(**data)}\n",
    "join_date({'year': 2000, 'month': 1, 'day': 1})\n",
    "-->\n",
    "\n",
    "<!-- 3.\n",
    "1.\n",
    "def members_preprocessing(member):\n",
    "    return{'name':member.get('name'),\n",
    "          'birth' : '{year}-{month:02}-{day:02}'.format(**member)}\n",
    "\n",
    "members_preprocessing({'name': 'hong', 'year': 2000, 'month': 1, 'day': 1})\n",
    "\n",
    "2.\n",
    "list(map(lambda member : {'name':member.get('name'),\n",
    "          'birth' : '{year}-{month:02}-{day:02}'.format(**member)}, members2))\n",
    "-->"
   ]
  },
  {
   "cell_type": "markdown",
   "id": "3e4adb0f",
   "metadata": {},
   "source": [
    "#### (2) filter"
   ]
  },
  {
   "cell_type": "code",
   "execution_count": null,
   "id": "80612477",
   "metadata": {},
   "outputs": [],
   "source": [
    "# 홀수만 출력하시오 (filter/리스트컴프리헨션)\n",
    "\n",
    "list_data = [1,2,3,4,5,6,7,8,9]"
   ]
  },
  {
   "cell_type": "code",
   "execution_count": null,
   "id": "4695c5ef",
   "metadata": {},
   "outputs": [],
   "source": [
    "# 연습"
   ]
  },
  {
   "cell_type": "markdown",
   "id": "edeb52f7",
   "metadata": {},
   "source": [
    "- 정답\n",
    "<!-- 1. \n",
    "list(filter(lambda value : value%2, list_data))\n",
    "-->\n",
    "\n",
    "<!-- 2.\n",
    "[value for value in list_data if value%2]\n",
    "-->"
   ]
  },
  {
   "cell_type": "code",
   "execution_count": null,
   "id": "b130d690",
   "metadata": {},
   "outputs": [],
   "source": [
    "# 예제 : 다음 리스트에서 소수점 이하가 0인 수만 추출하시오(filter/리스트컴프리헨션)\n",
    "\n",
    "L = [1, 1.2, 1.5, 3.0, 10.5, 100, -2.0, -12.2]"
   ]
  },
  {
   "cell_type": "code",
   "execution_count": null,
   "id": "939c2fa7",
   "metadata": {},
   "outputs": [],
   "source": [
    "# 연습"
   ]
  },
  {
   "cell_type": "markdown",
   "id": "1e4be551",
   "metadata": {},
   "source": [
    "- 정답\n",
    "<!-- 1. \n",
    "list(filter(lambda a : a%1==0, L))\n",
    "-->\n",
    "\n",
    "<!-- 2.\n",
    "[a for a in L if a%1==0]\n",
    "-->"
   ]
  },
  {
   "cell_type": "markdown",
   "id": "133e4434",
   "metadata": {},
   "source": [
    "#### (3) sort"
   ]
  },
  {
   "cell_type": "code",
   "execution_count": null,
   "id": "43aa3dbd",
   "metadata": {},
   "outputs": [],
   "source": [
    "# 1번째 item 기준으로 내림차순 정렬\n",
    "\n",
    "pairs = [(2, 'two'), (1,'one'), (3,'three'), (4, 'four')]"
   ]
  },
  {
   "cell_type": "code",
   "execution_count": null,
   "id": "afc0ca21",
   "metadata": {},
   "outputs": [],
   "source": [
    "# 연습"
   ]
  },
  {
   "cell_type": "markdown",
   "id": "487e4706",
   "metadata": {},
   "source": [
    "- 정답\n",
    "<!-- \n",
    "pairs.sort(key=lambda data : data[1], reverse=True)\n",
    "pairs \n",
    "-->"
   ]
  },
  {
   "cell_type": "code",
   "execution_count": null,
   "id": "e76fe304",
   "metadata": {},
   "outputs": [],
   "source": [
    "# 1. 0번째 item이 큰 순\n",
    "# 2. 합이 큰 순으로 정렬\n",
    "\n",
    "number_2d = [[9,9], [1,100], [10,200,2]]"
   ]
  },
  {
   "cell_type": "code",
   "execution_count": null,
   "id": "c441742c",
   "metadata": {},
   "outputs": [],
   "source": [
    "# 연습"
   ]
  },
  {
   "cell_type": "markdown",
   "id": "0fad7369",
   "metadata": {},
   "source": [
    "- 정답\n",
    "<!-- 1. \n",
    "number_2d.sort()\n",
    "print(number_2d) -->\n",
    "\n",
    "<!-- 2.\n",
    "number_2d.sort(key=lambda items : sum(items), reverse=True)\n",
    "print(number_2d) -->"
   ]
  },
  {
   "cell_type": "code",
   "execution_count": null,
   "id": "93d95923",
   "metadata": {},
   "outputs": [],
   "source": [
    "# 1. students를 name 순으로 정렬(ㄱㄴㄷ순 - 오름차순 정렬)\n",
    "# 2. studendts를 score 큰 순 정렬\n",
    "\n",
    "students = [{'name':'홍', 'score':99},\n",
    "           {'name':'김', 'score':50},\n",
    "           {'name':'박', 'score':77},\n",
    "           {'score':100},]"
   ]
  },
  {
   "cell_type": "code",
   "execution_count": null,
   "id": "bd52437d",
   "metadata": {},
   "outputs": [],
   "source": [
    "# 연습"
   ]
  },
  {
   "cell_type": "markdown",
   "id": "c3408f7b",
   "metadata": {},
   "source": [
    "- 정답\n",
    "<!-- 1. \n",
    "students.sort(key=lambda data : data.get('name','힣'))\n",
    "-->\n",
    "\n",
    "<!-- 2.\n",
    "students.sort(key=lambda data : data.get('score',0), reverse=True)\n",
    "-->"
   ]
  },
  {
   "cell_type": "code",
   "execution_count": null,
   "id": "f4a24a73",
   "metadata": {},
   "outputs": [],
   "source": [
    "# 1. no 기준으로 sort\n",
    "# 2. title 기준으로 sort\n",
    "\n",
    "books = \\\n",
    "   [{'no':2, 'title':'더트릭컬', 'writer':'폴빠','price':'19,800'},\n",
    "    {'no':1, 'title':'흔한남매', 'writer':'백난도', 'price':'15,120'},\n",
    "    {'no':3, 'title':'단 한 번의 삶', 'writer':'김영하', 'price':'15,120'},\n",
    "    {'no':4, 'title':'가격잘못', 'writer':'홍길동', 'price':'ㅁ'},\n",
    "    {'no':5, 'title':'가격이숫자', 'writer':'백난도', 'price':30200},\n",
    "    {'no':6, 'title':'가격이없음', 'writer':'이길동'},] "
   ]
  },
  {
   "cell_type": "code",
   "execution_count": null,
   "id": "3efeb4d0",
   "metadata": {},
   "outputs": [],
   "source": [
    "# 연습"
   ]
  },
  {
   "cell_type": "markdown",
   "id": "562d8e9c",
   "metadata": {},
   "source": [
    "- 정답\n",
    "<!-- 1. \n",
    "books.sort(key=lambda data : data.get('no'))\n",
    "books\n",
    "-->\n",
    "\n",
    "<!-- 2.\n",
    "books.sort(key=lambda data : data.get('title'))\n",
    "books\n",
    "-->"
   ]
  },
  {
   "cell_type": "code",
   "execution_count": null,
   "id": "531ae268",
   "metadata": {},
   "outputs": [],
   "source": [
    "# 1. 30200, '12,000', '5000', 'ㅁ', None    →    30200, 12000, 5000, 0, 0\n",
    "# 2. {'no':5, 'title':'가격이숫자', 'writer':'백난도', 'price':'12,000'}\n",
    "\n",
    "books = \\\n",
    "   [{'no':2, 'title':'더트릭컬', 'writer':'폴빠','price':'19,800'},\n",
    "    {'no':1, 'title':'흔한남매', 'writer':'백난도', 'price':'15,120'},\n",
    "    {'no':3, 'title':'단 한 번의 삶', 'writer':'김영하', 'price':'15,120'},\n",
    "    {'no':4, 'title':'가격잘못', 'writer':'홍길동', 'price':'ㅁ'},\n",
    "    {'no':5, 'title':'가격이숫자', 'writer':'백난도', 'price':30200},\n",
    "    {'no':6, 'title':'가격이없음', 'writer':'이길동'},] "
   ]
  },
  {
   "cell_type": "code",
   "execution_count": null,
   "id": "777aa8a2",
   "metadata": {},
   "outputs": [],
   "source": [
    "# 연습"
   ]
  },
  {
   "cell_type": "markdown",
   "id": "c9329c53",
   "metadata": {},
   "source": [
    "- 정답\n",
    "<!-- 1. \n",
    "def parse_int(price):\n",
    "    if isinstance(price, str) and price.replace(',','').isdigit(): #price가 str이면 ,를 빼. 그게 숫자냐?\n",
    "        return int(price.replace(',',''))\n",
    "    elif isinstance(price,int):\n",
    "        return price\n",
    "    else:\n",
    "        return 0\n",
    "print(parse_int('12,000'), parse_int(12), parse_int('ㅁ'), parse_int(None))\n",
    "\n",
    "람다식 변경\n",
    "\n",
    "parse_int = lambda price:\\\n",
    "    int(price.replace(',',''))\\\n",
    "        if isinstance(price,str) and price.replace(',','').isdigit() else\\\n",
    "        price if isinstance(price,int) else 0\n",
    "\n",
    "print(parse_int('12,000'), parse_int(12), parse_int('ㅁ'), parse_int(None))\n",
    "-->\n",
    "\n",
    "<!-- 2.\n",
    "parse_int = lambda book:\\\n",
    "    int(book.get('price').replace(',',''))\\\n",
    "        if isinstance(book.get('price'),str) and book.get('price').replace(',','').isdigit() else\\\n",
    "        book.get('price') if isinstance(book.get('price'),int) else 0\n",
    "                            \n",
    "parse_int({'no':5, 'title':'가격이숫자', 'writer':'백난도', 'price':'12,000'})  \n",
    "-->\n",
    "\n",
    "<!-- 최종. \n",
    "copyBooks = books.copy()\n",
    "copyBooks.sort(key=lambda book:\\\n",
    "                int(book.get('price').replace(',','')) \\\n",
    "               if isinstance(book.get('price'),str) and book.get('price').replace(',','').isdigit()\\\n",
    "               else book.get('price') if isinstance(book.get('price'),int) \\\n",
    "               else 0, reverse=True)\n",
    "copyBooks\n",
    "-->"
   ]
  },
  {
   "cell_type": "markdown",
   "id": "920d8b96",
   "metadata": {},
   "source": [
    "## 6절. 연습문제\n",
    "### 실습형"
   ]
  },
  {
   "cell_type": "code",
   "execution_count": null,
   "id": "b2eb14e5",
   "metadata": {},
   "outputs": [],
   "source": [
    "# 1.함수의인자로 리스트를 받은 후 리스트 내에 있는 모든 정수값에 대한 최대값과 최소값을 리턴하는 함수를 작성하세요\n",
    "# def get_max_min(data_list):"
   ]
  },
  {
   "cell_type": "code",
   "execution_count": null,
   "id": "90dae167",
   "metadata": {},
   "outputs": [],
   "source": [
    "# 연습"
   ]
  },
  {
   "cell_type": "markdown",
   "id": "b6501222",
   "metadata": {},
   "source": [
    "- 정답\n",
    "<!-- 1. \n",
    "def get_max_min(data_list): # 약간 수정된 메일받은 내용    \n",
    "    # 최소값은 큰값으로, 최대값은 작은값으로 초기화\n",
    "    import sys\n",
    "    min_, max_ = sys.maxsize, -sys.maxsize\n",
    "    print(min_, max_)\n",
    "    for data in data_list:\n",
    "        if data==round(data):\n",
    "            if min_> data:\n",
    "                min_ = data\n",
    "            if max_ < data:\n",
    "                max_ = data\n",
    "    return {\"최대정수\": max_, \"최소정수\": min_}\n",
    "\n",
    "get_max_min([-99.1,0,-3.9, 10])\n",
    "-->\n",
    "\n",
    "<!-- 2.\n",
    "\n",
    "-->"
   ]
  },
  {
   "cell_type": "code",
   "execution_count": null,
   "id": "d95a52f7",
   "metadata": {},
   "outputs": [],
   "source": [
    "# 2.체질량 지수(Body Mass Index, BMI)는 체중과 키를 이용해 비만도를 나타내는 지수로 아래의 수식에 의해 계산됩니다. \n",
    "# 함수의 인자로 체중(kg)과 신장(m)를입력받은 후 BMI값에 따라 ‘마른 체형‘, ‘표준‘, ‘비만‘, ‘고도비만‘ 중 하나의 상태를 출력하는 함수를 구현해 보세요.\n",
    "'''\n",
    "• getBMI(kg, m):\n",
    "• BMI지수 = 체중(kg) / 신장(m)의 제곱\n",
    "• BMI<18.5 : 마른체형\n",
    "• 18.5<=BMI<25 : 표준\n",
    "• 25<=BMI<30 : 비만\n",
    "• BMI >=30 : 고도비만\n",
    "'''"
   ]
  },
  {
   "cell_type": "code",
   "execution_count": null,
   "id": "14ab910c",
   "metadata": {},
   "outputs": [],
   "source": [
    "# 연습"
   ]
  },
  {
   "cell_type": "markdown",
   "id": "a39ad1a6",
   "metadata": {},
   "source": [
    "- 정답\n",
    "<!-- 1. \n",
    "getBMI = lambda kg, m : '마른체형' if kg / (m*m) < 18.5 else\\\n",
    "                        '표준' if 18.5<= kg / (m*m) <25 else\\\n",
    "                        '비만' if 25<= kg / (m*m) <30 else\\\n",
    "                        '고도비만'\n",
    "getBMI(100,1.5)\n",
    "-->"
   ]
  },
  {
   "cell_type": "code",
   "execution_count": null,
   "id": "5528b906",
   "metadata": {},
   "outputs": [],
   "source": [
    "# 3.직각삼각형의 밑변(w)과 높이(h)를 입력받은 후 삼각형의 면적(area)과 둘레(perimeter)를 계산하는 함수를 작성하세요\n",
    "# • 리턴값은 면적과 둘레를 return하도록 구현하세요\n",
    "# • math.sqrt() : 제곱근을 구하는 함수이용 (ex)math.sqrt(25) : 5.0\n",
    "# • def get_triangle(width, height):\n"
   ]
  },
  {
   "cell_type": "code",
   "execution_count": null,
   "id": "8b5e7f29",
   "metadata": {},
   "outputs": [],
   "source": [
    "# 연습"
   ]
  },
  {
   "cell_type": "markdown",
   "id": "6629112f",
   "metadata": {},
   "source": [
    "- 정답\n",
    "<!-- 1. \n",
    "import math\n",
    "def get_triangle(w,h):\n",
    "    area = w*h*0.5\n",
    "    # math.sqrt() : 제곱근\n",
    "    perimeter = w + h + math.sqrt(w*w + h*h)\n",
    "    # return area, perimeter(튜플 리턴)\n",
    "    return {'넓이':area, '둘레':perimeter}\n",
    "get_triangle(3,4)\n",
    "\n",
    "def get_triangle(width, height): # 메일받은 내용\n",
    "    return {\"넓이\":width*height*0.5, \"둘레\":width+height+math.sqrt((width**2)+(height**2))} \n",
    "-->"
   ]
  },
  {
   "cell_type": "code",
   "execution_count": null,
   "id": "717cad44",
   "metadata": {},
   "outputs": [],
   "source": [
    "# 4.함수의 인자로 시작과 끝 숫자가 주어질 때 시작부터 끝까지의 모든 정수값의 합을 리턴하는 함수를 작성하세요(시작값과 끝값 포함).\n",
    "# • def mysum(fRom, end):"
   ]
  },
  {
   "cell_type": "code",
   "execution_count": null,
   "id": "77acb804",
   "metadata": {},
   "outputs": [],
   "source": [
    "# 연습"
   ]
  },
  {
   "cell_type": "markdown",
   "id": "3d7fb302",
   "metadata": {},
   "source": [
    "- 정답\n",
    "<!-- 1. \n",
    "def mysum(fRom, end):\n",
    "    sum = 0\n",
    "    for i in range(fRom,end+1):\n",
    "        sum += i\n",
    "    print(sum)\n",
    "    \n",
    "mysum(1,4)\n",
    "\n",
    "def mysum(fRom, end): # 메일받은 내용\n",
    "    return sum(range(fRom, end+1))\n",
    "\n",
    "mysum = lambda fRom, end : sum(range(fRom, end+1)) # 람다식으로 변경\n",
    "-->"
   ]
  },
  {
   "cell_type": "code",
   "execution_count": null,
   "id": "60164dc9",
   "metadata": {},
   "outputs": [],
   "source": [
    "# 5.함수의인자로 문자열을 포함하는 리스트가 입력될 때 각 문자열의 첫 세글자로만 구성된 리스트를 리턴하는 함수와 람다식을 작성하세요\n",
    "# • 예를 들어 함수의 입력으로 [‘Seoul’, ‘Daegu’, ‘Kwangju’, ‘Jeju’]가 입력될 때 함수의 리턴값은 [‘Seo’, ‘Dae’, ‘Kwa’,’Jej’]\n",
    "# • def get_abbrs(lst):"
   ]
  },
  {
   "cell_type": "code",
   "execution_count": null,
   "id": "ce77e4a8",
   "metadata": {},
   "outputs": [],
   "source": [
    "# 연습"
   ]
  },
  {
   "cell_type": "markdown",
   "id": "5792bdf6",
   "metadata": {},
   "source": [
    "- 정답\n",
    "<!-- 1. \n",
    "test = ['Seoul', 'Deagu', 'Kwangju', 'Jeju']\n",
    "def get_abbrs(list_):\n",
    "    return [x[:3] for x in list_]\n",
    "\n",
    "def get_addrs(list_): # 많은 메일을 받은 내용 : 위의 리스트컴프리헨션 추천\n",
    "    answer = []\n",
    "    for l in list_:\n",
    "        answer.append(l[:3])\n",
    "    return answer\n",
    "\n",
    "print(get_abbrs(test)) # 일반 함수 이용\n",
    "print((lambda l : [x[:3] for x in l])(test)) #람다식 이용(변수에 람다식을 안담아서 이렇게 쓴것)\n",
    "-->"
   ]
  },
  {
   "cell_type": "code",
   "execution_count": null,
   "id": "91e53b2d",
   "metadata": {},
   "outputs": [],
   "source": [
    "# 6. 다음 코드를 람다 함수 형태로 수정할 때 알맞은 코드를 작성하시오\n",
    "# def f(x,y):\n",
    "#     return x**y"
   ]
  },
  {
   "cell_type": "code",
   "execution_count": null,
   "id": "9924774c",
   "metadata": {},
   "outputs": [],
   "source": [
    "# 연습"
   ]
  },
  {
   "cell_type": "markdown",
   "id": "b8d2f204",
   "metadata": {},
   "source": [
    "- 정답\n",
    "<!-- 1. \n",
    "f = lambda x,y : x**y \n",
    "f(2,3)\n",
    "-->"
   ]
  },
  {
   "cell_type": "code",
   "execution_count": null,
   "id": "407a9356",
   "metadata": {},
   "outputs": [],
   "source": [
    "# 7. ex = [1,2,3,4,5]를 [1,4,9,16,25]의 결과를 얻을 수 있도록 람다함수와 map()함수를 사용하여 구현과 리스트 컴프리헨션으로 구현하시오\n",
    "\n",
    "# >>>ex = [1,2,3,4,5]\n",
    "# >>>________________\n",
    "# [1,4,9,16,25]\n",
    "\n",
    "list_ = [1,2,3,4,5]"
   ]
  },
  {
   "cell_type": "code",
   "execution_count": null,
   "id": "175ec7df",
   "metadata": {},
   "outputs": [],
   "source": [
    "# 연습"
   ]
  },
  {
   "cell_type": "markdown",
   "id": "2ed6245b",
   "metadata": {},
   "source": [
    "- 정답\n",
    "<!-- 1. \n",
    "print(list(map(lambda data : data**2 , list_)))\n",
    "-->\n",
    "\n",
    "<!-- 2.\n",
    "print([data**2 for data in list_])\n",
    "-->"
   ]
  },
  {
   "cell_type": "code",
   "execution_count": null,
   "id": "5088493f",
   "metadata": {},
   "outputs": [],
   "source": [
    "# 10. n개의 벡터(리스트나 튜플, 셋, 딕셔너리)들의 크기가 같은지 여부를 reutrn하는 vector_size_check(*vector _var) 를 한 줄의 코드(리스트 컴프리헨션 이용)로 작성하시오."
   ]
  },
  {
   "cell_type": "code",
   "execution_count": null,
   "id": "c9f13bf0",
   "metadata": {},
   "outputs": [],
   "source": [
    "# 연습"
   ]
  },
  {
   "cell_type": "markdown",
   "id": "5a5928bd",
   "metadata": {},
   "source": [
    "- 정답\n",
    "<!-- 1. \n",
    "def vector_size_check(*vector_var):\n",
    "    result = set()\n",
    "    for vector in vector_var:\n",
    "        result.add(len(vector)) # len(vector_var)이 아니고 vector 하나하나의 len\n",
    "    return len(result)==1\n",
    "\n",
    "def vector_size_check(*vector_var):\n",
    "    return len(set([len(vector) for vector in vector_var]))==1\n",
    "\n",
    "print(vector_size_check([1,2], {10,20}, {'name':'홍', 'age':30}, (1,2)))\n",
    "print(vector_size_check([1,2], {10,20}, {'name':'홍', 'age':30}, (1,)))\n",
    "-->\n",
    "\n",
    "<!-- 2.# 실습형 10 람다식으로 (리스트컴프리헨션)\n",
    "vector_size_check = lambda *vector_var :  \\\n",
    "        len(set([len(vector) for vector in vector_var]))==1\n",
    "\n",
    "print(vector_size_check([1,2], {10,20}, {'name':'홍', 'age':30}, (1,2)))\n",
    "print(vector_size_check([1,2], {10,20}, {'name':'홍', 'age':30}, (1,)))\n",
    "-->"
   ]
  },
  {
   "cell_type": "code",
   "execution_count": null,
   "id": "6e79545f",
   "metadata": {},
   "outputs": [],
   "source": [
    "# 11. 다음과 같은 결과를 얻기 위해 하나의 스칼라값을 리스트나 튜플, 셋등 벡터에 곱하는 코드를 작성하시오.(단 입력되는 벡터의 크기는 일정하지 않음)\n",
    "#scalar_vector_product(5, [1,2,3,4])\n",
    "#[5,10,15,20]"
   ]
  },
  {
   "cell_type": "code",
   "execution_count": null,
   "id": "d4903f26",
   "metadata": {},
   "outputs": [],
   "source": [
    "# 연습"
   ]
  },
  {
   "cell_type": "markdown",
   "id": "0f88663e",
   "metadata": {},
   "source": [
    "- 정답\n",
    "<!-- 1. \n",
    "def scalar_vector_product(num, vector):\n",
    "    return [num*vec for vec in vector]\n",
    "\n",
    "def scalar_vector_product(x, lst): # 메일 받은 내용\n",
    "    return list(map(lambda num : num*x, lst)) # 위에가 더 간단해보이는데 왜 map함수를 하냐? 나중에 엄청쓰니까 연습하기.\n",
    "\n",
    "scalar_vector_product = lambda num, vector : [num*v for v in vector]\n",
    "\n",
    "scalar_vector_product(10, [1,2,3,4])\n",
    "-->"
   ]
  },
  {
   "cell_type": "markdown",
   "id": "0946d27b",
   "metadata": {},
   "source": [
    "# 7장. 객체지향 프로그래밍\n",
    "\n",
    "## 5절. 연습문제"
   ]
  },
  {
   "cell_type": "code",
   "execution_count": null,
   "id": "da7e7249",
   "metadata": {},
   "outputs": [],
   "source": [
    "'''1.다음 조건을 만족하는 클래스를 작성하세요\n",
    "    - 도형 (Shape)클래스와 삼각형 (Triangle) 클래스를 만들어야 합니다\n",
    "    - 도형 (Shape)클래스\n",
    "          - 생성자를 통해 x, y 좌표를 초기화할 수 있습니다 . x, y 좌표의 기본값은 0, 0 입니다\n",
    "          - x, y 좌표를 이동시킬 수 있는 move 함수가 있습니다\n",
    "          - x, y 좌표값 정보를 문자열로 리턴하는 __str__ 함수가 있습니다\n",
    "          - 도형의 면적을 구하는 함수 (calc_area) 가 있습니다 . 다만 도형 클래스의 calc_area() 는\n",
    "            구현되어 있지 않아 호출하면 오류가 발생합니다 (파이썬은 추상메소드가 없음 추상메소드 역할을 구현)\n",
    "          - 정적메소드 (staticmethod) 를 하나 이상 구현합니다\n",
    "\n",
    "    - '삼각형 (Triangle) 클래스는 도형 (Shape) 클래스이다' 관계가 성립해야 합니다\n",
    "        - 생성자를 통해 , width, height, x, y 좌표를 초기화하고 x, y 좌표의 기본값은 0, 0 입니다\n",
    "        - 삼각형의 면적을 구하는 메소드 calc_area 를 재정의합니다\n",
    "        - 삼각형의 정보를 문자열로 반환하는 __str__() 함수가 있습니다\n",
    "        - 삼각형 객체가 몇 개가 만들어져 있는지 정보를 저장하는 클래스 변수를 추가하고\n",
    "          생성자에서 객체를 만들 때마다 증가시키고 소멸자에서 객체를 소멸시킬 때마다 감소합니다 '''"
   ]
  },
  {
   "cell_type": "code",
   "execution_count": null,
   "id": "c925e45e",
   "metadata": {},
   "outputs": [],
   "source": [
    "# 연습"
   ]
  },
  {
   "cell_type": "markdown",
   "id": "00420097",
   "metadata": {},
   "source": [
    "- 정답\n",
    "<!-- 1. \n",
    "class Shape:\n",
    "    def __init__(self, x=0, y=0):\n",
    "        self.x = x\n",
    "        self.y = y\n",
    "    def move(self, x, y): # x축으로 얼마 move할지, y축으로 얼마 move할지를 받아 move\n",
    "        self.x += x\n",
    "        self.y += y\n",
    "    def cal_area(self): # 호출시 강제로 예외발생\n",
    "        raise Exception(\"예외메세지\")\n",
    "    def __str__(self):\n",
    "        return \"x좌표값:{}, y좌표값:{}\".format(self.x, self.y)\n",
    "    @staticmethod\n",
    "    def staticmethod_():\n",
    "        print('도형 클래스의 staticmethod 호출')\n",
    "-->\n",
    "\n",
    "<!-- 2.\n",
    "class Triangle(Shape):\n",
    "    __count = 0\n",
    "    def __init__(self, width, height, x=0, y=0):\n",
    "        Triangle._Triangle__count += 1\n",
    "        super().__init__(x, y)\n",
    "        self.width = width\n",
    "        self.height = height    \n",
    "    def __del__(self):\n",
    "        Triangle._Triangle__count -= 1        \n",
    "    def __str__(self):\n",
    "        return super().__str__() + \", width:{}, height:{}, area:{}\".\\\n",
    "                            format(self.width, self.height, self.calc_area())    \n",
    "    def calc_area(self):\n",
    "        return (self.width*self.height)/2    \n",
    "    @classmethod\n",
    "    def get_count(cls):\n",
    "        return cls.__count\n",
    "-->\n",
    "\n",
    "<!-- 출력.\n",
    "s = Shape(10,10)\n",
    "\n",
    "t1 = Triangle(10, 20)\n",
    "t2 = Triangle(3, 4, 5, 5)\n",
    "print(t1)\n",
    "print(t2)\n",
    "print('객체 갯수 :', Triangle.get_count())\n",
    "-->"
   ]
  },
  {
   "cell_type": "markdown",
   "id": "5b9a24b2",
   "metadata": {},
   "source": [
    "# 8장. 예외처리\n",
    "## 2절. try~except"
   ]
  },
  {
   "cell_type": "code",
   "execution_count": null,
   "id": "ac9678bf",
   "metadata": {},
   "outputs": [],
   "source": [
    "# 100을 나눌 유효한 정수를 입력할 때까지 입력받아 100을 나눈 결과를 출력"
   ]
  },
  {
   "cell_type": "code",
   "execution_count": null,
   "id": "0a1b2c7c",
   "metadata": {},
   "outputs": [],
   "source": [
    "# 연습"
   ]
  },
  {
   "cell_type": "markdown",
   "id": "e66d755e",
   "metadata": {},
   "source": [
    "- 정답\n",
    "<!-- 1. \n",
    "while True: #몇번이나 반복할지 모를때 while문 사용\n",
    "    try:\n",
    "        x = int(input('100을 나눌 정수를 입력하세요 :'))\n",
    "        print('100을 입력한 정수로 나누면 {:.2f}'.format(100/x))\n",
    "        break # 여기까지 했을때 제대로 나오면 더이상 반복하지 말고 빠져나와라\n",
    "    except:\n",
    "        print('유효한 정수가 아닙니다')\n",
    "-->"
   ]
  },
  {
   "cell_type": "code",
   "execution_count": null,
   "id": "5418dd29",
   "metadata": {},
   "outputs": [],
   "source": [
    "# 수를 입력받아 100을 나눈 결과를 출력\n",
    "# ValueError: invalid literal for int() with base 10: '삼'(정수를 입력하지 않은 경우)\n",
    "# ZeroDivisionError: division by zero (0을 입력한 경우 예외 객체의 타입과 메세지)"
   ]
  },
  {
   "cell_type": "code",
   "execution_count": null,
   "id": "c21f7977",
   "metadata": {},
   "outputs": [],
   "source": [
    "# 연습"
   ]
  },
  {
   "cell_type": "markdown",
   "id": "e0d74c86",
   "metadata": {},
   "source": [
    "- 정답\n",
    "<!-- 1. \n",
    "try:\n",
    "    x = int(input('100을 나눌 정수를 입력하세요 :'))\n",
    "    print('100을 입력한 정수로 나누면 {:.2f}'.format(100/x)) \n",
    "except ZeroDivisionError:\n",
    "    print('0으로는 나눌 수 없어요')\n",
    "except ValueError:\n",
    "    print('정수를 입력하지 않았습니다')\n",
    "except Exception:\n",
    "    print('기타 다른 예외입니다') # 보험용으로 쓸 수 있음\n",
    "-->"
   ]
  },
  {
   "cell_type": "markdown",
   "id": "e0f2f3cb",
   "metadata": {},
   "source": [
    "## 6절. 연습문제"
   ]
  },
  {
   "cell_type": "code",
   "execution_count": null,
   "id": "1acbc92f",
   "metadata": {},
   "outputs": [],
   "source": [
    "# 1. 숫자 두개를 입력받아 나눗셈 연산을 하는 프로그램을 작성하시오.\n",
    "# - 두 숫자는 정수 또는 실수일 수 있으며, 0으로 나눌 수 없습니다.\n",
    "# - 올바른 두 수를 입력하고 나눗셈 연산 결과를 출력한 후 종료해야 합니다.\n",
    "# - 다음은 실행 후 출력 예시입니다."
   ]
  },
  {
   "cell_type": "code",
   "execution_count": null,
   "id": "43bef78a",
   "metadata": {},
   "outputs": [],
   "source": [
    "# 연습"
   ]
  },
  {
   "cell_type": "markdown",
   "id": "717584e6",
   "metadata": {},
   "source": [
    "- 정답\n",
    "<!-- 1. \n",
    "while True:\n",
    "    try:\n",
    "        num1 = float(input('첫번째 숫자를 입력하세요:'))\n",
    "        num2 = float(input('두번째 숫자를 입력하세요:'))\n",
    "        print('입력한 수는 {}와 {}입니다.'.format(num1, num2))\n",
    "        print('{}을 {}로 나누면 {}입니다.'.format(num1, num2, num1/num2))\n",
    "        break\n",
    "    except:\n",
    "        print('유효한 숫자가 아닙니다. 다시 시도하세요.')\n",
    "-->"
   ]
  },
  {
   "cell_type": "code",
   "execution_count": null,
   "id": "c170705d",
   "metadata": {},
   "outputs": [],
   "source": [
    "# 2. 1번 코드의 예외처리를 예외에 따라 다르게 처리하세요.\n",
    "# - 숫자로 바꿀 수 없을 경우 ValueError가 발생합니다.\n",
    "# - 0으로 나누려고 할 때 ZeroDivisionError가 발생합니다.\n",
    "# - 다음은 실행 후 출력 예시입니다."
   ]
  },
  {
   "cell_type": "code",
   "execution_count": null,
   "id": "78e8083e",
   "metadata": {},
   "outputs": [],
   "source": [
    "# 연습"
   ]
  },
  {
   "cell_type": "markdown",
   "id": "d399c817",
   "metadata": {},
   "source": [
    "- 정답\n",
    "<!-- 1. \n",
    "while True:\n",
    "    try:\n",
    "        num1 = float(input('첫번째 숫자를 입력하세요:'))\n",
    "        num2 = float(input('두번째 숫자를 입력하세요:'))\n",
    "        print('입력한 수는 {}와 {}입니다.'.format(num1, num2))\n",
    "        print('{}을 {}로 나누면 {}입니다.'.format(num1, num2, num1/num2))\n",
    "        break\n",
    "    except ValueError:\n",
    "        print('유효한 숫자가 아닙니다. 다시 시도하세요.')\n",
    "    except ZeroDivisionError:\n",
    "        print('0으로 나눌 수 없습니다. 다시 시도하세요.')\n",
    "-->"
   ]
  },
  {
   "cell_type": "markdown",
   "id": "6f0458d7",
   "metadata": {},
   "source": [
    "# 9장. 파일 i/o 프로그래밍"
   ]
  },
  {
   "cell_type": "code",
   "execution_count": null,
   "id": "ef769d03",
   "metadata": {},
   "outputs": [],
   "source": [
    "# 기능별 함수를 작성한다.\n",
    "# 실행하면 data/ch09_customers.txt파일의 내용을 load(customer_list).\n",
    "# 파일이 존재하지 않으면 빈 customers.txt파일을 생성하고 데이터는 customer_list = []\n",
    "# 종료시 data/ch09_customers.txt에 백업후 종료(9번 기능)\n",
    "\n",
    "if __name__ == '__main__':\n",
    "    main()\n",
    "    \n",
    "'''\n",
    "\n",
    "    데이터가 로드 되었습니다.\n",
    "    1:입력|2:전체출력|3:삭제|4:이름찾기|5:내보내기(CSV)|9:종료 메뉴 선택 : 1\n",
    "    이름 : 홍길동\n",
    "    전화번호 : 010-8888-8888\n",
    "    이메일 : hong2@abc.com\n",
    "    나이 : 31\n",
    "    고객등급(1~5) : 5\n",
    "    기타 정보 : abc\n",
    "    1:입력|2:전체출력|3:삭제|4:이름찾기|5:내보내기(CSV)|9:종료 메뉴 선택 : 2\n",
    "    ========================================================\n",
    "                            고객 정보\n",
    "    --------------------------------------------------------\n",
    "    GRADE  이름   전화          메일               나이  기타\n",
    "    ========================================================\n",
    "       ** 유길동 010-5432-2222  yu@hong.com       20   까칠해\n",
    "    ***** 홍길동 010-9999-9999  hong@mega_it.com  30   열심히\n",
    "    ***** 홍길동 010-8888-8888  hong2@abc.com     31   abc\n",
    "    ========================================================\n",
    "    1:입력|2:전체출력|3:삭제|4:이름찾기|5:내보내기(CSV)|9:종료 메뉴 선택 : 4\n",
    "    찾을 고객 이름은? 홍길동\n",
    "     ========================================================\n",
    "                            고객 정보\n",
    "    --------------------------------------------------------\n",
    "    GRADE  이름   전화          메일               나이  기타\n",
    "    ========================================================\n",
    "    ***** 홍길동 010-9999-9999  hong@mega_it.com  30   열심히\n",
    "    ***** 홍길동 010-8888-8888  hong2@abc.com     31   abc\n",
    "    ========================================================\n",
    "    1:입력|2:전체출력|3:삭제|4:이름찾기|5:내보내기(CSV)|9:종료 메뉴 선택 : 5\n",
    "    저장할 파일이름은 : abc.csv\n",
    "    CSV 파일이 저장되었습니다. 파일명은 abc.csv\n",
    "    1:입력|2:전체출력|3:삭제|4:이름찾기|5:내보내기(CSV)|9:종료 메뉴 선택 : 4\n",
    "    찾을 고객 이름은? 유길동\n",
    "    ========================================================\n",
    "                            고객 정보\n",
    "    --------------------------------------------------------\n",
    "    GRADE  이름   전화          메일               나이  기타\n",
    "    ========================================================\n",
    "       ** 유길동 010-5432-2222  yu@hong.com       20   까칠해\n",
    "    ========================================================\n",
    "    1:입력|2:전체출력|3:삭제|4:이름찾기|5:내보내기(CSV)|9:종료 메뉴 선택 : 9\n",
    "\n",
    "'''\n",
    "\n",
    "class Customer:\n",
    "    def __init__(self, name, phone, email, age, grade, etc):\n",
    "    def as_dic (self): # 객체를 딕셔너리데이터로 반환 (csv 파일 저장시)\n",
    "    def to_list_style (self): # 객체를 text return('홍길동 010 8999 9999, e@e.com, 20, 3, 까칠해')\n",
    "    def __str__(self): # ***홍길동 010 8999 9999 e@e.com 20 까칠해\n",
    "def to_customer (row): # txt 파일 내용 한줄 (홍길동 , 010 8999 9999, e@e.com, 20, 3, 까칠해)을 Customer 객체로 반환\n",
    "\n",
    "# 0.실행하면 data/ch09_customers.txt 파일의 내용을 load( customer_list )\n",
    "#        data/ch09_customers.txt이 존재하지 않으면\n",
    "#                빈 data/ch09_customers.txt 파일을 생성하고\n",
    "#                        데이터는 customer_list = []\n",
    "\n",
    "def load_customers():\n",
    "\n",
    "# 1. 입력\n",
    "def fn1_insert_customer_info():\n",
    "\n",
    "# 2. 전체 출력\n",
    "def fn2_print_customers(customer_list):\n",
    "\n",
    "# 3. 삭제 (동명이인이 있다고 할지 동명이인이 없다고 할지 미리 정해놓고 구현)\n",
    "def fn3_delete_customer(customer_list):\n",
    "\n",
    "# 4.이름찾기 (동명이인이 있다고 할지 없다고 할지 정한대로 구현)\n",
    "def fn4_search_customer(customer_list):\n",
    "\n",
    "# 5.내보내기 (CSV)\n",
    "def fn5_save_customer_csv(customer_list):\n",
    "\n",
    "# 9.종료 (종료하기 전 customer_list 를 txt 파일에 저장하고 종료)\n",
    "def fn9_save_customer_txt(customer_list):\n",
    "    \n",
    "\n",
    "def main():\n",
    "    global customer_list\n",
    "    customer_list = load_customers() # ch09_customers.txt의 내용을 load\n",
    "    while True:\n",
    "        print(\"1:입력 \",\" 전체출력 \",\" 삭제 \",\" 이름찾기 \",\" 내보내기 (CSV)\", \" 종료 \", sep='|', end='')\n",
    "        fn = int(input('메뉴선택 : '))\n",
    "        if fn == 1:\n",
    "            customer = fn1_insert_customer_info() #입력받은 내용으로 customer 객체를 반환\n",
    "            customer_list.append(customer)\n",
    "        elif fn == 2:\n",
    "            fn2_print_customers(customer_list)\n",
    "        elif fn == 3:\n",
    "            fn3_delete_customer(customer_list)\n",
    "        elif fn == 4:\n",
    "            fn4_search_customer(customer_list)\n",
    "        elif fn == 5:\n",
    "            fn5_save_customer_csv(customer_list)\n",
    "        elif fn == 9:\n",
    "            fn9_save_customer_txt(customer_list)\n",
    "            break\n",
    "if __name__ == '__main__':\n",
    "    main()"
   ]
  },
  {
   "cell_type": "code",
   "execution_count": null,
   "id": "3b39597c",
   "metadata": {},
   "outputs": [],
   "source": [
    "# 클래스 생성\n",
    "\n",
    "class Customer:"
   ]
  },
  {
   "cell_type": "code",
   "execution_count": null,
   "id": "5274a35c",
   "metadata": {},
   "outputs": [],
   "source": [
    "# 연습"
   ]
  },
  {
   "cell_type": "markdown",
   "id": "e4838387",
   "metadata": {},
   "source": [
    "- 정답\n",
    "<!-- 1. \n",
    "# 클래스 생성\n",
    "\n",
    "class Customer:\n",
    "    '고객데이터'\n",
    "    def __init__(self, name, phone, email, age, grade, etc):\n",
    "        self.name = name\n",
    "        self.phone = phone\n",
    "        self.email = email\n",
    "        self.age = age\n",
    "        self.grade = grade\n",
    "        self.etc = etc\n",
    "    def as_dic (self):\n",
    "        return self.__dict__\n",
    "    def to_txt_style (self):\n",
    "        return '{}, {}, {}, {}, {}, {}'.format(self.name, self.phone, self.email, self.age, self.grade, self.etc)\n",
    "    def __str__(self): \n",
    "        return '{:>5}\\t{:^3}\\t{:^13}\\t{:^10}\\t{}\\t{}'.format('*'*self.grade, self.name, self.phone, self.email, self.age, self.etc)\n",
    "\n",
    "-->\n",
    "\n",
    "<!-- 2. 테스트\n",
    "c1 = Customer('홍길동','010-9999-9999','h@h.com',20,3,'기타')\n",
    "c2 = Customer('홍길동','010-9999-9999','h@h.com',25,5,'기타')\n",
    "print(c1)\n",
    "print(c2)\n",
    "print(c1.to_txt_style())\n",
    "print(c1.as_dic())\n",
    "-->"
   ]
  },
  {
   "cell_type": "code",
   "execution_count": null,
   "id": "2c6415e1",
   "metadata": {},
   "outputs": [],
   "source": [
    "# 함수정의\n",
    "\n",
    "def to_customer(text):"
   ]
  },
  {
   "cell_type": "code",
   "execution_count": null,
   "id": "ca2d6d2b",
   "metadata": {},
   "outputs": [],
   "source": [
    "# 연습"
   ]
  },
  {
   "cell_type": "markdown",
   "id": "56798695",
   "metadata": {},
   "source": [
    "- 정답\n",
    "<!-- 1. \n",
    "def to_customer(text):\n",
    "    'text 파일 내용 한줄(홍길동, 010-9999-9999, h@h.com, 20, 3, 까칠해)을 Customer 객체로 반환'\n",
    "    data = text.strip().split(', ')\n",
    "    name = data[0]\n",
    "    phone = data[1]\n",
    "    email = data[2]\n",
    "    age = int(data[3])\n",
    "    grade = int(data[4])\n",
    "    etc = data[5]\n",
    "    return Customer(name, phone, email, age, grade, etc)   \n",
    "-->\n",
    "\n",
    "<!-- 2. 테스트\n",
    "customer = to_customer('유길동, 010-5432-2222, y@hong.com, 20, 2, 가칠해')\n",
    "print(customer)\n",
    "-->"
   ]
  },
  {
   "cell_type": "code",
   "execution_count": null,
   "id": "bcfe84e4",
   "metadata": {},
   "outputs": [],
   "source": [
    "# 0. 처음 실행\n",
    "\n",
    "# 방법1. 한줄씩 읽어서 customer_list에 append하기\n",
    "# 방법2. 여러줄을 한꺼번에 읽어서 for문으로 append하기\n",
    "\n",
    "def load_customers():"
   ]
  },
  {
   "cell_type": "code",
   "execution_count": null,
   "id": "426d2857",
   "metadata": {},
   "outputs": [],
   "source": [
    "# 연습"
   ]
  },
  {
   "cell_type": "markdown",
   "id": "56f8438a",
   "metadata": {},
   "source": [
    "- 정답\n",
    "<!-- 1. \n",
    "def load_customers():\n",
    "    customer_list = []\n",
    "    # 파일 내용을 customer list에 append한다. 예외발생시 파일 작성\n",
    "    try:\n",
    "        with open('data/ch09_customers.txt', 'r', encoding='utf-8') as f: \n",
    "            line = f.readline()\n",
    "            while line != '':\n",
    "                customer = to_customer(line)\n",
    "                customer_list.append(customer)\n",
    "                line = f.readline()\n",
    "    except FileNotFoundError as e:\n",
    "        with open('data/ch09_customers.txt', 'w', encoding='utf-8') as f:\n",
    "            pass\n",
    "    return customer_list\n",
    "-->\n",
    "\n",
    "<!-- 2.\n",
    "def load_customers():\n",
    "    customer_list = []\n",
    "    # 파일 내용을 customer list에 append한다. 예외발생시 파일 작성\n",
    "    try:\n",
    "        with open('data/ch09_customers.txt', 'r', encoding='utf-8') as f: \n",
    "            lines = f.readlines()\n",
    "        for line in lines:\n",
    "            customer = to_customer(line)\n",
    "            customer_list.append(customer)      \n",
    "    except FileNotFoundError as e:\n",
    "        with open('data/ch09_customers.txt', 'w', encoding='utf-8') as f:\n",
    "            pass\n",
    "    return customer_list\n",
    "-->\n",
    "\n",
    "<!-- 3. 테스트 \n",
    "customer_list = load_customers()\n",
    "[customer.__str__() for customer in customer_list]\n",
    "-->"
   ]
  },
  {
   "cell_type": "code",
   "execution_count": null,
   "id": "aba2fe60",
   "metadata": {},
   "outputs": [],
   "source": [
    "# 1. 입력\n",
    "\n",
    "def fn1_insert_customer_info():"
   ]
  },
  {
   "cell_type": "code",
   "execution_count": null,
   "id": "82b11814",
   "metadata": {},
   "outputs": [],
   "source": [
    "# 연습"
   ]
  },
  {
   "cell_type": "markdown",
   "id": "418e2035",
   "metadata": {},
   "source": [
    "- 정답\n",
    "<!-- 1. \n",
    "def fn1_insert_customer_info():\n",
    "    '''name(정규표현식을 이용해서 유효성 검증), phone, email, age, grade, etc 입력받아 \n",
    "    Customer형 객체 return'''\n",
    "    import re\n",
    "    #이름\n",
    "    name = input('이름 :')\n",
    "    name_pattern = r'[가-힣]{2,}'\n",
    "    while not re.search(name_pattern, name):\n",
    "        print('이름을 제대로 입력하세요(한글 2글자 이상)')\n",
    "        name = input('이름 :')\n",
    "    # 전화번호\n",
    "    phone = input('전화 :')\n",
    "    phone_pattern = r'0\\d{1,2}[ \\-\\.]?\\d{3,4}[ \\-\\.]?\\d{4}'\n",
    "    while not re.search(phone_pattern, phone):\n",
    "        print('전화번호를 제대로 입력하세요')\n",
    "        phone = input('전화 :')\n",
    "    # 메일\n",
    "    email = input('메일 :')\n",
    "    # 나이 (제대로 된 숫자를 입력 안하면 에러 발생하니까 try문 사용)\n",
    "    while True:\n",
    "        try:\n",
    "            age = int(input('나이 :'))\n",
    "            if (age<0) or (age>130):\n",
    "                raise Exception('나이 범위가 이상합니다')\n",
    "            break\n",
    "        except:\n",
    "            print('올바른 나이를 입력하세요')\n",
    "    # 점수\n",
    "    try:\n",
    "        grade = int(input('등급(1~5) :'))\n",
    "        # grade = 1 if grade < 1 else 5 if grade > 5 else grade\n",
    "        if grade < 1:\n",
    "            grade = 1\n",
    "        if grade > 5:\n",
    "            grade = 5\n",
    "    except:\n",
    "        print('유효하지 않은 등급 입력시 1등급으로 초기화')\n",
    "        grade = 1\n",
    "    # 기타\n",
    "    etc = input('기타 정보 :')\n",
    "    return Customer(name, phone, email, age, grade, etc)\n",
    "-->\n",
    "\n",
    "<!-- 2. 테스트\n",
    "customer_list = load_customers()\n",
    "customer = fn1_insert_customer_info()\n",
    "customer_list.append(customer)\n",
    "for customer in customer_list:\n",
    "    print(customer)\n",
    "-->"
   ]
  },
  {
   "cell_type": "code",
   "execution_count": null,
   "id": "9b82ebc4",
   "metadata": {},
   "outputs": [],
   "source": [
    "# 2. 전체 출력\n",
    "\n",
    "def fn2_print_customers(customer_list):"
   ]
  },
  {
   "cell_type": "code",
   "execution_count": null,
   "id": "cc7633f3",
   "metadata": {},
   "outputs": [],
   "source": [
    "# 연습"
   ]
  },
  {
   "cell_type": "markdown",
   "id": "e9a943a2",
   "metadata": {},
   "source": [
    "- 정답\n",
    "<!-- 1. \n",
    "def fn2_print_customers(customer_list):\n",
    "    'customer_list 출력'\n",
    "    print('='*70)\n",
    "    print('{:^70}'.format('고객정보'))\n",
    "    print('='*70)\n",
    "    print('{:>5}\\t{:^3}\\t{:^13}\\t{:^10}\\t{}\\t{}'.format('GRADE','이름','전화','메일','나이','기타'))\n",
    "    print('-'*70)\n",
    "    for customer in customer_list:\n",
    "        print(customer)\n",
    "-->\n",
    "\n",
    "<!-- 2. 테스트\n",
    "fn2_print_customers(customer_list)\n",
    "-->"
   ]
  },
  {
   "cell_type": "code",
   "execution_count": null,
   "id": "35282c8a",
   "metadata": {},
   "outputs": [],
   "source": [
    "# 3. 삭제\n",
    "\n",
    "# 1. 동명이인이 없을 경우 삭제 구현\n",
    "# 2. 동명이인이 있을 경우(해당 동명이인을 다 삭제) 삭제 구현\n",
    "# 3. 동명이인이 있을 경우 해당 customer를 삭제할지 묻고 Y를 입력시 삭제 구현\n",
    "\n",
    "def fn3_delete_customer(customer_list):"
   ]
  },
  {
   "cell_type": "code",
   "execution_count": null,
   "id": "470a6058",
   "metadata": {},
   "outputs": [],
   "source": [
    "# 연습"
   ]
  },
  {
   "cell_type": "markdown",
   "id": "f4ad5c76",
   "metadata": {},
   "source": [
    "- 정답\n",
    "<!-- 1. \n",
    "def fn3_delete_customer(customer_list):\n",
    "    '삭제하고자 하는 고객이름을 받아 customer_list에서 삭제'\n",
    "    name = input('삭제할 고객의 이름은?')\n",
    "    for idx, customer in enumerate(customer_list):\n",
    "        if customer.name == name:\n",
    "            # 리스트에서 customer 삭제\n",
    "            # customer_list.remove(customer)\n",
    "            # 리스트에서 idx번째 삭제\n",
    "            del customer_list[idx]\n",
    "            print(name, '님 데이터를 삭제하였습니다')\n",
    "            break\n",
    "    else:\n",
    "        print(name, '님이 데이터에 존재하지 않습니다')\n",
    "    \n",
    "-->\n",
    "\n",
    "<!-- 2.\n",
    "def fn3_delete_customer(customer_list):\n",
    "    '삭제하고자 하는 고객이름을 받아 customer_list에서 동명이인 모두 삭제'\n",
    "    name = input('삭제할 고객의 이름은?')\n",
    "    delete_idx = [] # 삭제할 인덱스 저장 용도\n",
    "    for idx, customer in enumerate(customer_list):\n",
    "        if customer_list[idx].name == name:\n",
    "            delete_idx.append(idx) # 삭제할 인덱스 추가함\n",
    "    if delete_idx:\n",
    "        for idx in delete_idx[::-1]:\n",
    "            del customer_list[idx]\n",
    "        print(f'{name}님 {len(delete_idx)}명을 삭제하였습니다')\n",
    "    else:\n",
    "        print(name, '님이 데이터에 존재하지 않습니다')\n",
    "-->\n",
    "\n",
    "<!-- 3. \n",
    "def fn3_delete_customer(customer_list):\n",
    "    '''삭제하고자 하는 고객이름을 input으로 받아\n",
    "    매개변수로 들어온 customer_list에서 삭제하고 \"삭제했음/삭제못했음\"을 메세지로 출력'''\n",
    "    delete_name = input('삭제할 고객의 이름은?')\n",
    "    delete_idx = [] # 삭제할 인덱스 저장 용도\n",
    "    count = 0 #지울 고객 수 count하는 변수. cnt로 많이씀\n",
    "    for idx, customer in enumerate(customer_list):\n",
    "        if customer_list[idx].name == delete_name:\n",
    "            delete_idx.append(idx) # 삭제할 인덱스 추가함\n",
    "    print(delete_idx)\n",
    "    if delete_idx:\n",
    "        for idx in delete_idx[::-1]:\n",
    "            print(customer_list[idx], '를 지우시겠습니까(Y/N)', end='')\n",
    "            answer = input()\n",
    "            if (answer.lower() == 'y') | (answer == '네'): # (answer == 'Y') | (answer == 'y') 이거랑 같은말이었다 #혹은 answer.upper()=='Y'\n",
    "                count += 1\n",
    "                del customer_list[idx]\n",
    "        print('{}님 {}명 삭제하였습니다'.format(delete_name, count))\n",
    "    else:\n",
    "        print('{}님 데이터가 존재하지 않습니다'.format(delete_name))\n",
    "-->\n",
    "\n",
    "<!-- 4. 테스트\n",
    "customer_list = load_customers()\n",
    "fn3_delete_customer(customer_list) # 1.2는 이것만 써서 테스트\n",
    "-->"
   ]
  },
  {
   "cell_type": "code",
   "execution_count": null,
   "id": "8d632722",
   "metadata": {},
   "outputs": [],
   "source": [
    "# 4. 이름찾기\n",
    "\n",
    "def fn4_search_customer(customer_list):"
   ]
  },
  {
   "cell_type": "code",
   "execution_count": null,
   "id": "61ff05e3",
   "metadata": {},
   "outputs": [],
   "source": [
    "# 연습"
   ]
  },
  {
   "cell_type": "markdown",
   "id": "edfac1a9",
   "metadata": {},
   "source": [
    "- 정답\n",
    "<!-- 1. \n",
    "def fn4_search_customer(customer_list):\n",
    "    '찾고자 하는 이름을 input받아, customer_list에서 검색하여 fn2_print_customers()이용하여 출력'\n",
    "    name = input('검색할 이름은?')\n",
    "    search_list = [] # 검색한 결과 append\n",
    "    for customer in customer_list:\n",
    "        if customer.name == name:\n",
    "            search_list.append(customer)\n",
    "    if search_list:\n",
    "        fn2_print_customers(search_list)\n",
    "    else:\n",
    "        print(f'{name}님 데이터는 존재하지 않습니다')\n",
    "-->\n",
    "\n",
    "<!-- 2. 테스트\n",
    "customer_list = load_customers()\n",
    "fn4_search_customer(customer_list)\n",
    "-->"
   ]
  },
  {
   "cell_type": "code",
   "execution_count": null,
   "id": "7a0e3b2f",
   "metadata": {},
   "outputs": [],
   "source": [
    "# 5. 내보내기(CSV)\n",
    "\n",
    "def fn5_save_customer_csv(customer_list):"
   ]
  },
  {
   "cell_type": "code",
   "execution_count": null,
   "id": "6926a8b4",
   "metadata": {},
   "outputs": [],
   "source": [
    "# 연습"
   ]
  },
  {
   "cell_type": "markdown",
   "id": "959f7876",
   "metadata": {},
   "source": [
    "- 정답\n",
    "<!-- 1. \n",
    "def fn5_save_customer_csv(customer_list):\n",
    "    '매개변수로 받은 customer_list를 딕셔너리리스트로 변환하여 csv출력'\n",
    "    import csv\n",
    "    if customer_list:\n",
    "        customer_dict_list = []\n",
    "        for customer in customer_list:\n",
    "            customer_dict_list.append(customer.__dict__)\n",
    "        fieldnames = list(customer_dict_list[0].keys())\n",
    "        filename = input('저장할 csv파일명은(확장자 제외)?')\n",
    "        with open('data/{}.csv'.format(filename),'w', encoding='utf-8', newline='') as f:\n",
    "            dict_writer = csv.DictWriter(f, fieldnames=fieldnames)\n",
    "            dict_writer.writeheader() # 헤더쓰기\n",
    "            dict_writer.writerows(customer_dict_list) # 데이터쓰기\n",
    "            print(f'data/{filename}.csv 내보내기 완료')\n",
    "    else:\n",
    "        print('입력된 회원 데이터가 없어서 csv 내보내기를 취소합니다')\n",
    "-->\n",
    "\n",
    "<!-- 2. 테스트\n",
    "customer_list = load_customers()\n",
    "fn5_save_customer_csv(customer_list)\n",
    "-->"
   ]
  },
  {
   "cell_type": "code",
   "execution_count": null,
   "id": "5f0e51e2",
   "metadata": {},
   "outputs": [],
   "source": [
    "# 9. 종료\n",
    "\n",
    "def fn9_save_customer_txt(customer_list):"
   ]
  },
  {
   "cell_type": "code",
   "execution_count": null,
   "id": "c3bb3220",
   "metadata": {},
   "outputs": [],
   "source": [
    "# 연습"
   ]
  },
  {
   "cell_type": "markdown",
   "id": "3f72bb45",
   "metadata": {},
   "source": [
    "- 정답\n",
    "<!-- 1. \n",
    "def fn9_save_customer_txt(customer_list):\n",
    "    'customer_list의 내용을 data/ch09_customers.txt에 저장'\n",
    "    customer_text_list = []\n",
    "    for customer in customer_list:\n",
    "        customer_text_list.append(customer.to_txt_style()+'\\n')\n",
    "    with open('data/ch09_customers.txt', 'w', encoding='utf-8') as f:\n",
    "        f.writelines(customer_text_list)\n",
    "-->\n",
    "\n",
    "<!-- 2. 테스트\n",
    "fn9_save_customer_txt(customer_list)\n",
    "-->"
   ]
  },
  {
   "cell_type": "code",
   "execution_count": null,
   "id": "e1a178e0",
   "metadata": {},
   "outputs": [],
   "source": [
    "# main\n",
    "\n",
    "def main():"
   ]
  },
  {
   "cell_type": "code",
   "execution_count": null,
   "id": "7a89329c",
   "metadata": {},
   "outputs": [],
   "source": [
    "# 연습"
   ]
  },
  {
   "cell_type": "markdown",
   "id": "3a1703f2",
   "metadata": {},
   "source": [
    "- 정답\n",
    "<!-- 1. \n",
    "def main():\n",
    "    global customer_list\n",
    "    customer_list = load_customers() # ch09_customers.txt의 내용을 load\n",
    "    while True:\n",
    "        print(\"1:입력\",\"2:전체출력\",\"3:삭제\",\"4:이름찾기\",\"5:내보내기(CSV)\", \"9:종료\", \n",
    "              sep=' | ', end=' ')\n",
    "        fn = int(input('메뉴선택 : '))\n",
    "        if fn == 1:\n",
    "            customer = fn1_insert_customer_info() # 입력받은 내용으로 customer객체를 반환\n",
    "            customer_list.append(customer)\n",
    "        elif fn == 2:\n",
    "            fn2_print_customers(customer_list) # 전체 customer_list 출력\n",
    "        elif fn == 3:\n",
    "            fn3_delete_customer(customer_list) # 이름으로 삭제\n",
    "        elif fn == 4:\n",
    "            fn4_search_customer(customer_list) # 이름 검색\n",
    "        elif fn == 5:\n",
    "            fn5_save_customer_csv(customer_list) # csv 백업\n",
    "        elif fn == 9:\n",
    "            fn9_save_customer_txt(customer_list) # txt 백업\n",
    "            break\n",
    "if __name__ == '__main__':\n",
    "    main()\n",
    "-->"
   ]
  },
  {
   "cell_type": "markdown",
   "id": "eb329ee1",
   "metadata": {},
   "source": [
    "# 10장. N차원 배열 다루기\n",
    "## 1절. 넘파이 패키지\n",
    "### 1.1 배열 속성"
   ]
  },
  {
   "cell_type": "code",
   "execution_count": null,
   "id": "b96a7819",
   "metadata": {},
   "outputs": [],
   "source": [
    "# 0~14까지 3행 5열짜리 2차원 배열을 생성하라"
   ]
  },
  {
   "cell_type": "code",
   "execution_count": null,
   "id": "b7fd06ad",
   "metadata": {},
   "outputs": [],
   "source": [
    "# 연습"
   ]
  },
  {
   "cell_type": "markdown",
   "id": "13f6a510",
   "metadata": {},
   "source": [
    "- 정답\n",
    "<!-- 1. \n",
    "import numpy as np\n",
    "a = arange(15).reshape(3,5)\n",
    "-->"
   ]
  },
  {
   "cell_type": "markdown",
   "id": "b9d35f21",
   "metadata": {},
   "source": [
    "### 1.2 배열 타입 변경"
   ]
  },
  {
   "cell_type": "code",
   "execution_count": null,
   "id": "f415a97a",
   "metadata": {},
   "outputs": [],
   "source": [
    "# 위의 dtype을 int64로 변경하시오"
   ]
  },
  {
   "cell_type": "code",
   "execution_count": null,
   "id": "e59f6d4c",
   "metadata": {},
   "outputs": [],
   "source": [
    "# 연습"
   ]
  },
  {
   "cell_type": "markdown",
   "id": "97024d87",
   "metadata": {},
   "source": [
    "- 정답\n",
    "<!-- 1. \n",
    "a = a.astype('int64')\n",
    "-->"
   ]
  },
  {
   "cell_type": "markdown",
   "id": "f3cef262",
   "metadata": {},
   "source": [
    "### 1.3 배열 저장"
   ]
  },
  {
   "cell_type": "code",
   "execution_count": null,
   "id": "e60b7ac6",
   "metadata": {},
   "outputs": [],
   "source": [
    "# 위의 a를 피클로 저장하고 로드하라."
   ]
  },
  {
   "cell_type": "code",
   "execution_count": null,
   "id": "849451a8",
   "metadata": {},
   "outputs": [],
   "source": [
    "# 연습"
   ]
  },
  {
   "cell_type": "markdown",
   "id": "8bc0635f",
   "metadata": {},
   "source": [
    "- 정답\n",
    "<!-- 1. \n",
    "import pickle\n",
    "with open('data/ch10.pkl','wb') as f:\n",
    "    pickle.dump(a, f)\n",
    "-->\n",
    "\n",
    "<!-- 2.\n",
    "with open('data/ch10.pkl','rb') as f:\n",
    "    loaded_a = pickle.load(f)\n",
    "loaded_a\n",
    "-->"
   ]
  },
  {
   "cell_type": "code",
   "execution_count": null,
   "id": "66a8a8bb",
   "metadata": {},
   "outputs": [],
   "source": [
    "# 위의 a를 npy파일로 저장하고 로드하라."
   ]
  },
  {
   "cell_type": "code",
   "execution_count": null,
   "id": "14b3b964",
   "metadata": {},
   "outputs": [],
   "source": [
    "# 연습"
   ]
  },
  {
   "cell_type": "markdown",
   "id": "4c748aed",
   "metadata": {},
   "source": [
    "- 정답\n",
    "<!-- 1. \n",
    "np.save('data/ch10.npy', a)\n",
    "-->\n",
    "\n",
    "<!-- 2.\n",
    "loaded_a2 = np.load('data/ch10.npy')\n",
    "-->"
   ]
  },
  {
   "cell_type": "markdown",
   "id": "25314b32",
   "metadata": {},
   "source": [
    "## 2절. 넘파이 배열\n",
    "### 2.1 array() 함수로 넘파이 배열 만들기"
   ]
  },
  {
   "cell_type": "code",
   "execution_count": null,
   "id": "a303f429",
   "metadata": {},
   "outputs": [],
   "source": [
    "# b의 0행1열을 출력하시오\n",
    "\n",
    "b = np.array([[1.5, 2.3],  \n",
    "            [4, 5]])"
   ]
  },
  {
   "cell_type": "code",
   "execution_count": null,
   "id": "8b744574",
   "metadata": {},
   "outputs": [],
   "source": [
    "# 연습"
   ]
  },
  {
   "cell_type": "markdown",
   "id": "00f933de",
   "metadata": {},
   "source": [
    "- 정답\n",
    "<!-- 1. \n",
    "b[0,1]\n",
    "-->"
   ]
  },
  {
   "cell_type": "code",
   "execution_count": null,
   "id": "3af96c77",
   "metadata": {},
   "outputs": [],
   "source": [
    "# 0~1행, 1~2열 출력\n",
    "# 2행모두(1차원) \n",
    "# 2행모두(2차원)\n",
    "# 4열(마지막열)모두(1차원)\n",
    "# 4열(마지막열)모두(2차원)\n",
    "# 2행 0~3열\n",
    "# 마지막열 제외\n",
    "\n",
    "b = np.array([[1,2,3,4,5],[6,7,8,9,0],[11,12,13,14,15]], dtype=np.int16)"
   ]
  },
  {
   "cell_type": "code",
   "execution_count": null,
   "id": "f0a94a35",
   "metadata": {},
   "outputs": [],
   "source": [
    "# 연습"
   ]
  },
  {
   "cell_type": "markdown",
   "id": "f4022a75",
   "metadata": {},
   "source": [
    "- 정답\n",
    "<!-- 1. \n",
    "print('0~1행, 1~2열 :\\n', b[:2,1:3]) \n",
    "print('2행모두(1차원) :', b[2,:], b[2]) # 특정행, 모든열을 추출할 경우, 열생략 가능\n",
    "print('2행모두(2차원) :', b[2:3,:], b[2:3])\n",
    "print('4열(마지막열)모두(1차원) :', b[:,4], b[...,4], b[:,-1]) # 모든행, 특정열을 추출할 경우\n",
    "print('4열(마지막열)모두(2차원) :\\n', b[:,4:]) # 모든행, 특정열을 추출할 경우\n",
    "print('2행 0~3열 :', b[2,:-1]) \n",
    "print('마지막열 제외:\\n', b[:, :-1]) \n",
    "-->"
   ]
  },
  {
   "cell_type": "code",
   "execution_count": null,
   "id": "5f30965a",
   "metadata": {},
   "outputs": [],
   "source": []
  },
  {
   "cell_type": "code",
   "execution_count": null,
   "id": "ce9ad125",
   "metadata": {},
   "outputs": [],
   "source": [
    "# 연습"
   ]
  },
  {
   "cell_type": "code",
   "execution_count": null,
   "id": "dc577f2c",
   "metadata": {},
   "outputs": [],
   "source": [
    "- 정답\n",
    "<!-- 1. \n",
    "\n",
    "-->\n",
    "\n",
    "<!-- 2.\n",
    "\n",
    "-->"
   ]
  },
  {
   "cell_type": "code",
   "execution_count": null,
   "id": "5d388670",
   "metadata": {},
   "outputs": [],
   "source": []
  },
  {
   "cell_type": "code",
   "execution_count": null,
   "id": "2d6d63d2",
   "metadata": {},
   "outputs": [],
   "source": [
    "# 연습"
   ]
  },
  {
   "cell_type": "code",
   "execution_count": null,
   "id": "09566fd6",
   "metadata": {},
   "outputs": [],
   "source": [
    "- 정답\n",
    "<!-- 1. \n",
    "\n",
    "-->\n",
    "\n",
    "<!-- 2.\n",
    "\n",
    "-->"
   ]
  },
  {
   "cell_type": "code",
   "execution_count": null,
   "id": "3b128e92",
   "metadata": {},
   "outputs": [],
   "source": []
  },
  {
   "cell_type": "code",
   "execution_count": null,
   "id": "51c14561",
   "metadata": {},
   "outputs": [],
   "source": [
    "# 연습"
   ]
  },
  {
   "cell_type": "code",
   "execution_count": null,
   "id": "c0412477",
   "metadata": {},
   "outputs": [],
   "source": [
    "- 정답\n",
    "<!-- 1. \n",
    "\n",
    "-->\n",
    "\n",
    "<!-- 2.\n",
    "\n",
    "-->"
   ]
  },
  {
   "cell_type": "code",
   "execution_count": null,
   "id": "a3406c57",
   "metadata": {},
   "outputs": [],
   "source": []
  },
  {
   "cell_type": "code",
   "execution_count": null,
   "id": "47cdc549",
   "metadata": {},
   "outputs": [],
   "source": [
    "# 연습"
   ]
  },
  {
   "cell_type": "code",
   "execution_count": null,
   "id": "fb10a557",
   "metadata": {},
   "outputs": [],
   "source": [
    "- 정답\n",
    "<!-- 1. \n",
    "\n",
    "-->\n",
    "\n",
    "<!-- 2.\n",
    "\n",
    "-->"
   ]
  }
 ],
 "metadata": {
  "kernelspec": {
   "display_name": "Python 3 (ipykernel)",
   "language": "python",
   "name": "python3"
  },
  "language_info": {
   "codemirror_mode": {
    "name": "ipython",
    "version": 3
   },
   "file_extension": ".py",
   "mimetype": "text/x-python",
   "name": "python",
   "nbconvert_exporter": "python",
   "pygments_lexer": "ipython3",
   "version": "3.10.9"
  },
  "toc": {
   "base_numbering": 1,
   "nav_menu": {},
   "number_sections": false,
   "sideBar": true,
   "skip_h1_title": false,
   "title_cell": "Table of Contents",
   "title_sidebar": "Contents",
   "toc_cell": false,
   "toc_position": {
    "height": "calc(100% - 180px)",
    "left": "10px",
    "top": "150px",
    "width": "165px"
   },
   "toc_section_display": true,
   "toc_window_display": true
  }
 },
 "nbformat": 4,
 "nbformat_minor": 5
}
