{
 "cells": [
  {
   "cell_type": "code",
   "execution_count": 1,
   "id": "e1aa47e8",
   "metadata": {},
   "outputs": [
    {
     "data": {
      "text/html": [
       "\n",
       "<style>\n",
       "div.container{width:90% !important;}\n",
       "div.cell.code_cell.rendered{width:100%;}\n",
       "div.input_prompt{padding:0px;}\n",
       "div.CodeMirror {font-family:Consolas; font-size:12pt;}\n",
       "div.text_cell_render.rendered_html{font-size:12pt;}\n",
       "div.output {font-size:12pt; font-weight:bold;}\n",
       "div.input {font-family:Consolas; font-size:12pt;}\n",
       "div.prompt {min-width:70px;}\n",
       "div#toc-wrapper{padding-top:120px;}\n",
       "div.text_cell_render ul li{font-size:12pt;padding:5px;}\n",
       "table.dataframe{font-size:12px;}\n",
       "</style>\n"
      ],
      "text/plain": [
       "<IPython.core.display.HTML object>"
      ]
     },
     "metadata": {},
     "output_type": "display_data"
    }
   ],
   "source": [
    "from IPython.display import display, HTML\n",
    "display(HTML(\"\"\"\n",
    "<style>\n",
    "div.container{width:90% !important;}\n",
    "div.cell.code_cell.rendered{width:100%;}\n",
    "div.input_prompt{padding:0px;}\n",
    "div.CodeMirror {font-family:Consolas; font-size:12pt;}\n",
    "div.text_cell_render.rendered_html{font-size:12pt;}\n",
    "div.output {font-size:12pt; font-weight:bold;}\n",
    "div.input {font-family:Consolas; font-size:12pt;}\n",
    "div.prompt {min-width:70px;}\n",
    "div#toc-wrapper{padding-top:120px;}\n",
    "div.text_cell_render ul li{font-size:12pt;padding:5px;}\n",
    "table.dataframe{font-size:12px;}\n",
    "</style>\n",
    "\"\"\"))"
   ]
  },
  {
   "cell_type": "markdown",
   "id": "1ee6baf4",
   "metadata": {},
   "source": [
    "# 복사용"
   ]
  },
  {
   "cell_type": "markdown",
   "id": "01fd16a1",
   "metadata": {},
   "source": [
    "- 정답\n",
    "<!-- 1. \n",
    "\n",
    "-->\n",
    "\n",
    "<!-- 2.\n",
    "\n",
    "-->"
   ]
  },
  {
   "cell_type": "code",
   "execution_count": 28,
   "id": "da03b757",
   "metadata": {},
   "outputs": [],
   "source": [
    "# 연습"
   ]
  },
  {
   "cell_type": "markdown",
   "id": "b58c24d8",
   "metadata": {},
   "source": [
    "# 5장. 함수"
   ]
  },
  {
   "cell_type": "markdown",
   "id": "0ea3fa0c",
   "metadata": {},
   "source": [
    "# 4절. 람다식\n",
    "## 4.1 람다식 연습"
   ]
  },
  {
   "cell_type": "markdown",
   "id": "3d4d9b92",
   "metadata": {},
   "source": [
    "## 4.2 함수의 매개변수\n",
    "### (1) map"
   ]
  },
  {
   "cell_type": "code",
   "execution_count": 29,
   "id": "821fb70a",
   "metadata": {},
   "outputs": [],
   "source": [
    "# 1. 2배로 출력(map)\n",
    "# 2. 2배로 출력(리스트컴프리헨션)\n",
    "\n",
    "list_data = [1,2,3,4,5,6,7,8,9]"
   ]
  },
  {
   "cell_type": "code",
   "execution_count": null,
   "id": "356e2aab",
   "metadata": {},
   "outputs": [],
   "source": [
    "# 연습"
   ]
  },
  {
   "cell_type": "markdown",
   "id": "0a68eb8d",
   "metadata": {},
   "source": [
    "- 정답\n",
    "<!-- 1. \n",
    "list(map(lambda x : x*2, list_data))\n",
    "-->\n",
    "\n",
    "<!-- 2.\n",
    "for data in map(lambda x : x*2, list_data)\n",
    "-->"
   ]
  },
  {
   "cell_type": "code",
   "execution_count": null,
   "id": "e8fa242b",
   "metadata": {},
   "outputs": [],
   "source": [
    "# prices = ['5,000', '5000', '6,000', '1000','5,000', '5000', '6,000', '1000’]를 [5000,5000,6000,1000]식으로 바꾸시오\n",
    "\n",
    "prices = ['5,000', '5000', '6,000', '1000','5,000', '5000', '6,000', '1000']\n"
   ]
  },
  {
   "cell_type": "code",
   "execution_count": 2,
   "id": "37cdcc9d",
   "metadata": {},
   "outputs": [],
   "source": [
    "# 연습"
   ]
  },
  {
   "cell_type": "markdown",
   "id": "877bc55b",
   "metadata": {},
   "source": [
    "- 정답\n",
    "<!-- 1. \n",
    "prices_int = map(lambda value : int(value.replace(',','')), prices)\n",
    "for price in prices_int:\n",
    "    print(price, end = ' ')\n",
    "-->"
   ]
  },
  {
   "cell_type": "code",
   "execution_count": null,
   "id": "5366e797",
   "metadata": {},
   "outputs": [],
   "source": [
    "'''\n",
    "예제2. : members1을 members2로 변환\n",
    "members1 = [{'name':'홍길동', 'birth':'2000-01-01’},\n",
    "            {'name':'신길동', 'birth':'1995-12-18'},]를\n",
    "members2 = [\n",
    "    {'name':'홍길동', 'year':2000, 'month':1,'day':1},\n",
    "    {'name':'신길동', 'year':1995, 'month':12, 'day':18},] 변환\n",
    "'''\n",
    "members1 = [{'name':'홍길동', 'birth':'2000-01-01'},\n",
    "            {'name':'신길동', 'birth':'1995-12-18'},]\n",
    "\n",
    "# setp 1. '2000-01-01' -> {'year':2000, 'month':1,'day':1}\n",
    "# setp 2. {'birth':'2000-01-01'} -> {'year':2000, 'month':1,'day':1}\n",
    "# setp 3. {'name':'홍길동', 'birth':'2000-01-01'} -> {'name':'홍길동', 'year':2000, 'month':1,'day':1}"
   ]
  },
  {
   "cell_type": "code",
   "execution_count": null,
   "id": "9aefed3b",
   "metadata": {},
   "outputs": [],
   "source": [
    "# 연습"
   ]
  },
  {
   "cell_type": "markdown",
   "id": "b3f26ec1",
   "metadata": {},
   "source": [
    "- 정답\n",
    "<!-- setp 1.  \n",
    "def split_date(data):\n",
    "    return {'year': int(data.split[0]), \n",
    "            'month': int(data.split[1]), \n",
    "            'day': int(data.split[2])}\n",
    "split_date('2000-01-01'), split_date('2025-04-04')\n",
    "-->\n",
    "\n",
    "<!-- setp 2.\n",
    "split_date = lambda data : {'year': int(data['birth'].split('-')[0]), \n",
    "                            'month': int(data['birth'].split('-')[1]), \n",
    "                            'day': int(data['birth'].split('-')[2])}\n",
    "\n",
    "split_date({'birth':'2000-01-01'}), split_date({'birth':'2025-04-04'})\n",
    "-->\n",
    "<!-- setp 3.\n",
    "members2 = list(map(lambda member : {\n",
    "    'name': member.get('name','이름없음'),\n",
    "    'year' : int(member.get('birth').split('-')[0]),\n",
    "    'month': int(member.get('birth').split('-')[1]),\n",
    "    'day'  : int(member.get('birth').split('-')[2]),}, members1))\n",
    "\n",
    "members2\n",
    "-->"
   ]
  },
  {
   "cell_type": "code",
   "execution_count": null,
   "id": "f685486e",
   "metadata": {},
   "outputs": [],
   "source": [
    "# 예제3. member2를 member1로 전환\n",
    "# {'year':2000, 'month':1,'day':1} -> '2000-01-01'\n",
    "# {'year':2000, 'month':1,'day':1} -> {'birth' : '2000-01-01'}\n",
    "# {'name':'Hong','year':2000, 'month':1,'day':1} -> {'name':'Hong','birth' : '2000-01-01'}\n",
    "\n",
    "members2 = [{'name': '홍길동', 'year': 2000, 'month': 1, 'day': 1},\n",
    " {'name': '신길동', 'year': 1995, 'month': 12, 'day': 18}]"
   ]
  },
  {
   "cell_type": "code",
   "execution_count": null,
   "id": "1a6f082a",
   "metadata": {},
   "outputs": [],
   "source": [
    "#연습"
   ]
  },
  {
   "cell_type": "markdown",
   "id": "843155d6",
   "metadata": {},
   "source": [
    "- 정답\n",
    "<!-- step 1. \n",
    "1.\n",
    "def join_date(data):\n",
    "    return '{year}-{month:02}-{day:02}'.format(year=data.get('year'),\n",
    "                                              month=data.get('month'),\n",
    "                                              day=data.get('day'))\n",
    "2.\n",
    "def join_date(data):\n",
    "    return '{year}-{month:02}-{day:02}'.format(**data)\n",
    "\n",
    "join_date({'year': 2000, 'month': 1, 'day': 1})\n",
    "-->\n",
    "\n",
    "<!-- step 2.\n",
    "def join_date(data):\n",
    "    return {'birth' : '{year}-{month:02}-{day:02}'.format(**data)}\n",
    "join_date({'year': 2000, 'month': 1, 'day': 1})\n",
    "-->\n",
    "\n",
    "<!-- 3.\n",
    "1.\n",
    "def members_preprocessing(member):\n",
    "    return{'name':member.get('name'),\n",
    "          'birth' : '{year}-{month:02}-{day:02}'.format(**member)}\n",
    "\n",
    "members_preprocessing({'name': 'hong', 'year': 2000, 'month': 1, 'day': 1})\n",
    "\n",
    "2.\n",
    "list(map(lambda member : {'name':member.get('name'),\n",
    "          'birth' : '{year}-{month:02}-{day:02}'.format(**member)}, members2))\n",
    "-->"
   ]
  },
  {
   "cell_type": "markdown",
   "id": "3e4adb0f",
   "metadata": {},
   "source": [
    "### (2) filter"
   ]
  },
  {
   "cell_type": "code",
   "execution_count": null,
   "id": "80612477",
   "metadata": {},
   "outputs": [],
   "source": [
    "# 홀수만 출력하시오 (filter/리스트컴프리헨션)\n",
    "\n",
    "list_data = [1,2,3,4,5,6,7,8,9]"
   ]
  },
  {
   "cell_type": "code",
   "execution_count": null,
   "id": "4695c5ef",
   "metadata": {},
   "outputs": [],
   "source": [
    "# 연습"
   ]
  },
  {
   "cell_type": "markdown",
   "id": "edeb52f7",
   "metadata": {},
   "source": [
    "- 정답\n",
    "<!-- 1. \n",
    "list(filter(lambda value : value%2, list_data))\n",
    "-->\n",
    "\n",
    "<!-- 2.\n",
    "[value for value in list_data if value%2]\n",
    "-->"
   ]
  },
  {
   "cell_type": "code",
   "execution_count": null,
   "id": "b130d690",
   "metadata": {},
   "outputs": [],
   "source": [
    "# 예제 : 다음 리스트에서 소수점 이하가 0인 수만 추출하시오(filter/리스트컴프리헨션)\n",
    "\n",
    "L = [1, 1.2, 1.5, 3.0, 10.5, 100, -2.0, -12.2]"
   ]
  },
  {
   "cell_type": "code",
   "execution_count": null,
   "id": "939c2fa7",
   "metadata": {},
   "outputs": [],
   "source": [
    "# 연습"
   ]
  },
  {
   "cell_type": "markdown",
   "id": "1e4be551",
   "metadata": {},
   "source": [
    "- 정답\n",
    "<!-- 1. \n",
    "list(filter(lambda a : a%1==0, L))\n",
    "-->\n",
    "\n",
    "<!-- 2.\n",
    "[a for a in L if a%1==0]\n",
    "-->"
   ]
  },
  {
   "cell_type": "markdown",
   "id": "133e4434",
   "metadata": {},
   "source": [
    "### (3) sort"
   ]
  },
  {
   "cell_type": "code",
   "execution_count": null,
   "id": "43aa3dbd",
   "metadata": {},
   "outputs": [],
   "source": [
    "# 1번째 item 기준으로 내림차순 정렬\n",
    "\n",
    "pairs = [(2, 'two'), (1,'one'), (3,'three'), (4, 'four')]"
   ]
  },
  {
   "cell_type": "code",
   "execution_count": null,
   "id": "afc0ca21",
   "metadata": {},
   "outputs": [],
   "source": [
    "# 연습"
   ]
  },
  {
   "cell_type": "markdown",
   "id": "487e4706",
   "metadata": {},
   "source": [
    "- 정답\n",
    "<!-- \n",
    "pairs.sort(key=lambda data : data[1], reverse=True)\n",
    "pairs \n",
    "-->"
   ]
  },
  {
   "cell_type": "code",
   "execution_count": null,
   "id": "e76fe304",
   "metadata": {},
   "outputs": [],
   "source": [
    "# 1. 0번째 item이 큰 순\n",
    "# 2. 합이 큰 순으로 정렬\n",
    "\n",
    "number_2d = [[9,9], [1,100], [10,200,2]]"
   ]
  },
  {
   "cell_type": "code",
   "execution_count": null,
   "id": "c441742c",
   "metadata": {},
   "outputs": [],
   "source": [
    "# 연습"
   ]
  },
  {
   "cell_type": "markdown",
   "id": "0fad7369",
   "metadata": {},
   "source": [
    "- 정답\n",
    "<!-- 1. \n",
    "number_2d.sort()\n",
    "print(number_2d) -->\n",
    "\n",
    "<!-- 2.\n",
    "number_2d.sort(key=lambda items : sum(items), reverse=True)\n",
    "print(number_2d) -->"
   ]
  },
  {
   "cell_type": "code",
   "execution_count": null,
   "id": "93d95923",
   "metadata": {},
   "outputs": [],
   "source": [
    "# 1. students를 name 순으로 정렬(ㄱㄴㄷ순 - 오름차순 정렬)\n",
    "# 2. studendts를 score 큰 순 정렬\n",
    "\n",
    "students = [{'name':'홍', 'score':99},\n",
    "           {'name':'김', 'score':50},\n",
    "           {'name':'박', 'score':77},\n",
    "           {'score':100},]"
   ]
  },
  {
   "cell_type": "code",
   "execution_count": null,
   "id": "bd52437d",
   "metadata": {},
   "outputs": [],
   "source": [
    "# 연습"
   ]
  },
  {
   "cell_type": "markdown",
   "id": "c3408f7b",
   "metadata": {},
   "source": [
    "- 정답\n",
    "<!-- 1. \n",
    "students.sort(key=lambda data : data.get('name','힣'))\n",
    "-->\n",
    "\n",
    "<!-- 2.\n",
    "students.sort(key=lambda data : data.get('score',0), reverse=True)\n",
    "-->"
   ]
  },
  {
   "cell_type": "code",
   "execution_count": null,
   "id": "f4a24a73",
   "metadata": {},
   "outputs": [],
   "source": [
    "# 1. no 기준으로 sort\n",
    "# 2. title 기준으로 sort\n",
    "\n",
    "books = \\\n",
    "   [{'no':2, 'title':'더트릭컬', 'writer':'폴빠','price':'19,800'},\n",
    "    {'no':1, 'title':'흔한남매', 'writer':'백난도', 'price':'15,120'},\n",
    "    {'no':3, 'title':'단 한 번의 삶', 'writer':'김영하', 'price':'15,120'},\n",
    "    {'no':4, 'title':'가격잘못', 'writer':'홍길동', 'price':'ㅁ'},\n",
    "    {'no':5, 'title':'가격이숫자', 'writer':'백난도', 'price':30200},\n",
    "    {'no':6, 'title':'가격이없음', 'writer':'이길동'},] "
   ]
  },
  {
   "cell_type": "code",
   "execution_count": null,
   "id": "3efeb4d0",
   "metadata": {},
   "outputs": [],
   "source": [
    "# 연습"
   ]
  },
  {
   "cell_type": "markdown",
   "id": "562d8e9c",
   "metadata": {},
   "source": [
    "- 정답\n",
    "<!-- 1. \n",
    "books.sort(key=lambda data : data.get('no'))\n",
    "books\n",
    "-->\n",
    "\n",
    "<!-- 2.\n",
    "books.sort(key=lambda data : data.get('title'))\n",
    "books\n",
    "-->"
   ]
  },
  {
   "cell_type": "code",
   "execution_count": null,
   "id": "531ae268",
   "metadata": {},
   "outputs": [],
   "source": [
    "# 1. 30200, '12,000', '5000', 'ㅁ', None    →    30200, 12000, 5000, 0, 0\n",
    "# 2. {'no':5, 'title':'가격이숫자', 'writer':'백난도', 'price':'12,000'}\n"
   ]
  },
  {
   "cell_type": "code",
   "execution_count": null,
   "id": "777aa8a2",
   "metadata": {},
   "outputs": [],
   "source": [
    "# 연습"
   ]
  },
  {
   "cell_type": "markdown",
   "id": "c9329c53",
   "metadata": {},
   "source": [
    "- 정답\n",
    "<!-- 1. \n",
    "def parse_int(price):\n",
    "    if isinstance(price, str) and price.replace(',','').isdigit(): #price가 str이면 ,를 빼. 그게 숫자냐?\n",
    "        return int(price.replace(',',''))\n",
    "    elif isinstance(price,int):\n",
    "        return price\n",
    "    else:\n",
    "        return 0\n",
    "print(parse_int('12,000'), parse_int(12), parse_int('ㅁ'), parse_int(None))\n",
    "\n",
    "람다식 변경\n",
    "\n",
    "parse_int = lambda price:\\\n",
    "    int(price.replace(',',''))\\\n",
    "        if isinstance(price,str) and price.replace(',','').isdigit() else\\\n",
    "        price if isinstance(price,int) else 0\n",
    "\n",
    "print(parse_int('12,000'), parse_int(12), parse_int('ㅁ'), parse_int(None))\n",
    "-->\n",
    "\n",
    "<!-- 2.\n",
    "parse_int = lambda book:\\\n",
    "    int(book.get('price').replace(',',''))\\\n",
    "        if isinstance(book.get('price'),str) and book.get('price').replace(',','').isdigit() else\\\n",
    "        book.get('price') if isinstance(book.get('price'),int) else 0\n",
    "                            \n",
    "parse_int({'no':5, 'title':'가격이숫자', 'writer':'백난도', 'price':'12,000'})  \n",
    "-->\n",
    "\n",
    "<!-- 최종. \n",
    "copyBooks = books.copy()\n",
    "copyBooks.sort(key=lambda book:\\\n",
    "                int(book.get('price').replace(',','')) \\\n",
    "               if isinstance(book.get('price'),str) and book.get('price').replace(',','').isdigit()\\\n",
    "               else book.get('price') if isinstance(book.get('price'),int) \\\n",
    "               else 0, reverse=True)\n",
    "copyBooks\n",
    "-->"
   ]
  },
  {
   "cell_type": "markdown",
   "id": "920d8b96",
   "metadata": {},
   "source": [
    "# 4장 실습문제"
   ]
  },
  {
   "cell_type": "code",
   "execution_count": null,
   "id": "b2eb14e5",
   "metadata": {},
   "outputs": [],
   "source": [
    "#"
   ]
  },
  {
   "cell_type": "code",
   "execution_count": null,
   "id": "90dae167",
   "metadata": {},
   "outputs": [],
   "source": [
    "# 연습"
   ]
  },
  {
   "cell_type": "markdown",
   "id": "b6501222",
   "metadata": {},
   "source": [
    "- 정답\n",
    "<!-- 1. \n",
    "\n",
    "-->\n",
    "\n",
    "<!-- 2.\n",
    "\n",
    "-->"
   ]
  },
  {
   "cell_type": "code",
   "execution_count": null,
   "id": "d95a52f7",
   "metadata": {},
   "outputs": [],
   "source": [
    "#"
   ]
  },
  {
   "cell_type": "code",
   "execution_count": null,
   "id": "14ab910c",
   "metadata": {},
   "outputs": [],
   "source": [
    "# 연습"
   ]
  },
  {
   "cell_type": "markdown",
   "id": "a39ad1a6",
   "metadata": {},
   "source": [
    "- 정답\n",
    "<!-- 1. \n",
    "\n",
    "-->\n",
    "\n",
    "<!-- 2.\n",
    "\n",
    "-->"
   ]
  },
  {
   "cell_type": "code",
   "execution_count": null,
   "id": "5528b906",
   "metadata": {},
   "outputs": [],
   "source": [
    "#"
   ]
  },
  {
   "cell_type": "code",
   "execution_count": null,
   "id": "8b5e7f29",
   "metadata": {},
   "outputs": [],
   "source": [
    "# 연습"
   ]
  },
  {
   "cell_type": "markdown",
   "id": "6629112f",
   "metadata": {},
   "source": [
    "- 정답\n",
    "<!-- 1. \n",
    "\n",
    "-->\n",
    "\n",
    "<!-- 2.\n",
    "\n",
    "-->"
   ]
  },
  {
   "cell_type": "code",
   "execution_count": null,
   "id": "717cad44",
   "metadata": {},
   "outputs": [],
   "source": [
    "#"
   ]
  },
  {
   "cell_type": "code",
   "execution_count": null,
   "id": "77acb804",
   "metadata": {},
   "outputs": [],
   "source": [
    "# 연습"
   ]
  },
  {
   "cell_type": "markdown",
   "id": "3d7fb302",
   "metadata": {},
   "source": [
    "- 정답\n",
    "<!-- 1. \n",
    "\n",
    "-->\n",
    "\n",
    "<!-- 2.\n",
    "\n",
    "-->"
   ]
  },
  {
   "cell_type": "code",
   "execution_count": null,
   "id": "60164dc9",
   "metadata": {},
   "outputs": [],
   "source": [
    "#"
   ]
  },
  {
   "cell_type": "code",
   "execution_count": null,
   "id": "ce77e4a8",
   "metadata": {},
   "outputs": [],
   "source": [
    "# 연습"
   ]
  },
  {
   "cell_type": "markdown",
   "id": "5792bdf6",
   "metadata": {},
   "source": [
    "- 정답\n",
    "<!-- 1. \n",
    "\n",
    "-->\n",
    "\n",
    "<!-- 2.\n",
    "\n",
    "-->"
   ]
  },
  {
   "cell_type": "code",
   "execution_count": null,
   "id": "91e53b2d",
   "metadata": {},
   "outputs": [],
   "source": [
    "#"
   ]
  },
  {
   "cell_type": "code",
   "execution_count": null,
   "id": "9924774c",
   "metadata": {},
   "outputs": [],
   "source": [
    "# 연습"
   ]
  },
  {
   "cell_type": "markdown",
   "id": "b8d2f204",
   "metadata": {},
   "source": [
    "- 정답\n",
    "<!-- 1. \n",
    "\n",
    "-->\n",
    "\n",
    "<!-- 2.\n",
    "\n",
    "-->"
   ]
  },
  {
   "cell_type": "code",
   "execution_count": null,
   "id": "407a9356",
   "metadata": {},
   "outputs": [],
   "source": []
  },
  {
   "cell_type": "code",
   "execution_count": null,
   "id": "175ec7df",
   "metadata": {},
   "outputs": [],
   "source": []
  },
  {
   "cell_type": "code",
   "execution_count": null,
   "id": "1a3c2654",
   "metadata": {},
   "outputs": [],
   "source": []
  },
  {
   "cell_type": "code",
   "execution_count": null,
   "id": "5088493f",
   "metadata": {},
   "outputs": [],
   "source": []
  },
  {
   "cell_type": "code",
   "execution_count": null,
   "id": "c9f13bf0",
   "metadata": {},
   "outputs": [],
   "source": []
  },
  {
   "cell_type": "code",
   "execution_count": null,
   "id": "1293d350",
   "metadata": {},
   "outputs": [],
   "source": []
  },
  {
   "cell_type": "code",
   "execution_count": null,
   "id": "6e79545f",
   "metadata": {},
   "outputs": [],
   "source": []
  },
  {
   "cell_type": "code",
   "execution_count": null,
   "id": "d4903f26",
   "metadata": {},
   "outputs": [],
   "source": []
  },
  {
   "cell_type": "code",
   "execution_count": null,
   "id": "650fa609",
   "metadata": {},
   "outputs": [],
   "source": []
  },
  {
   "cell_type": "code",
   "execution_count": null,
   "id": "da7e7249",
   "metadata": {},
   "outputs": [],
   "source": []
  },
  {
   "cell_type": "code",
   "execution_count": null,
   "id": "c925e45e",
   "metadata": {},
   "outputs": [],
   "source": []
  },
  {
   "cell_type": "code",
   "execution_count": null,
   "id": "a740678a",
   "metadata": {},
   "outputs": [],
   "source": []
  },
  {
   "cell_type": "code",
   "execution_count": null,
   "id": "86961f39",
   "metadata": {},
   "outputs": [],
   "source": []
  },
  {
   "cell_type": "code",
   "execution_count": null,
   "id": "ac9678bf",
   "metadata": {},
   "outputs": [],
   "source": []
  }
 ],
 "metadata": {
  "kernelspec": {
   "display_name": "Python 3 (ipykernel)",
   "language": "python",
   "name": "python3"
  },
  "language_info": {
   "codemirror_mode": {
    "name": "ipython",
    "version": 3
   },
   "file_extension": ".py",
   "mimetype": "text/x-python",
   "name": "python",
   "nbconvert_exporter": "python",
   "pygments_lexer": "ipython3",
   "version": "3.10.9"
  },
  "toc": {
   "base_numbering": 1,
   "nav_menu": {},
   "number_sections": false,
   "sideBar": true,
   "skip_h1_title": false,
   "title_cell": "Table of Contents",
   "title_sidebar": "Contents",
   "toc_cell": false,
   "toc_position": {
    "height": "calc(100% - 180px)",
    "left": "10px",
    "top": "150px",
    "width": "165px"
   },
   "toc_section_display": true,
   "toc_window_display": true
  }
 },
 "nbformat": 4,
 "nbformat_minor": 5
}
