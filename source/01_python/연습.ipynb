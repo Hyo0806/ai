{
 "cells": [
  {
   "cell_type": "code",
   "execution_count": 1,
   "id": "e1aa47e8",
   "metadata": {},
   "outputs": [
    {
     "data": {
      "text/html": [
       "\n",
       "<style>\n",
       "div.container{width:90% !important;}\n",
       "div.cell.code_cell.rendered{width:100%;}\n",
       "div.input_prompt{padding:0px;}\n",
       "div.CodeMirror {font-family:Consolas; font-size:12pt;}\n",
       "div.text_cell_render.rendered_html{font-size:12pt;}\n",
       "div.output {font-size:12pt; font-weight:bold;}\n",
       "div.input {font-family:Consolas; font-size:12pt;}\n",
       "div.prompt {min-width:70px;}\n",
       "div#toc-wrapper{padding-top:120px;}\n",
       "div.text_cell_render ul li{font-size:12pt;padding:5px;}\n",
       "table.dataframe{font-size:12px;}\n",
       "</style>\n"
      ],
      "text/plain": [
       "<IPython.core.display.HTML object>"
      ]
     },
     "metadata": {},
     "output_type": "display_data"
    }
   ],
   "source": [
    "from IPython.display import display, HTML\n",
    "display(HTML(\"\"\"\n",
    "<style>\n",
    "div.container{width:90% !important;}\n",
    "div.cell.code_cell.rendered{width:100%;}\n",
    "div.input_prompt{padding:0px;}\n",
    "div.CodeMirror {font-family:Consolas; font-size:12pt;}\n",
    "div.text_cell_render.rendered_html{font-size:12pt;}\n",
    "div.output {font-size:12pt; font-weight:bold;}\n",
    "div.input {font-family:Consolas; font-size:12pt;}\n",
    "div.prompt {min-width:70px;}\n",
    "div#toc-wrapper{padding-top:120px;}\n",
    "div.text_cell_render ul li{font-size:12pt;padding:5px;}\n",
    "table.dataframe{font-size:12px;}\n",
    "</style>\n",
    "\"\"\"))"
   ]
  },
  {
   "cell_type": "markdown",
   "id": "1ee6baf4",
   "metadata": {},
   "source": [
    "# 복사용"
   ]
  },
  {
   "cell_type": "markdown",
   "id": "01fd16a1",
   "metadata": {},
   "source": [
    "- 정답\n",
    "<!-- 1. \n",
    "\n",
    "-->\n",
    "\n",
    "<!-- 2.\n",
    "\n",
    "-->"
   ]
  },
  {
   "cell_type": "code",
   "execution_count": 28,
   "id": "da03b757",
   "metadata": {},
   "outputs": [],
   "source": [
    "# 연습"
   ]
  },
  {
   "cell_type": "markdown",
   "id": "c9d68c7b",
   "metadata": {},
   "source": [
    "# 2장. 자료형과 연산자\n",
    "## 3절. 기본 자료형\n",
    "### 3.2 문자형\n",
    "#### row 데이터"
   ]
  },
  {
   "cell_type": "code",
   "execution_count": null,
   "id": "2bae38e1",
   "metadata": {},
   "outputs": [],
   "source": [
    "# tel_pattern 정규표현식 작성 후 모든 데이터 추출\n",
    "\n",
    "data = \"이름:홍길동, 주소:서울, 전화:02-888-8888, \\\n",
    "핸드폰:010-9999-9999, 특징:동해번쩍 서해번쩍\\\n",
    "혈액형:Bㅋㅋ ㅋㅋzz\""
   ]
  },
  {
   "cell_type": "code",
   "execution_count": null,
   "id": "18c75ef7",
   "metadata": {},
   "outputs": [],
   "source": [
    "# 연습"
   ]
  },
  {
   "cell_type": "markdown",
   "id": "b029c4b5",
   "metadata": {},
   "source": [
    "- 정답\n",
    "<!-- 1. \n",
    "tel_pattern = r\"0\\d{1,2}[ \\-\\.)]?\\d{3,4}[ \\-\\.]?\\d{4}\"\n",
    "tels = re.findall(tel_pattern, data) \n",
    "tels\n",
    "-->"
   ]
  },
  {
   "cell_type": "code",
   "execution_count": null,
   "id": "8605dfae",
   "metadata": {},
   "outputs": [],
   "source": [
    "# firtsTel의 전체 번호, 국번, 중간번호, 끝번호를 차례대로 출력하라.\n",
    "\n",
    "firstTel = re.search(tel_pattern, data)"
   ]
  },
  {
   "cell_type": "code",
   "execution_count": null,
   "id": "1b583dcb",
   "metadata": {},
   "outputs": [],
   "source": [
    "# 연습"
   ]
  },
  {
   "cell_type": "markdown",
   "id": "fe9cec2b",
   "metadata": {},
   "source": [
    "- 정답\n",
    "<!-- 1. \n",
    "print('전체 전화번호 :', firstPhone.group(0))\n",
    "print('국번 :', firstPhone.group(1))\n",
    "print('중간번호 :', firstPhone.group(2))\n",
    "print('끝번호 :', firstPhone.group(3))\n",
    "-->"
   ]
  },
  {
   "cell_type": "code",
   "execution_count": null,
   "id": "f16e722c",
   "metadata": {},
   "outputs": [],
   "source": [
    "# data에서 ㅋㅋzz 없애기"
   ]
  },
  {
   "cell_type": "code",
   "execution_count": null,
   "id": "d4a5ba4a",
   "metadata": {},
   "outputs": [],
   "source": [
    "# 연습"
   ]
  },
  {
   "cell_type": "markdown",
   "id": "db69cbc5",
   "metadata": {},
   "source": [
    "- 정답\n",
    "<!-- 1. \n",
    "re.sub(\"[^가-힣0-9A-Z\\s]\", '', data)\n",
    "-->"
   ]
  },
  {
   "cell_type": "code",
   "execution_count": null,
   "id": "1c098836",
   "metadata": {},
   "outputs": [],
   "source": [
    "# data에서 전화번호 없애기"
   ]
  },
  {
   "cell_type": "code",
   "execution_count": null,
   "id": "8d18e84a",
   "metadata": {},
   "outputs": [],
   "source": [
    "# 연습"
   ]
  },
  {
   "cell_type": "markdown",
   "id": "00599636",
   "metadata": {},
   "source": [
    "- 정답\n",
    "<!-- 1. \n",
    "tel_pattern = r\"0\\d{1,2}[ \\-\\.)]?\\d{3,4}[ \\-\\.]?\\d{4}\"\n",
    "re.sub(tel_pattern, ' ', data)\n",
    "-->"
   ]
  },
  {
   "cell_type": "markdown",
   "id": "655ab6ed",
   "metadata": {},
   "source": [
    "#### 문자열 인덱싱"
   ]
  },
  {
   "cell_type": "code",
   "execution_count": null,
   "id": "29e50572",
   "metadata": {},
   "outputs": [],
   "source": [
    "# 0,2,뒤에서 첫번째,뒤에서 세번째 인덱싱 추출\n",
    "\n",
    "str_='0123456789'"
   ]
  },
  {
   "cell_type": "code",
   "execution_count": null,
   "id": "e8f3c32f",
   "metadata": {},
   "outputs": [],
   "source": [
    "# 연습"
   ]
  },
  {
   "cell_type": "markdown",
   "id": "794fcd61",
   "metadata": {},
   "source": [
    "- 정답\n",
    "<!-- 1. \n",
    "str_[0],str_[2],str_[-1],str_[-3]\n",
    "-->"
   ]
  },
  {
   "cell_type": "markdown",
   "id": "8fc65c4a",
   "metadata": {},
   "source": [
    "#### 문자열 슬라이싱"
   ]
  },
  {
   "cell_type": "code",
   "execution_count": null,
   "id": "6404a169",
   "metadata": {},
   "outputs": [],
   "source": [
    "# str_에서 3번째 까지 추출\n",
    "# str_에서 6번째부터 끝까지 추출\n",
    "# str_에서 짝수번째 추출\n",
    "# 마지막부터 처음까지 거꾸로 출력"
   ]
  },
  {
   "cell_type": "code",
   "execution_count": null,
   "id": "646ffda5",
   "metadata": {},
   "outputs": [],
   "source": [
    "# 연습"
   ]
  },
  {
   "cell_type": "markdown",
   "id": "cab72e71",
   "metadata": {},
   "source": [
    "- 정답\n",
    "<!-- 1. \n",
    "str_[0:3], str_[:3]\n",
    "-->\n",
    "\n",
    "<!-- 2.\n",
    "str_[5:10], str_[5:]\n",
    "-->\n",
    "\n",
    "<!-- 3. \n",
    "str_[0:10:2]\n",
    "-->\n",
    "\n",
    "<!-- 4. \n",
    "print(str_[::-1])\n",
    "print(str_[9::-1])\n",
    "print(str_[-1::-1])\n",
    "-->"
   ]
  },
  {
   "cell_type": "markdown",
   "id": "9ffe52e6",
   "metadata": {},
   "source": [
    "### 3.3 논리형"
   ]
  },
  {
   "cell_type": "code",
   "execution_count": null,
   "id": "08823077",
   "metadata": {},
   "outputs": [],
   "source": [
    "# 이름을 입력받고 이름을 입력하지 않을 시 '이름을 입력 안 하셨군요' 출력"
   ]
  },
  {
   "cell_type": "code",
   "execution_count": null,
   "id": "01ae0789",
   "metadata": {},
   "outputs": [],
   "source": [
    "# 연습"
   ]
  },
  {
   "cell_type": "markdown",
   "id": "d142d13d",
   "metadata": {},
   "source": [
    "- 정답\n",
    "<!-- 1. \n",
    "name = input('이름은?')\n",
    "if name: \n",
    "    print('당신 이름은', name)\n",
    "else:\n",
    "    print('이름을 입력 안 하셨군요')\n",
    "-->"
   ]
  },
  {
   "cell_type": "markdown",
   "id": "b507a9c3",
   "metadata": {},
   "source": [
    "## 4절. 포맷팅\n",
    "### 4.1 문자열에 형식 지정"
   ]
  },
  {
   "cell_type": "code",
   "execution_count": null,
   "id": "c435bc9d",
   "metadata": {},
   "outputs": [],
   "source": [
    "# 홍길동님의 나이는 30살입니다. 출력\n",
    "\n",
    "name = '홍길동'\n",
    "age = 30"
   ]
  },
  {
   "cell_type": "code",
   "execution_count": null,
   "id": "7f443538",
   "metadata": {},
   "outputs": [],
   "source": [
    "# 연습"
   ]
  },
  {
   "cell_type": "markdown",
   "id": "6a03ac32",
   "metadata": {},
   "source": [
    "- 정답\n",
    "<!-- 1. \n",
    "print(f'{name}님의 나이는 {age}살입니다')\n",
    "print(\"{}님의 나이는 {}살입니다\".format(name, age))\n",
    "-->"
   ]
  },
  {
   "cell_type": "markdown",
   "id": "25e8055e",
   "metadata": {},
   "source": [
    "### 4.2 format() 문법"
   ]
  },
  {
   "cell_type": "code",
   "execution_count": null,
   "id": "dbf45fea",
   "metadata": {},
   "outputs": [],
   "source": [
    "# 4자리 정렬. a는 오른쪽 정렬, b는 가운데 정렬, c는 왼쪽 정렬하기\n",
    "\n",
    "a, b, c = 10, 20, 3"
   ]
  },
  {
   "cell_type": "code",
   "execution_count": null,
   "id": "da9c86cc",
   "metadata": {},
   "outputs": [],
   "source": [
    "# 연습"
   ]
  },
  {
   "cell_type": "markdown",
   "id": "7405d8e8",
   "metadata": {},
   "source": [
    "- 정답\n",
    "<!-- 1. \n",
    "print('[{:<4}] [{:^4}] [{:>4}]'.format(a,b,c))\n",
    "-->"
   ]
  },
  {
   "cell_type": "code",
   "execution_count": null,
   "id": "a5f2caa4",
   "metadata": {},
   "outputs": [],
   "source": [
    "# 6자리, 소숫점 2번째 자리까지 정렬. a는 $표시를 앞에 붙이고  우측정렬. c도 우측정렬.\n",
    "\n",
    "a = 10\n",
    "f = 12.569\n",
    "s = 'Hello'"
   ]
  },
  {
   "cell_type": "code",
   "execution_count": null,
   "id": "acf73ad9",
   "metadata": {},
   "outputs": [],
   "source": [
    "# 연습"
   ]
  },
  {
   "cell_type": "markdown",
   "id": "cfb5bc3d",
   "metadata": {},
   "source": [
    "- 정답\n",
    "<!-- 1. \n",
    "print('[{:$>6.2f}] [{:6.2f}] [{:_>6.2}]'.format(a,f,s))\n",
    "-->\n"
   ]
  },
  {
   "cell_type": "markdown",
   "id": "a1150e46",
   "metadata": {},
   "source": [
    "### 4.3 날짜출력"
   ]
  },
  {
   "cell_type": "code",
   "execution_count": null,
   "id": "caf00159",
   "metadata": {},
   "outputs": [],
   "source": [
    "# 아래 형식에 맞게 출력하시오\n",
    "# 25년 09월 11일 00시 00분 00초\n",
    "# 25년 09월 11일 PM 02시 30분 00초\n",
    "\n",
    "from datetime import datetime # datetime 모듈안의 datetime 만 메모리 load\n",
    "thatday1 = datetime(2025, 9, 11) # 25년9월11일 0시0분0초\n",
    "thatday2 = datetime(2025, 9, 11, 14, 30, 0)"
   ]
  },
  {
   "cell_type": "code",
   "execution_count": null,
   "id": "169f0f81",
   "metadata": {},
   "outputs": [],
   "source": [
    "# 연습"
   ]
  },
  {
   "cell_type": "markdown",
   "id": "36f28d59",
   "metadata": {},
   "source": [
    "- 정답\n",
    "<!-- 1. 둘다 밑에있는것을 훨씬 많이 씀\n",
    "print('{:%y년 %m월 %d일 %H시 %M분 %S초}'.format(thatday1))\n",
    "thatday1.strftime(\"%y년 %m월 %d일 %H시 %M분 %S초\")\n",
    "-->\n",
    "\n",
    "<!-- 2.\n",
    "print('{:%y년 %m월 %d일 %p %I시 %M분 %S초}'.format(thatday2))\n",
    "thatday2.strftime('%y년 %m월 %d일 %p %I시 %M분 %S초')\n",
    "-->"
   ]
  },
  {
   "cell_type": "code",
   "execution_count": null,
   "id": "21a35348",
   "metadata": {},
   "outputs": [],
   "source": [
    "# 현재 날짜를 아래와 같은 형식으로 출력하시오 \n",
    "# 25-09-15 PM 02:55\n",
    "\n",
    "now = datetime.now()"
   ]
  },
  {
   "cell_type": "code",
   "execution_count": null,
   "id": "06d010f6",
   "metadata": {},
   "outputs": [],
   "source": [
    "# 연습"
   ]
  },
  {
   "cell_type": "markdown",
   "id": "86602808",
   "metadata": {},
   "source": [
    "- 정답\n",
    "<!-- 1. \n",
    "print('{:%y-%m-%d %p %I:%M}'.format(now))\n",
    "print(now.strftime('%y-%m-%d %p %I:%M')) \n",
    "-->"
   ]
  },
  {
   "cell_type": "markdown",
   "id": "f3b064a0",
   "metadata": {},
   "source": [
    "## 5절. 연산자\n",
    "### 5.1 산술연산자"
   ]
  },
  {
   "cell_type": "code",
   "execution_count": null,
   "id": "4129f2ed",
   "metadata": {},
   "outputs": [],
   "source": [
    "# 정수를 입력받아 짝수인지 홀수인지 여부를 출력하시오.\n"
   ]
  },
  {
   "cell_type": "code",
   "execution_count": null,
   "id": "f530d2ff",
   "metadata": {},
   "outputs": [],
   "source": [
    "# 연습"
   ]
  },
  {
   "cell_type": "markdown",
   "id": "20d4238f",
   "metadata": {},
   "source": [
    "- 정답\n",
    "<!-- 1. \n",
    "num = int(input('정수를 입력하세요:'))\n",
    "result = num % 2 \n",
    "if result:\n",
    "    temp = '홀수' \n",
    "else:\n",
    "    temp = '짝수'\n",
    "print(f'입력하신 수는 {num}, 2로 나눈 나머지는 {result}이라서 {temp}를 입력하셨습니다')\n",
    "-->"
   ]
  },
  {
   "cell_type": "code",
   "execution_count": null,
   "id": "6ce23f24",
   "metadata": {},
   "outputs": [],
   "source": [
    "# 정수를 입력받아 5의 배수인지 여부를 출력하시오"
   ]
  },
  {
   "cell_type": "code",
   "execution_count": null,
   "id": "a894e3a5",
   "metadata": {},
   "outputs": [],
   "source": [
    "# 연습"
   ]
  },
  {
   "cell_type": "markdown",
   "id": "fbf2689a",
   "metadata": {},
   "source": [
    "- 정답\n",
    "<!-- 1. \n",
    "num = int(input('정수를 입력하세요:'))\n",
    "if num%5:\n",
    "    print('5의 배수가 아닙니다')\n",
    "else:\n",
    "    print('5의 배수입니다')\n",
    "-->"
   ]
  },
  {
   "cell_type": "code",
   "execution_count": null,
   "id": "f131e97f",
   "metadata": {},
   "outputs": [],
   "source": [
    "# 국, 영, 수 점수를 입력받아 다음셀에서 다음과 같이 출력하도록 구현하시오.\n",
    "# 국어 : 99    영어 : 100    수학 : 99\n",
    "# 총점 : 298   평균 : 99.3\n"
   ]
  },
  {
   "cell_type": "code",
   "execution_count": null,
   "id": "9873aec8",
   "metadata": {},
   "outputs": [],
   "source": [
    "# 연습"
   ]
  },
  {
   "cell_type": "markdown",
   "id": "54d01f4e",
   "metadata": {},
   "source": [
    "- 정답\n",
    "<!-- 1. \n",
    "kor = int(input('국어?'))\n",
    "eng = int(input('영어?'))\n",
    "mat = int(input('수학?'))\n",
    "sum = kor+eng+mat\n",
    "avg = sum / 3\n",
    "print('국어 : {:3d}\\t영어 : {:3d}\\t수학 : {:3d}'.format(kor,eng,mat))\n",
    "print('총점 : {:3d}\\t평균 : {:5.1f}'.format(sum,avg))\n",
    "-->"
   ]
  },
  {
   "cell_type": "markdown",
   "id": "c852b9be",
   "metadata": {},
   "source": [
    "### 5.2 할당연산자"
   ]
  },
  {
   "cell_type": "code",
   "execution_count": null,
   "id": "4e1e56fe",
   "metadata": {},
   "outputs": [],
   "source": [
    "# 할당연산자를 사용하여 a의 값이 15, 10, 100, 20(몫)나오도록 하시오.\n",
    "\n",
    "a = 10"
   ]
  },
  {
   "cell_type": "code",
   "execution_count": null,
   "id": "f5452900",
   "metadata": {},
   "outputs": [],
   "source": [
    "# 연습"
   ]
  },
  {
   "cell_type": "markdown",
   "id": "94409800",
   "metadata": {},
   "source": [
    "- 정답\n",
    "<!-- 1. \n",
    "a += 5\n",
    "print(f'a = {a}')\n",
    "a -= 5 \n",
    "print('5빼기 :', a) \n",
    "a *= 10 \n",
    "print('10배', a) \n",
    "a //= 5 \n",
    "print('5나눈 몫 :',a)\n",
    "-->\n"
   ]
  },
  {
   "cell_type": "markdown",
   "id": "f24ebf71",
   "metadata": {},
   "source": [
    "### 5.3 논리연산자"
   ]
  },
  {
   "cell_type": "code",
   "execution_count": null,
   "id": "c3a6c3ce",
   "metadata": {},
   "outputs": [],
   "source": [
    "# 다음의 결과는?\n",
    "\n",
    "a = 15 # 1111(8+4+2+1)\n",
    "b =  2 # 0010\n",
    "print('  a = {0:2} : {0:04b}'.format(a))\n",
    "print('  b = {0:2} : {0:04b}'.format(b))\n",
    "print('a&b = {0:2} : {0:04b}'.format(a&b))\n",
    "print('a|b = {0:2} : {0:04b}'.format(a|b))\n",
    "print('a^b = {0:2} : {0:04b}'.format(a^b))"
   ]
  },
  {
   "cell_type": "code",
   "execution_count": null,
   "id": "5a005139",
   "metadata": {},
   "outputs": [],
   "source": [
    "# 연습"
   ]
  },
  {
   "cell_type": "markdown",
   "id": "1cf9db8b",
   "metadata": {},
   "source": [
    "- 정답\n",
    "<!-- 1. \n",
    "  a = 15 : 1111\n",
    "  b =  2 : 0010\n",
    "a&b =  2 : 0010\n",
    "a|b = 15 : 1111\n",
    "a^b = 13 : 1101\n",
    "-->"
   ]
  },
  {
   "cell_type": "markdown",
   "id": "74edc3ec",
   "metadata": {},
   "source": [
    "## 6절. 문자열 다루기"
   ]
  },
  {
   "cell_type": "markdown",
   "id": "ce48abed",
   "metadata": {},
   "source": [
    "**문자열함수**\n",
    "\n",
    "-열어서 확인-\n",
    "\n",
    "<!-- \n",
    "upper() : 대문자로\n",
    "lower() : 소문자로\n",
    "title() : 각 어절의 앞글자만 대문자로\n",
    "capitalize() : 첫문자만 대문자로\n",
    "count('찾을문자') : '찾을문자'가 몇개 들어있는지 갯수 반환\n",
    "\n",
    "find('찾을문자') : '찾을문자'가 왼쪽부터 몇번째에 있는지 index를 반환(없으면 -1)\n",
    "\n",
    "rfind('찾을문자') : '찾을문자'가 오른쪽부터 몇번째에 있는지 index를 반환(없으면 -1)\n",
    "\n",
    "cf. index('찾을문자') : '찾을문자'가 왼쪽부터 몇번째에 있는 index를 반환(없으면 에러)\n",
    "\n",
    "startswith('특정문자') : '특정문자'로 시작하는지 여부 반환\n",
    "endswith('특정문자') : '특정문자'로 끝나는지 여부 반환\n",
    "strip() : 좌우 공백 제거(trim)\n",
    "lstrip() : 왼쪽 공백만 제거\n",
    "rstrip() : 오른쪽 공백만 제거\n",
    "split() : 문자열을 공백이나 다른 문자 기준으로 나누어 list로 반환\n",
    "isdigit() : 문자열이 숫자문자열인지 여부 반환\n",
    "islower() : 문자열이 소문자인지 여부 반환\n",
    "isupper() : 문자열이 대문자인지 여부 반환\n",
    "replace(oldStr, newStr) : oldStr을 newStr로 변경 \n",
    "-->"
   ]
  },
  {
   "cell_type": "code",
   "execution_count": null,
   "id": "1fe06af8",
   "metadata": {},
   "outputs": [],
   "source": [
    "# temp를 전부 대문자로 쓰시오\n",
    "# temp를 전부 소문자로 쓰시오\n",
    "# temp의 각 어절 앞글자를 대문자로 쓰시오\n",
    "# temp의 첫글자만 대문자로 쓰시오\n",
    "\n",
    "temp = 'python is easy. Python is smart. python'"
   ]
  },
  {
   "cell_type": "code",
   "execution_count": null,
   "id": "fdfbad12",
   "metadata": {},
   "outputs": [],
   "source": [
    "# 연습"
   ]
  },
  {
   "cell_type": "markdown",
   "id": "91cff40f",
   "metadata": {},
   "source": [
    "- 정답\n",
    "<!-- 1. \n",
    "print('대문자로 :',temp.upper())\n",
    "-->\n",
    "\n",
    "<!-- 2.\n",
    "print('소문자로 :',temp.lower())\n",
    "-->\n",
    "\n",
    "<!-- 3. \n",
    "print('title() :',temp.title())\n",
    "-->\n",
    "\n",
    "<!-- 4.\n",
    "print('capitalize() :', temp.capitalize())\n",
    "-->"
   ]
  },
  {
   "cell_type": "code",
   "execution_count": null,
   "id": "bcc1b6ea",
   "metadata": {},
   "outputs": [],
   "source": [
    "# temp에서 대문자C가 몇번 나오는지 출력하시오\n",
    "# temp에서 python이 몇번 나오는지 출력하시오\n",
    "# temp에서 대소문자 구분없이 python이 몇번 나오는지 출력하시오"
   ]
  },
  {
   "cell_type": "code",
   "execution_count": null,
   "id": "ad3c70be",
   "metadata": {},
   "outputs": [],
   "source": [
    "# 연습"
   ]
  },
  {
   "cell_type": "markdown",
   "id": "7610710d",
   "metadata": {},
   "source": [
    "- 정답\n",
    "<!-- 1. \n",
    "print('C가 몇번 나오는지 :', temp.count('C'))\n",
    "-->\n",
    "\n",
    "<!-- 2.\n",
    "print('python이 몇번 나오는지 :', temp.count('python'))\n",
    "-->\n",
    "\n",
    "<!-- 3.\n",
    "print('대소문자 구분없이 python이 몇번 :', temp.lower().count('python'))\n",
    "print('대소문자 구분없이 python이 몇번 :', temp.upper().count('PYTHON'))\n",
    "print('대소문자 구분없이 python이 몇번 :', temp.title().count('Python'))\n",
    "-->"
   ]
  },
  {
   "cell_type": "code",
   "execution_count": null,
   "id": "59a3dcfa",
   "metadata": {},
   "outputs": [],
   "source": [
    "# temp에서 python이 나오는 첫 index위치를 구하시오\n",
    "# temp에서 python이 나오는 마지막 index위치를 구하시오\n",
    "# temp에서 C가 나오는 첫 index위치를 구하시오"
   ]
  },
  {
   "cell_type": "code",
   "execution_count": null,
   "id": "0443a63c",
   "metadata": {},
   "outputs": [],
   "source": [
    "# 연습"
   ]
  },
  {
   "cell_type": "markdown",
   "id": "c2191c4a",
   "metadata": {},
   "source": [
    "- 정답\n",
    "<!-- 1. \n",
    "print('python이 나오는 첫 index 위치 :', temp.index('python')) #잘안씀\n",
    "print('python이 나오는 첫 index 위치 :',temp.find('python'))\n",
    "-->\n",
    "\n",
    "<!-- 2.\n",
    "print('python이 나오는 첫 index 위치 :',temp.rfind('python'))\n",
    "-->\n",
    "\n",
    "<!-- 3.\n",
    "print('C가 나오는 index 위치 :', temp.find(\"C\")) # 찾을문자가 없을 경우 -1\n",
    "-->"
   ]
  },
  {
   "cell_type": "code",
   "execution_count": null,
   "id": "af13ae9a",
   "metadata": {},
   "outputs": [],
   "source": [
    "# python으로 시작하는지 여부를 구하시오\n",
    "# Python으로 시작하는지 여부를 구하시오\n",
    "# 대소문자 구분없이 python으로 시작하는지 여부를 구하시오\n",
    "# n으로 끝나는지 여부를 구하시오\n",
    "# python을 R로 변경하시오"
   ]
  },
  {
   "cell_type": "code",
   "execution_count": null,
   "id": "db54604a",
   "metadata": {},
   "outputs": [],
   "source": [
    "# 연습"
   ]
  },
  {
   "cell_type": "markdown",
   "id": "ea43819f",
   "metadata": {},
   "source": [
    "- 정답\n",
    "<!-- 1. \n",
    "print('python으로 시작하는지 여부 :',temp.startswith('python'))\n",
    "-->\n",
    "\n",
    "<!-- 2.\n",
    "print('python으로 시작하는지 여부 :',temp.startswith('Python'))\n",
    "-->\n",
    "\n",
    "<!-- 3. \n",
    "print('대소문자 구분없이 python으로 시작하는지 여부 :',temp.lower().startswith('python'))\n",
    "-->\n",
    "\n",
    "<!-- 4.\n",
    "print('python으로 끝나는지 여부 :', temp.endswith('n'))\n",
    "-->\n",
    "\n",
    "<!-- 5. \n",
    "print('python을 R로 변경 :', temp.replace('python','R'))\n",
    "-->"
   ]
  },
  {
   "cell_type": "code",
   "execution_count": null,
   "id": "cdd4543d",
   "metadata": {},
   "outputs": [],
   "source": [
    "# temp의 좌우 공백을 제거하시오\n",
    "# temp의 왼쪽 공백을 제거하시오\n",
    "# temp의 오른쪽 공백을 제거하시오\n",
    "# notdigit이 숫자인지 여부를 구하시오\n",
    "# notdigit이 숫자문자 True가 나오게 변경하시오\n",
    "# temp가 대문자인지 여부를 구하시오\n",
    "# temp가 소문자인지 여부를 구하시오\n",
    "\n",
    "temp = \"      python is easy      \"\n",
    "notdigit = \"1,000\""
   ]
  },
  {
   "cell_type": "code",
   "execution_count": null,
   "id": "36595f82",
   "metadata": {},
   "outputs": [],
   "source": [
    "# 연습"
   ]
  },
  {
   "cell_type": "markdown",
   "id": "6dce5bbc",
   "metadata": {},
   "source": [
    "- 정답\n",
    "<!-- 1. \n",
    "print('좌우 공백 제거 : [{}]'.format(temp.strip()))\n",
    "-->\n",
    "\n",
    "<!-- 2.\n",
    "print('왼쪽 공백 제거 : [{}]'.format(temp.lstrip()))\n",
    "-->\n",
    "\n",
    "<!-- 3. \n",
    "print('오른쪽 공백 제거 : [{}]'.format(temp.rstrip()))\n",
    "-->\n",
    "\n",
    "<!-- 4.\n",
    "print('isdigit(숫자문자)인지 여부 :', notdigit.isdigit())\n",
    "-->\n",
    "\n",
    "<!-- 5. \n",
    "print('replace후 isdigit :', notdigit.replace(',','').isdigit())\n",
    "-->\n",
    "\n",
    "<!-- 6.\n",
    "print('대분자인지 여부 :', temp.isupper()) # 모두 대문자여아 True로 나옴\n",
    "-->\n",
    "\n",
    "<!-- 7. \n",
    "print('소문자인지 여부 :', temp.islower())\n",
    "-->"
   ]
  },
  {
   "cell_type": "code",
   "execution_count": null,
   "id": "2837cec2",
   "metadata": {},
   "outputs": [],
   "source": [
    "# names 를 스페이스 단위로 분리하여 리스트로 반환하시오\n",
    "# names의 0행, 3행을 출력하시오\n",
    "\n",
    "names = '홍길동 김길동    박길동 주길동 고길동'"
   ]
  },
  {
   "cell_type": "code",
   "execution_count": null,
   "id": "d86fbb27",
   "metadata": {},
   "outputs": [],
   "source": [
    "# 연습"
   ]
  },
  {
   "cell_type": "markdown",
   "id": "f7ec874e",
   "metadata": {},
   "source": [
    "- 정답\n",
    "<!-- 1. \n",
    "name_list = names.split()\n",
    "print(names.split())\n",
    "-->\n",
    "\n",
    "<!-- 2.\n",
    "print(name_list[0], name_list[3])\n",
    "-->"
   ]
  },
  {
   "cell_type": "code",
   "execution_count": null,
   "id": "557f698f",
   "metadata": {},
   "outputs": [],
   "source": [
    "# date_str을 -단위로 쪼개어 년도, 월, 일 단위로 출력하시오\n",
    "\n",
    "date_str = '2025-09-17'"
   ]
  },
  {
   "cell_type": "code",
   "execution_count": null,
   "id": "1f195189",
   "metadata": {},
   "outputs": [],
   "source": [
    "# 연습"
   ]
  },
  {
   "cell_type": "markdown",
   "id": "ff4f28bc",
   "metadata": {},
   "source": [
    "- 정답\n",
    "<!-- 1. \n",
    "date_list = date_str.split('-')\n",
    "\n",
    "print('년도 :', date_list[0])\n",
    "print('월 :', date_list[1])\n",
    "print('일 :', date_list[2])\n",
    "-->"
   ]
  },
  {
   "cell_type": "code",
   "execution_count": null,
   "id": "55ffa8ab",
   "metadata": {},
   "outputs": [],
   "source": [
    "# '1,000' 을 숫자로 변경하시오"
   ]
  },
  {
   "cell_type": "code",
   "execution_count": null,
   "id": "2f94732d",
   "metadata": {},
   "outputs": [],
   "source": [
    "# 연습"
   ]
  },
  {
   "cell_type": "markdown",
   "id": "5a7df712",
   "metadata": {},
   "source": [
    "- 정답\n",
    "<!-- 1. \n",
    "int('1,000'.replace(',',''))\n",
    "-->"
   ]
  },
  {
   "cell_type": "code",
   "execution_count": null,
   "id": "5f40fb1a",
   "metadata": {},
   "outputs": [],
   "source": [
    "#temp.replace(' - ','/')를 사용하지 않고 -을 /으로 변경하시오\n",
    "\n",
    "temp = 'Python - 웹(HTML/CSS/JS) - Oracle/MySQL(DBMS) - DL/ML(M/DNN/CNN/RNN) - LLM(RAG)'"
   ]
  },
  {
   "cell_type": "code",
   "execution_count": null,
   "id": "35d6319d",
   "metadata": {},
   "outputs": [],
   "source": [
    "# 연습"
   ]
  },
  {
   "cell_type": "markdown",
   "id": "2b328b29",
   "metadata": {},
   "source": [
    "- 정답\n",
    "<!-- 1. \n",
    "splited_temp = temp.split(' - ')\n",
    "print('분리된 temp :', splited_temp)\n",
    "joined_temp = '/'.join(splited_temp)\n",
    "print('join temp :', joined_temp)\n",
    "-->"
   ]
  },
  {
   "cell_type": "markdown",
   "id": "1d02f484",
   "metadata": {},
   "source": [
    "## 7절. 시간, 날짜 다루기\n",
    "\n",
    "### 7.1 시간과 날짜"
   ]
  },
  {
   "cell_type": "code",
   "execution_count": null,
   "id": "35039620",
   "metadata": {},
   "outputs": [],
   "source": [
    "# 25년09월11일(Thursday) 09:30:00 형식으로 출력하시오\n",
    "\n",
    "thatday = datetime(2025, 9, 11, 9, 30)"
   ]
  },
  {
   "cell_type": "code",
   "execution_count": null,
   "id": "2f662daa",
   "metadata": {},
   "outputs": [],
   "source": [
    "# 연습"
   ]
  },
  {
   "cell_type": "markdown",
   "id": "176f2c46",
   "metadata": {},
   "source": [
    "- 정답\n",
    "<!-- 1. \n",
    "from datetime import datetime, date, time\n",
    "print('{:%y년%m월%d일(%A) %H:%M:%S}'.format(thatday)) #많이 안씀\n",
    "print(thatday.strftime('%y년%m월%d일(%A) %H:%M:%S'))\n",
    "-->"
   ]
  },
  {
   "cell_type": "code",
   "execution_count": null,
   "id": "d2692e46",
   "metadata": {},
   "outputs": [],
   "source": [
    "# 현재 시간을 25년09월11일(Thursday) 09:30:00 형식으로 출력하시오\n"
   ]
  },
  {
   "cell_type": "code",
   "execution_count": null,
   "id": "adb2b8d2",
   "metadata": {},
   "outputs": [],
   "source": [
    "# 연습"
   ]
  },
  {
   "cell_type": "markdown",
   "id": "f425bea5",
   "metadata": {},
   "source": [
    "- 정답\n",
    "<!-- 1. \n",
    "now = datetime.now()\n",
    "print(now.strftime('%Y년%m월%d일 %p %I:%M:%S'))\n",
    "-->"
   ]
  },
  {
   "cell_type": "markdown",
   "id": "818ce61b",
   "metadata": {},
   "source": [
    "## 8절 연습문제"
   ]
  },
  {
   "cell_type": "code",
   "execution_count": null,
   "id": "e1fd8bd0",
   "metadata": {},
   "outputs": [],
   "source": [
    "# 1. 이름과 나이 변수를 다음 형식으로 출력하도록 format() 함수를 이용해 형식화하세요\n",
    "#[출력형식 : 홍길동님의 나이는 23살입니다]"
   ]
  },
  {
   "cell_type": "code",
   "execution_count": null,
   "id": "33aaf590",
   "metadata": {},
   "outputs": [],
   "source": [
    "# 연습"
   ]
  },
  {
   "cell_type": "markdown",
   "id": "a29e5f38",
   "metadata": {},
   "source": [
    "- 정답\n",
    "<!-- 1. \n",
    "name = '홍길동'\n",
    "age = 23\n",
    "print('{}님의 나이는 {}살입니다'.format(name, age))\n",
    "-->"
   ]
  },
  {
   "cell_type": "code",
   "execution_count": null,
   "id": "c51fed70",
   "metadata": {},
   "outputs": [],
   "source": [
    "# 2. 두 정수를 입력받아 두 수의 덧셈 , 뺄셈 , 곱셈 , 나눗셈 , 몫 , 나머지를 출력하세요"
   ]
  },
  {
   "cell_type": "code",
   "execution_count": null,
   "id": "35739b9a",
   "metadata": {},
   "outputs": [],
   "source": [
    "# 연습"
   ]
  },
  {
   "cell_type": "markdown",
   "id": "74a3c55e",
   "metadata": {},
   "source": [
    "- 정답\n",
    "<!-- 1. \n",
    "num1 = int(input('첫번째 수를 입력하세요 :'))\n",
    "num2 = int(input('두번째 수를 입력하세요 :'))\n",
    "\n",
    "print(num1 + num2) \n",
    "print(num1 - num2) \n",
    "print(num1 * num2) \n",
    "if num2!=0\n",
    "    print(num1 / num2) \n",
    "    print(num1 // num2)\n",
    "    print(num1 % num2)\n",
    "else:\n",
    "    print('num2가 0이라서 나눗셈 불가')\n",
    "-->"
   ]
  },
  {
   "cell_type": "code",
   "execution_count": null,
   "id": "86fc198f",
   "metadata": {},
   "outputs": [],
   "source": [
    "# 3. 문자열의 분리하기와 합치기 기능을 이용하여 ‘Hello World'가 할당된 변수를 이용하여 ‘World Hello'로 출력하세요\n",
    "\n",
    "temp = 'Hello World'"
   ]
  },
  {
   "cell_type": "code",
   "execution_count": null,
   "id": "f05c0397",
   "metadata": {},
   "outputs": [],
   "source": [
    "# 연습"
   ]
  },
  {
   "cell_type": "markdown",
   "id": "f8442968",
   "metadata": {},
   "source": [
    "- 정답\n",
    "<!-- 1. \n",
    "splited_temp = temp.split()\n",
    "print(splited_temp[1],splited_temp[0])\n",
    "-->"
   ]
  },
  {
   "cell_type": "code",
   "execution_count": null,
   "id": "971e20c1",
   "metadata": {},
   "outputs": [],
   "source": [
    "# 4. x = ' abcdef ＇를 이용하여 bcdefa 로 출력하세요 (문자 슬라이싱이용)\n",
    "# 5. x = ‘ abcdef 를 이용하여 fedcba 로 출력하세요\n",
    "\n",
    "x = 'abcdef'"
   ]
  },
  {
   "cell_type": "code",
   "execution_count": null,
   "id": "7ba8ab7f",
   "metadata": {},
   "outputs": [],
   "source": [
    "# 연습"
   ]
  },
  {
   "cell_type": "markdown",
   "id": "adce3675",
   "metadata": {},
   "source": [
    "- 정답\n",
    "<!-- 1. \n",
    "print(x[1:]+x[0])\n",
    "print(x[1:],x[0], sep=\"\")\n",
    "-->\n",
    "\n",
    "<!-- 2.\n",
    "x[::-1]\n",
    "-->"
   ]
  },
  {
   "cell_type": "code",
   "execution_count": null,
   "id": "9949ac4e",
   "metadata": {},
   "outputs": [],
   "source": [
    "# 6. 오늘의 온도를 섭씨온도로 입력받아 화씨 온도로 변환하는 프로그램을 작성하세요 . \n",
    "#화씨 온도는 소수점이 있을 경우만 두번째 자리까지 출력되고 , \n",
    "#소수점이하 값이 없는 경우 소수점을 출력하지 않도록 합니다 \n",
    "#다음은 섭씨와 화씨의 변환 공식입니다 . C 는 섭씨 ,F 는 화씨\n",
    "#C = (F-32) / 1.8\n",
    "#F = (C*1.8) + 32"
   ]
  },
  {
   "cell_type": "code",
   "execution_count": null,
   "id": "7535964c",
   "metadata": {},
   "outputs": [],
   "source": [
    "# 연습"
   ]
  },
  {
   "cell_type": "markdown",
   "id": "e667ef55",
   "metadata": {},
   "source": [
    "- 정답\n",
    "<!-- 1. \n",
    "C = float(input())\n",
    "F = (C*1.8) + 32\n",
    "\n",
    "if F%1==0: #혹은 f.is_integer(): 으로 쓸 수도 있음. 실수를 정수로 써라는 말.\n",
    "    print('섭씨 {}°C는 화씨 {:.0f}°F입니다.'.format(C,F))\n",
    "else:\n",
    "    print('섭씨 {}°C는 화씨 {:.2f}°F입니다.'.format(C,F))\n",
    "-->"
   ]
  },
  {
   "cell_type": "code",
   "execution_count": null,
   "id": "3c36037e",
   "metadata": {},
   "outputs": [],
   "source": [
    "# 7.다음 중 변수 선언으로 잘못된 것을 모두 고르시오\n",
    "\n",
    "'''\n",
    "① for\n",
    "② 10th\n",
    "③ Student.name\n",
    "④ _1234\n",
    "\n",
    "'''"
   ]
  },
  {
   "cell_type": "code",
   "execution_count": null,
   "id": "37074789",
   "metadata": {},
   "outputs": [],
   "source": [
    "# 연습"
   ]
  },
  {
   "cell_type": "markdown",
   "id": "0e93989e",
   "metadata": {},
   "source": [
    "- 정답\n",
    "<!-- 1. \n",
    "1.2.3번\n",
    "-->"
   ]
  },
  {
   "cell_type": "code",
   "execution_count": null,
   "id": "fc446516",
   "metadata": {},
   "outputs": [],
   "source": [
    "#8.다음의 코드의 실행결과는?\n",
    "\n",
    "text = 'Seoul A001 - programming with python'\n",
    "print(text[:4] + text[-1] + text.split()[0])\n",
    "print(text[:4], text[-1], text.split()[0])"
   ]
  },
  {
   "cell_type": "code",
   "execution_count": null,
   "id": "cb861c67",
   "metadata": {},
   "outputs": [],
   "source": [
    "# 연습"
   ]
  },
  {
   "cell_type": "markdown",
   "id": "7f50b21f",
   "metadata": {},
   "source": [
    "- 정답\n",
    "<!-- 1. \n",
    "SeounSeoul\n",
    "Seou n Seoul\n",
    "-->"
   ]
  },
  {
   "cell_type": "code",
   "execution_count": null,
   "id": "3987fd84",
   "metadata": {},
   "outputs": [],
   "source": [
    "#9.다음 중 파이썬 3.x 버전에서 연산식과 그 결과의 출력이 잘못된 것은\n",
    " '''\n",
    " ① 수식 8//2 결과 4\n",
    " ② 수식 8/2 결과 4\n",
    " ③ 수식 8**2 결과 64\n",
    " \n",
    " '''"
   ]
  },
  {
   "cell_type": "code",
   "execution_count": null,
   "id": "f5807061",
   "metadata": {},
   "outputs": [],
   "source": [
    "# 연습"
   ]
  },
  {
   "cell_type": "markdown",
   "id": "10985d05",
   "metadata": {},
   "source": [
    "- 정답\n",
    "<!-- 1. \n",
    "2번. 4.0\n",
    "-->"
   ]
  },
  {
   "cell_type": "code",
   "execution_count": null,
   "id": "d5b8da9e",
   "metadata": {},
   "outputs": [],
   "source": [
    "# 10. 아래 프로그램의 결과는? \n",
    "\n",
    "x = 5\n",
    "y = 'John'\n",
    "print(x + y)"
   ]
  },
  {
   "cell_type": "code",
   "execution_count": null,
   "id": "197600ad",
   "metadata": {},
   "outputs": [],
   "source": [
    "# 연습"
   ]
  },
  {
   "cell_type": "markdown",
   "id": "e55f0127",
   "metadata": {},
   "source": [
    "- 정답\n",
    "<!-- 1. \n",
    "에러 \n",
    "고치는건 print(str(x)+y)\n",
    "-->"
   ]
  },
  {
   "cell_type": "code",
   "execution_count": null,
   "id": "32d606cb",
   "metadata": {},
   "outputs": [],
   "source": [
    "# 11. split() 함수를 이용하여 str_ 의 값 중 나라 를 출력하는 프로그램을 완성하시오\n",
    "\n",
    "str_ = '우리 나라 대한 민국'"
   ]
  },
  {
   "cell_type": "code",
   "execution_count": null,
   "id": "e02e16f8",
   "metadata": {},
   "outputs": [],
   "source": [
    "# 연습"
   ]
  },
  {
   "cell_type": "markdown",
   "id": "d79873bb",
   "metadata": {},
   "source": [
    "- 정답\n",
    "<!-- 1. \n",
    "str_split()[1]\n",
    "-->"
   ]
  },
  {
   "cell_type": "markdown",
   "id": "aa3e8fa2",
   "metadata": {},
   "source": [
    "# 3장. 데이터 구조\n",
    "\n",
    "## 1절. 리스트\n",
    "\n",
    "### 1.1 리스트 만들기"
   ]
  },
  {
   "cell_type": "code",
   "execution_count": null,
   "id": "63a97747",
   "metadata": {},
   "outputs": [],
   "source": [
    "# banana를 mango로 변환하시오\n",
    "\n",
    "fruits = ['banana','apple','orange','grape']"
   ]
  },
  {
   "cell_type": "code",
   "execution_count": null,
   "id": "2cbed5cf",
   "metadata": {},
   "outputs": [],
   "source": [
    "# 연습"
   ]
  },
  {
   "cell_type": "markdown",
   "id": "b30a7fc1",
   "metadata": {},
   "source": [
    "- 정답\n",
    "<!-- 1. \n",
    "fruits[0] = 'mango' \n",
    "print(fruits)\n",
    "-->"
   ]
  },
  {
   "cell_type": "code",
   "execution_count": null,
   "id": "bf0bc6c6",
   "metadata": {},
   "outputs": [],
   "source": [
    "# [0, 1, 2, 3, 4, 5, 6, 7, 8, 9]를 출력하시오\n",
    "# [10, 8, 6, 4, 2, 0]를 출력하시오"
   ]
  },
  {
   "cell_type": "code",
   "execution_count": null,
   "id": "d8499a15",
   "metadata": {},
   "outputs": [],
   "source": [
    "# 연습"
   ]
  },
  {
   "cell_type": "markdown",
   "id": "4b1e8cc4",
   "metadata": {},
   "source": [
    "- 정답\n",
    "<!-- 1. \n",
    "list(range(10))\n",
    "list(range(0, 10, 1))\n",
    "-->\n",
    "\n",
    "<!-- 2.\n",
    "list(range(10, -1, -2))\n",
    "-->"
   ]
  },
  {
   "cell_type": "code",
   "execution_count": null,
   "id": "f1d77436",
   "metadata": {},
   "outputs": [],
   "source": [
    "# '0번째 과일은 mango' 같이 출력하시오\n",
    "\n",
    "fruits = ['mango', 'apple', 'orange'"
   ]
  },
  {
   "cell_type": "code",
   "execution_count": null,
   "id": "363f1c16",
   "metadata": {},
   "outputs": [],
   "source": [
    "# 연습"
   ]
  },
  {
   "cell_type": "markdown",
   "id": "780f92ad",
   "metadata": {},
   "source": [
    "- 정답\n",
    "<!-- 1. \n",
    "for i, fruit in enumerate(fruits): \n",
    "    print(f'{i}번째 과일은 {fruit}')\n",
    "-->"
   ]
  },
  {
   "cell_type": "code",
   "execution_count": null,
   "id": "fd2d33e3",
   "metadata": {},
   "outputs": [],
   "source": [
    "#  True 와 [4,5,6]의 5를 추출하시오\n",
    "\n",
    "numbers = [0, True, '2', [2,3], [4,5,6]]"
   ]
  },
  {
   "cell_type": "code",
   "execution_count": null,
   "id": "e5dfcf93",
   "metadata": {},
   "outputs": [],
   "source": [
    "# 연습"
   ]
  },
  {
   "cell_type": "markdown",
   "id": "cf05c0db",
   "metadata": {},
   "source": [
    "- 정답\n",
    "<!-- 1. \n",
    "numbers[2], numbers[4][1]\n",
    "-->"
   ]
  },
  {
   "cell_type": "code",
   "execution_count": 2,
   "id": "bfb34777",
   "metadata": {},
   "outputs": [],
   "source": [
    "# 아래와 같은 모양으로 출력하시오\n",
    "'''\n",
    "1\t2\t3\t4\t5\t\n",
    "10\t20\t30\t40\t50\t\n",
    "1\t3\t5\t7\t9\t\n",
    "2\t4\t6\t8\t10\n",
    "\n",
    "'''\n",
    "\n",
    "numbers_2d = [[1,2,3,4,5],      \n",
    "              [10,20,30,40,50], \n",
    "              [1,3,5,7,9],      \n",
    "              [2,4,6,8,10]] "
   ]
  },
  {
   "cell_type": "code",
   "execution_count": null,
   "id": "d0755774",
   "metadata": {},
   "outputs": [],
   "source": [
    "# 연습"
   ]
  },
  {
   "cell_type": "markdown",
   "id": "cb27ea6d",
   "metadata": {},
   "source": [
    "- 정답\n",
    "<!-- 1. \n",
    "for row in numbers_2d:\n",
    "    for item in row:\n",
    "        print(item, end='\\t')\n",
    "    print()\n",
    "-->"
   ]
  },
  {
   "cell_type": "code",
   "execution_count": null,
   "id": "6884547d",
   "metadata": {},
   "outputs": [],
   "source": [
    "# 아래와 같은 형식으로 출력하시오\n",
    "'''\n",
    "0행0열 : 1\t0행1열 : 2\t0행2열 : 3\t0행3열 : 4\t0행4열 : 5\t\n",
    "1행0열 : 10\t1행1열 : 20\t1행2열 : 30\t1행3열 : 40\t1행4열 : 50\t\n",
    "2행0열 : 1\t2행1열 : 3\t2행2열 : 5\t2행3열 : 7\t2행4열 : 9\t\n",
    "3행0열 : 2\t3행1열 : 4\t3행2열 : 6\t3행3열 : 8\t3행4열 : 10\t\n",
    "\n",
    "'''"
   ]
  },
  {
   "cell_type": "code",
   "execution_count": null,
   "id": "eb6ce8d5",
   "metadata": {},
   "outputs": [],
   "source": [
    "# 연습"
   ]
  },
  {
   "cell_type": "markdown",
   "id": "57114e56",
   "metadata": {},
   "source": [
    "- 정답\n",
    "<!-- 1. \n",
    "for i in range(len(numbers_2d)):         # i : 행\n",
    "    for j in range(len(numbers_2d[i])):  # j : 열\n",
    "        print(f'{i}행{j}열 : {numbers_2d[i][j]}', end='\\t')\n",
    "    print() \n",
    "\n",
    "\n",
    "# range 쓰지 않고 enumerate 쓰는 방법\n",
    "\n",
    "for i,row in enumerate(numbers_2d):\n",
    "    for j, item in enumerate(numbers_2d[i]):\n",
    "        print('{}행{}열 : {}'.format(i,j,numbers_2d[i][j]), end='\\t')\n",
    "    print() \n",
    "-->"
   ]
  },
  {
   "cell_type": "markdown",
   "id": "152bb5e5",
   "metadata": {},
   "source": [
    "### 1.2 기본정보 조회"
   ]
  },
  {
   "cell_type": "code",
   "execution_count": null,
   "id": "6c38843c",
   "metadata": {},
   "outputs": [],
   "source": [
    "# 오름차순, 내림차순, 합, 평균을 구하시오.\n",
    "\n",
    "numbers = [1,12,3,4,5]"
   ]
  },
  {
   "cell_type": "code",
   "execution_count": null,
   "id": "cecb22c2",
   "metadata": {},
   "outputs": [],
   "source": [
    "# 연습"
   ]
  },
  {
   "cell_type": "markdown",
   "id": "999c7d92",
   "metadata": {},
   "source": [
    "- 정답\n",
    "<!-- 1. \n",
    "print('오름차순 정렬 :', sorted(numbers))\n",
    "-->\n",
    "\n",
    "<!-- 2.\n",
    "print('내림차순 정렬 :', sorted(numbers, reverse=True))\n",
    "-->\n",
    "\n",
    "<!-- 3. \n",
    "print('합 :', sum(numbers))\n",
    "-->\n",
    "\n",
    "<!-- 4.\n",
    "print('평균 :', sum(numbers)/len(numbers))\n",
    "-->"
   ]
  },
  {
   "cell_type": "markdown",
   "id": "626d204e",
   "metadata": {},
   "source": [
    "### 1.3 요소추가"
   ]
  },
  {
   "cell_type": "code",
   "execution_count": null,
   "id": "421c44c5",
   "metadata": {},
   "outputs": [],
   "source": [
    "# [1,2,3,[4,5,6]] 으로 추가하시오\n",
    "# [1,2,3,4,5,6] 으로 추가하시오\n",
    "\n",
    "numbers = [1, 2, 3]"
   ]
  },
  {
   "cell_type": "code",
   "execution_count": null,
   "id": "29cdabde",
   "metadata": {},
   "outputs": [],
   "source": [
    "# 연습"
   ]
  },
  {
   "cell_type": "markdown",
   "id": "8949e281",
   "metadata": {},
   "source": [
    "- 정답\n",
    "<!-- 1. \n",
    "numbers.append([4,5,6])\n",
    "-->\n",
    "\n",
    "<!-- 2.\n",
    "numbers.extend([4,5,6])\n",
    "-->"
   ]
  },
  {
   "cell_type": "markdown",
   "id": "d8062f4a",
   "metadata": {},
   "source": [
    "### 1.4 인덱싱과 요소 갯수"
   ]
  },
  {
   "cell_type": "code",
   "execution_count": null,
   "id": "572b83c2",
   "metadata": {},
   "outputs": [],
   "source": [
    "# numbers에서 5를 추출하시오. 없을 경우 '5가 요소에 포함되지 않습니다'를 출력하시오\n",
    "\n",
    "numbers = [1, 2, 3, [1,2,3], 1, 2, 3,] "
   ]
  },
  {
   "cell_type": "code",
   "execution_count": null,
   "id": "0a611548",
   "metadata": {},
   "outputs": [],
   "source": [
    "# 연습"
   ]
  },
  {
   "cell_type": "markdown",
   "id": "24093a5e",
   "metadata": {},
   "source": [
    "- 정답\n",
    "<!-- 1. \n",
    "if 5 in numbers:\n",
    "    print(numbers.index(5))\n",
    "else:\n",
    "    print('5가 요소에 포함되지 않습니다')\n",
    "-->\n",
    "\n",
    "<!-- 2.이건 잘 안씀`\n",
    "if numbers.count(5):\n",
    "    print(numbers.index(5))\n",
    "else:\n",
    "    print('5가 요소에 포함되지 않습니다')\n",
    "-->"
   ]
  },
  {
   "cell_type": "markdown",
   "id": "548bffd9",
   "metadata": {},
   "source": [
    "### 1.5 원하는 요소 추출\n",
    "\n",
    "중요한 **리스트컴프리헨션** 있음"
   ]
  },
  {
   "cell_type": "code",
   "execution_count": null,
   "id": "1b9fd00d",
   "metadata": {},
   "outputs": [],
   "source": [
    "# numbers를 거꾸로 출력하시오\n",
    "# 짝수 인덱스 값을 출력하시오\n",
    "\n",
    "numbers = [1, 3, 5, 9, 10, 12, 13, 18, 19, 20]"
   ]
  },
  {
   "cell_type": "code",
   "execution_count": null,
   "id": "9bf392a9",
   "metadata": {},
   "outputs": [],
   "source": [
    "# 연습"
   ]
  },
  {
   "cell_type": "markdown",
   "id": "8dad3ed6",
   "metadata": {},
   "source": [
    "- 정답\n",
    "<!-- 1. \n",
    "print(numbers[::-1]) \n",
    "-->\n",
    "\n",
    "<!-- 2.\n",
    "print(numbers[::2])\n",
    "-->"
   ]
  },
  {
   "cell_type": "code",
   "execution_count": null,
   "id": "1a028c9d",
   "metadata": {},
   "outputs": [],
   "source": [
    "# numbers의 짝수 데이터를 출력하시오(짝수번째 아님)\n",
    "# numbers 에서 10이상인 요소만 추출"
   ]
  },
  {
   "cell_type": "code",
   "execution_count": null,
   "id": "1bf577a5",
   "metadata": {},
   "outputs": [],
   "source": [
    "# 연습"
   ]
  },
  {
   "cell_type": "markdown",
   "id": "3d603625",
   "metadata": {},
   "source": [
    "- 정답\n",
    "<!-- 1. \n",
    "[data for data in numbers if data%2==0] \n",
    "-->\n",
    "\n",
    "<!-- 2.\n",
    "[data for data in numbers if data>=10]\n",
    "-->"
   ]
  },
  {
   "cell_type": "code",
   "execution_count": null,
   "id": "b519abc2",
   "metadata": {},
   "outputs": [],
   "source": [
    "# fruits에서 과일의 글자가 5글자 이상인 과일만 추출\n",
    "# fruits 리스트의 과일 글자수\n",
    "\n",
    "fruits = ['orange', 'apple', 'mango', 'kiwi']"
   ]
  },
  {
   "cell_type": "code",
   "execution_count": null,
   "id": "8cb6df4e",
   "metadata": {},
   "outputs": [],
   "source": [
    "# 연습"
   ]
  },
  {
   "cell_type": "markdown",
   "id": "581ae23b",
   "metadata": {},
   "source": [
    "- 정답\n",
    "<!-- 1. \n",
    "[data for data in fruits if len(data)>=5]\n",
    "-->\n",
    "\n",
    "<!-- 2.\n",
    "[len(data) for data in fruits] \n",
    "-->"
   ]
  },
  {
   "cell_type": "code",
   "execution_count": null,
   "id": "f3a73967",
   "metadata": {},
   "outputs": [],
   "source": [
    "# 3이상인 요소들의 제곱을 추출 \n",
    "# 리스트 요소의 값의 2배를 추출\n",
    "\n",
    "L = [1,2,3,4,5]"
   ]
  },
  {
   "cell_type": "code",
   "execution_count": null,
   "id": "8ffb53a2",
   "metadata": {},
   "outputs": [],
   "source": [
    "# 연습"
   ]
  },
  {
   "cell_type": "markdown",
   "id": "fc65da7e",
   "metadata": {},
   "source": [
    "- 정답\n",
    "<!-- 1. \n",
    "[data**2 for data in L if data>=3]\n",
    "-->\n",
    "\n",
    "<!-- 2.\n",
    "[data*2 for data in L]\n",
    "-->"
   ]
  },
  {
   "cell_type": "markdown",
   "id": "2e451d34",
   "metadata": {},
   "source": [
    "### 1.6 요소 수정하기"
   ]
  },
  {
   "cell_type": "code",
   "execution_count": null,
   "id": "e910e8fe",
   "metadata": {},
   "outputs": [],
   "source": [
    "# numbers의 2를 222로 변경하기\n",
    "# 슬라이싱을 이용하여 2번째 인덱스까지 'a','b'로 수정\n",
    "\n",
    "numbers = [0,1,2,3,4,5,6,7,8,9]"
   ]
  },
  {
   "cell_type": "code",
   "execution_count": null,
   "id": "fa095f8c",
   "metadata": {},
   "outputs": [],
   "source": [
    "# 연습"
   ]
  },
  {
   "cell_type": "markdown",
   "id": "11bee32f",
   "metadata": {},
   "source": [
    "- 정답\n",
    "<!-- 1. \n",
    "numbers[2] = 222\n",
    "-->\n",
    "\n",
    "<!-- 2.\n",
    "numbers[0:2] = ['a','b']\n",
    "-->"
   ]
  },
  {
   "cell_type": "markdown",
   "id": "c5ff5223",
   "metadata": {},
   "source": [
    "### 1.7 요소삭제"
   ]
  },
  {
   "cell_type": "code",
   "execution_count": null,
   "id": "295ddace",
   "metadata": {},
   "outputs": [],
   "source": [
    "# numbers에서 9를 삭제하고 없을 시 '해당 데이터는 없는 item입니다'를 출력하시오\n",
    "\n",
    "numbers = [1,2,3,4,5]"
   ]
  },
  {
   "cell_type": "code",
   "execution_count": null,
   "id": "312d9a0e",
   "metadata": {},
   "outputs": [],
   "source": [
    "# 연습"
   ]
  },
  {
   "cell_type": "markdown",
   "id": "305e7878",
   "metadata": {},
   "source": [
    "- 정답\n",
    "<!-- 1. \n",
    "if 9 in numbers:\n",
    "    numbers.remove(9)\n",
    "else:\n",
    "    print('해당 데이터는 없는 item입니다')\n",
    "-->"
   ]
  },
  {
   "cell_type": "markdown",
   "id": "aa0ed23b",
   "metadata": {},
   "source": [
    "### 1.8 정렬하기"
   ]
  },
  {
   "cell_type": "code",
   "execution_count": 7,
   "id": "516af7aa",
   "metadata": {},
   "outputs": [],
   "source": [
    "# numbers를 변경하지 않고 정렬하시오\n",
    "# numbers 자체를 오름차순으로 변경하시오\n",
    "# numbers 자체를 내림차순으로 변경하시오\n",
    "\n",
    "numbers = [9, 5, 0, 8, 6]"
   ]
  },
  {
   "cell_type": "code",
   "execution_count": null,
   "id": "be2d4500",
   "metadata": {},
   "outputs": [],
   "source": [
    "# 연습"
   ]
  },
  {
   "cell_type": "markdown",
   "id": "232446ed",
   "metadata": {},
   "source": [
    "- 정답\n",
    "<!-- 1. \n",
    "print(sorted(numbers))\n",
    "print(numbers)\n",
    "-->\n",
    "\n",
    "<!-- 2.\n",
    "numbers.sort()\n",
    "print(numbers)\n",
    "-->\n",
    "\n",
    "<!-- 3.\n",
    "numbers.sort(reverse=True)\n",
    "print(numbers)\n",
    "-->"
   ]
  },
  {
   "cell_type": "markdown",
   "id": "6a490984",
   "metadata": {},
   "source": [
    "### 1.9 리스트 복제"
   ]
  },
  {
   "cell_type": "code",
   "execution_count": null,
   "id": "d999b257",
   "metadata": {},
   "outputs": [],
   "source": [
    "# 리스트를 복제해서 정렬하시오\n",
    "\n",
    "city = ['서울', '대전', '대구', '부산', '하남', '수원', '제주']"
   ]
  },
  {
   "cell_type": "code",
   "execution_count": null,
   "id": "1b7cc960",
   "metadata": {},
   "outputs": [],
   "source": [
    "# 연습"
   ]
  },
  {
   "cell_type": "markdown",
   "id": "339b3031",
   "metadata": {},
   "source": [
    "- 정답\n",
    "<!-- 1. \n",
    "temp = city.copy()\n",
    "temp.sort()\n",
    "print(\"정렬전 :\", city)\n",
    "print('정렬후 :', temp)\n",
    "-->"
   ]
  },
  {
   "cell_type": "markdown",
   "id": "8152f2c9",
   "metadata": {},
   "source": [
    "## 2절. 튜플"
   ]
  },
  {
   "cell_type": "code",
   "execution_count": null,
   "id": "286de143",
   "metadata": {},
   "outputs": [],
   "source": [
    "# 최소값, 최대값, 합을 구하시오\n",
    "\n",
    "numbers = (1, 2, 3)"
   ]
  },
  {
   "cell_type": "code",
   "execution_count": null,
   "id": "192e2e7d",
   "metadata": {},
   "outputs": [],
   "source": [
    "# 연습"
   ]
  },
  {
   "cell_type": "markdown",
   "id": "3c867a86",
   "metadata": {},
   "source": [
    "- 정답\n",
    "<!-- 1. \n",
    "min(numbers), max(numbers), sum(numbers)\n",
    "-->"
   ]
  },
  {
   "cell_type": "code",
   "execution_count": null,
   "id": "124f7fca",
   "metadata": {},
   "outputs": [],
   "source": [
    "# numbers에서 4번 인덱스를 추출하시오. 없을경우 '해당 데이터 없음'을 출력하시오."
   ]
  },
  {
   "cell_type": "code",
   "execution_count": null,
   "id": "5131027c",
   "metadata": {},
   "outputs": [],
   "source": [
    "# 연습"
   ]
  },
  {
   "cell_type": "markdown",
   "id": "f57041af",
   "metadata": {},
   "source": [
    "- 정답\n",
    "<!-- 1. \n",
    "if 4 in numbers:\n",
    "    numbers.index(4)\n",
    "else:\n",
    "    print('해당 데이터 없음')\n",
    "-->"
   ]
  },
  {
   "cell_type": "code",
   "execution_count": null,
   "id": "d51b0463",
   "metadata": {},
   "outputs": [],
   "source": [
    "# x,y 값의 차를 정수로 출력하는 함수식을 만드시오"
   ]
  },
  {
   "cell_type": "code",
   "execution_count": null,
   "id": "85fef953",
   "metadata": {},
   "outputs": [],
   "source": [
    "# 연습"
   ]
  },
  {
   "cell_type": "markdown",
   "id": "0bf601b5",
   "metadata": {},
   "source": [
    "- 정답\n",
    "<!-- 1. \n",
    "def diff(x, y):\n",
    "    return x-y if x>y else y-x  \n",
    "    \n",
    "diff(10, 20)\n",
    "-->"
   ]
  },
  {
   "cell_type": "code",
   "execution_count": null,
   "id": "ddd6cf9e",
   "metadata": {},
   "outputs": [],
   "source": [
    "# 짝수 요소들을 추출하여 제곱한 데이터를 튜플로 출력하시오\n",
    "\n",
    "numbers = (11, 2, 3, 4, 5, 6)"
   ]
  },
  {
   "cell_type": "code",
   "execution_count": null,
   "id": "13fad819",
   "metadata": {},
   "outputs": [],
   "source": [
    "# 연습"
   ]
  },
  {
   "cell_type": "markdown",
   "id": "0c437f22",
   "metadata": {},
   "source": [
    "- 정답\n",
    "<!-- 1. \n",
    "tuple(data**2 for data in numbers if data%2==0)\n",
    "-->"
   ]
  },
  {
   "cell_type": "markdown",
   "id": "f63db097",
   "metadata": {},
   "source": [
    "## 3절. 딕셔너리"
   ]
  },
  {
   "cell_type": "code",
   "execution_count": null,
   "id": "ffa85579",
   "metadata": {},
   "outputs": [],
   "source": [
    "# fruit를 추출하시오\n",
    "\n",
    "my_favorite = {'fruit':'apple', 'number':12, 'sport':'yoga'}"
   ]
  },
  {
   "cell_type": "code",
   "execution_count": null,
   "id": "6b788f52",
   "metadata": {},
   "outputs": [],
   "source": [
    "# 연습"
   ]
  },
  {
   "cell_type": "markdown",
   "id": "cc03e20b",
   "metadata": {},
   "source": [
    "- 정답\n",
    "<!-- 1. \n",
    "print(my_favorite['fruit']) # index에 키값을 입력. 이건 없으면 오류나서 이왕이면 get함수 쓰자\n",
    "print(my_favorite.get('fruit'))\n",
    "-->"
   ]
  },
  {
   "cell_type": "markdown",
   "id": "7950b024",
   "metadata": {},
   "source": [
    "### 딕셔너리 item 수정, 추가, 삭제¶"
   ]
  },
  {
   "cell_type": "code",
   "execution_count": null,
   "id": "40cda805",
   "metadata": {},
   "outputs": [],
   "source": [
    "# 'people' : '홍길동'을 추가하시오\n",
    "# 'subject':'수학','major':'AI'를 한번에 추가하시오\n",
    "# 'fruit'를 'mango'로 수정하시오\n",
    "# 'fruit':'kiwi', 'number':-99 로 한번에 수정하시오\n",
    "# 'subject'를 제거하시오\n",
    "# 'major'를 제거하시오(위에 것과 다른 방식으로)\n",
    "\n",
    "my_favorite = {'fruit':'apple', 'number':12, 'sport':'yoga'}"
   ]
  },
  {
   "cell_type": "code",
   "execution_count": null,
   "id": "c65a2a25",
   "metadata": {},
   "outputs": [],
   "source": [
    "# 연습"
   ]
  },
  {
   "cell_type": "markdown",
   "id": "9be9d47a",
   "metadata": {},
   "source": [
    "- 정답\n",
    "<!-- 1. \n",
    "my_favorite['people'] = '홍길동'\n",
    "-->\n",
    "\n",
    "<!-- 2.\n",
    "my_favorite.update({'subject':'수학','major':'AI'})\n",
    "-->\n",
    "\n",
    "<!-- 3. \n",
    "my_favorite['fruit'] = 'mango'\n",
    "-->\n",
    "\n",
    "<!-- 4.\n",
    "my_favorite.update(fruit='kiwi', number=-99)\n",
    "-->\n",
    "\n",
    "<!-- 5. 제거한 것이 없을 경우 에러나기 때문에 이렇게쓰기\n",
    "if 'subject' in my_favorite:      \n",
    "    del my_favorite['subject'] \n",
    "else:\n",
    "    print('subject 키가 존재하지 않습니다')\n",
    "-->\n",
    "\n",
    "<!-- 6.\n",
    "if 'major' in my_favorite:\n",
    "    print('제거한 데이터 :', my_favorite.pop('major'))\n",
    "else:\n",
    "    print('major 키가 존재하지 않습니다')\n",
    "-->"
   ]
  },
  {
   "cell_type": "code",
   "execution_count": null,
   "id": "69355140",
   "metadata": {},
   "outputs": [],
   "source": [
    "# for문을 이용한 튜플 출력\n",
    "# 0번째 : 홍길동\t1번째 : 30\t2번째 : 010-9999-9999 형식으로 출력\n",
    "\n",
    "my_tuple = ('홍길동', 30, '010-9999-9999')"
   ]
  },
  {
   "cell_type": "code",
   "execution_count": null,
   "id": "5024d7fc",
   "metadata": {},
   "outputs": [],
   "source": [
    "# 연습"
   ]
  },
  {
   "cell_type": "markdown",
   "id": "776fd776",
   "metadata": {},
   "source": [
    "- 정답\n",
    "<!-- 1. \n",
    "for idx in range(len(my_tuple)):\n",
    "    print(f'{idx}번째 : {my_tuple[idx]}', end='\\t')\n",
    "print()  \n",
    "for idx, data in enumerate(my_tuple):\n",
    "    print(f'{idx}번째 : {data}', end='\\t')\n",
    "-->"
   ]
  },
  {
   "cell_type": "markdown",
   "id": "d7a9c2c1",
   "metadata": {},
   "source": [
    "### 출력하기"
   ]
  },
  {
   "cell_type": "code",
   "execution_count": null,
   "id": "afa5db6d",
   "metadata": {},
   "outputs": [],
   "source": [
    "# for문을 이용한 딕셔너리 출력\n",
    "# key 출력\n",
    "# key, dictionary 모두 출력\n",
    "# 번호를 붙여서 key, dictionary 모두 출력\n",
    "\n",
    "my_dic = {'name':'홍길동', 'age':30, 'tel':'010-9999-9999'}"
   ]
  },
  {
   "cell_type": "code",
   "execution_count": null,
   "id": "feb81bf0",
   "metadata": {},
   "outputs": [],
   "source": [
    "# 연습"
   ]
  },
  {
   "cell_type": "markdown",
   "id": "12ebb726",
   "metadata": {},
   "source": [
    "- 정답\n",
    "<!-- 1. \n",
    "for key in my_dic:   \n",
    "    print(key, end = '\\t')\n",
    "-->\n",
    "\n",
    "<!-- 2.\n",
    "for key, value in my_dic.items():\n",
    "    print('{}:{}'.format(key,value), end='\\t')\n",
    "-->\n",
    "\n",
    "<!-- 3. \n",
    "for num, (key,value) in enumerate(my_dic.items()):\n",
    "    print('{}.{} : {}'.format(num+1, key, value))\n",
    "-->"
   ]
  },
  {
   "cell_type": "markdown",
   "id": "9a8419c1",
   "metadata": {},
   "source": [
    "### 복제하기"
   ]
  },
  {
   "cell_type": "code",
   "execution_count": null,
   "id": "ca2df6a9",
   "metadata": {},
   "outputs": [],
   "source": [
    "# my_favirite 을 복제하고 'fruit'는 '과일은 다 좋아'로 수정, 'people'은 '홍길동'을 추가하시오\n",
    "\n",
    "my_favorite = {'fruit':'apple', 'number':12}"
   ]
  },
  {
   "cell_type": "code",
   "execution_count": null,
   "id": "cd4ad561",
   "metadata": {},
   "outputs": [],
   "source": [
    "# 연습"
   ]
  },
  {
   "cell_type": "markdown",
   "id": "1d52abf3",
   "metadata": {},
   "source": [
    "- 정답\n",
    "<!-- 1. \n",
    "new_favorite['fruit'] = '과일은 다 좋아'\n",
    "new_favorite['people'] = '홍길동'\n",
    "print('원본 :', my_favorite)\n",
    "print('수정본 :', new_favorite)\n",
    "-->"
   ]
  },
  {
   "cell_type": "markdown",
   "id": "7990a077",
   "metadata": {},
   "source": [
    "## 4절. 셋\n",
    "### 추가하기"
   ]
  },
  {
   "cell_type": "code",
   "execution_count": null,
   "id": "3d92096d",
   "metadata": {},
   "outputs": [],
   "source": [
    "# 다음의 결과는?\n",
    "\n",
    "s = {1, 2, 3}\n",
    "s.add(True) \n",
    "print('True add 후 :', s)"
   ]
  },
  {
   "cell_type": "code",
   "execution_count": null,
   "id": "ba5d8130",
   "metadata": {},
   "outputs": [],
   "source": [
    "# 연습"
   ]
  },
  {
   "cell_type": "markdown",
   "id": "b98157c3",
   "metadata": {},
   "source": [
    "- 정답\n",
    "<!-- 1. \n",
    "True add 후 : {1, 2, 3}\n",
    "-->"
   ]
  },
  {
   "cell_type": "markdown",
   "id": "776455d8",
   "metadata": {},
   "source": [
    "### 삭제하기"
   ]
  },
  {
   "cell_type": "code",
   "execution_count": null,
   "id": "590e2ee9",
   "metadata": {},
   "outputs": [],
   "source": [
    "# s에서 5를 삭제하시오 \n",
    "\n",
    "s = {1, 2, 3, 1, 1}"
   ]
  },
  {
   "cell_type": "code",
   "execution_count": null,
   "id": "2fca9116",
   "metadata": {},
   "outputs": [],
   "source": [
    "# 연습"
   ]
  },
  {
   "cell_type": "markdown",
   "id": "a92452ab",
   "metadata": {},
   "source": [
    "- 정답\n",
    "<!-- 1. \n",
    "if 5 in s:\n",
    "    s.remove(5)\n",
    "else:\n",
    "    print('해당 데이터는 없습니다')\n",
    "-->"
   ]
  },
  {
   "cell_type": "code",
   "execution_count": null,
   "id": "8b3cf542",
   "metadata": {},
   "outputs": [],
   "source": [
    "# 아래처럼 출력하시오\n",
    "'''\n",
    "길동\n",
    "길자\n",
    "길숙\n",
    "\n",
    "'''\n",
    "\n",
    "names = {'길동', '길숙', '길자'}"
   ]
  },
  {
   "cell_type": "code",
   "execution_count": null,
   "id": "3e9e4289",
   "metadata": {},
   "outputs": [],
   "source": [
    "# 연습"
   ]
  },
  {
   "cell_type": "markdown",
   "id": "cedebf7e",
   "metadata": {},
   "source": [
    "- 정답\n",
    "<!-- 1. \n",
    "for name in names:\n",
    "    print(name)\n",
    "-->"
   ]
  },
  {
   "cell_type": "markdown",
   "id": "10e105cc",
   "metadata": {},
   "source": [
    "## 5절. enumerate"
   ]
  },
  {
   "cell_type": "code",
   "execution_count": null,
   "id": "5631b2f2",
   "metadata": {},
   "outputs": [],
   "source": [
    "# 아래처럼 출력하시오\n",
    "\n",
    "'''\n",
    "1. 길동님의 연락처는 02-999-9999이고, 서울 살아요\n",
    "2. 길자님의 연락처는 02-888-8888이고, 판교 살아요\n",
    "3. 길숙님의 연락처는 02-777-7777이고, 하남 살아요\n",
    "\n",
    "'''\n",
    "\n",
    "ames = ['길동', '길자', '길숙']\n",
    "tels = ['02-999-9999', '02-888-8888', '02-777-7777']\n",
    "adds = ['서울', '판교', '하남']"
   ]
  },
  {
   "cell_type": "code",
   "execution_count": null,
   "id": "14af50fe",
   "metadata": {},
   "outputs": [],
   "source": [
    "# 연습"
   ]
  },
  {
   "cell_type": "markdown",
   "id": "6c8bf218",
   "metadata": {},
   "source": [
    "- 정답\n",
    "<!-- 1. \n",
    "for idx in range(len(names)):\n",
    "    print('{}. {}님의 연락처는 {}이고, {} 살아요'.format(idx+1,\n",
    "                                             names[idx],\n",
    "                                             tels[idx],\n",
    "                                             adds[idx]))\n",
    "-->\n",
    "\n",
    "<!-- 2. zip을 쓰는 방식\n",
    "for idx, (name, tel, add) in enumerate(zip(names, tels, adds)):\n",
    "    print(f'{idx+1}. {name}님의 연락처는 {tel}이고, {add} 살아요')\n",
    "-->"
   ]
  },
  {
   "cell_type": "markdown",
   "id": "16f65983",
   "metadata": {},
   "source": [
    "## 6절. 연습문제"
   ]
  },
  {
   "cell_type": "code",
   "execution_count": null,
   "id": "02c9a7db",
   "metadata": {},
   "outputs": [],
   "source": [
    "# 다음 리스트가 주어졌을 경우 요구사항대로 코드를 작성하시오\n",
    "# 1.숫자 100 을 맨 뒤에 추가하세요\n",
    "\n",
    "numbers = [1,2,3,4,5,6,7,8,9,10]\n",
    "\n",
    "# 2.다음 리스트를 numbers 리스트 맨 뒤에 추가하세요\n",
    "data = [200, 300, 400, 500]\n",
    "\n",
    "# 3.처음 다섯 개 숫자만 출력하세요\n",
    "# 4.리스트에서 짝수 번째 데이터만 출력하세요\n",
    "# 5.짝수번째 데이터를 모두 0 으로 바꾸세요\n",
    "# 6.데이터를 역순으로 나열하세요 내림차순 정렬이 아닙니다"
   ]
  },
  {
   "cell_type": "code",
   "execution_count": null,
   "id": "754658da",
   "metadata": {},
   "outputs": [],
   "source": [
    "# 연습"
   ]
  },
  {
   "cell_type": "markdown",
   "id": "2c3e4c1e",
   "metadata": {},
   "source": [
    "- 정답\n",
    "<!-- 1. \n",
    "numbers.append(100)\n",
    "-->\n",
    "\n",
    "<!-- 2.\n",
    "numbers.extend(data)\n",
    "-->\n",
    "\n",
    "<!-- 3. \n",
    "numbers[:5]\n",
    "-->\n",
    "\n",
    "<!-- 4.\n",
    "numbers[::2]\n",
    "-->\n",
    "\n",
    "<!-- 5. \n",
    "numbers[::2] = [0] * len(numbers[::2])\n",
    "-->\n",
    "\n",
    "<!-- 6.\n",
    "numbers[::-1]\n",
    "-->"
   ]
  },
  {
   "cell_type": "code",
   "execution_count": null,
   "id": "aa2f80ae",
   "metadata": {},
   "outputs": [],
   "source": [
    "# 다음 딕셔너리 데이터가 주어졌을 경우 요구사항대로 코드를 작성하세요\n",
    "\n",
    "member_info = {'name':'홍길동', 'age':20, 'address':'서울시 마포구', 'score': 90}\n",
    "\n",
    "# 7.address 값을 출력하세요\n",
    "# 8.score 를 출력하고 member_info 딕셔너리에서 삭제하세요\n",
    "# 9.address 를 서울시 서대문구 로 변경하세요\n",
    "# 10.member_info 딕셔너리 데이터의 값을 리스트로 출력하세요"
   ]
  },
  {
   "cell_type": "code",
   "execution_count": null,
   "id": "ace19b5e",
   "metadata": {},
   "outputs": [],
   "source": [
    "# 연습"
   ]
  },
  {
   "cell_type": "markdown",
   "id": "29c18803",
   "metadata": {},
   "source": [
    "- 정답\n",
    "<!-- 1. \n",
    "member_info.get('address')\n",
    "-->\n",
    "\n",
    "<!-- 2.\n",
    "member_info.pop('score')\n",
    "member_info\n",
    "-->\n",
    "\n",
    "<!-- 3. \n",
    "member_info['address'] = '서울시 서대문구'\n",
    "-->\n",
    "\n",
    "<!-- 4.\n",
    "list(member_info.values())\n",
    "-->"
   ]
  },
  {
   "cell_type": "markdown",
   "id": "9a0867d9",
   "metadata": {},
   "source": [
    "# 4장. 제어문\n",
    "\n",
    "## 1절. 조건문(if)"
   ]
  },
  {
   "cell_type": "code",
   "execution_count": null,
   "id": "2e9a0d0b",
   "metadata": {},
   "outputs": [],
   "source": [
    "# 점수를 입력받아 학점출력(A, B, C, D, E, F, 유효하지 않는 점수)"
   ]
  },
  {
   "cell_type": "code",
   "execution_count": null,
   "id": "b4bcf543",
   "metadata": {},
   "outputs": [],
   "source": [
    "# 연습"
   ]
  },
  {
   "cell_type": "markdown",
   "id": "ba8a8653",
   "metadata": {},
   "source": [
    "- 정답\n",
    "<!-- 1. \n",
    "score = int(input('Enter your score > '))\n",
    "if 90 <= score <= 100:\n",
    "    print(f'입력하신 점수 {score}점은 A학점')\n",
    "elif 80<=score<90:\n",
    "    print(f'입력하신 점수 {score}점은 B학점')\n",
    "elif 70<=score<80:\n",
    "    print(f'입력하신 점수 {score}점은 C학점')\n",
    "elif 60<=score<70:\n",
    "    print(f'입력하신 점수 {score}점은 D학점')\n",
    "elif 0<=score<60:\n",
    "    print(f'입력하신 점수 {score}점은 F학점')\n",
    "else :\n",
    "    print(f'입력하신 점수 {score}점은 유효하지 않는 점수')\n",
    "-->"
   ]
  },
  {
   "cell_type": "markdown",
   "id": "77df7acb",
   "metadata": {},
   "source": [
    "## 2절. 반복문\n",
    "\n",
    "### 2.1 for-in 문"
   ]
  },
  {
   "cell_type": "code",
   "execution_count": null,
   "id": "70fec13f",
   "metadata": {},
   "outputs": [],
   "source": [
    "# 1. 1~100 까지 합을 계산하고 출력하시오(for문)\n",
    "# 2. 1~100까지 짝수들의 합을 계산하고 출력하시오"
   ]
  },
  {
   "cell_type": "code",
   "execution_count": null,
   "id": "42acb040",
   "metadata": {},
   "outputs": [],
   "source": [
    "# 연습"
   ]
  },
  {
   "cell_type": "markdown",
   "id": "6e2fc3c2",
   "metadata": {},
   "source": [
    "- 정답\n",
    "<!-- 1. \n",
    "sum = 0 \n",
    "for i in range(1,101):\n",
    "    sum += i  \n",
    "print('1~100까지 합은', sum)\n",
    "-->\n",
    "\n",
    "<!-- 2.\n",
    "sum = 0\n",
    "for i in range(1,101):\n",
    "    if i%2==0:\n",
    "        sum += i  \n",
    "print('1~100까지 짝수들의 합은', sum)\n",
    "-->"
   ]
  },
  {
   "cell_type": "markdown",
   "id": "a8844ff8",
   "metadata": {},
   "source": [
    "### 2.2 while 문"
   ]
  },
  {
   "cell_type": "code",
   "execution_count": null,
   "id": "9b8dc88c",
   "metadata": {},
   "outputs": [],
   "source": [
    "# 1~100까지 짝수들의 합을 계산하고 출력하시오(while문)"
   ]
  },
  {
   "cell_type": "code",
   "execution_count": null,
   "id": "ffd94689",
   "metadata": {},
   "outputs": [],
   "source": [
    "# 연습"
   ]
  },
  {
   "cell_type": "markdown",
   "id": "8ec2fec8",
   "metadata": {},
   "source": [
    "- 정답\n",
    "<!-- 1. \n",
    "sum = 0 # 누적변수\n",
    "i = 1   # i값 초기화. (for문에서는 넣을 필요 없었지만 while문 에서는 꼭 써줘야함)\n",
    "while i <= 100:\n",
    "    if i%2==0:\n",
    "        sum += i\n",
    "    i += 1\n",
    "else:\n",
    "    print('1~100까지 짝수의 합은', sum)\n",
    "-->"
   ]
  },
  {
   "cell_type": "code",
   "execution_count": null,
   "id": "28771c85",
   "metadata": {},
   "outputs": [],
   "source": [
    "# 사용자에게 두 정수를 입력받아, 작은수부터 큰수까지 홀수의 합을 누적해서 출력하시오\n",
    "\n",
    "# 두 정수를 입력\n",
    "# 두 정수중  작은수와 큰수\n",
    "# 누적"
   ]
  },
  {
   "cell_type": "code",
   "execution_count": null,
   "id": "d1b1384f",
   "metadata": {},
   "outputs": [],
   "source": [
    "# 연습"
   ]
  },
  {
   "cell_type": "markdown",
   "id": "94f447ca",
   "metadata": {},
   "source": [
    "- 정답\n",
    "<!-- 1. \n",
    "# 두 정수를 입력\n",
    "first = int(input('첫번째 정수?'))\n",
    "second = int(input('두번째 정수?'))\n",
    "\n",
    "# first에 작은값, second에 큰값\n",
    "if first > second:\n",
    "    first, second = second, first # 다중 변수 할당\n",
    "\n",
    "# 누적\n",
    "sum = 0\n",
    "for i in range(first, second+1):\n",
    "    if i%2: # (i%2==1) | (i%2==-1):\n",
    "        sum += i\n",
    "print(f'{first}~{second}까지 홀수들의 누적 합은 {sum}')\n",
    "-->"
   ]
  },
  {
   "cell_type": "code",
   "execution_count": null,
   "id": "3b6b3886",
   "metadata": {},
   "outputs": [],
   "source": [
    "# 1. 로또번호 6개를 추출후, 정렬하여 출력(1~45)\n",
    "# 2. set 이용하여 출력\n",
    "# 3. 1~45중 6개 뽑아 정렬\n",
    "\n",
    "import random # 랜덤 수를 가져오는 모듈\n",
    "random.randint(1,45) # 1~45의 정수 난수"
   ]
  },
  {
   "cell_type": "code",
   "execution_count": null,
   "id": "f9553ba4",
   "metadata": {},
   "outputs": [],
   "source": [
    "# 연습"
   ]
  },
  {
   "cell_type": "markdown",
   "id": "2db61240",
   "metadata": {},
   "source": [
    "- 정답\n",
    "<!-- 1. \n",
    "lotto_lst = []\n",
    "cnt = 0\n",
    "while len(lotto_lst) < 6:\n",
    "    temp = random.randint(1,45)\n",
    "    cnt += 1\n",
    "    if not temp in lotto_lst:  # not 은 True를 False로 False를 True로 바꿈. temp가 lotto_lst에 없으면 append해라는 말.\n",
    "        lotto_lst.append(temp)\n",
    "print('{}번 로또번호 추출함 : {}'.format(cnt , sorted(lotto_lst)))\n",
    "-->\n",
    "\n",
    "<!-- 2.\n",
    "lotto_set = set() # 빈 셋  # {}해두고 아무것도 안넣으면 딕셔너리로 인식함\n",
    "while len(lotto_set)<6: #lotto_set에 6개가 안되면 계속해. 6개가 되면 빠져나와 라는말.\n",
    "    lotto_set.add(random.randint(1,45))\n",
    "sorted(lotto_set) # 원래는 set이 sorted가 안되어서 list()로 감쌌어야했는데 지금은 알아서 리스트로 바꾸네 \n",
    "-->\n",
    "\n",
    "<!-- 3. \n",
    "sorted(random.sample(range(1,46),6)) \n",
    "\n",
    "# range 1부터 46앞까지 6개 랜덤으로 뽑아. 이건 하나씩 뽑는게 아니라 한꺼번에 6개를 추출하라는 명령이기 때문에 중복이 없음. 정렬만 하면 끝.\n",
    "-->"
   ]
  },
  {
   "cell_type": "markdown",
   "id": "9f574506",
   "metadata": {},
   "source": [
    "### 2.3 break, continue"
   ]
  },
  {
   "cell_type": "code",
   "execution_count": null,
   "id": "dd48131f",
   "metadata": {},
   "outputs": [],
   "source": [
    "# 숫자 찾기 게임\n",
    "\n",
    "'''\n",
    "1~100 사이의 정수 맞추기 프로그램\n",
    "(프로그램 안에서 random수가 만들어지고, 그 random수 맞추기)\n",
    "1단계 : 숫자를 못 맞추면 UP/DOWN을 출력하고, 맞추면 축하메세지 출력하고 종료.\n",
    "2단계 : 숫자를 못 맞추면 min(0), max(100)를 조정하고, 맞추면 축하메세지 출려하고 종료.\n",
    "3단계 : 2단계의 기회를 5회로 제한. 5회의 기회가 지나면 실패메세지 출력하고 종료.\n",
    "        5회 이내에 맞추면 축하메세지 출력하고 종료\n",
    "\n",
    "'''\n",
    "\n",
    "import random\n",
    "randomNum = random.randint(1, 100)"
   ]
  },
  {
   "cell_type": "code",
   "execution_count": null,
   "id": "15d2dbcc",
   "metadata": {},
   "outputs": [],
   "source": [
    "# 연습"
   ]
  },
  {
   "cell_type": "markdown",
   "id": "2cb1a66d",
   "metadata": {},
   "source": [
    "- 정답\n",
    "<!-- 1. \n",
    "print('컴퓨터가 발생한 random 수 : ', randomNum)\n",
    "while True:\n",
    "    inputNum = int(input('1~100 사이의 수를 맞춰 보세요 :'))\n",
    "    if (inputNum<1) | (inputNum>100):\n",
    "        print('수의 범위를 벗어났습니다')\n",
    "    elif randomNum < inputNum :\n",
    "        print('Down ↓')\n",
    "    elif randomNum > inputNum :\n",
    "        print('Up ↑')\n",
    "    else:\n",
    "        print('축하 축하 맞추셨습니다')\n",
    "        break\n",
    "print('Bye')\n",
    "-->\n",
    "\n",
    "<!-- 2. # break를 안쓸 경우 하는 방법. 이건 원하는 방식으로 해도 되는듯\n",
    "\n",
    "import random\n",
    "randomNum = random.randint(1, 100)\n",
    "print('컴퓨터가 발생한 random 수 : ', randomNum)\n",
    "inputNum = -1 #5번째에 들어있는 inputNum은 아직 정의가 안되어있기 때문에 1~100에 포함되지 않는 아무숫자를 넣는것\n",
    "while randomNum != inputNum:\n",
    "    inputNum = int(input('1~100 사이의 수를 맞춰 보세요 :'))\n",
    "    if (inputNum<1) | (inputNum>100):\n",
    "        print('수의 범위를 벗어났습니다')\n",
    "    elif randomNum < inputNum :\n",
    "        print('Down ↓')\n",
    "    elif randomNum > inputNum :\n",
    "        print('Up ↑')\n",
    "else:\n",
    "    print('축하 축하 맞추셨습니다')\n",
    "print('Bye')\n",
    "-->"
   ]
  },
  {
   "cell_type": "markdown",
   "id": "b9eacf42",
   "metadata": {},
   "source": [
    "## 3절. 중첩루프"
   ]
  },
  {
   "cell_type": "markdown",
   "id": "a9e52c01",
   "metadata": {},
   "source": [
    "# 여기부터 쓰기"
   ]
  },
  {
   "cell_type": "code",
   "execution_count": null,
   "id": "89461f4d",
   "metadata": {},
   "outputs": [],
   "source": []
  },
  {
   "cell_type": "code",
   "execution_count": null,
   "id": "9a9423ac",
   "metadata": {},
   "outputs": [],
   "source": [
    "# 연습"
   ]
  },
  {
   "cell_type": "code",
   "execution_count": null,
   "id": "24acfa07",
   "metadata": {},
   "outputs": [],
   "source": [
    "- 정답\n",
    "<!-- 1. \n",
    "\n",
    "-->\n",
    "\n",
    "<!-- 2.\n",
    "\n",
    "-->"
   ]
  },
  {
   "cell_type": "code",
   "execution_count": null,
   "id": "267a48fd",
   "metadata": {},
   "outputs": [],
   "source": []
  },
  {
   "cell_type": "code",
   "execution_count": null,
   "id": "e68a182c",
   "metadata": {},
   "outputs": [],
   "source": [
    "# 연습"
   ]
  },
  {
   "cell_type": "code",
   "execution_count": null,
   "id": "647921f4",
   "metadata": {},
   "outputs": [],
   "source": [
    "- 정답\n",
    "<!-- 1. \n",
    "\n",
    "-->\n",
    "\n",
    "<!-- 2.\n",
    "\n",
    "-->"
   ]
  },
  {
   "cell_type": "code",
   "execution_count": null,
   "id": "bb92875b",
   "metadata": {},
   "outputs": [],
   "source": []
  },
  {
   "cell_type": "code",
   "execution_count": null,
   "id": "88a11811",
   "metadata": {},
   "outputs": [],
   "source": [
    "# 연습"
   ]
  },
  {
   "cell_type": "code",
   "execution_count": null,
   "id": "9aed5b98",
   "metadata": {},
   "outputs": [],
   "source": [
    "- 정답\n",
    "<!-- 1. \n",
    "\n",
    "-->\n",
    "\n",
    "<!-- 2.\n",
    "\n",
    "-->"
   ]
  },
  {
   "cell_type": "code",
   "execution_count": null,
   "id": "25e7ab78",
   "metadata": {},
   "outputs": [],
   "source": []
  },
  {
   "cell_type": "code",
   "execution_count": null,
   "id": "e1a188dc",
   "metadata": {},
   "outputs": [],
   "source": [
    "# 연습"
   ]
  },
  {
   "cell_type": "code",
   "execution_count": null,
   "id": "0350456a",
   "metadata": {},
   "outputs": [],
   "source": [
    "- 정답\n",
    "<!-- 1. \n",
    "\n",
    "-->\n",
    "\n",
    "<!-- 2.\n",
    "\n",
    "-->"
   ]
  },
  {
   "cell_type": "markdown",
   "id": "b58c24d8",
   "metadata": {},
   "source": [
    "# 5장. 함수"
   ]
  },
  {
   "cell_type": "markdown",
   "id": "0ea3fa0c",
   "metadata": {},
   "source": [
    "## 4절. 람다식\n",
    "### 4.1 람다식 연습"
   ]
  },
  {
   "cell_type": "markdown",
   "id": "3d4d9b92",
   "metadata": {},
   "source": [
    "### 4.2 함수의 매개변수\n",
    "#### (1) map"
   ]
  },
  {
   "cell_type": "code",
   "execution_count": 29,
   "id": "821fb70a",
   "metadata": {},
   "outputs": [],
   "source": [
    "# 1. 2배로 출력(map)\n",
    "# 2. 2배로 출력(리스트컴프리헨션)\n",
    "\n",
    "list_data = [1,2,3,4,5,6,7,8,9]"
   ]
  },
  {
   "cell_type": "code",
   "execution_count": null,
   "id": "356e2aab",
   "metadata": {},
   "outputs": [],
   "source": [
    "# 연습"
   ]
  },
  {
   "cell_type": "markdown",
   "id": "0a68eb8d",
   "metadata": {},
   "source": [
    "- 정답\n",
    "<!-- 1. \n",
    "list(map(lambda x : x*2, list_data))\n",
    "-->\n",
    "\n",
    "<!-- 2.\n",
    "for data in map(lambda x : x*2, list_data)\n",
    "-->"
   ]
  },
  {
   "cell_type": "code",
   "execution_count": null,
   "id": "e8fa242b",
   "metadata": {},
   "outputs": [],
   "source": [
    "# prices = ['5,000', '5000', '6,000', '1000','5,000', '5000', '6,000', '1000’]를 [5000,5000,6000,1000]식으로 바꾸시오\n",
    "\n",
    "prices = ['5,000', '5000', '6,000', '1000','5,000', '5000', '6,000', '1000']\n"
   ]
  },
  {
   "cell_type": "code",
   "execution_count": 2,
   "id": "37cdcc9d",
   "metadata": {},
   "outputs": [],
   "source": [
    "# 연습"
   ]
  },
  {
   "cell_type": "markdown",
   "id": "877bc55b",
   "metadata": {},
   "source": [
    "- 정답\n",
    "<!-- 1. \n",
    "prices_int = map(lambda value : int(value.replace(',','')), prices)\n",
    "for price in prices_int:\n",
    "    print(price, end = ' ')\n",
    "-->"
   ]
  },
  {
   "cell_type": "code",
   "execution_count": null,
   "id": "5366e797",
   "metadata": {},
   "outputs": [],
   "source": [
    "'''\n",
    "예제2. : members1을 members2로 변환\n",
    "members1 = [{'name':'홍길동', 'birth':'2000-01-01’},\n",
    "            {'name':'신길동', 'birth':'1995-12-18'},]를\n",
    "members2 = [\n",
    "    {'name':'홍길동', 'year':2000, 'month':1,'day':1},\n",
    "    {'name':'신길동', 'year':1995, 'month':12, 'day':18},] 변환\n",
    "'''\n",
    "members1 = [{'name':'홍길동', 'birth':'2000-01-01'},\n",
    "            {'name':'신길동', 'birth':'1995-12-18'},]\n",
    "\n",
    "# setp 1. '2000-01-01' -> {'year':2000, 'month':1,'day':1}\n",
    "# setp 2. {'birth':'2000-01-01'} -> {'year':2000, 'month':1,'day':1}\n",
    "# setp 3. {'name':'홍길동', 'birth':'2000-01-01'} -> {'name':'홍길동', 'year':2000, 'month':1,'day':1}"
   ]
  },
  {
   "cell_type": "code",
   "execution_count": null,
   "id": "9aefed3b",
   "metadata": {},
   "outputs": [],
   "source": [
    "# 연습"
   ]
  },
  {
   "cell_type": "markdown",
   "id": "b3f26ec1",
   "metadata": {},
   "source": [
    "- 정답\n",
    "<!-- setp 1.  \n",
    "def split_date(data):\n",
    "    return {'year': int(data.split[0]), \n",
    "            'month': int(data.split[1]), \n",
    "            'day': int(data.split[2])}\n",
    "split_date('2000-01-01'), split_date('2025-04-04')\n",
    "-->\n",
    "\n",
    "<!-- setp 2.\n",
    "split_date = lambda data : {'year': int(data['birth'].split('-')[0]), \n",
    "                            'month': int(data['birth'].split('-')[1]), \n",
    "                            'day': int(data['birth'].split('-')[2])}\n",
    "\n",
    "split_date({'birth':'2000-01-01'}), split_date({'birth':'2025-04-04'})\n",
    "-->\n",
    "<!-- setp 3.\n",
    "members2 = list(map(lambda member : {\n",
    "    'name': member.get('name','이름없음'),\n",
    "    'year' : int(member.get('birth').split('-')[0]),\n",
    "    'month': int(member.get('birth').split('-')[1]),\n",
    "    'day'  : int(member.get('birth').split('-')[2]),}, members1))\n",
    "\n",
    "members2\n",
    "-->"
   ]
  },
  {
   "cell_type": "code",
   "execution_count": null,
   "id": "f685486e",
   "metadata": {},
   "outputs": [],
   "source": [
    "# 예제3. member2를 member1로 전환\n",
    "# {'year':2000, 'month':1,'day':1} -> '2000-01-01'\n",
    "# {'year':2000, 'month':1,'day':1} -> {'birth' : '2000-01-01'}\n",
    "# {'name':'Hong','year':2000, 'month':1,'day':1} -> {'name':'Hong','birth' : '2000-01-01'}\n",
    "\n",
    "members2 = [{'name': '홍길동', 'year': 2000, 'month': 1, 'day': 1},\n",
    " {'name': '신길동', 'year': 1995, 'month': 12, 'day': 18}]"
   ]
  },
  {
   "cell_type": "code",
   "execution_count": null,
   "id": "1a6f082a",
   "metadata": {},
   "outputs": [],
   "source": [
    "#연습"
   ]
  },
  {
   "cell_type": "markdown",
   "id": "843155d6",
   "metadata": {},
   "source": [
    "- 정답\n",
    "<!-- step 1. \n",
    "1.\n",
    "def join_date(data):\n",
    "    return '{year}-{month:02}-{day:02}'.format(year=data.get('year'),\n",
    "                                              month=data.get('month'),\n",
    "                                              day=data.get('day'))\n",
    "2.\n",
    "def join_date(data):\n",
    "    return '{year}-{month:02}-{day:02}'.format(**data)\n",
    "\n",
    "join_date({'year': 2000, 'month': 1, 'day': 1})\n",
    "-->\n",
    "\n",
    "<!-- step 2.\n",
    "def join_date(data):\n",
    "    return {'birth' : '{year}-{month:02}-{day:02}'.format(**data)}\n",
    "join_date({'year': 2000, 'month': 1, 'day': 1})\n",
    "-->\n",
    "\n",
    "<!-- 3.\n",
    "1.\n",
    "def members_preprocessing(member):\n",
    "    return{'name':member.get('name'),\n",
    "          'birth' : '{year}-{month:02}-{day:02}'.format(**member)}\n",
    "\n",
    "members_preprocessing({'name': 'hong', 'year': 2000, 'month': 1, 'day': 1})\n",
    "\n",
    "2.\n",
    "list(map(lambda member : {'name':member.get('name'),\n",
    "          'birth' : '{year}-{month:02}-{day:02}'.format(**member)}, members2))\n",
    "-->"
   ]
  },
  {
   "cell_type": "markdown",
   "id": "3e4adb0f",
   "metadata": {},
   "source": [
    "#### (2) filter"
   ]
  },
  {
   "cell_type": "code",
   "execution_count": null,
   "id": "80612477",
   "metadata": {},
   "outputs": [],
   "source": [
    "# 홀수만 출력하시오 (filter/리스트컴프리헨션)\n",
    "\n",
    "list_data = [1,2,3,4,5,6,7,8,9]"
   ]
  },
  {
   "cell_type": "code",
   "execution_count": null,
   "id": "4695c5ef",
   "metadata": {},
   "outputs": [],
   "source": [
    "# 연습"
   ]
  },
  {
   "cell_type": "markdown",
   "id": "edeb52f7",
   "metadata": {},
   "source": [
    "- 정답\n",
    "<!-- 1. \n",
    "list(filter(lambda value : value%2, list_data))\n",
    "-->\n",
    "\n",
    "<!-- 2.\n",
    "[value for value in list_data if value%2]\n",
    "-->"
   ]
  },
  {
   "cell_type": "code",
   "execution_count": null,
   "id": "b130d690",
   "metadata": {},
   "outputs": [],
   "source": [
    "# 예제 : 다음 리스트에서 소수점 이하가 0인 수만 추출하시오(filter/리스트컴프리헨션)\n",
    "\n",
    "L = [1, 1.2, 1.5, 3.0, 10.5, 100, -2.0, -12.2]"
   ]
  },
  {
   "cell_type": "code",
   "execution_count": null,
   "id": "939c2fa7",
   "metadata": {},
   "outputs": [],
   "source": [
    "# 연습"
   ]
  },
  {
   "cell_type": "markdown",
   "id": "1e4be551",
   "metadata": {},
   "source": [
    "- 정답\n",
    "<!-- 1. \n",
    "list(filter(lambda a : a%1==0, L))\n",
    "-->\n",
    "\n",
    "<!-- 2.\n",
    "[a for a in L if a%1==0]\n",
    "-->"
   ]
  },
  {
   "cell_type": "markdown",
   "id": "133e4434",
   "metadata": {},
   "source": [
    "#### (3) sort"
   ]
  },
  {
   "cell_type": "code",
   "execution_count": null,
   "id": "43aa3dbd",
   "metadata": {},
   "outputs": [],
   "source": [
    "# 1번째 item 기준으로 내림차순 정렬\n",
    "\n",
    "pairs = [(2, 'two'), (1,'one'), (3,'three'), (4, 'four')]"
   ]
  },
  {
   "cell_type": "code",
   "execution_count": null,
   "id": "afc0ca21",
   "metadata": {},
   "outputs": [],
   "source": [
    "# 연습"
   ]
  },
  {
   "cell_type": "markdown",
   "id": "487e4706",
   "metadata": {},
   "source": [
    "- 정답\n",
    "<!-- \n",
    "pairs.sort(key=lambda data : data[1], reverse=True)\n",
    "pairs \n",
    "-->"
   ]
  },
  {
   "cell_type": "code",
   "execution_count": null,
   "id": "e76fe304",
   "metadata": {},
   "outputs": [],
   "source": [
    "# 1. 0번째 item이 큰 순\n",
    "# 2. 합이 큰 순으로 정렬\n",
    "\n",
    "number_2d = [[9,9], [1,100], [10,200,2]]"
   ]
  },
  {
   "cell_type": "code",
   "execution_count": null,
   "id": "c441742c",
   "metadata": {},
   "outputs": [],
   "source": [
    "# 연습"
   ]
  },
  {
   "cell_type": "markdown",
   "id": "0fad7369",
   "metadata": {},
   "source": [
    "- 정답\n",
    "<!-- 1. \n",
    "number_2d.sort()\n",
    "print(number_2d) -->\n",
    "\n",
    "<!-- 2.\n",
    "number_2d.sort(key=lambda items : sum(items), reverse=True)\n",
    "print(number_2d) -->"
   ]
  },
  {
   "cell_type": "code",
   "execution_count": null,
   "id": "93d95923",
   "metadata": {},
   "outputs": [],
   "source": [
    "# 1. students를 name 순으로 정렬(ㄱㄴㄷ순 - 오름차순 정렬)\n",
    "# 2. studendts를 score 큰 순 정렬\n",
    "\n",
    "students = [{'name':'홍', 'score':99},\n",
    "           {'name':'김', 'score':50},\n",
    "           {'name':'박', 'score':77},\n",
    "           {'score':100},]"
   ]
  },
  {
   "cell_type": "code",
   "execution_count": null,
   "id": "bd52437d",
   "metadata": {},
   "outputs": [],
   "source": [
    "# 연습"
   ]
  },
  {
   "cell_type": "markdown",
   "id": "c3408f7b",
   "metadata": {},
   "source": [
    "- 정답\n",
    "<!-- 1. \n",
    "students.sort(key=lambda data : data.get('name','힣'))\n",
    "-->\n",
    "\n",
    "<!-- 2.\n",
    "students.sort(key=lambda data : data.get('score',0), reverse=True)\n",
    "-->"
   ]
  },
  {
   "cell_type": "code",
   "execution_count": null,
   "id": "f4a24a73",
   "metadata": {},
   "outputs": [],
   "source": [
    "# 1. no 기준으로 sort\n",
    "# 2. title 기준으로 sort\n",
    "\n",
    "books = \\\n",
    "   [{'no':2, 'title':'더트릭컬', 'writer':'폴빠','price':'19,800'},\n",
    "    {'no':1, 'title':'흔한남매', 'writer':'백난도', 'price':'15,120'},\n",
    "    {'no':3, 'title':'단 한 번의 삶', 'writer':'김영하', 'price':'15,120'},\n",
    "    {'no':4, 'title':'가격잘못', 'writer':'홍길동', 'price':'ㅁ'},\n",
    "    {'no':5, 'title':'가격이숫자', 'writer':'백난도', 'price':30200},\n",
    "    {'no':6, 'title':'가격이없음', 'writer':'이길동'},] "
   ]
  },
  {
   "cell_type": "code",
   "execution_count": null,
   "id": "3efeb4d0",
   "metadata": {},
   "outputs": [],
   "source": [
    "# 연습"
   ]
  },
  {
   "cell_type": "markdown",
   "id": "562d8e9c",
   "metadata": {},
   "source": [
    "- 정답\n",
    "<!-- 1. \n",
    "books.sort(key=lambda data : data.get('no'))\n",
    "books\n",
    "-->\n",
    "\n",
    "<!-- 2.\n",
    "books.sort(key=lambda data : data.get('title'))\n",
    "books\n",
    "-->"
   ]
  },
  {
   "cell_type": "code",
   "execution_count": null,
   "id": "531ae268",
   "metadata": {},
   "outputs": [],
   "source": [
    "# 1. 30200, '12,000', '5000', 'ㅁ', None    →    30200, 12000, 5000, 0, 0\n",
    "# 2. {'no':5, 'title':'가격이숫자', 'writer':'백난도', 'price':'12,000'}\n"
   ]
  },
  {
   "cell_type": "code",
   "execution_count": null,
   "id": "777aa8a2",
   "metadata": {},
   "outputs": [],
   "source": [
    "# 연습"
   ]
  },
  {
   "cell_type": "markdown",
   "id": "c9329c53",
   "metadata": {},
   "source": [
    "- 정답\n",
    "<!-- 1. \n",
    "def parse_int(price):\n",
    "    if isinstance(price, str) and price.replace(',','').isdigit(): #price가 str이면 ,를 빼. 그게 숫자냐?\n",
    "        return int(price.replace(',',''))\n",
    "    elif isinstance(price,int):\n",
    "        return price\n",
    "    else:\n",
    "        return 0\n",
    "print(parse_int('12,000'), parse_int(12), parse_int('ㅁ'), parse_int(None))\n",
    "\n",
    "람다식 변경\n",
    "\n",
    "parse_int = lambda price:\\\n",
    "    int(price.replace(',',''))\\\n",
    "        if isinstance(price,str) and price.replace(',','').isdigit() else\\\n",
    "        price if isinstance(price,int) else 0\n",
    "\n",
    "print(parse_int('12,000'), parse_int(12), parse_int('ㅁ'), parse_int(None))\n",
    "-->\n",
    "\n",
    "<!-- 2.\n",
    "parse_int = lambda book:\\\n",
    "    int(book.get('price').replace(',',''))\\\n",
    "        if isinstance(book.get('price'),str) and book.get('price').replace(',','').isdigit() else\\\n",
    "        book.get('price') if isinstance(book.get('price'),int) else 0\n",
    "                            \n",
    "parse_int({'no':5, 'title':'가격이숫자', 'writer':'백난도', 'price':'12,000'})  \n",
    "-->\n",
    "\n",
    "<!-- 최종. \n",
    "copyBooks = books.copy()\n",
    "copyBooks.sort(key=lambda book:\\\n",
    "                int(book.get('price').replace(',','')) \\\n",
    "               if isinstance(book.get('price'),str) and book.get('price').replace(',','').isdigit()\\\n",
    "               else book.get('price') if isinstance(book.get('price'),int) \\\n",
    "               else 0, reverse=True)\n",
    "copyBooks\n",
    "-->"
   ]
  },
  {
   "cell_type": "markdown",
   "id": "920d8b96",
   "metadata": {},
   "source": [
    "# 4장 실습문제"
   ]
  },
  {
   "cell_type": "code",
   "execution_count": null,
   "id": "b2eb14e5",
   "metadata": {},
   "outputs": [],
   "source": [
    "#"
   ]
  },
  {
   "cell_type": "code",
   "execution_count": null,
   "id": "90dae167",
   "metadata": {},
   "outputs": [],
   "source": [
    "# 연습"
   ]
  },
  {
   "cell_type": "markdown",
   "id": "b6501222",
   "metadata": {},
   "source": [
    "- 정답\n",
    "<!-- 1. \n",
    "\n",
    "-->\n",
    "\n",
    "<!-- 2.\n",
    "\n",
    "-->"
   ]
  },
  {
   "cell_type": "code",
   "execution_count": null,
   "id": "d95a52f7",
   "metadata": {},
   "outputs": [],
   "source": [
    "#"
   ]
  },
  {
   "cell_type": "code",
   "execution_count": null,
   "id": "14ab910c",
   "metadata": {},
   "outputs": [],
   "source": [
    "# 연습"
   ]
  },
  {
   "cell_type": "markdown",
   "id": "a39ad1a6",
   "metadata": {},
   "source": [
    "- 정답\n",
    "<!-- 1. \n",
    "\n",
    "-->\n",
    "\n",
    "<!-- 2.\n",
    "\n",
    "-->"
   ]
  },
  {
   "cell_type": "code",
   "execution_count": null,
   "id": "5528b906",
   "metadata": {},
   "outputs": [],
   "source": [
    "#"
   ]
  },
  {
   "cell_type": "code",
   "execution_count": null,
   "id": "8b5e7f29",
   "metadata": {},
   "outputs": [],
   "source": [
    "# 연습"
   ]
  },
  {
   "cell_type": "markdown",
   "id": "6629112f",
   "metadata": {},
   "source": [
    "- 정답\n",
    "<!-- 1. \n",
    "\n",
    "-->\n",
    "\n",
    "<!-- 2.\n",
    "\n",
    "-->"
   ]
  },
  {
   "cell_type": "code",
   "execution_count": null,
   "id": "717cad44",
   "metadata": {},
   "outputs": [],
   "source": [
    "#"
   ]
  },
  {
   "cell_type": "code",
   "execution_count": null,
   "id": "77acb804",
   "metadata": {},
   "outputs": [],
   "source": [
    "# 연습"
   ]
  },
  {
   "cell_type": "markdown",
   "id": "3d7fb302",
   "metadata": {},
   "source": [
    "- 정답\n",
    "<!-- 1. \n",
    "\n",
    "-->\n",
    "\n",
    "<!-- 2.\n",
    "\n",
    "-->"
   ]
  },
  {
   "cell_type": "code",
   "execution_count": null,
   "id": "60164dc9",
   "metadata": {},
   "outputs": [],
   "source": [
    "#"
   ]
  },
  {
   "cell_type": "code",
   "execution_count": null,
   "id": "ce77e4a8",
   "metadata": {},
   "outputs": [],
   "source": [
    "# 연습"
   ]
  },
  {
   "cell_type": "markdown",
   "id": "5792bdf6",
   "metadata": {},
   "source": [
    "- 정답\n",
    "<!-- 1. \n",
    "\n",
    "-->\n",
    "\n",
    "<!-- 2.\n",
    "\n",
    "-->"
   ]
  },
  {
   "cell_type": "code",
   "execution_count": null,
   "id": "91e53b2d",
   "metadata": {},
   "outputs": [],
   "source": [
    "#"
   ]
  },
  {
   "cell_type": "code",
   "execution_count": null,
   "id": "9924774c",
   "metadata": {},
   "outputs": [],
   "source": [
    "# 연습"
   ]
  },
  {
   "cell_type": "markdown",
   "id": "b8d2f204",
   "metadata": {},
   "source": [
    "- 정답\n",
    "<!-- 1. \n",
    "\n",
    "-->\n",
    "\n",
    "<!-- 2.\n",
    "\n",
    "-->"
   ]
  },
  {
   "cell_type": "code",
   "execution_count": null,
   "id": "407a9356",
   "metadata": {},
   "outputs": [],
   "source": []
  },
  {
   "cell_type": "code",
   "execution_count": null,
   "id": "175ec7df",
   "metadata": {},
   "outputs": [],
   "source": []
  },
  {
   "cell_type": "code",
   "execution_count": null,
   "id": "1a3c2654",
   "metadata": {},
   "outputs": [],
   "source": []
  },
  {
   "cell_type": "code",
   "execution_count": null,
   "id": "5088493f",
   "metadata": {},
   "outputs": [],
   "source": []
  },
  {
   "cell_type": "code",
   "execution_count": null,
   "id": "c9f13bf0",
   "metadata": {},
   "outputs": [],
   "source": []
  },
  {
   "cell_type": "code",
   "execution_count": null,
   "id": "1293d350",
   "metadata": {},
   "outputs": [],
   "source": []
  },
  {
   "cell_type": "code",
   "execution_count": null,
   "id": "6e79545f",
   "metadata": {},
   "outputs": [],
   "source": [
    "member_list = []\n",
    "dict_list = []\n",
    "with open('data/ch09_member.txt','r',encoding='utf-8') as f:\n",
    "    lines = f.readline()\n",
    "for line in lines:\n",
    "    data = line.strip"
   ]
  },
  {
   "cell_type": "code",
   "execution_count": null,
   "id": "d4903f26",
   "metadata": {},
   "outputs": [],
   "source": []
  },
  {
   "cell_type": "code",
   "execution_count": null,
   "id": "650fa609",
   "metadata": {},
   "outputs": [],
   "source": []
  },
  {
   "cell_type": "code",
   "execution_count": null,
   "id": "da7e7249",
   "metadata": {},
   "outputs": [],
   "source": []
  },
  {
   "cell_type": "code",
   "execution_count": null,
   "id": "c925e45e",
   "metadata": {},
   "outputs": [],
   "source": []
  },
  {
   "cell_type": "code",
   "execution_count": null,
   "id": "a740678a",
   "metadata": {},
   "outputs": [],
   "source": []
  },
  {
   "cell_type": "code",
   "execution_count": null,
   "id": "86961f39",
   "metadata": {},
   "outputs": [],
   "source": []
  },
  {
   "cell_type": "code",
   "execution_count": null,
   "id": "ac9678bf",
   "metadata": {},
   "outputs": [],
   "source": []
  }
 ],
 "metadata": {
  "kernelspec": {
   "display_name": "Python 3 (ipykernel)",
   "language": "python",
   "name": "python3"
  },
  "language_info": {
   "codemirror_mode": {
    "name": "ipython",
    "version": 3
   },
   "file_extension": ".py",
   "mimetype": "text/x-python",
   "name": "python",
   "nbconvert_exporter": "python",
   "pygments_lexer": "ipython3",
   "version": "3.10.9"
  },
  "toc": {
   "base_numbering": 1,
   "nav_menu": {},
   "number_sections": false,
   "sideBar": true,
   "skip_h1_title": false,
   "title_cell": "Table of Contents",
   "title_sidebar": "Contents",
   "toc_cell": false,
   "toc_position": {
    "height": "calc(100% - 180px)",
    "left": "10px",
    "top": "150px",
    "width": "165px"
   },
   "toc_section_display": true,
   "toc_window_display": false
  }
 },
 "nbformat": 4,
 "nbformat_minor": 5
}
