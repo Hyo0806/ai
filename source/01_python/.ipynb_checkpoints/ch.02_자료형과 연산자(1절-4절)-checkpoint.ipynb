{
 "cells": [
  {
   "cell_type": "code",
   "execution_count": 1,
   "id": "f71103d8",
   "metadata": {},
   "outputs": [
    {
     "data": {
      "text/html": [
       "\n",
       "<style>\n",
       "div.container{width:90% !important;}\n",
       "div.cell.code_cell.rendered{width:100%;}\n",
       "div.input_prompt{padding:0px;}\n",
       "div.CodeMirror {font-family:Consolas; font-size:12pt;}\n",
       "div.text_cell_render.rendered_html{font-size:12pt;}\n",
       "div.output {font-size:12pt; font-weight:bold;}\n",
       "div.input {font-family:Consolas; font-size:12pt;}\n",
       "div.prompt {min-width:70px;}\n",
       "div#toc-wrapper{padding-top:120px;}\n",
       "div.text_cell_render ul li{font-size:12pt;padding:5px;}\n",
       "table.dataframe{font-size:12px;}\n",
       "</style>\n"
      ],
      "text/plain": [
       "<IPython.core.display.HTML object>"
      ]
     },
     "metadata": {},
     "output_type": "display_data"
    }
   ],
   "source": [
    "from IPython.display import display, HTML\n",
    "display(HTML(\"\"\"\n",
    "<style>\n",
    "div.container{width:90% !important;}\n",
    "div.cell.code_cell.rendered{width:100%;}\n",
    "div.input_prompt{padding:0px;}\n",
    "div.CodeMirror {font-family:Consolas; font-size:12pt;}\n",
    "div.text_cell_render.rendered_html{font-size:12pt;}\n",
    "div.output {font-size:12pt; font-weight:bold;}\n",
    "div.input {font-family:Consolas; font-size:12pt;}\n",
    "div.prompt {min-width:70px;}\n",
    "div#toc-wrapper{padding-top:120px;}\n",
    "div.text_cell_render ul li{font-size:12pt;padding:5px;}\n",
    "table.dataframe{font-size:12px;}\n",
    "</style>\n",
    "\"\"\"))"
   ]
  },
  {
   "cell_type": "markdown",
   "id": "35750508",
   "metadata": {},
   "source": [
    "<b><font size=\"6\" color=\"red\"> 자료형과 연산자 <font><b>    \n",
    "\n",
    "# 1절.변수\n",
    "    \n",
    "- 변수 : 프로그램 작업 처리를 위해, 값을 저장할 수 있는 메모리 공간\n",
    "- 변수선언 : 파이썬은 변수 선언을 위한 타입이 없고, 별도의 선언 과정도 없음.\n",
    "    \n",
    "## 1.1 변수 할당\n",
    "    \n",
    "- 할당 연산자(=)를 이용해서 값을 할당하면 자료형(타입)이 셋팅\n",
    "- **파이썬에서의 모든 변수는 객체로 저장**"
   ]
  },
  {
   "cell_type": "code",
   "execution_count": 41,
   "id": "5a85308e",
   "metadata": {},
   "outputs": [
    {
     "name": "stdout",
     "output_type": "stream",
     "text": [
      "넓이 : 78.5\n"
     ]
    }
   ],
   "source": [
    "r=5\n",
    "area=3.14*r*r\n",
    "print(\"넓이 :\",area)"
   ]
  },
  {
   "cell_type": "code",
   "execution_count": 42,
   "id": "0ac54d15",
   "metadata": {},
   "outputs": [
    {
     "name": "stdout",
     "output_type": "stream",
     "text": [
      "넓이 : 78.53981633974483\n"
     ]
    }
   ],
   "source": [
    "import numpy as np #numpy패키지를 np라는 이름으로 사용 \n",
    "area = np.pi*r*r\n",
    "print(\"넓이 :\",area)"
   ]
  },
  {
   "cell_type": "code",
   "execution_count": 23,
   "id": "343fa1b7",
   "metadata": {},
   "outputs": [
    {
     "name": "stdout",
     "output_type": "stream",
     "text": [
      "area의 주소 : 2304425609552\n",
      "area의 타입 : <class 'float'>\n"
     ]
    }
   ],
   "source": [
    "print('area의 주소 :', id(area))\n",
    "print('area의 타입 :', type(area))"
   ]
  },
  {
   "cell_type": "code",
   "execution_count": 24,
   "id": "99bd3072",
   "metadata": {},
   "outputs": [
    {
     "data": {
      "text/plain": [
       "False"
      ]
     },
     "execution_count": 24,
     "metadata": {},
     "output_type": "execute_result"
    }
   ],
   "source": [
    "area.is_integer()"
   ]
  },
  {
   "cell_type": "code",
   "execution_count": 25,
   "id": "a33be1aa",
   "metadata": {},
   "outputs": [
    {
     "name": "stdout",
     "output_type": "stream",
     "text": [
      "area의 주소 : 2304341180944\n",
      "area의 타입 : <class 'int'>\n"
     ]
    }
   ],
   "source": [
    "area = 10\n",
    "print('area의 주소 :', id(area))\n",
    "print('area의 타입 :', type(area))"
   ]
  },
  {
   "cell_type": "code",
   "execution_count": 26,
   "id": "51783e95",
   "metadata": {},
   "outputs": [
    {
     "name": "stdout",
     "output_type": "stream",
     "text": [
      "area의 주소 : 2304455046032\n",
      "area의 타입 : <class 'str'>\n"
     ]
    }
   ],
   "source": [
    "area = \"파이썬\"\n",
    "print('area의 주소 :', id(area))\n",
    "print('area의 타입 :', type(area))"
   ]
  },
  {
   "cell_type": "markdown",
   "id": "384f3320",
   "metadata": {},
   "source": [
    "## 1.2 변수 이름 규칙\n",
    "\n",
    "- 문자로 시작\n",
    "- 문자(특수문자는 _ 외에는 불가), 숫자, _ 로 변수명 작성\n",
    "- 함수명은 변수명으로 가능하나 피한다. 꼭 써야한다면 str_식으로 사용한다.\n",
    "- 파이썬 예약어 (for, if 등)는 변수명 사용 불가\n",
    "- 한글 변수는 꼭 필요시에만 사용 "
   ]
  },
  {
   "cell_type": "code",
   "execution_count": 27,
   "id": "087beeeb",
   "metadata": {},
   "outputs": [
    {
     "name": "stdout",
     "output_type": "stream",
     "text": [
      "홍길동\n"
     ]
    }
   ],
   "source": [
    "이름=\"홍길동\" #비추\n",
    "print(이름)"
   ]
  },
  {
   "cell_type": "code",
   "execution_count": 28,
   "id": "3cb1e432",
   "metadata": {},
   "outputs": [
    {
     "name": "stdout",
     "output_type": "stream",
     "text": [
      "홍길동 홍길동\n"
     ]
    }
   ],
   "source": [
    "#member.name = \"홍길동\" #변수 내에 '.'사용 불가\n",
    "member_name = \"홍길동\"\n",
    "memberName = \"홍길동\"\n",
    "print(member_name, memberName)"
   ]
  },
  {
   "cell_type": "code",
   "execution_count": 29,
   "id": "bbe8fd01",
   "metadata": {},
   "outputs": [
    {
     "name": "stdout",
     "output_type": "stream",
     "text": [
      "<class 'complex'>\n"
     ]
    }
   ],
   "source": [
    "#숫자 : 정수, 실수, 복소수\n",
    "i = 1 + 3j # 복소수\n",
    "print(type(i))"
   ]
  },
  {
   "cell_type": "code",
   "execution_count": 30,
   "id": "60b0633c",
   "metadata": {},
   "outputs": [
    {
     "data": {
      "text/plain": [
       "True"
      ]
     },
     "execution_count": 30,
     "metadata": {},
     "output_type": "execute_result"
    }
   ],
   "source": [
    "isinstance(i, complex) # i변수가 complex 타입의 객체인지?"
   ]
  },
  {
   "cell_type": "code",
   "execution_count": 31,
   "id": "fac73c67",
   "metadata": {},
   "outputs": [
    {
     "data": {
      "text/plain": [
       "False"
      ]
     },
     "execution_count": 31,
     "metadata": {},
     "output_type": "execute_result"
    }
   ],
   "source": [
    "isinstance(i, int) # i변수가 int타입의 객체인지?"
   ]
  },
  {
   "cell_type": "markdown",
   "id": "70f5e4cc",
   "metadata": {},
   "source": [
    "## 1.3 다중 변수 선언"
   ]
  },
  {
   "cell_type": "code",
   "execution_count": null,
   "id": "be33e3f2",
   "metadata": {},
   "outputs": [],
   "source": [
    "a = 10\n",
    "b = 20"
   ]
  },
  {
   "cell_type": "code",
   "execution_count": 32,
   "id": "edf00205",
   "metadata": {},
   "outputs": [
    {
     "name": "stdout",
     "output_type": "stream",
     "text": [
      "10 20\n"
     ]
    }
   ],
   "source": [
    "a, b = 10, 20\n",
    "print(a, b)"
   ]
  },
  {
   "cell_type": "code",
   "execution_count": 33,
   "id": "c1184f69",
   "metadata": {},
   "outputs": [
    {
     "name": "stdout",
     "output_type": "stream",
     "text": [
      "20 30\n"
     ]
    }
   ],
   "source": [
    "a, b = b, a+b   # 다중 변수 할당시 순차적 할당이 아니고, 일괄 동시 할당\n",
    "print(a, b)"
   ]
  },
  {
   "cell_type": "markdown",
   "id": "1bd0f050",
   "metadata": {},
   "source": [
    "## 1.4 도움말"
   ]
  },
  {
   "cell_type": "code",
   "execution_count": 34,
   "id": "f9395114",
   "metadata": {},
   "outputs": [
    {
     "name": "stdout",
     "output_type": "stream",
     "text": [
      "Help on built-in function print in module builtins:\n",
      "\n",
      "print(...)\n",
      "    print(value, ..., sep=' ', end='\\n', file=sys.stdout, flush=False)\n",
      "    \n",
      "    Prints the values to a stream, or to sys.stdout by default.\n",
      "    Optional keyword arguments:\n",
      "    file:  a file-like object (stream); defaults to the current sys.stdout.\n",
      "    sep:   string inserted between values, default a space.\n",
      "    end:   string appended after the last value, default a newline.\n",
      "    flush: whether to forcibly flush the stream.\n",
      "\n"
     ]
    }
   ],
   "source": [
    "help(print)"
   ]
  },
  {
   "cell_type": "code",
   "execution_count": 40,
   "id": "b4ad4ce9",
   "metadata": {},
   "outputs": [],
   "source": [
    "# help빠져나오기 : q / 결과접기/펴기 : esc+o"
   ]
  },
  {
   "cell_type": "code",
   "execution_count": 35,
   "id": "59d717bc",
   "metadata": {},
   "outputs": [
    {
     "name": "stdout",
     "output_type": "stream",
     "text": [
      "\n"
     ]
    }
   ],
   "source": [
    "# 도움말 기능 : shift + tab 키\n",
    "print()"
   ]
  },
  {
   "cell_type": "code",
   "execution_count": 36,
   "id": "dda4495a",
   "metadata": {},
   "outputs": [],
   "source": [
    "def add(x, y=0):\n",
    "    '''\n",
    "    매개변수(x, y) 2개를 받아 두자리 숫자로 만들는 함수\n",
    "    x = 10의 자리수가 되고\n",
    "    y = 1의 자리수가 됨(default값 0)\n",
    "    '''\n",
    "    return x*10 + y"
   ]
  },
  {
   "cell_type": "code",
   "execution_count": 37,
   "id": "cebabe11",
   "metadata": {},
   "outputs": [
    {
     "data": {
      "text/plain": [
       "34"
      ]
     },
     "execution_count": 37,
     "metadata": {},
     "output_type": "execute_result"
    }
   ],
   "source": [
    "add(3,4)"
   ]
  },
  {
   "cell_type": "code",
   "execution_count": 38,
   "id": "a4d6770a",
   "metadata": {},
   "outputs": [
    {
     "data": {
      "text/plain": [
       "30"
      ]
     },
     "execution_count": 38,
     "metadata": {},
     "output_type": "execute_result"
    }
   ],
   "source": [
    "add(3)"
   ]
  },
  {
   "cell_type": "markdown",
   "id": "b69648db",
   "metadata": {},
   "source": [
    "# 2절. 화면i/o"
   ]
  },
  {
   "cell_type": "code",
   "execution_count": 39,
   "id": "7e4457d8",
   "metadata": {},
   "outputs": [],
   "source": [
    "# input() : 사용자로부터 값을 입력받기 위한 함수. 입력값은 문자(str)로 받음"
   ]
  },
  {
   "cell_type": "code",
   "execution_count": 2,
   "id": "fc7a2e4f",
   "metadata": {},
   "outputs": [
    {
     "name": "stdout",
     "output_type": "stream",
     "text": [
      "아무거나\n",
      "아무거나\n"
     ]
    }
   ],
   "source": [
    "first = input()\n",
    "print(first)"
   ]
  },
  {
   "cell_type": "code",
   "execution_count": 6,
   "id": "69d3cbd2",
   "metadata": {},
   "outputs": [
    {
     "name": "stdout",
     "output_type": "stream",
     "text": [
      "첫번째 숫자는?8\n",
      "두번째 숫자는?2\n"
     ]
    }
   ],
   "source": [
    "first = input('첫번째 숫자는?')\n",
    "second = input('두번째 숫자는?')"
   ]
  },
  {
   "cell_type": "code",
   "execution_count": 16,
   "id": "3e200507",
   "metadata": {},
   "outputs": [
    {
     "name": "stdout",
     "output_type": "stream",
     "text": [
      "두수의 합은 82\n"
     ]
    }
   ],
   "source": [
    "print('두수의 합은', first+second)"
   ]
  },
  {
   "cell_type": "code",
   "execution_count": 19,
   "id": "3ccf2a93",
   "metadata": {},
   "outputs": [
    {
     "name": "stdout",
     "output_type": "stream",
     "text": [
      "첫번째 숫자는?10\n",
      "두번째 숫자는?10\n"
     ]
    }
   ],
   "source": [
    "first = int(input('첫번째 숫자는?'))\n",
    "second = int(input('두번째 숫자는?'))"
   ]
  },
  {
   "cell_type": "code",
   "execution_count": 20,
   "id": "f1edf955",
   "metadata": {},
   "outputs": [
    {
     "name": "stdout",
     "output_type": "stream",
     "text": [
      "두수의 합은 20\n"
     ]
    }
   ],
   "source": [
    "print('두수의 합은', first+second)"
   ]
  },
  {
   "cell_type": "code",
   "execution_count": 18,
   "id": "0e12eee0",
   "metadata": {},
   "outputs": [
    {
     "name": "stdout",
     "output_type": "stream",
     "text": [
      "first,8,second,2\thello python\n"
     ]
    }
   ],
   "source": [
    "print('first',first,'second',second,sep=',',end='\\t')\n",
    "print('hello','python',sep=' ')"
   ]
  },
  {
   "cell_type": "markdown",
   "id": "8cdc94cf",
   "metadata": {},
   "source": [
    "# 3절. 기본 자료형\n",
    "- 자료형 : 변수가 가져야할 값의 형식. 자료형에 따라 값의 크기와 저장 방식 달라짐.\n",
    "- 자료형에 따라 수행할 수 있는 명령어들이 달라짐.\n",
    "    - `숫자` : int, float(소수점 ex)4.0), complex(허수부 j)\n",
    "    - `문자` : str('',\"\")\n",
    "    - `논리` : bool(true/false)\n",
    "    \n",
    "## 3.1 숫자형"
   ]
  },
  {
   "cell_type": "code",
   "execution_count": 43,
   "id": "5bada774",
   "metadata": {},
   "outputs": [
    {
     "name": "stdout",
     "output_type": "stream",
     "text": [
      "9223372036854775807\n"
     ]
    }
   ],
   "source": [
    "import sys\n",
    "print(sys.maxsize) #정수의 최댓값 : 2**63-1 (파이썬에서 **은 제곱을 뜻함)"
   ]
  },
  {
   "cell_type": "code",
   "execution_count": 44,
   "id": "7dd1552c",
   "metadata": {},
   "outputs": [
    {
     "data": {
      "text/plain": [
       "9223372036854775807"
      ]
     },
     "execution_count": 44,
     "metadata": {},
     "output_type": "execute_result"
    }
   ],
   "source": [
    "2**63-1"
   ]
  },
  {
   "cell_type": "code",
   "execution_count": 50,
   "id": "74c33890",
   "metadata": {},
   "outputs": [
    {
     "name": "stdout",
     "output_type": "stream",
     "text": [
      "9223372036854785807\n",
      "<class 'int'>\n"
     ]
    }
   ],
   "source": [
    "i = sys.maxsize + 10000\n",
    "print(i)\n",
    "print(type(i))"
   ]
  },
  {
   "cell_type": "code",
   "execution_count": 51,
   "id": "caddb89d",
   "metadata": {},
   "outputs": [
    {
     "name": "stdout",
     "output_type": "stream",
     "text": [
      "1.2e-20\n",
      "1.2e+20\n"
     ]
    }
   ],
   "source": [
    "# f = 0.000000000000000000012\n",
    "f = 1.2e-20 # 지수형 1.2*10의 -20승\n",
    "print(f)\n",
    "b = 1.2e20 # 지수형 1.2의 10의 20승\n",
    "print(b)"
   ]
  },
  {
   "cell_type": "code",
   "execution_count": 52,
   "id": "f30945ac",
   "metadata": {},
   "outputs": [
    {
     "name": "stdout",
     "output_type": "stream",
     "text": [
      "f= 2.0\n"
     ]
    }
   ],
   "source": [
    "# 파이썬에서는 /의 결과는 무조건 실수\n",
    "f = 4/2\n",
    "print('f=',f)"
   ]
  },
  {
   "cell_type": "code",
   "execution_count": 53,
   "id": "e61b1f50",
   "metadata": {},
   "outputs": [
    {
     "name": "stdout",
     "output_type": "stream",
     "text": [
      "f= 1\n",
      "f= 1\n"
     ]
    }
   ],
   "source": [
    "# 자바나 C, C++처럼 정수/정수 결과를 정수로\n",
    "f = int(3/2) # int() : int로 형변환(내림)\n",
    "print('f=', f)\n",
    "f = 3//2 # 몫연산자\n",
    "print('f=',f)"
   ]
  },
  {
   "cell_type": "markdown",
   "id": "46a24d7e",
   "metadata": {},
   "source": [
    "## 3.2 문자형\n",
    "\n",
    "- 문자형은 홑따옴표('') 또는 겹따옴표 (\"\") 사용"
   ]
  },
  {
   "cell_type": "code",
   "execution_count": 60,
   "id": "e413ad09",
   "metadata": {},
   "outputs": [
    {
     "name": "stdout",
     "output_type": "stream",
     "text": [
      "홍길동\"짱\" 서울시 관악구\"신림\"\n"
     ]
    }
   ],
   "source": [
    "#name = '홍길동\\'짱\\'' #홍길동\"짱\"\n",
    "name = '홍길동\"짱\"'\n",
    "address = '서울시 관악구\"신림\"'\n",
    "print(name, address)"
   ]
  },
  {
   "cell_type": "code",
   "execution_count": 61,
   "id": "a474daa7",
   "metadata": {},
   "outputs": [
    {
     "name": "stdout",
     "output_type": "stream",
     "text": [
      "가독성\n",
      "떨어짐\n",
      "\n"
     ]
    }
   ],
   "source": [
    "#escape 문자(탈출문자) : \\n \\t \\r\n",
    "text = '가독성\\n떨어짐\\n'\n",
    "print(text)"
   ]
  },
  {
   "cell_type": "code",
   "execution_count": 64,
   "id": "7031c38a",
   "metadata": {},
   "outputs": [
    {
     "name": "stdout",
     "output_type": "stream",
     "text": [
      "이렇게 작성하면\n",
      "여러줄 작성해도\n",
      "잘보임\n"
     ]
    }
   ],
   "source": [
    "text = '''이렇게 작성하면\n",
    "여러줄 작성해도\n",
    "잘보임'''\n",
    "print(text)"
   ]
  },
  {
   "cell_type": "markdown",
   "id": "85e0dfc3",
   "metadata": {},
   "source": [
    "### ※문자열 연산(+,*)"
   ]
  },
  {
   "cell_type": "code",
   "execution_count": 65,
   "id": "dfca2795",
   "metadata": {},
   "outputs": [
    {
     "name": "stdout",
     "output_type": "stream",
     "text": [
      "홍길동동해번쩍\n",
      "홍길동 동해번쩍\n"
     ]
    }
   ],
   "source": [
    "'''\n",
    "    여러 줄 주석 용도\n",
    "    2025.09.12 문자열 연산 by 아무개\n",
    "'''\n",
    "name1=\"홍길동\"\n",
    "name2=\"동해번쩍\"\n",
    "print(name1+name2)\n",
    "print(name1, name2)"
   ]
  },
  {
   "cell_type": "code",
   "execution_count": 67,
   "id": "4a59ba10",
   "metadata": {},
   "outputs": [
    {
     "name": "stdout",
     "output_type": "stream",
     "text": [
      "홍길동홍길동홍길동\n"
     ]
    }
   ],
   "source": [
    "print(name1*3)"
   ]
  },
  {
   "cell_type": "markdown",
   "id": "dcbe914d",
   "metadata": {},
   "source": [
    "### ※row 데이터\n",
    "\n",
    "- 용도 : 정규표현식 이용, 디렉토리 경로를 표현시 이용"
   ]
  },
  {
   "cell_type": "code",
   "execution_count": 71,
   "id": "4ed55bdc",
   "metadata": {},
   "outputs": [
    {
     "name": "stdout",
     "output_type": "stream",
     "text": [
      "hello\\nworld\n"
     ]
    }
   ],
   "source": [
    "# raw데이터 : 데이터 처리시 이스케이프 문자(\\n, \\t, \\', \\\")를 그대로 저장\n",
    "print(r'hello\\nworld')"
   ]
  },
  {
   "cell_type": "markdown",
   "id": "0f12d755",
   "metadata": {},
   "source": [
    "정규표현식(regex)\n",
    "\n",
    "    1. 참조 : https://ko.wikipedia.org/wiki/ 위키백과\n",
    "    2. 간략문법\n",
    "        \\b (숫자와 매치. [0-9]와 동일)\n",
    "        \\D (숫자가 아닌 것)\n",
    "        \\w (영문자나 숫자 [a-zA-Z0-9]와 동일)\n",
    "        \\W (영문자나 숫자가 아닌 문자) \n",
    "        . (문자) \n",
    "        \\. (.) \n",
    "        \\- (-) \n",
    "        {2,} (2번 이상 반복)\n",
    "        {2, 4} (2~4회 반복) \n",
    "        ?      (0번이나 1번 의미) \n",
    "        +      (1번 이상 반복) \n",
    "        *      (0번 이상 반복) \n",
    "        \n",
    "    3.정규표현식 연습장 : https://regexr.com/\n",
    "        ex) 전화번호 : 02 888 7777 / 028887777 / 010-9999-9999 / 010.9999.9999 / 02)999-9999\n",
    "            \\d{2,3}[ \\-\\.)]?\\d{3,4}[ \\-\\.]?\\d{4}\n",
    "            (02|031|010)[ \\-\\.)]?\\d{3,4}[ \\-\\.]?\\d{4}\n",
    "            0\\d{1,2}[ \\-\\.)]?\\d{3,4}[ \\-\\.]?\\d{4}\n",
    "        ex) 이메일 : abc12@naver.com / abc12@sns.co.kr\n",
    "            \\w+@\\w+(\\.\\w+){1,2}\n",
    "        ex) 주민번호 : 981212-1052525\n",
    "             \\d{2}(0[1-9]|1[0-2])(0[1-9]|[12]\\d|30|31)-[1-4]\\d{6}\n",
    "    4.소스 구현"
   ]
  },
  {
   "cell_type": "code",
   "execution_count": 72,
   "id": "4db54664",
   "metadata": {},
   "outputs": [
    {
     "name": "stdout",
     "output_type": "stream",
     "text": [
      "이름:홍길동, 주소:서울, 전화:02-888-8888, 핸드폰:010-9999-9999, 특징:동해번쩍 서해번쩍혈액형:Bㅋㅋ ㅋㅋzz\n"
     ]
    }
   ],
   "source": [
    "import re\n",
    "data = \"이름:홍길동, 주소:서울, 전화:02-888-8888, \\\n",
    "핸드폰:010-9999-9999, 특징:동해번쩍 서해번쩍\\\n",
    "혈액형:Bㅋㅋ ㅋㅋzz\"\n",
    "print(data)"
   ]
  },
  {
   "cell_type": "code",
   "execution_count": 75,
   "id": "63d93a08",
   "metadata": {},
   "outputs": [
    {
     "data": {
      "text/plain": [
       "['02-888-8888', '010-9999-9999']"
      ]
     },
     "execution_count": 75,
     "metadata": {},
     "output_type": "execute_result"
    }
   ],
   "source": [
    "# 정규표현식 처리에서는 raw데이터 처리를 하지 않아도 실행은 되나\n",
    "# 실수를 줄이고, 가독성을 높이는 용도르 raw 데이터 처리를 사용\n",
    "tel_pattern = r\"0\\d{1,2}[ \\-\\.)]?\\d{3,4}[ \\-\\.]?\\d{4}\"\n",
    "# 해당 패턴을 다 찾아줌. 없으면 빈 list\n",
    "tels = re.findall(tel_pattern, data) \n",
    "tels"
   ]
  },
  {
   "cell_type": "code",
   "execution_count": 76,
   "id": "cfb22fcc",
   "metadata": {},
   "outputs": [
    {
     "data": {
      "text/plain": [
       "[]"
      ]
     },
     "execution_count": 76,
     "metadata": {},
     "output_type": "execute_result"
    }
   ],
   "source": [
    "email_pattern = r\"\\w+@\\w+(\\.\\w+){1,2}\"\n",
    "emails = re.findall(email_pattern, data)\n",
    "emails"
   ]
  },
  {
   "cell_type": "code",
   "execution_count": 77,
   "id": "50e92f28",
   "metadata": {},
   "outputs": [
    {
     "data": {
      "text/plain": [
       "<re.Match object; span=(18, 29), match='02-888-8888'>"
      ]
     },
     "execution_count": 77,
     "metadata": {},
     "output_type": "execute_result"
    }
   ],
   "source": [
    "# 정규표현식 패턴과 처음 match되는 것을 찾아줘\n",
    "firstTel = re.search(tel_pattern, data)\n",
    "firstTel"
   ]
  },
  {
   "cell_type": "code",
   "execution_count": 78,
   "id": "0c0ea4c0",
   "metadata": {},
   "outputs": [
    {
     "name": "stdout",
     "output_type": "stream",
     "text": [
      "02-888-8888\n",
      "02-888-8888\n"
     ]
    }
   ],
   "source": [
    "print(data[18:29]) # 문자열 슬라이싱\n",
    "print(firstTel.group(0))"
   ]
  },
  {
   "cell_type": "code",
   "execution_count": 79,
   "id": "5aa22dcd",
   "metadata": {},
   "outputs": [
    {
     "data": {
      "text/plain": [
       "<re.Match object; span=(18, 29), match='02-888-8888'>"
      ]
     },
     "execution_count": 79,
     "metadata": {},
     "output_type": "execute_result"
    }
   ],
   "source": [
    "tel_pattern = r\"(\\d{2,3})-(\\d{3,4})-(\\d{4})\"\n",
    "\n",
    "firstPhone = re.search(tel_pattern, data)\n",
    "firstPhone"
   ]
  },
  {
   "cell_type": "code",
   "execution_count": 80,
   "id": "d0cc586f",
   "metadata": {},
   "outputs": [
    {
     "name": "stdout",
     "output_type": "stream",
     "text": [
      "전체 전화번호 : 02-888-8888\n",
      "국번 : 02\n",
      "중간번호 : 888\n",
      "끝번호 : 8888\n"
     ]
    }
   ],
   "source": [
    "print('전체 전화번호 :', firstPhone.group(0))\n",
    "print('국번 :', firstPhone.group(1))\n",
    "print('중간번호 :', firstPhone.group(2))\n",
    "print('끝번호 :', firstPhone.group(3))"
   ]
  },
  {
   "cell_type": "code",
   "execution_count": 81,
   "id": "75e286e8",
   "metadata": {},
   "outputs": [
    {
     "data": {
      "text/plain": [
       "'이름홍길동 주소서울 전화028888888 핸드폰01099999999 특징동해번쩍 서해번쩍혈액형B '"
      ]
     },
     "execution_count": 81,
     "metadata": {},
     "output_type": "execute_result"
    }
   ],
   "source": [
    "# data에서 특정한 데이터 없애기\n",
    "re.sub(\"[^가-힣0-9A-Z\\s]\", '', data)"
   ]
  },
  {
   "cell_type": "code",
   "execution_count": null,
   "id": "09e870d0",
   "metadata": {},
   "outputs": [],
   "source": []
  }
 ],
 "metadata": {
  "kernelspec": {
   "display_name": "Python 3 (ipykernel)",
   "language": "python",
   "name": "python3"
  },
  "language_info": {
   "codemirror_mode": {
    "name": "ipython",
    "version": 3
   },
   "file_extension": ".py",
   "mimetype": "text/x-python",
   "name": "python",
   "nbconvert_exporter": "python",
   "pygments_lexer": "ipython3",
   "version": "3.10.9"
  },
  "toc": {
   "base_numbering": 1,
   "nav_menu": {},
   "number_sections": false,
   "sideBar": true,
   "skip_h1_title": false,
   "title_cell": "Table of Contents",
   "title_sidebar": "Contents",
   "toc_cell": false,
   "toc_position": {
    "height": "calc(100% - 180px)",
    "left": "10px",
    "top": "150px",
    "width": "190px"
   },
   "toc_section_display": true,
   "toc_window_display": true
  }
 },
 "nbformat": 4,
 "nbformat_minor": 5
}
