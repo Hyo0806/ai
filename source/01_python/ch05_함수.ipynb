{
 "cells": [
  {
   "cell_type": "code",
   "execution_count": 1,
   "id": "20c116c9",
   "metadata": {},
   "outputs": [
    {
     "data": {
      "text/html": [
       "\n",
       "<style>\n",
       "div.container{width:90% !important;}\n",
       "div.cell.code_cell.rendered{width:100%;}\n",
       "div.input_prompt{padding:0px;}\n",
       "div.CodeMirror {font-family:Consolas; font-size:12pt;}\n",
       "div.text_cell_render.rendered_html{font-size:12pt;}\n",
       "div.output {font-size:12pt; font-weight:bold;}\n",
       "div.input {font-family:Consolas; font-size:12pt;}\n",
       "div.prompt {min-width:70px;}\n",
       "div#toc-wrapper{padding-top:120px;}\n",
       "div.text_cell_render ul li{font-size:12pt;padding:5px;}\n",
       "table.dataframe{font-size:12px;}\n",
       "</style>\n"
      ],
      "text/plain": [
       "<IPython.core.display.HTML object>"
      ]
     },
     "metadata": {},
     "output_type": "display_data"
    }
   ],
   "source": [
    "from IPython.display import display, HTML\n",
    "display(HTML(\"\"\"\n",
    "<style>\n",
    "div.container{width:90% !important;}\n",
    "div.cell.code_cell.rendered{width:100%;}\n",
    "div.input_prompt{padding:0px;}\n",
    "div.CodeMirror {font-family:Consolas; font-size:12pt;}\n",
    "div.text_cell_render.rendered_html{font-size:12pt;}\n",
    "div.output {font-size:12pt; font-weight:bold;}\n",
    "div.input {font-family:Consolas; font-size:12pt;}\n",
    "div.prompt {min-width:70px;}\n",
    "div#toc-wrapper{padding-top:120px;}\n",
    "div.text_cell_render ul li{font-size:12pt;padding:5px;}\n",
    "table.dataframe{font-size:12px;}\n",
    "</style>\n",
    "\"\"\"))"
   ]
  },
  {
   "cell_type": "markdown",
   "id": "d0af879a",
   "metadata": {},
   "source": [
    "<b><font size=\"6\" color=\"red\"> ch05. 함수 </font></b>\n",
    "\n",
    "- 반복해서 사용할 코드를 묶어 놓고 그것에 이름을 붙인 것\n",
    "- 오버로딩 불가(같은 이름의 함수는 덮어씀)\n",
    "- 함수 정의\n",
    "\n",
    "```\n",
    "\n",
    "def 함수명([매개변수1, 매개변수2, ...]):\n",
    "    명령어1\n",
    "    명령어2...\n",
    "\n",
    "```\n",
    "\n",
    "# 1절. 함수의 정의 및 사용\n",
    "\n",
    "## 1.1 함수 정의"
   ]
  },
  {
   "cell_type": "code",
   "execution_count": 2,
   "id": "a160eae9",
   "metadata": {},
   "outputs": [],
   "source": [
    "def my_message(x, msg): # msg를 x번 출력하는 함수 정의\n",
    "    for i in range(x):  \n",
    "        print(i, msg)"
   ]
  },
  {
   "cell_type": "code",
   "execution_count": 3,
   "id": "442b4689",
   "metadata": {},
   "outputs": [
    {
     "name": "stdout",
     "output_type": "stream",
     "text": [
      "0 Hello\n",
      "1 Hello\n",
      "2 Hello\n"
     ]
    }
   ],
   "source": [
    "# 함수 사용 == 함수 호출\n",
    "\n",
    "my_message(3, 'Hello')"
   ]
  },
  {
   "cell_type": "code",
   "execution_count": 5,
   "id": "72bfed79",
   "metadata": {},
   "outputs": [
    {
     "name": "stdout",
     "output_type": "stream",
     "text": [
      "0 Hello\n",
      "1 Hello\n",
      "0 Python\n",
      "1 Python\n",
      "2 Python\n"
     ]
    }
   ],
   "source": [
    "# 함수 이름 변경 (함수 복사)\n",
    "\n",
    "my_msg = my_message\n",
    "\n",
    "my_message(2, 'Hello')\n",
    "my_msg(3, 'Python')"
   ]
  },
  {
   "cell_type": "code",
   "execution_count": 6,
   "id": "1b3b68be",
   "metadata": {},
   "outputs": [
    {
     "data": {
      "text/plain": [
       "(function, function)"
      ]
     },
     "execution_count": 6,
     "metadata": {},
     "output_type": "execute_result"
    }
   ],
   "source": [
    "type(my_msg), type(my_message)"
   ]
  },
  {
   "cell_type": "code",
   "execution_count": 7,
   "id": "42a31b01",
   "metadata": {},
   "outputs": [
    {
     "name": "stdout",
     "output_type": "stream",
     "text": [
      "Hello\n"
     ]
    }
   ],
   "source": [
    "print('Hello') # 파이썬 내장 함수(import하지 않고 사용할 수 있는 함수)\n",
    "# print = 5\n",
    "# print('Hello') - error\n",
    "# del print 지워줘야함"
   ]
  },
  {
   "cell_type": "code",
   "execution_count": 8,
   "id": "0406a232",
   "metadata": {},
   "outputs": [
    {
     "name": "stdout",
     "output_type": "stream",
     "text": [
      "0 Hello\n",
      "1 Hello\n"
     ]
    }
   ],
   "source": [
    "my_message(2, 'Hello')"
   ]
  },
  {
   "cell_type": "code",
   "execution_count": 9,
   "id": "b87083da",
   "metadata": {},
   "outputs": [
    {
     "name": "stdout",
     "output_type": "stream",
     "text": [
      "0 Hello\n",
      "1 Hello\n"
     ]
    }
   ],
   "source": [
    "my_message = 5\n",
    "my_msg(2, 'Hello')"
   ]
  },
  {
   "cell_type": "code",
   "execution_count": null,
   "id": "d8266324",
   "metadata": {},
   "outputs": [],
   "source": [
    "# my_message(2, 'Hello') 이제 실행하면 에러남."
   ]
  },
  {
   "cell_type": "code",
   "execution_count": 10,
   "id": "04daeec4",
   "metadata": {},
   "outputs": [],
   "source": [
    "del my_message # 변수 및 함수 제거하여도\n",
    "# 사용자 정의함수, 라이브러리 함수는 사용불가\n",
    "\n",
    "# my_message(2, 'Hello') 함수 정의 자체를 지워버렸기 때문에 에러남"
   ]
  },
  {
   "cell_type": "code",
   "execution_count": 11,
   "id": "54111027",
   "metadata": {},
   "outputs": [],
   "source": [
    "# 함수 중복 정의 불가 (오버로딩 불가)\n",
    "\n",
    "def my_hello():\n",
    "    print('Hello Python')\n",
    "    print('Hello World')\n",
    "def my_hello(cnt): # cnt번 출력하는 함수로 내가 다시 정의함\n",
    "    for i in range(cnt):\n",
    "        print('Hello, Python', end = '\\t')\n",
    "        print('Hello, World')"
   ]
  },
  {
   "cell_type": "code",
   "execution_count": null,
   "id": "eb870c51",
   "metadata": {},
   "outputs": [],
   "source": [
    "# 매개변수 없으면 첫번째 것 실행하면 좋겠고\n",
    "\n",
    "# my_hello() 자바나 C++과 달리 파이썬은 중복되어 첫번째 정의는 사라지기 때문에 에러남"
   ]
  },
  {
   "cell_type": "code",
   "execution_count": 12,
   "id": "08c63597",
   "metadata": {},
   "outputs": [
    {
     "name": "stdout",
     "output_type": "stream",
     "text": [
      "Hello, Python\tHello, World\n",
      "Hello, Python\tHello, World\n"
     ]
    }
   ],
   "source": [
    "# 변수가 있으면 두번째 것 실행하면 좋겠어\n",
    "\n",
    "my_hello(2) # 두번째 정의만 살아있어서 매개변수가 반드시 하나 있어야함."
   ]
  },
  {
   "cell_type": "code",
   "execution_count": 13,
   "id": "93292f53",
   "metadata": {},
   "outputs": [
    {
     "data": {
      "text/plain": [
       "<function __main__.my_hello(cnt)>"
      ]
     },
     "execution_count": 13,
     "metadata": {},
     "output_type": "execute_result"
    }
   ],
   "source": [
    "my_hello"
   ]
  },
  {
   "cell_type": "code",
   "execution_count": 14,
   "id": "e506b9db",
   "metadata": {},
   "outputs": [
    {
     "data": {
      "text/plain": [
       "'__main__'"
      ]
     },
     "execution_count": 14,
     "metadata": {},
     "output_type": "execute_result"
    }
   ],
   "source": [
    "__name__"
   ]
  },
  {
   "cell_type": "code",
   "execution_count": 15,
   "id": "e921c929",
   "metadata": {},
   "outputs": [
    {
     "name": "stdout",
     "output_type": "stream",
     "text": [
      "Hello, Python\tHello, World\n",
      "Hello, Python\tHello, World\n"
     ]
    }
   ],
   "source": [
    "if __name__ == '__main__': # import 한게 아니라 이 파일에서 실행한 거야? 라고 물어보는 거라고\n",
    "    my_hello(2)"
   ]
  },
  {
   "cell_type": "code",
   "execution_count": 16,
   "id": "30e660b6",
   "metadata": {},
   "outputs": [],
   "source": [
    "import ch05 # ch05모듈이 해석되어서 메모리 로드"
   ]
  },
  {
   "cell_type": "code",
   "execution_count": 17,
   "id": "72e63086",
   "metadata": {},
   "outputs": [
    {
     "name": "stdout",
     "output_type": "stream",
     "text": [
      "ch05\n",
      "Hello, Python\tHello, World\n",
      "Hello, Python\tHello, World\n",
      "Hello, Python\tHello, World\n"
     ]
    }
   ],
   "source": [
    "ch05.my_hello(3) # my_hello 만 그대로 쓰면 안됨. ch05를 import했기때문에 앞에 붙여줘야함."
   ]
  },
  {
   "cell_type": "code",
   "execution_count": 18,
   "id": "6f572b08",
   "metadata": {},
   "outputs": [],
   "source": [
    "from ch05 import my_hello # ch05라는 모듈 안에서 my_hello라는 함수만 가져오고 싶어 라는 말. (my_hello만 메모리 로드)"
   ]
  },
  {
   "cell_type": "code",
   "execution_count": 19,
   "id": "c10d77e8",
   "metadata": {},
   "outputs": [
    {
     "name": "stdout",
     "output_type": "stream",
     "text": [
      "ch05\n",
      "Hello, Python\tHello, World\n",
      "Hello, Python\tHello, World\n",
      "Hello, Python\tHello, World\n"
     ]
    }
   ],
   "source": [
    "my_hello(3)"
   ]
  },
  {
   "cell_type": "markdown",
   "id": "0ce41f24",
   "metadata": {},
   "source": [
    "## 1.2 docstring"
   ]
  },
  {
   "cell_type": "code",
   "execution_count": 20,
   "id": "b9431369",
   "metadata": {},
   "outputs": [],
   "source": [
    "def my_function():\n",
    "    '''\n",
    "    \n",
    "    함수의 첫 라인에 독스트링을 포함할 수 있습니다.\n",
    "    독스트링은 함수의 설명서를 달아주는 역할\n",
    "    주석보다 많은 기능(함수 호출시 shift+tab으로 독스트링을 볼 수 있음)\n",
    "    \n",
    "    '''\n",
    "    # 주석은 shift+tab으로 보이지 않음.\n",
    "    pass"
   ]
  },
  {
   "cell_type": "code",
   "execution_count": 22,
   "id": "e3c99069",
   "metadata": {},
   "outputs": [
    {
     "name": "stdout",
     "output_type": "stream",
     "text": [
      "\n",
      "    \n",
      "    함수의 첫 라인에 독스트링을 포함할 수 있습니다.\n",
      "    독스트링은 함수의 설명서를 달아주는 역할\n",
      "    주석보다 많은 기능(함수 호출시 shift+tab으로 독스트링을 볼 수 있음)\n",
      "    \n",
      "    \n"
     ]
    }
   ],
   "source": [
    "print(my_function.__doc__) # 함수의 독스트링만 볼 수 있음"
   ]
  },
  {
   "cell_type": "code",
   "execution_count": 23,
   "id": "a7a4f702",
   "metadata": {},
   "outputs": [],
   "source": [
    "def fibonacci(n):\n",
    "    '''\n",
    "    \n",
    "    매개변수로 들어온 n값 미만의 피보나치 수열을 출력하는 함수\n",
    "    ex. n=10 : 0 1 1 2 3 5 8\n",
    "       n=100 : 0 1 1 2 3 5 8 13 21 34 55 89\n",
    "    \n",
    "    '''\n",
    "    a,b = 0,1 # 함수 내에 선언한 변수 : 지역변수(반대말 : 전역변수) (지역변수는 이 함수 내에서만 정의된 것. fibonacci가 전역변수)\n",
    "    while a < n:\n",
    "        print(a, end=' ')\n",
    "        a, b = b, a+b\n",
    "    print() # 개행"
   ]
  },
  {
   "cell_type": "code",
   "execution_count": 26,
   "id": "bccc533d",
   "metadata": {},
   "outputs": [
    {
     "name": "stdout",
     "output_type": "stream",
     "text": [
      "0 1 1 2 3 5 8 13 21 34 55 89 144 233 377 610 987 1597 2584 4181 6765 \n"
     ]
    }
   ],
   "source": [
    "fibonacci(10000)"
   ]
  },
  {
   "cell_type": "code",
   "execution_count": null,
   "id": "f2e5dda5",
   "metadata": {},
   "outputs": [],
   "source": [
    "# a, b 지역변수는 함수 내에서만 사용가능"
   ]
  },
  {
   "cell_type": "markdown",
   "id": "680175e7",
   "metadata": {},
   "source": [
    "## 1.3 지역변수(local var)와 전역변수(global var)"
   ]
  },
  {
   "cell_type": "code",
   "execution_count": 27,
   "id": "2ac6ab00",
   "metadata": {},
   "outputs": [
    {
     "name": "stdout",
     "output_type": "stream",
     "text": [
      "함수안 : 100\n",
      "함수밖 : 100\n"
     ]
    }
   ],
   "source": [
    "global_var = 100 # 전역변수\n",
    "def func1():\n",
    "    print('함수안 :', global_var) # 함수를 만들때 지역변수심볼테이블에서 global_var을 찾는다. 거기서 못찾으면 전역심볼테이블에서 찾는다. 있기 때문에 작동. \n",
    "func1()\n",
    "print('함수밖 :', global_var)"
   ]
  },
  {
   "cell_type": "code",
   "execution_count": 28,
   "id": "94377e8d",
   "metadata": {},
   "outputs": [
    {
     "name": "stdout",
     "output_type": "stream",
     "text": [
      "함수안 : 200\n"
     ]
    }
   ],
   "source": [
    "def func2():\n",
    "    local_var = 200 # 지역변수(함수내에서 할당)\n",
    "    print('함수안 :', local_var)\n",
    "func2()"
   ]
  },
  {
   "cell_type": "code",
   "execution_count": null,
   "id": "a93f84d3",
   "metadata": {},
   "outputs": [],
   "source": [
    "# print('함수밖에서 지역변수 :', local_var) error"
   ]
  },
  {
   "cell_type": "code",
   "execution_count": 29,
   "id": "4db6146f",
   "metadata": {},
   "outputs": [
    {
     "name": "stdout",
     "output_type": "stream",
     "text": [
      "지역변수 g_var : 200\n",
      "전역변수 g_var : 100\n"
     ]
    }
   ],
   "source": [
    "g_var = 100 # 전역변수\n",
    "def func3():\n",
    "    g_var = 200 # 지역변수(함수 내에서 할당) # 지역변수심볼테이블과 전역변수심볼테이블은 분리되어있기에 따로 들어감\n",
    "    print('지역변수 g_var :', g_var) # 지역변수 출력\n",
    "func3()\n",
    "print('전역변수 g_var :', g_var)"
   ]
  },
  {
   "cell_type": "code",
   "execution_count": null,
   "id": "ec52a5bf",
   "metadata": {},
   "outputs": [],
   "source": [
    "# 렉시컬 특성 : 변수가 어디서 선언되었는지에 따라 변수의 범위가 정해짐(지역vs전역)\n",
    "\n",
    "g_var = 100 \n",
    "def func3():\n",
    "    print('지역변수 g_var :', g_var) \n",
    "    g_var = 200  # 지역변수심볼테이블에 g_var가 올라와있지만 할당된 데이터(200)가 출력시점 후라서 에러가 난다. \n",
    "func3()\n",
    "print('전역변수 g_var :', g_var)"
   ]
  },
  {
   "cell_type": "code",
   "execution_count": 30,
   "id": "dd97e5be",
   "metadata": {},
   "outputs": [
    {
     "name": "stdout",
     "output_type": "stream",
     "text": [
      "전역변수 g_var : 100\n",
      "전역변수 g_var : 200\n"
     ]
    }
   ],
   "source": [
    "# 렉시컬 특성\n",
    "\n",
    "g_var = 100 \n",
    "def func3():\n",
    "    global g_var # 함수 내에서의 g_var는 전역변수를 쓰겠다. global뒤에는 반드시 전역변수를 써야함\n",
    "    print('전역변수 g_var :', g_var) \n",
    "    g_var = 200 # 전역변수 g_var에 200 할당하고 싶음\n",
    "func3()\n",
    "print('전역변수 g_var :', g_var)"
   ]
  },
  {
   "cell_type": "markdown",
   "id": "e633657c",
   "metadata": {},
   "source": [
    "## 1.4 값에 의한 호출\n",
    "\n",
    "- 함수에 인수로 전달되는 변수가 스칼라변수(문자, 숫자, 논리형)일 때 "
   ]
  },
  {
   "cell_type": "code",
   "execution_count": 31,
   "id": "560ac2c2",
   "metadata": {},
   "outputs": [
    {
     "data": {
      "text/plain": [
       "2947172558640"
      ]
     },
     "execution_count": 31,
     "metadata": {},
     "output_type": "execute_result"
    }
   ],
   "source": [
    "foo = 'a' # 전역변수\n",
    "id(foo)"
   ]
  },
  {
   "cell_type": "code",
   "execution_count": 32,
   "id": "33f9230b",
   "metadata": {},
   "outputs": [
    {
     "name": "stdout",
     "output_type": "stream",
     "text": [
      "Before : a 의 주소는  2947172558640\n",
      "After : aaa 의 주소는  2947275290224\n"
     ]
    }
   ],
   "source": [
    "def func1(f): # 매개변수는 지역변수\n",
    "    print('Before :', f, '의 주소는 ', id(f))\n",
    "    f = f*3\n",
    "    print('After :', f, '의 주소는 ', id(f))\n",
    "func1(foo)"
   ]
  },
  {
   "cell_type": "code",
   "execution_count": 33,
   "id": "bdd5eaeb",
   "metadata": {},
   "outputs": [
    {
     "name": "stdout",
     "output_type": "stream",
     "text": [
      "foo =  a 의 주소는  2947172558640\n"
     ]
    }
   ],
   "source": [
    "print('foo = ', foo, '의 주소는 ', id(foo)) # foo 의 주소가 바뀌지는 않음. 값에 의한 호출."
   ]
  },
  {
   "cell_type": "markdown",
   "id": "5b85f82f",
   "metadata": {},
   "source": [
    "## 1.5 참조에 의한 호출\n",
    "\n",
    "- 함수에 인수로 전달되는 변수가 리스트, 튜플, 셋, 딕셔너리, 기타 객체일 경우"
   ]
  },
  {
   "cell_type": "code",
   "execution_count": 34,
   "id": "18b398f8",
   "metadata": {},
   "outputs": [
    {
     "data": {
      "text/plain": [
       "2947273299584"
      ]
     },
     "execution_count": 34,
     "metadata": {},
     "output_type": "execute_result"
    }
   ],
   "source": [
    "L = [1, 2, 3, 4, 5]\n",
    "id(L)"
   ]
  },
  {
   "cell_type": "code",
   "execution_count": 35,
   "id": "43d5a02f",
   "metadata": {},
   "outputs": [
    {
     "name": "stdout",
     "output_type": "stream",
     "text": [
      "Before : [1, 2, 3, 4, 5] 의 주소는  2947273299584\n",
      "After : [1, 2, 3, 4, 5, 6] 의 주소는  2947273299584\n"
     ]
    }
   ],
   "source": [
    "def func2(l): # 매개변수는 지역변수\n",
    "    print('Before :', l, '의 주소는 ', id(l))\n",
    "    l.append(6)\n",
    "    print('After :', l, '의 주소는 ', id(l))\n",
    "func2(L)"
   ]
  },
  {
   "cell_type": "code",
   "execution_count": 37,
   "id": "3baab38d",
   "metadata": {},
   "outputs": [
    {
     "name": "stdout",
     "output_type": "stream",
     "text": [
      "L =  [1, 2, 3, 4, 5, 6] 의 주소는 2947273299584\n"
     ]
    }
   ],
   "source": [
    "print('L = ', L, '의 주소는', id(L)) # 참조에 의한 호출은 함수를 빠져나와도 전역변수의 값이 바뀐다"
   ]
  },
  {
   "cell_type": "markdown",
   "id": "54251647",
   "metadata": {},
   "source": [
    "# 2절. 함수의 실행결과를 반환하는 return"
   ]
  },
  {
   "cell_type": "code",
   "execution_count": 39,
   "id": "d3e2894e",
   "metadata": {},
   "outputs": [],
   "source": [
    "def fibonacci_print(n):\n",
    "    '''\n",
    "    매개변수로 들어온 n값 미만의 피보나치 수열을 출력하는 함수\n",
    "    ex. n=10 : 0 1 1 2 3 5 8\n",
    "       n=100 : 0 1 1 2 3 5 8 13 21 34 55 89\n",
    "    '''\n",
    "    a,b = 0,1 \n",
    "    while a < n:\n",
    "        print(a, end=' ')\n",
    "        a, b = b, a+b\n",
    "    print() \n",
    "    \n",
    "def fibonacci(n):\n",
    "    'n미만의 피보나치 수열을 리스트로 return'\n",
    "    result = [] # 피보나치 수열을 append할 리스트\n",
    "    a,b = 0,1\n",
    "    while a < n:\n",
    "        result.append(a) # 리스트에 append\n",
    "        a,b = b,a+b\n",
    "    return result"
   ]
  },
  {
   "cell_type": "code",
   "execution_count": 41,
   "id": "43899ffd",
   "metadata": {},
   "outputs": [
    {
     "name": "stdout",
     "output_type": "stream",
     "text": [
      "[0, 1, 1, 2, 3, 5, 8]\n",
      "<class 'list'>\n"
     ]
    }
   ],
   "source": [
    "x = fibonacci(10)\n",
    "print(x)\n",
    "print(type(x))"
   ]
  },
  {
   "cell_type": "code",
   "execution_count": 42,
   "id": "f436dc90",
   "metadata": {},
   "outputs": [
    {
     "name": "stdout",
     "output_type": "stream",
     "text": [
      "0 1 1 2 3 5 8 \n",
      "x =  None\n",
      "<class 'NoneType'>\n"
     ]
    }
   ],
   "source": [
    "x = fibonacci_print(10)\n",
    "print('x = ', x)\n",
    "print(type(x))"
   ]
  },
  {
   "cell_type": "markdown",
   "id": "7308a3b9",
   "metadata": {},
   "source": [
    "### 여러개 값 return\n",
    "\n",
    "- 여러개 값을 갖는 튜플로 return"
   ]
  },
  {
   "cell_type": "code",
   "execution_count": 43,
   "id": "2a7e4903",
   "metadata": {},
   "outputs": [],
   "source": [
    "def swap(a,b):\n",
    "    '매개변수의 순서를 바꿔서 return'\n",
    "    return b, a # = return(b,a) : 파이썬에서는 ,로 나열하면 자동적으로 튜플로 바뀜"
   ]
  },
  {
   "cell_type": "code",
   "execution_count": 45,
   "id": "0d527fa4",
   "metadata": {},
   "outputs": [
    {
     "name": "stdout",
     "output_type": "stream",
     "text": [
      "함수 실행 전 x,y = 5 10\n",
      "함수 실행 후 x,y = 10 5\n"
     ]
    }
   ],
   "source": [
    "x,y = 5,10\n",
    "# x=5; y=10 위에거랑 같은 말. ;는 한줄에 명령어가 여러개 있을 때 명령어와 명령어를 구분하는 용도로 사용.\n",
    "print('함수 실행 전 x,y =', x,y)\n",
    "x,y = swap(x,y)\n",
    "print('함수 실행 후 x,y =', x,y)"
   ]
  },
  {
   "cell_type": "markdown",
   "id": "574049a8",
   "metadata": {},
   "source": [
    "# 3절. 함수의 매개변수 ★\n",
    "\n",
    "## 3.1 기본값을 갖는 매개변수"
   ]
  },
  {
   "cell_type": "code",
   "execution_count": 46,
   "id": "9bd6df2f",
   "metadata": {},
   "outputs": [],
   "source": [
    "def make_url(ip, port=80): # 순서인수 > 기본값을 갖는 매개변수  # port에 기본값을 부여하는것. 변수값을 설정하지 않을경우 80이라는 말\n",
    "    return 'http://{}:{}'.format(ip, port)"
   ]
  },
  {
   "cell_type": "code",
   "execution_count": null,
   "id": "dd53ce72",
   "metadata": {},
   "outputs": [],
   "source": [
    "# 기본값을 갖는 매개변수가 먼저오면 그 다음에는 순서인수를 넣을 수 없음. 반드시 순서인수가 먼저 나와야함. 아래처럼 작성하면 에러남.\n",
    "\n",
    "#def make_url(port=80, ip):\n",
    "#    return 'http://{}:{}'.format(ip, port)"
   ]
  },
  {
   "cell_type": "code",
   "execution_count": 49,
   "id": "a1615789",
   "metadata": {},
   "outputs": [
    {
     "name": "stdout",
     "output_type": "stream",
     "text": [
      "http://localhost:8090\n",
      "http://www.naver.com:80\n",
      "http://localhost:9090\n"
     ]
    }
   ],
   "source": [
    "print(make_url('localhost', 8090))\n",
    "print(make_url('www.naver.com')) # port값을 쓰지 않으면 기본값을 넣은 80이 알아서 출력\n",
    "print(make_url(port=9090, ip='localhost')) # 남이 만든 함수에 매개변수가 많으면 순서를 모르니까 이런식으로도 사용가능"
   ]
  },
  {
   "cell_type": "markdown",
   "id": "8932fe8e",
   "metadata": {},
   "source": [
    "## 3.2 기본변수를 갖는 매개변수\n",
    "\n",
    "- 기본변수가 스칼라변수(문자, 숫자, 논리형)\n",
    "- 기본변수가 리스트, 셋, 딕셔너리, 튜플, 기타 객체일때"
   ]
  },
  {
   "cell_type": "code",
   "execution_count": 50,
   "id": "35cea077",
   "metadata": {},
   "outputs": [],
   "source": [
    "# 기본변수가 스칼라변수일 때 : 함수가 정의되는 시점으로 기본값 셋팅\n",
    "\n",
    "i = 80\n",
    "def make_url(ip, port = i):\n",
    "    return 'http://{}:{}'.format(ip, port)"
   ]
  },
  {
   "cell_type": "code",
   "execution_count": 52,
   "id": "9beb12c7",
   "metadata": {},
   "outputs": [
    {
     "data": {
      "text/plain": [
       "'http://localhost:80'"
      ]
     },
     "execution_count": 52,
     "metadata": {},
     "output_type": "execute_result"
    }
   ],
   "source": [
    "# i를 아무리 바꾸려고 해도 기본값은 80이다\n",
    "\n",
    "i = 9999\n",
    "make_url('localhost')"
   ]
  },
  {
   "cell_type": "code",
   "execution_count": 53,
   "id": "487d0b54",
   "metadata": {},
   "outputs": [
    {
     "name": "stdout",
     "output_type": "stream",
     "text": [
      "[10]\n"
     ]
    }
   ],
   "source": [
    "# 기본변수가 리스트, 셋, 딕셔너리, 객체일 때 : 함수가 실행되는 시점으로 기본값 셋팅\n",
    "\n",
    "list_ = []\n",
    "def func3(a,L = list_): # 기본값을 변수로 받는것\n",
    "    L.append(a)\n",
    "    return L\n",
    "print(func3(10))"
   ]
  },
  {
   "cell_type": "code",
   "execution_count": 54,
   "id": "3dd526a3",
   "metadata": {},
   "outputs": [
    {
     "name": "stdout",
     "output_type": "stream",
     "text": [
      "[10, 20]\n"
     ]
    }
   ],
   "source": [
    "print(func3(20))"
   ]
  },
  {
   "cell_type": "code",
   "execution_count": 55,
   "id": "c0976a71",
   "metadata": {},
   "outputs": [
    {
     "name": "stdout",
     "output_type": "stream",
     "text": [
      "list_ =  [10, 20]\n"
     ]
    }
   ],
   "source": [
    "print('list_ = ', list_)"
   ]
  },
  {
   "cell_type": "code",
   "execution_count": 56,
   "id": "8d4c859e",
   "metadata": {},
   "outputs": [
    {
     "name": "stdout",
     "output_type": "stream",
     "text": [
      "[10, 20, 50]\n"
     ]
    }
   ],
   "source": [
    "print(func3(50))"
   ]
  },
  {
   "cell_type": "code",
   "execution_count": 57,
   "id": "a4a855da",
   "metadata": {},
   "outputs": [
    {
     "name": "stdout",
     "output_type": "stream",
     "text": [
      "[10]\n"
     ]
    }
   ],
   "source": [
    "# 실행할 때마다 L을 공유하는게 싫으면 \n",
    "\n",
    "def func3(a, L=None):\n",
    "    if L is None:  # L에 아무것도 없어? 그럼 그때 L=[]\n",
    "        L = []\n",
    "    L.append(a)    # L에 정보가 있어? 그럼 이거 실행해\n",
    "    return L\n",
    "print(func3(10))"
   ]
  },
  {
   "cell_type": "code",
   "execution_count": 58,
   "id": "94270ad0",
   "metadata": {},
   "outputs": [
    {
     "name": "stdout",
     "output_type": "stream",
     "text": [
      "[20]\n"
     ]
    }
   ],
   "source": [
    "print(func3(20)) # 위와 달리 아무리 실행해도 a값만 나옴."
   ]
  },
  {
   "cell_type": "markdown",
   "id": "df25bbe3",
   "metadata": {},
   "source": [
    "## 3.3 순서인수, 키워드인수\n",
    "\n",
    "- 순서인수 : 함수에 정의된 순서대로 전달방식\n",
    "- 키워드인수 : 인수의 이름을 명시하는 방식\n",
    "- 함수 정의시 순서인수와 키워드인수가 같이 올 때는 **순서인수 > 키워드인수** 순으로"
   ]
  },
  {
   "cell_type": "code",
   "execution_count": 59,
   "id": "e4d10d96",
   "metadata": {},
   "outputs": [],
   "source": [
    "def func3(a, L=None):\n",
    "    if L is None:  \n",
    "        L = []\n",
    "    L.append(a)    \n",
    "    return L"
   ]
  },
  {
   "cell_type": "code",
   "execution_count": 60,
   "id": "d6d7571b",
   "metadata": {},
   "outputs": [
    {
     "name": "stdout",
     "output_type": "stream",
     "text": [
      "[10]\n",
      "[10, 20]\n"
     ]
    }
   ],
   "source": [
    "lst = []\n",
    "print(func3(10, lst))     # 순서인수 : 함수 정의된 순서대로 전달하는 방식\n",
    "print(func3(L=lst, a=20)) # 키워드인수 : 인수의 이름을 명시하여 전달하는 방식  \n",
    "# (L=lst, 20) 이렇게 적으면 에러남"
   ]
  },
  {
   "cell_type": "markdown",
   "id": "00f37aeb",
   "metadata": {},
   "source": [
    "## 3.4 튜플매개변수를 이용한 가변인수 설정\n",
    "\n",
    "- 가변인수 : 매개변수의 갯수가 가변"
   ]
  },
  {
   "cell_type": "code",
   "execution_count": 63,
   "id": "1b4cc11d",
   "metadata": {},
   "outputs": [],
   "source": [
    "# 파이썬은 함수의 중복정의(오버로딩)을 지원하지 않음\n",
    "\n",
    "def add(a,b): # 이거는 사라짐\n",
    "    return a+b\n",
    "def add(a,b,c):\n",
    "    return a+b+c"
   ]
  },
  {
   "cell_type": "code",
   "execution_count": 64,
   "id": "0c06061d",
   "metadata": {},
   "outputs": [
    {
     "data": {
      "text/plain": [
       "10"
      ]
     },
     "execution_count": 64,
     "metadata": {},
     "output_type": "execute_result"
    }
   ],
   "source": [
    "add(3,5,2)"
   ]
  },
  {
   "cell_type": "code",
   "execution_count": 68,
   "id": "6d6499bd",
   "metadata": {},
   "outputs": [],
   "source": [
    "# args 앞에 * : args가 튜플로 전달받는다\n",
    "\n",
    "def add(*args):\n",
    "    #print('args = ', args)\n",
    "    '전달받은 매개변수들의 합을 return. 매개변수가 없는 경우 0을 return'\n",
    "    sum = 0 # 누적변수\n",
    "    for num in args:\n",
    "        sum += num # sum = sum+num\n",
    "    return sum"
   ]
  },
  {
   "cell_type": "code",
   "execution_count": 67,
   "id": "9ab08d4b",
   "metadata": {},
   "outputs": [
    {
     "name": "stdout",
     "output_type": "stream",
     "text": [
      "args =  (1, 2, 3, 4)\n"
     ]
    }
   ],
   "source": [
    "add(1,2,3,4) # 요건 처음에 주석처리한거 연습"
   ]
  },
  {
   "cell_type": "code",
   "execution_count": 70,
   "id": "8c8f158d",
   "metadata": {},
   "outputs": [
    {
     "name": "stdout",
     "output_type": "stream",
     "text": [
      "0\n",
      "1\n",
      "3\n",
      "10\n"
     ]
    }
   ],
   "source": [
    "print(add())\n",
    "print(add(1))\n",
    "print(add(1,2))\n",
    "print(add(1,2,3,4))"
   ]
  },
  {
   "cell_type": "code",
   "execution_count": 72,
   "id": "de2c2a1d",
   "metadata": {},
   "outputs": [
    {
     "data": {
      "text/plain": [
       "'Python-HTML/CSS-JavaScript-DBMS'"
      ]
     },
     "execution_count": 72,
     "metadata": {},
     "output_type": "execute_result"
    }
   ],
   "source": [
    "subject = ('Python', 'HTML/CSS', 'JavaScript', 'DBMS')\n",
    "'-'.join(subject)"
   ]
  },
  {
   "cell_type": "code",
   "execution_count": 73,
   "id": "b10e694d",
   "metadata": {},
   "outputs": [],
   "source": [
    "# 튜플 매개변수와 일반 매개변수가 같이 있을 때\n",
    "\n",
    "def concat(*subject, sep):  # 앞에 subject가 몇개 나올지는 모르겠어. 맨 마지막것만 sep으로 받아 라는 말\n",
    "    return sep.join(subject)"
   ]
  },
  {
   "cell_type": "code",
   "execution_count": null,
   "id": "ce529451",
   "metadata": {
    "collapsed": true
   },
   "outputs": [],
   "source": [
    "# 이렇게 하면 ()안에 있는게 모두 *subject로 들어감\n",
    "\n",
    "# concat('Python', 'HTML/CSS', 'JavaScript', 'DBMS', '-') "
   ]
  },
  {
   "cell_type": "code",
   "execution_count": 74,
   "id": "95b2caa6",
   "metadata": {},
   "outputs": [
    {
     "data": {
      "text/plain": [
       "'Python-HTML/CSS-JavaScript-DBMS'"
      ]
     },
     "execution_count": 74,
     "metadata": {},
     "output_type": "execute_result"
    }
   ],
   "source": [
    "# 해결책 1 : 매개변수 이름을 지정해서 호출(함수를 다시 만들어야하는 비효율적 방식)\n",
    "\n",
    "concat('Python', 'HTML/CSS', 'JavaScript', 'DBMS', sep = '-')"
   ]
  },
  {
   "cell_type": "code",
   "execution_count": 77,
   "id": "f14aadf5",
   "metadata": {},
   "outputs": [
    {
     "name": "stdout",
     "output_type": "stream",
     "text": [
      "Python ~ Web ~ JS ~ DBMS ~ -\n",
      "Python-Web-JS-DBMS\n"
     ]
    }
   ],
   "source": [
    "# 해결책 2 : 기본값을 갖는 키워드인수 사용\n",
    "\n",
    "def concat(*subject, sep = ' ~ '): # 튜플매개변수 > 키워드인수\n",
    "    return sep.join(subject)\n",
    "print(concat('Python', 'Web', 'JS', 'DBMS', '-'))        # 이것도 다 subject로 받아버림\n",
    "print(concat('Python', 'Web', 'JS', 'DBMS', sep = '-'))  # 결국 이것도 해결책 1과 같음"
   ]
  },
  {
   "cell_type": "code",
   "execution_count": 79,
   "id": "35cc396e",
   "metadata": {},
   "outputs": [
    {
     "name": "stdout",
     "output_type": "stream",
     "text": [
      "Python-Web-JS-DBMS\n"
     ]
    }
   ],
   "source": [
    "print('Python', 'Web', 'JS', 'DBMS', sep = '-') # print가 딱 저런 방식"
   ]
  },
  {
   "cell_type": "code",
   "execution_count": 80,
   "id": "1aad308d",
   "metadata": {},
   "outputs": [],
   "source": [
    "# 해결책 3 : sep을 순서인수로 앞으로(추천)\n",
    "\n",
    "def concat(sep, *subject):\n",
    "    return sep.join(subject)"
   ]
  },
  {
   "cell_type": "code",
   "execution_count": 81,
   "id": "f5ae798f",
   "metadata": {},
   "outputs": [
    {
     "data": {
      "text/plain": [
       "'Python~Web~JS~DB~MLDL'"
      ]
     },
     "execution_count": 81,
     "metadata": {},
     "output_type": "execute_result"
    }
   ],
   "source": [
    "concat('~', 'Python', 'Web', 'JS', 'DB', 'MLDL')"
   ]
  },
  {
   "cell_type": "markdown",
   "id": "b6bdbaeb",
   "metadata": {},
   "source": [
    "## 3.5 딕셔너리 매개변수\n",
    "\n",
    "- 딕셔너리 인수 : 여러개의 키워드 인수를 딕셔너리 형태로 받아서 가변인수로 처리"
   ]
  },
  {
   "cell_type": "code",
   "execution_count": 82,
   "id": "abff58a3",
   "metadata": {},
   "outputs": [
    {
     "data": {
      "text/plain": [
       "'http://localhost:8080'"
      ]
     },
     "execution_count": 82,
     "metadata": {},
     "output_type": "execute_result"
    }
   ],
   "source": [
    "make_url(ip='localhost', port=8080) # 이게 키워드인수"
   ]
  },
  {
   "cell_type": "code",
   "execution_count": 87,
   "id": "a17f4078",
   "metadata": {},
   "outputs": [],
   "source": [
    "def func5(**args):  # args : 딕셔너리로 전달받음\n",
    "    print(args)"
   ]
  },
  {
   "cell_type": "code",
   "execution_count": 90,
   "id": "f468f9cc",
   "metadata": {},
   "outputs": [
    {
     "name": "stdout",
     "output_type": "stream",
     "text": [
      "{'name': '홍길동', 'age': 30, 'tel': '010-9999-9999', 'address': '서울 관악구'}\n"
     ]
    }
   ],
   "source": [
    "func5(name='홍길동',\n",
    "      age=30, \n",
    "      tel='010-9999-9999', \n",
    "      address='서울 관악구')"
   ]
  },
  {
   "cell_type": "code",
   "execution_count": 97,
   "id": "25b853ab",
   "metadata": {},
   "outputs": [],
   "source": [
    "def func5(**args):  \n",
    "    print('이름 :', args.get('name'))\n",
    "    print('나이 :', args.get('age'))\n",
    "    print('번호 :', args.get('tel'))\n",
    "    print('주소 :', args.get('address'))"
   ]
  },
  {
   "cell_type": "code",
   "execution_count": 98,
   "id": "eeacddfa",
   "metadata": {},
   "outputs": [
    {
     "name": "stdout",
     "output_type": "stream",
     "text": [
      "이름 : None\n",
      "나이 : 30\n",
      "번호 : 010-9999-9999\n",
      "주소 : 서울 관악구\n"
     ]
    }
   ],
   "source": [
    "# name이 nam으로 오타가 날 경우 None이 나오지만 shift+tab을 해도 힌트가 나오지 않음. 내가 원하는 시각화가 되지 않음.\n",
    "\n",
    "func5(nam='홍길동',\n",
    "      age=30, \n",
    "      tel='010-9999-9999', \n",
    "      address='서울 관악구')"
   ]
  },
  {
   "cell_type": "code",
   "execution_count": 99,
   "id": "a2fc892b",
   "metadata": {},
   "outputs": [],
   "source": [
    "# 책에 있는 예제. \n",
    "\n",
    "def func5(**args):\n",
    "    print(args)\n",
    "    print(type(args))\n",
    "    for key, value in args.items():\n",
    "        print(f'{key} : {value}')"
   ]
  },
  {
   "cell_type": "code",
   "execution_count": 100,
   "id": "931e3d74",
   "metadata": {},
   "outputs": [
    {
     "name": "stdout",
     "output_type": "stream",
     "text": [
      "{'nam': '홍길동', 'age': 30, 'tel': '010-9999-9999', 'address': '서울 관악구'}\n",
      "<class 'dict'>\n",
      "nam : 홍길동\n",
      "age : 30\n",
      "tel : 010-9999-9999\n",
      "address : 서울 관악구\n"
     ]
    }
   ],
   "source": [
    "func5(nam='홍길동',\n",
    "      age=30, \n",
    "      tel='010-9999-9999', \n",
    "      address='서울 관악구')"
   ]
  },
  {
   "cell_type": "code",
   "execution_count": 113,
   "id": "9e7cac3d",
   "metadata": {},
   "outputs": [],
   "source": [
    "# (위에 책 예제를 아래 방식처럼 하고싶을때)\n",
    "\n",
    "def func5(**args):\n",
    "    '''딕셔너리 매개변수로 받아 address 키가 없으면 \n",
    "    서울시 관악구로 추가하고 키-값을 출력'''\n",
    "    print(args)\n",
    "    print(type(args))\n",
    "    if not 'address' in args: # args에 address키가 없으면 아래를 수행해라\n",
    "        # args[ 'address' ] = '서울시 관악구'\n",
    "        # args.update({'address':'서울시 관악구'})\n",
    "        args.update(address='서울시 관악구')\n",
    "    for key, value in args.items():\n",
    "        print(f'{key} : {value}')"
   ]
  },
  {
   "cell_type": "code",
   "execution_count": 112,
   "id": "cae304ef",
   "metadata": {},
   "outputs": [
    {
     "name": "stdout",
     "output_type": "stream",
     "text": [
      "{'name': '홍길동', 'age': 30, 'tel': '010-9999-9999'}\n",
      "<class 'dict'>\n",
      "name : 홍길동\n",
      "age : 30\n",
      "tel : 010-9999-9999\n",
      "address : 서울시 관악구\n"
     ]
    }
   ],
   "source": [
    "func5(name='홍길동',\n",
    "      age=30, \n",
    "      tel='010-9999-9999')"
   ]
  },
  {
   "cell_type": "code",
   "execution_count": 101,
   "id": "50a6019f",
   "metadata": {},
   "outputs": [],
   "source": [
    "# 정보가 없을 경우 무조건 나오게 하려는 방식.\n",
    "\n",
    "def func5(**args):  \n",
    "    print('이름 :', args.get('name', '몰라'))\n",
    "    print('나이 :', args.get('age', 30))\n",
    "    print('번호 :', args.get('tel', '없음'))\n",
    "    print('주소 :', args.get('address', '서울 관악'))"
   ]
  },
  {
   "cell_type": "code",
   "execution_count": 105,
   "id": "db71d89b",
   "metadata": {},
   "outputs": [
    {
     "name": "stdout",
     "output_type": "stream",
     "text": [
      "이름 : 홍길동\n",
      "나이 : 30\n",
      "번호 : 010-9999-9999\n",
      "주소 : 서울 관악구\n"
     ]
    }
   ],
   "source": [
    "func5(name='홍길동', \n",
    "      tel='010-9999-9999', \n",
    "      address='서울 관악구')"
   ]
  },
  {
   "cell_type": "markdown",
   "id": "761b5bb0",
   "metadata": {},
   "source": [
    "## 3.6 함수 정의시 매개변수의 순서\n",
    "\n",
    "- **순서인수 > 튜플인수(`*`) > 키워드인수(기본값) > 딕셔너리인수(`**`)**"
   ]
  },
  {
   "cell_type": "code",
   "execution_count": 114,
   "id": "77a45d8e",
   "metadata": {},
   "outputs": [],
   "source": [
    "# 순서인수 > 튜플인수 > 딕셔너리인수\n",
    "\n",
    "def func6(a,b,*c, **d):\n",
    "    print('순서인수 a = ', a)\n",
    "    print('순서인수 b = ', b)\n",
    "    print('튜플인수 c = ', c)\n",
    "    print('딕셔너리인수 d = ', d)"
   ]
  },
  {
   "cell_type": "code",
   "execution_count": 116,
   "id": "eafe8228",
   "metadata": {},
   "outputs": [
    {
     "name": "stdout",
     "output_type": "stream",
     "text": [
      "순서인수 a =  10\n",
      "순서인수 b =  20\n",
      "튜플인수 c =  (1, 2, 3, 4, 5, 6, 7, 8, 9, 'a', 'b')\n",
      "딕셔너리인수 d =  {'name': '홍', 'age': 30, 'address': '신림'}\n"
     ]
    }
   ],
   "source": [
    "func6(10, 20, 1,2,3,4,5,6,7,8,9,'a','b', name='홍', age=30, address='신림') # 키워드를 안치면 다 튜플로 들어감"
   ]
  },
  {
   "cell_type": "code",
   "execution_count": 117,
   "id": "0af5f54c",
   "metadata": {},
   "outputs": [],
   "source": [
    "# 순서인수 > 튜플인수(*) > 키워드인수(기본값) > 딕셔너리인수(**)\n",
    "\n",
    "def func7(a,b,c, *d, e=10, **f):\n",
    "    print('순서인수 a = ', a)\n",
    "    print('순서인수 b = ', b)\n",
    "    print('순서인수 c = ', c)\n",
    "    print('튜플인수 d = ', d)\n",
    "    print('키워드인수(기본값 10) e = ', e)\n",
    "    print('딕셔너리인수 f = ', f)"
   ]
  },
  {
   "cell_type": "code",
   "execution_count": 118,
   "id": "873ebde3",
   "metadata": {},
   "outputs": [
    {
     "name": "stdout",
     "output_type": "stream",
     "text": [
      "순서인수 a =  10\n",
      "순서인수 b =  20\n",
      "순서인수 c =  30\n",
      "튜플인수 d =  (1, 2, 3, 4, 5)\n",
      "키워드인수(기본값 10) e =  100\n",
      "딕셔너리인수 f =  {'shape': 'rect', 'width': 20, 'height': 30}\n"
     ]
    }
   ],
   "source": [
    "func7(10,20,30, 1,2,3,4,5, e=100, shape='rect', width=20, height=30)"
   ]
  },
  {
   "cell_type": "code",
   "execution_count": 119,
   "id": "9f01e84f",
   "metadata": {},
   "outputs": [
    {
     "name": "stdout",
     "output_type": "stream",
     "text": [
      "순서인수 a =  10\n",
      "순서인수 b =  20\n",
      "순서인수 c =  30\n",
      "튜플인수 d =  ()\n",
      "키워드인수(기본값 10) e =  10\n",
      "딕셔너리인수 f =  {}\n"
     ]
    }
   ],
   "source": [
    "func7(10,20,30) # 꼭 위에처럼 복잡하게 호출하지 않아도 된다. 다만 순서인수는 꼭 수대로 넣어야함."
   ]
  },
  {
   "cell_type": "code",
   "execution_count": 120,
   "id": "cedbc227",
   "metadata": {},
   "outputs": [
    {
     "name": "stdout",
     "output_type": "stream",
     "text": [
      "순서인수 a =  10\n",
      "순서인수 b =  20\n",
      "순서인수 c =  30\n",
      "튜플인수 d =  ()\n",
      "키워드인수(기본값 10) e =  100\n",
      "딕셔너리인수 f =  {}\n"
     ]
    }
   ],
   "source": [
    "func7(10,20,30, e=100)"
   ]
  },
  {
   "cell_type": "markdown",
   "id": "5a7504c8",
   "metadata": {},
   "source": [
    "## 3.7 인수의 언패킹\n",
    "\n",
    "### (1) 튜플인수 언패킹\n",
    "\n",
    "- 언패킹 : 함수 호출시 매개변수 앞에 * 붙임\n",
    "- 패킹 : 함수 정의시 매개변수 앞에 * 붙임(튜플매개변수)"
   ]
  },
  {
   "cell_type": "code",
   "execution_count": 121,
   "id": "4713ffe5",
   "metadata": {},
   "outputs": [],
   "source": [
    "def add(*args):\n",
    "    sum=0\n",
    "    for num in args:\n",
    "        sum += num\n",
    "    return sum"
   ]
  },
  {
   "cell_type": "code",
   "execution_count": 122,
   "id": "b18391dd",
   "metadata": {},
   "outputs": [
    {
     "data": {
      "text/plain": [
       "6"
      ]
     },
     "execution_count": 122,
     "metadata": {},
     "output_type": "execute_result"
    }
   ],
   "source": [
    "add(1,2,3)"
   ]
  },
  {
   "cell_type": "code",
   "execution_count": 123,
   "id": "3a1dcd4d",
   "metadata": {},
   "outputs": [
    {
     "data": {
      "text/plain": [
       "6"
      ]
     },
     "execution_count": 123,
     "metadata": {},
     "output_type": "execute_result"
    }
   ],
   "source": [
    "numbers = (1,2,3)\n",
    "\n",
    "# 너가 알아서 numbers에 있는것을 1,2,3으로 풀어서 args에 넣어라고 하고싶음\n",
    "#add(numbers) \n",
    "add(*numbers) # *을 붙이면 풀어짐"
   ]
  },
  {
   "cell_type": "markdown",
   "id": "4f2fbcf5",
   "metadata": {},
   "source": [
    "### (2) 딕셔너리인수 언패킹"
   ]
  },
  {
   "cell_type": "code",
   "execution_count": 124,
   "id": "e0d27c5d",
   "metadata": {},
   "outputs": [],
   "source": [
    "def func8(**data):\n",
    "    print(data)\n",
    "    for item in data.items():\n",
    "        print(item)"
   ]
  },
  {
   "cell_type": "code",
   "execution_count": 125,
   "id": "ab41d58d",
   "metadata": {},
   "outputs": [
    {
     "name": "stdout",
     "output_type": "stream",
     "text": [
      "{'shape': 'rect', 'width': 40, 'height': 30}\n",
      "('shape', 'rect')\n",
      "('width', 40)\n",
      "('height', 30)\n"
     ]
    }
   ],
   "source": [
    "func8(shape='rect', width=40, height=30)"
   ]
  },
  {
   "cell_type": "code",
   "execution_count": 126,
   "id": "fc90993d",
   "metadata": {},
   "outputs": [
    {
     "name": "stdout",
     "output_type": "stream",
     "text": [
      "{'shape': 'rect', 'width': 40, 'height': 30}\n",
      "('shape', 'rect')\n",
      "('width', 40)\n",
      "('height', 30)\n"
     ]
    }
   ],
   "source": [
    "info = {'shape':'rect', 'width':40 , 'height':30}\n",
    "func8(**info)"
   ]
  },
  {
   "cell_type": "markdown",
   "id": "7bf08d1b",
   "metadata": {},
   "source": [
    "# 4절. 람다식\n",
    "\n",
    "- return 한 줄짜리 작은 익명함수\n",
    "\n",
    "## 4.1 람다식 연습"
   ]
  },
  {
   "cell_type": "code",
   "execution_count": 3,
   "id": "dc39a37d",
   "metadata": {},
   "outputs": [
    {
     "name": "stdout",
     "output_type": "stream",
     "text": [
      "8\n",
      "<class 'function'>\n"
     ]
    }
   ],
   "source": [
    "def add(a,b):\n",
    "    return a+b\n",
    "print(add(3,5))\n",
    "print(type(add))"
   ]
  },
  {
   "cell_type": "code",
   "execution_count": 4,
   "id": "31cf912a",
   "metadata": {},
   "outputs": [
    {
     "name": "stdout",
     "output_type": "stream",
     "text": [
      "8\n",
      "<class 'function'>\n"
     ]
    }
   ],
   "source": [
    "add2 = lambda a,b : a+b # 이름이 없으면 나중에 호출을 못하니까 add2라고 할당해주기\n",
    "print(add2(3,5))\n",
    "print(type(add2))"
   ]
  },
  {
   "cell_type": "code",
   "execution_count": 6,
   "id": "a7ce80e3",
   "metadata": {},
   "outputs": [
    {
     "data": {
      "text/plain": [
       "('홀수', '짝수')"
      ]
     },
     "execution_count": 6,
     "metadata": {},
     "output_type": "execute_result"
    }
   ],
   "source": [
    "# ex1. 매개변수로 들어온 값이 짝수인지 홀수인지 return하는 함수를 람다식으로 만들어보세요\n",
    "\n",
    "def even_odd_chk(num):\n",
    "    if num%2:\n",
    "        result = '홀수'\n",
    "    else:\n",
    "        result = '짝수'\n",
    "    return result\n",
    "even_odd_chk(5), even_odd_chk(-4)"
   ]
  },
  {
   "cell_type": "code",
   "execution_count": 8,
   "id": "9563de2f",
   "metadata": {},
   "outputs": [
    {
     "data": {
      "text/plain": [
       "('홀수', '짝수')"
      ]
     },
     "execution_count": 8,
     "metadata": {},
     "output_type": "execute_result"
    }
   ],
   "source": [
    "# 위의 if문을 한줄로 변경가능\n",
    "\n",
    "def even_odd_chk(num):\n",
    "    result = '홀수' if num%2 else '짝수'\n",
    "    return result\n",
    "even_odd_chk(5), even_odd_chk(-4)\n",
    "\n",
    "# 그럼 result를 밑으로 줄일 수 있음 \n",
    "\n",
    "def even_odd_chk(num): \n",
    "    return '홀수' if num%2 else '짝수'\n",
    "\n",
    "# 이제 한줄짜리 람다식으로 변경가능\n",
    "\n",
    "even_odd_chk = lambda num : '홀수' if num%2 else '짝수'\n",
    "even_odd_chk(5), even_odd_chk(-4)"
   ]
  },
  {
   "cell_type": "code",
   "execution_count": 13,
   "id": "1f50d0eb",
   "metadata": {},
   "outputs": [
    {
     "data": {
      "text/plain": [
       "(4, 4)"
      ]
     },
     "execution_count": 13,
     "metadata": {},
     "output_type": "execute_result"
    }
   ],
   "source": [
    "# ex2. 두 매개변수의 차이를 return하는 함수를 람다식으로 만들어보세요\n",
    "\n",
    "def diff(a,b):\n",
    "    if a>b:\n",
    "        result = a-b\n",
    "    else:\n",
    "        result = b-a\n",
    "    return result\n",
    "\n",
    "diff = lambda a,b : a-b if a>b else b-a\n",
    "diff(5,1), diff(1,5)"
   ]
  },
  {
   "cell_type": "code",
   "execution_count": 21,
   "id": "58b92b7c",
   "metadata": {},
   "outputs": [
    {
     "data": {
      "text/plain": [
       "('negative', 5000, 0)"
      ]
     },
     "execution_count": 21,
     "metadata": {},
     "output_type": "execute_result"
    }
   ],
   "source": [
    "# ex3. 매개변수로 잔액을 받아, 잔액이 양수면 잔액을 return, 음수면 'negative'를 return\n",
    "\n",
    "ex3 = lambda balance : balance if balance>=0 else 'negative'\n",
    "ex3(-300), ex3(5000), ex3(0)"
   ]
  },
  {
   "cell_type": "code",
   "execution_count": 33,
   "id": "97e68e95",
   "metadata": {},
   "outputs": [
    {
     "data": {
      "text/plain": [
       "('유효하지 않음', '유효하지 않음', 'A팀', '재시험')"
      ]
     },
     "execution_count": 33,
     "metadata": {},
     "output_type": "execute_result"
    }
   ],
   "source": [
    "# ex4. 점수를 입력받아 80점 이상은 'A팀', 60점 이상은 'B팀', 60점 미만은 '재시험'\n",
    "     # 100점 초과, 0점 미만은 '유효하지 않음'을 return\n",
    "\n",
    "def grade(num):\n",
    "    if 80<=num<=100:\n",
    "        result = 'A팀'\n",
    "    elif 60<=num<80:\n",
    "        result = 'B팀'\n",
    "    elif 0<=num<60:\n",
    "        result = '재시험'\n",
    "    else:\n",
    "        result = '유효하지 않음'\n",
    "    return result\n",
    "\n",
    "grade1 = lambda num : 'A팀' if 80<=num<=100 else \\\n",
    "                      'B팀' if 60<=num<80 else\\\n",
    "                      '재시험' if 0<=num<60 else\\\n",
    "                      '유효하지 않음'\n",
    "grade1(101), grade1(-1), grade1(80), grade1(20)"
   ]
  },
  {
   "cell_type": "code",
   "execution_count": 36,
   "id": "df22f688",
   "metadata": {},
   "outputs": [
    {
     "data": {
      "text/plain": [
       "('D학점', '유효하지 않는 점수', '유효하지 않는 점수')"
      ]
     },
     "execution_count": 36,
     "metadata": {},
     "output_type": "execute_result"
    }
   ],
   "source": [
    "# ex4. 점수를 입력받아 학점을 return\n",
    "\n",
    "score_grade = lambda score : 'A학점' if 90<=score<=100 else\\\n",
    "                             'B학점' if 80<=score<90 else\\\n",
    "                             'C학점' if 70<=score<80 else\\\n",
    "                             'D학점' if 60<=score<70 else\\\n",
    "                             'F학점' if 0<=score<60 else\\\n",
    "                             '유효하지 않는 점수'\n",
    "\n",
    "score_grade(60), score_grade(120), score_grade(-10)"
   ]
  },
  {
   "cell_type": "code",
   "execution_count": 40,
   "id": "9d9f991b",
   "metadata": {},
   "outputs": [
    {
     "data": {
      "text/plain": [
       "(-1, 2, -1, 0)"
      ]
     },
     "execution_count": 40,
     "metadata": {},
     "output_type": "execute_result"
    }
   ],
   "source": [
    "# ex5. safe_index 함수를 람다식으로 \n",
    "\n",
    "def safe_index(lst, item, start=0):\n",
    "    '''\n",
    "    첫번째 매개변수 lst : 리스트, 튜플\n",
    "    두번째 매개변수 item : 리스트나 튜플에서 찾을 데이터\n",
    "    세번째 매개변수 start : 몇번째 index부터 찾을지 index 수(기본값:0)\n",
    "    '''\n",
    "    return lst.index(item, start) if item in lst[start:] else -1\n",
    "\n",
    "ex5 = lambda lst, item, start=0 : lst.index(item, start) if item in lst[start:] else -1\n",
    "\n",
    "i = 3 # 변수에 할당해도 인식함\n",
    "lst = [i,2,3]\n",
    "safe_index(lst, 4), ex5(lst, 3, 1), ex5(lst,4), ex5(lst,3)"
   ]
  },
  {
   "cell_type": "code",
   "execution_count": 42,
   "id": "487fe555",
   "metadata": {},
   "outputs": [
    {
     "data": {
      "text/plain": [
       "([25, 15, 100, 4.0], [3, 3, 0, '두번째 인자가 0이면 못 나눠요'])"
      ]
     },
     "execution_count": 42,
     "metadata": {},
     "output_type": "execute_result"
    }
   ],
   "source": [
    "# 람다식 list에 들어갈 수 있음\n",
    "\n",
    "# add = 1\n",
    "# sub = 2\n",
    "# operation = [add, sub]\n",
    "\n",
    "add = lambda a,b : a+b\n",
    "sub = lambda a,b : a-b\n",
    "mul = lambda a,b : a*b\n",
    "div = lambda a,b : a/b if b else '두번째 인자가 0이면 못 나눠요' # = (b !=0) b가 0이 아닐때\n",
    "operations = [add, sub, mul, div] # 사칙연산 함수들\n",
    "\n",
    "def act_operations(a,b, operations=operations):  # operations는 지금 리스트 # a,b의 연산 결과를 return\n",
    "    result = [] # ()튜플로 감싸도 되는데 append가 안되니까 []리스트로\n",
    "    for op in operations: # operations에 op를 넣어라 라는 말이니까 밑에 op(a,b)라고 써줘야함\n",
    "        result.append(op(a,b))\n",
    "    return result\n",
    "\n",
    "act_operations(20,5), act_operations(3,0)"
   ]
  },
  {
   "cell_type": "code",
   "execution_count": 44,
   "id": "b7be8379",
   "metadata": {},
   "outputs": [
    {
     "data": {
      "text/plain": [
       "[64, 82]"
      ]
     },
     "execution_count": 44,
     "metadata": {},
     "output_type": "execute_result"
    }
   ],
   "source": [
    "act_operations(8,2, [lambda x,y:x**y, lambda x,y:10*x+y]) # 이렇게 내가 직접 연산을 넣어서 할 수도 있음"
   ]
  },
  {
   "cell_type": "code",
   "execution_count": 45,
   "id": "04e14870",
   "metadata": {},
   "outputs": [
    {
     "data": {
      "text/plain": [
       "5"
      ]
     },
     "execution_count": 45,
     "metadata": {},
     "output_type": "execute_result"
    }
   ],
   "source": [
    "operations.append(lambda x,y : x**y)\n",
    "len(operations) # 연산 수가 5개로 늘었다"
   ]
  },
  {
   "cell_type": "code",
   "execution_count": 46,
   "id": "88f6d651",
   "metadata": {},
   "outputs": [
    {
     "data": {
      "text/plain": [
       "[10, 6, 16, 4.0, 64]"
      ]
     },
     "execution_count": 46,
     "metadata": {},
     "output_type": "execute_result"
    }
   ],
   "source": [
    "act_operations(8,2) # 기본값을 갖는 변수(기본 변수)가 리스트면 기본값은 호출할 시점"
   ]
  },
  {
   "cell_type": "markdown",
   "id": "5796cd54",
   "metadata": {},
   "source": [
    "## 4.2 함수의 매개변수(인수)에 람다식 사용\n",
    "\n",
    "- 람다식을 사용하는 곳 : 함수의 매개변수 >>>> return문\n",
    "\n",
    "### (1) <font color=\"red\">**map**</font>"
   ]
  },
  {
   "cell_type": "code",
   "execution_count": null,
   "id": "4ec99683",
   "metadata": {},
   "outputs": [],
   "source": [
    "# 변수명 = 람다식 이건 사실 잘 사용하지 않음"
   ]
  },
  {
   "cell_type": "code",
   "execution_count": 47,
   "id": "f6b5c61c",
   "metadata": {},
   "outputs": [],
   "source": [
    "def map_template(func, L=[]): # function(함수)\n",
    "    result = []\n",
    "    for item in L:\n",
    "        result.append(item)\n",
    "    return result"
   ]
  },
  {
   "cell_type": "code",
   "execution_count": 48,
   "id": "4f83874c",
   "metadata": {},
   "outputs": [
    {
     "data": {
      "text/plain": [
       "[1, 2, 3]"
      ]
     },
     "execution_count": 48,
     "metadata": {},
     "output_type": "execute_result"
    }
   ],
   "source": [
    "map_template(lambda a : a, [1,2,3]) # lambda a:a 가 func에 들어가고 [1,2,3]이 L에 들어간것"
   ]
  },
  {
   "cell_type": "code",
   "execution_count": 49,
   "id": "568a6cc5",
   "metadata": {},
   "outputs": [],
   "source": [
    "def map_template(func, L=[]): # function(함수)\n",
    "    result = []\n",
    "    for item in L:\n",
    "        result.append(func(item))\n",
    "    return result"
   ]
  },
  {
   "cell_type": "code",
   "execution_count": 51,
   "id": "73d69b76",
   "metadata": {},
   "outputs": [
    {
     "data": {
      "text/plain": [
       "[2, 4, 6, 8, 10, 12, 14, 16, 18]"
      ]
     },
     "execution_count": 51,
     "metadata": {},
     "output_type": "execute_result"
    }
   ],
   "source": [
    "list_data = [1,2,3,4,5,6,7,8,9]\n",
    "# def x_2(x):\n",
    "#     return x*2\n",
    "x_2 = lambda x : x*2\n",
    "map_template(x_2, list_data) # 이렇게 두번 쓰는것 조차도 없어보임. 이것을 아래처럼 한번에 쓸 수 있다."
   ]
  },
  {
   "cell_type": "code",
   "execution_count": 52,
   "id": "71f4adfa",
   "metadata": {},
   "outputs": [
    {
     "data": {
      "text/plain": [
       "[2, 4, 6, 8, 10, 12, 14, 16, 18]"
      ]
     },
     "execution_count": 52,
     "metadata": {},
     "output_type": "execute_result"
    }
   ],
   "source": [
    "map_template(lambda x : x*2, list_data)"
   ]
  },
  {
   "cell_type": "code",
   "execution_count": 53,
   "id": "3a3633f5",
   "metadata": {},
   "outputs": [
    {
     "data": {
      "text/plain": [
       "[2, 4, 6, 8, 10, 12, 14, 16, 18]"
      ]
     },
     "execution_count": 53,
     "metadata": {},
     "output_type": "execute_result"
    }
   ],
   "source": [
    "# 리스트 컴프리헨션 \n",
    "# 이정도 까지만 할때는 리스트 컴프리헨션도 쓸 수 있다.\n",
    "\n",
    "[item*2 for item in list_data]"
   ]
  },
  {
   "cell_type": "code",
   "execution_count": 55,
   "id": "e96e036e",
   "metadata": {},
   "outputs": [
    {
     "data": {
      "text/plain": [
       "[2, 4, 6, 8, 10, 12, 14, 16, 18]"
      ]
     },
     "execution_count": 55,
     "metadata": {},
     "output_type": "execute_result"
    }
   ],
   "source": [
    "list(map(lambda x : x*2, list_data)) # map_template 이 map이랑 똑같음"
   ]
  },
  {
   "cell_type": "code",
   "execution_count": 56,
   "id": "b195528b",
   "metadata": {},
   "outputs": [
    {
     "name": "stdout",
     "output_type": "stream",
     "text": [
      "2 4 6 8 10 12 14 16 18 "
     ]
    }
   ],
   "source": [
    "for data in map(lambda x : x*2, list_data): # map의 역할은 두번째 매개변수에 있는것을 모두 첫번째에 적용시키는 역할\n",
    "    print(data, end=' ')"
   ]
  },
  {
   "cell_type": "code",
   "execution_count": 61,
   "id": "7241909d",
   "metadata": {},
   "outputs": [
    {
     "name": "stdout",
     "output_type": "stream",
     "text": [
      "5000 5000 6000 1000 5000 5000 6000 1000 "
     ]
    }
   ],
   "source": [
    "'''\n",
    "예제1. \n",
    "prices = ['5,000', '5000', '6,000', '1000','5,000', '5000', '6,000', '1000’]를 \n",
    "[5000,5000,6000,1000]식으로 바꾸시오\n",
    "'''\n",
    "\n",
    "prices = ['5,000', '5000', '6,000', '1000','5,000', '5000', '6,000', '1000']\n",
    "# test\n",
    "def toint(value):\n",
    "    return int(value.replace(',',''))\n",
    "\n",
    "#map은 바로 출력이 안됨. 리스트로 바꾸든지 for문에 넣기\n",
    "prices_int = map(lambda value : int(value.replace(',','')), prices)\n",
    "for price in prices_int:\n",
    "    print(price, end = ' ')"
   ]
  },
  {
   "cell_type": "code",
   "execution_count": null,
   "id": "0cf20f88",
   "metadata": {},
   "outputs": [],
   "source": [
    "'''\n",
    "예제2. : members1을 members2로 변환\n",
    "members1 = [{'name':'홍길동', 'birth':'2000-01-01’},\n",
    "            {'name':'신길동', 'birth':'1995-12-18'},]를\n",
    "members2 = [\n",
    "    {'name':'홍길동', 'year':2000, 'month':1,'day':1},\n",
    "    {'name':'신길동', 'year':1995, 'month':12, 'day':18},] 변환\n",
    "'''\n",
    "\n"
   ]
  },
  {
   "cell_type": "code",
   "execution_count": 75,
   "id": "d5de0490",
   "metadata": {},
   "outputs": [],
   "source": [
    "members1 = [{'name':'홍길동', 'birth':'2000-01-01'},\n",
    "            {'name':'신길동', 'birth':'1995-12-18'},]"
   ]
  },
  {
   "cell_type": "code",
   "execution_count": null,
   "id": "4be55031",
   "metadata": {},
   "outputs": [],
   "source": [
    "# '2000-01-01' -> {'year':2000, 'month':1,'day':1}\n",
    "\n",
    "def split_date(data):\n",
    "    split_date = data.split('-')\n",
    "    return {'year': int(split_date[0]), \n",
    "            'month': int(split_date[1]), \n",
    "            'day': int(split_date[2])}\n",
    "\n",
    "split_date('2000-01-01'), split_date('2025-04-04')"
   ]
  },
  {
   "cell_type": "code",
   "execution_count": 71,
   "id": "7ea1ff9e",
   "metadata": {},
   "outputs": [
    {
     "data": {
      "text/plain": [
       "({'year': 2000, 'month': 1, 'day': 1}, {'year': 2025, 'month': 4, 'day': 4})"
      ]
     },
     "execution_count": 71,
     "metadata": {},
     "output_type": "execute_result"
    }
   ],
   "source": [
    "# '2000-01-01' -> {'year':2000, 'month':1,'day':1}\n",
    "\n",
    "def split_date(data):\n",
    "    return {'year': int(data.split[0]), \n",
    "            'month': int(data.split[1]), \n",
    "            'day': int(data.split[2])}\n",
    "\n",
    "split_date('2000-01-01'), split_date('2025-04-04')"
   ]
  },
  {
   "cell_type": "code",
   "execution_count": 74,
   "id": "2e0aa9c7",
   "metadata": {},
   "outputs": [
    {
     "data": {
      "text/plain": [
       "({'year': 2000, 'month': 1, 'day': 1}, {'year': 2025, 'month': 4, 'day': 4})"
      ]
     },
     "execution_count": 74,
     "metadata": {},
     "output_type": "execute_result"
    }
   ],
   "source": [
    "# {'birth':'2000-01-01'} -> {'year':2000, 'month':1,'day':1}\n",
    "\n",
    "def split_date(data):\n",
    "    return {'year': int(data['birth'].split('-')[0]), \n",
    "            'month': int(data['birth'].split('-')[1]), \n",
    "            'day': int(data['birth'].split('-')[2])}\n",
    "\n",
    "split_date({'birth':'2000-01-01'}), split_date({'birth':'2025-04-04'})\n",
    "\n",
    "split_date = lambda data : {'year': int(data['birth'].split('-')[0]), \n",
    "                            'month': int(data['birth'].split('-')[1]), \n",
    "                            'day': int(data['birth'].split('-')[2])}\n",
    "\n",
    "split_date({'birth':'2000-01-01'}), split_date({'birth':'2025-04-04'})"
   ]
  },
  {
   "cell_type": "code",
   "execution_count": 78,
   "id": "28f7b869",
   "metadata": {},
   "outputs": [
    {
     "data": {
      "text/plain": [
       "{'name': '홍길동', 'year': 2000, 'month': 1, 'day': 1}"
      ]
     },
     "execution_count": 78,
     "metadata": {},
     "output_type": "execute_result"
    }
   ],
   "source": [
    "# {'name':'홍길동', 'birth':'2000-01-01'} -> {'name':'홍길동', 'year':2000, 'month':1,'day':1}\n",
    "\n",
    "def member_preprocessing(member):\n",
    "    return {'name': member.get('name','이름없음'),\n",
    "           'year' : int(member.get('birth').split('-')[0]),\n",
    "           'month': int(member.get('birth').split('-')[1]),\n",
    "           'day'  : int(member.get('birth').split('-')[2]),}\n",
    "\n",
    "member_preprocessing({'name':'홍길동', 'birth':'2000-01-01'})"
   ]
  },
  {
   "cell_type": "code",
   "execution_count": 81,
   "id": "ba6b7f6d",
   "metadata": {},
   "outputs": [
    {
     "data": {
      "text/plain": [
       "[{'name': '홍길동', 'year': 2000, 'month': 1, 'day': 1},\n",
       " {'name': '신길동', 'year': 1995, 'month': 12, 'day': 18}]"
      ]
     },
     "execution_count": 81,
     "metadata": {},
     "output_type": "execute_result"
    }
   ],
   "source": [
    "members2 = list(map(lambda member : {\n",
    "    'name': member.get('name','이름없음'),\n",
    "    'year' : int(member.get('birth').split('-')[0]),\n",
    "    'month': int(member.get('birth').split('-')[1]),\n",
    "    'day'  : int(member.get('birth').split('-')[2]),}, members1))\n",
    "\n",
    "members2"
   ]
  },
  {
   "cell_type": "code",
   "execution_count": 82,
   "id": "e3b037a1",
   "metadata": {},
   "outputs": [
    {
     "data": {
      "text/plain": [
       "'2000-1-1'"
      ]
     },
     "execution_count": 82,
     "metadata": {},
     "output_type": "execute_result"
    }
   ],
   "source": [
    "'''\n",
    "예제3. member2를 member1로 전환\n",
    "'''\n",
    "# {'year':2000, 'month':1,'day':1} -> '2000-01-01'\n",
    "\n",
    "# 이건 2000-01-01이 나오지 않음\n",
    "def join_date(data):\n",
    "    return '{}-{}-{}'.format(data.get('year'),data.get('month'),data.get('day'))\n",
    "join_date({'year': 2000, 'month': 1, 'day': 1})"
   ]
  },
  {
   "cell_type": "code",
   "execution_count": 83,
   "id": "f3ce2e98",
   "metadata": {},
   "outputs": [
    {
     "data": {
      "text/plain": [
       "'2000-01-01'"
      ]
     },
     "execution_count": 83,
     "metadata": {},
     "output_type": "execute_result"
    }
   ],
   "source": [
    "# 제대된 방법. 두자리를 확보하고 빈자리에 0을 넣어라\n",
    "\n",
    "def join_date(data):\n",
    "    return '{}-{:02}-{:02}'.format(data.get('year'),data.get('month'),data.get('day'))\n",
    "join_date({'year': 2000, 'month': 1, 'day': 1})"
   ]
  },
  {
   "cell_type": "code",
   "execution_count": 90,
   "id": "ab3ed799",
   "metadata": {},
   "outputs": [
    {
     "data": {
      "text/plain": [
       "'2000-01-01'"
      ]
     },
     "execution_count": 90,
     "metadata": {},
     "output_type": "execute_result"
    }
   ],
   "source": [
    "# 좀 더 간략하게 바꾸기\n",
    "\n",
    "def join_date(data):\n",
    "    return '{year}-{month:02}-{day:02}'.format(year=data.get('year'),\n",
    "                                              month=data.get('month'),\n",
    "                                              day=data.get('day'))\n",
    "# 저게 아래처럼 딕셔너리인수로 간략하게 써짐\n",
    "def join_date(data):\n",
    "    return '{year}-{month:02}-{day:02}'.format(**data)\n",
    "\n",
    "join_date({'year': 2000, 'month': 1, 'day': 1})"
   ]
  },
  {
   "cell_type": "code",
   "execution_count": 86,
   "id": "bff8043c",
   "metadata": {},
   "outputs": [
    {
     "data": {
      "text/plain": [
       "{'birth': '2000-01-01'}"
      ]
     },
     "execution_count": 86,
     "metadata": {},
     "output_type": "execute_result"
    }
   ],
   "source": [
    "# {'year':2000, 'month':1,'day':1} -> {'birth' : '2000-01-01'}\n",
    "\n",
    "def join_date(data):\n",
    "    return {'birth' : '{year}-{month:02}-{day:02}'.format(**data)}\n",
    "join_date({'year': 2000, 'month': 1, 'day': 1})"
   ]
  },
  {
   "cell_type": "code",
   "execution_count": 93,
   "id": "fe8ef7bd",
   "metadata": {},
   "outputs": [
    {
     "data": {
      "text/plain": [
       "{'name': 'hong', 'birth': '2000-01-01'}"
      ]
     },
     "execution_count": 93,
     "metadata": {},
     "output_type": "execute_result"
    }
   ],
   "source": [
    "# {'name':'Hong','year':2000, 'month':1,'day':1} -> {'name':'Hong','birth' : '2000-01-01'}\n",
    "\n",
    "members2 = [{'name': '홍길동', 'year': 2000, 'month': 1, 'day': 1},\n",
    " {'name': '신길동', 'year': 1995, 'month': 12, 'day': 18}]\n",
    "\n",
    "def members_preprocessing(member):\n",
    "    return{'name':member.get('name'),\n",
    "          'birth' : '{year}-{month:02}-{day:02}'.format(**member)}\n",
    "members_preprocessing({'name': 'hong', 'year': 2000, 'month': 1, 'day': 1})"
   ]
  },
  {
   "cell_type": "code",
   "execution_count": 94,
   "id": "797fe638",
   "metadata": {},
   "outputs": [
    {
     "data": {
      "text/plain": [
       "[{'name': '홍길동', 'birth': '2000-01-01'},\n",
       " {'name': '신길동', 'birth': '1995-12-18'}]"
      ]
     },
     "execution_count": 94,
     "metadata": {},
     "output_type": "execute_result"
    }
   ],
   "source": [
    "list(map(lambda member : {'name':member.get('name'),\n",
    "          'birth' : '{year}-{month:02}-{day:02}'.format(**member)}, members2))"
   ]
  },
  {
   "cell_type": "markdown",
   "id": "149f0e62",
   "metadata": {},
   "source": [
    "### (2) filter"
   ]
  },
  {
   "cell_type": "code",
   "execution_count": 95,
   "id": "88befd14",
   "metadata": {},
   "outputs": [],
   "source": [
    "# filter 함수를 filter_template으로 풀어서 보여준것\n",
    "\n",
    "def filter_template(func, L=[]):\n",
    "    result = []\n",
    "    for item in L:\n",
    "        if func(item):\n",
    "            result.append(item)\n",
    "    return result"
   ]
  },
  {
   "cell_type": "code",
   "execution_count": 96,
   "id": "86818e4b",
   "metadata": {},
   "outputs": [
    {
     "data": {
      "text/plain": [
       "[1, 3, 5, 7, 9]"
      ]
     },
     "execution_count": 96,
     "metadata": {},
     "output_type": "execute_result"
    }
   ],
   "source": [
    "list_data = [1,2,3,4,5,6,7,8,9]\n",
    "def odd_chk(value):\n",
    "    return value%2\n",
    "#     if value%2:\n",
    "#         return True\n",
    "#     else:\n",
    "#         return False\n",
    "\n",
    "filter_template(lambda value : value%2, list_data)"
   ]
  },
  {
   "cell_type": "code",
   "execution_count": 97,
   "id": "a15f525f",
   "metadata": {},
   "outputs": [
    {
     "data": {
      "text/plain": [
       "[1, 3, 5, 7, 9]"
      ]
     },
     "execution_count": 97,
     "metadata": {},
     "output_type": "execute_result"
    }
   ],
   "source": [
    "# 리스트컴프리헨션\n",
    "\n",
    "[value for value in list_data if value%2]"
   ]
  },
  {
   "cell_type": "code",
   "execution_count": 98,
   "id": "cab88543",
   "metadata": {},
   "outputs": [
    {
     "data": {
      "text/plain": [
       "[1, 3, 5, 7, 9]"
      ]
     },
     "execution_count": 98,
     "metadata": {},
     "output_type": "execute_result"
    }
   ],
   "source": [
    "list(filter(lambda value : value%2, list_data))"
   ]
  },
  {
   "cell_type": "code",
   "execution_count": 99,
   "id": "cf05ed18",
   "metadata": {},
   "outputs": [
    {
     "data": {
      "text/plain": [
       "[1, 3.0, 100, -2.0]"
      ]
     },
     "execution_count": 99,
     "metadata": {},
     "output_type": "execute_result"
    }
   ],
   "source": [
    "# 예제 : 다음 리스트에서 소수점 이하가 0인 수만 추출하시오(filter/리스트컴프리헨션)\n",
    "L = [1, 1.2, 1.5, 3.0, 10.5, 100, -2.0, -12.2]\n",
    "\n",
    "list(filter(lambda a : a%1==0, L))"
   ]
  },
  {
   "cell_type": "code",
   "execution_count": 100,
   "id": "9ca392ff",
   "metadata": {},
   "outputs": [
    {
     "data": {
      "text/plain": [
       "[1, 3.0, 100, -2.0]"
      ]
     },
     "execution_count": 100,
     "metadata": {},
     "output_type": "execute_result"
    }
   ],
   "source": [
    "[a for a in L if a%1==0]"
   ]
  },
  {
   "cell_type": "markdown",
   "id": "a09d6293",
   "metadata": {},
   "source": [
    "### (3) sort"
   ]
  },
  {
   "cell_type": "code",
   "execution_count": 103,
   "id": "fbacfd82",
   "metadata": {},
   "outputs": [
    {
     "data": {
      "text/plain": [
       "[10, 6, 3, 1]"
      ]
     },
     "execution_count": 103,
     "metadata": {},
     "output_type": "execute_result"
    }
   ],
   "source": [
    "p = [10, 3, 6, 1]\n",
    "p.sort(reverse=True)\n",
    "p"
   ]
  },
  {
   "cell_type": "code",
   "execution_count": 106,
   "id": "d4b97493",
   "metadata": {},
   "outputs": [
    {
     "data": {
      "text/plain": [
       "[(1, 'one'), (2, 'two'), (3, 'three'), (4, 'four')]"
      ]
     },
     "execution_count": 106,
     "metadata": {},
     "output_type": "execute_result"
    }
   ],
   "source": [
    "# 무조건 0번째 item을 기준으로 오름차순 정렬\n",
    "# 튜플\n",
    "\n",
    "pairs = [(2, 'two'), (1,'one'), (3,'three'), (4, 'four')]\n",
    "pairs.sort()\n",
    "pairs"
   ]
  },
  {
   "cell_type": "code",
   "execution_count": 108,
   "id": "5e82972d",
   "metadata": {},
   "outputs": [
    {
     "data": {
      "text/plain": [
       "[(2, 'two'), (3, 'three'), (1, 'one'), (4, 'four')]"
      ]
     },
     "execution_count": 108,
     "metadata": {},
     "output_type": "execute_result"
    }
   ],
   "source": [
    "# 1번째 item 기준으로 내림차순 정렬\n",
    "\n",
    "pairs.sort(key=lambda data : data[1], reverse=True)\n",
    "pairs"
   ]
  },
  {
   "cell_type": "code",
   "execution_count": 114,
   "id": "dbc8d05e",
   "metadata": {},
   "outputs": [
    {
     "name": "stdout",
     "output_type": "stream",
     "text": [
      "[[1, 100], [9, 9], [10, 200, 2]]\n",
      "[[10, 200, 2], [1, 100], [9, 9]]\n"
     ]
    }
   ],
   "source": [
    "# 0번째 item이 큰 순\n",
    "\n",
    "number_2d = [[9,9], [1,100], [10,200,2]]\n",
    "number_2d.sort()\n",
    "print(number_2d)\n",
    "\n",
    "# 합이 큰 순으로 정렬\n",
    "\n",
    "number_2d.sort(key=lambda items : sum(items), reverse=True)\n",
    "print(number_2d)"
   ]
  },
  {
   "cell_type": "code",
   "execution_count": 115,
   "id": "19f00af0",
   "metadata": {},
   "outputs": [],
   "source": [
    "# 딕셔너리\n",
    "\n",
    "students = [{'name':'홍', 'score':99},\n",
    "           {'name':'김', 'score':50},\n",
    "           {'name':'박', 'score':77},\n",
    "           {'score':100},]\n"
   ]
  },
  {
   "cell_type": "code",
   "execution_count": 116,
   "id": "3a616e85",
   "metadata": {},
   "outputs": [
    {
     "data": {
      "text/plain": [
       "'홍'"
      ]
     },
     "execution_count": 116,
     "metadata": {},
     "output_type": "execute_result"
    }
   ],
   "source": [
    "name_select = lambda data : data.get('name')\n",
    "name_select({'name':'홍', 'score':99})"
   ]
  },
  {
   "cell_type": "code",
   "execution_count": 120,
   "id": "96fd0cd1",
   "metadata": {},
   "outputs": [
    {
     "data": {
      "text/plain": [
       "[{'name': '김', 'score': 50},\n",
       " {'name': '박', 'score': 77},\n",
       " {'name': '홍', 'score': 99},\n",
       " {'score': 100}]"
      ]
     },
     "execution_count": 120,
     "metadata": {},
     "output_type": "execute_result"
    }
   ],
   "source": [
    "# students를 name 순으로 정렬(ㄱㄴㄷ순 - 오름차순 정렬)\n",
    "\n",
    "students.sort(key=lambda data : data.get('name','힣')) # 이름없는 것에 '힣'을 넣은 이유는 마지막에 나오게 하고 싶어서. 제일 먼저 나오게 하고 싶으면 '가'를 넣자.\n",
    "students"
   ]
  },
  {
   "cell_type": "code",
   "execution_count": 123,
   "id": "05474e44",
   "metadata": {},
   "outputs": [
    {
     "data": {
      "text/plain": [
       "[{'score': 100},\n",
       " {'name': '홍', 'score': 99},\n",
       " {'name': '박', 'score': 77},\n",
       " {'name': '김', 'score': 50}]"
      ]
     },
     "execution_count": 123,
     "metadata": {},
     "output_type": "execute_result"
    }
   ],
   "source": [
    "# studendts를 score 큰 순 정렬\n",
    "\n",
    "students.sort(key=lambda data : data.get('score',0), reverse=True) # score없는 것은 0점 처리하겠다\n",
    "students"
   ]
  },
  {
   "cell_type": "code",
   "execution_count": 126,
   "id": "27e909d3",
   "metadata": {},
   "outputs": [],
   "source": [
    "# 예제 : books 정렬(no, title, price)\n",
    "\n",
    "books = \\\n",
    "   [{'no':2, 'title':'더트릭컬', 'writer':'폴빠','price':'19,800'},\n",
    "    {'no':1, 'title':'흔한남매', 'writer':'백난도', 'price':'15,120'},\n",
    "    {'no':3, 'title':'단 한 번의 삶', 'writer':'김영하', 'price':'15,120'},\n",
    "    {'no':4, 'title':'가격잘못', 'writer':'홍길동', 'price':'ㅁ'},\n",
    "    {'no':5, 'title':'가격이숫자', 'writer':'백난도', 'price':30200},\n",
    "    {'no':6, 'title':'가격이없음', 'writer':'이길동'},] "
   ]
  },
  {
   "cell_type": "code",
   "execution_count": 127,
   "id": "2e21a4ef",
   "metadata": {},
   "outputs": [
    {
     "data": {
      "text/plain": [
       "[{'no': 1, 'title': '흔한남매', 'writer': '백난도', 'price': '15,120'},\n",
       " {'no': 2, 'title': '더트릭컬', 'writer': '폴빠', 'price': '19,800'},\n",
       " {'no': 3, 'title': '단 한 번의 삶', 'writer': '김영하', 'price': '15,120'},\n",
       " {'no': 4, 'title': '가격잘못', 'writer': '홍길동', 'price': 'ㅁ'},\n",
       " {'no': 5, 'title': '가격이숫자', 'writer': '백난도', 'price': 30200},\n",
       " {'no': 6, 'title': '가격이없음', 'writer': '이길동'}]"
      ]
     },
     "execution_count": 127,
     "metadata": {},
     "output_type": "execute_result"
    }
   ],
   "source": [
    "# no 기준으로 sort\n",
    "\n",
    "books.sort(key=lambda data : data.get('no'))\n",
    "books"
   ]
  },
  {
   "cell_type": "code",
   "execution_count": 128,
   "id": "3435c6a6",
   "metadata": {},
   "outputs": [
    {
     "data": {
      "text/plain": [
       "[{'no': 5, 'title': '가격이숫자', 'writer': '백난도', 'price': 30200},\n",
       " {'no': 6, 'title': '가격이없음', 'writer': '이길동'},\n",
       " {'no': 4, 'title': '가격잘못', 'writer': '홍길동', 'price': 'ㅁ'},\n",
       " {'no': 3, 'title': '단 한 번의 삶', 'writer': '김영하', 'price': '15,120'},\n",
       " {'no': 2, 'title': '더트릭컬', 'writer': '폴빠', 'price': '19,800'},\n",
       " {'no': 1, 'title': '흔한남매', 'writer': '백난도', 'price': '15,120'}]"
      ]
     },
     "execution_count": 128,
     "metadata": {},
     "output_type": "execute_result"
    }
   ],
   "source": [
    "# title 기준으로 sort\n",
    "\n",
    "books.sort(key=lambda data : data.get('title'))\n",
    "books"
   ]
  },
  {
   "cell_type": "code",
   "execution_count": null,
   "id": "6880eed5",
   "metadata": {},
   "outputs": [],
   "source": [
    "# price 기준으로 sort 이건 에러남\n",
    "\n",
    "# books.sort(key=lambda data : data.get('price', ))\n",
    "# books"
   ]
  },
  {
   "cell_type": "code",
   "execution_count": null,
   "id": "8356747a",
   "metadata": {},
   "outputs": [],
   "source": [
    "# 30200, '12,000', '5000', 'ㅁ', None    →    30200, 12000, 5000, 0, 0"
   ]
  },
  {
   "cell_type": "code",
   "execution_count": 132,
   "id": "609ca9ba",
   "metadata": {},
   "outputs": [
    {
     "name": "stdout",
     "output_type": "stream",
     "text": [
      "12000 12 0 0\n"
     ]
    }
   ],
   "source": [
    "def parse_int(price):\n",
    "    if isinstance(price, str) and price.replace(',','').isdigit(): #price가 str이면 ,를 빼. 그게 숫자냐?\n",
    "        return int(price.replace(',',''))\n",
    "    elif isinstance(price,int):\n",
    "        return price\n",
    "    else:\n",
    "        return 0\n",
    "print(parse_int('12,000'), parse_int(12), parse_int('ㅁ'), parse_int(None))"
   ]
  },
  {
   "cell_type": "code",
   "execution_count": 135,
   "id": "3a6f7cc1",
   "metadata": {},
   "outputs": [
    {
     "name": "stdout",
     "output_type": "stream",
     "text": [
      "12000 12 0 0\n"
     ]
    }
   ],
   "source": [
    "parse_int = lambda price:\\\n",
    "    int(price.replace(',',''))\\\n",
    "        if isinstance(price,str) and price.replace(',','').isdigit() else\\\n",
    "        price if isinstance(price,int) else 0\n",
    "\n",
    "print(parse_int('12,000'), parse_int(12), parse_int('ㅁ'), parse_int(None))"
   ]
  },
  {
   "cell_type": "code",
   "execution_count": 140,
   "id": "86a2bc97",
   "metadata": {},
   "outputs": [
    {
     "data": {
      "text/plain": [
       "12000"
      ]
     },
     "execution_count": 140,
     "metadata": {},
     "output_type": "execute_result"
    }
   ],
   "source": [
    "# {'no':5, 'title':'가격이숫자', 'writer':'백난도', 'price':'12,000'}\n",
    "\n",
    "parse_int = lambda book:\\\n",
    "    int(book.get('price').replace(',',''))\\\n",
    "        if isinstance(book.get('price'),str) and book.get('price').replace(',','').isdigit() else\\\n",
    "        book.get('price') if isinstance(book.get('price'),int) else 0\n",
    "                            \n",
    "parse_int({'no':5, 'title':'가격이숫자', 'writer':'백난도', 'price':'12,000'})                            "
   ]
  },
  {
   "cell_type": "code",
   "execution_count": null,
   "id": "a225e01c",
   "metadata": {},
   "outputs": [],
   "source": [
    "# 30200, '12,000', '5000', 'ㅁ', None\n",
    "# 다른 분 질문. 일단 위에 것들을 무조건 문자로 바꾸자. 데이터가 많지 않을때는 이게 더 좋을지도 모름.\n",
    "\n",
    "def parse_int(price):\n",
    "    if str(price).replace(',','').isdigit():\n",
    "        return int(str(price).replace(',',''))\n",
    "    else:\n",
    "        return 0\n",
    "parse_int = lambda price:\\\n",
    "            int(price.replace(',','')) if isinstance(price, str) and price.replace(',','').isdigit()\\\n",
    "            else price if isinstance(price, int) else 0"
   ]
  },
  {
   "cell_type": "code",
   "execution_count": 143,
   "id": "e44121ce",
   "metadata": {},
   "outputs": [
    {
     "data": {
      "text/plain": [
       "[{'no': 5, 'title': '가격이숫자', 'writer': '백난도', 'price': 30200},\n",
       " {'no': 2, 'title': '더트릭컬', 'writer': '폴빠', 'price': '19,800'},\n",
       " {'no': 3, 'title': '단 한 번의 삶', 'writer': '김영하', 'price': '15,120'},\n",
       " {'no': 1, 'title': '흔한남매', 'writer': '백난도', 'price': '15,120'},\n",
       " {'no': 6, 'title': '가격이없음', 'writer': '이길동'},\n",
       " {'no': 4, 'title': '가격잘못', 'writer': '홍길동', 'price': 'ㅁ'}]"
      ]
     },
     "execution_count": 143,
     "metadata": {},
     "output_type": "execute_result"
    }
   ],
   "source": [
    "copyBooks = books.copy()\n",
    "copyBooks.sort(key=lambda book:\\\n",
    "                int(book.get('price').replace(',','')) \\\n",
    "               if isinstance(book.get('price'),str) and book.get('price').replace(',','').isdigit()\\\n",
    "               else book.get('price') if isinstance(book.get('price'),int) \\\n",
    "               else 0, reverse=True)\n",
    "copyBooks"
   ]
  },
  {
   "cell_type": "markdown",
   "id": "ffcd5493",
   "metadata": {},
   "source": [
    "# 5절. 파이썬 내장함수\n",
    "\n",
    "- import 하지 않고 바로 사용 가능한 함수\n",
    "- 키워드(if, while, ...)처럼 간주되므로, 식별자(변수명, 함수명, 클래스명)로 사용하는 것을 피한다"
   ]
  },
  {
   "cell_type": "code",
   "execution_count": 3,
   "id": "88302323",
   "metadata": {},
   "outputs": [],
   "source": [
    "a = 10"
   ]
  },
  {
   "cell_type": "code",
   "execution_count": 4,
   "id": "09391db1",
   "metadata": {
    "collapsed": true
   },
   "outputs": [
    {
     "data": {
      "text/plain": [
       "{'__name__': '__main__',\n",
       " '__doc__': 'Automatically created module for IPython interactive environment',\n",
       " '__package__': None,\n",
       " '__loader__': None,\n",
       " '__spec__': None,\n",
       " '__builtin__': <module 'builtins' (built-in)>,\n",
       " '__builtins__': <module 'builtins' (built-in)>,\n",
       " '_ih': ['', 'a = 1', 'globals() #전역변수 리스트', 'a = 10', 'globals() #전역변수 리스트'],\n",
       " '_oh': {2: {...}},\n",
       " '_dh': [WindowsPath('C:/Users/Admin/ai/source/01_python')],\n",
       " 'In': ['', 'a = 1', 'globals() #전역변수 리스트', 'a = 10', 'globals() #전역변수 리스트'],\n",
       " 'Out': {2: {...}},\n",
       " 'get_ipython': <bound method InteractiveShell.get_ipython of <ipykernel.zmqshell.ZMQInteractiveShell object at 0x00000191FAA93D60>>,\n",
       " 'exit': <IPython.core.autocall.ZMQExitAutocall at 0x191faa9f5e0>,\n",
       " 'quit': <IPython.core.autocall.ZMQExitAutocall at 0x191faa9f5e0>,\n",
       " 'open': <function io.open(file, mode='r', buffering=-1, encoding=None, errors=None, newline=None, closefd=True, opener=None)>,\n",
       " '_': {...},\n",
       " '__': '',\n",
       " '___': '',\n",
       " '_i': 'a = 10',\n",
       " '_ii': 'globals() #전역변수 리스트',\n",
       " '_iii': 'a = 1',\n",
       " '_i1': 'a = 1',\n",
       " 'a': 10,\n",
       " '_i2': 'globals() #전역변수 리스트',\n",
       " '_2': {...},\n",
       " '_i3': 'a = 10',\n",
       " '_i4': 'globals() #전역변수 리스트'}"
      ]
     },
     "execution_count": 4,
     "metadata": {},
     "output_type": "execute_result"
    }
   ],
   "source": [
    "globals() #전역변수 리스트"
   ]
  },
  {
   "cell_type": "code",
   "execution_count": 6,
   "id": "3eaa78c3",
   "metadata": {},
   "outputs": [
    {
     "data": {
      "text/plain": [
       "False"
      ]
     },
     "execution_count": 6,
     "metadata": {},
     "output_type": "execute_result"
    }
   ],
   "source": [
    "all([True, True, True, False]) # 모든 요소가 다 True인지 여부"
   ]
  },
  {
   "cell_type": "markdown",
   "id": "1186da43",
   "metadata": {},
   "source": [
    "# 6절. 연습문제"
   ]
  },
  {
   "cell_type": "markdown",
   "id": "b13254e4",
   "metadata": {},
   "source": [
    "## 실습형"
   ]
  },
  {
   "cell_type": "code",
   "execution_count": 137,
   "id": "e126d67e",
   "metadata": {},
   "outputs": [
    {
     "name": "stdout",
     "output_type": "stream",
     "text": [
      "(11, -2.2)\n",
      "(11, -9)\n"
     ]
    }
   ],
   "source": [
    "# 1.함수의인자로 리스트를 받은 후 리스트 내에 있는 모든 정수값에 대한 최대값과 최소값을 리턴하는 함수를 작성하세요\n",
    "# def get_max_min(data_list):\n",
    "# get_max_min= lambda ~\n",
    "# 실수를 거르기 위해서 밑에 두줄 쓴다고 하시는데 -2.2가 그대로 나와서 모르겠다.\n",
    "\n",
    "def get_max_min(data_list):\n",
    "#     for data in data_list:\n",
    "#         if data == round(data):\n",
    "    return  max(data_list), min(data_list)\n",
    "print(get_max_min([1,2,3,4,5,6,11,-1,-2.2]))\n",
    "\n",
    "a = [1,2,3,4,5,6,11,-9]\n",
    "get_max_min = lambda data_list : (max(data_list), min(data_list)) # 람다식으로 바꾸면 반드시 튜플로. ,를 ()로 묶지 않으면 min(data_list)를 람다식에 포함하지 않는다고 생각함.\n",
    "print(get_max_min(a))"
   ]
  },
  {
   "cell_type": "code",
   "execution_count": 35,
   "id": "b785f859",
   "metadata": {},
   "outputs": [
    {
     "data": {
      "text/plain": [
       "'고도비만'"
      ]
     },
     "execution_count": 35,
     "metadata": {},
     "output_type": "execute_result"
    }
   ],
   "source": [
    "# 2.체질량 지수(Body Mass Index, BMI)는 체중과 키를 이용해 비만도를 나타내는 지수로 아래의 수식에 의해 계산됩니다. \n",
    "# 함수의 인자로 체중(kg)과 신장(m)를입력받은 후 BMI값에 따라 ‘마른 체형‘, ‘표준‘, ‘비만‘, ‘고도비만‘ 중 하나의 상태를 출력하는 함수를 구현해 보세요.\n",
    "# • getBMI(kg, m):\n",
    "# • BMI지수 = 체중(kg) / 신장(m)의 제곱\n",
    "# • BMI<18.5 : 마른체형\n",
    "# • 18.5<=BMI<25 : 표준\n",
    "# • 25<=BMI<30 : 비만\n",
    "# • BMI >=30 : 고도비만\n",
    "\n",
    "# def getBMI(kg, m):\n",
    "#     BMI = kg / (m*m)\n",
    "#     if BMI < 18.5:\n",
    "#         print('마른체형')\n",
    "#     elif 18.5<=BMI<25:\n",
    "#         print('표준')\n",
    "#     elif 25<=BMI<30:\n",
    "#         print('비만')\n",
    "#     else:\n",
    "#         print('고도비만')\n",
    "        \n",
    "getBMI = lambda kg, m : '마른체형' if kg / (m*m) < 18.5 else\\\n",
    "                        '표준' if 18.5<= kg / (m*m) <25 else\\\n",
    "                        '비만' if 25<= kg / (m*m) <30 else\\\n",
    "                        '고도비만'\n",
    "getBMI(100,1.5)"
   ]
  },
  {
   "cell_type": "code",
   "execution_count": 9,
   "id": "44f9e382",
   "metadata": {},
   "outputs": [
    {
     "data": {
      "text/plain": [
       "{'넓이': 6.0, '둘레': 12.0}"
      ]
     },
     "execution_count": 9,
     "metadata": {},
     "output_type": "execute_result"
    }
   ],
   "source": [
    "# 3.직각삼각형의 밑변(w)과 높이(h)를 입력받은 후 삼각형의 면적(area)과 둘레(perimeter)를 계산하는 함수를 작성하세요\n",
    "# • 리턴값은 면적과 둘레를 return하도록 구현하세요\n",
    "# • math.sqrt() : 제곱근을 구하는 함수이용 (ex)math.sqrt(25) : 5.0\n",
    "# • def get_triangle(width, height):\n",
    "\n",
    "import math\n",
    "def get_triangle(w,h):\n",
    "    area = w*h*0.5\n",
    "    # math.sqrt() : 제곱근\n",
    "    perimeter = w + h + math.sqrt(w*w + h*h)\n",
    "    # return area, perimeter(튜플 리턴)\n",
    "    return {'넓이':area, '둘레':perimeter}\n",
    "get_triangle(3,4)\n",
    "\n",
    "def get_triangle(width, height): # 메일받은 내용\n",
    "    return {\"넓이\":width*height*0.5, \"둘레\":width+height+math.sqrt((width**2)+(height**2))} "
   ]
  },
  {
   "cell_type": "code",
   "execution_count": 40,
   "id": "4c7e0da8",
   "metadata": {},
   "outputs": [
    {
     "name": "stdout",
     "output_type": "stream",
     "text": [
      "10\n"
     ]
    }
   ],
   "source": [
    "# 4.함수의 인자로 시작과 끝 숫자가 주어질 때 시작부터 끝까지의 모든 정수값의 합을 리턴하는 함수를 작성하세요(시작값과 끝값 포함).\n",
    "# • def mysum(fRom, end):\n",
    "\n",
    "def mysum(fRom, end):\n",
    "    sum = 0\n",
    "    for i in range(fRom,end+1):\n",
    "        sum += i\n",
    "    print(sum)\n",
    "    \n",
    "mysum(1,4)\n",
    "\n",
    "def mysum(fRom, end): # 메일받은 내용\n",
    "    return sum(range(fRom, end+1))\n",
    "\n",
    "mysum = lambda fRom, end : sum(range(fRom, end+1)) # 람다식으로 변경"
   ]
  },
  {
   "cell_type": "code",
   "execution_count": 141,
   "id": "2d5644e7",
   "metadata": {},
   "outputs": [
    {
     "name": "stdout",
     "output_type": "stream",
     "text": [
      "['Seo', 'Dea', 'Kwa', 'Jej']\n",
      "['Seo', 'Dea', 'Kwa', 'Jej']\n"
     ]
    }
   ],
   "source": [
    "# 5.함수의인자로 문자열을 포함하는 리스트가 입력될 때 각 문자열의 첫 세글자로만 구성된 리스트를 리턴하는 함수와 람다식을 작성하세요\n",
    "# • 예를 들어 함수의 입력으로 [‘Seoul’, ‘Daegu’, ‘Kwangju’, ‘Jeju’]가 입력될 때 함수의 리턴값은 [‘Seo’, ‘Dae’, ‘Kwa’,’Jej’]\n",
    "# • def get_abbrs(lst):\n",
    "\n",
    "# def get_abbrs(lst):\n",
    "#     i=0\n",
    "#     for i in lst[i][:2]:\n",
    "#         i += 1\n",
    "#     return i\n",
    "    \n",
    "# get_abbrs(['Seoul', 'Daegu', 'Kwangju', 'Jeju'])\n",
    "\n",
    "# a = ['Seoul', 'Daegu', 'Kwangju', 'Jeju']\n",
    "# a[0][:3], a[1][:3]\n",
    "\n",
    "# def get_abbrs(lst):\n",
    "#     x = 0\n",
    "#     for  in lst[x][:3]:\n",
    "\n",
    "# 못품\n",
    "\n",
    "#답\n",
    "             \n",
    "test = ['Seoul', 'Deagu', 'Kwangju', 'Jeju']\n",
    "def get_abbrs(list_):\n",
    "    return [x[:3] for x in list_]\n",
    "\n",
    "def get_addrs(list_): # 많은 메일을 받은 내용 : 위의 리스트컴프리헨션 추천\n",
    "    answer = []\n",
    "    for l in list_:\n",
    "        answer.append(l[:3])\n",
    "    return answer\n",
    "\n",
    "print(get_abbrs(test)) # 일반 함수 이용\n",
    "print((lambda l : [x[:3] for x in l])(test)) #람다식 이용(변수에 람다식을 안담아서 이렇게 쓴것)"
   ]
  },
  {
   "cell_type": "code",
   "execution_count": 138,
   "id": "ac488200",
   "metadata": {},
   "outputs": [
    {
     "data": {
      "text/plain": [
       "8"
      ]
     },
     "execution_count": 138,
     "metadata": {},
     "output_type": "execute_result"
    }
   ],
   "source": [
    "# 6. 다음 코드를 람다 함수 형태로 수정할 때 알맞은 코드를 작성하시오\n",
    "# def f(x,y):\n",
    "#     return x**y\n",
    "\n",
    "f = lambda x,y : x**y \n",
    "f(2,3)"
   ]
  },
  {
   "cell_type": "code",
   "execution_count": 73,
   "id": "3ac74456",
   "metadata": {},
   "outputs": [
    {
     "name": "stdout",
     "output_type": "stream",
     "text": [
      "[1, 4, 9, 16, 25]\n",
      "[1, 4, 9, 16, 25]\n"
     ]
    }
   ],
   "source": [
    "# 7. ex = [1,2,3,4,5]를 [1,4,9,16,25]의 결과를 얻을 수 있도록 람다함수와 map()함수를 사용하여 구현과 리스트 컴프리헨션으로 구현하시오\n",
    "\n",
    "# >>>ex = [1,2,3,4,5]\n",
    "# >>>________________\n",
    "# [1,4,9,16,25]\n",
    "\n",
    "# >>>ex = [1,2,3,4,5]\n",
    "# >>>________________\n",
    "# [1,4,9,16,25]\n",
    "\n",
    "list_ = [1,2,3,4,5]\n",
    "\n",
    "print(list(map(lambda data : data**2 , list_)))\n",
    "print([data**2 for data in list_])"
   ]
  },
  {
   "cell_type": "code",
   "execution_count": null,
   "id": "40294931",
   "metadata": {},
   "outputs": [],
   "source": [
    "# 8. 다음코드를 각각 실행하면 서로 다른 결과가 나온다. 이런 결과가 나오는 이유를 서술하시오\n",
    "\n",
    "#>>> a = [1,2,3]\n",
    "#>>> print(*a)\n",
    "#1 2 3\n",
    "#>>> print(a)\n",
    "#[1,2,3]\n",
    "\n",
    "# 첫번째는 언패킹하여 하나씩 입력하라는 명령. 두번째는 a를 그대로 출력하라는 명령.\n",
    "\n",
    "'''\n",
    "별표(asterisk, *)는 함수의 인자(argument)로 사용될 때,\n",
    "시퀀스형 자료형의 각각의 값(element)을 하나의 값(element)으로\n",
    "넣어주게 된다(언패킹)\n",
    "그러므로 print(*a)의 의미는 사실 print(a[0], a[1], a[2])으로\n",
    "나타나게 된다\n",
    "'''"
   ]
  },
  {
   "cell_type": "code",
   "execution_count": 74,
   "id": "38cd71d0",
   "metadata": {},
   "outputs": [
    {
     "data": {
      "text/plain": [
       "'2024-9-6'"
      ]
     },
     "execution_count": 74,
     "metadata": {},
     "output_type": "execute_result"
    }
   ],
   "source": [
    "# 9. 다음 코드의 실행 결과는?\n",
    "#date_info = {'year':2024, 'month':9, 'day':6}\n",
    "# result = '{year}-{month}-{day}'.format(**date_info)\n",
    "# result\n",
    "\n",
    "# 2024-9-6\n",
    "\n",
    "date_info = {'year':2024, 'month':9, 'day':6}\n",
    "result = '{year}-{month}-{day}'.format(**date_info)\n",
    "result"
   ]
  },
  {
   "cell_type": "code",
   "execution_count": 140,
   "id": "0200e9a3",
   "metadata": {},
   "outputs": [
    {
     "name": "stdout",
     "output_type": "stream",
     "text": [
      "True\n",
      "False\n",
      "True\n",
      "False\n"
     ]
    }
   ],
   "source": [
    "# 10. n개의 벡터(리스트나 튜플, 셋, 딕셔너리)들의 크기가 같은지 여부를 reutrn하는 vector_size_check(*vector _var) 를 한 줄의 코드(리스트 컴프리헨션 이용)로 작성하시오.\n",
    "\n",
    "#def vector_size_check(*vector_var):\n",
    "# #    # print(vector_var)\n",
    "# # # vector_size_check([1,2],{10,20},{'name':'홍','age':30}) 이런식으로 물어봐야함. 그리고 지금 넣은 것은 크기가 다 같음. len상으로 모두 크기가 2. True가 나오게 작성\n",
    "# # # 셋은 중복이 없으니 모든 수를 len으로 만들어서 셋에 넣었을때 셋이 1개면 True인 방식.\n",
    "#     a = set({len(vector_var)})\n",
    "#     if len(a) == 1:\n",
    "#         return True\n",
    "#     else:\n",
    "#         return False\n",
    "\n",
    "\n",
    "# a = ([1,2],{10,20},{'name':'홍','age':30})    \n",
    "# def vector_size_check(*vector_var):\n",
    "#     for vector in vector_var:\n",
    "#         print(vector)\n",
    "        \n",
    "# vector_size_check(a)\n",
    "\n",
    "# 못풀었음\n",
    "\n",
    "# 답\n",
    "def vector_size_check(*vector_var):\n",
    "    result = set()\n",
    "    for vector in vector_var:\n",
    "        result.add(len(vector)) # len(vector_var)이 아니고 vector 하나하나의 len\n",
    "    return len(result)==1\n",
    "\n",
    "def vector_size_check(*vector_var):\n",
    "    return len(set([len(vector) for vector in vector_var]))==1\n",
    "\n",
    "def vector_size_check(*vector_var): # 메일 받은 내용\n",
    "    return True if len(set([len(vec) for vec in vector_var])) == 1 else False\n",
    "\n",
    "print(vector_size_check([1,2], {10,20}, {'name':'홍', 'age':30}, (1,2)))\n",
    "print(vector_size_check([1,2], {10,20}, {'name':'홍', 'age':30}, (1,)))\n",
    "\n",
    "\n",
    "# 실습형 10 람다식으로 (리스트컴프리헨션)\n",
    "vector_size_check = lambda *vector_var :  \\\n",
    "        len(set([len(vector) for vector in vector_var]))==1\n",
    "\n",
    "print(vector_size_check([1,2], {10,20}, {'name':'홍', 'age':30}, (1,2)))\n",
    "print(vector_size_check([1,2], {10,20}, {'name':'홍', 'age':30}, (1,)))"
   ]
  },
  {
   "cell_type": "code",
   "execution_count": 139,
   "id": "9e3f3ae1",
   "metadata": {},
   "outputs": [
    {
     "data": {
      "text/plain": [
       "[10, 20, 30, 40]"
      ]
     },
     "execution_count": 139,
     "metadata": {},
     "output_type": "execute_result"
    }
   ],
   "source": [
    "# 11. 다음과 같은 결과를 얻기 위해 하나의 스칼라값을 리스트나 튜플, 셋등 벡터에 곱하는 코드를 작성하시오.(단 입력되는 벡터의 크기는 일정하지 않음)\n",
    "#scalar_vector_product(5, [1,2,3,4])\n",
    "#[5,10,15,20]\n",
    "\n",
    "# 못함\n",
    "\n",
    "# 답\n",
    "def scalar_vector_product(num, vector):\n",
    "    return [num*vec for vec in vector]\n",
    "\n",
    "def scalar_vector_product(x, lst): # 메일 받은 내용\n",
    "    return list(map(lambda num : num*x, lst)) # 위에가 더 간단해보이는데 왜 map함수를 하냐? 나중에 엄청쓰니까 연습하기.\n",
    "\n",
    "scalar_vector_product = lambda num, vector : [num*v for v in vector]\n",
    "\n",
    "scalar_vector_product(10, [1,2,3,4])"
   ]
  },
  {
   "cell_type": "markdown",
   "id": "4198ea96",
   "metadata": {},
   "source": [
    "## 서술형"
   ]
  },
  {
   "cell_type": "code",
   "execution_count": 112,
   "id": "c7dd359b",
   "metadata": {},
   "outputs": [
    {
     "data": {
      "text/plain": [
       "[(4, 'a'), (3, 'b'), (2, 'c'), (1, 'd')]"
      ]
     },
     "execution_count": 112,
     "metadata": {},
     "output_type": "execute_result"
    }
   ],
   "source": [
    "# 1. 다음코드의 실행 결과는?\n",
    "'''\n",
    "pairs = [(1,'d'),(2,'c'),(3,'b'),(4,'a')]\n",
    "pairs.sort[key=lambda pair : pair[1]]\n",
    "pairs\n",
    "'''\n",
    "# (4, 'a'),(3,'b'),(2,'c'),(1,'d')\n",
    "\n",
    "pairs = [(1,'d'),(2,'c'),(3,'b'),(4,'a')]\n",
    "pairs.sort(key = lambda pair : pair[1])\n",
    "pairs"
   ]
  },
  {
   "cell_type": "code",
   "execution_count": 142,
   "id": "785abd3e",
   "metadata": {},
   "outputs": [
    {
     "name": "stdout",
     "output_type": "stream",
     "text": [
      "612613"
     ]
    }
   ],
   "source": [
    "# 2.\n",
    "'''\n",
    " 1. a = 10\n",
    " 2. def sub(): # global a # 문제해결을 위한 코드\n",
    " 3.     a += 1 # a= a+1\n",
    " 4.     print(a, end = '')\n",
    " 5.     \n",
    " 6. def func():\n",
    " 7.     for i in range(2):\n",
    " 8.         a = 5\n",
    " 9.         a+= 1\n",
    "10.         print(a, end = '')\n",
    "11.         sub()\n",
    "12.         \n",
    "13. a += 1\n",
    "14. func()    \n",
    "'''\n",
    "# - 오류가 발생하는 라인 : 3줄. a가 할당되지 않음.\n",
    "# - 문제해결을 위한 코드 : global a\n",
    "# - 코드 수정 후 실행 결과 : 6 12 6 13\n",
    "a = 10\n",
    "def sub():\n",
    "    global a\n",
    "    a += 1\n",
    "    print(a, end = '')\n",
    "    \n",
    "def func():\n",
    "    for i in range(2):\n",
    "        a = 5 # 지역변수\n",
    "        a+= 1\n",
    "        print(a, end = '')\n",
    "        sub()\n",
    "         \n",
    "a += 1\n",
    "func()    \n",
    "\n",
    "# 6(func함수에서 출력) 12(sub함수에서 출력) 6(func함수에서 출력) 13(sub함수에서 출력)"
   ]
  },
  {
   "cell_type": "code",
   "execution_count": 113,
   "id": "cbc06c28",
   "metadata": {},
   "outputs": [
    {
     "name": "stdout",
     "output_type": "stream",
     "text": [
      "100\n"
     ]
    }
   ],
   "source": [
    "# 3. 다음구문을 실행한 결과는\n",
    "var = 100\n",
    "def func(var): # 매개변수로 들어온 변수는 지역변수\n",
    "    var = 200  # 그러므로 var는 전역변수가 아니고 지역변수\n",
    "func(var)\n",
    "print(var)\n",
    "\n",
    "# var = 100"
   ]
  },
  {
   "cell_type": "code",
   "execution_count": 114,
   "id": "ff38671d",
   "metadata": {},
   "outputs": [
    {
     "data": {
      "text/plain": [
       "5"
      ]
     },
     "execution_count": 114,
     "metadata": {},
     "output_type": "execute_result"
    }
   ],
   "source": [
    "# 4.다음구문의실행 결과는?\n",
    "\n",
    "def my_func(func, *args):\n",
    "    return func(*args)\n",
    "import numpy as np\n",
    "my_func(np.add, 2, 3) # 더하는 함수"
   ]
  },
  {
   "cell_type": "code",
   "execution_count": 115,
   "id": "00a9d8ca",
   "metadata": {},
   "outputs": [
    {
     "data": {
      "text/plain": [
       "9"
      ]
     },
     "execution_count": 115,
     "metadata": {},
     "output_type": "execute_result"
    }
   ],
   "source": [
    "# 5.다음구문의 실행결과는?\n",
    "\n",
    "def my_func(func, *args):\n",
    "    return func(*args)\n",
    "my_func(lambda a, b : a**b, 3, 2)\n",
    "\n",
    "#9"
   ]
  },
  {
   "cell_type": "code",
   "execution_count": null,
   "id": "2a55ecec",
   "metadata": {},
   "outputs": [],
   "source": [
    "# 6.파이썬 함수에 대한 설명 중 잘못된 것은?\n",
    "\n",
    "① 파이썬의 함수는 중복 정의해 사용할 수 있다.\n",
    "② 파이썬의 함수 매개변수는 기본값을 가질 수 있다.\n",
    "③ **args 형식의 매개변수가 있으면 키워드 인수는 딕셔너리 형식으로 받는다.\n",
    "④ 함수를 호출할 때 매개변수 이름이 없는 인수는 매개변수 이름이 있는 인수보다 앞에 와야 한다. # 순서인수\n",
    "\n",
    "# ①"
   ]
  },
  {
   "cell_type": "code",
   "execution_count": null,
   "id": "a3b5c04a",
   "metadata": {},
   "outputs": [],
   "source": [
    "# 7.다음과 같은 구문이 있을 경우 오류가 발생하는 함수 호출은?\n",
    "'''\n",
    "list_ = []\n",
    "def func(a, L=None):\n",
    "    if L is None:\n",
    "        L=[]\n",
    "    L append(a)\n",
    "    return L\n",
    "'''\n",
    "① func(10, list_)\n",
    "② func(20, L=list_)\n",
    "③ func(a=30)\n",
    "④ func([], a=40)\n",
    "\n",
    "# ④"
   ]
  },
  {
   "cell_type": "code",
   "execution_count": null,
   "id": "2dfae126",
   "metadata": {},
   "outputs": [],
   "source": [
    "# 8. 다음 보기가 설명하는 것을 작성하기 위한 키워드를 쓰세요.(영문 소문자로 쓰세요)\n",
    "# - 작은 익명함수를 의미합니다.\n",
    "# - 함수가 실행할 문장이 한 문장일 경우에 만들어 사용할 수 있습니다.\n",
    "# - 다른 함수의 인수 또는 리턴값에 사용할 수 있습니다.\n",
    "\n",
    "# 람다함수"
   ]
  }
 ],
 "metadata": {
  "kernelspec": {
   "display_name": "Python 3 (ipykernel)",
   "language": "python",
   "name": "python3"
  },
  "language_info": {
   "codemirror_mode": {
    "name": "ipython",
    "version": 3
   },
   "file_extension": ".py",
   "mimetype": "text/x-python",
   "name": "python",
   "nbconvert_exporter": "python",
   "pygments_lexer": "ipython3",
   "version": "3.10.9"
  },
  "toc": {
   "base_numbering": 1,
   "nav_menu": {},
   "number_sections": false,
   "sideBar": true,
   "skip_h1_title": false,
   "title_cell": "Table of Contents",
   "title_sidebar": "Contents",
   "toc_cell": false,
   "toc_position": {
    "height": "calc(100% - 180px)",
    "left": "10px",
    "top": "150px",
    "width": "165px"
   },
   "toc_section_display": true,
   "toc_window_display": true
  }
 },
 "nbformat": 4,
 "nbformat_minor": 5
}
