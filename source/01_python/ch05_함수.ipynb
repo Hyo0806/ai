{
 "cells": [
  {
   "cell_type": "code",
   "execution_count": 1,
   "id": "20c116c9",
   "metadata": {},
   "outputs": [
    {
     "data": {
      "text/html": [
       "\n",
       "<style>\n",
       "div.container{width:90% !important;}\n",
       "div.cell.code_cell.rendered{width:100%;}\n",
       "div.input_prompt{padding:0px;}\n",
       "div.CodeMirror {font-family:Consolas; font-size:12pt;}\n",
       "div.text_cell_render.rendered_html{font-size:12pt;}\n",
       "div.output {font-size:12pt; font-weight:bold;}\n",
       "div.input {font-family:Consolas; font-size:12pt;}\n",
       "div.prompt {min-width:70px;}\n",
       "div#toc-wrapper{padding-top:120px;}\n",
       "div.text_cell_render ul li{font-size:12pt;padding:5px;}\n",
       "table.dataframe{font-size:12px;}\n",
       "</style>\n"
      ],
      "text/plain": [
       "<IPython.core.display.HTML object>"
      ]
     },
     "metadata": {},
     "output_type": "display_data"
    }
   ],
   "source": [
    "from IPython.display import display, HTML\n",
    "display(HTML(\"\"\"\n",
    "<style>\n",
    "div.container{width:90% !important;}\n",
    "div.cell.code_cell.rendered{width:100%;}\n",
    "div.input_prompt{padding:0px;}\n",
    "div.CodeMirror {font-family:Consolas; font-size:12pt;}\n",
    "div.text_cell_render.rendered_html{font-size:12pt;}\n",
    "div.output {font-size:12pt; font-weight:bold;}\n",
    "div.input {font-family:Consolas; font-size:12pt;}\n",
    "div.prompt {min-width:70px;}\n",
    "div#toc-wrapper{padding-top:120px;}\n",
    "div.text_cell_render ul li{font-size:12pt;padding:5px;}\n",
    "table.dataframe{font-size:12px;}\n",
    "</style>\n",
    "\"\"\"))"
   ]
  },
  {
   "cell_type": "markdown",
   "id": "d0af879a",
   "metadata": {},
   "source": [
    "<b><font size=\"6\" color=\"red\"> ch05. 함수 </font></b>\n",
    "\n",
    "- 반복해서 사용할 코드를 묶어 놓고 그것에 이름을 붙인 것\n",
    "- 오버로딩 불가(같은 이름의 함수는 덮어씀)\n",
    "- 함수 정의\n",
    "\n",
    "```\n",
    "\n",
    "def 함수명([매개변수1, 매개변수2, ...]):\n",
    "    명령어1\n",
    "    명령어2...\n",
    "\n",
    "```\n",
    "\n",
    "# 1절. 함수의 정의 및 사용\n",
    "\n",
    "## 1.1 함수 정의"
   ]
  },
  {
   "cell_type": "code",
   "execution_count": 2,
   "id": "a160eae9",
   "metadata": {},
   "outputs": [],
   "source": [
    "def my_message(x, msg): # msg를 x번 출력하는 함수 정의\n",
    "    for i in range(x):  \n",
    "        print(i, msg)"
   ]
  },
  {
   "cell_type": "code",
   "execution_count": 3,
   "id": "442b4689",
   "metadata": {},
   "outputs": [
    {
     "name": "stdout",
     "output_type": "stream",
     "text": [
      "0 Hello\n",
      "1 Hello\n",
      "2 Hello\n"
     ]
    }
   ],
   "source": [
    "# 함수 사용 == 함수 호출\n",
    "\n",
    "my_message(3, 'Hello')"
   ]
  },
  {
   "cell_type": "code",
   "execution_count": 5,
   "id": "72bfed79",
   "metadata": {},
   "outputs": [
    {
     "name": "stdout",
     "output_type": "stream",
     "text": [
      "0 Hello\n",
      "1 Hello\n",
      "0 Python\n",
      "1 Python\n",
      "2 Python\n"
     ]
    }
   ],
   "source": [
    "# 함수 이름 변경 (함수 복사)\n",
    "\n",
    "my_msg = my_message\n",
    "\n",
    "my_message(2, 'Hello')\n",
    "my_msg(3, 'Python')"
   ]
  },
  {
   "cell_type": "code",
   "execution_count": 6,
   "id": "1b3b68be",
   "metadata": {},
   "outputs": [
    {
     "data": {
      "text/plain": [
       "(function, function)"
      ]
     },
     "execution_count": 6,
     "metadata": {},
     "output_type": "execute_result"
    }
   ],
   "source": [
    "type(my_msg), type(my_message)"
   ]
  },
  {
   "cell_type": "code",
   "execution_count": 7,
   "id": "42a31b01",
   "metadata": {},
   "outputs": [
    {
     "name": "stdout",
     "output_type": "stream",
     "text": [
      "Hello\n"
     ]
    }
   ],
   "source": [
    "print('Hello') # 파이썬 내장 함수(import하지 않고 사용할 수 있는 함수)\n",
    "# print = 5\n",
    "# print('Hello') - error\n",
    "# del print 지워줘야함"
   ]
  },
  {
   "cell_type": "code",
   "execution_count": 8,
   "id": "0406a232",
   "metadata": {},
   "outputs": [
    {
     "name": "stdout",
     "output_type": "stream",
     "text": [
      "0 Hello\n",
      "1 Hello\n"
     ]
    }
   ],
   "source": [
    "my_message(2, 'Hello')"
   ]
  },
  {
   "cell_type": "code",
   "execution_count": 9,
   "id": "b87083da",
   "metadata": {},
   "outputs": [
    {
     "name": "stdout",
     "output_type": "stream",
     "text": [
      "0 Hello\n",
      "1 Hello\n"
     ]
    }
   ],
   "source": [
    "my_message = 5\n",
    "my_msg(2, 'Hello')"
   ]
  },
  {
   "cell_type": "code",
   "execution_count": null,
   "id": "d8266324",
   "metadata": {},
   "outputs": [],
   "source": [
    "# my_message(2, 'Hello') 이제 실행하면 에러남."
   ]
  },
  {
   "cell_type": "code",
   "execution_count": 10,
   "id": "04daeec4",
   "metadata": {},
   "outputs": [],
   "source": [
    "del my_message # 변수 및 함수 제거하여도\n",
    "# 사용자 정의함수, 라이브러리 함수는 사용불가\n",
    "\n",
    "# my_message(2, 'Hello') 함수 정의 자체를 지워버렸기 때문에 에러남"
   ]
  },
  {
   "cell_type": "code",
   "execution_count": 11,
   "id": "54111027",
   "metadata": {},
   "outputs": [],
   "source": [
    "# 함수 중복 정의 불가 (오버로딩 불가)\n",
    "\n",
    "def my_hello():\n",
    "    print('Hello Python')\n",
    "    print('Hello World')\n",
    "def my_hello(cnt): # cnt번 출력하는 함수로 내가 다시 정의함\n",
    "    for i in range(cnt):\n",
    "        print('Hello, Python', end = '\\t')\n",
    "        print('Hello, World')"
   ]
  },
  {
   "cell_type": "code",
   "execution_count": null,
   "id": "eb870c51",
   "metadata": {},
   "outputs": [],
   "source": [
    "# 매개변수 없으면 첫번째 것 실행하면 좋겠고\n",
    "\n",
    "# my_hello() 자바나 C++과 달리 파이썬은 중복되어 첫번째 정의는 사라지기 때문에 에러남"
   ]
  },
  {
   "cell_type": "code",
   "execution_count": 12,
   "id": "08c63597",
   "metadata": {},
   "outputs": [
    {
     "name": "stdout",
     "output_type": "stream",
     "text": [
      "Hello, Python\tHello, World\n",
      "Hello, Python\tHello, World\n"
     ]
    }
   ],
   "source": [
    "# 변수가 있으면 두번째 것 실행하면 좋겠어\n",
    "\n",
    "my_hello(2) # 두번째 정의만 살아있어서 매개변수가 반드시 하나 있어야함."
   ]
  },
  {
   "cell_type": "code",
   "execution_count": 13,
   "id": "93292f53",
   "metadata": {},
   "outputs": [
    {
     "data": {
      "text/plain": [
       "<function __main__.my_hello(cnt)>"
      ]
     },
     "execution_count": 13,
     "metadata": {},
     "output_type": "execute_result"
    }
   ],
   "source": [
    "my_hello"
   ]
  },
  {
   "cell_type": "code",
   "execution_count": 14,
   "id": "e506b9db",
   "metadata": {},
   "outputs": [
    {
     "data": {
      "text/plain": [
       "'__main__'"
      ]
     },
     "execution_count": 14,
     "metadata": {},
     "output_type": "execute_result"
    }
   ],
   "source": [
    "__name__"
   ]
  },
  {
   "cell_type": "code",
   "execution_count": 15,
   "id": "e921c929",
   "metadata": {},
   "outputs": [
    {
     "name": "stdout",
     "output_type": "stream",
     "text": [
      "Hello, Python\tHello, World\n",
      "Hello, Python\tHello, World\n"
     ]
    }
   ],
   "source": [
    "if __name__ == '__main__': # import 한게 아니라 이 파일에서 실행한 거야? 라고 물어보는 거라고\n",
    "    my_hello(2)"
   ]
  },
  {
   "cell_type": "code",
   "execution_count": 16,
   "id": "30e660b6",
   "metadata": {},
   "outputs": [],
   "source": [
    "import ch05 # ch05모듈이 해석되어서 메모리 로드"
   ]
  },
  {
   "cell_type": "code",
   "execution_count": 17,
   "id": "72e63086",
   "metadata": {},
   "outputs": [
    {
     "name": "stdout",
     "output_type": "stream",
     "text": [
      "ch05\n",
      "Hello, Python\tHello, World\n",
      "Hello, Python\tHello, World\n",
      "Hello, Python\tHello, World\n"
     ]
    }
   ],
   "source": [
    "ch05.my_hello(3) # my_hello 만 그대로 쓰면 안됨. ch05를 import했기때문에 앞에 붙여줘야함."
   ]
  },
  {
   "cell_type": "code",
   "execution_count": 18,
   "id": "6f572b08",
   "metadata": {},
   "outputs": [],
   "source": [
    "from ch05 import my_hello # ch05라는 모듈 안에서 my_hello라는 함수만 가져오고 싶어 라는 말. (my_hello만 메모리 로드)"
   ]
  },
  {
   "cell_type": "code",
   "execution_count": 19,
   "id": "c10d77e8",
   "metadata": {},
   "outputs": [
    {
     "name": "stdout",
     "output_type": "stream",
     "text": [
      "ch05\n",
      "Hello, Python\tHello, World\n",
      "Hello, Python\tHello, World\n",
      "Hello, Python\tHello, World\n"
     ]
    }
   ],
   "source": [
    "my_hello(3)"
   ]
  },
  {
   "cell_type": "markdown",
   "id": "0ce41f24",
   "metadata": {},
   "source": [
    "## 1.2 docstring"
   ]
  },
  {
   "cell_type": "code",
   "execution_count": 20,
   "id": "b9431369",
   "metadata": {},
   "outputs": [],
   "source": [
    "def my_function():\n",
    "    '''\n",
    "    \n",
    "    함수의 첫 라인에 독스트링을 포함할 수 있습니다.\n",
    "    독스트링은 함수의 설명서를 달아주는 역할\n",
    "    주석보다 많은 기능(함수 호출시 shift+tab으로 독스트링을 볼 수 있음)\n",
    "    \n",
    "    '''\n",
    "    # 주석은 shift+tab으로 보이지 않음.\n",
    "    pass"
   ]
  },
  {
   "cell_type": "code",
   "execution_count": 22,
   "id": "e3c99069",
   "metadata": {},
   "outputs": [
    {
     "name": "stdout",
     "output_type": "stream",
     "text": [
      "\n",
      "    \n",
      "    함수의 첫 라인에 독스트링을 포함할 수 있습니다.\n",
      "    독스트링은 함수의 설명서를 달아주는 역할\n",
      "    주석보다 많은 기능(함수 호출시 shift+tab으로 독스트링을 볼 수 있음)\n",
      "    \n",
      "    \n"
     ]
    }
   ],
   "source": [
    "print(my_function.__doc__) # 함수의 독스트링만 볼 수 있음"
   ]
  },
  {
   "cell_type": "code",
   "execution_count": 23,
   "id": "a7a4f702",
   "metadata": {},
   "outputs": [],
   "source": [
    "def fibonacci(n):\n",
    "    '''\n",
    "    \n",
    "    매개변수로 들어온 n값 미만의 피보나치 수열을 출력하는 함수\n",
    "    ex. n=10 : 0 1 1 2 3 5 8\n",
    "       n=100 : 0 1 1 2 3 5 8 13 21 34 55 89\n",
    "    \n",
    "    '''\n",
    "    a,b = 0,1 # 함수 내에 선언한 변수 : 지역변수(반대말 : 전역변수) (지역변수는 이 함수 내에서만 정의된 것. fibonacci가 전역변수)\n",
    "    while a < n:\n",
    "        print(a, end=' ')\n",
    "        a, b = b, a+b\n",
    "    print() # 개행"
   ]
  },
  {
   "cell_type": "code",
   "execution_count": 26,
   "id": "bccc533d",
   "metadata": {},
   "outputs": [
    {
     "name": "stdout",
     "output_type": "stream",
     "text": [
      "0 1 1 2 3 5 8 13 21 34 55 89 144 233 377 610 987 1597 2584 4181 6765 \n"
     ]
    }
   ],
   "source": [
    "fibonacci(10000)"
   ]
  },
  {
   "cell_type": "code",
   "execution_count": null,
   "id": "f2e5dda5",
   "metadata": {},
   "outputs": [],
   "source": [
    "# a, b 지역변수는 함수 내에서만 사용가능"
   ]
  },
  {
   "cell_type": "markdown",
   "id": "680175e7",
   "metadata": {},
   "source": [
    "## 1.3 지역변수(local var)와 전역변수(global var)"
   ]
  },
  {
   "cell_type": "code",
   "execution_count": 27,
   "id": "2ac6ab00",
   "metadata": {},
   "outputs": [
    {
     "name": "stdout",
     "output_type": "stream",
     "text": [
      "함수안 : 100\n",
      "함수밖 : 100\n"
     ]
    }
   ],
   "source": [
    "global_var = 100 # 전역변수\n",
    "def func1():\n",
    "    print('함수안 :', global_var) # 함수를 만들때 지역변수심볼테이블에서 global_var을 찾는다. 거기서 못찾으면 전역심볼테이블에서 찾는다. 있기 때문에 작동. \n",
    "func1()\n",
    "print('함수밖 :', global_var)"
   ]
  },
  {
   "cell_type": "code",
   "execution_count": 28,
   "id": "94377e8d",
   "metadata": {},
   "outputs": [
    {
     "name": "stdout",
     "output_type": "stream",
     "text": [
      "함수안 : 200\n"
     ]
    }
   ],
   "source": [
    "def func2():\n",
    "    local_var = 200 # 지역변수(함수내에서 할당)\n",
    "    print('함수안 :', local_var)\n",
    "func2()"
   ]
  },
  {
   "cell_type": "code",
   "execution_count": null,
   "id": "a93f84d3",
   "metadata": {},
   "outputs": [],
   "source": [
    "# print('함수밖에서 지역변수 :', local_var) error"
   ]
  },
  {
   "cell_type": "code",
   "execution_count": 29,
   "id": "4db6146f",
   "metadata": {},
   "outputs": [
    {
     "name": "stdout",
     "output_type": "stream",
     "text": [
      "지역변수 g_var : 200\n",
      "전역변수 g_var : 100\n"
     ]
    }
   ],
   "source": [
    "g_var = 100 # 전역변수\n",
    "def func3():\n",
    "    g_var = 200 # 지역변수(함수 내에서 할당) # 지역변수심볼테이블과 전역변수심볼테이블은 분리되어있기에 따로 들어감\n",
    "    print('지역변수 g_var :', g_var) # 지역변수 출력\n",
    "func3()\n",
    "print('전역변수 g_var :', g_var)"
   ]
  },
  {
   "cell_type": "code",
   "execution_count": null,
   "id": "ec52a5bf",
   "metadata": {},
   "outputs": [],
   "source": [
    "# 렉시컬 특성 : 변수가 어디서 선언되었는지에 따라 변수의 범위가 정해짐(지역vs전역)\n",
    "\n",
    "g_var = 100 \n",
    "def func3():\n",
    "    print('지역변수 g_var :', g_var) \n",
    "    g_var = 200  # 지역변수심볼테이블에 g_var가 올라와있지만 할당된 데이터(200)가 출력시점 후라서 에러가 난다. \n",
    "func3()\n",
    "print('전역변수 g_var :', g_var)"
   ]
  },
  {
   "cell_type": "code",
   "execution_count": 30,
   "id": "dd97e5be",
   "metadata": {},
   "outputs": [
    {
     "name": "stdout",
     "output_type": "stream",
     "text": [
      "전역변수 g_var : 100\n",
      "전역변수 g_var : 200\n"
     ]
    }
   ],
   "source": [
    "# 렉시컬 특성\n",
    "\n",
    "g_var = 100 \n",
    "def func3():\n",
    "    global g_var # 함수 내에서의 g_var는 전역변수를 쓰겠다. global뒤에는 반드시 전역변수를 써야함\n",
    "    print('전역변수 g_var :', g_var) \n",
    "    g_var = 200 # 전역변수 g_var에 200 할당하고 싶음\n",
    "func3()\n",
    "print('전역변수 g_var :', g_var)"
   ]
  },
  {
   "cell_type": "markdown",
   "id": "e633657c",
   "metadata": {},
   "source": [
    "## 1.4 값에 의한 호출\n",
    "\n",
    "- 함수에 인수로 전달되는 변수가 스칼라변수(문자, 숫자, 논리형)일 때 "
   ]
  },
  {
   "cell_type": "code",
   "execution_count": 31,
   "id": "560ac2c2",
   "metadata": {},
   "outputs": [
    {
     "data": {
      "text/plain": [
       "2947172558640"
      ]
     },
     "execution_count": 31,
     "metadata": {},
     "output_type": "execute_result"
    }
   ],
   "source": [
    "foo = 'a' # 전역변수\n",
    "id(foo)"
   ]
  },
  {
   "cell_type": "code",
   "execution_count": 32,
   "id": "33f9230b",
   "metadata": {},
   "outputs": [
    {
     "name": "stdout",
     "output_type": "stream",
     "text": [
      "Before : a 의 주소는  2947172558640\n",
      "After : aaa 의 주소는  2947275290224\n"
     ]
    }
   ],
   "source": [
    "def func1(f): # 매개변수는 지역변수\n",
    "    print('Before :', f, '의 주소는 ', id(f))\n",
    "    f = f*3\n",
    "    print('After :', f, '의 주소는 ', id(f))\n",
    "func1(foo)"
   ]
  },
  {
   "cell_type": "code",
   "execution_count": 33,
   "id": "bdd5eaeb",
   "metadata": {},
   "outputs": [
    {
     "name": "stdout",
     "output_type": "stream",
     "text": [
      "foo =  a 의 주소는  2947172558640\n"
     ]
    }
   ],
   "source": [
    "print('foo = ', foo, '의 주소는 ', id(foo)) # foo 의 주소가 바뀌지는 않음. 값에 의한 호출."
   ]
  },
  {
   "cell_type": "markdown",
   "id": "5b85f82f",
   "metadata": {},
   "source": [
    "## 1.5 참조에 의한 호출\n",
    "\n",
    "- 함수에 인수로 전달되는 변수가 리스트, 튜플, 셋, 딕셔너리, 기타 객체일 경우"
   ]
  },
  {
   "cell_type": "code",
   "execution_count": 34,
   "id": "18b398f8",
   "metadata": {},
   "outputs": [
    {
     "data": {
      "text/plain": [
       "2947273299584"
      ]
     },
     "execution_count": 34,
     "metadata": {},
     "output_type": "execute_result"
    }
   ],
   "source": [
    "L = [1, 2, 3, 4, 5]\n",
    "id(L)"
   ]
  },
  {
   "cell_type": "code",
   "execution_count": 35,
   "id": "43d5a02f",
   "metadata": {},
   "outputs": [
    {
     "name": "stdout",
     "output_type": "stream",
     "text": [
      "Before : [1, 2, 3, 4, 5] 의 주소는  2947273299584\n",
      "After : [1, 2, 3, 4, 5, 6] 의 주소는  2947273299584\n"
     ]
    }
   ],
   "source": [
    "def func2(l): # 매개변수는 지역변수\n",
    "    print('Before :', l, '의 주소는 ', id(l))\n",
    "    l.append(6)\n",
    "    print('After :', l, '의 주소는 ', id(l))\n",
    "func2(L)"
   ]
  },
  {
   "cell_type": "code",
   "execution_count": 37,
   "id": "3baab38d",
   "metadata": {},
   "outputs": [
    {
     "name": "stdout",
     "output_type": "stream",
     "text": [
      "L =  [1, 2, 3, 4, 5, 6] 의 주소는 2947273299584\n"
     ]
    }
   ],
   "source": [
    "print('L = ', L, '의 주소는', id(L)) # 참조에 의한 호출은 함수를 빠져나와도 전역변수의 값이 바뀐다"
   ]
  },
  {
   "cell_type": "markdown",
   "id": "54251647",
   "metadata": {},
   "source": [
    "# 2절. 함수의 실행결과를 반환하는 return"
   ]
  },
  {
   "cell_type": "code",
   "execution_count": 39,
   "id": "d3e2894e",
   "metadata": {},
   "outputs": [],
   "source": [
    "def fibonacci_print(n):\n",
    "    '''\n",
    "    매개변수로 들어온 n값 미만의 피보나치 수열을 출력하는 함수\n",
    "    ex. n=10 : 0 1 1 2 3 5 8\n",
    "       n=100 : 0 1 1 2 3 5 8 13 21 34 55 89\n",
    "    '''\n",
    "    a,b = 0,1 \n",
    "    while a < n:\n",
    "        print(a, end=' ')\n",
    "        a, b = b, a+b\n",
    "    print() \n",
    "    \n",
    "def fibonacci(n):\n",
    "    'n미만의 피보나치 수열을 리스트로 return'\n",
    "    result = [] # 피보나치 수열을 append할 리스트\n",
    "    a,b = 0,1\n",
    "    while a < n:\n",
    "        result.append(a) # 리스트에 append\n",
    "        a,b = b,a+b\n",
    "    return result"
   ]
  },
  {
   "cell_type": "code",
   "execution_count": 41,
   "id": "43899ffd",
   "metadata": {},
   "outputs": [
    {
     "name": "stdout",
     "output_type": "stream",
     "text": [
      "[0, 1, 1, 2, 3, 5, 8]\n",
      "<class 'list'>\n"
     ]
    }
   ],
   "source": [
    "x = fibonacci(10)\n",
    "print(x)\n",
    "print(type(x))"
   ]
  },
  {
   "cell_type": "code",
   "execution_count": 42,
   "id": "f436dc90",
   "metadata": {},
   "outputs": [
    {
     "name": "stdout",
     "output_type": "stream",
     "text": [
      "0 1 1 2 3 5 8 \n",
      "x =  None\n",
      "<class 'NoneType'>\n"
     ]
    }
   ],
   "source": [
    "x = fibonacci_print(10)\n",
    "print('x = ', x)\n",
    "print(type(x))"
   ]
  },
  {
   "cell_type": "markdown",
   "id": "7308a3b9",
   "metadata": {},
   "source": [
    "### 여러개 값 return\n",
    "\n",
    "- 여러개 값을 갖는 튜플로 return"
   ]
  },
  {
   "cell_type": "code",
   "execution_count": 43,
   "id": "2a7e4903",
   "metadata": {},
   "outputs": [],
   "source": [
    "def swap(a,b):\n",
    "    '매개변수의 순서를 바꿔서 return'\n",
    "    return b, a # = return(b,a) : 파이썬에서는 ,로 나열하면 자동적으로 튜플로 바뀜"
   ]
  },
  {
   "cell_type": "code",
   "execution_count": 45,
   "id": "0d527fa4",
   "metadata": {},
   "outputs": [
    {
     "name": "stdout",
     "output_type": "stream",
     "text": [
      "함수 실행 전 x,y = 5 10\n",
      "함수 실행 후 x,y = 10 5\n"
     ]
    }
   ],
   "source": [
    "x,y = 5,10\n",
    "# x=5; y=10 위에거랑 같은 말. ;는 한줄에 명령어가 여러개 있을 때 명령어와 명령어를 구분하는 용도로 사용.\n",
    "print('함수 실행 전 x,y =', x,y)\n",
    "x,y = swap(x,y)\n",
    "print('함수 실행 후 x,y =', x,y)"
   ]
  },
  {
   "cell_type": "markdown",
   "id": "574049a8",
   "metadata": {},
   "source": [
    "# 3절. 함수의 매개변수 ★\n",
    "\n",
    "## 3.1 기본값을 갖는 매개변수"
   ]
  },
  {
   "cell_type": "code",
   "execution_count": 46,
   "id": "9bd6df2f",
   "metadata": {},
   "outputs": [],
   "source": [
    "def make_url(ip, port=80): # 순서인수 > 기본값을 갖는 매개변수  # port에 기본값을 부여하는것. 변수값을 설정하지 않을경우 80이라는 말\n",
    "    return 'http://{}:{}'.format(ip, port)"
   ]
  },
  {
   "cell_type": "code",
   "execution_count": null,
   "id": "dd53ce72",
   "metadata": {},
   "outputs": [],
   "source": [
    "# 기본값을 갖는 매개변수가 먼저오면 그 다음에는 순서인수를 넣을 수 없음. 반드시 순서인수가 먼저 나와야함. 아래처럼 작성하면 에러남.\n",
    "\n",
    "#def make_url(port=80, ip):\n",
    "#    return 'http://{}:{}'.format(ip, port)"
   ]
  },
  {
   "cell_type": "code",
   "execution_count": 49,
   "id": "a1615789",
   "metadata": {},
   "outputs": [
    {
     "name": "stdout",
     "output_type": "stream",
     "text": [
      "http://localhost:8090\n",
      "http://www.naver.com:80\n",
      "http://localhost:9090\n"
     ]
    }
   ],
   "source": [
    "print(make_url('localhost', 8090))\n",
    "print(make_url('www.naver.com')) # port값을 쓰지 않으면 기본값을 넣은 80이 알아서 출력\n",
    "print(make_url(port=9090, ip='localhost')) # 남이 만든 함수에 매개변수가 많으면 순서를 모르니까 이런식으로도 사용가능"
   ]
  },
  {
   "cell_type": "markdown",
   "id": "8932fe8e",
   "metadata": {},
   "source": [
    "## 3.2 기본변수를 갖는 매개변수\n",
    "\n",
    "- 기본변수가 스칼라변수(문자, 숫자, 논리형)\n",
    "- 기본변수가 리스트, 셋, 딕셔너리, 튜플, 기타 객체일때"
   ]
  },
  {
   "cell_type": "code",
   "execution_count": 50,
   "id": "35cea077",
   "metadata": {},
   "outputs": [],
   "source": [
    "# 기본변수가 스칼라변수일 때 : 함수가 정의되는 시점으로 기본값 셋팅\n",
    "\n",
    "i = 80\n",
    "def make_url(ip, port = i):\n",
    "    return 'http://{}:{}'.format(ip, port)"
   ]
  },
  {
   "cell_type": "code",
   "execution_count": 52,
   "id": "9beb12c7",
   "metadata": {},
   "outputs": [
    {
     "data": {
      "text/plain": [
       "'http://localhost:80'"
      ]
     },
     "execution_count": 52,
     "metadata": {},
     "output_type": "execute_result"
    }
   ],
   "source": [
    "# i를 아무리 바꾸려고 해도 기본값은 80이다\n",
    "\n",
    "i = 9999\n",
    "make_url('localhost')"
   ]
  },
  {
   "cell_type": "code",
   "execution_count": 53,
   "id": "487d0b54",
   "metadata": {},
   "outputs": [
    {
     "name": "stdout",
     "output_type": "stream",
     "text": [
      "[10]\n"
     ]
    }
   ],
   "source": [
    "# 기본변수가 리스트, 셋, 딕셔너리, 객체일 때 : 함수가 실행되는 시점으로 기본값 셋팅\n",
    "\n",
    "list_ = []\n",
    "def func3(a,L = list_): # 기본값을 변수로 받는것\n",
    "    L.append(a)\n",
    "    return L\n",
    "print(func3(10))"
   ]
  },
  {
   "cell_type": "code",
   "execution_count": 54,
   "id": "3dd526a3",
   "metadata": {},
   "outputs": [
    {
     "name": "stdout",
     "output_type": "stream",
     "text": [
      "[10, 20]\n"
     ]
    }
   ],
   "source": [
    "print(func3(20))"
   ]
  },
  {
   "cell_type": "code",
   "execution_count": 55,
   "id": "c0976a71",
   "metadata": {},
   "outputs": [
    {
     "name": "stdout",
     "output_type": "stream",
     "text": [
      "list_ =  [10, 20]\n"
     ]
    }
   ],
   "source": [
    "print('list_ = ', list_)"
   ]
  },
  {
   "cell_type": "code",
   "execution_count": 56,
   "id": "8d4c859e",
   "metadata": {},
   "outputs": [
    {
     "name": "stdout",
     "output_type": "stream",
     "text": [
      "[10, 20, 50]\n"
     ]
    }
   ],
   "source": [
    "print(func3(50))"
   ]
  },
  {
   "cell_type": "code",
   "execution_count": 57,
   "id": "a4a855da",
   "metadata": {},
   "outputs": [
    {
     "name": "stdout",
     "output_type": "stream",
     "text": [
      "[10]\n"
     ]
    }
   ],
   "source": [
    "# 실행할 때마다 L을 공유하는게 싫으면 \n",
    "\n",
    "def func3(a, L=None):\n",
    "    if L is None:  # L에 아무것도 없어? 그럼 그때 L=[]\n",
    "        L = []\n",
    "    L.append(a)    # L에 정보가 있어? 그럼 이거 실행해\n",
    "    return L\n",
    "print(func3(10))"
   ]
  },
  {
   "cell_type": "code",
   "execution_count": 58,
   "id": "94270ad0",
   "metadata": {},
   "outputs": [
    {
     "name": "stdout",
     "output_type": "stream",
     "text": [
      "[20]\n"
     ]
    }
   ],
   "source": [
    "print(func3(20)) # 위와 달리 아무리 실행해도 a값만 나옴."
   ]
  },
  {
   "cell_type": "markdown",
   "id": "df25bbe3",
   "metadata": {},
   "source": [
    "## 3.3 순서인수, 키워드인수\n",
    "\n",
    "- 순서인수 : 함수에 정의된 순서대로 전달방식\n",
    "- 키워드인수 : 인수의 이름을 명시하는 방식\n",
    "- 함수 정의시 순서인수와 키워드인수가 같이 올 때는 **순서인수 > 키워드인수** 순으로"
   ]
  },
  {
   "cell_type": "code",
   "execution_count": 59,
   "id": "e4d10d96",
   "metadata": {},
   "outputs": [],
   "source": [
    "def func3(a, L=None):\n",
    "    if L is None:  \n",
    "        L = []\n",
    "    L.append(a)    \n",
    "    return L"
   ]
  },
  {
   "cell_type": "code",
   "execution_count": 60,
   "id": "d6d7571b",
   "metadata": {},
   "outputs": [
    {
     "name": "stdout",
     "output_type": "stream",
     "text": [
      "[10]\n",
      "[10, 20]\n"
     ]
    }
   ],
   "source": [
    "lst = []\n",
    "print(func3(10, lst))     # 순서인수 : 함수 정의된 순서대로 전달하는 방식\n",
    "print(func3(L=lst, a=20)) # 키워드인수 : 인수의 이름을 명시하여 전달하는 방식  \n",
    "# (L=lst, 20) 이렇게 적으면 에러남"
   ]
  },
  {
   "cell_type": "markdown",
   "id": "00f37aeb",
   "metadata": {},
   "source": [
    "## 3.4 튜플매개변수를 이용한 가변인수 설정\n",
    "\n",
    "- 가변인수 : 매개변수의 갯수가 가변"
   ]
  },
  {
   "cell_type": "code",
   "execution_count": 63,
   "id": "1b4cc11d",
   "metadata": {},
   "outputs": [],
   "source": [
    "# 파이썬은 함수의 중복정의(오버로딩)을 지원하지 않음\n",
    "\n",
    "def add(a,b): # 이거는 사라짐\n",
    "    return a+b\n",
    "def add(a,b,c):\n",
    "    return a+b+c"
   ]
  },
  {
   "cell_type": "code",
   "execution_count": 64,
   "id": "0c06061d",
   "metadata": {},
   "outputs": [
    {
     "data": {
      "text/plain": [
       "10"
      ]
     },
     "execution_count": 64,
     "metadata": {},
     "output_type": "execute_result"
    }
   ],
   "source": [
    "add(3,5,2)"
   ]
  },
  {
   "cell_type": "code",
   "execution_count": 68,
   "id": "6d6499bd",
   "metadata": {},
   "outputs": [],
   "source": [
    "# args 앞에 * : args가 튜플로 전달받는다\n",
    "\n",
    "def add(*args):\n",
    "    #print('args = ', args)\n",
    "    '전달받은 매개변수들의 합을 return. 매개변수가 없는 경우 0을 return'\n",
    "    sum = 0 # 누적변수\n",
    "    for num in args:\n",
    "        sum += num # sum = sum+num\n",
    "    return sum"
   ]
  },
  {
   "cell_type": "code",
   "execution_count": 67,
   "id": "9ab08d4b",
   "metadata": {},
   "outputs": [
    {
     "name": "stdout",
     "output_type": "stream",
     "text": [
      "args =  (1, 2, 3, 4)\n"
     ]
    }
   ],
   "source": [
    "add(1,2,3,4) # 요건 처음에 주석처리한거 연습"
   ]
  },
  {
   "cell_type": "code",
   "execution_count": 70,
   "id": "8c8f158d",
   "metadata": {},
   "outputs": [
    {
     "name": "stdout",
     "output_type": "stream",
     "text": [
      "0\n",
      "1\n",
      "3\n",
      "10\n"
     ]
    }
   ],
   "source": [
    "print(add())\n",
    "print(add(1))\n",
    "print(add(1,2))\n",
    "print(add(1,2,3,4))"
   ]
  },
  {
   "cell_type": "code",
   "execution_count": 72,
   "id": "de2c2a1d",
   "metadata": {},
   "outputs": [
    {
     "data": {
      "text/plain": [
       "'Python-HTML/CSS-JavaScript-DBMS'"
      ]
     },
     "execution_count": 72,
     "metadata": {},
     "output_type": "execute_result"
    }
   ],
   "source": [
    "subject = ('Python', 'HTML/CSS', 'JavaScript', 'DBMS')\n",
    "'-'.join(subject)"
   ]
  },
  {
   "cell_type": "code",
   "execution_count": 73,
   "id": "b10e694d",
   "metadata": {},
   "outputs": [],
   "source": [
    "# 튜플 매개변수와 일반 매개변수가 같이 있을 때\n",
    "\n",
    "def concat(*subject, sep):  # 앞에 subject가 몇개 나올지는 모르겠어. 맨 마지막것만 sep으로 받아 라는 말\n",
    "    return sep.join(subject)"
   ]
  },
  {
   "cell_type": "code",
   "execution_count": null,
   "id": "ce529451",
   "metadata": {
    "collapsed": true
   },
   "outputs": [],
   "source": [
    "# 이렇게 하면 ()안에 있는게 모두 *subject로 들어감\n",
    "\n",
    "# concat('Python', 'HTML/CSS', 'JavaScript', 'DBMS', '-') "
   ]
  },
  {
   "cell_type": "code",
   "execution_count": 74,
   "id": "95b2caa6",
   "metadata": {},
   "outputs": [
    {
     "data": {
      "text/plain": [
       "'Python-HTML/CSS-JavaScript-DBMS'"
      ]
     },
     "execution_count": 74,
     "metadata": {},
     "output_type": "execute_result"
    }
   ],
   "source": [
    "# 해결책 1 : 매개변수 이름을 지정해서 호출(함수를 다시 만들어야하는 비효율적 방식)\n",
    "\n",
    "concat('Python', 'HTML/CSS', 'JavaScript', 'DBMS', sep = '-')"
   ]
  },
  {
   "cell_type": "code",
   "execution_count": 77,
   "id": "f14aadf5",
   "metadata": {},
   "outputs": [
    {
     "name": "stdout",
     "output_type": "stream",
     "text": [
      "Python ~ Web ~ JS ~ DBMS ~ -\n",
      "Python-Web-JS-DBMS\n"
     ]
    }
   ],
   "source": [
    "# 해결책 2 : 기본값을 갖는 키워드인수 사용\n",
    "\n",
    "def concat(*subject, sep = ' ~ '): # 튜플매개변수 > 키워드인수\n",
    "    return sep.join(subject)\n",
    "print(concat('Python', 'Web', 'JS', 'DBMS', '-'))        # 이것도 다 subject로 받아버림\n",
    "print(concat('Python', 'Web', 'JS', 'DBMS', sep = '-'))  # 결국 이것도 해결책 1과 같음"
   ]
  },
  {
   "cell_type": "code",
   "execution_count": 79,
   "id": "35cc396e",
   "metadata": {},
   "outputs": [
    {
     "name": "stdout",
     "output_type": "stream",
     "text": [
      "Python-Web-JS-DBMS\n"
     ]
    }
   ],
   "source": [
    "print('Python', 'Web', 'JS', 'DBMS', sep = '-') # print가 딱 저런 방식"
   ]
  },
  {
   "cell_type": "code",
   "execution_count": 80,
   "id": "1aad308d",
   "metadata": {},
   "outputs": [],
   "source": [
    "# 해결책 3 : sep을 순서인수로 앞으로(추천)\n",
    "\n",
    "def concat(sep, *subject):\n",
    "    return sep.join(subject)"
   ]
  },
  {
   "cell_type": "code",
   "execution_count": 81,
   "id": "f5ae798f",
   "metadata": {},
   "outputs": [
    {
     "data": {
      "text/plain": [
       "'Python~Web~JS~DB~MLDL'"
      ]
     },
     "execution_count": 81,
     "metadata": {},
     "output_type": "execute_result"
    }
   ],
   "source": [
    "concat('~', 'Python', 'Web', 'JS', 'DB', 'MLDL')"
   ]
  },
  {
   "cell_type": "markdown",
   "id": "b6bdbaeb",
   "metadata": {},
   "source": [
    "## 3.5 딕셔너리 매개변수\n",
    "\n",
    "- 딕셔너리 인수 : 여러개의 키워드 인수를 딕셔너리 형태로 받아서 가변인수로 처리"
   ]
  },
  {
   "cell_type": "code",
   "execution_count": 82,
   "id": "abff58a3",
   "metadata": {},
   "outputs": [
    {
     "data": {
      "text/plain": [
       "'http://localhost:8080'"
      ]
     },
     "execution_count": 82,
     "metadata": {},
     "output_type": "execute_result"
    }
   ],
   "source": [
    "make_url(ip='localhost', port=8080) # 이게 키워드인수"
   ]
  },
  {
   "cell_type": "code",
   "execution_count": 87,
   "id": "a17f4078",
   "metadata": {},
   "outputs": [],
   "source": [
    "def func5(**args):  # args : 딕셔너리로 전달받음\n",
    "    print(args)"
   ]
  },
  {
   "cell_type": "code",
   "execution_count": 90,
   "id": "f468f9cc",
   "metadata": {},
   "outputs": [
    {
     "name": "stdout",
     "output_type": "stream",
     "text": [
      "{'name': '홍길동', 'age': 30, 'tel': '010-9999-9999', 'address': '서울 관악구'}\n"
     ]
    }
   ],
   "source": [
    "func5(name='홍길동',\n",
    "      age=30, \n",
    "      tel='010-9999-9999', \n",
    "      address='서울 관악구')"
   ]
  },
  {
   "cell_type": "code",
   "execution_count": 97,
   "id": "25b853ab",
   "metadata": {},
   "outputs": [],
   "source": [
    "def func5(**args):  \n",
    "    print('이름 :', args.get('name'))\n",
    "    print('나이 :', args.get('age'))\n",
    "    print('번호 :', args.get('tel'))\n",
    "    print('주소 :', args.get('address'))"
   ]
  },
  {
   "cell_type": "code",
   "execution_count": 98,
   "id": "eeacddfa",
   "metadata": {},
   "outputs": [
    {
     "name": "stdout",
     "output_type": "stream",
     "text": [
      "이름 : None\n",
      "나이 : 30\n",
      "번호 : 010-9999-9999\n",
      "주소 : 서울 관악구\n"
     ]
    }
   ],
   "source": [
    "# name이 nam으로 오타가 날 경우 None이 나오지만 shift+tab을 해도 힌트가 나오지 않음. 내가 원하는 시각화가 되지 않음.\n",
    "\n",
    "func5(nam='홍길동',\n",
    "      age=30, \n",
    "      tel='010-9999-9999', \n",
    "      address='서울 관악구')"
   ]
  },
  {
   "cell_type": "code",
   "execution_count": 99,
   "id": "a2fc892b",
   "metadata": {},
   "outputs": [],
   "source": [
    "# 책에 있는 예제. \n",
    "\n",
    "def func5(**args):\n",
    "    print(args)\n",
    "    print(type(args))\n",
    "    for key, value in args.items():\n",
    "        print(f'{key} : {value}')"
   ]
  },
  {
   "cell_type": "code",
   "execution_count": 100,
   "id": "931e3d74",
   "metadata": {},
   "outputs": [
    {
     "name": "stdout",
     "output_type": "stream",
     "text": [
      "{'nam': '홍길동', 'age': 30, 'tel': '010-9999-9999', 'address': '서울 관악구'}\n",
      "<class 'dict'>\n",
      "nam : 홍길동\n",
      "age : 30\n",
      "tel : 010-9999-9999\n",
      "address : 서울 관악구\n"
     ]
    }
   ],
   "source": [
    "func5(nam='홍길동',\n",
    "      age=30, \n",
    "      tel='010-9999-9999', \n",
    "      address='서울 관악구')"
   ]
  },
  {
   "cell_type": "code",
   "execution_count": 113,
   "id": "9e7cac3d",
   "metadata": {},
   "outputs": [],
   "source": [
    "# (위에 책 예제를 아래 방식처럼 하고싶을때)\n",
    "\n",
    "def func5(**args):\n",
    "    '''딕셔너리 매개변수로 받아 address 키가 없으면 \n",
    "    서울시 관악구로 추가하고 키-값을 출력'''\n",
    "    print(args)\n",
    "    print(type(args))\n",
    "    if not 'address' in args: # args에 address키가 없으면 아래를 수행해라\n",
    "        # args[ 'address' ] = '서울시 관악구'\n",
    "        # args.update({'address':'서울시 관악구'})\n",
    "        args.update(address='서울시 관악구')\n",
    "    for key, value in args.items():\n",
    "        print(f'{key} : {value}')"
   ]
  },
  {
   "cell_type": "code",
   "execution_count": 112,
   "id": "cae304ef",
   "metadata": {},
   "outputs": [
    {
     "name": "stdout",
     "output_type": "stream",
     "text": [
      "{'name': '홍길동', 'age': 30, 'tel': '010-9999-9999'}\n",
      "<class 'dict'>\n",
      "name : 홍길동\n",
      "age : 30\n",
      "tel : 010-9999-9999\n",
      "address : 서울시 관악구\n"
     ]
    }
   ],
   "source": [
    "func5(name='홍길동',\n",
    "      age=30, \n",
    "      tel='010-9999-9999')"
   ]
  },
  {
   "cell_type": "code",
   "execution_count": 101,
   "id": "50a6019f",
   "metadata": {},
   "outputs": [],
   "source": [
    "# 정보가 없을 경우 무조건 나오게 하려는 방식.\n",
    "\n",
    "def func5(**args):  \n",
    "    print('이름 :', args.get('name', '몰라'))\n",
    "    print('나이 :', args.get('age', 30))\n",
    "    print('번호 :', args.get('tel', '없음'))\n",
    "    print('주소 :', args.get('address', '서울 관악'))"
   ]
  },
  {
   "cell_type": "code",
   "execution_count": 105,
   "id": "db71d89b",
   "metadata": {},
   "outputs": [
    {
     "name": "stdout",
     "output_type": "stream",
     "text": [
      "이름 : 홍길동\n",
      "나이 : 30\n",
      "번호 : 010-9999-9999\n",
      "주소 : 서울 관악구\n"
     ]
    }
   ],
   "source": [
    "func5(name='홍길동', \n",
    "      tel='010-9999-9999', \n",
    "      address='서울 관악구')"
   ]
  },
  {
   "cell_type": "markdown",
   "id": "761b5bb0",
   "metadata": {},
   "source": [
    "## 3.6 함수 정의시 매개변수의 순서\n",
    "\n",
    "- **순서인수 > 튜플인수(`*`) > 키워드인수(기본값) > 딕셔너리인수(`**`)**"
   ]
  },
  {
   "cell_type": "code",
   "execution_count": 114,
   "id": "77a45d8e",
   "metadata": {},
   "outputs": [],
   "source": [
    "# 순서인수 > 튜플인수 > 딕셔너리인수\n",
    "\n",
    "def func6(a,b,*c, **d):\n",
    "    print('순서인수 a = ', a)\n",
    "    print('순서인수 b = ', b)\n",
    "    print('튜플인수 c = ', c)\n",
    "    print('딕셔너리인수 d = ', d)"
   ]
  },
  {
   "cell_type": "code",
   "execution_count": 116,
   "id": "eafe8228",
   "metadata": {},
   "outputs": [
    {
     "name": "stdout",
     "output_type": "stream",
     "text": [
      "순서인수 a =  10\n",
      "순서인수 b =  20\n",
      "튜플인수 c =  (1, 2, 3, 4, 5, 6, 7, 8, 9, 'a', 'b')\n",
      "딕셔너리인수 d =  {'name': '홍', 'age': 30, 'address': '신림'}\n"
     ]
    }
   ],
   "source": [
    "func6(10, 20, 1,2,3,4,5,6,7,8,9,'a','b', name='홍', age=30, address='신림') # 키워드를 안치면 다 튜플로 들어감"
   ]
  },
  {
   "cell_type": "code",
   "execution_count": 117,
   "id": "0af5f54c",
   "metadata": {},
   "outputs": [],
   "source": [
    "# 순서인수 > 튜플인수(*) > 키워드인수(기본값) > 딕셔너리인수(**)\n",
    "\n",
    "def func7(a,b,c, *d, e=10, **f):\n",
    "    print('순서인수 a = ', a)\n",
    "    print('순서인수 b = ', b)\n",
    "    print('순서인수 c = ', c)\n",
    "    print('튜플인수 d = ', d)\n",
    "    print('키워드인수(기본값 10) e = ', e)\n",
    "    print('딕셔너리인수 f = ', f)"
   ]
  },
  {
   "cell_type": "code",
   "execution_count": 118,
   "id": "873ebde3",
   "metadata": {},
   "outputs": [
    {
     "name": "stdout",
     "output_type": "stream",
     "text": [
      "순서인수 a =  10\n",
      "순서인수 b =  20\n",
      "순서인수 c =  30\n",
      "튜플인수 d =  (1, 2, 3, 4, 5)\n",
      "키워드인수(기본값 10) e =  100\n",
      "딕셔너리인수 f =  {'shape': 'rect', 'width': 20, 'height': 30}\n"
     ]
    }
   ],
   "source": [
    "func7(10,20,30, 1,2,3,4,5, e=100, shape='rect', width=20, height=30)"
   ]
  },
  {
   "cell_type": "code",
   "execution_count": 119,
   "id": "9f01e84f",
   "metadata": {},
   "outputs": [
    {
     "name": "stdout",
     "output_type": "stream",
     "text": [
      "순서인수 a =  10\n",
      "순서인수 b =  20\n",
      "순서인수 c =  30\n",
      "튜플인수 d =  ()\n",
      "키워드인수(기본값 10) e =  10\n",
      "딕셔너리인수 f =  {}\n"
     ]
    }
   ],
   "source": [
    "func7(10,20,30) # 꼭 위에처럼 복잡하게 호출하지 않아도 된다. 다만 순서인수는 꼭 수대로 넣어야함."
   ]
  },
  {
   "cell_type": "code",
   "execution_count": 120,
   "id": "cedbc227",
   "metadata": {},
   "outputs": [
    {
     "name": "stdout",
     "output_type": "stream",
     "text": [
      "순서인수 a =  10\n",
      "순서인수 b =  20\n",
      "순서인수 c =  30\n",
      "튜플인수 d =  ()\n",
      "키워드인수(기본값 10) e =  100\n",
      "딕셔너리인수 f =  {}\n"
     ]
    }
   ],
   "source": [
    "func7(10,20,30, e=100)"
   ]
  },
  {
   "cell_type": "markdown",
   "id": "5a7504c8",
   "metadata": {},
   "source": [
    "## 3.7 인수의 언패킹\n",
    "\n",
    "### 튜플인수 언패킹\n",
    "\n",
    "- 언패킹 : 함수 호출시 매개변수 앞에 * 붙임\n",
    "- 패킹 : 함수 정의시 매개변수 앞에 * 붙임(튜플매개변수)"
   ]
  },
  {
   "cell_type": "code",
   "execution_count": 121,
   "id": "4713ffe5",
   "metadata": {},
   "outputs": [],
   "source": [
    "def add(*args):\n",
    "    sum=0\n",
    "    for num in args:\n",
    "        sum += num\n",
    "    return sum"
   ]
  },
  {
   "cell_type": "code",
   "execution_count": 122,
   "id": "b18391dd",
   "metadata": {},
   "outputs": [
    {
     "data": {
      "text/plain": [
       "6"
      ]
     },
     "execution_count": 122,
     "metadata": {},
     "output_type": "execute_result"
    }
   ],
   "source": [
    "add(1,2,3)"
   ]
  },
  {
   "cell_type": "code",
   "execution_count": 123,
   "id": "3a1dcd4d",
   "metadata": {},
   "outputs": [
    {
     "data": {
      "text/plain": [
       "6"
      ]
     },
     "execution_count": 123,
     "metadata": {},
     "output_type": "execute_result"
    }
   ],
   "source": [
    "numbers = (1,2,3)\n",
    "\n",
    "# 너가 알아서 numbers에 있는것을 1,2,3으로 풀어서 args에 넣어라고 하고싶음\n",
    "#add(numbers) \n",
    "add(*numbers) # *을 붙이면 풀어짐"
   ]
  },
  {
   "cell_type": "markdown",
   "id": "4f2fbcf5",
   "metadata": {},
   "source": [
    "### 딕셔너리인수 언패킹"
   ]
  },
  {
   "cell_type": "code",
   "execution_count": 124,
   "id": "e0d27c5d",
   "metadata": {},
   "outputs": [],
   "source": [
    "def func8(**data):\n",
    "    print(data)\n",
    "    for item in data.items():\n",
    "        print(item)"
   ]
  },
  {
   "cell_type": "code",
   "execution_count": 125,
   "id": "ab41d58d",
   "metadata": {},
   "outputs": [
    {
     "name": "stdout",
     "output_type": "stream",
     "text": [
      "{'shape': 'rect', 'width': 40, 'height': 30}\n",
      "('shape', 'rect')\n",
      "('width', 40)\n",
      "('height', 30)\n"
     ]
    }
   ],
   "source": [
    "func8(shape='rect', width=40, height=30)"
   ]
  },
  {
   "cell_type": "code",
   "execution_count": 126,
   "id": "fc90993d",
   "metadata": {},
   "outputs": [
    {
     "name": "stdout",
     "output_type": "stream",
     "text": [
      "{'shape': 'rect', 'width': 40, 'height': 30}\n",
      "('shape', 'rect')\n",
      "('width', 40)\n",
      "('height', 30)\n"
     ]
    }
   ],
   "source": [
    "info = {'shape':'rect', 'width':40 , 'height':30}\n",
    "func8(**info)"
   ]
  },
  {
   "cell_type": "code",
   "execution_count": null,
   "id": "35e66338",
   "metadata": {},
   "outputs": [],
   "source": []
  },
  {
   "cell_type": "code",
   "execution_count": null,
   "id": "dc39a37d",
   "metadata": {},
   "outputs": [],
   "source": []
  },
  {
   "cell_type": "code",
   "execution_count": null,
   "id": "31cf912a",
   "metadata": {},
   "outputs": [],
   "source": []
  },
  {
   "cell_type": "code",
   "execution_count": null,
   "id": "a7ce80e3",
   "metadata": {},
   "outputs": [],
   "source": []
  },
  {
   "cell_type": "code",
   "execution_count": null,
   "id": "1f50d0eb",
   "metadata": {},
   "outputs": [],
   "source": []
  },
  {
   "cell_type": "code",
   "execution_count": null,
   "id": "58b92b7c",
   "metadata": {},
   "outputs": [],
   "source": []
  },
  {
   "cell_type": "code",
   "execution_count": null,
   "id": "97e68e95",
   "metadata": {},
   "outputs": [],
   "source": []
  },
  {
   "cell_type": "code",
   "execution_count": null,
   "id": "df22f688",
   "metadata": {},
   "outputs": [],
   "source": []
  },
  {
   "cell_type": "code",
   "execution_count": null,
   "id": "9d9f991b",
   "metadata": {},
   "outputs": [],
   "source": []
  },
  {
   "cell_type": "code",
   "execution_count": null,
   "id": "487fe555",
   "metadata": {},
   "outputs": [],
   "source": []
  },
  {
   "cell_type": "code",
   "execution_count": null,
   "id": "f6b5c61c",
   "metadata": {},
   "outputs": [],
   "source": []
  },
  {
   "cell_type": "code",
   "execution_count": null,
   "id": "7ea1ff9e",
   "metadata": {},
   "outputs": [],
   "source": []
  },
  {
   "cell_type": "code",
   "execution_count": null,
   "id": "28f7b869",
   "metadata": {},
   "outputs": [],
   "source": []
  },
  {
   "cell_type": "code",
   "execution_count": null,
   "id": "ba6b7f6d",
   "metadata": {},
   "outputs": [],
   "source": []
  },
  {
   "cell_type": "code",
   "execution_count": null,
   "id": "9045322c",
   "metadata": {},
   "outputs": [],
   "source": []
  },
  {
   "cell_type": "code",
   "execution_count": null,
   "id": "0b20f0b7",
   "metadata": {},
   "outputs": [],
   "source": []
  },
  {
   "cell_type": "code",
   "execution_count": null,
   "id": "e126d67e",
   "metadata": {},
   "outputs": [],
   "source": []
  },
  {
   "cell_type": "code",
   "execution_count": null,
   "id": "b785f859",
   "metadata": {},
   "outputs": [],
   "source": []
  }
 ],
 "metadata": {
  "kernelspec": {
   "display_name": "Python 3 (ipykernel)",
   "language": "python",
   "name": "python3"
  },
  "language_info": {
   "codemirror_mode": {
    "name": "ipython",
    "version": 3
   },
   "file_extension": ".py",
   "mimetype": "text/x-python",
   "name": "python",
   "nbconvert_exporter": "python",
   "pygments_lexer": "ipython3",
   "version": "3.10.9"
  },
  "toc": {
   "base_numbering": 1,
   "nav_menu": {},
   "number_sections": false,
   "sideBar": true,
   "skip_h1_title": false,
   "title_cell": "Table of Contents",
   "title_sidebar": "Contents",
   "toc_cell": false,
   "toc_position": {
    "height": "calc(100% - 180px)",
    "left": "10px",
    "top": "150px",
    "width": "165px"
   },
   "toc_section_display": true,
   "toc_window_display": true
  }
 },
 "nbformat": 4,
 "nbformat_minor": 5
}
