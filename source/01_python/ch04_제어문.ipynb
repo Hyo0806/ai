{
 "cells": [
  {
   "cell_type": "code",
   "execution_count": 64,
   "id": "1fb39eda",
   "metadata": {},
   "outputs": [
    {
     "data": {
      "text/html": [
       "\n",
       "<style>\n",
       "div.container{width:90% !important;}\n",
       "div.cell.code_cell.rendered{width:100%;}\n",
       "div.input_prompt{padding:0px;}\n",
       "div.CodeMirror {font-family:Consolas; font-size:12pt;}\n",
       "div.text_cell_render.rendered_html{font-size:12pt;}\n",
       "div.output {font-size:12pt; font-weight:bold;}\n",
       "div.input {font-family:Consolas; font-size:12pt;}\n",
       "div.prompt {min-width:70px;}\n",
       "div#toc-wrapper{padding-top:120px;}\n",
       "div.text_cell_render ul li{font-size:12pt;padding:5px;}\n",
       "table.dataframe{font-size:12px;}\n",
       "</style>\n"
      ],
      "text/plain": [
       "<IPython.core.display.HTML object>"
      ]
     },
     "metadata": {},
     "output_type": "display_data"
    }
   ],
   "source": [
    "from IPython.display import display, HTML\n",
    "display(HTML(\"\"\"\n",
    "<style>\n",
    "div.container{width:90% !important;}\n",
    "div.cell.code_cell.rendered{width:100%;}\n",
    "div.input_prompt{padding:0px;}\n",
    "div.CodeMirror {font-family:Consolas; font-size:12pt;}\n",
    "div.text_cell_render.rendered_html{font-size:12pt;}\n",
    "div.output {font-size:12pt; font-weight:bold;}\n",
    "div.input {font-family:Consolas; font-size:12pt;}\n",
    "div.prompt {min-width:70px;}\n",
    "div#toc-wrapper{padding-top:120px;}\n",
    "div.text_cell_render ul li{font-size:12pt;padding:5px;}\n",
    "table.dataframe{font-size:12px;}\n",
    "</style>\n",
    "\"\"\"))"
   ]
  },
  {
   "cell_type": "markdown",
   "id": "2631c946",
   "metadata": {},
   "source": [
    "<b><font size=\"6\" color=\"red\"> ch04. 제어문 </font></b>\n",
    "\n",
    "- 조건문 : if문\n",
    "- 반복문 : for문(반복 횟수 지정), while문(조건)\n",
    "- **모두 중첩가능**\n",
    "\n",
    "\n",
    "# 1절. 조건문(if)\n",
    "\n",
    "```\n",
    "\n",
    "if 조건1 :\n",
    "    조건1이 True일 경우 수행할 명령어들(들여쓰기 중요. if절 단독 가능)\n",
    "elif 조건2:\n",
    "    조건1이 False이고, 조건2가 True일 경우 수행할 명령어들\n",
    "else:\n",
    "    모든 조건 False일 경우 수행할 명령어들(elif,else는 단독 사용 불가)\n",
    "\n",
    "```\n"
   ]
  },
  {
   "cell_type": "code",
   "execution_count": 5,
   "id": "5656d007",
   "metadata": {},
   "outputs": [
    {
     "name": "stdout",
     "output_type": "stream",
     "text": [
      "Enter your score > 55\n",
      "재시험 응시하세요\n",
      "화이팅\n"
     ]
    }
   ],
   "source": [
    "score = int(input('Enter your score > '))\n",
    "if score>=80:\n",
    "    print('참 잘했어요')\n",
    "    print('다음에도 기대할게요')\n",
    "elif score>=60:\n",
    "    print('분발하셔요')\n",
    "    print('그래도 고생하셨어요')\n",
    "else : \n",
    "    print('재시험 응시하세요')\n",
    "    print('화이팅')"
   ]
  },
  {
   "cell_type": "code",
   "execution_count": 5,
   "id": "e86c8cb2",
   "metadata": {},
   "outputs": [
    {
     "name": "stdout",
     "output_type": "stream",
     "text": [
      "Enter your score > 101\n",
      "입력하신 점수 101점은 유효하지 않는 점수\n"
     ]
    }
   ],
   "source": [
    "# 내가 푼것\n",
    "# quiz. 점수를 입력받아 학점출력(A, B, C, D, E, F, 유효하지 않는 점수)\n",
    "\n",
    "# (90<=score) & (score>=100)\n",
    "score = int(input('Enter your score > '))\n",
    "if 90 <= score <= 100:\n",
    "    print(f'입력하신 점수 {score}점은 A학점')\n",
    "elif 80<=score<90:\n",
    "    print(f'입력하신 점수 {score}점은 B학점')\n",
    "elif 70<=score<80:\n",
    "    print(f'입력하신 점수 {score}점은 C학점')\n",
    "elif 60<=score<70:\n",
    "    print(f'입력하신 점수 {score}점은 D학점')\n",
    "elif 0<=score<60:\n",
    "    print(f'입력하신 점수 {score}점은 F학점')\n",
    "else :\n",
    "    print(f'입력하신 점수 {score}점은 유효하지 않는 점수')"
   ]
  },
  {
   "cell_type": "code",
   "execution_count": 6,
   "id": "3c2b319b",
   "metadata": {},
   "outputs": [
    {
     "name": "stdout",
     "output_type": "stream",
     "text": [
      "Enter your score > 30\n",
      "입력하신 점수 30점은 F학점\n"
     ]
    }
   ],
   "source": [
    "# 강사님 풀이\n",
    "# quiz. 점수를 입력받아 학점출력(A, B, C, D, E, F, 유효하지 않는 점수)\n",
    "\n",
    "# (90<=score) & (score>=100)\n",
    "score = int(input('Enter your score > '))\n",
    "if 90 <= score <= 100:\n",
    "    grade = 'A학점'\n",
    "elif 80<=score<90:\n",
    "    grade = 'B학점'\n",
    "elif 70<=score<80:\n",
    "    grade = 'C학점'\n",
    "elif 60<=score<70:\n",
    "    grade = 'D학점'\n",
    "elif 0<=score<60:\n",
    "    grade = 'F학점'\n",
    "else :\n",
    "    grade = '유효하지 않는 점수'\n",
    "print(f'입력하신 점수 {score}점은 {grade}')"
   ]
  },
  {
   "cell_type": "markdown",
   "id": "f0ae7e63",
   "metadata": {},
   "source": [
    "# 2절. 반복문\n",
    "\n",
    "## 2.1 for-in문\n",
    "\n",
    "```\n",
    "\n",
    "for 임시변수 in 나열 가능한 자료(list, tuple, range, enumerate) :\n",
    "    반복할 문장들\n",
    "else:\n",
    "    나열 가능한 자료를 다 소요하여 for블록을 다 수행한 후, 최종 한번 실행할 문장들\n",
    "    for문 안의 break를 수행할 경우, else블록을 수행하지 않음(else는 선택)\n",
    "```"
   ]
  },
  {
   "cell_type": "code",
   "execution_count": 9,
   "id": "b2364dea",
   "metadata": {},
   "outputs": [
    {
     "name": "stdout",
     "output_type": "stream",
     "text": [
      "1\t3\t5\t7\t9\tDone\n",
      "End\n",
      "1\t3\t5\t7\t9\tDone\n",
      "End\n"
     ]
    }
   ],
   "source": [
    "# break가 없을 경우 else가 있든 없든 결과가 똑같음\n",
    "\n",
    "for i in range(1, 10, 2):\n",
    "    print(i, end='\\t')\n",
    "print('Done')\n",
    "print('End')\n",
    "\n",
    "for i in range(1, 10, 2):\n",
    "    print(i, end='\\t')\n",
    "else:\n",
    "    print('Done')\n",
    "print('End')"
   ]
  },
  {
   "cell_type": "code",
   "execution_count": 10,
   "id": "2b3f84e6",
   "metadata": {},
   "outputs": [
    {
     "name": "stdout",
     "output_type": "stream",
     "text": [
      "0\t1\t2\t3\t4\tEnd\n"
     ]
    }
   ],
   "source": [
    "for i in range(10):\n",
    "    if i==5:\n",
    "        break # 현재 반복문을 빠져나가\n",
    "    print(i, end='\\t')\n",
    "else:\n",
    "    print('\\nDone') # 브레이크가 되면 else문을 수행하지 않음. 반복문이 끝날때만 수행하는 것.\n",
    "print('End')"
   ]
  },
  {
   "cell_type": "code",
   "execution_count": 11,
   "id": "ef14b779",
   "metadata": {},
   "outputs": [
    {
     "name": "stdout",
     "output_type": "stream",
     "text": [
      "1~100까지 합은 5050\n"
     ]
    }
   ],
   "source": [
    "# 1~100 까지 합을 계산하고 출력하시오(for문)\n",
    "\n",
    "sum = 0 # 누적변수\n",
    "for i in range(1,101):\n",
    "    sum += i  # sum = sum + i\n",
    "print('1~100까지 합은', sum)"
   ]
  },
  {
   "cell_type": "code",
   "execution_count": 13,
   "id": "1410f871",
   "metadata": {},
   "outputs": [
    {
     "name": "stdout",
     "output_type": "stream",
     "text": [
      "1~100까지 짝수들의 합은 2550\n"
     ]
    }
   ],
   "source": [
    "# quiz. 1~100까지 짝수들의 합을 계산하고 출력하시오\n",
    "\n",
    "sum = 0\n",
    "for i in range(1,101):\n",
    "    if i%2==0:\n",
    "        sum += i  \n",
    "print('1~100까지 짝수들의 합은', sum)"
   ]
  },
  {
   "cell_type": "markdown",
   "id": "e82e4344",
   "metadata": {},
   "source": [
    "## 2.2 while 문\n",
    "\n",
    "```\n",
    "\n",
    "while 조건:\n",
    "    조건이 True일 경우 반복할 문장들\n",
    "else:\n",
    "    조건이 Flase일 경우 한번 실행할 문장들(else블록 선택사항)\n",
    "    while문 내의 break 수행할 경우 else블록 실행되지 않음\n",
    "\n",
    "```"
   ]
  },
  {
   "cell_type": "code",
   "execution_count": 14,
   "id": "975b347a",
   "metadata": {},
   "outputs": [
    {
     "name": "stdout",
     "output_type": "stream",
     "text": [
      "1~100까지 짝수의 합은 2550\n"
     ]
    }
   ],
   "source": [
    "# 1~100까지 짝수들의 합을 계산하고 출력하시오(while문)\n",
    "\n",
    "sum = 0 # 누적변수\n",
    "i = 1   # i값 초기화. (for문에서는 넣을 필요 없었지만 while문 에서는 꼭 써줘야함)\n",
    "while i <= 100:\n",
    "    if i%2==0:\n",
    "        sum += i\n",
    "    i += 1\n",
    "else:\n",
    "    print('1~100까지 짝수의 합은', sum)"
   ]
  },
  {
   "cell_type": "code",
   "execution_count": 28,
   "id": "02b4480b",
   "metadata": {},
   "outputs": [
    {
     "name": "stdout",
     "output_type": "stream",
     "text": [
      "5\n",
      "1\n",
      "홀수의 합 9\n"
     ]
    }
   ],
   "source": [
    "# quiz1. 사용자에게 두 정수를 입력받아, 작은수부터 큰수까지 홀수의 합을 누적해서 출력\n",
    "\n",
    "# 두 정수를 입력\n",
    "# 두 정수중  작은수와 큰수\n",
    "# 누적\n",
    "\n",
    "num1 = int(input())\n",
    "num2 = int(input())\n",
    "#def diff (num1, num2):\n",
    "    #return num1 if num1>num2 else num2\n",
    "sum = 0\n",
    "# for i in range(num1,num2+1):\n",
    "#     if i%2==1:\n",
    "#         sum += i\n",
    "# print('홀수의 합', sum)\n",
    "\n",
    "for i in range(num1,num2+1):\n",
    "    if num2+1>=num1:\n",
    "        if i%2==1:\n",
    "            sum += i\n",
    "else:\n",
    "    for i in range(num2,num1+1):\n",
    "        if i%2==1:\n",
    "            sum += i\n",
    "print('홀수의 합', sum)"
   ]
  },
  {
   "cell_type": "code",
   "execution_count": 45,
   "id": "350c1e55",
   "metadata": {},
   "outputs": [
    {
     "name": "stdout",
     "output_type": "stream",
     "text": [
      "첫번째 정수?5\n",
      "두번째 정수?1\n",
      "1~5까지 홀수들의 누적 합은 9\n"
     ]
    }
   ],
   "source": [
    "# 정답\n",
    "\n",
    "# 두 정수를 입력\n",
    "first = int(input('첫번째 정수?'))\n",
    "second = int(input('두번째 정수?'))\n",
    "\n",
    "# first에 작은값, second에 큰값\n",
    "if first > second:\n",
    "#     temp = first\n",
    "#     first = second\n",
    "#     second = temp\n",
    "# 두 변수 값을 바꾸는 방법인데 번거로움\n",
    "    first, second = second, first # 다중 변수 할당\n",
    "\n",
    "# 누적\n",
    "sum = 0\n",
    "for i in range(first, second+1):\n",
    "    if i%2: # (i%2==1) | (i%2==-1):\n",
    "        sum += i\n",
    "print(f'{first}~{second}까지 홀수들의 누적 합은 {sum}')"
   ]
  },
  {
   "cell_type": "code",
   "execution_count": null,
   "id": "9df71a89",
   "metadata": {},
   "outputs": [],
   "source": [
    "# 위에 i%2: 그냥 이렇게 쓰는 것에 대한 다른 사람 질문 긁어옴.\n",
    "\n",
    "# 우선 결론먼저 말씀드리면 숫자 0은 false, 이외는 true라고 인식 합니다.\n",
    "\n",
    "\n",
    "# 후자의 경우와 i % 3 == 0은 알고계셨던 나머지 의 뜻이니, 전자의 경우만 설명드리자면\n",
    "\n",
    "# i % 2를 조건절에서 썼다면,i % 2가 true 일때를 찾습니다.\n",
    "\n",
    "# 즉 i % 2는 i가 1, 2, 3일때 각각 1, 0, 1이 나오니 True, False, True가 되겠죠?\n",
    "\n",
    "# 반면에 i % 2 == 0은 나머지가 0일때를 듯하니 False, True, False가 될 것입니다."
   ]
  },
  {
   "cell_type": "code",
   "execution_count": 16,
   "id": "e93a1c25",
   "metadata": {},
   "outputs": [
    {
     "data": {
      "text/plain": [
       "39"
      ]
     },
     "execution_count": 16,
     "metadata": {},
     "output_type": "execute_result"
    }
   ],
   "source": [
    "# quiz2. 로또번호 6개를 추출후, 정렬하여 출력(1~45)\n",
    "\n",
    "import random # 랜덤 수를 가져오는 모듈\n",
    "\n",
    "# random.seed(3) # seed값을 맞추면 다른 사람과 같은 순서로 나옴. seed값을 한번 맞추면 Kernel재시작 해야함\n",
    "# random.random() # 0이상 1미만의 실수 난수\n",
    "random.randint(1,45) # 1~45의 정수 난수\n",
    "# random.choice(['남자','여자']) # 남자나 여자를 선택(확률 일치)\n",
    "# random.choices(['사기꾼','비사기꾼'], weights = [0.1, 0.9])\n",
    "\n"
   ]
  },
  {
   "cell_type": "code",
   "execution_count": 51,
   "id": "2c1c900f",
   "metadata": {},
   "outputs": [
    {
     "name": "stdout",
     "output_type": "stream",
     "text": [
      "6번 로또번호 추출함 : [1, 4, 6, 11, 37, 39]\n",
      "정렬 후 :  [1, 4, 6, 11, 37, 39]\n"
     ]
    }
   ],
   "source": [
    "# 정답\n",
    "\n",
    "lotto_lst = [] # 추출된 로또번호를 담은 변수\n",
    "# for i in range(6):\n",
    "#     lotto_lst.append(random.randint(1,45))\n",
    "# print(sorted(lotto_lst))\n",
    "# 이건 중복 가능성있음\n",
    "\n",
    "# while len(lotto_lst) < 6:\n",
    "#     temp = random.randint(1,45) # 임의의 수를 temp 변수에 잠깐 담아둔것\n",
    "#     if temp in lotto_lst:\n",
    "#         pass\n",
    "#     else:\n",
    "#         lotto_lst.append(temp)\n",
    "# print(sorted(lotto_lst)) \n",
    "# 보기 안좋음\n",
    "\n",
    "cnt = 0\n",
    "while len(lotto_lst) < 6:\n",
    "    temp = random.randint(1,45)\n",
    "    cnt += 1\n",
    "    if not temp in lotto_lst:  # not 은 True를 False로 False를 True로 바꿈. temp가 lotto_lst에 없으면 append해라는 말.\n",
    "        lotto_lst.append(temp)\n",
    "print('{}번 로또번호 추출함 : {}'.format(cnt , sorted(lotto_lst)))\n",
    "\n",
    "# 정렬 알고리즘(위에 sorted를 안할경우) (유명한 알고리즘이라 그냥 일단 해본것)\n",
    "for i in range(len(lotto_lst)-1):\n",
    "    for j in range(i+1, len(lotto_lst)):\n",
    "        if lotto_lst[i] > lotto_lst[j]:\n",
    "            lotto_lst[i], lotto_lst[j] = lotto_lst[j], lotto_lst[i]\n",
    "print('정렬 후 : ', lotto_lst)"
   ]
  },
  {
   "cell_type": "code",
   "execution_count": 53,
   "id": "e78ed16b",
   "metadata": {},
   "outputs": [
    {
     "data": {
      "text/plain": [
       "[12, 16, 26, 31, 32, 36]"
      ]
     },
     "execution_count": 53,
     "metadata": {},
     "output_type": "execute_result"
    }
   ],
   "source": [
    "# 위의 quiz2를 set 이용\n",
    "\n",
    "lotto_set = set() # 빈 셋  # {}해두고 아무것도 안넣으면 딕셔너리로 인식함\n",
    "while len(lotto_set)<6: #lotto_set에 6개가 안되면 계속해. 6개가 되면 빠져나와 라는말.\n",
    "    lotto_set.add(random.randint(1,45))\n",
    "sorted(lotto_set) # 원래는 set이 sorted가 안되어서 list()로 감쌌어야했는데 지금은 알아서 리스트로 바꾸네 "
   ]
  },
  {
   "cell_type": "code",
   "execution_count": 55,
   "id": "dc01d771",
   "metadata": {},
   "outputs": [
    {
     "data": {
      "text/plain": [
       "[8, 12, 23, 32, 35, 43]"
      ]
     },
     "execution_count": 55,
     "metadata": {},
     "output_type": "execute_result"
    }
   ],
   "source": [
    "# 1~45중 6개 뽑아 정렬\n",
    "\n",
    "sorted(random.sample(range(1,46),6)) # range 1부터 46앞까지 6개 랜덤으로 뽑아. 이건 하나씩 뽑는게 아니라 한꺼번에 6개를 추출하라는 명령이기 때문에 중복이 없음. 정렬만 하면 끝."
   ]
  },
  {
   "cell_type": "markdown",
   "id": "daed55bd",
   "metadata": {},
   "source": [
    "## 2.3 break, continue\n",
    "\n",
    "- break : 현재 반복문 탈출\n",
    "- continue : 수행중인 반복문을 멈추고 조건절로 바꿈"
   ]
  },
  {
   "cell_type": "code",
   "execution_count": 58,
   "id": "b7d89118",
   "metadata": {},
   "outputs": [
    {
     "name": "stdout",
     "output_type": "stream",
     "text": [
      "1 2 3 4 End\n",
      "1 2 3 4 6 7 8 9 10 End\n"
     ]
    }
   ],
   "source": [
    "num = 0\n",
    "while num < 10:\n",
    "    num += 1\n",
    "    if num == 5:\n",
    "        break\n",
    "    print(num, end =' ')\n",
    "print('End')\n",
    "\n",
    "num = 0\n",
    "while num < 10:\n",
    "    num += 1\n",
    "    if num == 5:\n",
    "        continue\n",
    "    print(num, end =' ')\n",
    "print('End')"
   ]
  },
  {
   "cell_type": "code",
   "execution_count": 61,
   "id": "3fe178f0",
   "metadata": {},
   "outputs": [
    {
     "name": "stdout",
     "output_type": "stream",
     "text": [
      "컴퓨터가 발생한 random 수 :  25\n",
      "1~100 사이의 수를 맞춰 보세요 :30\n",
      "Down ↓\n",
      "1~100 사이의 수를 맞춰 보세요 :12\n",
      "Up ↑\n",
      "1~100 사이의 수를 맞춰 보세요 :15\n",
      "Up ↑\n",
      "1~100 사이의 수를 맞춰 보세요 :31\n",
      "Down ↓\n",
      "1~100 사이의 수를 맞춰 보세요 :25\n",
      "축하 축하 맞추셨습니다\n",
      "Bye\n"
     ]
    }
   ],
   "source": [
    "# 숫자 찾기 게임\n",
    "\n",
    "'''\n",
    "\n",
    "1~100 사이의 정수 맞추기 프로그램\n",
    "(프로그램 안에서 random수가 만들어지고, 그 random수 맞추기)\n",
    "1단계 : 숫자를 못 맞추면 UP/DOWN을 출력하고, 맞추면 축하메세지 출력하고 종료.\n",
    "2단계 : 숫자를 못 맞추면 min(0), max(100)를 조정하고, 맞추면 축하메세지 출려하고 종료.\n",
    "3단계 : 2단계의 기회를 5회로 제한. 5회의 기회가 지나면 실패메세지 출력하고 종료.\n",
    "        5회 이내에 맞추면 축하메세지 출력하고 종료\n",
    "        (2단계와 3단계는 연습문제)\n",
    "\n",
    "'''\n",
    "\n",
    "import random\n",
    "randomNum = random.randint(1, 100)\n",
    "print('컴퓨터가 발생한 random 수 : ', randomNum)\n",
    "while True:\n",
    "    inputNum = int(input('1~100 사이의 수를 맞춰 보세요 :'))\n",
    "    if (inputNum<1) | (inputNum>100):\n",
    "        print('수의 범위를 벗어났습니다')\n",
    "    elif randomNum < inputNum :\n",
    "        print('Down ↓')\n",
    "    elif randomNum > inputNum :\n",
    "        print('Up ↑')\n",
    "    else:\n",
    "        print('축하 축하 맞추셨습니다')\n",
    "        break\n",
    "print('Bye')"
   ]
  },
  {
   "cell_type": "code",
   "execution_count": 63,
   "id": "bd797eb8",
   "metadata": {},
   "outputs": [
    {
     "name": "stdout",
     "output_type": "stream",
     "text": [
      "컴퓨터가 발생한 random 수 :  14\n",
      "1~100 사이의 수를 맞춰 보세요 :40\n",
      "Down ↓\n",
      "1~100 사이의 수를 맞춰 보세요 :30\n",
      "Down ↓\n",
      "1~100 사이의 수를 맞춰 보세요 :10\n",
      "Up ↑\n",
      "1~100 사이의 수를 맞춰 보세요 :14\n",
      "축하 축하 맞추셨습니다\n",
      "Bye\n"
     ]
    }
   ],
   "source": [
    "# break를 안쓸 경우 하는 방법. 이건 원하는 방식으로 해도 되는듯\n",
    "\n",
    "import random\n",
    "randomNum = random.randint(1, 100)\n",
    "print('컴퓨터가 발생한 random 수 : ', randomNum)\n",
    "inputNum = -1 #5번째에 들어있는 inputNum은 아직 정의가 안되어있기 때문에 1~100에 포함되지 않는 아무숫자를 넣는것\n",
    "while randomNum != inputNum:\n",
    "    inputNum = int(input('1~100 사이의 수를 맞춰 보세요 :'))\n",
    "    if (inputNum<1) | (inputNum>100):\n",
    "        print('수의 범위를 벗어났습니다')\n",
    "    elif randomNum < inputNum :\n",
    "        print('Down ↓')\n",
    "    elif randomNum > inputNum :\n",
    "        print('Up ↑')\n",
    "else:\n",
    "    print('축하 축하 맞추셨습니다')\n",
    "print('Bye')"
   ]
  },
  {
   "cell_type": "markdown",
   "id": "3ef771ec",
   "metadata": {},
   "source": [
    "# 3절 중첩루프\n",
    "\n",
    "- 반복문 안의 반복문"
   ]
  },
  {
   "cell_type": "code",
   "execution_count": 68,
   "id": "a0a5f976",
   "metadata": {},
   "outputs": [
    {
     "name": "stdout",
     "output_type": "stream",
     "text": [
      "  2단  \t  3단  \t  4단  \t  5단  \t  6단  \t  7단  \t  8단  \t  9단  \t\n",
      "2x1= 2\t3x1= 3\t4x1= 4\t5x1= 5\t6x1= 6\t7x1= 7\t8x1= 8\t9x1= 9\t\n",
      "2x2= 4\t3x2= 6\t4x2= 8\t5x2=10\t6x2=12\t7x2=14\t8x2=16\t9x2=18\t\n",
      "2x3= 6\t3x3= 9\t4x3=12\t5x3=15\t6x3=18\t7x3=21\t8x3=24\t9x3=27\t\n",
      "2x4= 8\t3x4=12\t4x4=16\t5x4=20\t6x4=24\t7x4=28\t8x4=32\t9x4=36\t\n",
      "2x5=10\t3x5=15\t4x5=20\t5x5=25\t6x5=30\t7x5=35\t8x5=40\t9x5=45\t\n",
      "2x6=12\t3x6=18\t4x6=24\t5x6=30\t6x6=36\t7x6=42\t8x6=48\t9x6=54\t\n",
      "2x7=14\t3x7=21\t4x7=28\t5x7=35\t6x7=42\t7x7=49\t8x7=56\t9x7=63\t\n",
      "2x8=16\t3x8=24\t4x8=32\t5x8=40\t6x8=48\t7x8=56\t8x8=64\t9x8=72\t\n",
      "2x9=18\t3x9=27\t4x9=36\t5x9=45\t6x9=54\t7x9=63\t8x9=72\t9x9=81\t\n"
     ]
    }
   ],
   "source": [
    "# 2~9단 구구단 출력\n",
    "\n",
    "for i in range(2,10):\n",
    "    print('{:^6}'.format(str(i)+'단'), end = '\\t')\n",
    "print() # 개행\n",
    "for i in range(1, 10):\n",
    "    for j in range(2, 10):\n",
    "        print(f'{j}x{i}={i*j:2}', end = '\\t')\n",
    "    print()"
   ]
  },
  {
   "cell_type": "code",
   "execution_count": 70,
   "id": "57c155da",
   "metadata": {},
   "outputs": [
    {
     "name": "stdout",
     "output_type": "stream",
     "text": [
      "0행0열 : 1\t0행1열 : 2\t0행2열 : 3\t0행3열 : 4\t\n",
      "1행0열 : 5\t1행1열 : 6\t1행2열 : 7\t1행3열 : 8\t\n"
     ]
    }
   ],
   "source": [
    "lst_2d = [[1,2,3,4],\n",
    "         [5,6,7,8]]\n",
    "for i in range(len(lst_2d)):         #행\n",
    "    for j in range(len(lst_2d[i])):  #열\n",
    "        print(f'{i}행{j}열 : {lst_2d[i][j]}', end = '\\t')\n",
    "    print()"
   ]
  },
  {
   "cell_type": "markdown",
   "id": "37634b5f",
   "metadata": {},
   "source": [
    "# 4절 중첩루프 탈출"
   ]
  },
  {
   "cell_type": "code",
   "execution_count": 73,
   "id": "19362907",
   "metadata": {},
   "outputs": [
    {
     "name": "stdout",
     "output_type": "stream",
     "text": [
      "0 1\n",
      "0 2\n",
      "a=1, b=1일때, break함\n",
      "2 1\n",
      "a=2, b=2일때, break함\n",
      "Done\n"
     ]
    }
   ],
   "source": [
    "# 이건 중첩 루프 탈출이 아님\n",
    "\n",
    "for a in range(0,3):      # a = 0일때, 1일때, 2일때 수행\n",
    "    for b in range(1,3):  # b = 1일때, 2일때 수행\n",
    "        if a==b:\n",
    "            print(f'a={a}, b={b}일때, break함')\n",
    "            break # 이 break는 두번째 for문에서 빠져나가는것\n",
    "        print(a,b)\n",
    "        #break를 만나면 오는 곳\n",
    "print('Done')"
   ]
  },
  {
   "cell_type": "code",
   "execution_count": 74,
   "id": "a34e214e",
   "metadata": {},
   "outputs": [
    {
     "name": "stdout",
     "output_type": "stream",
     "text": [
      "0 1\n",
      "0 2\n",
      "Done\n"
     ]
    }
   ],
   "source": [
    "# 중첩 루프 탈출 방법 1.flag 변수 이용\n",
    "\n",
    "flag = False # break를 만나면 True로 바꿔준다\n",
    "for a in range(0,3):      \n",
    "    for b in range(1,3):  \n",
    "        if a==b:\n",
    "            flag = True\n",
    "            break \n",
    "        print(a,b)\n",
    "    # break를 만나면 오는 곳    \n",
    "    if flag: # flag가 True면 break해라\n",
    "        break\n",
    "print('Done')"
   ]
  },
  {
   "cell_type": "code",
   "execution_count": null,
   "id": "0ac4ffae",
   "metadata": {},
   "outputs": [],
   "source": [
    "# 중첩 루프 탈출 방법 2.예외(Exception)처리 이용\n"
   ]
  },
  {
   "cell_type": "markdown",
   "id": "b7135bd1",
   "metadata": {},
   "source": [
    "# 5절. 연습문제"
   ]
  },
  {
   "cell_type": "code",
   "execution_count": 103,
   "id": "31f5d942",
   "metadata": {},
   "outputs": [
    {
     "name": "stdout",
     "output_type": "stream",
     "text": [
      "양의 정수를 입력하세요 : 23\n",
      "홀수\n"
     ]
    }
   ],
   "source": [
    "# 1. 양의 정수를 입력 받아 홀수인지 짝수인지를 판별하는 프로그램을 작성하세요 . 양의 정수가 아니면 숫자를 다시 입력 받아야 합니다\n",
    "\n",
    "inputStr = input('양의 정수를 입력하세요 : ')\n",
    "#print('inputStr이 양의 정수인지 여부 : ',inputStr.isdigit())\n",
    "i = int(inputStr)\n",
    "\n",
    "if inputStr.isdigit() == True:\n",
    "    if i%2==0:\n",
    "        print('짝수')\n",
    "    else:\n",
    "        print('홀수')\n",
    "        \n",
    "# 이건 좀 구림"
   ]
  },
  {
   "cell_type": "code",
   "execution_count": 12,
   "id": "be2be95e",
   "metadata": {},
   "outputs": [
    {
     "name": "stdout",
     "output_type": "stream",
     "text": [
      "양의 정수를 입력하세요-19\n",
      "양의 정수를 입력하세요-30\n",
      "양의 정수를 입력하세요2.0\n",
      "양의 정수를 입력하세요3\n",
      "입력하신 양의 정수는 3이고 홀수입니다\n"
     ]
    }
   ],
   "source": [
    "# 답\n",
    "\n",
    "inputStr = ''\n",
    "while(inputStr.isdigit()==False) | (inputStr=='0'):\n",
    "    inputStr = input('양의 정수를 입력하세요')\n",
    "inputNum = int(inputStr)\n",
    "even_odd = '홀수' if inputNum%2 else '짝수'\n",
    "print('입력하신 양의 정수는 {}이고 {}입니다'.format(inputNum, even_odd))"
   ]
  },
  {
   "cell_type": "code",
   "execution_count": 83,
   "id": "a7df323b",
   "metadata": {},
   "outputs": [
    {
     "name": "stdout",
     "output_type": "stream",
     "text": [
      "*****\n",
      "*****\n",
      "*****\n",
      "*****\n",
      "*****\n",
      "*\n",
      "**\n",
      "***\n",
      "****\n",
      "*****\n"
     ]
    }
   ],
   "source": [
    "# 2. 중첩 for 문을 이용하여 아래 패턴의 별을 출력하는 프로그램을 작성하세요 \n",
    "\n",
    "#(1)\n",
    "for i in range(5):\n",
    "    for j in range(5):\n",
    "        print('*', end = '')\n",
    "    print()\n",
    "\n",
    "#(2)    \n",
    "for i in range(1,6):\n",
    "    for j in range(1,6):\n",
    "        if i>=j:\n",
    "            print('*', end = '')\n",
    "    print()"
   ]
  },
  {
   "cell_type": "code",
   "execution_count": 16,
   "id": "750b9df7",
   "metadata": {},
   "outputs": [
    {
     "name": "stdout",
     "output_type": "stream",
     "text": [
      "*\n",
      "**\n",
      "***\n",
      "****\n",
      "*****\n",
      " (1) \t (2) \n",
      "*****\t*\n",
      "*****\t**\n",
      "*****\t***\n",
      "*****\t****\n",
      "*****\t*****\n"
     ]
    }
   ],
   "source": [
    "# 답\n",
    "\n",
    "for i in range(5):\n",
    "    for j in range(i+1):\n",
    "        print('*', end='')\n",
    "    print()\n",
    "    \n",
    "# for i in range(5):\n",
    "#     print('*'*(i+1))\n",
    "# star =\"*\"\n",
    "# for j in range(5):\n",
    "#     print(star)\n",
    "#     star += \"*\"\n",
    "\n",
    "#이건 두개를 나란히 나열하고 싶어하신 분 있어서 해본것\n",
    "print(\"{:^5}\\t{:^5}\".format(\"(1)\", \"(2)\"))\n",
    "for i in range(5):\n",
    "    print('*'*5, end = '\\t')\n",
    "    for j in range(i+1):\n",
    "        print('*', end = '')\n",
    "    print()"
   ]
  },
  {
   "cell_type": "code",
   "execution_count": 85,
   "id": "509adf42",
   "metadata": {},
   "outputs": [
    {
     "name": "stdout",
     "output_type": "stream",
     "text": [
      "165\n"
     ]
    }
   ],
   "source": [
    "# 3. 다음 코드는 1 부터 30 까지 (30 포함 ) 자연수 중에서 3 의 배수의 총 합을 출력하는 프로그램입니다 . 빈칸의 코드를 완성하시오\n",
    "# sum = 0\n",
    "# for i in ___________:\n",
    "#     if _____________:\n",
    "#         sum = sum + i\n",
    "#     else:\n",
    "#         pass\n",
    "# print(sum)\n",
    "\n",
    "sum = 0\n",
    "for i in range(1,31):\n",
    "    if i%3==0: # i%3: 그냥 이렇게 끝내는게 더 좋음\n",
    "        sum = sum + i\n",
    "    else:\n",
    "        pass\n",
    "print(sum)"
   ]
  },
  {
   "cell_type": "code",
   "execution_count": 17,
   "id": "df2c402f",
   "metadata": {},
   "outputs": [
    {
     "name": "stdout",
     "output_type": "stream",
     "text": [
      "13579"
     ]
    }
   ],
   "source": [
    "# 4. 다음 코드의 실행결과가 '1 3 5 7 9'가 되도록 빈칸을 완성하시오\n",
    "# num = 0\n",
    "# ________ num <= 10:\n",
    "#     if num%2 :\n",
    "#         print(num, end=‘ ’)\n",
    "#     num += 1\n",
    "    \n",
    "num = 0\n",
    "while num <= 10:\n",
    "    if num%2:\n",
    "        print(num, end='')\n",
    "    num += 1"
   ]
  },
  {
   "cell_type": "code",
   "execution_count": 90,
   "id": "e80fa907",
   "metadata": {},
   "outputs": [
    {
     "name": "stdout",
     "output_type": "stream",
     "text": [
      "1 2 3 \n",
      "4 5 6 7 \n",
      "8 9 \n"
     ]
    }
   ],
   "source": [
    "# 5. 다음 2 차원 리스트의 모든 값을 출력하는 코드입니다 . 빈칸을 완성하시오\n",
    "list2d = [ [1,2,3],[4,5,6,7],[8,9]]\n",
    "# for row in list2d:\n",
    "#     ____________:\n",
    "#         print(data, end=‘ ’)\n",
    "#     print()\n",
    "# 결과 : \n",
    "# 1 2 3\n",
    "# 4 5 6 7\n",
    "# 8 9\n",
    "\n",
    "for row in list2d:\n",
    "    for data in row:\n",
    "        print(data, end=' ')\n",
    "    print()"
   ]
  },
  {
   "cell_type": "code",
   "execution_count": 92,
   "id": "c73adde6",
   "metadata": {},
   "outputs": [
    {
     "name": "stdout",
     "output_type": "stream",
     "text": [
      "0 apple \n",
      "1 banana\n"
     ]
    }
   ],
   "source": [
    "# 6. 다음 빈칸에 들어갈 함수 이름은?\n",
    "colors = {\"red\":'apple ', 'yellow':'banana'}\n",
    "# for i , v in _______________(colors.________()):\n",
    "#     print(i,v)\n",
    "# 0 apple\n",
    "# 1 banana\n",
    "\n",
    "for i,v in enumerate(colors.values()):\n",
    "    print(i,v)"
   ]
  },
  {
   "cell_type": "code",
   "execution_count": 94,
   "id": "f8ecb844",
   "metadata": {},
   "outputs": [
    {
     "name": "stdout",
     "output_type": "stream",
     "text": [
      "1 0\n"
     ]
    }
   ],
   "source": [
    "# 7. 다음 코드의 실행결과는?\n",
    "\n",
    "for i in range(0,2):\n",
    "    for j in range(0,2):\n",
    "        if i==j:\n",
    "            break\n",
    "        print(i,j)\n",
    "        \n",
    "# 1,0\n",
    "# 2,0 ???\n",
    "# 2,1 ??? 1 0 이 되는 순간 바로 출력되고 끝나나?"
   ]
  },
  {
   "cell_type": "code",
   "execution_count": 95,
   "id": "2d194bd1",
   "metadata": {},
   "outputs": [
    {
     "name": "stdout",
     "output_type": "stream",
     "text": [
      "0 0\n",
      "1 0\n",
      "1 1\n"
     ]
    }
   ],
   "source": [
    "# 8. 다음 코드의 실행 결과로 출력될 수 없는 것은?\n",
    "for i in range(0, 2):\n",
    "    for j in range(0,2):\n",
    "        print(i, j)\n",
    "        if i == j:\n",
    "            break\n",
    "# ① 0 0   ② 0 1   ③ 1 0   ④ 1 1\n",
    "# ② "
   ]
  },
  {
   "cell_type": "code",
   "execution_count": 96,
   "id": "1470849b",
   "metadata": {},
   "outputs": [
    {
     "name": "stdout",
     "output_type": "stream",
     "text": [
      "3579"
     ]
    }
   ],
   "source": [
    "# 9. 다음 코드의 실행결과는?\n",
    "L = [3, 4, 5, 6, 7, 8, 9, 10]\n",
    "for i , data in enumerate(L):\n",
    "    if i%2 == 0:\n",
    "        print(data, end='')\n",
    "        \n",
    "# 4 6 8 10 ??? 아하 데이터의 짝수를 빼는게 아니라 2번째 행을 추출하는것. enumerate가 있으니까.\n",
    "\n",
    "# print(L[0::2]) 위의 식은 이렇게 간단히 쓸 수 있음\n",
    "\n",
    "# for data in L[o::2]\n",
    "#   print(data, end=' ')"
   ]
  },
  {
   "cell_type": "code",
   "execution_count": 98,
   "id": "08ec2208",
   "metadata": {},
   "outputs": [
    {
     "data": {
      "text/plain": [
       "[(0, 3), (1, 4), (2, 5), (3, 6), (4, 7), (5, 8), (6, 9), (7, 10)]"
      ]
     },
     "execution_count": 98,
     "metadata": {},
     "output_type": "execute_result"
    }
   ],
   "source": [
    "list(enumerate(L))"
   ]
  },
  {
   "cell_type": "code",
   "execution_count": 1,
   "id": "d0c6c010",
   "metadata": {},
   "outputs": [
    {
     "name": "stdout",
     "output_type": "stream",
     "text": [
      "컴퓨터가 발생한 random 수 :  39\n",
      "1~100 사이의 수를 맞춰 보세요 :40\n",
      "Down ↓\n",
      "1~100 사이의 수를 맞춰 보세요 :39\n",
      "축하 축하 맞추셨습니다\n",
      "Bye\n"
     ]
    }
   ],
   "source": [
    "# 10. 1~100사이의 정수를 맞추는 프로그램을 구현하시오\n",
    "\n",
    "'''\n",
    "\n",
    "1~100 사이의 정수 맞추기 프로그램\n",
    "(프로그램 안에서 random수가 만들어지고, 그 random수 맞추기)\n",
    "1단계 : 숫자를 못 맞추면 UP/DOWN을 출력하고, 맞추면 축하메세지 출력하고 종료.\n",
    "2단계 : 숫자를 못 맞추면 min(0), max(100)를 조정하고, 맞추면 축하메세지 출력하고 종료.\n",
    "3단계 : 2단계의 기회를 5회로 제한. 5회의 기회가 지나면 실패메세지 출력하고 종료.\n",
    "        5회 이내에 맞추면 축하메세지 출력하고 종료\n",
    "        (2단계와 3단계는 연습문제)\n",
    "\n",
    "'''\n",
    "# 1단계\n",
    "\n",
    "import random\n",
    "randomNum = random.randint(1, 100)\n",
    "print('컴퓨터가 발생한 random 수 : ', randomNum)\n",
    "while True:\n",
    "    inputNum = int(input('1~100 사이의 수를 맞춰 보세요 :'))\n",
    "    if (inputNum<1) | (inputNum>100):\n",
    "        print('수의 범위를 벗어났습니다')\n",
    "    elif randomNum < inputNum :\n",
    "        print('Down ↓')\n",
    "    elif randomNum > inputNum :\n",
    "        print('Up ↑')\n",
    "    else:\n",
    "        print('축하 축하 맞추셨습니다')\n",
    "        break\n",
    "print('Bye')"
   ]
  },
  {
   "cell_type": "code",
   "execution_count": 10,
   "id": "1daa8896",
   "metadata": {},
   "outputs": [
    {
     "name": "stdout",
     "output_type": "stream",
     "text": [
      "컴퓨터가 발생한 random 수 :  39\n",
      "1~100 사이의 수를 맞춰 보세요 :80\n",
      "1~80 사이의 수를 맞춰 보세요 :\n",
      "Down ↓\n",
      "1~100 사이의 수를 맞춰 보세요 :20\n",
      "20~80 사이의 수를 맞춰 보세요 :\n",
      "Up ↑\n",
      "1~100 사이의 수를 맞춰 보세요 :30\n",
      "30~80 사이의 수를 맞춰 보세요 :\n",
      "Up ↑\n",
      "1~100 사이의 수를 맞춰 보세요 :90\n",
      "1~90 사이의 수를 맞춰 보세요 :\n",
      "Down ↓\n",
      "1~100 사이의 수를 맞춰 보세요 :33\n",
      "33~90 사이의 수를 맞춰 보세요 :\n",
      "Up ↑\n",
      "1~100 사이의 수를 맞춰 보세요 :39\n",
      "축하 축하 맞추셨습니다\n",
      "Bye\n"
     ]
    }
   ],
   "source": [
    "# 2단계\n",
    "\n",
    "print('컴퓨터가 발생한 random 수 : ', randomNum)\n",
    "while True:\n",
    "    inputNum = int(input('1~100 사이의 수를 맞춰 보세요 :'))\n",
    "    if (inputNum<1) | (inputNum>100):\n",
    "        print('수의 범위를 벗어났습니다')\n",
    "    elif randomNum < inputNum :\n",
    "        inputNum1 = inputNum\n",
    "        print(f'1~{inputNum1-1} 사이의 수를 맞춰 보세요 :')\n",
    "        print('Down ↓')\n",
    "    elif randomNum > inputNum :\n",
    "        inputNum2 = inputNum\n",
    "        randomNum <= inputNum2 <= inputNum1\n",
    "        print(f'{inputNum2+1}~{inputNum1} 사이의 수를 맞춰 보세요 :')\n",
    "        print('Up ↑')\n",
    "    else:\n",
    "        print('축하 축하 맞추셨습니다')\n",
    "        break\n",
    "print('Bye')\n",
    "\n",
    "# 다시 큰 수를 넣었을 때 리셋되는것을 어떻게 해야하는가"
   ]
  },
  {
   "cell_type": "code",
   "execution_count": 18,
   "id": "9adb9254",
   "metadata": {},
   "outputs": [
    {
     "name": "stdout",
     "output_type": "stream",
     "text": [
      "컴퓨터가 발생한 random 수 :  70\n",
      "1~100 사이의 수를 맞춰 보세요 :80\n",
      "Down ↓\n",
      "1~79 사이의 수를 맞춰 보세요 :90\n",
      "수의 범위를 벗어났습니다\n",
      "1~79 사이의 수를 맞춰 보세요 :31\n",
      "Up ↑\n",
      "32~79 사이의 수를 맞춰 보세요 :65\n",
      "Up ↑\n",
      "66~79 사이의 수를 맞춰 보세요 :70\n",
      "축하 축하 맞추셨습니다\n",
      "Bye\n"
     ]
    }
   ],
   "source": [
    "# 2단계 답\n",
    "\n",
    "import random\n",
    "randomNum = random.randint(1, 100)\n",
    "print('컴퓨터가 발생한 random 수 : ', randomNum)\n",
    "\n",
    "min_ = 1\n",
    "max_ = 100\n",
    "\n",
    "while True:\n",
    "    inputNum = int(input(f'{min_}~{max_} 사이의 수를 맞춰 보세요 :'))\n",
    "    if (inputNum<min_) | (inputNum>max_):\n",
    "        print('수의 범위를 벗어났습니다')\n",
    "    elif randomNum < inputNum :\n",
    "        print('Down ↓')\n",
    "        max_ = inputNum-1\n",
    "    elif randomNum > inputNum :\n",
    "        print('Up ↑')\n",
    "        min_ = inputNum+1\n",
    "    else:\n",
    "        print('축하 축하 맞추셨습니다')\n",
    "        break\n",
    "print('Bye')"
   ]
  },
  {
   "cell_type": "code",
   "execution_count": 19,
   "id": "88750d2e",
   "metadata": {},
   "outputs": [
    {
     "name": "stdout",
     "output_type": "stream",
     "text": [
      "컴퓨터가 발생한 random 수 :  85\n",
      "1~100 사이의 수를 맞춰 보세요(남은 기회 5회) :50\n",
      "Up ↑\n",
      "51~100 사이의 수를 맞춰 보세요(남은 기회 4회) :90\n",
      "Down ↓\n",
      "51~89 사이의 수를 맞춰 보세요(남은 기회 3회) :79\n",
      "Up ↑\n",
      "80~89 사이의 수를 맞춰 보세요(남은 기회 2회) :84\n",
      "Up ↑\n",
      "85~89 사이의 수를 맞춰 보세요(남은 기회 1회) :88\n",
      "Down ↓\n",
      "기회를 모두 사용하셨습니다. 실패하셨습니다\n",
      "Bye\n"
     ]
    }
   ],
   "source": [
    "# 3단계 답\n",
    "\n",
    "import random\n",
    "randomNum = random.randint(1, 100)\n",
    "print('컴퓨터가 발생한 random 수 : ', randomNum)\n",
    "\n",
    "min_ = 1\n",
    "max_ = 100\n",
    "\n",
    "for cnt in range(5,0,-1):\n",
    "    inputNum = int(input(f'{min_}~{max_} 사이의 수를 맞춰 보세요(남은 기회 {cnt}회) :'))\n",
    "    if (inputNum<min_) | (inputNum>max_):\n",
    "        print('수의 범위를 벗어났습니다')\n",
    "    elif randomNum < inputNum :\n",
    "        print('Down ↓')\n",
    "        max_ = inputNum-1\n",
    "    elif randomNum > inputNum :\n",
    "        print('Up ↑')\n",
    "        min_ = inputNum+1\n",
    "    else:\n",
    "        print('축하 축하 맞추셨습니다')\n",
    "        break\n",
    "else:\n",
    "    print('기회를 모두 사용하셨습니다. 실패하셨습니다')\n",
    "print('Bye')"
   ]
  },
  {
   "cell_type": "code",
   "execution_count": null,
   "id": "95df6aa5",
   "metadata": {},
   "outputs": [],
   "source": []
  }
 ],
 "metadata": {
  "kernelspec": {
   "display_name": "Python 3 (ipykernel)",
   "language": "python",
   "name": "python3"
  },
  "language_info": {
   "codemirror_mode": {
    "name": "ipython",
    "version": 3
   },
   "file_extension": ".py",
   "mimetype": "text/x-python",
   "name": "python",
   "nbconvert_exporter": "python",
   "pygments_lexer": "ipython3",
   "version": "3.10.9"
  },
  "toc": {
   "base_numbering": 1,
   "nav_menu": {},
   "number_sections": false,
   "sideBar": true,
   "skip_h1_title": false,
   "title_cell": "Table of Contents",
   "title_sidebar": "Contents",
   "toc_cell": false,
   "toc_position": {
    "height": "calc(100% - 180px)",
    "left": "10px",
    "top": "150px",
    "width": "165px"
   },
   "toc_section_display": true,
   "toc_window_display": true
  }
 },
 "nbformat": 4,
 "nbformat_minor": 5
}
