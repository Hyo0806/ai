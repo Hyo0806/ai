{
 "cells": [
  {
   "cell_type": "code",
   "execution_count": 1,
   "id": "a11f1719",
   "metadata": {},
   "outputs": [
    {
     "data": {
      "text/html": [
       "\n",
       "<style>\n",
       "div.container{width:90% !important;}\n",
       "div.cell.code_cell.rendered{width:100%;}\n",
       "div.input_prompt{padding:0px;}\n",
       "div.CodeMirror {font-family:Consolas; font-size:12pt;}\n",
       "div.text_cell_render.rendered_html{font-size:12pt;}\n",
       "div.output {font-size:12pt; font-weight:bold;}\n",
       "div.input {font-family:Consolas; font-size:12pt;}\n",
       "div.prompt {min-width:70px;}\n",
       "div#toc-wrapper{padding-top:120px;}\n",
       "div.text_cell_render ul li{font-size:12pt;padding:5px;}\n",
       "table.dataframe{font-size:12px;}\n",
       "</style>\n"
      ],
      "text/plain": [
       "<IPython.core.display.HTML object>"
      ]
     },
     "metadata": {},
     "output_type": "display_data"
    }
   ],
   "source": [
    "from IPython.display import display, HTML\n",
    "display(HTML(\"\"\"\n",
    "<style>\n",
    "div.container{width:90% !important;}\n",
    "div.cell.code_cell.rendered{width:100%;}\n",
    "div.input_prompt{padding:0px;}\n",
    "div.CodeMirror {font-family:Consolas; font-size:12pt;}\n",
    "div.text_cell_render.rendered_html{font-size:12pt;}\n",
    "div.output {font-size:12pt; font-weight:bold;}\n",
    "div.input {font-family:Consolas; font-size:12pt;}\n",
    "div.prompt {min-width:70px;}\n",
    "div#toc-wrapper{padding-top:120px;}\n",
    "div.text_cell_render ul li{font-size:12pt;padding:5px;}\n",
    "table.dataframe{font-size:12px;}\n",
    "</style>\n",
    "\"\"\"))"
   ]
  },
  {
   "cell_type": "markdown",
   "id": "2d002431",
   "metadata": {},
   "source": [
    "<b><font size=\"6\" color=\"red\"> 정리 </font></b>\n"
   ]
  },
  {
   "cell_type": "markdown",
   "id": "ed713b83",
   "metadata": {},
   "source": [
    "# 예약어\n",
    "\n",
    "파이썬의 구문과 구조를 정의하고, 특정 기능을 수행하기 위해 미리 약속된 단어\n",
    "\n",
    "- if, else, while, for, True, False, None, def, import, class, return 등"
   ]
  },
  {
   "cell_type": "markdown",
   "id": "6703783a",
   "metadata": {},
   "source": [
    "## import\n",
    "\n",
    "- 다른 파이썬 모듈을 현재 프로그램에서 사용하도록 가져오는 명령어\n",
    "\n",
    "**모듈 전체 가져오기**\n",
    "\n",
    "- import 모듈이름\n",
    "- from 모듈이름 import 함수이름( 특정 함수나 변수만 가져와 바로 사용 )\n",
    "\n",
    "**특정 요소만 가져오기**\n",
    "- import 모듈이름 as 별칭"
   ]
  },
  {
   "cell_type": "markdown",
   "id": "fc00b4f8",
   "metadata": {},
   "source": [
    "## def\n",
    "\n",
    "- 함수(function)를 정의할 때 사용하는 예약어\n",
    "``` \n",
    "def 함수이름(매개변수) :\n",
    "    '''\n",
    "    독스트링 내에 설명을 쓰면 shift+tab 으로 도움말을 볼 수 있음\n",
    "    '''\n",
    "```"
   ]
  },
  {
   "cell_type": "markdown",
   "id": "00991a07",
   "metadata": {},
   "source": [
    "# 문법"
   ]
  },
  {
   "cell_type": "markdown",
   "id": "fa8cf3cc",
   "metadata": {},
   "source": [
    "## raw string\n",
    "\n",
    "- 문자열 앞에 r을 붙여 이스케이프 문자(\\)를 무시하고 문자열을 그대로 인식\n",
    "```\n",
    "     ex) print(r\"Hello\\nWorld\")\n",
    "     #출력: Hello\\nWorld\n",
    "```\n",
    "- 경로 표현 : 파일 경로 등 백슬래시가 포함된 문자열\n",
    "- 정규표현식 :  정규식 패턴에서 백슬래시가 특별한 의미로 사용되므로, 백슬래시를 그대로 유지하기 위해\n",
    "- JSON/HTML 문자열 : 외부에서 가져온 JSON이나 HTML 소스 코드의 특수 문자나 태그 등을 파이썬이 임의로 해석하지 않고 그대로 사용"
   ]
  },
  {
   "cell_type": "markdown",
   "id": "90983a73",
   "metadata": {},
   "source": [
    "## 정규표현식(regex)\n",
    "\n",
    "- 문자열 내에서 특정 패턴을 찾거나(매칭), 변경하거나, 추출하는 데 사용되는 강력한 도구\n",
    "- 파이썬 자체의 문법이 아닌 여러 프로그래밍 언어에서 공용으로 사용되는 표준 형식 언어\n",
    "\n",
    "\n",
    "- 메타 문자 (Meta Characters): 정규 표현식에서 특별한 의미를 가지는 문자입니다. 예를 들어, 숫자를 찾거나( \\d ) 특정 문자를 매칭하는 데 사용\n",
    "- re 모듈: 파이썬에서 정규 표현식을 사용하기 위한 내장 라이브러리 \n",
    "\n",
    "- 자주 사용되는 re 모듈 함수\n",
    "    - `re.search(pattern, string)`: 문자열에서 패턴이 처음으로 나타나는 위치를 찾아 반환합니다. \n",
    "    - `re.findall(pattern, string)`: 문자열에서 패턴과 일치하는 모든 부분을 찾아 리스트 형태로 반환합니다. \n",
    "    - `re.sub(pattern, repl, string)`: 문자열에서 패턴과 일치하는 부분을 찾아 repl로 대체합니다. "
   ]
  },
  {
   "cell_type": "markdown",
   "id": "51d1c2b0",
   "metadata": {},
   "source": [
    "**간략 문법**\n",
    "\n",
    "- \\d (숫자와 매치. [0-9]와 동일)\n",
    "- \\D (숫자가 아닌 것)\n",
    "- \\w (영문자나 숫자 [a-zA-Z0-9]와 동일)\n",
    "- \\W (영문자나 숫자가 아닌 문자) \n",
    "- . (문자) \n",
    "- \\. (.) \n",
    "- \\- (-) \n",
    "- {2,} (2번 이상 반복)\n",
    "- {2, 4} (2~4회 반복) \n",
    "- ?      (0번이나 1번 의미) \n",
    "- `+`      (1번 이상 반복) \n",
    "- `*`      (0번 이상 반복) "
   ]
  },
  {
   "cell_type": "markdown",
   "id": "1530804d",
   "metadata": {},
   "source": [
    "# 함수"
   ]
  },
  {
   "cell_type": "markdown",
   "id": "d80b0e4c",
   "metadata": {},
   "source": [
    "## input() \n",
    "\n",
    "- input() 함수는 사용자로부터 값을 입력받는 데 사용\n",
    "- str(문자열)타입\n",
    "- 입력받은 값을 숫자처럼 사용하려면 int(), float()과 같은 형변환 함수를 사용하여 데이터 타입을 변환"
   ]
  },
  {
   "cell_type": "markdown",
   "id": "58093366",
   "metadata": {},
   "source": [
    "## int()\n",
    "\n",
    "- 소수점 이하가 없는 숫자를 나타내는 데이터 타입(자료형)\n",
    "- 사용자가 입력한 값을 숫자로 처리하고 싶을 때 int(input())\n",
    "\n",
    "- 3(int) / 3.0(float) / '3'(str)"
   ]
  },
  {
   "cell_type": "markdown",
   "id": "cae66a0c",
   "metadata": {},
   "source": [
    "## isdigit()\n",
    "\n",
    "- 문자열에 포함된 모든 문자가 숫자(0-9)인지 확인\n",
    "- `'-10'`의 '-'와 `'12.5'`의 '.'은 숫자가 아니므로 False를 반환\n",
    "- 따라서 양의 정수를 구하는 식에 적합함"
   ]
  },
  {
   "cell_type": "markdown",
   "id": "55c5db44",
   "metadata": {},
   "source": [
    "## restval()\n",
    "\n",
    "헤더(필드명)보다 필드 수가 적은 행이 있을 때, 빠진 필드에 restval로 지정한 값이 할당"
   ]
  },
  {
   "cell_type": "code",
   "execution_count": null,
   "id": "8b95a45d",
   "metadata": {},
   "outputs": [],
   "source": []
  },
  {
   "cell_type": "code",
   "execution_count": null,
   "id": "0f9a2195",
   "metadata": {},
   "outputs": [],
   "source": []
  },
  {
   "cell_type": "code",
   "execution_count": null,
   "id": "7f8be35a",
   "metadata": {},
   "outputs": [],
   "source": []
  },
  {
   "cell_type": "code",
   "execution_count": null,
   "id": "60ea4c66",
   "metadata": {},
   "outputs": [],
   "source": []
  },
  {
   "cell_type": "code",
   "execution_count": null,
   "id": "a2a80ff9",
   "metadata": {},
   "outputs": [],
   "source": []
  },
  {
   "cell_type": "code",
   "execution_count": null,
   "id": "6fb21cdb",
   "metadata": {},
   "outputs": [],
   "source": []
  },
  {
   "cell_type": "code",
   "execution_count": null,
   "id": "2c0b8798",
   "metadata": {},
   "outputs": [],
   "source": []
  },
  {
   "cell_type": "code",
   "execution_count": null,
   "id": "ca158066",
   "metadata": {},
   "outputs": [],
   "source": []
  },
  {
   "cell_type": "code",
   "execution_count": null,
   "id": "efbef97a",
   "metadata": {},
   "outputs": [],
   "source": []
  },
  {
   "cell_type": "code",
   "execution_count": null,
   "id": "9565f670",
   "metadata": {},
   "outputs": [],
   "source": []
  },
  {
   "cell_type": "code",
   "execution_count": null,
   "id": "b37a3c85",
   "metadata": {},
   "outputs": [],
   "source": []
  },
  {
   "cell_type": "code",
   "execution_count": null,
   "id": "13c24d7c",
   "metadata": {},
   "outputs": [],
   "source": []
  },
  {
   "cell_type": "code",
   "execution_count": null,
   "id": "d64fd898",
   "metadata": {},
   "outputs": [],
   "source": []
  },
  {
   "cell_type": "code",
   "execution_count": null,
   "id": "c9cceb7b",
   "metadata": {},
   "outputs": [],
   "source": []
  },
  {
   "cell_type": "code",
   "execution_count": null,
   "id": "89bf8f02",
   "metadata": {},
   "outputs": [],
   "source": []
  },
  {
   "cell_type": "code",
   "execution_count": null,
   "id": "121dd8ca",
   "metadata": {},
   "outputs": [],
   "source": []
  },
  {
   "cell_type": "code",
   "execution_count": null,
   "id": "fabb1b18",
   "metadata": {},
   "outputs": [],
   "source": []
  },
  {
   "cell_type": "code",
   "execution_count": null,
   "id": "e9926ec7",
   "metadata": {},
   "outputs": [],
   "source": []
  }
 ],
 "metadata": {
  "kernelspec": {
   "display_name": "Python 3 (ipykernel)",
   "language": "python",
   "name": "python3"
  },
  "language_info": {
   "codemirror_mode": {
    "name": "ipython",
    "version": 3
   },
   "file_extension": ".py",
   "mimetype": "text/x-python",
   "name": "python",
   "nbconvert_exporter": "python",
   "pygments_lexer": "ipython3",
   "version": "3.10.9"
  },
  "toc": {
   "base_numbering": 1,
   "nav_menu": {},
   "number_sections": false,
   "sideBar": true,
   "skip_h1_title": false,
   "title_cell": "Table of Contents",
   "title_sidebar": "Contents",
   "toc_cell": false,
   "toc_position": {
    "height": "calc(100% - 180px)",
    "left": "10px",
    "top": "150px",
    "width": "201px"
   },
   "toc_section_display": true,
   "toc_window_display": false
  }
 },
 "nbformat": 4,
 "nbformat_minor": 5
}
