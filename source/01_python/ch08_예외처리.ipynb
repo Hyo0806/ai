{
 "cells": [
  {
   "cell_type": "code",
   "execution_count": 1,
   "id": "f4fff6f6",
   "metadata": {},
   "outputs": [
    {
     "data": {
      "text/html": [
       "\n",
       "<style>\n",
       "div.container{width:90% !important;}\n",
       "div.cell.code_cell.rendered{width:100%;}\n",
       "div.input_prompt{padding:0px;}\n",
       "div.CodeMirror {font-family:Consolas; font-size:12pt;}\n",
       "div.text_cell_render.rendered_html{font-size:12pt;}\n",
       "div.output {font-size:12pt; font-weight:bold;}\n",
       "div.input {font-family:Consolas; font-size:12pt;}\n",
       "div.prompt {min-width:70px;}\n",
       "div#toc-wrapper{padding-top:120px;}\n",
       "div.text_cell_render ul li{font-size:12pt;padding:5px;}\n",
       "table.dataframe{font-size:12px;}\n",
       "</style>\n"
      ],
      "text/plain": [
       "<IPython.core.display.HTML object>"
      ]
     },
     "metadata": {},
     "output_type": "display_data"
    }
   ],
   "source": [
    "from IPython.display import display, HTML\n",
    "display(HTML(\"\"\"\n",
    "<style>\n",
    "div.container{width:90% !important;}\n",
    "div.cell.code_cell.rendered{width:100%;}\n",
    "div.input_prompt{padding:0px;}\n",
    "div.CodeMirror {font-family:Consolas; font-size:12pt;}\n",
    "div.text_cell_render.rendered_html{font-size:12pt;}\n",
    "div.output {font-size:12pt; font-weight:bold;}\n",
    "div.input {font-family:Consolas; font-size:12pt;}\n",
    "div.prompt {min-width:70px;}\n",
    "div#toc-wrapper{padding-top:120px;}\n",
    "div.text_cell_render ul li{font-size:12pt;padding:5px;}\n",
    "table.dataframe{font-size:12px;}\n",
    "</style>\n",
    "\"\"\"))"
   ]
  },
  {
   "cell_type": "markdown",
   "id": "e9e191a8",
   "metadata": {},
   "source": [
    "<b><font size=\"6\" color=\"red\"> ch08. 예외처리 </font></b>\n",
    "\n",
    "- 에러\n",
    "    \n",
    "    (1) 문법에러 : 문법적으로 나타나는 에러(프로그램을 수정)\n",
    "    \n",
    "    (2) 실행에러(실행시 에러) : \n",
    "        * 시스템 에러 : 프로그래머의 의지와 상관없이 나타나는 에러\n",
    "        * 예외 : 정상적으로 동작하는 프로그램에서 나타나는 에러(MILD한 에러)\n",
    "        \n",
    "        \n",
    "# 1절. 예외처리 필요성\n",
    "\n",
    "- 예외가 날 가능성이 있는 부분에 대해서 미리 예상하고, 그에 대한 처리를 프로그래밍하는 것\n",
    "    (필요한 이유 : 좀 더 안정적인 시스템)\n",
    "    \n",
    "```\n",
    "\n",
    "    ex) 파일을 다룰 때, 파일이 없거나, 쓰기금지, 파일 인코딩 방법에 인한 오류\n",
    "    ex) 데이터베이스 프로그래밍 시 제약조건 등에 의한 CRUD 명령 수행 오류. DBMS 서버 오류\n",
    "    ex) 네트워크 프로그래밍 시 네트워크 연결 오류\n",
    "    ex) 리스트나 튜플의 인덱스를 벗어난 참조에 의한 오류\n",
    "    \n",
    "    \n",
    "```"
   ]
  },
  {
   "cell_type": "code",
   "execution_count": 6,
   "id": "cb79cfaf",
   "metadata": {},
   "outputs": [
    {
     "name": "stdout",
     "output_type": "stream",
     "text": [
      "파일명은? ch08.txt\n",
      "Hello\n",
      "Python\n",
      "\n"
     ]
    }
   ],
   "source": [
    "# 파일명은(ch08.txt, ch02.txt) 사용자에게 입력받아 해당 파일 내용을 출력\n",
    "\n",
    "filename = input('파일명은? ')\n",
    "f = open('data/' + filename, 'r') # r입력하면 이건 입력용 # 파일을 연다(스트림객체 생성)\n",
    "print(f.read())\n",
    "f.close() # 반드시 닫아야지 아니면 나중에 에러남."
   ]
  },
  {
   "cell_type": "code",
   "execution_count": 7,
   "id": "3a70f32e",
   "metadata": {},
   "outputs": [
    {
     "name": "stdout",
     "output_type": "stream",
     "text": [
      "파일명은? ch02.txt\n",
      "Hello, Python\n",
      "Hello, World\n",
      "\n"
     ]
    }
   ],
   "source": [
    "# 예외 발생 : 파일명이 잘못 되었을 경우\n",
    "\n",
    "filename = input('파일명은? ')\n",
    "f = open('data/' + filename, 'r')\n",
    "print(f.read())\n",
    "f.close()"
   ]
  },
  {
   "cell_type": "code",
   "execution_count": 9,
   "id": "c8646fe0",
   "metadata": {},
   "outputs": [
    {
     "name": "stdout",
     "output_type": "stream",
     "text": [
      "파일명은 ?ch08.txt\n",
      "Hello\n",
      "Python\n",
      "주피터노트북의 txt파일 저장은 기본이 utf-8로 저장\n",
      "김설믜\n"
     ]
    }
   ],
   "source": [
    "# 예외 발생 : 인코딩방식 에러\n",
    "\n",
    "# 한글인코딩 방법 : \n",
    "\n",
    "# 한글완성형(euc-kr < cp949) : 한글 11,172자 중 2,850자만 코드표현법 \n",
    "#          ex) 앉(o), 뵑(x), 먉(x) 안쓰는 것들은 빼버린것. 하지만 이렇게 하니 '김설믜'씨같은 사람들은 '김설?'로 살아서 변경\n",
    "# 한글조합형(utf-8) : 초성, 중성, 종성을 조합하는 방식. ch08.txt\n",
    "\n",
    "filename = input('파일명은 ?')\n",
    "f = open('data/' + filename, 'r', encoding='utf-8') # 파일을 연다(cp949가 기본 encoding방식). 저 뒤에것을 안쓰면 저거 에러남.\n",
    "print(f.read())\n",
    "f.close()"
   ]
  },
  {
   "cell_type": "code",
   "execution_count": 11,
   "id": "96be0577",
   "metadata": {},
   "outputs": [
    {
     "name": "stdout",
     "output_type": "stream",
     "text": [
      "파일명은 ?ch08(2).txt\n",
      "Hello\n",
      "Python\n",
      "주피터노트북의 txt파일 저장은 기본이 utf-8로 저장\n",
      "김설믜\n"
     ]
    }
   ],
   "source": [
    "# 메모장에서 다른이름으로 저장할때 아래에 인코딩을 ANCI로 바꾸면 cp949로 변경됨(주피터노트북에서 텍스트파일 바로 못봄. 주피터노트북은 기본적으로 utf-8이기 때문)\n",
    "\n",
    "filename = input('파일명은 ?')\n",
    "f = open('data/' + filename, 'r') # 파일을 연다(cp949가 기본 encoding방식).\n",
    "print(f.read())\n",
    "f.close()"
   ]
  },
  {
   "cell_type": "markdown",
   "id": "62302526",
   "metadata": {},
   "source": [
    "# 2절. try~except로 예외처리\n",
    "\n",
    "## 2.1 try~except\n",
    "\n",
    "```\n",
    "\n",
    "try:\n",
    "    예외가 발생할 가능성이 있는 명령어들\n",
    "except:\n",
    "    예외가 발생했을 경우 실행할 명령어들\n",
    "\n",
    "```"
   ]
  },
  {
   "cell_type": "code",
   "execution_count": 19,
   "id": "b2cf41b3",
   "metadata": {},
   "outputs": [
    {
     "name": "stdout",
     "output_type": "stream",
     "text": [
      "100을 나눌 정수를 입력하세요 :5\n",
      "100을 입력한 정수로 나누면 20.00\n"
     ]
    }
   ],
   "source": [
    "# 100을 입력받은 정수값으로 나눠 출력\n",
    "# ValueError: invalid literal for int() with base 10: '삼'(정수를 입력하지 않은 경우)\n",
    "# ZeroDivisionError: division by zero (0을 입력한 경우 예외 객체의 타입과 메세지)\n",
    "\n",
    "x = int(input('100을 나눌 정수를 입력하세요 :'))\n",
    "print('100을 입력한 정수로 나누면 {:.2f}'.format(100/x))"
   ]
  },
  {
   "cell_type": "code",
   "execution_count": 21,
   "id": "fb7db07e",
   "metadata": {},
   "outputs": [
    {
     "name": "stdout",
     "output_type": "stream",
     "text": [
      "100을 나눌 정수를 입력하세요 :0\n",
      "유효한 정수가 아닙니다\n"
     ]
    }
   ],
   "source": [
    "# 100을 입력받은 정수값으로 나눠 출력\n",
    "# ValueError: invalid literal for int() with base 10: '삼'(정수를 입력하지 않은 경우)\n",
    "# ZeroDivisionError: division by zero (0을 입력한 경우 예외 객체의 타입과 메세지)\n",
    "# try절에 예외가 발생되지 않으면 except절은 수행되지 않음\n",
    "# try절에 예외가 발생되면, try절 수행을 멈추고 except절을 수행\n",
    "\n",
    "try:\n",
    "    x = int(input('100을 나눌 정수를 입력하세요 :'))\n",
    "    print('100을 입력한 정수로 나누면 {:.2f}'.format(100/x))\n",
    "except:\n",
    "    print('유효한 정수가 아닙니다')"
   ]
  },
  {
   "cell_type": "code",
   "execution_count": 22,
   "id": "deefb022",
   "metadata": {},
   "outputs": [
    {
     "data": {
      "text/plain": [
       "0"
      ]
     },
     "execution_count": 22,
     "metadata": {},
     "output_type": "execute_result"
    }
   ],
   "source": [
    "x # 위에 ㅁ을 넣을 경우 8줄은 수행을 하지 않아서 x에 값이 아예 없음. 그러나 0을 넣을 경우 8절은 수행하고 9절은 수행을 하지 않았기 때문에 x에 0이라는 값은 들어갔음."
   ]
  },
  {
   "cell_type": "code",
   "execution_count": 23,
   "id": "ab9cfe74",
   "metadata": {},
   "outputs": [
    {
     "name": "stdout",
     "output_type": "stream",
     "text": [
      "100을 나눌 정수를 입력하세요 :ㅁ\n",
      "유효한 정수가 아닙니다\n",
      "100을 나눌 정수를 입력하세요 :''\n",
      "유효한 정수가 아닙니다\n",
      "100을 나눌 정수를 입력하세요 : \n",
      "유효한 정수가 아닙니다\n",
      "100을 나눌 정수를 입력하세요 :4\n",
      "100을 입력한 정수로 나누면 25.00\n"
     ]
    }
   ],
   "source": [
    "# 100을 나눌 유효한 정수를 입력할 때까지 입력받아 100을 나눈 결과를 출력\n",
    "\n",
    "while True: #몇번이나 반복할지 모를때 while문 사용\n",
    "    try:\n",
    "        x = int(input('100을 나눌 정수를 입력하세요 :'))\n",
    "        print('100을 입력한 정수로 나누면 {:.2f}'.format(100/x))\n",
    "        break # 여기까지 했을때 제대로 나오면 더이상 반복하지 말고 빠져나와라\n",
    "    except:\n",
    "        print('유효한 정수가 아닙니다')"
   ]
  },
  {
   "cell_type": "markdown",
   "id": "3728be02",
   "metadata": {},
   "source": [
    "## 2.2 지정된 예외처리\n",
    "\n",
    "```\n",
    "\n",
    "try:\n",
    "    예외가 발생할 수도 있는 명령어\n",
    "except 예외타입1:\n",
    "    해당 예외가 발생할 경우 실행할 명령어\n",
    "except (예외타입2, 예외타입3):\n",
    "    해당 예외가 발생할 경우 실행할 명령어\n",
    "\n",
    "```"
   ]
  },
  {
   "cell_type": "code",
   "execution_count": 28,
   "id": "9097969d",
   "metadata": {},
   "outputs": [
    {
     "name": "stdout",
     "output_type": "stream",
     "text": [
      "100을 나눌 정수를 입력하세요 :0\n",
      "0으로는 나눌 수 없어요\n"
     ]
    }
   ],
   "source": [
    "# 수를 입력받아 100을 나눈 결과를 출력\n",
    "# ValueError: invalid literal for int() with base 10: '삼'(정수를 입력하지 않은 경우)\n",
    "# ZeroDivisionError: division by zero (0을 입력한 경우 예외 객체의 타입과 메세지)\n",
    "\n",
    "\n",
    "try:\n",
    "    x = int(input('100을 나눌 정수를 입력하세요 :'))\n",
    "    print('100을 입력한 정수로 나누면 {:.2f}'.format(100/x)) \n",
    "except ValueError:\n",
    "    print('정수를 입력하지 않았습니다')\n",
    "except ZeroDivisionError:\n",
    "    print('0으로는 나눌 수 없어요')"
   ]
  },
  {
   "cell_type": "code",
   "execution_count": 29,
   "id": "f07c9aad",
   "metadata": {},
   "outputs": [
    {
     "name": "stdout",
     "output_type": "stream",
     "text": [
      "100을 나눌 정수를 입력하세요 :0\n",
      "정수를 입력하지 않았습니다\n"
     ]
    }
   ],
   "source": [
    "# 모든 에러 클래스 타입은 Exception에서 상속받았음. 그래서 0을 입력해도 처음 except 절을 수행하고 멈춰버리기 때문에 항상 상위 클래스는 아래에 넣어야함.\n",
    "\n",
    "try:\n",
    "    x = int(input('100을 나눌 정수를 입력하세요 :'))\n",
    "    print('100을 입력한 정수로 나누면 {:.2f}'.format(100/x)) \n",
    "except Exception:\n",
    "    print('정수를 입력하지 않았습니다')\n",
    "except ZeroDivisionError:\n",
    "    print('0으로는 나눌 수 없어요')"
   ]
  },
  {
   "cell_type": "code",
   "execution_count": 30,
   "id": "521bc32e",
   "metadata": {},
   "outputs": [
    {
     "name": "stdout",
     "output_type": "stream",
     "text": [
      "100을 나눌 정수를 입력하세요 :0\n",
      "0으로는 나눌 수 없어요\n"
     ]
    }
   ],
   "source": [
    "try:\n",
    "    x = int(input('100을 나눌 정수를 입력하세요 :'))\n",
    "    print('100을 입력한 정수로 나누면 {:.2f}'.format(100/x)) \n",
    "except ZeroDivisionError:\n",
    "    print('0으로는 나눌 수 없어요')\n",
    "except ValueError:\n",
    "    print('정수를 입력하지 않았습니다')\n",
    "except Exception:\n",
    "    print('기타 다른 예외입니다') # 보험용으로 쓸 수 있음"
   ]
  },
  {
   "cell_type": "code",
   "execution_count": 31,
   "id": "94ae134a",
   "metadata": {},
   "outputs": [
    {
     "name": "stdout",
     "output_type": "stream",
     "text": [
      "100을 나눌 정수를 입력하세요 :1ㅁ\n",
      "나눌 수 있는 유효한 수가 아닙니다\n"
     ]
    }
   ],
   "source": [
    "# 여러개 예외객체 묶어서 처리\n",
    "\n",
    "try:\n",
    "    x = int(input('100을 나눌 정수를 입력하세요 :'))\n",
    "    print('100을 입력한 정수로 나누면 {:.2f}'.format(100/x)) \n",
    "except (ZeroDivisionError, ValueError):  # 꼭 괄호 써야함. 안쓰면 ZeroDivisionError만 수행하기 때문에 ValueError이 실행이 안됨\n",
    "    print('나눌 수 있는 유효한 수가 아닙니다')\n",
    "except Exception:\n",
    "    print('기타 다른 예외입니다')"
   ]
  },
  {
   "cell_type": "markdown",
   "id": "feacc177",
   "metadata": {},
   "source": [
    "## 2.3 예외 인수(e)\n",
    "\n",
    "```\n",
    "\n",
    "try:\n",
    "    예외가 발생할 수도 있는 명령어\n",
    "except 예외타입 as e:\n",
    "    print(e) # 밑에처럼 쓰기도 귀찮으니 이렇게 쓴다\n",
    "    print(e.args[0]) # 예외메시지 출력\n",
    "\n",
    "```"
   ]
  },
  {
   "cell_type": "code",
   "execution_count": 35,
   "id": "ada0e23a",
   "metadata": {},
   "outputs": [],
   "source": [
    "e = Exception('에러메세지')"
   ]
  },
  {
   "cell_type": "code",
   "execution_count": 36,
   "id": "d4890fa6",
   "metadata": {},
   "outputs": [
    {
     "data": {
      "text/plain": [
       "('에러메세지',)"
      ]
     },
     "execution_count": 36,
     "metadata": {},
     "output_type": "execute_result"
    }
   ],
   "source": [
    "e.args"
   ]
  },
  {
   "cell_type": "code",
   "execution_count": 37,
   "id": "575fbb07",
   "metadata": {},
   "outputs": [
    {
     "name": "stdout",
     "output_type": "stream",
     "text": [
      "에러메세지\n"
     ]
    }
   ],
   "source": [
    "print(e)"
   ]
  },
  {
   "cell_type": "code",
   "execution_count": 40,
   "id": "6c18f529",
   "metadata": {},
   "outputs": [
    {
     "name": "stdout",
     "output_type": "stream",
     "text": [
      "100을 나눌 정수를 입력하세요 :0\n",
      "예외 유형 :  <class 'ZeroDivisionError'>\n",
      "예외 메세지 :  division by zero\n",
      "예외 메세지 :  division by zero\n",
      "예외 메세지 :  ('division by zero',)\n"
     ]
    }
   ],
   "source": [
    "try:\n",
    "    x = int(input('100을 나눌 정수를 입력하세요 :'))\n",
    "    print('100을 입력한 정수로 나누면 {:.2f}'.format(100/x)) \n",
    "except (ZeroDivisionError, ValueError) as e:\n",
    "    print('예외 유형 : ', type(e))\n",
    "    print('예외 메세지 : ', e)\n",
    "    print('예외 메세지 : ', e.__str__())\n",
    "    print('예외 메세지 : ', e.args)\n",
    "except Exception:\n",
    "    print('기타 다른 예외입니다')"
   ]
  },
  {
   "cell_type": "markdown",
   "id": "d9f409e2",
   "metadata": {},
   "source": [
    "```\n",
    "try:\n",
    "    예외 발생 가능 명령어\n",
    "except [예외타입 [as e]]:\n",
    "    예외타입 발생시 명령어\n",
    "[else:\n",
    "    try절 수행하다 예외가 발생 안되면 else절 수행\n",
    "    try절 수행하다 예외가 발생하면 except절 수행(else절 수행 안함)]\n",
    "[finally:\n",
    "    try절에서 예외가 발생하든 안하든 마지막에 수행]\n",
    "\n",
    "```"
   ]
  },
  {
   "cell_type": "code",
   "execution_count": 43,
   "id": "1065ded7",
   "metadata": {},
   "outputs": [
    {
     "name": "stdout",
     "output_type": "stream",
     "text": [
      "Hello\n",
      "Python\n",
      "주피터노트북의 txt파일 저장은 기본이 utf-8로 저장\n",
      "김설믜\n"
     ]
    }
   ],
   "source": [
    "try:\n",
    "    file = open('data/ch08.txt','r', encoding='utf-8')\n",
    "except FileNotFoundError as e:\n",
    "    print('해당 폴더나 파일이 없습니다')\n",
    "    print(e)\n",
    "else:\n",
    "    print(file.read())\n",
    "finally:\n",
    "    file.close()"
   ]
  },
  {
   "cell_type": "code",
   "execution_count": 46,
   "id": "426148a0",
   "metadata": {},
   "outputs": [
    {
     "name": "stdout",
     "output_type": "stream",
     "text": [
      "'cp949' codec can't decode byte 0xed in position 19: illegal multibyte sequence\n"
     ]
    }
   ],
   "source": [
    "try:\n",
    "    file = open('data/ch08.txt','r')\n",
    "    print(file.read())\n",
    "except FileNotFoundError as e:\n",
    "    print('해당 폴더나 파일이 없습니다')\n",
    "    print(e)\n",
    "except UnicodeDecodeError as e:\n",
    "    print(e)\n",
    "finally:\n",
    "    file.close()"
   ]
  },
  {
   "cell_type": "markdown",
   "id": "3bb51c9f",
   "metadata": {},
   "source": [
    "# 3절. raise\n",
    "\n",
    "- 강제로 예외 발생"
   ]
  },
  {
   "cell_type": "code",
   "execution_count": 48,
   "id": "c73a0020",
   "metadata": {
    "collapsed": true
   },
   "outputs": [
    {
     "ename": "ZeroDivisionError",
     "evalue": "0으로 나누려고 했네",
     "output_type": "error",
     "traceback": [
      "\u001b[1;31m---------------------------------------------------------------------------\u001b[0m",
      "\u001b[1;31mZeroDivisionError\u001b[0m                         Traceback (most recent call last)",
      "Cell \u001b[1;32mIn[48], line 1\u001b[0m\n\u001b[1;32m----> 1\u001b[0m \u001b[38;5;28;01mraise\u001b[39;00m \u001b[38;5;167;01mZeroDivisionError\u001b[39;00m(\u001b[38;5;124m'\u001b[39m\u001b[38;5;124m0으로 나누려고 했네\u001b[39m\u001b[38;5;124m'\u001b[39m)\n",
      "\u001b[1;31mZeroDivisionError\u001b[0m: 0으로 나누려고 했네"
     ]
    }
   ],
   "source": [
    "raise ZeroDivisionError('0으로 나누려고 했네') #강제로 예의 발생시키는 방법"
   ]
  },
  {
   "cell_type": "code",
   "execution_count": 65,
   "id": "0e05fc52",
   "metadata": {},
   "outputs": [],
   "source": [
    "# 사용자 정의 예외 : Exveption 클래스로부터 상속받아 구현\n",
    "\n",
    "class LengthZeroErrr(Exception): \n",
    "    '길이가 0일때 발생하는 예외'\n",
    "    def __init__(self, message):\n",
    "        super().__init__(message)"
   ]
  },
  {
   "cell_type": "code",
   "execution_count": 66,
   "id": "10695b43",
   "metadata": {},
   "outputs": [],
   "source": [
    "def insert(*data): # 튜를 매개변수\n",
    "    print('data = ', data)\n",
    "    if len(data)==0:\n",
    "        raise LengthZeroErrr('매개변수의 갯수가 0이면 예외에요(사용자 정의 예외)')\n",
    "    for item in data:\n",
    "        print(item, end=' ')\n",
    "    print('등을 입력하였습니다')"
   ]
  },
  {
   "cell_type": "code",
   "execution_count": 59,
   "id": "b2541df2",
   "metadata": {},
   "outputs": [
    {
     "name": "stdout",
     "output_type": "stream",
     "text": [
      "data =  (1, 2, '3')\n",
      "1 2 3 등을 입력하였습니다\n"
     ]
    }
   ],
   "source": [
    "insert(1,2, '3')"
   ]
  },
  {
   "cell_type": "code",
   "execution_count": 60,
   "id": "8f67bacf",
   "metadata": {},
   "outputs": [
    {
     "name": "stdout",
     "output_type": "stream",
     "text": [
      "data =  (1, 2, '3')\n",
      "1 2 3 등을 입력하였습니다\n"
     ]
    }
   ],
   "source": [
    "data = (1,2, '3')\n",
    "insert(*data)"
   ]
  },
  {
   "cell_type": "code",
   "execution_count": 67,
   "id": "167d2d3d",
   "metadata": {},
   "outputs": [
    {
     "name": "stdout",
     "output_type": "stream",
     "text": [
      "data =  ()\n",
      "매개변수의 갯수가 0이면 예외에요(사용자 정의 예외)\n",
      "예외가 발생하든 안하든 무조건 실행\n"
     ]
    }
   ],
   "source": [
    "data = ()\n",
    "try:\n",
    "    insert(*data)\n",
    "except Exception as e:\n",
    "    print(e)\n",
    "else:\n",
    "    print('예외가 발생 안할때만 실행')\n",
    "finally:\n",
    "    print('예외가 발생하든 안하든 무조건 실행')"
   ]
  },
  {
   "cell_type": "markdown",
   "id": "3f15f808",
   "metadata": {},
   "source": [
    "# 4절. 추상클래스 \n",
    "\n",
    "- 추상클래스 : 추상메소드가 1개 이상 포함된 클래스를 추상클래스\n",
    "- 추상메소드 : 호출할 수 없는 메소드. 상속받을 클래스에서 재정의를 강요할 때\n",
    "- python에서 추상메소드 @abstractmethod나 raise를 이용"
   ]
  },
  {
   "cell_type": "code",
   "execution_count": 68,
   "id": "92116967",
   "metadata": {},
   "outputs": [],
   "source": [
    "class Shape:\n",
    "    def __init__(self):\n",
    "        print('생성자')"
   ]
  },
  {
   "cell_type": "code",
   "execution_count": 69,
   "id": "5706ab72",
   "metadata": {},
   "outputs": [
    {
     "name": "stdout",
     "output_type": "stream",
     "text": [
      "생성자\n"
     ]
    }
   ],
   "source": [
    "s = Shape()  #이렇게 못하게 만드는게 목적"
   ]
  },
  {
   "cell_type": "code",
   "execution_count": 72,
   "id": "4b2c847a",
   "metadata": {},
   "outputs": [],
   "source": [
    "class Shape:\n",
    "    def __init__(self):\n",
    "        raise NotImplementedError('추상클래스 역할') # 에러 이름이 구현하지않았어에러\n",
    "    def calc_area(self):\n",
    "        raise NotImplementedError('추상메소드 역할')"
   ]
  },
  {
   "cell_type": "code",
   "execution_count": 75,
   "id": "a2ad8472",
   "metadata": {},
   "outputs": [],
   "source": [
    "# 위에거랑 똑같음. 파이썬에서는 이것을 추천함\n",
    "\n",
    "from abc import ABC, abstractmethod\n",
    "class Shape:\n",
    "    @abstractmethod\n",
    "    def __init__(self):\n",
    "        pass\n",
    "    @abstractmethod\n",
    "    def calc_area(self):\n",
    "        pass"
   ]
  },
  {
   "cell_type": "code",
   "execution_count": 73,
   "id": "a0037306",
   "metadata": {},
   "outputs": [],
   "source": [
    "import numpy as np\n",
    "class Circle(Shape):\n",
    "    def __init__(self, radius=3):\n",
    "        self.radius = radius\n",
    "    def calc_area(self):\n",
    "        '원의 넓이를 return'\n",
    "        return np.pi * (self.radius**2)"
   ]
  },
  {
   "cell_type": "code",
   "execution_count": 74,
   "id": "9215f5db",
   "metadata": {},
   "outputs": [
    {
     "data": {
      "text/plain": [
       "78.53981633974483"
      ]
     },
     "execution_count": 74,
     "metadata": {},
     "output_type": "execute_result"
    }
   ],
   "source": [
    "myCircle = Circle(5)\n",
    "myCircle.calc_area()"
   ]
  },
  {
   "cell_type": "markdown",
   "id": "d9a2cff0",
   "metadata": {},
   "source": [
    "# 5절. 파일 정리 작업(with절 이용)"
   ]
  },
  {
   "cell_type": "code",
   "execution_count": 76,
   "id": "7946866c",
   "metadata": {},
   "outputs": [
    {
     "name": "stdout",
     "output_type": "stream",
     "text": [
      "['Hello\\n', 'Python\\n', '주피터노트북의 txt파일 저장은 기본이 utf-8로 저장\\n', '김설믜']\n"
     ]
    }
   ],
   "source": [
    "# 이렇게 열면 항상 open, close를 써야함\n",
    "\n",
    "try:\n",
    "    f = open('data/ch08.txt', 'r', encoding= 'utf-8')\n",
    "    lines = f.readlines() # 한줄한줄 모든 줄을 한꺼번에 list로 읽어오기\n",
    "    print(lines)\n",
    "except Exception as e:\n",
    "    print(e)\n",
    "finally:\n",
    "    f.close()"
   ]
  },
  {
   "cell_type": "code",
   "execution_count": 78,
   "id": "9fa71a6e",
   "metadata": {},
   "outputs": [
    {
     "name": "stdout",
     "output_type": "stream",
     "text": [
      "['Hello\\n', 'Python\\n', '주피터노트북의 txt파일 저장은 기본이 utf-8로 저장\\n', '김설믜']\n"
     ]
    }
   ],
   "source": [
    "f = open('data/ch08.txt', 'r', encoding= 'utf-8')\n",
    "lines = f.readlines() # 한줄한줄 모든 줄을 한꺼번에 list로 읽어오기\n",
    "print(lines)\n",
    "f.close()"
   ]
  },
  {
   "cell_type": "code",
   "execution_count": 80,
   "id": "99f76f9d",
   "metadata": {},
   "outputs": [
    {
     "name": "stdout",
     "output_type": "stream",
     "text": [
      "['Hello\\n', 'Python\\n', '주피터노트북의 txt파일 저장은 기본이 utf-8로 저장\\n', '김설믜']\n"
     ]
    }
   ],
   "source": [
    "# with절 이후에는 자동적으로 close() 실행\n",
    "\n",
    "with open('data/ch08.txt', 'r', encoding= 'utf-8') as f:\n",
    "    lines = f.readlines()\n",
    "print(lines)"
   ]
  },
  {
   "cell_type": "code",
   "execution_count": 81,
   "id": "2df90e83",
   "metadata": {},
   "outputs": [
    {
     "name": "stdout",
     "output_type": "stream",
     "text": [
      "['Hello\\n', 'Python\\n', '주피터노트북의 txt파일 저장은 기본이 utf-8로 저장\\n', '김설믜']\n"
     ]
    }
   ],
   "source": [
    "try:\n",
    "    with open('data/ch08.txt', 'r', encoding='utf-8') as f:\n",
    "        lines = f.readlines()\n",
    "    print(lines)\n",
    "except (FileNotFoundError, UnicodeDecodeError) as e:\n",
    "    print(e)"
   ]
  },
  {
   "cell_type": "markdown",
   "id": "970f544a",
   "metadata": {},
   "source": [
    "# 6절. 연습문제\n",
    "\n",
    "## 6.1 실습형"
   ]
  },
  {
   "cell_type": "code",
   "execution_count": 1,
   "id": "42b4aa37",
   "metadata": {},
   "outputs": [
    {
     "name": "stdout",
     "output_type": "stream",
     "text": [
      "첫번째 숫자를 입력하세요:0\n",
      "두번째 숫자를 입력하세요10\n",
      "유효한 숫자가 아닙니다. 다시 시도하세요.\n",
      "첫번째 숫자를 입력하세요:29\n",
      "두번째 숫자를 입력하세요39\n",
      "입력한 수는 29와 39입니다.\n",
      "29을 39로 나누면 0.7435897435897436입니다\n"
     ]
    }
   ],
   "source": [
    "# 1. 숫자 두개를 입력받아 나눗셈 연산을 하는 프로그램을 작성하시오.\n",
    "# - 두 숫자는 정수 또는 실수일 수 있으며, 0으로 나눌 수 없습니다.\n",
    "# - 올바른 두 수를 입력하고 나눗셈 연산 결과를 출력한 후 종료해야 합니다.\n",
    "# - 다음은 실행 후 출력 예시입니다.\n",
    "\n",
    "while True:\n",
    "    try:\n",
    "        first = int(input('첫번째 숫자를 입력하세요:'))\n",
    "        second = int(input('두번째 숫자를 입력하세요:'))\n",
    "        sum = first/second\n",
    "        if sum==0:\n",
    "            raise ZeroDivisionError\n",
    "        print(f'입력한 수는 {first}와 {second}입니다.')\n",
    "        print(f'{first}을 {second}로 나누면 {sum}입니다')\n",
    "        break\n",
    "    except Exception:\n",
    "        print('유효한 숫자가 아닙니다. 다시 시도하세요.')"
   ]
  },
  {
   "cell_type": "code",
   "execution_count": 5,
   "id": "e151f87c",
   "metadata": {},
   "outputs": [
    {
     "name": "stdout",
     "output_type": "stream",
     "text": [
      "첫번째 숫자를 입력하세요:10\n",
      "두번째 숫자를 입력하세요:0\n",
      "입력한 수는 10.0와 0.0입니다.\n",
      "유효한 숫자가 아닙니다. 다시 시도하세요.\n",
      "첫번째 숫자를 입력하세요:0\n",
      "두번째 숫자를 입력하세요:10\n",
      "입력한 수는 0.0와 10.0입니다.\n",
      "0.0을 10.0로 나누면 0.0입니다.\n"
     ]
    }
   ],
   "source": [
    "# 답. 일단 정수를 입력받아라고 한게 아니니까 float를 입력받아야함. 아하 이게 0으로 나눌 수 없다고 이미 말을 했구나. 그래서 이렇게 해도 되는거.\n",
    "\n",
    "while True:\n",
    "    try:\n",
    "        num1 = float(input('첫번째 숫자를 입력하세요:'))\n",
    "        num2 = float(input('두번째 숫자를 입력하세요:'))\n",
    "        print('입력한 수는 {}와 {}입니다.'.format(num1, num2))\n",
    "        print('{}을 {}로 나누면 {}입니다.'.format(num1, num2, num1/num2))\n",
    "        break\n",
    "    except:\n",
    "        print('유효한 숫자가 아닙니다. 다시 시도하세요.')"
   ]
  },
  {
   "cell_type": "code",
   "execution_count": 2,
   "id": "31f32af2",
   "metadata": {},
   "outputs": [
    {
     "name": "stdout",
     "output_type": "stream",
     "text": [
      "첫번째 숫자를 입력하세요:0\n",
      "두번째 숫자를 입력하세요10\n",
      "0으로 나눌 수 없습니다. 다시 시도하세요.\n",
      "첫번째 숫자를 입력하세요:ㅁ\n",
      "유효한 숫자가 아닙니다. 다시 시도하세요.\n",
      "첫번째 숫자를 입력하세요:5\n",
      "두번째 숫자를 입력하세요3\n",
      "입력한 수는 5와 3입니다.\n",
      "5을 3로 나누면 1.6666666666666667입니다\n"
     ]
    }
   ],
   "source": [
    "# 2. 1번 코드의 예외처리를 예외에 따라 다르게 처리하세요.\n",
    "# - 숫자로 바꿀 수 없을 경우 ValueError가 발생합니다.\n",
    "# - 0으로 나누려고 할 때 ZeroDivisionError가 발생합니다.\n",
    "# - 다음은 실행 후 출력 예시입니다.\n",
    "\n",
    "while True:\n",
    "    try:\n",
    "        first = int(input('첫번째 숫자를 입력하세요:'))\n",
    "        second = int(input('두번째 숫자를 입력하세요:'))\n",
    "        sum = first/second\n",
    "        if sum==0:\n",
    "            raise ZeroDivisionError\n",
    "        print(f'입력한 수는 {first}와 {second}입니다.')\n",
    "        print(f'{first}을 {second}로 나누면 {sum}입니다')\n",
    "        break\n",
    "    except ValueError:\n",
    "        print('유효한 숫자가 아닙니다. 다시 시도하세요.')\n",
    "    except ZeroDivisionError:\n",
    "        print('0으로 나눌 수 없습니다. 다시 시도하세요.')"
   ]
  },
  {
   "cell_type": "code",
   "execution_count": 4,
   "id": "2cf678ff",
   "metadata": {},
   "outputs": [
    {
     "name": "stdout",
     "output_type": "stream",
     "text": [
      "첫번째 숫자를 입력하세요:0\n",
      "두번째 숫자를 입력하세요:3.4\n",
      "입력한 수는 0.0와 3.4입니다.\n",
      "0.0을 3.4로 나누면 0.0입니다.\n"
     ]
    }
   ],
   "source": [
    "# 답\n",
    "\n",
    "while True:\n",
    "    try:\n",
    "        num1 = float(input('첫번째 숫자를 입력하세요:'))\n",
    "        num2 = float(input('두번째 숫자를 입력하세요:'))\n",
    "        print('입력한 수는 {}와 {}입니다.'.format(num1, num2))\n",
    "        print('{}을 {}로 나누면 {}입니다.'.format(num1, num2, num1/num2))\n",
    "        break\n",
    "    except ValueError:\n",
    "        print('유효한 숫자가 아닙니다. 다시 시도하세요.')\n",
    "    except ZeroDivisionError:\n",
    "        print('0으로 나눌 수 없습니다. 다시 시도하세요.')"
   ]
  },
  {
   "cell_type": "markdown",
   "id": "ed7a9ad5",
   "metadata": {},
   "source": [
    "## 6.2 문제풀이형"
   ]
  },
  {
   "cell_type": "code",
   "execution_count": null,
   "id": "eb4d259d",
   "metadata": {},
   "outputs": [],
   "source": [
    "# 1.다음중 예외 처리에 대해 잘못 설명한 것은?\n",
    "'''\n",
    "① try 블록은 예외가 발생할 가능성이 있는 문장을 작성한다\n",
    "② 예외가 발생하면 except 블록이 실행된다\n",
    "③ 상위예외 처리를 위한 except 블록은 하위 예외 처리 except 블록에 비해 먼저 선언되어야 한다\n",
    "④ finally 블록은 예외의 발생 유/무와 상관없이 실행된다\n",
    "'''\n",
    "\n",
    "# 답 : ③"
   ]
  },
  {
   "cell_type": "code",
   "execution_count": null,
   "id": "e3ba49e7",
   "metadata": {},
   "outputs": [],
   "source": [
    "# 2.다음중 예외 처리에 대한 설명 중 잘못된 것은?\n",
    "'''\n",
    "① raise는 강제로 예외를 발생시킬 때 사용한다.\n",
    "② catch 절은 예외를 처리하기 위해 사용하는 구문이다.\n",
    "③ 다른 예외를 하나의 예외처리 구문으로 처리할 수 있다.\n",
    "④ else 절은 예외가 발생하지 않을 경우 실행된다\n",
    "'''\n",
    "\n",
    "# 답 : ②"
   ]
  },
  {
   "cell_type": "code",
   "execution_count": null,
   "id": "2df2be2b",
   "metadata": {},
   "outputs": [],
   "source": [
    "# 3.다음중 except 절을 잘못 사용한 것은?\n",
    "'''\n",
    "① except :\n",
    "② except Exception:\n",
    "③ except Exception as e:\n",
    "④ except Exception e:\n",
    "'''    \n",
    "\n",
    "# 답 : ④    "
   ]
  },
  {
   "cell_type": "code",
   "execution_count": null,
   "id": "ead580ce",
   "metadata": {},
   "outputs": [],
   "source": [
    "# 4.다음 중 예외 처리에 사용하지 않는 구문은?\n",
    "'''\n",
    "① try\n",
    "② except\n",
    "③ with\n",
    "④ finally\n",
    "'''\n",
    "\n",
    "# 답 : ③"
   ]
  }
 ],
 "metadata": {
  "kernelspec": {
   "display_name": "Python 3 (ipykernel)",
   "language": "python",
   "name": "python3"
  },
  "language_info": {
   "codemirror_mode": {
    "name": "ipython",
    "version": 3
   },
   "file_extension": ".py",
   "mimetype": "text/x-python",
   "name": "python",
   "nbconvert_exporter": "python",
   "pygments_lexer": "ipython3",
   "version": "3.10.9"
  },
  "toc": {
   "base_numbering": 1,
   "nav_menu": {},
   "number_sections": false,
   "sideBar": true,
   "skip_h1_title": false,
   "title_cell": "Table of Contents",
   "title_sidebar": "Contents",
   "toc_cell": false,
   "toc_position": {
    "height": "calc(100% - 180px)",
    "left": "10px",
    "top": "150px",
    "width": "165px"
   },
   "toc_section_display": true,
   "toc_window_display": true
  }
 },
 "nbformat": 4,
 "nbformat_minor": 5
}
