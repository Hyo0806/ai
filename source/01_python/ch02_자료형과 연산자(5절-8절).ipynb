{
 "cells": [
  {
   "cell_type": "code",
   "execution_count": 1,
   "id": "7b84e3da",
   "metadata": {},
   "outputs": [
    {
     "data": {
      "text/html": [
       "\n",
       "<style>\n",
       "div.container{width:90% !important;}\n",
       "div.cell.code_cell.rendered{width:100%;}\n",
       "div.input_prompt{padding:0px;}\n",
       "div.CodeMirror {font-family:Consolas; font-size:12pt;}\n",
       "div.text_cell_render.rendered_html{font-size:12pt;}\n",
       "div.output {font-size:12pt; font-weight:bold;}\n",
       "div.input {font-family:Consolas; font-size:12pt;}\n",
       "div.prompt {min-width:70px;}\n",
       "div#toc-wrapper{padding-top:120px;}\n",
       "div.text_cell_render ul li{font-size:12pt;padding:5px;}\n",
       "table.dataframe{font-size:12px;}\n",
       "</style>\n"
      ],
      "text/plain": [
       "<IPython.core.display.HTML object>"
      ]
     },
     "metadata": {},
     "output_type": "display_data"
    }
   ],
   "source": [
    "from IPython.display import display, HTML\n",
    "display(HTML(\"\"\"\n",
    "<style>\n",
    "div.container{width:90% !important;}\n",
    "div.cell.code_cell.rendered{width:100%;}\n",
    "div.input_prompt{padding:0px;}\n",
    "div.CodeMirror {font-family:Consolas; font-size:12pt;}\n",
    "div.text_cell_render.rendered_html{font-size:12pt;}\n",
    "div.output {font-size:12pt; font-weight:bold;}\n",
    "div.input {font-family:Consolas; font-size:12pt;}\n",
    "div.prompt {min-width:70px;}\n",
    "div#toc-wrapper{padding-top:120px;}\n",
    "div.text_cell_render ul li{font-size:12pt;padding:5px;}\n",
    "table.dataframe{font-size:12px;}\n",
    "</style>\n",
    "\"\"\"))"
   ]
  },
  {
   "cell_type": "markdown",
   "id": "b9e1981c",
   "metadata": {},
   "source": [
    "<b><font size=\"6\" color=\"red\"> 자료형과 연산자 <font><b> \n",
    "\n",
    "# 5절. 연산자\n",
    "\n",
    "## 5.1 산술연산자 \n",
    "`: +,-,*,/(결과 float), //(몫), %(나머지), **(제곱)`"
   ]
  },
  {
   "cell_type": "code",
   "execution_count": 4,
   "id": "f566c197",
   "metadata": {},
   "outputs": [
    {
     "name": "stdout",
     "output_type": "stream",
     "text": [
      "10*5승 = 100000\n",
      "4/2(결과 실수) = 2.0\n",
      "5//2(몫) = 2\n",
      "5%2(나머지) = 1\n"
     ]
    }
   ],
   "source": [
    "# 정수랑 정수랑 계산할 때 실수가 나오는 것은 '나누기' 뿐이다.\n",
    "\n",
    "print('10*5승 =', 10**5)\n",
    "print('4/2(결과 실수) =', 4/2)\n",
    "print('5//2(몫) =', 5//2)\n",
    "print('5%2(나머지) =', 5%2)"
   ]
  },
  {
   "cell_type": "code",
   "execution_count": 5,
   "id": "facbdb16",
   "metadata": {},
   "outputs": [
    {
     "name": "stdout",
     "output_type": "stream",
     "text": [
      "4**2 = 16\n"
     ]
    }
   ],
   "source": [
    "# 정수끼리 연산은 결과가 정수(단 / 제외)\n",
    "# 정수와 실수, 실수끼리 연산 결과는 실수\n",
    "\n",
    "print('4**2 =', 4**2)"
   ]
  },
  {
   "cell_type": "code",
   "execution_count": 6,
   "id": "4d1f2b28",
   "metadata": {},
   "outputs": [
    {
     "name": "stdout",
     "output_type": "stream",
     "text": [
      "정수를 입력하세요:8\n",
      "입력하신 수는 8, 2로 나눈 나머지는 0이라서 짝수를 입력하셨습니다\n"
     ]
    }
   ],
   "source": [
    "# quiz1. 정수를 입력받아 짝수인지 홀수인지 여부를 출력\n",
    "\n",
    "num = int(input('정수를 입력하세요:'))\n",
    "result = num % 2 # -1, 0, 1\n",
    "if result:\n",
    "    temp = '홀수' # temp : 임시변수\n",
    "else:\n",
    "    temp = '짝수'\n",
    "print(f'입력하신 수는 {num}, 2로 나눈 나머지는 {result}이라서 {temp}를 입력하셨습니다')"
   ]
  },
  {
   "cell_type": "code",
   "execution_count": 7,
   "id": "18a1ebb6",
   "metadata": {},
   "outputs": [
    {
     "name": "stdout",
     "output_type": "stream",
     "text": [
      "정수를 입력하세요:47\n",
      "입력하신 수는 47, 5로 나눈 나머지는 2이라서 5의 배수가 아님를 입력하셨습니다\n"
     ]
    }
   ],
   "source": [
    "# quiz2. 정수를 입력받아 5의 배수인지 여부를 출력(내가 푼거)\n",
    "\n",
    "num = int(input('정수를 입력하세요:'))\n",
    "result = num % 5\n",
    "if result:\n",
    "    temp = '5의 배수가 아님'\n",
    "else:\n",
    "    temp = '5의 배수'\n",
    "print(f'입력하신 수는 {num}, 5로 나눈 나머지는 {result}이라서 {temp}를 입력하셨습니다')"
   ]
  },
  {
   "cell_type": "code",
   "execution_count": 9,
   "id": "8e6211e8",
   "metadata": {},
   "outputs": [
    {
     "name": "stdout",
     "output_type": "stream",
     "text": [
      "정수를 입력하세요:9\n",
      "5의 배수가 아닙니다\n"
     ]
    }
   ],
   "source": [
    "# quiz2. 정수를 입력받아 5의 배수인지 여부를 출력(답)\n",
    "\n",
    "num = int(input('정수를 입력하세요:'))\n",
    "if num%5:\n",
    "    print('5의 배수가 아닙니다')\n",
    "else:\n",
    "    print('5의 배수입니다')"
   ]
  },
  {
   "cell_type": "code",
   "execution_count": 8,
   "id": "e7b305c0",
   "metadata": {},
   "outputs": [
    {
     "name": "stdout",
     "output_type": "stream",
     "text": [
      "수학 점수는: 99\n",
      "영어 점수는: 100\n",
      "과학 점수는: 99\n",
      "총점은 298점 이라서 평균은 99.3입니다.\n"
     ]
    }
   ],
   "source": [
    "# quiz3. 국, 영, 수 점수를 입력받아 다음셀에서 다음과 같이 출력하도록 구현하시오(내가 푼거)\n",
    "# 국어 : 99    영어 : 100    수학 : 99\n",
    "# 총점 : 298   평균 : 99.3\n",
    "\n",
    "num1 = int(input('수학 점수는: '))\n",
    "num2 = int(input('영어 점수는: '))\n",
    "num3 = int(input('과학 점수는: '))\n",
    "num4 = int(num1+num2+num3)\n",
    "print(f'총점은 {num4}점 이라서 평균은 {num4/3:.1f}입니다.')\n",
    "\n",
    "# 변수 이름만 봐도 무슨 변수인지 알 수 있게 쓰는게 좋다. 그리고 밑에 예시 처럼 출력되게 하는것이다. 내가 형식을 만드는게 아니라."
   ]
  },
  {
   "cell_type": "code",
   "execution_count": 10,
   "id": "0fbd4cea",
   "metadata": {},
   "outputs": [
    {
     "name": "stdout",
     "output_type": "stream",
     "text": [
      "국어?99\n",
      "영어?100\n",
      "수학?99\n"
     ]
    }
   ],
   "source": [
    "# quiz3. 국, 영, 수 점수를 입력받아 다음셀에서 다음과 같이 출력하도록 구현하시오(답)\n",
    "# 국어 : 99    영어 : 100    수학 : 99\n",
    "# 총점 : 298   평균 : 99.3\n",
    "\n",
    "kor = int(input('국어?'))\n",
    "eng = int(input('영어?'))\n",
    "mat = int(input('수학?'))\n",
    "sum = kor+eng+mat\n",
    "avg = sum / 3"
   ]
  },
  {
   "cell_type": "code",
   "execution_count": 11,
   "id": "98bb099c",
   "metadata": {},
   "outputs": [
    {
     "name": "stdout",
     "output_type": "stream",
     "text": [
      "국어 :  99\t영어 : 100\t수학 :  99\n",
      "총점 : 298\t평균 :  99.3\n"
     ]
    }
   ],
   "source": [
    "print('국어 : {:3d}\\t영어 : {:3d}\\t수학 : {:3d}'.format(kor,eng,mat))\n",
    "print('총점 : {:3d}\\t평균 : {:5.1f}'.format(sum,avg))"
   ]
  },
  {
   "cell_type": "code",
   "execution_count": 16,
   "id": "789e637e",
   "metadata": {},
   "outputs": [],
   "source": [
    "# input이 많아서 옆에 In[*]로 뜰 경우 Kenel 재시작 누르면 된다."
   ]
  },
  {
   "cell_type": "markdown",
   "id": "29fb5f0f",
   "metadata": {},
   "source": [
    "## 5.2 할당연산자\n",
    "\n",
    "`: =,+=, -=, /=, *=, //=, %=`"
   ]
  },
  {
   "cell_type": "code",
   "execution_count": 14,
   "id": "5139ee2a",
   "metadata": {},
   "outputs": [
    {
     "name": "stdout",
     "output_type": "stream",
     "text": [
      "a = 15\n"
     ]
    }
   ],
   "source": [
    "a = 10\n",
    "a += 5 # a = a+5 와 동일\n",
    "print(f'a = {a}')"
   ]
  },
  {
   "cell_type": "code",
   "execution_count": 15,
   "id": "543d14e6",
   "metadata": {},
   "outputs": [
    {
     "name": "stdout",
     "output_type": "stream",
     "text": [
      "5빼기 : 10\n",
      "10배 100\n",
      "5나눈 몫 : 20\n"
     ]
    }
   ],
   "source": [
    "a -= 5 # a = a-5\n",
    "print('5빼기 :', a) #10\n",
    "a *= 10 # a = a*10\n",
    "print('10배', a) #100\n",
    "a //= 5 # a = a//5\n",
    "print('5나눈 몫 :',a)"
   ]
  },
  {
   "cell_type": "markdown",
   "id": "f1c83ff9",
   "metadata": {},
   "source": [
    "## 5.3 논리연산자\n",
    "`: &, and, |, or, not`"
   ]
  },
  {
   "cell_type": "code",
   "execution_count": 22,
   "id": "10880c73",
   "metadata": {},
   "outputs": [
    {
     "name": "stdout",
     "output_type": "stream",
     "text": [
      "True\n",
      "0\n",
      "1100\n"
     ]
    }
   ],
   "source": [
    "# & : 논리연산자, 비트연산자\n",
    "# &은 우선순위가 높음. 10>3&10>5 이렇게 쓰면 3&10을 먼저 비트연산으로 처리하기 때문에 (10>3)&(10>5)라고 써야함\n",
    "\n",
    "print((10>3) & (10>5)) # 논리연산 True & True\n",
    "print(12 & 1) # 비트 연산 1100(12)\n",
    "              #          0001(1)\n",
    "              #       &: 0000\n",
    "print('{:b}'.format(12)) # 12가 2진수로 뭐야 하고 알고싶을 때 쓰는 것"
   ]
  },
  {
   "cell_type": "code",
   "execution_count": 24,
   "id": "a64f60e4",
   "metadata": {},
   "outputs": [
    {
     "name": "stdout",
     "output_type": "stream",
     "text": [
      "True\n",
      "1\n"
     ]
    }
   ],
   "source": [
    "# and : 논리연산자. False로 판별되는 첫번째 항의 결과 반환\n",
    "    #모든 항이 True면, 마지막항의 결과 반환\n",
    "\n",
    "print((10>3) and (10>5))\n",
    "print(12 and 1)"
   ]
  },
  {
   "cell_type": "code",
   "execution_count": 26,
   "id": "c3450d7a",
   "metadata": {},
   "outputs": [
    {
     "name": "stdout",
     "output_type": "stream",
     "text": [
      "논리연산(연산자 앞뒤에 논리형일 때) : True\n",
      "비트연산(연산자 앞이나 뒤에 숫자일 때) : 3\n"
     ]
    }
   ],
   "source": [
    "# | : 논리연산자, 비트연산자\n",
    "\n",
    "result = True | False\n",
    "print('논리연산(연산자 앞뒤에 논리형일 때) :', result)\n",
    "result = False | 3 # 0000(0)\n",
    "                   # 0011(3)\n",
    "print('비트연산(연산자 앞이나 뒤에 숫자일 때) :', result)"
   ]
  },
  {
   "cell_type": "code",
   "execution_count": 28,
   "id": "e3036670",
   "metadata": {},
   "outputs": [
    {
     "name": "stdout",
     "output_type": "stream",
     "text": [
      "[]\n",
      "Hong\n"
     ]
    }
   ],
   "source": [
    "# or : 논리연산자. True로 판별되는 첫번째 항의 결과 반환\n",
    "            # 모든 항이 거짓이면 마지막항의 결과 반환\n",
    "\n",
    "print(False or 0 or ''or None or [])\n",
    "print(False or 0 or 'Hong'or None or [])"
   ]
  },
  {
   "cell_type": "code",
   "execution_count": 29,
   "id": "bbbf516d",
   "metadata": {},
   "outputs": [
    {
     "data": {
      "text/plain": [
       "False"
      ]
     },
     "execution_count": 29,
     "metadata": {},
     "output_type": "execute_result"
    }
   ],
   "source": [
    "# not 은 반대 \n",
    "\n",
    "not 10>5"
   ]
  },
  {
   "cell_type": "markdown",
   "id": "8615f276",
   "metadata": {},
   "source": [
    "## 5.4 비교연산자\n",
    "\n",
    "`: >, >=, <, <=, ==(같다), !=(다르다)`"
   ]
  },
  {
   "cell_type": "code",
   "execution_count": 32,
   "id": "626222f4",
   "metadata": {},
   "outputs": [
    {
     "name": "stdout",
     "output_type": "stream",
     "text": [
      "True\n",
      "True\n",
      "True\n"
     ]
    }
   ],
   "source": [
    "# 비교연산자는 이항, 삼항, 사항, ....다항연산자\n",
    "\n",
    "x = 95\n",
    "print((90<=x) & (x<=100)) # 이런게 이항연산자\n",
    "print(90 <= x <= 100) # 파이썬은 다항연산자여서 이렇게 쓸 수 있음\n",
    "print(90 <= x <= 100 > 10)"
   ]
  },
  {
   "cell_type": "code",
   "execution_count": 36,
   "id": "e9fde343",
   "metadata": {},
   "outputs": [
    {
     "name": "stdout",
     "output_type": "stream",
     "text": [
      "True\n",
      "False\n",
      "False\n"
     ]
    }
   ],
   "source": [
    "# 비교연산자의 우선순위가 비트연산자(|,&)의 우선순위보다 낮다\n",
    "\n",
    "print( (10>5) & (10>7)) \n",
    "print( 10>5 & 10>7) # 괄호가 없으면 우선순위가 높은 5&10 부터 실행\n",
    "# 0101(5) & 1010(10)\n",
    "print(10>0>7)"
   ]
  },
  {
   "cell_type": "code",
   "execution_count": 42,
   "id": "0d8b8f71",
   "metadata": {},
   "outputs": [
    {
     "name": "stdout",
     "output_type": "stream",
     "text": [
      "True\n",
      "True\n"
     ]
    }
   ],
   "source": [
    "address = '목동'\n",
    "age = 29\n",
    "# print(address=='목동' & age<=30) error\n",
    "print((address=='목동') & (age<=30))\n",
    "print(address=='목동' and age<=30) # 괄호하기 싫을 경우 and 쓰면 되지만 가독성이 떨어지기 때문에 괄호 쓰고 &를 많이 쓴다."
   ]
  },
  {
   "cell_type": "code",
   "execution_count": 45,
   "id": "fc28e8c2",
   "metadata": {},
   "outputs": [
    {
     "data": {
      "text/plain": [
       "True"
      ]
     },
     "execution_count": 45,
     "metadata": {},
     "output_type": "execute_result"
    }
   ],
   "source": [
    "# 문자도 비교 가능. ㄱ-ㅎ 순으로 비교\n",
    "# 문자는 ASCII 코드 순으로 비교 : 특수문자 < 숫자문자 < 대문자 < 소문자(abc순)\n",
    "\n",
    "'scott' < 'tiger'"
   ]
  },
  {
   "cell_type": "code",
   "execution_count": 46,
   "id": "134c6b8b",
   "metadata": {},
   "outputs": [
    {
     "data": {
      "text/plain": [
       "True"
      ]
     },
     "execution_count": 46,
     "metadata": {},
     "output_type": "execute_result"
    }
   ],
   "source": [
    "'김길동' < '홍길동'"
   ]
  },
  {
   "cell_type": "markdown",
   "id": "30b9e37f",
   "metadata": {},
   "source": [
    "## 5.5 비트연산자\n",
    "\n",
    "`: &, |, ^(XOR), ~(반대)`"
   ]
  },
  {
   "cell_type": "code",
   "execution_count": null,
   "id": "5684ad6d",
   "metadata": {},
   "outputs": [],
   "source": []
  },
  {
   "cell_type": "code",
   "execution_count": null,
   "id": "27d69298",
   "metadata": {},
   "outputs": [],
   "source": []
  },
  {
   "cell_type": "code",
   "execution_count": null,
   "id": "3ec660b0",
   "metadata": {},
   "outputs": [],
   "source": []
  },
  {
   "cell_type": "code",
   "execution_count": null,
   "id": "bfb276e5",
   "metadata": {},
   "outputs": [],
   "source": []
  },
  {
   "cell_type": "code",
   "execution_count": null,
   "id": "588f937a",
   "metadata": {},
   "outputs": [],
   "source": []
  }
 ],
 "metadata": {
  "kernelspec": {
   "display_name": "Python 3 (ipykernel)",
   "language": "python",
   "name": "python3"
  },
  "language_info": {
   "codemirror_mode": {
    "name": "ipython",
    "version": 3
   },
   "file_extension": ".py",
   "mimetype": "text/x-python",
   "name": "python",
   "nbconvert_exporter": "python",
   "pygments_lexer": "ipython3",
   "version": "3.10.9"
  },
  "toc": {
   "base_numbering": 1,
   "nav_menu": {},
   "number_sections": false,
   "sideBar": true,
   "skip_h1_title": false,
   "title_cell": "Table of Contents",
   "title_sidebar": "Contents",
   "toc_cell": false,
   "toc_position": {
    "height": "calc(100% - 180px)",
    "left": "10px",
    "top": "150px",
    "width": "165px"
   },
   "toc_section_display": true,
   "toc_window_display": true
  }
 },
 "nbformat": 4,
 "nbformat_minor": 5
}
