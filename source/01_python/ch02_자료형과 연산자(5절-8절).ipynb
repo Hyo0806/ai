{
 "cells": [
  {
   "cell_type": "code",
   "execution_count": 1,
   "id": "7b84e3da",
   "metadata": {},
   "outputs": [
    {
     "data": {
      "text/html": [
       "\n",
       "<style>\n",
       "div.container{width:90% !important;}\n",
       "div.cell.code_cell.rendered{width:100%;}\n",
       "div.input_prompt{padding:0px;}\n",
       "div.CodeMirror {font-family:Consolas; font-size:12pt;}\n",
       "div.text_cell_render.rendered_html{font-size:12pt;}\n",
       "div.output {font-size:12pt; font-weight:bold;}\n",
       "div.input {font-family:Consolas; font-size:12pt;}\n",
       "div.prompt {min-width:70px;}\n",
       "div#toc-wrapper{padding-top:120px;}\n",
       "div.text_cell_render ul li{font-size:12pt;padding:5px;}\n",
       "table.dataframe{font-size:12px;}\n",
       "</style>\n"
      ],
      "text/plain": [
       "<IPython.core.display.HTML object>"
      ]
     },
     "metadata": {},
     "output_type": "display_data"
    }
   ],
   "source": [
    "from IPython.display import display, HTML\n",
    "display(HTML(\"\"\"\n",
    "<style>\n",
    "div.container{width:90% !important;}\n",
    "div.cell.code_cell.rendered{width:100%;}\n",
    "div.input_prompt{padding:0px;}\n",
    "div.CodeMirror {font-family:Consolas; font-size:12pt;}\n",
    "div.text_cell_render.rendered_html{font-size:12pt;}\n",
    "div.output {font-size:12pt; font-weight:bold;}\n",
    "div.input {font-family:Consolas; font-size:12pt;}\n",
    "div.prompt {min-width:70px;}\n",
    "div#toc-wrapper{padding-top:120px;}\n",
    "div.text_cell_render ul li{font-size:12pt;padding:5px;}\n",
    "table.dataframe{font-size:12px;}\n",
    "</style>\n",
    "\"\"\"))"
   ]
  },
  {
   "cell_type": "markdown",
   "id": "b9e1981c",
   "metadata": {},
   "source": [
    "<b><font size=\"6\" color=\"red\"> ch02. 자료형과 연산자 </font></b> \n",
    "\n",
    "# 5절. 연산자\n",
    "\n",
    "## 5.1 산술연산자 \n",
    "`: +,-,*,/(결과 float), //(몫), %(나머지), **(제곱)`"
   ]
  },
  {
   "cell_type": "code",
   "execution_count": 4,
   "id": "f566c197",
   "metadata": {},
   "outputs": [
    {
     "name": "stdout",
     "output_type": "stream",
     "text": [
      "10*5승 = 100000\n",
      "4/2(결과 실수) = 2.0\n",
      "5//2(몫) = 2\n",
      "5%2(나머지) = 1\n"
     ]
    }
   ],
   "source": [
    "# 정수랑 정수랑 계산할 때 실수가 나오는 것은 '나누기' 뿐이다.\n",
    "\n",
    "print('10*5승 =', 10**5)\n",
    "print('4/2(결과 실수) =', 4/2)\n",
    "print('5//2(몫) =', 5//2)\n",
    "print('5%2(나머지) =', 5%2)"
   ]
  },
  {
   "cell_type": "code",
   "execution_count": 5,
   "id": "facbdb16",
   "metadata": {},
   "outputs": [
    {
     "name": "stdout",
     "output_type": "stream",
     "text": [
      "4**2 = 16\n"
     ]
    }
   ],
   "source": [
    "# 정수끼리 연산은 결과가 정수(단 / 제외)\n",
    "# 정수와 실수, 실수끼리 연산 결과는 실수\n",
    "\n",
    "print('4**2 =', 4**2)"
   ]
  },
  {
   "cell_type": "code",
   "execution_count": 6,
   "id": "4d1f2b28",
   "metadata": {},
   "outputs": [
    {
     "name": "stdout",
     "output_type": "stream",
     "text": [
      "정수를 입력하세요:8\n",
      "입력하신 수는 8, 2로 나눈 나머지는 0이라서 짝수를 입력하셨습니다\n"
     ]
    }
   ],
   "source": [
    "# quiz1. 정수를 입력받아 짝수인지 홀수인지 여부를 출력\n",
    "\n",
    "num = int(input('정수를 입력하세요:'))\n",
    "result = num % 2 # -1, 0, 1\n",
    "if result:\n",
    "    temp = '홀수' # temp : 임시변수\n",
    "else:\n",
    "    temp = '짝수'\n",
    "print(f'입력하신 수는 {num}, 2로 나눈 나머지는 {result}이라서 {temp}를 입력하셨습니다')"
   ]
  },
  {
   "cell_type": "code",
   "execution_count": 7,
   "id": "18a1ebb6",
   "metadata": {},
   "outputs": [
    {
     "name": "stdout",
     "output_type": "stream",
     "text": [
      "정수를 입력하세요:47\n",
      "입력하신 수는 47, 5로 나눈 나머지는 2이라서 5의 배수가 아님를 입력하셨습니다\n"
     ]
    }
   ],
   "source": [
    "# quiz2. 정수를 입력받아 5의 배수인지 여부를 출력(내가 푼거)\n",
    "\n",
    "num = int(input('정수를 입력하세요:'))\n",
    "result = num % 5\n",
    "if result:\n",
    "    temp = '5의 배수가 아님'\n",
    "else:\n",
    "    temp = '5의 배수'\n",
    "print(f'입력하신 수는 {num}, 5로 나눈 나머지는 {result}이라서 {temp}를 입력하셨습니다')"
   ]
  },
  {
   "cell_type": "code",
   "execution_count": 9,
   "id": "8e6211e8",
   "metadata": {},
   "outputs": [
    {
     "name": "stdout",
     "output_type": "stream",
     "text": [
      "정수를 입력하세요:9\n",
      "5의 배수가 아닙니다\n"
     ]
    }
   ],
   "source": [
    "# quiz2. 정수를 입력받아 5의 배수인지 여부를 출력(답)\n",
    "\n",
    "num = int(input('정수를 입력하세요:'))\n",
    "if num%5:\n",
    "    print('5의 배수가 아닙니다')\n",
    "else:\n",
    "    print('5의 배수입니다')"
   ]
  },
  {
   "cell_type": "code",
   "execution_count": 8,
   "id": "e7b305c0",
   "metadata": {},
   "outputs": [
    {
     "name": "stdout",
     "output_type": "stream",
     "text": [
      "수학 점수는: 99\n",
      "영어 점수는: 100\n",
      "과학 점수는: 99\n",
      "총점은 298점 이라서 평균은 99.3입니다.\n"
     ]
    }
   ],
   "source": [
    "# quiz3. 국, 영, 수 점수를 입력받아 다음셀에서 다음과 같이 출력하도록 구현하시오(내가 푼거)\n",
    "# 국어 : 99    영어 : 100    수학 : 99\n",
    "# 총점 : 298   평균 : 99.3\n",
    "\n",
    "num1 = int(input('수학 점수는: '))\n",
    "num2 = int(input('영어 점수는: '))\n",
    "num3 = int(input('과학 점수는: '))\n",
    "num4 = int(num1+num2+num3)\n",
    "print(f'총점은 {num4}점 이라서 평균은 {num4/3:.1f}입니다.')\n",
    "\n",
    "# 변수 이름만 봐도 무슨 변수인지 알 수 있게 쓰는게 좋다. 그리고 밑에 예시 처럼 출력되게 하는것이다. 내가 형식을 만드는게 아니라."
   ]
  },
  {
   "cell_type": "code",
   "execution_count": 10,
   "id": "0fbd4cea",
   "metadata": {},
   "outputs": [
    {
     "name": "stdout",
     "output_type": "stream",
     "text": [
      "국어?99\n",
      "영어?100\n",
      "수학?99\n"
     ]
    }
   ],
   "source": [
    "# quiz3. 국, 영, 수 점수를 입력받아 다음셀에서 다음과 같이 출력하도록 구현하시오(답)\n",
    "# 국어 : 99    영어 : 100    수학 : 99\n",
    "# 총점 : 298   평균 : 99.3\n",
    "\n",
    "kor = int(input('국어?'))\n",
    "eng = int(input('영어?'))\n",
    "mat = int(input('수학?'))\n",
    "sum = kor+eng+mat\n",
    "avg = sum / 3"
   ]
  },
  {
   "cell_type": "code",
   "execution_count": 11,
   "id": "98bb099c",
   "metadata": {},
   "outputs": [
    {
     "name": "stdout",
     "output_type": "stream",
     "text": [
      "국어 :  99\t영어 : 100\t수학 :  99\n",
      "총점 : 298\t평균 :  99.3\n"
     ]
    }
   ],
   "source": [
    "print('국어 : {:3d}\\t영어 : {:3d}\\t수학 : {:3d}'.format(kor,eng,mat))\n",
    "print('총점 : {:3d}\\t평균 : {:5.1f}'.format(sum,avg))"
   ]
  },
  {
   "cell_type": "code",
   "execution_count": 16,
   "id": "789e637e",
   "metadata": {},
   "outputs": [],
   "source": [
    "# input이 많아서 옆에 In[*]로 뜰 경우 Kenel 재시작 누르면 된다."
   ]
  },
  {
   "cell_type": "markdown",
   "id": "29fb5f0f",
   "metadata": {},
   "source": [
    "## 5.2 할당연산자\n",
    "\n",
    "`: =,+=, -=, /=, *=, //=, %=`"
   ]
  },
  {
   "cell_type": "code",
   "execution_count": 14,
   "id": "5139ee2a",
   "metadata": {},
   "outputs": [
    {
     "name": "stdout",
     "output_type": "stream",
     "text": [
      "a = 15\n"
     ]
    }
   ],
   "source": [
    "a = 10\n",
    "a += 5 # a = a+5 와 동일\n",
    "print(f'a = {a}')"
   ]
  },
  {
   "cell_type": "code",
   "execution_count": 15,
   "id": "543d14e6",
   "metadata": {},
   "outputs": [
    {
     "name": "stdout",
     "output_type": "stream",
     "text": [
      "5빼기 : 10\n",
      "10배 100\n",
      "5나눈 몫 : 20\n"
     ]
    }
   ],
   "source": [
    "a -= 5 # a = a-5\n",
    "print('5빼기 :', a) #10\n",
    "a *= 10 # a = a*10\n",
    "print('10배', a) #100\n",
    "a //= 5 # a = a//5\n",
    "print('5나눈 몫 :',a)"
   ]
  },
  {
   "cell_type": "markdown",
   "id": "f1c83ff9",
   "metadata": {},
   "source": [
    "## 5.3 논리연산자\n",
    "`: &, and, |, or, not`"
   ]
  },
  {
   "cell_type": "code",
   "execution_count": 22,
   "id": "10880c73",
   "metadata": {},
   "outputs": [
    {
     "name": "stdout",
     "output_type": "stream",
     "text": [
      "True\n",
      "0\n",
      "1100\n"
     ]
    }
   ],
   "source": [
    "# & : 논리연산자, 비트연산자\n",
    "# &은 우선순위가 높음. 10>3&10>5 이렇게 쓰면 3&10을 먼저 비트연산으로 처리하기 때문에 (10>3)&(10>5)라고 써야함\n",
    "\n",
    "print((10>3) & (10>5)) # 논리연산 True & True\n",
    "print(12 & 1) # 비트 연산 1100(12)\n",
    "              #          0001(1)\n",
    "              #       &: 0000\n",
    "print('{:b}'.format(12)) # 12가 2진수로 뭐야 하고 알고싶을 때 쓰는 것"
   ]
  },
  {
   "cell_type": "code",
   "execution_count": 24,
   "id": "a64f60e4",
   "metadata": {},
   "outputs": [
    {
     "name": "stdout",
     "output_type": "stream",
     "text": [
      "True\n",
      "1\n"
     ]
    }
   ],
   "source": [
    "# and : 논리연산자. False로 판별되는 첫번째 항의 결과 반환\n",
    "    #모든 항이 True면, 마지막항의 결과 반환\n",
    "\n",
    "print((10>3) and (10>5))\n",
    "print(12 and 1)"
   ]
  },
  {
   "cell_type": "code",
   "execution_count": 26,
   "id": "c3450d7a",
   "metadata": {},
   "outputs": [
    {
     "name": "stdout",
     "output_type": "stream",
     "text": [
      "논리연산(연산자 앞뒤에 논리형일 때) : True\n",
      "비트연산(연산자 앞이나 뒤에 숫자일 때) : 3\n"
     ]
    }
   ],
   "source": [
    "# | : 논리연산자, 비트연산자\n",
    "\n",
    "result = True | False\n",
    "print('논리연산(연산자 앞뒤에 논리형일 때) :', result)\n",
    "result = False | 3 # 0000(0)\n",
    "                   # 0011(3)\n",
    "print('비트연산(연산자 앞이나 뒤에 숫자일 때) :', result)"
   ]
  },
  {
   "cell_type": "code",
   "execution_count": 28,
   "id": "e3036670",
   "metadata": {},
   "outputs": [
    {
     "name": "stdout",
     "output_type": "stream",
     "text": [
      "[]\n",
      "Hong\n"
     ]
    }
   ],
   "source": [
    "# or : 논리연산자. True로 판별되는 첫번째 항의 결과 반환\n",
    "            # 모든 항이 거짓이면 마지막항의 결과 반환\n",
    "\n",
    "print(False or 0 or ''or None or [])\n",
    "print(False or 0 or 'Hong'or None or [])"
   ]
  },
  {
   "cell_type": "code",
   "execution_count": 29,
   "id": "bbbf516d",
   "metadata": {},
   "outputs": [
    {
     "data": {
      "text/plain": [
       "False"
      ]
     },
     "execution_count": 29,
     "metadata": {},
     "output_type": "execute_result"
    }
   ],
   "source": [
    "# not 은 반대 \n",
    "\n",
    "not 10>5"
   ]
  },
  {
   "cell_type": "markdown",
   "id": "8615f276",
   "metadata": {},
   "source": [
    "## 5.4 비교연산자\n",
    "\n",
    "`: >, >=, <, <=, ==(같다), !=(다르다)`"
   ]
  },
  {
   "cell_type": "code",
   "execution_count": 32,
   "id": "626222f4",
   "metadata": {},
   "outputs": [
    {
     "name": "stdout",
     "output_type": "stream",
     "text": [
      "True\n",
      "True\n",
      "True\n"
     ]
    }
   ],
   "source": [
    "# 비교연산자는 이항, 삼항, 사항, ....다항연산자\n",
    "\n",
    "x = 95\n",
    "print((90<=x) & (x<=100)) # 이런게 이항연산자\n",
    "print(90 <= x <= 100) # 파이썬은 다항연산자여서 이렇게 쓸 수 있음\n",
    "print(90 <= x <= 100 > 10)"
   ]
  },
  {
   "cell_type": "code",
   "execution_count": 36,
   "id": "e9fde343",
   "metadata": {},
   "outputs": [
    {
     "name": "stdout",
     "output_type": "stream",
     "text": [
      "True\n",
      "False\n",
      "False\n"
     ]
    }
   ],
   "source": [
    "# 비교연산자의 우선순위가 비트연산자(|,&)의 우선순위보다 낮다\n",
    "\n",
    "print( (10>5) & (10>7)) \n",
    "print( 10>5 & 10>7) # 괄호가 없으면 우선순위가 높은 5&10 부터 실행\n",
    "# 0101(5) & 1010(10)\n",
    "print(10>0>7)"
   ]
  },
  {
   "cell_type": "code",
   "execution_count": 42,
   "id": "0d8b8f71",
   "metadata": {},
   "outputs": [
    {
     "name": "stdout",
     "output_type": "stream",
     "text": [
      "True\n",
      "True\n"
     ]
    }
   ],
   "source": [
    "address = '목동'\n",
    "age = 29\n",
    "# print(address=='목동' & age<=30) error\n",
    "print((address=='목동') & (age<=30))\n",
    "print(address=='목동' and age<=30) # 괄호하기 싫을 경우 and 쓰면 되지만 가독성이 떨어지기 때문에 괄호 쓰고 &를 많이 쓴다."
   ]
  },
  {
   "cell_type": "code",
   "execution_count": 45,
   "id": "fc28e8c2",
   "metadata": {},
   "outputs": [
    {
     "data": {
      "text/plain": [
       "True"
      ]
     },
     "execution_count": 45,
     "metadata": {},
     "output_type": "execute_result"
    }
   ],
   "source": [
    "# 문자도 비교 가능. ㄱ-ㅎ 순으로 비교\n",
    "# 문자는 ASCII 코드 순으로 비교 : 특수문자 < 숫자문자 < 대문자 < 소문자(abc순)\n",
    "\n",
    "'scott' < 'tiger'"
   ]
  },
  {
   "cell_type": "code",
   "execution_count": 46,
   "id": "134c6b8b",
   "metadata": {},
   "outputs": [
    {
     "data": {
      "text/plain": [
       "True"
      ]
     },
     "execution_count": 46,
     "metadata": {},
     "output_type": "execute_result"
    }
   ],
   "source": [
    "'김길동' < '홍길동'"
   ]
  },
  {
   "cell_type": "markdown",
   "id": "30b9e37f",
   "metadata": {},
   "source": [
    "## 5.5 비트연산자\n",
    "\n",
    "`: &, |, ^(XOR), ~(반대)`\n",
    "\n",
    "```\n",
    "\n",
    " x     y    x&y   x|y   x^y   ~x\n",
    "---------------------------------\n",
    " 0     0     0     0     0    1\n",
    " 0     1     0     1     1    1\n",
    " 1     0     0     1     1    0\n",
    " 1     1     1     1     0    0\n",
    "\n",
    "\n",
    "```"
   ]
  },
  {
   "cell_type": "code",
   "execution_count": 10,
   "id": "5684ad6d",
   "metadata": {},
   "outputs": [
    {
     "name": "stdout",
     "output_type": "stream",
     "text": [
      "  a = 15 : 1111\n",
      "  b =  2 : 0010\n",
      "a&b =  2 : 0010\n",
      "a|b = 15 : 1111\n",
      "a^b = 13 : 1101\n"
     ]
    }
   ],
   "source": [
    "a = 15 # 1111(8+4+2+1)\n",
    "b =  2 # 0010\n",
    "print('  a = {0:2} : {0:04b}'.format(a))\n",
    "print('  b = {0:2} : {0:04b}'.format(b))\n",
    "print('a&b = {0:2} : {0:04b}'.format(a&b))\n",
    "print('a|b = {0:2} : {0:04b}'.format(a|b))\n",
    "print('a^b = {0:2} : {0:04b}'.format(a^b))"
   ]
  },
  {
   "cell_type": "markdown",
   "id": "e2dff376",
   "metadata": {},
   "source": [
    "# 6절. 문자열 다루기\n",
    "\n",
    "- 문자열변수[from:to:step] : 일부 문자 추출\n",
    "- len(문자열변수)\n",
    "\n",
    "\n",
    " #여기부터는 함수\n",
    "- upper() : 대문자로\n",
    "- lower() : 소문자로\n",
    "- title() : 각 어절의 앞글자만 대문자로\n",
    "- capitalize() : 첫문자만 대문자로\n",
    "\n",
    "\n",
    "- count('찾을문자') : '찾을문자'가 몇개 들어있는지 갯수 반환\n",
    "- find('찾을문자') : '찾을문자'가 왼쪽부터 몇번째에 있는지 index를 반환(없으면 -1)\n",
    "- rfind('찾을문자') : '찾을문자'가 오른쪽부터 몇번째에 있는지 index를 반환(없으면 -1)\n",
    "  \n",
    "  cf. index('찾을문자') : '찾을문자'가 왼쪽부터 몇번째에 있는 index를 반환(없으면 에러) \n",
    "\n",
    "\n",
    "- startswith('특정문자') : '특정문자'로 시작하는지 여부 반환\n",
    "- endswith('특정문자') : '특정문자'로 끝나는지 여부 반환\n",
    "\n",
    "\n",
    "- strip() : 좌우 공백 제거(trim)\n",
    "- lstrip() : 왼쪽 공백만 제거\n",
    "- rstrip() : 오른쪽 공백만 제거\n",
    "- split() : 문자열을 공백이나 다른 문자 기준으로 나누어 list로 반환\n",
    "- isdigit() : 문자열이 숫자문자열인지 여부 반환\n",
    "- islower() : 문자열이 소문자인지 여부 반환\n",
    "- isupper() : 문자열이 대문자인지 여부 반환\n",
    "\n",
    "\n",
    "- replace(oldStr, newStr) : oldStr을 newStr로 변경"
   ]
  },
  {
   "cell_type": "code",
   "execution_count": 52,
   "id": "8f066a66",
   "metadata": {},
   "outputs": [],
   "source": [
    "# <span style=\"color:red\"></span> 마크다운 셀에서 색상 변경하고싶을 경우. </span>까지 이 색상을 넣어라 하는 말."
   ]
  },
  {
   "cell_type": "code",
   "execution_count": 15,
   "id": "f63a8314",
   "metadata": {},
   "outputs": [
    {
     "data": {
      "text/plain": [
       "('python is easy. python is smart. python', 39)"
      ]
     },
     "execution_count": 15,
     "metadata": {},
     "output_type": "execute_result"
    }
   ],
   "source": [
    "#len 예제\n",
    "\n",
    "temp = 'python is easy. python is smart. python'\n",
    "temp, len(temp)"
   ]
  },
  {
   "cell_type": "code",
   "execution_count": 26,
   "id": "b4fb5f4d",
   "metadata": {},
   "outputs": [
    {
     "name": "stdout",
     "output_type": "stream",
     "text": [
      "대문자로 : PYTHON IS EASY. PYTHON IS SMART. PYTHON\n",
      "소문자로 : python is easy. python is smart. python\n",
      "title() : Python Is Easy. Python Is Smart. Python\n",
      "capitalize() : Python is easy. python is smart. python\n"
     ]
    }
   ],
   "source": [
    "#upper,lower,title,capitalize 예제\n",
    "\n",
    "temp = 'python is easy. Python is smart. python'\n",
    "    #   0123456789012345678901234567890123\n",
    "print('대문자로 :',temp.upper())\n",
    "print('소문자로 :',temp.lower())\n",
    "print('title() :',temp.title())\n",
    "print('capitalize() :', temp.capitalize())"
   ]
  },
  {
   "cell_type": "code",
   "execution_count": 28,
   "id": "1845921b",
   "metadata": {},
   "outputs": [
    {
     "name": "stdout",
     "output_type": "stream",
     "text": [
      "C가 몇번 나오는지 : 0\n",
      "python이 몇번 나오는지 : 2\n",
      "대소문자 구분없이 ppthon이 몇번 : 3\n",
      "대소문자 구분없이 ppthon이 몇번 : 3\n",
      "대소문자 구분없이 ppthon이 몇번 : 3\n"
     ]
    }
   ],
   "source": [
    "#count 예제\n",
    "#대소문자 구분함. 밑에 3개는 대소문자 구분없이 찾기위한 방법\n",
    "\n",
    "print('C가 몇번 나오는지 :', temp.count('C'))\n",
    "print('python이 몇번 나오는지 :', temp.count('python'))\n",
    "print('대소문자 구분없이 ppthon이 몇번 :', temp.lower().count('python'))\n",
    "print('대소문자 구분없이 ppthon이 몇번 :', temp.upper().count('PYTHON'))\n",
    "print('대소문자 구분없이 ppthon이 몇번 :', temp.title().count('Python'))"
   ]
  },
  {
   "cell_type": "code",
   "execution_count": 34,
   "id": "f329977e",
   "metadata": {},
   "outputs": [
    {
     "name": "stdout",
     "output_type": "stream",
     "text": [
      "python이 나오는 첫 index 위치 : 0\n",
      "python이 나오는 첫 index 위치 : 33\n",
      "C가 나오는 index 위치 : -1\n",
      "python이 나오는 첫 index 위치 : 0\n"
     ]
    }
   ],
   "source": [
    "#find, rfind 예제 / index는 거의 쓰지 않음\n",
    "#find, rfind가 같다면 한번만 등장한다는 뜻. 예시로 이메일 형식을 찾을 때 @이가 두개 등장해서 find,rfind가 다르면 @가 하나 더나와서 틀린 형식이라는 뜻.\n",
    "\n",
    "print('python이 나오는 첫 index 위치 :',temp.find('python'))\n",
    "print('python이 나오는 첫 index 위치 :',temp.rfind('python'))\n",
    "print('C가 나오는 index 위치 :', temp.find(\"C\")) # 찾을문자가 없을 경우 -1\n",
    "print('python이 나오는 첫 index 위치 :', temp.index('python'))\n",
    "#print('java가 나오는 첫 index 위치 :', temp.index('java')) 찾을문자가 없을 경우 에러 반환"
   ]
  },
  {
   "cell_type": "code",
   "execution_count": 41,
   "id": "3e57b7b0",
   "metadata": {},
   "outputs": [
    {
     "name": "stdout",
     "output_type": "stream",
     "text": [
      "python으로 시작하는지 여부 : True\n",
      "python으로 시작하는지 여부 : False\n",
      "대소문자 구분없이 python으로 시작하는지 여부 : True\n",
      "python으로 끝나는지 여부 : True\n",
      "n으로 끝나는지 여부 : True\n",
      "python을 R로 변경 : R is easy. Python is smart. R\n",
      "python is easy. Python is smart. python\n"
     ]
    }
   ],
   "source": [
    "#startswith, endswith, replace 예제\n",
    "#대소문자 구분함\n",
    "\n",
    "print('python으로 시작하는지 여부 :',temp.startswith('python'))\n",
    "print('python으로 시작하는지 여부 :',temp.startswith('Python'))\n",
    "print('대소문자 구분없이 python으로 시작하는지 여부 :',temp.lower().startswith('python'))\n",
    "print('python으로 끝나는지 여부 :', temp.endswith('python'))\n",
    "print('n으로 끝나는지 여부 :', temp.endswith('n'))\n",
    "print('python을 R로 변경 :', temp.replace('python','R'))\n",
    "print(temp) #이 친구들은 temp자체를 변경시키는게 아님. 그래서 많이 썼지만 print(temp)를 쓰면 다시 원래 문장 나옴"
   ]
  },
  {
   "cell_type": "code",
   "execution_count": 51,
   "id": "49e5fae3",
   "metadata": {},
   "outputs": [
    {
     "name": "stdout",
     "output_type": "stream",
     "text": [
      "좌우 공백 제거 : [      python is easy      ]\n",
      "좌우 공백 제거 : [python is easy]\n",
      "왼쪽 공백 제거 : [python is easy      ]\n",
      "오른쪽 공백 제거 : [      python is easy]\n",
      "isdigit(숫자문자)인지 여부 : False\n",
      "replace후 isdigit : True\n",
      "대분자인지 여부 : False\n",
      "소문자인지 여부 : True\n"
     ]
    }
   ],
   "source": [
    "#strip, isdigit와 replace결합, isupper,islower 예제\n",
    "\n",
    "temp = \"      python is easy      \"\n",
    "notdigit = \"1,000\"\n",
    "print('좌우 공백 제거 : [{}]'.format(temp))\n",
    "print('좌우 공백 제거 : [{}]'.format(temp.strip()))\n",
    "print('왼쪽 공백 제거 : [{}]'.format(temp.lstrip()))\n",
    "print('오른쪽 공백 제거 : [{}]'.format(temp.rstrip()))\n",
    "print('isdigit(숫자문자)인지 여부 :', notdigit.isdigit())\n",
    "print('replace후 isdigit :', notdigit.replace(',','').isdigit())\n",
    "print('대분자인지 여부 :', temp.isupper()) # 모두 대문자여아 True로 나옴\n",
    "print('소문자인지 여부 :', temp.islower())"
   ]
  },
  {
   "cell_type": "code",
   "execution_count": 55,
   "id": "efd27228",
   "metadata": {},
   "outputs": [
    {
     "name": "stdout",
     "output_type": "stream",
     "text": [
      "space단위로 names 분리(list로 반환) : ['홍길동', '김길동', '박길동', '주길동', '고길동']\n",
      "홍길동 주길동\n"
     ]
    }
   ],
   "source": [
    "#split 예제\n",
    "\n",
    "names = '홍길동 김길동    박길동 주길동 고길동'\n",
    "name_list = names.split()\n",
    "print('space단위로 names 분리(list로 반환) :', names.split())\n",
    "print(name_list[0], name_list[3])"
   ]
  },
  {
   "cell_type": "code",
   "execution_count": 59,
   "id": "0ef4cbf0",
   "metadata": {},
   "outputs": [
    {
     "name": "stdout",
     "output_type": "stream",
     "text": [
      "['2025-09-17']\n",
      "['2025', '09', '17']\n",
      "년도 : 2025\n",
      "월 : 09\n",
      "일 : 17\n"
     ]
    }
   ],
   "source": [
    "date_str = '2025-09-17'\n",
    "print(date_str.split()) #스페이스 단위로 쪼개라는 말인데 데이터에 스페이스가 없으니 쪼갤 것이 없음\n",
    "print(date_str.split('-'))\n",
    "date_list = date_str.split('-')\n",
    "\n",
    "print('년도 :', date_list[0])\n",
    "print('월 :', date_list[1])\n",
    "print('일 :', date_list[2])"
   ]
  },
  {
   "cell_type": "code",
   "execution_count": 61,
   "id": "b0f295d1",
   "metadata": {},
   "outputs": [
    {
     "data": {
      "text/plain": [
       "('A', 'B', 'C')"
      ]
     },
     "execution_count": 61,
     "metadata": {},
     "output_type": "execute_result"
    }
   ],
   "source": [
    "# str_ = 'ABC'\n",
    "str_ = ['A', 'B', 'C']\n",
    "str_[0], str_[1], str_[2]"
   ]
  },
  {
   "cell_type": "code",
   "execution_count": 13,
   "id": "ab6d9c72",
   "metadata": {},
   "outputs": [
    {
     "data": {
      "text/plain": [
       "1000"
      ]
     },
     "execution_count": 13,
     "metadata": {},
     "output_type": "execute_result"
    }
   ],
   "source": [
    "#replace 예제\n",
    "\n",
    "int('1,000'.replace(',',''))"
   ]
  },
  {
   "cell_type": "code",
   "execution_count": 64,
   "id": "c3b707f3",
   "metadata": {},
   "outputs": [
    {
     "name": "stdout",
     "output_type": "stream",
     "text": [
      "분리된 temp : ['Python', '웹(HTML/CSS/JS)', 'Oracle/MySQL(DBMS)', 'DL/ML(M/DNN/CNN/RNN)', 'LLM(RAG)']\n",
      "join temp : Python/웹(HTML/CSS/JS)/Oracle/MySQL(DBMS)/DL/ML(M/DNN/CNN/RNN)/LLM(RAG)\n"
     ]
    }
   ],
   "source": [
    "# ' - '을 '/'로 바꾸기\n",
    "\n",
    "temp = 'Python - 웹(HTML/CSS/JS) - Oracle/MySQL(DBMS) - DL/ML(M/DNN/CNN/RNN) - LLM(RAG)'\n",
    "#temp.replace(' - ','/')\n",
    "\n",
    "#split()와 join() 이용하여 replace 역할 (자바스크립트의 경우 다 바뀌지 않고 첫번째 - 만 바뀌어서 이거를 써보는것.)\n",
    "splited_temp = temp.split(' - ')\n",
    "print('분리된 temp :', splited_temp)\n",
    "joined_temp = '/'.join(splited_temp) # '/'로 매개변수 list를 연결\n",
    "print('join temp :', joined_temp)"
   ]
  },
  {
   "cell_type": "code",
   "execution_count": 65,
   "id": "499bff97",
   "metadata": {
    "collapsed": true
   },
   "outputs": [
    {
     "data": {
      "text/plain": [
       "['__add__',\n",
       " '__class__',\n",
       " '__contains__',\n",
       " '__delattr__',\n",
       " '__dir__',\n",
       " '__doc__',\n",
       " '__eq__',\n",
       " '__format__',\n",
       " '__ge__',\n",
       " '__getattribute__',\n",
       " '__getitem__',\n",
       " '__getnewargs__',\n",
       " '__gt__',\n",
       " '__hash__',\n",
       " '__init__',\n",
       " '__init_subclass__',\n",
       " '__iter__',\n",
       " '__le__',\n",
       " '__len__',\n",
       " '__lt__',\n",
       " '__mod__',\n",
       " '__mul__',\n",
       " '__ne__',\n",
       " '__new__',\n",
       " '__reduce__',\n",
       " '__reduce_ex__',\n",
       " '__repr__',\n",
       " '__rmod__',\n",
       " '__rmul__',\n",
       " '__setattr__',\n",
       " '__sizeof__',\n",
       " '__str__',\n",
       " '__subclasshook__',\n",
       " 'capitalize',\n",
       " 'casefold',\n",
       " 'center',\n",
       " 'count',\n",
       " 'encode',\n",
       " 'endswith',\n",
       " 'expandtabs',\n",
       " 'find',\n",
       " 'format',\n",
       " 'format_map',\n",
       " 'index',\n",
       " 'isalnum',\n",
       " 'isalpha',\n",
       " 'isascii',\n",
       " 'isdecimal',\n",
       " 'isdigit',\n",
       " 'isidentifier',\n",
       " 'islower',\n",
       " 'isnumeric',\n",
       " 'isprintable',\n",
       " 'isspace',\n",
       " 'istitle',\n",
       " 'isupper',\n",
       " 'join',\n",
       " 'ljust',\n",
       " 'lower',\n",
       " 'lstrip',\n",
       " 'maketrans',\n",
       " 'partition',\n",
       " 'removeprefix',\n",
       " 'removesuffix',\n",
       " 'replace',\n",
       " 'rfind',\n",
       " 'rindex',\n",
       " 'rjust',\n",
       " 'rpartition',\n",
       " 'rsplit',\n",
       " 'rstrip',\n",
       " 'split',\n",
       " 'splitlines',\n",
       " 'startswith',\n",
       " 'strip',\n",
       " 'swapcase',\n",
       " 'title',\n",
       " 'translate',\n",
       " 'upper',\n",
       " 'zfill']"
      ]
     },
     "execution_count": 65,
     "metadata": {},
     "output_type": "execute_result"
    }
   ],
   "source": [
    "# 문자열을 다룰 수 있는 함수들 목록\n",
    "\n",
    "dir(str)"
   ]
  },
  {
   "cell_type": "markdown",
   "id": "25c94b4f",
   "metadata": {},
   "source": [
    "# 7절. 시간, 날짜 다루기"
   ]
  },
  {
   "cell_type": "code",
   "execution_count": 66,
   "id": "02e66dad",
   "metadata": {},
   "outputs": [
    {
     "data": {
      "text/plain": [
       "'C:\\\\Users\\\\Admin\\\\anaconda3\\\\lib\\\\datetime.py'"
      ]
     },
     "execution_count": 66,
     "metadata": {},
     "output_type": "execute_result"
    }
   ],
   "source": [
    "import datetime\n",
    "datetime.__file__"
   ]
  },
  {
   "cell_type": "code",
   "execution_count": 67,
   "id": "f349ae0e",
   "metadata": {},
   "outputs": [],
   "source": [
    "# datetime 모듈 (datetime.py) 안의 datetime, date, time 만 load \n",
    "from datetime import datetime, date, time"
   ]
  },
  {
   "cell_type": "code",
   "execution_count": 68,
   "id": "897c4ae9",
   "metadata": {},
   "outputs": [],
   "source": [
    "# 실행이 많아져서 잘 안돌아가면 Kernel 에서 Restart 누르면 지금까지 실행했던 연산들 삭제. 옆에 In[]내부에 1부터 다시시작됨."
   ]
  },
  {
   "cell_type": "markdown",
   "id": "8057e245",
   "metadata": {},
   "source": [
    "## 7.1 시간과 날짜"
   ]
  },
  {
   "cell_type": "code",
   "execution_count": 69,
   "id": "1c4158b2",
   "metadata": {},
   "outputs": [
    {
     "data": {
      "text/plain": [
       "datetime.datetime(2025, 9, 11, 9, 30)"
      ]
     },
     "execution_count": 69,
     "metadata": {},
     "output_type": "execute_result"
    }
   ],
   "source": [
    "# 특정 시점을 갖는 datetime 객체 생성\n",
    "\n",
    "thatday = datetime(2025, 9, 11, 9, 30)\n",
    "thatday"
   ]
  },
  {
   "cell_type": "code",
   "execution_count": 73,
   "id": "c277bbf8",
   "metadata": {},
   "outputs": [
    {
     "name": "stdout",
     "output_type": "stream",
     "text": [
      "25년09월11일(Thursday) 09:30:00\n",
      "25년09월11일(Thursday) 09:30:00\n",
      "Thu Sep 11 09:30:00 2025\n"
     ]
    }
   ],
   "source": [
    "# 날짜를 문자열로 전환\n",
    "\n",
    "print('{:%y년%m월%d일(%A) %H:%M:%S}'.format(thatday)) #많이 안씀\n",
    "print(thatday.strftime('%y년%m월%d일(%A) %H:%M:%S'))\n",
    "print(thatday.ctime()) #ctime() : (영어권)사람이 읽기 쉬운 형태로 convert"
   ]
  },
  {
   "cell_type": "code",
   "execution_count": 77,
   "id": "13b31aa2",
   "metadata": {},
   "outputs": [
    {
     "name": "stdout",
     "output_type": "stream",
     "text": [
      "2025-09-17 14:24:27.415706\n",
      "Wed Sep 17 14:24:27 2025\n",
      "2025년09월17일 PM 02:24:27\n"
     ]
    }
   ],
   "source": [
    "# 지금을 저장하는 datetime 객체 생성\n",
    "\n",
    "now = datetime.now()\n",
    "print(now)\n",
    "print(now.ctime())\n",
    "print(now.strftime('%Y년%m월%d일 %p %I:%M:%S'))"
   ]
  },
  {
   "cell_type": "code",
   "execution_count": 79,
   "id": "17c7fdc5",
   "metadata": {},
   "outputs": [
    {
     "name": "stdout",
     "output_type": "stream",
     "text": [
      "6 days, 4:54:27.415706\n",
      "6\n"
     ]
    }
   ],
   "source": [
    "diff = now - thatday\n",
    "print(diff)\n",
    "print(diff.days)"
   ]
  },
  {
   "cell_type": "markdown",
   "id": "310389ce",
   "metadata": {},
   "source": [
    "## 7.2 날짜"
   ]
  },
  {
   "cell_type": "code",
   "execution_count": 81,
   "id": "c393897f",
   "metadata": {},
   "outputs": [
    {
     "data": {
      "text/plain": [
       "datetime.date(2025, 9, 11)"
      ]
     },
     "execution_count": 81,
     "metadata": {},
     "output_type": "execute_result"
    }
   ],
   "source": [
    "# 특정한 날짜를 갖는 date 객체 생성\n",
    "\n",
    "someday = date(2025, 9, 11)\n",
    "someday"
   ]
  },
  {
   "cell_type": "code",
   "execution_count": 83,
   "id": "4c486280",
   "metadata": {},
   "outputs": [
    {
     "name": "stdout",
     "output_type": "stream",
     "text": [
      "2025-09-11\n",
      "2025년 09월 11일 00:00\n"
     ]
    }
   ],
   "source": [
    "print(someday) # 시간 저장하면 에러남\n",
    "print(someday.strftime('%Y년 %m월 %d일 %H:%M'))"
   ]
  },
  {
   "cell_type": "code",
   "execution_count": 84,
   "id": "b57f045c",
   "metadata": {},
   "outputs": [
    {
     "name": "stdout",
     "output_type": "stream",
     "text": [
      "True\n"
     ]
    }
   ],
   "source": [
    "# 오늘을 갖는 date 객체 생성\n",
    "\n",
    "today1 = date.today()\n",
    "today2 = datetime.now().date()\n",
    "print(today1 == today2) "
   ]
  },
  {
   "cell_type": "code",
   "execution_count": 85,
   "id": "4bad1677",
   "metadata": {},
   "outputs": [
    {
     "name": "stdout",
     "output_type": "stream",
     "text": [
      "2025년09월17일 00:00\n",
      "2025년09월17일 00:00\n"
     ]
    }
   ],
   "source": [
    "print(today1.strftime('%Y년%m월%d일 %H:%M'))\n",
    "print(today2.strftime('%Y년%m월%d일 %H:%M'))"
   ]
  },
  {
   "cell_type": "code",
   "execution_count": 87,
   "id": "4c32650e",
   "metadata": {},
   "outputs": [
    {
     "name": "stdout",
     "output_type": "stream",
     "text": [
      "-6 days, 0:00:00\n",
      "-6\n"
     ]
    }
   ],
   "source": [
    "diff = someday - today1\n",
    "print(diff)\n",
    "print(diff.days)"
   ]
  },
  {
   "cell_type": "markdown",
   "id": "b801fb62",
   "metadata": {},
   "source": [
    "## 7.3 시간"
   ]
  },
  {
   "cell_type": "code",
   "execution_count": 88,
   "id": "165115a3",
   "metadata": {},
   "outputs": [
    {
     "data": {
      "text/plain": [
       "datetime.time(14, 39)"
      ]
     },
     "execution_count": 88,
     "metadata": {},
     "output_type": "execute_result"
    }
   ],
   "source": [
    "# 특정한 시간을 저장하는 time 객체 생성\n",
    "\n",
    "t = time(14, 39, 0)\n",
    "t"
   ]
  },
  {
   "cell_type": "code",
   "execution_count": 90,
   "id": "173ebd63",
   "metadata": {},
   "outputs": [
    {
     "name": "stdout",
     "output_type": "stream",
     "text": [
      "PM 02:39\n",
      "1900년01월01일 PM 02:39\n"
     ]
    }
   ],
   "source": [
    "print(t.strftime('%p %I:%M'))\n",
    "print(t.strftime('%Y년%m월%d일 %p %I:%M')) #시간만 저장하고 날짜를 출력하라고 할때 뜨는 00분 00초 와 같은 것"
   ]
  },
  {
   "cell_type": "code",
   "execution_count": 91,
   "id": "decaec4a",
   "metadata": {},
   "outputs": [
    {
     "name": "stdout",
     "output_type": "stream",
     "text": [
      "14:43:37.831213\n"
     ]
    }
   ],
   "source": [
    "# 현재 시간\n",
    "\n",
    "nowtime = datetime.now().time()\n",
    "print(nowtime)"
   ]
  },
  {
   "cell_type": "markdown",
   "id": "b9ba7237",
   "metadata": {},
   "source": [
    "# 8절. 연습문제"
   ]
  },
  {
   "cell_type": "code",
   "execution_count": 163,
   "id": "a9acefc6",
   "metadata": {},
   "outputs": [
    {
     "name": "stdout",
     "output_type": "stream",
     "text": [
      "홍길동님의 나이는 23살입니다\n"
     ]
    }
   ],
   "source": [
    "# 1. 이름과 나이 변수를 다음 형식으로 출력하도록 format() 함수를 이용해 형식화하세요\n",
    "#[출력형식 : 홍길동님의 나이는 23살입니다]\n",
    "\n",
    "name = '홍길동'\n",
    "age = 23\n",
    "print('{}님의 나이는 {}살입니다'.format(name, age))"
   ]
  },
  {
   "cell_type": "code",
   "execution_count": 165,
   "id": "93d0cd07",
   "metadata": {},
   "outputs": [
    {
     "name": "stdout",
     "output_type": "stream",
     "text": [
      "첫번째 수를 입력하세요 :7\n",
      "두번째 수를 입력하세요 :4\n",
      "11\n",
      "3\n",
      "28\n",
      "1.75\n",
      "1\n",
      "3\n"
     ]
    }
   ],
   "source": [
    "# 2. 두 정수를 입력받아 두 수의 덧셈 , 뺄셈 , 곱셈 , 나눗셈 , 몫 , 나머지를 출력하세요\n",
    "\n",
    "num1 = int(input('첫번째 수를 입력하세요 :'))\n",
    "num2 = int(input('두번째 수를 입력하세요 :'))\n",
    "\n",
    "print(num1 + num2) \n",
    "print(num1 - num2) \n",
    "print(num1 * num2) \n",
    "if num2!=0\n",
    "    print(num1 / num2) \n",
    "    print(num1 // num2)\n",
    "    print(num1 % num2)\n",
    "else:\n",
    "    print('num2가 0이라서 나눗셈 불가')"
   ]
  },
  {
   "cell_type": "code",
   "execution_count": 109,
   "id": "3f8ff0d8",
   "metadata": {},
   "outputs": [
    {
     "name": "stdout",
     "output_type": "stream",
     "text": [
      "World Hello\n"
     ]
    }
   ],
   "source": [
    "# 3. 문자열의 분리하기와 합치기 기능을 이용하여 ‘Hello World'가 할당된 변수를 이용하여 ‘World Hello'로 출력하세요\n",
    "\n",
    "temp = 'Hello World'\n",
    "splited_temp = temp.split()\n",
    "print(splited_temp[1],splited_temp[0])"
   ]
  },
  {
   "cell_type": "code",
   "execution_count": 169,
   "id": "996b2134",
   "metadata": {},
   "outputs": [
    {
     "name": "stdout",
     "output_type": "stream",
     "text": [
      "bcdefa\n",
      "bcdefa\n"
     ]
    }
   ],
   "source": [
    "# 4. x = ' abcdef ＇를 이용하여 bcdefa 로 출력하세요 (문자 슬라이싱이용)\n",
    "\n",
    "x = 'abcdef'\n",
    "x[1:3]+x[3:5]+x[5]+x[0]\n",
    "\n",
    "#답\n",
    "print(x[1:]+x[0])\n",
    "print(x[1:],x[0], sep=\"\")"
   ]
  },
  {
   "cell_type": "code",
   "execution_count": 117,
   "id": "27d69298",
   "metadata": {},
   "outputs": [
    {
     "data": {
      "text/plain": [
       "'fedcba'"
      ]
     },
     "execution_count": 117,
     "metadata": {},
     "output_type": "execute_result"
    }
   ],
   "source": [
    "# 5. x = ‘ abcdef 를 이용하여 fedcba 로 출력하세요\n",
    "\n",
    "x = 'abcdef'\n",
    "x[::-1]"
   ]
  },
  {
   "cell_type": "code",
   "execution_count": 164,
   "id": "3ec660b0",
   "metadata": {},
   "outputs": [
    {
     "name": "stdout",
     "output_type": "stream",
     "text": [
      "36.4\n",
      "섭씨 36.4°C는 화씨 97.52°F입니다.\n"
     ]
    }
   ],
   "source": [
    "# 6. 오늘의 온도를 섭씨온도로 입력받아 화씨 온도로 변환하는 프로그램을 작성하세요 . \n",
    "#화씨 온도는 소수점이 있을 경우만 두번째 자리까지 출력되고 , \n",
    "#소수점이하 값이 없는 경우 소수점을 출력하지 않도록 합니다 \n",
    "#다음은 섭씨와 화씨의 변환 공식입니다 . C 는 섭씨 ,F 는 화씨\n",
    "#C = (F-32) / 1.8\n",
    "#F = (C*1.8) + 32\n",
    "\n",
    "C = float(input())\n",
    "F = (C*1.8) + 32\n",
    "#print('섭씨 {}°C는 화씨 {:.2f}°F입니다.'.format(C,F))\n",
    "if F%1==0: #혹은 f.is_integer(): 으로 쓸 수도 있음. 실수를 정수로 써라는 말.\n",
    "    print('섭씨 {}°C는 화씨 {:.0f}°F입니다.'.format(C,F))\n",
    "else:\n",
    "    print('섭씨 {}°C는 화씨 {:.2f}°F입니다.'.format(C,F))"
   ]
  },
  {
   "cell_type": "code",
   "execution_count": 118,
   "id": "bfb276e5",
   "metadata": {},
   "outputs": [],
   "source": [
    "# 7.다음 중 변수 선언으로 잘못된 것을 모두 고르시오\n",
    "# ① for\n",
    "# ② 10th\n",
    "# ③ Student.name\n",
    "# ④ _1234\n",
    "\n",
    "# 1.2.3번"
   ]
  },
  {
   "cell_type": "code",
   "execution_count": 92,
   "id": "588f937a",
   "metadata": {},
   "outputs": [
    {
     "name": "stdout",
     "output_type": "stream",
     "text": [
      "SeounSeoul\n",
      "Seou n Seoul\n"
     ]
    }
   ],
   "source": [
    "#8.다음의 코드의 실행결과는?\n",
    "\n",
    "text = 'Seoul A001 - programming with python'\n",
    "print(text[:4] + text[-1] + text.split()[0])\n",
    "print(text[:4], text[-1], text.split()[0])"
   ]
  },
  {
   "cell_type": "code",
   "execution_count": 155,
   "id": "e5ff5ce5",
   "metadata": {},
   "outputs": [],
   "source": [
    "#9.다음 중 파이썬 3.x 버전에서 연산식과 그 결과의 출력이 잘못된 것은\n",
    " #① 수식 8//2 결과 4\n",
    " #② 수식 8/2 결과 4\n",
    " #③ 수식 8**2 결과 64\n",
    "    \n",
    "#2번. 4.0"
   ]
  },
  {
   "cell_type": "code",
   "execution_count": 170,
   "id": "015654f9",
   "metadata": {},
   "outputs": [],
   "source": [
    "# 10. 아래 프로그램의 결과는\n",
    "x = 5\n",
    "y = 'John'\n",
    "# print(x + y)\n",
    "\n",
    "#에러 고치는건 print(str(x)+y)"
   ]
  },
  {
   "cell_type": "code",
   "execution_count": 124,
   "id": "6d7d3def",
   "metadata": {},
   "outputs": [
    {
     "data": {
      "text/plain": [
       "'나라'"
      ]
     },
     "execution_count": 124,
     "metadata": {},
     "output_type": "execute_result"
    }
   ],
   "source": [
    "# 11. split() 함수를 이용하여 str_ 의 값 중 나라 를 출력하는 프로그램을 완성하시오\n",
    "str_ = '우리 나라 대한 민국'\n",
    "splited_str_ = str_.split()\n",
    "splited_str_[1]\n",
    "\n",
    "#답 str_split()[1]으로 바로 적기"
   ]
  }
 ],
 "metadata": {
  "kernelspec": {
   "display_name": "Python 3 (ipykernel)",
   "language": "python",
   "name": "python3"
  },
  "language_info": {
   "codemirror_mode": {
    "name": "ipython",
    "version": 3
   },
   "file_extension": ".py",
   "mimetype": "text/x-python",
   "name": "python",
   "nbconvert_exporter": "python",
   "pygments_lexer": "ipython3",
   "version": "3.10.9"
  },
  "toc": {
   "base_numbering": 1,
   "nav_menu": {},
   "number_sections": false,
   "sideBar": true,
   "skip_h1_title": false,
   "title_cell": "Table of Contents",
   "title_sidebar": "Contents",
   "toc_cell": false,
   "toc_position": {
    "height": "calc(100% - 180px)",
    "left": "10px",
    "top": "150px",
    "width": "165px"
   },
   "toc_section_display": true,
   "toc_window_display": true
  }
 },
 "nbformat": 4,
 "nbformat_minor": 5
}
