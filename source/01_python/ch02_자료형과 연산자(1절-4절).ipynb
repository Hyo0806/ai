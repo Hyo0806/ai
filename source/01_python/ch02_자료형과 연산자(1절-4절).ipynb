{
 "cells": [
  {
   "cell_type": "code",
   "execution_count": 1,
   "id": "f71103d8",
   "metadata": {},
   "outputs": [
    {
     "data": {
      "text/html": [
       "\n",
       "<style>\n",
       "div.container{width:90% !important;}\n",
       "div.cell.code_cell.rendered{width:100%;}\n",
       "div.input_prompt{padding:0px;}\n",
       "div.CodeMirror {font-family:Consolas; font-size:12pt;}\n",
       "div.text_cell_render.rendered_html{font-size:12pt;}\n",
       "div.output {font-size:12pt; font-weight:bold;}\n",
       "div.input {font-family:Consolas; font-size:12pt;}\n",
       "div.prompt {min-width:70px;}\n",
       "div#toc-wrapper{padding-top:120px;}\n",
       "div.text_cell_render ul li{font-size:12pt;padding:5px;}\n",
       "table.dataframe{font-size:12px;}\n",
       "</style>\n"
      ],
      "text/plain": [
       "<IPython.core.display.HTML object>"
      ]
     },
     "metadata": {},
     "output_type": "display_data"
    }
   ],
   "source": [
    "from IPython.display import display, HTML\n",
    "display(HTML(\"\"\"\n",
    "<style>\n",
    "div.container{width:90% !important;}\n",
    "div.cell.code_cell.rendered{width:100%;}\n",
    "div.input_prompt{padding:0px;}\n",
    "div.CodeMirror {font-family:Consolas; font-size:12pt;}\n",
    "div.text_cell_render.rendered_html{font-size:12pt;}\n",
    "div.output {font-size:12pt; font-weight:bold;}\n",
    "div.input {font-family:Consolas; font-size:12pt;}\n",
    "div.prompt {min-width:70px;}\n",
    "div#toc-wrapper{padding-top:120px;}\n",
    "div.text_cell_render ul li{font-size:12pt;padding:5px;}\n",
    "table.dataframe{font-size:12px;}\n",
    "</style>\n",
    "\"\"\"))"
   ]
  },
  {
   "cell_type": "markdown",
   "id": "35750508",
   "metadata": {},
   "source": [
    "<b><font size=\"6\" color=\"red\"> 자료형과 연산자 <font><b>    \n",
    "\n",
    "# 1절.변수\n",
    "    \n",
    "- 변수 : 프로그램 작업 처리를 위해, 값을 저장할 수 있는 메모리 공간\n",
    "- 변수선언 : 파이썬은 변수 선언을 위한 타입이 없고, 별도의 선언 과정도 없음.\n",
    "    \n",
    "## 1.1 변수 할당\n",
    "    \n",
    "- 할당 연산자(=)를 이용해서 값을 할당하면 자료형(타입)이 셋팅\n",
    "- **파이썬에서의 모든 변수는 객체로 저장**"
   ]
  },
  {
   "cell_type": "code",
   "execution_count": 41,
   "id": "5a85308e",
   "metadata": {},
   "outputs": [
    {
     "name": "stdout",
     "output_type": "stream",
     "text": [
      "넓이 : 78.5\n"
     ]
    }
   ],
   "source": [
    "r=5\n",
    "area=3.14*r*r\n",
    "print(\"넓이 :\",area)"
   ]
  },
  {
   "cell_type": "code",
   "execution_count": 42,
   "id": "0ac54d15",
   "metadata": {},
   "outputs": [
    {
     "name": "stdout",
     "output_type": "stream",
     "text": [
      "넓이 : 78.53981633974483\n"
     ]
    }
   ],
   "source": [
    "import numpy as np #numpy패키지를 np라는 이름으로 사용 \n",
    "area = np.pi*r*r\n",
    "print(\"넓이 :\",area)"
   ]
  },
  {
   "cell_type": "code",
   "execution_count": 23,
   "id": "343fa1b7",
   "metadata": {},
   "outputs": [
    {
     "name": "stdout",
     "output_type": "stream",
     "text": [
      "area의 주소 : 2304425609552\n",
      "area의 타입 : <class 'float'>\n"
     ]
    }
   ],
   "source": [
    "print('area의 주소 :', id(area))\n",
    "print('area의 타입 :', type(area))"
   ]
  },
  {
   "cell_type": "code",
   "execution_count": 24,
   "id": "99bd3072",
   "metadata": {},
   "outputs": [
    {
     "data": {
      "text/plain": [
       "False"
      ]
     },
     "execution_count": 24,
     "metadata": {},
     "output_type": "execute_result"
    }
   ],
   "source": [
    "area.is_integer()"
   ]
  },
  {
   "cell_type": "code",
   "execution_count": 25,
   "id": "a33be1aa",
   "metadata": {},
   "outputs": [
    {
     "name": "stdout",
     "output_type": "stream",
     "text": [
      "area의 주소 : 2304341180944\n",
      "area의 타입 : <class 'int'>\n"
     ]
    }
   ],
   "source": [
    "area = 10\n",
    "print('area의 주소 :', id(area))\n",
    "print('area의 타입 :', type(area))"
   ]
  },
  {
   "cell_type": "code",
   "execution_count": 26,
   "id": "51783e95",
   "metadata": {},
   "outputs": [
    {
     "name": "stdout",
     "output_type": "stream",
     "text": [
      "area의 주소 : 2304455046032\n",
      "area의 타입 : <class 'str'>\n"
     ]
    }
   ],
   "source": [
    "area = \"파이썬\"\n",
    "print('area의 주소 :', id(area))\n",
    "print('area의 타입 :', type(area))"
   ]
  },
  {
   "cell_type": "markdown",
   "id": "384f3320",
   "metadata": {},
   "source": [
    "## 1.2 변수 이름 규칙\n",
    "\n",
    "- 문자로 시작\n",
    "- 문자(특수문자는 _ 외에는 불가), 숫자, _ 로 변수명 작성\n",
    "- 함수명은 변수명으로 가능하나 피한다. 꼭 써야한다면 str_식으로 사용한다.\n",
    "- 파이썬 예약어 (for, if 등)는 변수명 사용 불가\n",
    "- 한글 변수는 꼭 필요시에만 사용 "
   ]
  },
  {
   "cell_type": "code",
   "execution_count": 27,
   "id": "087beeeb",
   "metadata": {},
   "outputs": [
    {
     "name": "stdout",
     "output_type": "stream",
     "text": [
      "홍길동\n"
     ]
    }
   ],
   "source": [
    "이름=\"홍길동\" #비추\n",
    "print(이름)"
   ]
  },
  {
   "cell_type": "code",
   "execution_count": 28,
   "id": "3cb1e432",
   "metadata": {},
   "outputs": [
    {
     "name": "stdout",
     "output_type": "stream",
     "text": [
      "홍길동 홍길동\n"
     ]
    }
   ],
   "source": [
    "#member.name = \"홍길동\" #변수 내에 '.'사용 불가\n",
    "member_name = \"홍길동\"\n",
    "memberName = \"홍길동\"\n",
    "print(member_name, memberName)"
   ]
  },
  {
   "cell_type": "code",
   "execution_count": 29,
   "id": "bbe8fd01",
   "metadata": {},
   "outputs": [
    {
     "name": "stdout",
     "output_type": "stream",
     "text": [
      "<class 'complex'>\n"
     ]
    }
   ],
   "source": [
    "#숫자 : 정수, 실수, 복소수\n",
    "i = 1 + 3j # 복소수\n",
    "print(type(i))"
   ]
  },
  {
   "cell_type": "code",
   "execution_count": 30,
   "id": "60b0633c",
   "metadata": {},
   "outputs": [
    {
     "data": {
      "text/plain": [
       "True"
      ]
     },
     "execution_count": 30,
     "metadata": {},
     "output_type": "execute_result"
    }
   ],
   "source": [
    "isinstance(i, complex) # i변수가 complex 타입의 객체인지?"
   ]
  },
  {
   "cell_type": "code",
   "execution_count": 31,
   "id": "fac73c67",
   "metadata": {},
   "outputs": [
    {
     "data": {
      "text/plain": [
       "False"
      ]
     },
     "execution_count": 31,
     "metadata": {},
     "output_type": "execute_result"
    }
   ],
   "source": [
    "isinstance(i, int) # i변수가 int타입의 객체인지?"
   ]
  },
  {
   "cell_type": "markdown",
   "id": "70f5e4cc",
   "metadata": {},
   "source": [
    "## 1.3 다중 변수 선언"
   ]
  },
  {
   "cell_type": "code",
   "execution_count": null,
   "id": "be33e3f2",
   "metadata": {},
   "outputs": [],
   "source": [
    "a = 10\n",
    "b = 20"
   ]
  },
  {
   "cell_type": "code",
   "execution_count": 32,
   "id": "edf00205",
   "metadata": {},
   "outputs": [
    {
     "name": "stdout",
     "output_type": "stream",
     "text": [
      "10 20\n"
     ]
    }
   ],
   "source": [
    "a, b = 10, 20\n",
    "print(a, b)"
   ]
  },
  {
   "cell_type": "code",
   "execution_count": 33,
   "id": "c1184f69",
   "metadata": {},
   "outputs": [
    {
     "name": "stdout",
     "output_type": "stream",
     "text": [
      "20 30\n"
     ]
    }
   ],
   "source": [
    "a, b = b, a+b   # 다중 변수 할당시 순차적 할당이 아니고, 일괄 동시 할당\n",
    "print(a, b)"
   ]
  },
  {
   "cell_type": "markdown",
   "id": "1bd0f050",
   "metadata": {},
   "source": [
    "## 1.4 도움말"
   ]
  },
  {
   "cell_type": "code",
   "execution_count": 34,
   "id": "f9395114",
   "metadata": {},
   "outputs": [
    {
     "name": "stdout",
     "output_type": "stream",
     "text": [
      "Help on built-in function print in module builtins:\n",
      "\n",
      "print(...)\n",
      "    print(value, ..., sep=' ', end='\\n', file=sys.stdout, flush=False)\n",
      "    \n",
      "    Prints the values to a stream, or to sys.stdout by default.\n",
      "    Optional keyword arguments:\n",
      "    file:  a file-like object (stream); defaults to the current sys.stdout.\n",
      "    sep:   string inserted between values, default a space.\n",
      "    end:   string appended after the last value, default a newline.\n",
      "    flush: whether to forcibly flush the stream.\n",
      "\n"
     ]
    }
   ],
   "source": [
    "help(print)"
   ]
  },
  {
   "cell_type": "code",
   "execution_count": 40,
   "id": "b4ad4ce9",
   "metadata": {},
   "outputs": [],
   "source": [
    "# help빠져나오기 : q / 결과접기/펴기 : esc+o"
   ]
  },
  {
   "cell_type": "code",
   "execution_count": 35,
   "id": "59d717bc",
   "metadata": {},
   "outputs": [
    {
     "name": "stdout",
     "output_type": "stream",
     "text": [
      "\n"
     ]
    }
   ],
   "source": [
    "# 도움말 기능 : shift + tab 키\n",
    "print()"
   ]
  },
  {
   "cell_type": "code",
   "execution_count": 36,
   "id": "dda4495a",
   "metadata": {},
   "outputs": [],
   "source": [
    "def add(x, y=0):\n",
    "    '''\n",
    "    매개변수(x, y) 2개를 받아 두자리 숫자로 만들는 함수\n",
    "    x = 10의 자리수가 되고\n",
    "    y = 1의 자리수가 됨(default값 0)\n",
    "    '''\n",
    "    return x*10 + y"
   ]
  },
  {
   "cell_type": "code",
   "execution_count": 37,
   "id": "cebabe11",
   "metadata": {},
   "outputs": [
    {
     "data": {
      "text/plain": [
       "34"
      ]
     },
     "execution_count": 37,
     "metadata": {},
     "output_type": "execute_result"
    }
   ],
   "source": [
    "add(3,4)"
   ]
  },
  {
   "cell_type": "code",
   "execution_count": 38,
   "id": "a4d6770a",
   "metadata": {},
   "outputs": [
    {
     "data": {
      "text/plain": [
       "30"
      ]
     },
     "execution_count": 38,
     "metadata": {},
     "output_type": "execute_result"
    }
   ],
   "source": [
    "add(3)"
   ]
  },
  {
   "cell_type": "markdown",
   "id": "b69648db",
   "metadata": {},
   "source": [
    "# 2절. 화면i/o"
   ]
  },
  {
   "cell_type": "code",
   "execution_count": 39,
   "id": "7e4457d8",
   "metadata": {},
   "outputs": [],
   "source": [
    "# input() : 사용자로부터 값을 입력받기 위한 함수. 입력값은 문자(str)로 받음"
   ]
  },
  {
   "cell_type": "code",
   "execution_count": 2,
   "id": "fc7a2e4f",
   "metadata": {},
   "outputs": [
    {
     "name": "stdout",
     "output_type": "stream",
     "text": [
      "아무거나\n",
      "아무거나\n"
     ]
    }
   ],
   "source": [
    "first = input()\n",
    "print(first)"
   ]
  },
  {
   "cell_type": "code",
   "execution_count": 6,
   "id": "69d3cbd2",
   "metadata": {},
   "outputs": [
    {
     "name": "stdout",
     "output_type": "stream",
     "text": [
      "첫번째 숫자는?8\n",
      "두번째 숫자는?2\n"
     ]
    }
   ],
   "source": [
    "first = input('첫번째 숫자는?')\n",
    "second = input('두번째 숫자는?')"
   ]
  },
  {
   "cell_type": "code",
   "execution_count": 16,
   "id": "3e200507",
   "metadata": {},
   "outputs": [
    {
     "name": "stdout",
     "output_type": "stream",
     "text": [
      "두수의 합은 82\n"
     ]
    }
   ],
   "source": [
    "print('두수의 합은', first+second)"
   ]
  },
  {
   "cell_type": "code",
   "execution_count": 19,
   "id": "3ccf2a93",
   "metadata": {},
   "outputs": [
    {
     "name": "stdout",
     "output_type": "stream",
     "text": [
      "첫번째 숫자는?10\n",
      "두번째 숫자는?10\n"
     ]
    }
   ],
   "source": [
    "first = int(input('첫번째 숫자는?'))\n",
    "second = int(input('두번째 숫자는?'))"
   ]
  },
  {
   "cell_type": "code",
   "execution_count": 20,
   "id": "f1edf955",
   "metadata": {},
   "outputs": [
    {
     "name": "stdout",
     "output_type": "stream",
     "text": [
      "두수의 합은 20\n"
     ]
    }
   ],
   "source": [
    "print('두수의 합은', first+second)"
   ]
  },
  {
   "cell_type": "code",
   "execution_count": 18,
   "id": "0e12eee0",
   "metadata": {},
   "outputs": [
    {
     "name": "stdout",
     "output_type": "stream",
     "text": [
      "first,8,second,2\thello python\n"
     ]
    }
   ],
   "source": [
    "print('first',first,'second',second,sep=',',end='\\t')\n",
    "print('hello','python',sep=' ')"
   ]
  },
  {
   "cell_type": "markdown",
   "id": "8cdc94cf",
   "metadata": {},
   "source": [
    "# 3절. 기본 자료형\n",
    "- 자료형 : 변수가 가져야할 값의 형식. 자료형에 따라 값의 크기와 저장 방식 달라짐.\n",
    "- 자료형에 따라 수행할 수 있는 명령어들이 달라짐.\n",
    "    - `숫자` : int, float(소수점 ex)4.0), complex(허수부 j)\n",
    "    - `문자` : str('',\"\")\n",
    "    - `논리` : bool(true/false)\n",
    "    \n",
    "## 3.1 숫자형"
   ]
  },
  {
   "cell_type": "code",
   "execution_count": 43,
   "id": "5bada774",
   "metadata": {},
   "outputs": [
    {
     "name": "stdout",
     "output_type": "stream",
     "text": [
      "9223372036854775807\n"
     ]
    }
   ],
   "source": [
    "import sys\n",
    "print(sys.maxsize) #정수의 최댓값 : 2**63-1 (파이썬에서 **은 제곱을 뜻함)"
   ]
  },
  {
   "cell_type": "code",
   "execution_count": 44,
   "id": "7dd1552c",
   "metadata": {},
   "outputs": [
    {
     "data": {
      "text/plain": [
       "9223372036854775807"
      ]
     },
     "execution_count": 44,
     "metadata": {},
     "output_type": "execute_result"
    }
   ],
   "source": [
    "2**63-1"
   ]
  },
  {
   "cell_type": "code",
   "execution_count": 50,
   "id": "74c33890",
   "metadata": {},
   "outputs": [
    {
     "name": "stdout",
     "output_type": "stream",
     "text": [
      "9223372036854785807\n",
      "<class 'int'>\n"
     ]
    }
   ],
   "source": [
    "i = sys.maxsize + 10000\n",
    "print(i)\n",
    "print(type(i))"
   ]
  },
  {
   "cell_type": "code",
   "execution_count": 51,
   "id": "caddb89d",
   "metadata": {},
   "outputs": [
    {
     "name": "stdout",
     "output_type": "stream",
     "text": [
      "1.2e-20\n",
      "1.2e+20\n"
     ]
    }
   ],
   "source": [
    "# f = 0.000000000000000000012\n",
    "f = 1.2e-20 # 지수형 1.2*10의 -20승\n",
    "print(f)\n",
    "b = 1.2e20 # 지수형 1.2의 10의 20승\n",
    "print(b)"
   ]
  },
  {
   "cell_type": "code",
   "execution_count": 52,
   "id": "f30945ac",
   "metadata": {},
   "outputs": [
    {
     "name": "stdout",
     "output_type": "stream",
     "text": [
      "f= 2.0\n"
     ]
    }
   ],
   "source": [
    "# 파이썬에서는 /의 결과는 무조건 실수\n",
    "f = 4/2\n",
    "print('f=',f)"
   ]
  },
  {
   "cell_type": "code",
   "execution_count": 53,
   "id": "e61b1f50",
   "metadata": {},
   "outputs": [
    {
     "name": "stdout",
     "output_type": "stream",
     "text": [
      "f= 1\n",
      "f= 1\n"
     ]
    }
   ],
   "source": [
    "# 자바나 C, C++처럼 정수/정수 결과를 정수로\n",
    "f = int(3/2) # int() : int로 형변환(내림)\n",
    "print('f=', f)\n",
    "f = 3//2 # 몫연산자\n",
    "print('f=',f)"
   ]
  },
  {
   "cell_type": "markdown",
   "id": "46a24d7e",
   "metadata": {},
   "source": [
    "## 3.2 문자형\n",
    "\n",
    "- 문자형은 홑따옴표('') 또는 겹따옴표 (\"\") 사용"
   ]
  },
  {
   "cell_type": "code",
   "execution_count": 60,
   "id": "e413ad09",
   "metadata": {},
   "outputs": [
    {
     "name": "stdout",
     "output_type": "stream",
     "text": [
      "홍길동\"짱\" 서울시 관악구\"신림\"\n"
     ]
    }
   ],
   "source": [
    "#name = '홍길동\\'짱\\'' #홍길동\"짱\"\n",
    "name = '홍길동\"짱\"'\n",
    "address = '서울시 관악구\"신림\"'\n",
    "print(name, address)"
   ]
  },
  {
   "cell_type": "code",
   "execution_count": 61,
   "id": "a474daa7",
   "metadata": {},
   "outputs": [
    {
     "name": "stdout",
     "output_type": "stream",
     "text": [
      "가독성\n",
      "떨어짐\n",
      "\n"
     ]
    }
   ],
   "source": [
    "#escape 문자(탈출문자) : \\n \\t \\r\n",
    "text = '가독성\\n떨어짐\\n'\n",
    "print(text)"
   ]
  },
  {
   "cell_type": "code",
   "execution_count": 64,
   "id": "7031c38a",
   "metadata": {},
   "outputs": [
    {
     "name": "stdout",
     "output_type": "stream",
     "text": [
      "이렇게 작성하면\n",
      "여러줄 작성해도\n",
      "잘보임\n"
     ]
    }
   ],
   "source": [
    "text = '''이렇게 작성하면\n",
    "여러줄 작성해도\n",
    "잘보임'''\n",
    "print(text)"
   ]
  },
  {
   "cell_type": "markdown",
   "id": "85e0dfc3",
   "metadata": {},
   "source": [
    "### ※ 문자열 연산(+,*)"
   ]
  },
  {
   "cell_type": "code",
   "execution_count": 65,
   "id": "dfca2795",
   "metadata": {},
   "outputs": [
    {
     "name": "stdout",
     "output_type": "stream",
     "text": [
      "홍길동동해번쩍\n",
      "홍길동 동해번쩍\n"
     ]
    }
   ],
   "source": [
    "'''\n",
    "    여러 줄 주석 용도\n",
    "    2025.09.12 문자열 연산 by 아무개\n",
    "'''\n",
    "name1=\"홍길동\"\n",
    "name2=\"동해번쩍\"\n",
    "print(name1+name2)\n",
    "print(name1, name2)"
   ]
  },
  {
   "cell_type": "code",
   "execution_count": 67,
   "id": "4a59ba10",
   "metadata": {},
   "outputs": [
    {
     "name": "stdout",
     "output_type": "stream",
     "text": [
      "홍길동홍길동홍길동\n"
     ]
    }
   ],
   "source": [
    "print(name1*3)"
   ]
  },
  {
   "cell_type": "markdown",
   "id": "dcbe914d",
   "metadata": {},
   "source": [
    "### ※ row 데이터\n",
    "\n",
    "- 용도 : 정규표현식 이용, 디렉토리 경로를 표현시 이용"
   ]
  },
  {
   "cell_type": "code",
   "execution_count": 71,
   "id": "4ed55bdc",
   "metadata": {},
   "outputs": [
    {
     "name": "stdout",
     "output_type": "stream",
     "text": [
      "hello\\nworld\n"
     ]
    }
   ],
   "source": [
    "# raw데이터 : 데이터 처리시 이스케이프 문자(\\n, \\t, \\', \\\")를 그대로 저장\n",
    "print(r'hello\\nworld')"
   ]
  },
  {
   "cell_type": "markdown",
   "id": "0f12d755",
   "metadata": {},
   "source": [
    "정규표현식(regex)\n",
    "\n",
    "    1. 참조 : https://ko.wikipedia.org/wiki/ 위키백과\n",
    "    2. 간략문법\n",
    "        \\d (숫자와 매치. [0-9]와 동일)\n",
    "        \\D (숫자가 아닌 것)\n",
    "        \\w (영문자나 숫자 [a-zA-Z0-9]와 동일)\n",
    "        \\W (영문자나 숫자가 아닌 문자) \n",
    "        . (문자) \n",
    "        \\. (.) \n",
    "        \\- (-) \n",
    "        {2,} (2번 이상 반복)\n",
    "        {2, 4} (2~4회 반복) \n",
    "        ?      (0번이나 1번 의미) \n",
    "        +      (1번 이상 반복) \n",
    "        *      (0번 이상 반복) \n",
    "        \n",
    "    3.정규표현식 연습장 : https://regexr.com/\n",
    "        ex) 전화번호 : 02 888 7777 / 028887777 / 010-9999-9999 / 010.9999.9999 / 02)999-9999\n",
    "            \\d{2,3}[ \\-\\.)]?\\d{3,4}[ \\-\\.]?\\d{4}\n",
    "            (02|031|010)[ \\-\\.)]?\\d{3,4}[ \\-\\.]?\\d{4}\n",
    "            0\\d{1,2}[ \\-\\.)]?\\d{3,4}[ \\-\\.]?\\d{4}\n",
    "        ex) 이메일 : abc12@naver.com / abc12@sns.co.kr\n",
    "            \\w+@\\w+(\\.\\w+){1,2}\n",
    "        ex) 주민번호 : 981212-1052525\n",
    "             \\d{2}(0[1-9]|1[0-2])(0[1-9]|[12]\\d|30|31)-[1-4]\\d{6}\n",
    "    4.소스 구현"
   ]
  },
  {
   "cell_type": "code",
   "execution_count": 5,
   "id": "4db54664",
   "metadata": {},
   "outputs": [
    {
     "name": "stdout",
     "output_type": "stream",
     "text": [
      "이름:홍길동, 주소:서울, 전화:02-888-8888, 핸드폰:010-9999-9999, 특징:동해번쩍 서해번쩍혈액형:Bㅋㅋ ㅋㅋzz\n"
     ]
    }
   ],
   "source": [
    "import re\n",
    "data = \"이름:홍길동, 주소:서울, 전화:02-888-8888, \\\n",
    "핸드폰:010-9999-9999, 특징:동해번쩍 서해번쩍\\\n",
    "혈액형:Bㅋㅋ ㅋㅋzz\"\n",
    "print(data)"
   ]
  },
  {
   "cell_type": "code",
   "execution_count": 75,
   "id": "63d93a08",
   "metadata": {},
   "outputs": [
    {
     "data": {
      "text/plain": [
       "['02-888-8888', '010-9999-9999']"
      ]
     },
     "execution_count": 75,
     "metadata": {},
     "output_type": "execute_result"
    }
   ],
   "source": [
    "# 정규표현식 처리에서는 raw데이터 처리를 하지 않아도 실행은 되나\n",
    "# 실수를 줄이고, 가독성을 높이는 용도르 raw 데이터 처리를 사용\n",
    "\n",
    "tel_pattern = r\"0\\d{1,2}[ \\-\\.)]?\\d{3,4}[ \\-\\.]?\\d{4}\"\n",
    "\n",
    "# 해당 패턴을 다 찾아줌. 없으면 빈 list\n",
    "\n",
    "tels = re.findall(tel_pattern, data) \n",
    "tels"
   ]
  },
  {
   "cell_type": "code",
   "execution_count": 76,
   "id": "cfb22fcc",
   "metadata": {},
   "outputs": [
    {
     "data": {
      "text/plain": [
       "[]"
      ]
     },
     "execution_count": 76,
     "metadata": {},
     "output_type": "execute_result"
    }
   ],
   "source": [
    "email_pattern = r\"\\w+@\\w+(\\.\\w+){1,2}\"\n",
    "emails = re.findall(email_pattern, data)\n",
    "emails"
   ]
  },
  {
   "cell_type": "code",
   "execution_count": 77,
   "id": "50e92f28",
   "metadata": {},
   "outputs": [
    {
     "data": {
      "text/plain": [
       "<re.Match object; span=(18, 29), match='02-888-8888'>"
      ]
     },
     "execution_count": 77,
     "metadata": {},
     "output_type": "execute_result"
    }
   ],
   "source": [
    "# 정규표현식 패턴과 처음 match되는 것을 찾아줘\n",
    "\n",
    "firstTel = re.search(tel_pattern, data)\n",
    "firstTel"
   ]
  },
  {
   "cell_type": "code",
   "execution_count": 78,
   "id": "0c0ea4c0",
   "metadata": {},
   "outputs": [
    {
     "name": "stdout",
     "output_type": "stream",
     "text": [
      "02-888-8888\n",
      "02-888-8888\n"
     ]
    }
   ],
   "source": [
    "print(data[18:29]) # 문자열 슬라이싱\n",
    "print(firstTel.group(0))"
   ]
  },
  {
   "cell_type": "code",
   "execution_count": 79,
   "id": "5aa22dcd",
   "metadata": {},
   "outputs": [
    {
     "data": {
      "text/plain": [
       "<re.Match object; span=(18, 29), match='02-888-8888'>"
      ]
     },
     "execution_count": 79,
     "metadata": {},
     "output_type": "execute_result"
    }
   ],
   "source": [
    "tel_pattern = r\"(\\d{2,3})-(\\d{3,4})-(\\d{4})\"\n",
    "\n",
    "firstPhone = re.search(tel_pattern, data)\n",
    "firstPhone"
   ]
  },
  {
   "cell_type": "code",
   "execution_count": 80,
   "id": "d0cc586f",
   "metadata": {},
   "outputs": [
    {
     "name": "stdout",
     "output_type": "stream",
     "text": [
      "전체 전화번호 : 02-888-8888\n",
      "국번 : 02\n",
      "중간번호 : 888\n",
      "끝번호 : 8888\n"
     ]
    }
   ],
   "source": [
    "print('전체 전화번호 :', firstPhone.group(0))\n",
    "print('국번 :', firstPhone.group(1))\n",
    "print('중간번호 :', firstPhone.group(2))\n",
    "print('끝번호 :', firstPhone.group(3))"
   ]
  },
  {
   "cell_type": "code",
   "execution_count": 7,
   "id": "75e286e8",
   "metadata": {},
   "outputs": [
    {
     "data": {
      "text/plain": [
       "'이름홍길동 주소서울 전화028888888 핸드폰01099999999 특징동해번쩍 서해번쩍혈액형B '"
      ]
     },
     "execution_count": 7,
     "metadata": {},
     "output_type": "execute_result"
    }
   ],
   "source": [
    "# data에서 특정한 데이터 없애기 #\\s 는 스페이스\n",
    "re.sub(\"[^가-힣0-9A-Z\\s]\", '', data)"
   ]
  },
  {
   "cell_type": "code",
   "execution_count": 6,
   "id": "09e870d0",
   "metadata": {},
   "outputs": [
    {
     "data": {
      "text/plain": [
       "'이름:홍길동, 주소:서울, 전화: , 핸드폰: , 특징:동해번쩍 서해번쩍혈액형:Bㅋㅋ ㅋㅋzz'"
      ]
     },
     "execution_count": 6,
     "metadata": {},
     "output_type": "execute_result"
    }
   ],
   "source": [
    "#data에서 전화번호 없애기\n",
    "tel_pattern = r\"0\\d{1,2}[ \\-\\.)]?\\d{3,4}[ \\-\\.]?\\d{4}\"\n",
    "re.sub(tel_pattern, ' ', data)"
   ]
  },
  {
   "cell_type": "code",
   "execution_count": 8,
   "id": "58a28944",
   "metadata": {},
   "outputs": [],
   "source": [
    "# 파일 경로 #\\를 인식하지 못하게 제일앞에 r을 쓰거나 \\\\을 쓰거나 \\을 /으로 바꾸거나. 하지만 파일 복사해서 r붙이는게 제일 편함.\n",
    "\n",
    "file_path = 'C:\\\\Users\\\\Admin\\\\AI\\\\source\\\\01_python\\\\data\\\\ch02.txt'\n",
    "file_path = 'C:/Users/Admin/AI/source/01_python/data/ch02.txt'\n",
    "file_path = r'C:\\Users\\Admin\\AI\\source\\01_python\\data\\ch02.txt'"
   ]
  },
  {
   "cell_type": "code",
   "execution_count": 13,
   "id": "50d35979",
   "metadata": {},
   "outputs": [
    {
     "name": "stdout",
     "output_type": "stream",
     "text": [
      "Hello, Python\n",
      "Hello, World\n"
     ]
    }
   ],
   "source": [
    "#이 파일이 쓰는용인지'w',읽는용인지 써줘야함'r'\n",
    "file_stream = open(file_path, \"w\")\n",
    "print('Hello, Python', 'Hello, World', sep=\"\\n\") #화면 출력\n",
    "print('Hello, Python', 'Hello, World', sep=\"\\n\", file=file_stream) #파일 출력\n",
    "file_stream.close() #close 하지 않으면 저장 안됨"
   ]
  },
  {
   "cell_type": "markdown",
   "id": "1670f9fb",
   "metadata": {},
   "source": [
    "### ※ 문자열 인덱싱"
   ]
  },
  {
   "cell_type": "code",
   "execution_count": 14,
   "id": "e82a17fc",
   "metadata": {},
   "outputs": [
    {
     "data": {
      "text/plain": [
       "'0123456789'"
      ]
     },
     "execution_count": 14,
     "metadata": {},
     "output_type": "execute_result"
    }
   ],
   "source": [
    "#문자열 인덱싱은 딱 한개만 찍는것\n",
    "str_='0123456789'\n",
    "str_"
   ]
  },
  {
   "cell_type": "code",
   "execution_count": 16,
   "id": "d63789c6",
   "metadata": {},
   "outputs": [
    {
     "data": {
      "text/plain": [
       "('0', '2', '9', '7')"
      ]
     },
     "execution_count": 16,
     "metadata": {},
     "output_type": "execute_result"
    }
   ],
   "source": [
    "str_[0],str_[2],str_[-1],str_[-3] #음수인덱싱은 맨 마지막이 -1"
   ]
  },
  {
   "cell_type": "code",
   "execution_count": 17,
   "id": "d795619a",
   "metadata": {
    "collapsed": true
   },
   "outputs": [
    {
     "ename": "IndexError",
     "evalue": "string index out of range",
     "output_type": "error",
     "traceback": [
      "\u001b[1;31m---------------------------------------------------------------------------\u001b[0m",
      "\u001b[1;31mIndexError\u001b[0m                                Traceback (most recent call last)",
      "Cell \u001b[1;32mIn[17], line 1\u001b[0m\n\u001b[1;32m----> 1\u001b[0m \u001b[43mstr_\u001b[49m\u001b[43m[\u001b[49m\u001b[38;5;241;43m10\u001b[39;49m\u001b[43m]\u001b[49m\n",
      "\u001b[1;31mIndexError\u001b[0m: string index out of range"
     ]
    }
   ],
   "source": [
    "str_[10] #없는 인덱싱은 에러"
   ]
  },
  {
   "cell_type": "markdown",
   "id": "e3f57112",
   "metadata": {},
   "source": [
    "### ※ 문자열 슬라이싱"
   ]
  },
  {
   "cell_type": "code",
   "execution_count": 18,
   "id": "ed538d24",
   "metadata": {
    "collapsed": true
   },
   "outputs": [
    {
     "data": {
      "text/plain": [
       "'\\n문자열 변수[from:to]\\n'"
      ]
     },
     "execution_count": 18,
     "metadata": {},
     "output_type": "execute_result"
    }
   ],
   "source": [
    "'''\n",
    "문자열변수 [from:to] : from부터 to앞까지 추출\n",
    "문자열변수 [from:to:step] : from부터 to앞까지 step씩 전진하면서 추출\n",
    "    from 생략시 처음부터\n",
    "    to   생략시 끝까지\n",
    "    step 생략시 1\n",
    "'''"
   ]
  },
  {
   "cell_type": "code",
   "execution_count": 22,
   "id": "150a9607",
   "metadata": {},
   "outputs": [
    {
     "data": {
      "text/plain": [
       "('012', '012')"
      ]
     },
     "execution_count": 22,
     "metadata": {},
     "output_type": "execute_result"
    }
   ],
   "source": [
    "str_[0:3], str_[:3] # from 생략시 처음부터"
   ]
  },
  {
   "cell_type": "code",
   "execution_count": 23,
   "id": "07f5049b",
   "metadata": {},
   "outputs": [
    {
     "data": {
      "text/plain": [
       "('56789', '56789')"
      ]
     },
     "execution_count": 23,
     "metadata": {},
     "output_type": "execute_result"
    }
   ],
   "source": [
    "str_[5:10], str_[5:] # to 생략시 끝까지"
   ]
  },
  {
   "cell_type": "code",
   "execution_count": 24,
   "id": "95a175d2",
   "metadata": {},
   "outputs": [
    {
     "data": {
      "text/plain": [
       "'5678'"
      ]
     },
     "execution_count": 24,
     "metadata": {},
     "output_type": "execute_result"
    }
   ],
   "source": [
    "str_[-5:-1] #-5번째부터 -1번째 앞까지"
   ]
  },
  {
   "cell_type": "code",
   "execution_count": 19,
   "id": "7cc7bf33",
   "metadata": {},
   "outputs": [
    {
     "data": {
      "text/plain": [
       "'2345'"
      ]
     },
     "execution_count": 19,
     "metadata": {},
     "output_type": "execute_result"
    }
   ],
   "source": [
    "str_[2:6]"
   ]
  },
  {
   "cell_type": "code",
   "execution_count": 20,
   "id": "a60cc195",
   "metadata": {},
   "outputs": [
    {
     "data": {
      "text/plain": [
       "'02468'"
      ]
     },
     "execution_count": 20,
     "metadata": {},
     "output_type": "execute_result"
    }
   ],
   "source": [
    "str_[0:10:2]"
   ]
  },
  {
   "cell_type": "code",
   "execution_count": 25,
   "id": "c7c9d538",
   "metadata": {},
   "outputs": [
    {
     "data": {
      "text/plain": [
       "'987654321'"
      ]
     },
     "execution_count": 25,
     "metadata": {},
     "output_type": "execute_result"
    }
   ],
   "source": [
    "str_[9:0:-1] #9번째부터 0번째 전까지 -1씩 전진 추출 "
   ]
  },
  {
   "cell_type": "code",
   "execution_count": 31,
   "id": "a769e0a5",
   "metadata": {},
   "outputs": [
    {
     "name": "stdout",
     "output_type": "stream",
     "text": [
      "9876543210\n",
      "9876543210\n",
      "9876543210\n"
     ]
    }
   ],
   "source": [
    "# quiz : 마지막씨부터 처음글씨까지 거꾸로 출력 9876543210\n",
    "# print를 쓰지 않으면 여러개 str_[]입력해도 마지막만 출력. 여러개 출력하고 싶으면 print를 붙이자.\n",
    "\n",
    "print(str_[::-1])\n",
    "print(str_[9::-1])\n",
    "print(str_[-1::-1])"
   ]
  },
  {
   "cell_type": "markdown",
   "id": "2df1de7a",
   "metadata": {},
   "source": [
    "## 3.3 논리형(True / False)"
   ]
  },
  {
   "cell_type": "code",
   "execution_count": 34,
   "id": "5c724090",
   "metadata": {},
   "outputs": [
    {
     "name": "stdout",
     "output_type": "stream",
     "text": [
      "True\n",
      "<class 'bool'>\n",
      "True\n"
     ]
    }
   ],
   "source": [
    "a = 10>5\n",
    "print(a)\n",
    "print(type(a))\n",
    "print(isinstance(a,bool)) #a가 bool타입이니? 하고 물어보는거"
   ]
  },
  {
   "cell_type": "code",
   "execution_count": 35,
   "id": "62e3642c",
   "metadata": {},
   "outputs": [
    {
     "data": {
      "text/plain": [
       "(1, 0)"
      ]
     },
     "execution_count": 35,
     "metadata": {},
     "output_type": "execute_result"
    }
   ],
   "source": [
    "int(True), int(False) #int는 정수로 바꾸는 함수"
   ]
  },
  {
   "cell_type": "code",
   "execution_count": 39,
   "id": "7c9b5e63",
   "metadata": {},
   "outputs": [
    {
     "data": {
      "text/plain": [
       "(True, False, False, True, True)"
      ]
     },
     "execution_count": 39,
     "metadata": {},
     "output_type": "execute_result"
    }
   ],
   "source": [
    "bool(-1000), bool(0), bool(\"\"), bool(\"김길동\"), bool(\" \")"
   ]
  },
  {
   "cell_type": "code",
   "execution_count": 47,
   "id": "4a374eac",
   "metadata": {},
   "outputs": [],
   "source": [
    "# False로 간주되는 것 : 0, \"\"(빈스트링), [](빈리스트), ()(빈튜플), {}(빈딕셔너리), None\n",
    "# False로 판별되는 경우를 제외하고는 모두 True"
   ]
  },
  {
   "cell_type": "code",
   "execution_count": 42,
   "id": "10641f2f",
   "metadata": {},
   "outputs": [
    {
     "name": "stdout",
     "output_type": "stream",
     "text": [
      "False\n"
     ]
    }
   ],
   "source": [
    "if []:\n",
    "    print(\"True\")\n",
    "else:\n",
    "    print('False')"
   ]
  },
  {
   "cell_type": "code",
   "execution_count": 43,
   "id": "270f5aef",
   "metadata": {},
   "outputs": [
    {
     "name": "stdout",
     "output_type": "stream",
     "text": [
      "이름은?\n",
      "이름을 입력 안 하셨군요\n"
     ]
    }
   ],
   "source": [
    "name = input('이름은?')\n",
    "if name: # name이 빈스트링이 아니면 수행하겠다\n",
    "    print('당신 이름은', name)\n",
    "else:\n",
    "    print('이름을 입력 안 하셨군요')"
   ]
  },
  {
   "cell_type": "markdown",
   "id": "10483c52",
   "metadata": {},
   "source": [
    "## 3.4 자료형 확인 및 형변환 함수\n",
    "\n",
    "- type(변수)\n",
    "- isinstance(변수, 타입) : 변수가 해당 타입인지 여부\n",
    "- float() : 실수형으로 변환\n",
    "- int()   : 정수형으로 변환\n",
    "- str()   : 문자형으로 변환\n",
    "- bool()  : 논리형으로 변환"
   ]
  },
  {
   "cell_type": "code",
   "execution_count": 45,
   "id": "145218e2",
   "metadata": {},
   "outputs": [
    {
     "data": {
      "text/plain": [
       "(4.0, 4.1, 4, 4, '4', '4.9')"
      ]
     },
     "execution_count": 45,
     "metadata": {},
     "output_type": "execute_result"
    }
   ],
   "source": [
    "float(4), float(\"4.1\"), int(4.9), int(\"4\"), str(4), str(4.9)"
   ]
  },
  {
   "cell_type": "code",
   "execution_count": 46,
   "id": "6034f96b",
   "metadata": {},
   "outputs": [],
   "source": [
    "# 에러나는 경우들\n",
    "# int(''), int(' '), int(None), int('123.9'), int(5,000)\n",
    "# float(''), float(' '), float(None)"
   ]
  },
  {
   "cell_type": "markdown",
   "id": "68f3199b",
   "metadata": {},
   "source": [
    "# 4절. 포맷팅\n",
    "\n",
    "- 포맷팅이란 출력할 문자, 숫자, 날짜 데이터의 형식을 지정하는 것\n",
    "\n",
    "## 4.1 문자열에 형식 지정"
   ]
  },
  {
   "cell_type": "code",
   "execution_count": 48,
   "id": "57291e59",
   "metadata": {},
   "outputs": [
    {
     "name": "stdout",
     "output_type": "stream",
     "text": [
      "홍길동님의 나이는 30살입니다\n",
      "홍길동님의 나이는 30살입니다\n"
     ]
    }
   ],
   "source": [
    "name = '홍길동'\n",
    "age = 30\n",
    "print(name + '님의 나이는 ' + str(age) + '살입니다')\n",
    "print(name, '님의 나이는 ', age, '살입니다', sep='')"
   ]
  },
  {
   "cell_type": "code",
   "execution_count": 52,
   "id": "3c15ee1f",
   "metadata": {},
   "outputs": [
    {
     "name": "stdout",
     "output_type": "stream",
     "text": [
      "홍길동님의 나이는 30살입니다\n",
      "홍길동님의 나이는 30살입니다\n"
     ]
    }
   ],
   "source": [
    "# 제일 많이 안쓰는것\n",
    "# %s:문자, %d:10진수, %f:실수\n",
    "print(\"%s님의 나이는 %d살입니다\"%(name, age))\n",
    "\n",
    "# 중간정도 많이 쓰는것\n",
    "print(f'{name}님의 나이는 {age}살입니다')"
   ]
  },
  {
   "cell_type": "code",
   "execution_count": 55,
   "id": "872cc832",
   "metadata": {},
   "outputs": [
    {
     "name": "stdout",
     "output_type": "stream",
     "text": [
      "홍길동님의 나이는 30살입니다\n",
      "홍길동님의 나이는 30살입니다\n",
      "  홍길동님의 나이는 30_살입니다\n"
     ]
    }
   ],
   "source": [
    "#제일 많이 쓰는것\n",
    "print(\"{}님의 나이는 {}살입니다\".format(name, age))\n",
    "print(\"{0}님의 나이는 {1}살입니다\".format(name, age))\n",
    "print(\"{1:>5s}님의 나이는 {0:_<3d}살입니다\".format(age, name))"
   ]
  },
  {
   "cell_type": "markdown",
   "id": "e898a77c",
   "metadata": {},
   "source": [
    "## 4.2 format() 문법\n",
    "\n",
    "#[]는 생략 가능하다는 것 말함\n",
    "- \"{[인덱스]:[공백대체문자].[정렬방식].[자릿수].[타입]}\".format(변수명)\n",
    "    \n",
    "    * 인덱스 : format 함수안의 매개변수 순서\n",
    "    * 정렬방식 : <(왼쪽정렬), >(오른쪽정렬), ^(가운데정렬)\n",
    "    * 정수자릿수 : 출력할 자릿수\n",
    "    * 실수자릿수 : 전체출력될 자릿수.변수중에 출력할 자릿수 ex)10.2\n",
    "    * 타입 : d(10진수), o(8진수), x(16진수), b(2진수), f(실수), s(문자)\n",
    "    * 공백대체문자는 정렬방식을 명시하여야함"
   ]
  },
  {
   "cell_type": "code",
   "execution_count": 57,
   "id": "3ab4e27b",
   "metadata": {},
   "outputs": [
    {
     "name": "stdout",
     "output_type": "stream",
     "text": [
      "[12345] [     12345] [12345]\n",
      "[Hello] [Hello     ] [Hello]\n"
     ]
    }
   ],
   "source": [
    "# 숫자의 경우 오른쪽 정렬(기본)\n",
    "# 문자의 경우 왼쪽 정렬(기본)\n",
    "# 변수보다 작은 자리수를 지정하면 자릿수가 무시되고 다 출력(정수자릿수)\n",
    "\n",
    "a = 12345\n",
    "s = 'Hello'\n",
    "print('[{0}] [{0:10}] [{0:3}]'.format(a))\n",
    "print('[{0}] [{0:10}] [{0:3}]'.format(s))"
   ]
  },
  {
   "cell_type": "code",
   "execution_count": 60,
   "id": "e8cbec35",
   "metadata": {},
   "outputs": [
    {
     "name": "stdout",
     "output_type": "stream",
     "text": [
      "[10  ] [ 20 ] [   3]\n"
     ]
    }
   ],
   "source": [
    "# 정렬방식 : <,^,>\n",
    "\n",
    "a, b, c = 10, 20, 3\n",
    "print('[{:<4}] [{:^4}] [{:>4}]'.format(a,b,c)) # 블럭 잡고 ''누르면 앞뒤로 ''넣어줌"
   ]
  },
  {
   "cell_type": "code",
   "execution_count": 69,
   "id": "39a205e5",
   "metadata": {},
   "outputs": [
    {
     "name": "stdout",
     "output_type": "stream",
     "text": [
      "[$10.00] [ 12.57] [____He]\n"
     ]
    }
   ],
   "source": [
    "# 실수 자릿수 ex)10.2f:전체 10자리중 소수점 2자리 / 5.2f:전체 5자리 중 소수점 2자리(반올림해서 올라감)\n",
    "# str을 6.2 로 입력하면 전체 6자리 중 2자리 출력됨\n",
    "\n",
    "a = 10\n",
    "f = 12.569\n",
    "s = 'Hello'\n",
    "\n",
    "# 공백대체문자 입력시 무조건 정렬방식을 명시해야함\n",
    "print('[{:$>6.2f}] [{:6.2f}] [{:_>6.2}]'.format(a,f,s))"
   ]
  },
  {
   "cell_type": "code",
   "execution_count": 73,
   "id": "b9519d3b",
   "metadata": {},
   "outputs": [
    {
     "name": "stdout",
     "output_type": "stream",
     "text": [
      "[      +123], [      -123], [       123]\n",
      "[       123], [-      123], [       123]\n",
      "[+      123], [-      123], [       123]\n"
     ]
    }
   ],
   "source": [
    "# 자릿수 앞에 +를 붙이면 양수의 경우도 부호 출력\n",
    "# 부호나 소수점도 자리수에 포함\n",
    "\n",
    "a,b = 123, -123\n",
    "print('[{:+10}], [{:+10}], [{:10}]'.format(a,b,a))\n",
    "print('[{:=10}], [{:=10}], [{:10}]'.format(a,b,a))\n",
    "print('[{:=+10}], [{:=+10}], [{:10}]'.format(a,b,a))"
   ]
  },
  {
   "cell_type": "code",
   "execution_count": 81,
   "id": "3a93b28c",
   "metadata": {},
   "outputs": [
    {
     "name": "stdout",
     "output_type": "stream",
     "text": [
      "10진수 [  15]\n",
      "8 진수 [  17]\n",
      "16진수 [   f]\n",
      "2 진수 [1111]\n"
     ]
    }
   ],
   "source": [
    "# 10진수, 8진수, 16진수, 2진수 출력\n",
    "# 16진수 0,1,2,3,4,5,6,7,8,9,A(10),B(11),C(12),D(13),E(14),F(15)\n",
    "\n",
    "a = 15\n",
    "print(\"10진수 [{:4d}]\".format(a))\n",
    "print(\"8 진수 [{:4o}]\".format(a))\n",
    "print(\"16진수 [{:4x}]\".format(a))\n",
    "print(\"2 진수 [{:4b}]\".format(a))"
   ]
  },
  {
   "cell_type": "code",
   "execution_count": 93,
   "id": "299d5d9a",
   "metadata": {},
   "outputs": [
    {
     "name": "stdout",
     "output_type": "stream",
     "text": [
      "[    +2.785]\n",
      "[   +2.7850]\n",
      "[    +2.785]\n",
      "[    +2.785]\n"
     ]
    }
   ],
   "source": [
    "a = 2.785\n",
    "sign1 = \"+\"\n",
    "width1 = 10\n",
    "precision1 = 4\n",
    "print('[{:+10.4}]'.format(a))\n",
    "print('[{:+10.4f}]'.format(a))\n",
    "print('[{:{}{}.{}}]'.format(a,sign,width,precision)) # a만 출력하는건데 가독성이 너무 떨어진다.\n",
    "print('[{:{sign}{width}.{precision}}]'.format(a,\n",
    "                                             sign=sign1, width=width1, precision=precision1))"
   ]
  },
  {
   "cell_type": "markdown",
   "id": "d0b79ddc",
   "metadata": {},
   "source": [
    "## 4.3 날짜출력"
   ]
  },
  {
   "cell_type": "code",
   "execution_count": 95,
   "id": "07de5a29",
   "metadata": {},
   "outputs": [
    {
     "data": {
      "text/plain": [
       "datetime.datetime(2025, 9, 11, 0, 0)"
      ]
     },
     "execution_count": 95,
     "metadata": {},
     "output_type": "execute_result"
    }
   ],
   "source": [
    "# import datetime # datetime 모듈 (파이썬 프로그램 파일 datetime.py) 전체를 메모리 load\n",
    "from datetime import datetime # datetime 모듈안의 datetime 만 메모리 load\n",
    "thatday1 = datetime(2025, 9, 11) # 25년9월11일 0시0분0초\n",
    "thatday2 = datetime(2025, 9, 11, 14, 30, 0)\n",
    "thatday1"
   ]
  },
  {
   "cell_type": "code",
   "execution_count": 103,
   "id": "505ba2fc",
   "metadata": {},
   "outputs": [
    {
     "name": "stdout",
     "output_type": "stream",
     "text": [
      "25년 09월 11일 00시 00분 00초\n",
      "25년 09월 11일 PM 02시 30분 00초\n"
     ]
    }
   ],
   "source": [
    "# Y(년도4자리), y(년도2자리), m(월), d(일), p(am/pm), I(12시간), H(24시간), M(분), S(초)\n",
    "\n",
    "print('{:%y년 %m월 %d일 %H시 %M분 %S초}'.format(thatday1))\n",
    "print('{:%y년 %m월 %d일 %p %I시 %M분 %S초}'.format(thatday2))"
   ]
  },
  {
   "cell_type": "code",
   "execution_count": 104,
   "id": "b118053a",
   "metadata": {},
   "outputs": [
    {
     "data": {
      "text/plain": [
       "'25년 09월 11일 00시 00분 00초'"
      ]
     },
     "execution_count": 104,
     "metadata": {},
     "output_type": "execute_result"
    }
   ],
   "source": [
    "# 훨씬 많이 쓰는 방식\n",
    "\n",
    "thatday1.strftime(\"%y년 %m월 %d일 %H시 %M분 %S초\")"
   ]
  },
  {
   "cell_type": "code",
   "execution_count": 105,
   "id": "95c46bac",
   "metadata": {},
   "outputs": [
    {
     "data": {
      "text/plain": [
       "'25년 09월 11일 PM 02시 30분 00초'"
      ]
     },
     "execution_count": 105,
     "metadata": {},
     "output_type": "execute_result"
    }
   ],
   "source": [
    "thatday2.strftime('%y년 %m월 %d일 %p %I시 %M분 %S초')"
   ]
  },
  {
   "cell_type": "code",
   "execution_count": 107,
   "id": "698cb2c6",
   "metadata": {},
   "outputs": [
    {
     "data": {
      "text/plain": [
       "datetime.timedelta(days=4, seconds=53710, microseconds=58284)"
      ]
     },
     "execution_count": 107,
     "metadata": {},
     "output_type": "execute_result"
    }
   ],
   "source": [
    "# 현재의 날짜와 시간\n",
    "\n",
    "# datetime(2025,9,11, 14,30) : 특정한 날짜와 시간\n",
    "now = datetime.now() # 지금\n",
    "now - thatday1 # 날짜형 변수끼리 연산 가능"
   ]
  },
  {
   "cell_type": "code",
   "execution_count": 110,
   "id": "1814fd43",
   "metadata": {},
   "outputs": [
    {
     "name": "stdout",
     "output_type": "stream",
     "text": [
      "25-09-15 PM 02:55\n",
      "25-09-15 PM 02:55\n"
     ]
    }
   ],
   "source": [
    "# 지금(날짜와 시간) 원하는 스타일로 출력\n",
    "\n",
    "print('{:%y-%m-%d %p %I:%M}'.format(now))\n",
    "print(now.strftime('%y-%m-%d %p %I:%M')) # 이거를 제일 많이 씀"
   ]
  },
  {
   "cell_type": "code",
   "execution_count": 111,
   "id": "613ddd83",
   "metadata": {},
   "outputs": [
    {
     "data": {
      "text/plain": [
       "'25-09-15 PM 02:59'"
      ]
     },
     "execution_count": 111,
     "metadata": {},
     "output_type": "execute_result"
    }
   ],
   "source": [
    "# 지금을 문자열로 전환하는 함수\n",
    "\n",
    "from time import strftime\n",
    "strftime('%y-%m-%d %p %I:%M')"
   ]
  }
 ],
 "metadata": {
  "kernelspec": {
   "display_name": "Python 3 (ipykernel)",
   "language": "python",
   "name": "python3"
  },
  "language_info": {
   "codemirror_mode": {
    "name": "ipython",
    "version": 3
   },
   "file_extension": ".py",
   "mimetype": "text/x-python",
   "name": "python",
   "nbconvert_exporter": "python",
   "pygments_lexer": "ipython3",
   "version": "3.10.9"
  },
  "toc": {
   "base_numbering": 1,
   "nav_menu": {},
   "number_sections": false,
   "sideBar": true,
   "skip_h1_title": false,
   "title_cell": "Table of Contents",
   "title_sidebar": "Contents",
   "toc_cell": false,
   "toc_position": {
    "height": "calc(100% - 180px)",
    "left": "10px",
    "top": "150px",
    "width": "190px"
   },
   "toc_section_display": true,
   "toc_window_display": true
  }
 },
 "nbformat": 4,
 "nbformat_minor": 5
}
