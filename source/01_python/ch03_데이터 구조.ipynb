{
 "cells": [
  {
   "cell_type": "code",
   "execution_count": 1,
   "id": "a8788e34",
   "metadata": {},
   "outputs": [
    {
     "data": {
      "text/html": [
       "\n",
       "<style>\n",
       "div.container{width:90% !important;}\n",
       "div.cell.code_cell.rendered{width:100%;}\n",
       "div.input_prompt{padding:0px;}\n",
       "div.CodeMirror {font-family:Consolas; font-size:12pt;}\n",
       "div.text_cell_render.rendered_html{font-size:12pt;}\n",
       "div.output {font-size:12pt; font-weight:bold;}\n",
       "div.input {font-family:Consolas; font-size:12pt;}\n",
       "div.prompt {min-width:70px;}\n",
       "div#toc-wrapper{padding-top:120px;}\n",
       "div.text_cell_render ul li{font-size:12pt;padding:5px;}\n",
       "table.dataframe{font-size:12px;}\n",
       "</style>\n"
      ],
      "text/plain": [
       "<IPython.core.display.HTML object>"
      ]
     },
     "metadata": {},
     "output_type": "display_data"
    }
   ],
   "source": [
    "from IPython.display import display, HTML\n",
    "display(HTML(\"\"\"\n",
    "<style>\n",
    "div.container{width:90% !important;}\n",
    "div.cell.code_cell.rendered{width:100%;}\n",
    "div.input_prompt{padding:0px;}\n",
    "div.CodeMirror {font-family:Consolas; font-size:12pt;}\n",
    "div.text_cell_render.rendered_html{font-size:12pt;}\n",
    "div.output {font-size:12pt; font-weight:bold;}\n",
    "div.input {font-family:Consolas; font-size:12pt;}\n",
    "div.prompt {min-width:70px;}\n",
    "div#toc-wrapper{padding-top:120px;}\n",
    "div.text_cell_render ul li{font-size:12pt;padding:5px;}\n",
    "table.dataframe{font-size:12px;}\n",
    "</style>\n",
    "\"\"\"))"
   ]
  },
  {
   "cell_type": "markdown",
   "id": "8e9ef244",
   "metadata": {},
   "source": [
    "<b><font size=\"6\" color=\"red\"> ch03. 데이터 구조 </font></b>\n",
    "\n",
    "- 리스트[80,20], 튜플(90,20), 딕셔너리{'name':'홍','score':99}, 셋{10,20}\n",
    "\n",
    "# 1절. 리스트\n",
    "\n",
    "\n",
    "## 1.1 리스트 만들기\n",
    "- []를 이용해서 만들며, 여러개 값(여러 타입)을 하나의 변수에 저장/관리할 수 있음\n",
    "- list()함수 이용도 가능\n",
    "- 인덱스 : 각 요소의 위치. 인덱스는 0부터 시작. 맨마지막 인덱스는 -1\n",
    "- 슬라이싱([from:to:step]) : 부분 데이터셋 추출\n",
    "- 인덱스와 슬라이싱을 이용해서 쓰기와 읽기 지원"
   ]
  },
  {
   "cell_type": "code",
   "execution_count": 6,
   "id": "a60fd3c8",
   "metadata": {},
   "outputs": [
    {
     "data": {
      "text/plain": [
       "['apple', 'apple', 'orange', 'grape']"
      ]
     },
     "execution_count": 6,
     "metadata": {},
     "output_type": "execute_result"
    }
   ],
   "source": [
    "# 이렇게 수정이 가능함. ()튜플은 수정 불가능.\n",
    "\n",
    "fruit = 'banana'\n",
    "fruits = ['banana','apple','orange','grape']\n",
    "fruits[0] = 'apple'\n",
    "fruits"
   ]
  },
  {
   "cell_type": "code",
   "execution_count": 7,
   "id": "ea526c4c",
   "metadata": {},
   "outputs": [
    {
     "data": {
      "text/plain": [
       "list"
      ]
     },
     "execution_count": 7,
     "metadata": {},
     "output_type": "execute_result"
    }
   ],
   "source": [
    "fruit = 'banana'\n",
    "fruits = ['banana','apple','orange','grape']\n",
    "type(fruits)"
   ]
  },
  {
   "cell_type": "code",
   "execution_count": 9,
   "id": "e758f244",
   "metadata": {},
   "outputs": [
    {
     "name": "stdout",
     "output_type": "stream",
     "text": [
      "['banana', 'apple', 'orange', 'grape']\n",
      "grape\n"
     ]
    }
   ],
   "source": [
    "print(fruits)\n",
    "print(fruits[3]) # 인덱싱을 이용한 읽기\n",
    "#print(fruits[4]) 없는 인덱싱시 에러"
   ]
  },
  {
   "cell_type": "code",
   "execution_count": 11,
   "id": "ffe67966",
   "metadata": {},
   "outputs": [
    {
     "name": "stdout",
     "output_type": "stream",
     "text": [
      "['mango', 'apple', 'orange', 'grape']\n"
     ]
    }
   ],
   "source": [
    "fruits[0] = 'mango' # 인덱싱을 이용한 쓰기\n",
    "print(fruits)"
   ]
  },
  {
   "cell_type": "code",
   "execution_count": 17,
   "id": "5fafceca",
   "metadata": {},
   "outputs": [
    {
     "name": "stdout",
     "output_type": "stream",
     "text": [
      "x=mango\n",
      "y=apple\n",
      "z=orange\n"
     ]
    }
   ],
   "source": [
    "fruits = ['mango', 'apple', 'orange']\n",
    "x, y, z = ['mango', 'apple', 'orange']\n",
    "print('x={}'.format(x))\n",
    "print(f'y={y}')\n",
    "print(f'z={z}')"
   ]
  },
  {
   "cell_type": "code",
   "execution_count": 18,
   "id": "8b16dd65",
   "metadata": {},
   "outputs": [
    {
     "data": {
      "text/plain": [
       "range(0, 10)"
      ]
     },
     "execution_count": 18,
     "metadata": {},
     "output_type": "execute_result"
    }
   ],
   "source": [
    "# range(from, to, by) : from부터 to앞까지 by씩 증가하는 나열 가능한 자료\n",
    "        # 숫자를 순차적으로 사용할 수 있게\n",
    "        # from 생략시 0, by 생략시 1 (to는 생략불가)\n",
    "range(0, 10, 1) # = range(10) = [0,1,2,3,4,5,6,7,8,9]"
   ]
  },
  {
   "cell_type": "code",
   "execution_count": 19,
   "id": "871e8983",
   "metadata": {},
   "outputs": [
    {
     "data": {
      "text/plain": [
       "[0, 1, 2, 3, 4, 5, 6, 7, 8, 9]"
      ]
     },
     "execution_count": 19,
     "metadata": {},
     "output_type": "execute_result"
    }
   ],
   "source": [
    "list(range(10)) # (0, 10)이 0~9까지 포함하는게 안보인다. 그럼 리스트 함수로 감싸보면 다 보인다."
   ]
  },
  {
   "cell_type": "code",
   "execution_count": 21,
   "id": "0de8fa3c",
   "metadata": {},
   "outputs": [
    {
     "data": {
      "text/plain": [
       "[10, 8, 6, 4, 2, 0]"
      ]
     },
     "execution_count": 21,
     "metadata": {},
     "output_type": "execute_result"
    }
   ],
   "source": [
    "list(range(10, -1, -2)) # range 는 독자적 보다는 다른 함수와 함께 많이 쓰임."
   ]
  },
  {
   "cell_type": "code",
   "execution_count": 23,
   "id": "95289dd6",
   "metadata": {
    "collapsed": true
   },
   "outputs": [
    {
     "name": "stdout",
     "output_type": "stream",
     "text": [
      "0\n",
      "1\n",
      "2\n",
      "3\n",
      "4\n",
      "5\n",
      "6\n",
      "7\n",
      "8\n",
      "9\n"
     ]
    }
   ],
   "source": [
    "#for i in [0,1,2,3,4,5,6,7,8,9]]:\n",
    "#    print(i)\n",
    "#이렇게 쓰는것과 동일.\n",
    "\n",
    "for i in range(10):\n",
    "    print(i)"
   ]
  },
  {
   "cell_type": "code",
   "execution_count": 27,
   "id": "0790c4f9",
   "metadata": {},
   "outputs": [
    {
     "name": "stdout",
     "output_type": "stream",
     "text": [
      "0번째 과일은 mango\n",
      "1번째 과일은 apple\n",
      "2번째 과일은 orange\n",
      "0번째 과일은 mango\n",
      "1번째 과일은 apple\n",
      "2번째 과일은 orange\n"
     ]
    }
   ],
   "source": [
    "fruits = ['mango', 'apple', 'orange']\n",
    "# print('{}번째 과일은 {}'.format(0,fruits[0]))\n",
    "# print('{}번째 과일은 {}'.format(1,fruits[1]))\n",
    "# print('{}번째 과일은 {}'.format(1,fruits[1]))\n",
    "\n",
    "# 이건 리스트 내의 개수를 알고있다는 전제라서 하드코드라 싫어한다고함\n",
    "for idx in range(3):\n",
    "    print('{}번째 과일은 {}'.format(idx,fruits[idx]))\n",
    "    \n",
    "# 제일 없어보이는 로직    \n",
    "for idx in range(len(fruits)):\n",
    "    print('{}번째 과일은 {}'.format(idx,fruits[idx]))"
   ]
  },
  {
   "cell_type": "code",
   "execution_count": 30,
   "id": "292a408a",
   "metadata": {},
   "outputs": [
    {
     "data": {
      "text/plain": [
       "[(0, 'mango'), (1, 'apple'), (2, 'orange')]"
      ]
     },
     "execution_count": 30,
     "metadata": {},
     "output_type": "execute_result"
    }
   ],
   "source": [
    "list(enumerate(fruits))"
   ]
  },
  {
   "cell_type": "code",
   "execution_count": 32,
   "id": "dae0ca3c",
   "metadata": {},
   "outputs": [
    {
     "name": "stdout",
     "output_type": "stream",
     "text": [
      "0번째 과일은 mango\n",
      "1번째 과일은 apple\n",
      "2번째 과일은 orange\n"
     ]
    }
   ],
   "source": [
    "#있어보이는 로직(인덱스가 필요한 경우)\n",
    "\n",
    "for i, fruit in enumerate(fruits):  #[(0, 'mango'), (1, 'apple'), (2, 'orange')] 0과 mango 두개의 변수가 있으니 변수 이름도 두개를 넣어줘야함\n",
    "    print(f'{i}번째 과일은 {fruit}')"
   ]
  },
  {
   "cell_type": "code",
   "execution_count": 34,
   "id": "b7455283",
   "metadata": {},
   "outputs": [
    {
     "name": "stdout",
     "output_type": "stream",
     "text": [
      "mango입니다\n",
      "apple입니다\n",
      "orange입니다\n"
     ]
    }
   ],
   "source": [
    "# 변수가 하나일 경우는 enumerate말고 그냥 리스트로\n",
    "\n",
    "for fruit in fruits: #['mango','apple','orange']\n",
    "    print(f'{fruit}입니다')"
   ]
  },
  {
   "cell_type": "code",
   "execution_count": 39,
   "id": "385ffa1b",
   "metadata": {},
   "outputs": [
    {
     "data": {
      "text/plain": [
       "('2', 5)"
      ]
     },
     "execution_count": 39,
     "metadata": {},
     "output_type": "execute_result"
    }
   ],
   "source": [
    "# 리스트는 여러 타입의 데이터를 담을 수 있음\n",
    "\n",
    "numbers = [0, True, '2', [2,3], [4,5,6]]\n",
    "numbers[2], numbers[4][1] # 리스트 내의 리스트 추출방법"
   ]
  },
  {
   "cell_type": "code",
   "execution_count": 40,
   "id": "488912d3",
   "metadata": {},
   "outputs": [
    {
     "name": "stdout",
     "output_type": "stream",
     "text": [
      "[[1, 2, 3, 4, 5], [10, 20, 30, 40, 50], [1, 3, 5, 7, 9], [2, 4, 6, 8, 10]]\n"
     ]
    }
   ],
   "source": [
    "# 2차원 리스트\n",
    "\n",
    "numbers = [1,2,3,4,5]\n",
    "\n",
    "             #0열 1열 2열 3열 4열\n",
    "numbers_2d = [[1,2,3,4,5],      #0행\n",
    "              [10,20,30,40,50], #1행\n",
    "              [1,3,5,7,9],      #2행\n",
    "              [2,4,6,8,10]]     #3행\n",
    "print(numbers_2d) \n",
    "\n",
    "#nubers_2d 의 데이터는 20개가 아니라 4개다."
   ]
  },
  {
   "cell_type": "code",
   "execution_count": 41,
   "id": "777654f2",
   "metadata": {},
   "outputs": [
    {
     "data": {
      "text/plain": [
       "50"
      ]
     },
     "execution_count": 41,
     "metadata": {},
     "output_type": "execute_result"
    }
   ],
   "source": [
    "# 특정행, 특정열 데이터 인덱싱\n",
    "\n",
    "numbers_2d[1][4] #1행 4열"
   ]
  },
  {
   "cell_type": "code",
   "execution_count": 43,
   "id": "3984cd30",
   "metadata": {},
   "outputs": [
    {
     "name": "stdout",
     "output_type": "stream",
     "text": [
      "4 5\n"
     ]
    }
   ],
   "source": [
    "print(len(numbers_2d), len(numbers_2d[0])) #0행의 리스트 내에 몇개가 있나 추가로 물어본 것"
   ]
  },
  {
   "cell_type": "code",
   "execution_count": 46,
   "id": "123809b7",
   "metadata": {},
   "outputs": [
    {
     "name": "stdout",
     "output_type": "stream",
     "text": [
      "1\t2\t3\t4\t5\t\n",
      "10\t20\t30\t40\t50\t\n",
      "1\t3\t5\t7\t9\t\n",
      "2\t4\t6\t8\t10\t\n"
     ]
    }
   ],
   "source": [
    "# 이건 데이터만 출력하는것\n",
    "\n",
    "for row in numbers_2d:\n",
    "    for item in row:\n",
    "        print(item, end='\\t') # print 내에 end 포함되어있어서 보기 힘드니까 end 대신 tab으로 바꾸라는 명령\n",
    "    print()  # end(\\n)이 숨어있어서 1행으로 넘어갈때 엔터해라는 소리"
   ]
  },
  {
   "cell_type": "code",
   "execution_count": 50,
   "id": "c8d1c2ab",
   "metadata": {},
   "outputs": [
    {
     "name": "stdout",
     "output_type": "stream",
     "text": [
      "0행0열 : 1\t0행1열 : 2\t0행2열 : 3\t0행3열 : 4\t0행4열 : 5\t\n",
      "1행0열 : 10\t1행1열 : 20\t1행2열 : 30\t1행3열 : 40\t1행4열 : 50\t\n",
      "2행0열 : 1\t2행1열 : 3\t2행2열 : 5\t2행3열 : 7\t2행4열 : 9\t\n",
      "3행0열 : 2\t3행1열 : 4\t3행2열 : 6\t3행3열 : 8\t3행4열 : 10\t\n"
     ]
    }
   ],
   "source": [
    "for i in range(len(numbers_2d)):         # i : 행\n",
    "    for j in range(len(numbers_2d[i])):  # j : 열\n",
    "        print(f'{i}행{j}열 : {numbers_2d[i][j]}', end='\\t')\n",
    "    print() # 개행 : 글의 줄을 바꾸는 것을 의미하며, 텍스트의 다음 줄로 이동하는 '줄 바꿈'을 뜻함"
   ]
  },
  {
   "cell_type": "code",
   "execution_count": 48,
   "id": "2630c9cb",
   "metadata": {},
   "outputs": [
    {
     "data": {
      "text/plain": [
       "(4, 5, 5, 5)"
      ]
     },
     "execution_count": 48,
     "metadata": {},
     "output_type": "execute_result"
    }
   ],
   "source": [
    "len(numbers_2d), len(numbers_2d[0]), len(numbers_2d[1]), len(numbers_2d[2])"
   ]
  },
  {
   "cell_type": "code",
   "execution_count": 51,
   "id": "d2ee03a0",
   "metadata": {},
   "outputs": [
    {
     "data": {
      "text/plain": [
       "([(0, [1, 2, 3, 4, 5]),\n",
       "  (1, [10, 20, 30, 40, 50]),\n",
       "  (2, [1, 3, 5, 7, 9]),\n",
       "  (3, [2, 4, 6, 8, 10])],\n",
       " [(0, 1), (1, 2), (2, 3), (3, 4), (4, 5)])"
      ]
     },
     "execution_count": 51,
     "metadata": {},
     "output_type": "execute_result"
    }
   ],
   "source": [
    "list(enumerate(numbers_2d)), list(enumerate(numbers_2d[0]))"
   ]
  },
  {
   "cell_type": "code",
   "execution_count": 52,
   "id": "819b79f1",
   "metadata": {},
   "outputs": [
    {
     "name": "stdout",
     "output_type": "stream",
     "text": [
      "0행0열 : 1\t0행1열 : 2\t0행2열 : 3\t0행3열 : 4\t0행4열 : 5\t\n",
      "1행0열 : 10\t1행1열 : 20\t1행2열 : 30\t1행3열 : 40\t1행4열 : 50\t\n",
      "2행0열 : 1\t2행1열 : 3\t2행2열 : 5\t2행3열 : 7\t2행4열 : 9\t\n",
      "3행0열 : 2\t3행1열 : 4\t3행2열 : 6\t3행3열 : 8\t3행4열 : 10\t\n"
     ]
    }
   ],
   "source": [
    "# range 쓰지 않고 enumerate 쓰는 방법\n",
    "\n",
    "for i,row in enumerate(numbers_2d):\n",
    "    for j, item in enumerate(numbers_2d[i]):\n",
    "        print('{}행{}열 : {}'.format(i,j,numbers_2d[i][j]), end='\\t')\n",
    "    print() # 개행"
   ]
  },
  {
   "cell_type": "markdown",
   "id": "01f390a9",
   "metadata": {},
   "source": [
    "## 1.2 기본정보 조회"
   ]
  },
  {
   "cell_type": "code",
   "execution_count": 53,
   "id": "9b3ffe9f",
   "metadata": {},
   "outputs": [],
   "source": [
    "numbers = [1,12,3,4,5]\n",
    "numbers_2d = [[100,0,1,2],\n",
    "             [9,100,100],\n",
    "             [59,100,130]]"
   ]
  },
  {
   "cell_type": "code",
   "execution_count": 54,
   "id": "eb65f9f9",
   "metadata": {},
   "outputs": [
    {
     "data": {
      "text/plain": [
       "(5, 3)"
      ]
     },
     "execution_count": 54,
     "metadata": {},
     "output_type": "execute_result"
    }
   ],
   "source": [
    "# item 수\n",
    "\n",
    "len(numbers), len(numbers_2d)"
   ]
  },
  {
   "cell_type": "code",
   "execution_count": 60,
   "id": "ee5459ca",
   "metadata": {},
   "outputs": [
    {
     "data": {
      "text/plain": [
       "(1, [9, 100, 100], 12, [100, 0, 1, 2])"
      ]
     },
     "execution_count": 60,
     "metadata": {},
     "output_type": "execute_result"
    }
   ],
   "source": [
    "# 최소값, 최대값\n",
    "# 2차원 list의 최소/최대값 : 부분리스트 중 첫요소가 가장 작은값/큰값\n",
    "\n",
    "min(numbers), min(numbers_2d), max(numbers), max(numbers_2d)"
   ]
  },
  {
   "cell_type": "code",
   "execution_count": 61,
   "id": "8f9decef",
   "metadata": {},
   "outputs": [
    {
     "data": {
      "text/plain": [
       "('apple', 'orange')"
      ]
     },
     "execution_count": 61,
     "metadata": {},
     "output_type": "execute_result"
    }
   ],
   "source": [
    "# list의 데이터가 문자일 경우 ascii 코드값으로 min과 max 적용\n",
    "\n",
    "fruits = ['mango', 'apple', 'orange']\n",
    "min(fruits), max(fruits)"
   ]
  },
  {
   "cell_type": "code",
   "execution_count": 69,
   "id": "fd97d42a",
   "metadata": {},
   "outputs": [
    {
     "name": "stdout",
     "output_type": "stream",
     "text": [
      "오름차순 정렬 : [1, 3, 4, 5, 12]\n",
      "내림차순 정렬 : [12, 5, 4, 3, 1]\n",
      "합 : 25\n",
      "평균 : 5.0\n",
      "sorted 함수 사용시 리스트의 내용이 바뀌지 않음 : [1, 12, 3, 4, 5]\n"
     ]
    }
   ],
   "source": [
    "# 정렬하기\n",
    "# numbers = [1,12,3,4,'5'] 이럴경우 에러남. 소트를 쓸 경우에는 같은 형식끼리\n",
    "\n",
    "numbers = [1,12,3,4,5]\n",
    "print('오름차순 정렬 :', sorted(numbers))\n",
    "print('내림차순 정렬 :', sorted(numbers, reverse=True))\n",
    "print('합 :', sum(numbers))\n",
    "print('평균 :', sum(numbers)/len(numbers))\n",
    "print('sorted 함수 사용시 리스트의 내용이 바뀌지 않음 :', numbers)"
   ]
  },
  {
   "cell_type": "markdown",
   "id": "fa9389bf",
   "metadata": {},
   "source": [
    "## 1.3 요소추가\n",
    "\n",
    "\n",
    "- `+` : 두 리스트 연결\n",
    "- `*` : 리스트를 곱한 수 만큼 반복\n",
    "- append() : 요소 맨뒤에 추가\n",
    "- extend(리스트) : 리스트를 요소별로 맨 뒤에 추가\n",
    "- inser(idx, 값) : idx번째 인덱스 위치에 값 추가\n"
   ]
  },
  {
   "cell_type": "code",
   "execution_count": 70,
   "id": "421e9c17",
   "metadata": {},
   "outputs": [
    {
     "data": {
      "text/plain": [
       "[1, 2, 3, 1, 2, 3]"
      ]
     },
     "execution_count": 70,
     "metadata": {},
     "output_type": "execute_result"
    }
   ],
   "source": [
    "numbers = [1, 2, 3]\n",
    "numbers = numbers + numbers # 리스트 연결\n",
    "numbers"
   ]
  },
  {
   "cell_type": "code",
   "execution_count": 71,
   "id": "7ad3bc49",
   "metadata": {},
   "outputs": [
    {
     "name": "stdout",
     "output_type": "stream",
     "text": [
      "[1, 2, 3, 1, 2, 3, 1, 2, 3]\n",
      "[1, 2, 3, 1, 2, 3, 1, 2, 3]\n"
     ]
    }
   ],
   "source": [
    "numbers = [1, 2, 3]\n",
    "print(numbers*3) # 곱한 수만큼 반복\n",
    "print(3*numbers)"
   ]
  },
  {
   "cell_type": "code",
   "execution_count": 72,
   "id": "223c88b7",
   "metadata": {},
   "outputs": [
    {
     "data": {
      "text/plain": [
       "[1, 2, 3, 4]"
      ]
     },
     "execution_count": 72,
     "metadata": {},
     "output_type": "execute_result"
    }
   ],
   "source": [
    "numbers.append(4) # 맨 뒤에 4추가\n",
    "numbers"
   ]
  },
  {
   "cell_type": "code",
   "execution_count": 73,
   "id": "ceae43ad",
   "metadata": {},
   "outputs": [
    {
     "data": {
      "text/plain": [
       "[1, 2, 3, 4, [5, 6, 7]]"
      ]
     },
     "execution_count": 73,
     "metadata": {},
     "output_type": "execute_result"
    }
   ],
   "source": [
    "numbers.append([5,6,7]) # 맨 뒤 요소에 [5,6,7] 추가\n",
    "numbers"
   ]
  },
  {
   "cell_type": "code",
   "execution_count": 74,
   "id": "d94202ac",
   "metadata": {},
   "outputs": [
    {
     "data": {
      "text/plain": [
       "[1, 2, 3, 4, 5, 6]"
      ]
     },
     "execution_count": 74,
     "metadata": {},
     "output_type": "execute_result"
    }
   ],
   "source": [
    "numbers = [1, 2, 3]\n",
    "numbers.extend([4,5,6]) # 맨 뒤에 요소별로 4,5,6 각각 추가\n",
    "numbers\n",
    "\n",
    "# append는 무조건 ()안의 내용이 그대로 붙고, extend는 리스트 내용을 요소로 추가"
   ]
  },
  {
   "cell_type": "code",
   "execution_count": 78,
   "id": "d2d84a83",
   "metadata": {},
   "outputs": [
    {
     "data": {
      "text/plain": [
       "['a', 'b', 'c', 'd']"
      ]
     },
     "execution_count": 78,
     "metadata": {},
     "output_type": "execute_result"
    }
   ],
   "source": [
    "lst = ['a', 'b', 'c']\n",
    "lst.append('d')\n",
    "lst"
   ]
  },
  {
   "cell_type": "code",
   "execution_count": 79,
   "id": "b609cdd2",
   "metadata": {},
   "outputs": [
    {
     "data": {
      "text/plain": [
       "['a', 'b', 'c', 'd', 'hello']"
      ]
     },
     "execution_count": 79,
     "metadata": {},
     "output_type": "execute_result"
    }
   ],
   "source": [
    "lst.append('hello')\n",
    "lst"
   ]
  },
  {
   "cell_type": "code",
   "execution_count": 80,
   "id": "9e6cc76b",
   "metadata": {},
   "outputs": [
    {
     "data": {
      "text/plain": [
       "['a', 'b', 'c', 'd', 'hello', 'h', 'e', 'l', 'l', 'o']"
      ]
     },
     "execution_count": 80,
     "metadata": {},
     "output_type": "execute_result"
    }
   ],
   "source": [
    "lst.extend('hello')\n",
    "lst"
   ]
  },
  {
   "cell_type": "code",
   "execution_count": 81,
   "id": "3e560dbe",
   "metadata": {},
   "outputs": [
    {
     "data": {
      "text/plain": [
       "[1, 'xx', 2, 3, 4, 5]"
      ]
     },
     "execution_count": 81,
     "metadata": {},
     "output_type": "execute_result"
    }
   ],
   "source": [
    "# append 정말 많이 쓰고 extend 종종 쓰고 insert 진짜 거의 안씀\n",
    "\n",
    "numbers = [1,2,3,4,5]\n",
    "numbers.insert(1,'xx') # 1번째 인덱스에 'xx' 추가\n",
    "numbers"
   ]
  },
  {
   "cell_type": "markdown",
   "id": "c024c8aa",
   "metadata": {},
   "source": [
    "## 1.4 인덱싱과 요소 갯수\n",
    "\n",
    "- list변수[index] : 인덱스를 이용한 접근\n",
    "- index(찾을데이터) : 해당 찾을 데이터가 있는 요소의 index를 반환\n",
    "- 찾을데이터 in list변수 : 찾을 데이터가 리스트 변수의 요소인지 여부 (없으면 에러나기때문)\n",
    "- count(찾을데이터) : 리스트에서 해당 찾을 데이터의 갯수 반환"
   ]
  },
  {
   "cell_type": "code",
   "execution_count": 83,
   "id": "b4924306",
   "metadata": {},
   "outputs": [
    {
     "data": {
      "text/plain": [
       "(2, 1)"
      ]
     },
     "execution_count": 83,
     "metadata": {},
     "output_type": "execute_result"
    }
   ],
   "source": [
    "numbers = [1, 2, 3, [1,2,3], 1, 2, 3,] \n",
    "numbers.count(2), numbers.count([1,2,3]) # 2가 몇개들었니? 하는 물음인데 [1,2,3]은 하나기 때문에 2개다."
   ]
  },
  {
   "cell_type": "code",
   "execution_count": 84,
   "id": "7efe8fc2",
   "metadata": {},
   "outputs": [
    {
     "data": {
      "text/plain": [
       "0"
      ]
     },
     "execution_count": 84,
     "metadata": {},
     "output_type": "execute_result"
    }
   ],
   "source": [
    "numbers.count(5) # index 쓰기전에 에러나지 않기 위해 먼저 count 씀"
   ]
  },
  {
   "cell_type": "code",
   "execution_count": 85,
   "id": "9eb0c64d",
   "metadata": {},
   "outputs": [
    {
     "name": "stdout",
     "output_type": "stream",
     "text": [
      "True\n",
      "False\n"
     ]
    }
   ],
   "source": [
    "print(2 in numbers) # 2가 numbers 의 요소인지 여부\n",
    "print(5 in numbers)"
   ]
  },
  {
   "cell_type": "code",
   "execution_count": 86,
   "id": "0b05ff3d",
   "metadata": {},
   "outputs": [
    {
     "data": {
      "text/plain": [
       "1"
      ]
     },
     "execution_count": 86,
     "metadata": {},
     "output_type": "execute_result"
    }
   ],
   "source": [
    "numbers.index(2)\n",
    "# numbers.index(5) 이건 에러남. 없으니까. 그러니까 index는 바로 쓰면 안됨."
   ]
  },
  {
   "cell_type": "code",
   "execution_count": 87,
   "id": "d0688fad",
   "metadata": {},
   "outputs": [
    {
     "name": "stdout",
     "output_type": "stream",
     "text": [
      "5가 요소에 포함되지 않습니다\n"
     ]
    }
   ],
   "source": [
    "if 5 in numbers:\n",
    "    print(numbers.index(5))\n",
    "else:\n",
    "    print('5가 요소에 포함되지 않습니다')  # 5가 있니? 하고 물어본 후 else를 쓰지 않으면 이게 실행이 된건지 하다만건지 모르니까 else 까지 쓰는것"
   ]
  },
  {
   "cell_type": "code",
   "execution_count": 88,
   "id": "bcabd082",
   "metadata": {},
   "outputs": [
    {
     "name": "stdout",
     "output_type": "stream",
     "text": [
      "5가 요소에 포함되지 않습니다\n"
     ]
    }
   ],
   "source": [
    "# 이렇게 쓰는 방법도 있지만 잘 안씀. 위에것을 더 많이 쓴다.\n",
    "\n",
    "if numbers.count(5):\n",
    "    print(numbers.index(5))\n",
    "else:\n",
    "    print('5가 요소에 포함되지 않습니다')"
   ]
  },
  {
   "cell_type": "code",
   "execution_count": 99,
   "id": "2a669f9d",
   "metadata": {},
   "outputs": [],
   "source": [
    "def safe_index(lst, item):         # 내가 만들고자 하는 함수이름\n",
    "    '''첫번째 매개변수 lst에서 item 요소가 있는 index를 반환\n",
    "    item 요소가 없으면 -1 반환'''    #shift tab tab 할때 나오는것 작성중\n",
    "    if item in lst:\n",
    "        return lst.index(item)     #lst에서 item이 몇번째 있어? 라고 물어보는것\n",
    "    return -1\n",
    "\n",
    "\n",
    "#요렇게 할필요없이 바로 return 가능\n",
    "# if item in lst:\n",
    "#         return lst.index(item)    \n",
    "# else:    \n",
    "#         return -1 "
   ]
  },
  {
   "cell_type": "code",
   "execution_count": 100,
   "id": "0192bb17",
   "metadata": {},
   "outputs": [
    {
     "data": {
      "text/plain": [
       "-1"
      ]
     },
     "execution_count": 100,
     "metadata": {},
     "output_type": "execute_result"
    }
   ],
   "source": [
    "safe_index(numbers, 5)"
   ]
  },
  {
   "cell_type": "code",
   "execution_count": null,
   "id": "cfbad71c",
   "metadata": {},
   "outputs": [],
   "source": [
    "# import lst\n",
    "# numbers = [1, 2, 3]\n",
    "# lst.safe_index \n",
    "\n",
    "# 이 과정을 하지 않는것이 아래의 from lst import safe_index. 그럼 바로 safe_index를 함수로 사용가능"
   ]
  },
  {
   "cell_type": "code",
   "execution_count": 2,
   "id": "332268ea",
   "metadata": {},
   "outputs": [
    {
     "data": {
      "text/plain": [
       "(1, -1)"
      ]
     },
     "execution_count": 2,
     "metadata": {},
     "output_type": "execute_result"
    }
   ],
   "source": [
    "from lst import safe_index  # lst.py(모듈)안의 safe_index를 메모리에 load\n",
    "numbers = [1, 2, 3]\n",
    "safe_index(numbers, 2), safe_index(numbers, 5)"
   ]
  },
  {
   "cell_type": "code",
   "execution_count": null,
   "id": "f7266f9f",
   "metadata": {},
   "outputs": [],
   "source": [
    "numbers[5] # 벗어난 인덱스로 인덱싱 시  에러"
   ]
  },
  {
   "cell_type": "code",
   "execution_count": 3,
   "id": "ba4c0824",
   "metadata": {},
   "outputs": [
    {
     "data": {
      "text/plain": [
       "[3]"
      ]
     },
     "execution_count": 3,
     "metadata": {},
     "output_type": "execute_result"
    }
   ],
   "source": [
    "numbers[2:5] # 벗어난 인덱스로 슬라이싱 시 에러가 안 남"
   ]
  },
  {
   "cell_type": "markdown",
   "id": "1b718c68",
   "metadata": {},
   "source": [
    "## 1.5 원하는 요소 추출\n",
    "\n",
    "1. 리스트 슬라이싱 : \n",
    "    - [from:to:step] from번째부터 to앞까지 step씩 증가하는 index 값을 추출\n",
    "        \n",
    "        *from 생략시 처음, to 생략시 끝, step 생략시 1\n",
    "    - 인덱스의 범위를 벗어난 값도 에러나지 않습니다.\n",
    "    - 인덱스는 음수도 가능\n",
    "\n",
    "\n",
    "2. <font color=\"red\">**리스트컴프리헨션**</font> : 원하는 조건의 데이터 추출"
   ]
  },
  {
   "cell_type": "code",
   "execution_count": 8,
   "id": "6e478d90",
   "metadata": {},
   "outputs": [
    {
     "name": "stdout",
     "output_type": "stream",
     "text": [
      "[20, 19, 18, 13, 12, 10, 9, 5, 3, 1]\n",
      "[1, 5, 10, 13, 19]\n",
      "[5, 9, 10, 12, 13, 18, 19, 20]\n"
     ]
    }
   ],
   "source": [
    "numbers = [1, 3, 5, 9, 10, 12, 13, 18, 19, 20]\n",
    "print(numbers[::-1]) # 거꾸로 출력\n",
    "print(numbers[::2])  # 짝수 index 값 출력 (짝수를 출력하라는게 아니라 짝수번째 인덱스를 출력)\n",
    "print(numbers[2:100])# 인덱스를 벗어난 슬라이싱 가능"
   ]
  },
  {
   "cell_type": "code",
   "execution_count": 10,
   "id": "94955a4c",
   "metadata": {},
   "outputs": [
    {
     "data": {
      "text/plain": [
       "[1, 3, 5, 9, 10, 12, 13, 18, 19, 20]"
      ]
     },
     "execution_count": 10,
     "metadata": {},
     "output_type": "execute_result"
    }
   ],
   "source": [
    "# 모든 데이터 추출\n",
    "\n",
    "# for data in numbers:\n",
    "#     print(data, end='\\t')\n",
    "# 1\t3\t5\t9\t10\t12\t13\t18\t19\t20\n",
    "\n",
    "[data for data in numbers]"
   ]
  },
  {
   "cell_type": "code",
   "execution_count": 12,
   "id": "a80b81b2",
   "metadata": {},
   "outputs": [
    {
     "data": {
      "text/plain": [
       "[10, 12, 18, 20]"
      ]
     },
     "execution_count": 12,
     "metadata": {},
     "output_type": "execute_result"
    }
   ],
   "source": [
    "# 짝수 데이터 추출\n",
    "\n",
    "# for data in numbers:\n",
    "#     if data%2==0:\n",
    "#         print(data, end=' ')\n",
    "        \n",
    "[data for data in numbers if data%2==0] "
   ]
  },
  {
   "cell_type": "code",
   "execution_count": 13,
   "id": "38f92894",
   "metadata": {},
   "outputs": [
    {
     "data": {
      "text/plain": [
       "[10, 12, 13, 18, 19, 20]"
      ]
     },
     "execution_count": 13,
     "metadata": {},
     "output_type": "execute_result"
    }
   ],
   "source": [
    "# quiz1. numbers 에서 10이상인 요소만 추출\n",
    "\n",
    "[data for data in numbers if data>=10] #data 싫으면 변수이름 앞뒤로 똑같이 바꾸면 됨. (ex.item for item in~)"
   ]
  },
  {
   "cell_type": "code",
   "execution_count": 14,
   "id": "e531a98d",
   "metadata": {},
   "outputs": [
    {
     "data": {
      "text/plain": [
       "['orange', 'apple', 'mango']"
      ]
     },
     "execution_count": 14,
     "metadata": {},
     "output_type": "execute_result"
    }
   ],
   "source": [
    "# quiz2. fruits에서 과일의 글자가 5글자 이상인 과일만 추출\n",
    "fruits = ['orange', 'apple', 'mango', 'kiwi']\n",
    "\n",
    "[data for data in fruits if len(data)>=5]"
   ]
  },
  {
   "cell_type": "code",
   "execution_count": 35,
   "id": "c1c1ac3d",
   "metadata": {},
   "outputs": [
    {
     "data": {
      "text/plain": [
       "[6, 5, 5, 4]"
      ]
     },
     "execution_count": 35,
     "metadata": {},
     "output_type": "execute_result"
    }
   ],
   "source": [
    "# quiz2-1. fruits 리스트의 과일 글자수\n",
    "\n",
    "[len(data) for data in fruits] "
   ]
  },
  {
   "cell_type": "code",
   "execution_count": 33,
   "id": "57416fb8",
   "metadata": {},
   "outputs": [
    {
     "data": {
      "text/plain": [
       "[9, 16, 25]"
      ]
     },
     "execution_count": 33,
     "metadata": {},
     "output_type": "execute_result"
    }
   ],
   "source": [
    "# quiz3. 3이상인 요소들의 제곱을 추출 \n",
    "L = [1,2,3,4,5]\n",
    "\n",
    "[data**2 for data in L if data>=3]  # 추출한 데이터의 제곱을 하는 것은 앞쪽 변수에 **쓰기"
   ]
  },
  {
   "cell_type": "code",
   "execution_count": 34,
   "id": "b49cc094",
   "metadata": {},
   "outputs": [
    {
     "data": {
      "text/plain": [
       "[2, 4, 6, 8, 10]"
      ]
     },
     "execution_count": 34,
     "metadata": {},
     "output_type": "execute_result"
    }
   ],
   "source": [
    "# quiz4. 리스트 요소의 값의 2배를 추출\n",
    "\n",
    "[data*2 for data in L]"
   ]
  },
  {
   "cell_type": "markdown",
   "id": "a916d450",
   "metadata": {},
   "source": [
    "## 1.6 요소 수정하기\n",
    "\n",
    "- 인덱스, 슬라이싱을 이용해서 수정"
   ]
  },
  {
   "cell_type": "code",
   "execution_count": 36,
   "id": "acadbcba",
   "metadata": {},
   "outputs": [
    {
     "data": {
      "text/plain": [
       "[0, 1, 222, 3, 4, 5, 6, 7, 8, 9]"
      ]
     },
     "execution_count": 36,
     "metadata": {},
     "output_type": "execute_result"
    }
   ],
   "source": [
    "numbers = [0,1,2,3,4,5,6,7,8,9]\n",
    "numbers[2] = 222\n",
    "numbers"
   ]
  },
  {
   "cell_type": "code",
   "execution_count": 37,
   "id": "c829287f",
   "metadata": {},
   "outputs": [
    {
     "data": {
      "text/plain": [
       "['xx', 'xx', 'xx', 'xx', 'xx', 'xx', 'xx', 222, 3, 4, 5, 6, 7, 8, 9]"
      ]
     },
     "execution_count": 37,
     "metadata": {},
     "output_type": "execute_result"
    }
   ],
   "source": [
    "# 슬라이싱(step부분 미포함)을 이용하여 부분 리스트를 통째로 수정\n",
    "\n",
    "numbers[0:2] = ['xx','xx','xx','xx','xx','xx','xx']\n",
    "numbers"
   ]
  },
  {
   "cell_type": "code",
   "execution_count": 40,
   "id": "d8c230b9",
   "metadata": {},
   "outputs": [
    {
     "name": "stdout",
     "output_type": "stream",
     "text": [
      "수정전 : [0, 0, 0, 0, 0, 0, 0, 0, 0, 0]\n",
      "수정후 : [9, 0, 9, 0, 9, 0, 9, 0, 9, 0]\n"
     ]
    }
   ],
   "source": [
    "# 슬라이싱(step부분 포함)을 이용하여 부분 수정시 요소 갯수 맞아야 함\n",
    "\n",
    "numbers = [0]*10\n",
    "print('수정전 :', numbers)\n",
    "numbers[0::2] = [9,9,9,9,9]\n",
    "print('수정후 :', numbers)"
   ]
  },
  {
   "cell_type": "markdown",
   "id": "ce6b324d",
   "metadata": {},
   "source": [
    "## 1.7 요소삭제\n",
    "\n",
    "- pop() : 가장 마지막 인덱스의 요소가 반환되고 삭제\n",
    "- pop(idx) : idx번째 요소가 반환되고 삭제\n",
    "- remove(data) : list 안의 data가 삭제\n",
    "- del 리스트변수[idx] : idx번째 요소가 삭제  (반환은 안됨)"
   ]
  },
  {
   "cell_type": "code",
   "execution_count": 44,
   "id": "89661c5b",
   "metadata": {},
   "outputs": [
    {
     "name": "stdout",
     "output_type": "stream",
     "text": [
      "삭제할 데이터 : 5\n",
      "삭제 후 nubers : [1, 2, 3, 4]\n",
      "1번째 삭제한 데이터 : 2\n",
      "1번째 삭제 후 numbers : [1, 3, 4]\n",
      "데이터 1 삭제\n",
      "데이터 1 삭제 후 numbers [3, 4]\n",
      "del numbers[1]\n",
      "[3]\n"
     ]
    }
   ],
   "source": [
    "numbers = [1,2,3,4,5]\n",
    "print(\"삭제할 데이터 :\", numbers.pop())\n",
    "print(\"삭제 후 nubers :\", numbers)\n",
    "print('1번째 삭제한 데이터 :', numbers.pop(1))\n",
    "print('1번째 삭제 후 numbers :', numbers)\n",
    "print('데이터 1 삭제')\n",
    "numbers.remove(1)  # remove도 없는 것 삭제하면 에러남\n",
    "print('데이터 1 삭제 후 numbers', numbers)\n",
    "print('del numbers[1]')\n",
    "del numbers[1]\n",
    "print(numbers)"
   ]
  },
  {
   "cell_type": "code",
   "execution_count": 45,
   "id": "9dfe8116",
   "metadata": {},
   "outputs": [
    {
     "name": "stdout",
     "output_type": "stream",
     "text": [
      "해당 데이터는 없는 item입니다\n"
     ]
    }
   ],
   "source": [
    "# numbers.remove(9)\n",
    "\n",
    "if 9 in numbers:\n",
    "    numbers.remove(9)\n",
    "else:\n",
    "    print('해당 데이터는 없는 item입니다')"
   ]
  },
  {
   "cell_type": "code",
   "execution_count": 46,
   "id": "d7cdaa65",
   "metadata": {},
   "outputs": [
    {
     "data": {
      "text/plain": [
       "[]"
      ]
     },
     "execution_count": 46,
     "metadata": {},
     "output_type": "execute_result"
    }
   ],
   "source": [
    "# 모든 요소를 삭제. numbers 자체를 삭제하는것이 아니라 요소 삭제. numbers를 삭제하려면 del numbers\n",
    "\n",
    "numbers.clear()\n",
    "numbers"
   ]
  },
  {
   "cell_type": "markdown",
   "id": "bc49c39c",
   "metadata": {},
   "source": [
    "## 1.8 정렬하기"
   ]
  },
  {
   "cell_type": "code",
   "execution_count": 49,
   "id": "e4e977da",
   "metadata": {},
   "outputs": [
    {
     "name": "stdout",
     "output_type": "stream",
     "text": [
      "numbers는 변경하지 않고, 정렬결과 : [0, 5, 6, 8, 9]\n",
      "numbers : [9, 5, 0, 8, 6]\n"
     ]
    }
   ],
   "source": [
    "numbers = [9, 5, 0, 8, 6]\n",
    "print('numbers는 변경하지 않고, 정렬결과 :', sorted(numbers))\n",
    "print('numbers :', numbers)"
   ]
  },
  {
   "cell_type": "code",
   "execution_count": 54,
   "id": "77b030e0",
   "metadata": {},
   "outputs": [
    {
     "name": "stdout",
     "output_type": "stream",
     "text": [
      "numbers 오름차순 : [0, 5, 6, 8, 9]\n"
     ]
    }
   ],
   "source": [
    "# numbers 자체를 바꾸는것\n",
    "# numbers 자체가 오름차순 결과로 바뀜 \n",
    "\n",
    "numbers.sort()\n",
    "print('numbers 오름차순 :', numbers)"
   ]
  },
  {
   "cell_type": "code",
   "execution_count": 56,
   "id": "d32a485b",
   "metadata": {},
   "outputs": [
    {
     "name": "stdout",
     "output_type": "stream",
     "text": [
      "numbers 내림차순 : [9, 8, 6, 5, 0]\n"
     ]
    }
   ],
   "source": [
    "numbers.sort(reverse=True)\n",
    "print('numbers 내림차순 :', numbers)"
   ]
  },
  {
   "cell_type": "code",
   "execution_count": 57,
   "id": "9a07839c",
   "metadata": {},
   "outputs": [
    {
     "data": {
      "text/plain": [
       "[0, 5, 6, 8, 9]"
      ]
     },
     "execution_count": 57,
     "metadata": {},
     "output_type": "execute_result"
    }
   ],
   "source": [
    "# 리스트를 역순으로 변경\n",
    "#numbers = numbers[::-1]\n",
    "\n",
    "numbers.reverse()\n",
    "numbers"
   ]
  },
  {
   "cell_type": "markdown",
   "id": "5418f812",
   "metadata": {},
   "source": [
    "## 1.9 리스트 복제"
   ]
  },
  {
   "cell_type": "code",
   "execution_count": 59,
   "id": "c20ceac2",
   "metadata": {},
   "outputs": [
    {
     "name": "stdout",
     "output_type": "stream",
     "text": [
      "원본i = 10, 복사본copied_i = 10 / 원본주소 = 1803123884560, 복사본주소 = 1803123884560\n",
      "원본i = 10, 복사본copied_i = 99 / 원본주소 = 1803123884560, 복사본주소 = 1803123887408\n"
     ]
    }
   ],
   "source": [
    "# 스칼라 데이터의 복제\n",
    "\n",
    "i = 10\n",
    "copied_i = i\n",
    "print(f'원본i = {i}, 복사본copied_i = {copied_i} / 원본주소 = {id(i)}, 복사본주소 = {id(copied_i)}')\n",
    "copied_i = 99\n",
    "print(f'원본i = {i}, 복사본copied_i = {copied_i} / 원본주소 = {id(i)}, 복사본주소 = {id(copied_i)}')"
   ]
  },
  {
   "cell_type": "code",
   "execution_count": 62,
   "id": "83b2631b",
   "metadata": {},
   "outputs": [
    {
     "name": "stdout",
     "output_type": "stream",
     "text": [
      "원본 주소 : 1803243506240\n",
      "복제본 주소 : 1803243506240\n",
      "원본 내용 : [99, 6, 1, 9]\n",
      "복제본 내용 : [99, 6, 1, 9]\n",
      "원본 주소 : 1803243506240\n",
      "복제본 주소 : 1803243506240\n"
     ]
    }
   ],
   "source": [
    "# 데이터 구조의 할당\n",
    "# 스칼라 데이터는 괜찮지만 아래처럼 리스트 등등을 '할당'하면 원본까지 바뀜.이건 복제가 아니다.\n",
    "\n",
    "numbers = [5, 6, 1, 9]\n",
    "new_numbers = numbers  # 할당\n",
    "print('원본 주소 :', id(numbers))\n",
    "print('복제본 주소 :', id(new_numbers))\n",
    "new_numbers[0] = 99\n",
    "print('원본 내용 :', numbers)\n",
    "print('복제본 내용 :', new_numbers)\n",
    "print('원본 주소 :', id(numbers))\n",
    "print('복제본 주소 :', id(new_numbers))"
   ]
  },
  {
   "cell_type": "code",
   "execution_count": 64,
   "id": "a647ebe6",
   "metadata": {},
   "outputs": [
    {
     "name": "stdout",
     "output_type": "stream",
     "text": [
      "원본 내용 : [1, 5, 6, 9]\n",
      "복제본 내용 : [1, 5, 6, 9]\n",
      "원본 주소 : 1803245961472\n",
      "복제본 주소 : 1803245961472\n"
     ]
    }
   ],
   "source": [
    "# 할당. 이것도 원본이 바뀌고 있음\n",
    "\n",
    "numbers = [5, 6, 1, 9]\n",
    "new_numbers = numbers\n",
    "new_numbers.sort()\n",
    "print('원본 내용 :', numbers)\n",
    "print('복제본 내용 :', new_numbers)\n",
    "print('원본 주소 :', id(numbers))\n",
    "print('복제본 주소 :', id(new_numbers))"
   ]
  },
  {
   "cell_type": "code",
   "execution_count": 66,
   "id": "c32ec234",
   "metadata": {},
   "outputs": [
    {
     "name": "stdout",
     "output_type": "stream",
     "text": [
      "원본 : [5, 6, 1, 9]\n",
      "복제본 : [9, 6, 5, 1]\n",
      "원본 주소 : 1803247267008\n",
      "복제본 주소 : 1803247259584\n"
     ]
    }
   ],
   "source": [
    "# 리스트 복제(깊은 복사)\n",
    "\n",
    "numbers = [5, 6, 1, 9]\n",
    "new_numbers = numbers.copy() # numbers를 복제(깊은 복사)\n",
    "new_numbers.sort(reverse=True) # 내림차순 정렬. 그냥 sorted하는 것보다 이게 훨씬 빨라서 이런 방식을 씀.\n",
    "print('원본 :', numbers)\n",
    "print('복제본 :', new_numbers)\n",
    "print('원본 주소 :', id(numbers))\n",
    "print('복제본 주소 :', id(new_numbers))"
   ]
  },
  {
   "cell_type": "code",
   "execution_count": 67,
   "id": "63e666c1",
   "metadata": {},
   "outputs": [
    {
     "name": "stdout",
     "output_type": "stream",
     "text": [
      "정렬전 : ['서울', '대전', '대구', '부산', '하남', '수원', '제주']\n",
      "정렬후 : ['대구', '대전', '부산', '서울', '수원', '제주', '하남']\n"
     ]
    }
   ],
   "source": [
    "city = ['서울', '대전', '대구', '부산', '하남', '수원', '제주']\n",
    "temp = city.copy()\n",
    "temp.sort()\n",
    "print(\"정렬전 :\", city)\n",
    "print('정렬후 :', temp)"
   ]
  },
  {
   "cell_type": "code",
   "execution_count": 68,
   "id": "0215f316",
   "metadata": {},
   "outputs": [
    {
     "name": "stdout",
     "output_type": "stream",
     "text": [
      "정렬전 : ['서울', '대전', '대구', '부산', '하남', '수원', '제주']\n",
      "정렬후 : []\n"
     ]
    }
   ],
   "source": [
    "temp.clear()\n",
    "print(\"정렬전 :\", city)\n",
    "print('정렬후 :', temp)"
   ]
  },
  {
   "cell_type": "markdown",
   "id": "3e35c0ae",
   "metadata": {},
   "source": [
    "# 2절. 튜플\n",
    "\n",
    "- 리스트([])와 유사하지만 **읽기전용**. 수정이 필요없는 데이터에서 사용\n",
    "- 수정이 불가하므로, 튜플에서 데이터 수정, 추가, 삭제 불가\n",
    "- 제공되는 함수도 많지 않음.\n",
    "- ()이용해서 생성"
   ]
  },
  {
   "cell_type": "code",
   "execution_count": 70,
   "id": "f11280b7",
   "metadata": {},
   "outputs": [
    {
     "name": "stdout",
     "output_type": "stream",
     "text": [
      "<class 'tuple'>\n",
      "('서울', '대전', '대구', '부산', '하남')\n"
     ]
    }
   ],
   "source": [
    "# 파이썬은 여러개의 값이 전달될 때 튜플 타입으로 전달\n",
    "\n",
    "# city = ('서울', '대전', '대구', '부산', '하남')\n",
    "city = '서울', '대전', '대구', '부산', '하남'\n",
    "#가독성을 위해 () 사용하기\n",
    "print(type(city))\n",
    "print(city)"
   ]
  },
  {
   "cell_type": "code",
   "execution_count": 71,
   "id": "95277fb3",
   "metadata": {},
   "outputs": [
    {
     "data": {
      "text/plain": [
       "'서울, 대전, 대구, 부산, 하남'"
      ]
     },
     "execution_count": 71,
     "metadata": {},
     "output_type": "execute_result"
    }
   ],
   "source": [
    "# 매개변수로 list가 오는 함수는 tuple 매개변수로 함수 사용 가능\n",
    "\n",
    "', '.join(city)"
   ]
  },
  {
   "cell_type": "code",
   "execution_count": 72,
   "id": "a1349dff",
   "metadata": {},
   "outputs": [
    {
     "data": {
      "text/plain": [
       "1"
      ]
     },
     "execution_count": 72,
     "metadata": {},
     "output_type": "execute_result"
    }
   ],
   "source": [
    "# 수업시간에 만들었던 함수도 사용가능. 리스트 부분에서 배웠던것.\n",
    "\n",
    "from lst import safe_index\n",
    "safe_index(city, '대전')"
   ]
  },
  {
   "cell_type": "code",
   "execution_count": 73,
   "id": "cea7e927",
   "metadata": {},
   "outputs": [
    {
     "name": "stdout",
     "output_type": "stream",
     "text": [
      "<class 'list'>\n",
      "['서울']\n",
      "1\n"
     ]
    }
   ],
   "source": [
    "l = ['서울'] # 요소가 하나 있는 리스트\n",
    "print(type(l))\n",
    "print(l)\n",
    "print(len(l))"
   ]
  },
  {
   "cell_type": "code",
   "execution_count": 76,
   "id": "2b7ac2ed",
   "metadata": {},
   "outputs": [
    {
     "name": "stdout",
     "output_type": "stream",
     "text": [
      "<class 'str'>\n",
      "서울\n",
      "2\n"
     ]
    }
   ],
   "source": [
    "city = ('서울') # 요소가 하나 있는 튜플(X) -> str\n",
    "print(type(city))\n",
    "print(city)\n",
    "print(len(city))"
   ]
  },
  {
   "cell_type": "code",
   "execution_count": 77,
   "id": "653ad1b0",
   "metadata": {},
   "outputs": [
    {
     "name": "stdout",
     "output_type": "stream",
     "text": [
      "<class 'tuple'>\n",
      "('서울',)\n",
      "1\n"
     ]
    }
   ],
   "source": [
    "city = ('서울',) # 요소가 하나 있는 튜플(O). 데이터 하나 있을때만 ,를 찍어서 튜플로 인식시켜주기.\n",
    "print(type(city))\n",
    "print(city)\n",
    "print(len(city))"
   ]
  },
  {
   "cell_type": "code",
   "execution_count": 2,
   "id": "76535e0b",
   "metadata": {},
   "outputs": [],
   "source": [
    "numbers = (1, 2, 3)\n",
    "# numbers.append(4) 수정하기 위한 함수는 제공되지 않음"
   ]
  },
  {
   "cell_type": "code",
   "execution_count": 79,
   "id": "49619cd8",
   "metadata": {},
   "outputs": [
    {
     "data": {
      "text/plain": [
       "(1, 3, 6)"
      ]
     },
     "execution_count": 79,
     "metadata": {},
     "output_type": "execute_result"
    }
   ],
   "source": [
    "min(numbers), max(numbers), sum(numbers)"
   ]
  },
  {
   "cell_type": "code",
   "execution_count": 3,
   "id": "845ab105",
   "metadata": {},
   "outputs": [
    {
     "data": {
      "text/plain": [
       "[1, 2, 3]"
      ]
     },
     "execution_count": 3,
     "metadata": {},
     "output_type": "execute_result"
    }
   ],
   "source": [
    "# numbers.sort() 에러남\n",
    "sorted(numbers) #정 써야겠다하면 이런식으로"
   ]
  },
  {
   "cell_type": "code",
   "execution_count": 80,
   "id": "a07da5a1",
   "metadata": {},
   "outputs": [
    {
     "data": {
      "text/plain": [
       "1"
      ]
     },
     "execution_count": 80,
     "metadata": {},
     "output_type": "execute_result"
    }
   ],
   "source": [
    "numbers.count(2)"
   ]
  },
  {
   "cell_type": "code",
   "execution_count": 4,
   "id": "8e3969db",
   "metadata": {},
   "outputs": [
    {
     "data": {
      "text/plain": [
       "2"
      ]
     },
     "execution_count": 4,
     "metadata": {},
     "output_type": "execute_result"
    }
   ],
   "source": [
    "numbers.index(3)"
   ]
  },
  {
   "cell_type": "code",
   "execution_count": 82,
   "id": "4aa4f01e",
   "metadata": {},
   "outputs": [
    {
     "name": "stdout",
     "output_type": "stream",
     "text": [
      "해당 데이터 없음\n"
     ]
    }
   ],
   "source": [
    "# numbers.index(4)\n",
    "if 4 in numbers:\n",
    "    numbers.index(4)\n",
    "else:\n",
    "    print('해당 데이터 없음')"
   ]
  },
  {
   "cell_type": "code",
   "execution_count": 83,
   "id": "f0fc8171",
   "metadata": {},
   "outputs": [
    {
     "data": {
      "text/plain": [
       "-1"
      ]
     },
     "execution_count": 83,
     "metadata": {},
     "output_type": "execute_result"
    }
   ],
   "source": [
    "safe_index(numbers, 4)"
   ]
  },
  {
   "cell_type": "code",
   "execution_count": 9,
   "id": "b1f6b16e",
   "metadata": {},
   "outputs": [
    {
     "name": "stdout",
     "output_type": "stream",
     "text": [
      "데이터가 없습니다\n"
     ]
    }
   ],
   "source": [
    "numbers = (1, 4, 3, 2)\n",
    "numbers.index(2)     # 이것의 값은 1\n",
    "numbers.index(2, 2)  # index(찾을데이터, 찾기시작할index=0). 저건 숫자 2를 2번항 인덱스부터 찾아라는 말. 이것의 값은 3\n",
    "\n",
    "if 4 in numbers[2:]:\n",
    "    numbers.index(4,2)\n",
    "else:\n",
    "    print('데이터가 없습니다')"
   ]
  },
  {
   "cell_type": "code",
   "execution_count": 14,
   "id": "75ac7545",
   "metadata": {},
   "outputs": [],
   "source": [
    "def safe_index(lst, item, start=0):\n",
    "    '''\n",
    "    첫번째 매개변수 lst : 리스트, 튜플\n",
    "    두번째 매개변수 item : 리스트나 튜플에서 찾을 데이터\n",
    "    세번째 매개변수 start : 몇번째 index부터 찾을지 index 수(기본값:0)\n",
    "    '''\n",
    "    return lst.index(item, start) if item in lst[start:] else -1\n",
    "    \n",
    "#     if item in lst[start:]:\n",
    "#         return lst.index(item, start) # start번째부터 item이 있는 index를 반환\n",
    "#     return -1"
   ]
  },
  {
   "cell_type": "code",
   "execution_count": 18,
   "id": "7642df39",
   "metadata": {},
   "outputs": [
    {
     "data": {
      "text/plain": [
       "3"
      ]
     },
     "execution_count": 18,
     "metadata": {},
     "output_type": "execute_result"
    }
   ],
   "source": [
    "safe_index(numbers,2,1)"
   ]
  },
  {
   "cell_type": "code",
   "execution_count": 13,
   "id": "1f09970b",
   "metadata": {},
   "outputs": [
    {
     "data": {
      "text/plain": [
       "10"
      ]
     },
     "execution_count": 13,
     "metadata": {},
     "output_type": "execute_result"
    }
   ],
   "source": [
    "# 위의 if문을 조건식을 이용하여 한줄 코드\n",
    "\n",
    "# def diff(x, y):\n",
    "#     if x>y:\n",
    "#         return x-y\n",
    "#     else:\n",
    "#         return y-x\n",
    "\n",
    "def diff(x, y):\n",
    "    return x-y if x>y else y-x  #if문이 참일때 값 if 조건 else if문  거짓일때 값\n",
    "    \n",
    "diff(10, 20)"
   ]
  },
  {
   "cell_type": "code",
   "execution_count": 19,
   "id": "4582c728",
   "metadata": {},
   "outputs": [
    {
     "name": "stdout",
     "output_type": "stream",
     "text": [
      "(1, 2, 3, 1, 2, 3)\n",
      "(1, 2, 3, 1, 2, 3, 1, 2, 3)\n",
      "(1, 2, 3, 1, 2, 3, 1, 2, 3)\n"
     ]
    }
   ],
   "source": [
    "numbers = (1, 2, 3,)\n",
    "print(numbers + numbers) # 연결\n",
    "print(3 * numbers)       # 반복\n",
    "print(numbers * 3)       # 반복"
   ]
  },
  {
   "cell_type": "code",
   "execution_count": 22,
   "id": "f84e734e",
   "metadata": {},
   "outputs": [
    {
     "data": {
      "text/plain": [
       "(4, 16, 36)"
      ]
     },
     "execution_count": 22,
     "metadata": {},
     "output_type": "execute_result"
    }
   ],
   "source": [
    "# quiz. 짝수 요소들을 추출하여 제곱한 데이터를 튜플로 출력하시오\n",
    "\n",
    "numbers = (11, 2, 3, 4, 5, 6)\n",
    "tuple(data**2 for data in numbers if data%2==0)  \n",
    "\n",
    "# 함수 안에 넣지 않으면 리스트 꼭 붙여줘야함. [data for data in numbers]원래 이런식으로 작성했었음. 함수 안에 들어가지 않을 경우 []리스트로 감싸지 않으면 에러남."
   ]
  },
  {
   "cell_type": "markdown",
   "id": "c728b59f",
   "metadata": {},
   "source": [
    "# 3절. 딕셔너리\n",
    "\n",
    "- {}를 이용해서 키(key)-값(value)의 쌍으로 구성된 자료구조\n",
    "- 키는 유일한 값(중복 허용 안함). 키에 list는 사용불가. 키에 tuple은 사용 가능\n",
    "(ex. '이름' : '홍길동', '점수' : 100, '이름' : '김길동' 이런식으로 쓰면 안됨)\n",
    "- 값은 중복 가능. 모든 데이터 타입 가능\n",
    "- 인덱스를 이요한 참조는 지원 안 함"
   ]
  },
  {
   "cell_type": "code",
   "execution_count": 24,
   "id": "ba34a335",
   "metadata": {},
   "outputs": [
    {
     "name": "stdout",
     "output_type": "stream",
     "text": [
      "<class 'dict'>\n",
      "{'name': '홍길동', 1: 22, (1, 2): [1, 2]}\n"
     ]
    }
   ],
   "source": [
    "dic = {'name':'홍길동',1:22,(1,2):[1,2]} # 사실 이런 튜플은 딕셔너리에 잘 안씀. 들어갈 수 있다는 것을 보여주기위함.\n",
    "print(type(dic))\n",
    "print(dic)"
   ]
  },
  {
   "cell_type": "code",
   "execution_count": 26,
   "id": "918c2ea1",
   "metadata": {},
   "outputs": [
    {
     "data": {
      "text/plain": [
       "3"
      ]
     },
     "execution_count": 26,
     "metadata": {},
     "output_type": "execute_result"
    }
   ],
   "source": [
    "len(dic) # 데이터 요소의 갯수"
   ]
  },
  {
   "cell_type": "code",
   "execution_count": 27,
   "id": "39795a95",
   "metadata": {},
   "outputs": [
    {
     "data": {
      "text/plain": [
       "{'fruit': 'apple', 'number': 12, 'sport': 'yoga'}"
      ]
     },
     "execution_count": 27,
     "metadata": {},
     "output_type": "execute_result"
    }
   ],
   "source": [
    "my_favorite = {'fruit':'apple', 'number':12, 'sport':'yoga'}\n",
    "my_favorite"
   ]
  },
  {
   "cell_type": "code",
   "execution_count": 29,
   "id": "15708fc3",
   "metadata": {},
   "outputs": [
    {
     "name": "stdout",
     "output_type": "stream",
     "text": [
      "apple\n",
      "apple\n"
     ]
    }
   ],
   "source": [
    "#변수[키] / 변수.get(키)\n",
    "\n",
    "print(my_favorite['fruit']) # index에 키값을 입력\n",
    "print(my_favorite.get('fruit'))"
   ]
  },
  {
   "cell_type": "code",
   "execution_count": 32,
   "id": "0afc5bc7",
   "metadata": {},
   "outputs": [
    {
     "name": "stdout",
     "output_type": "stream",
     "text": [
      "None\n",
      "-\n",
      "12\n"
     ]
    }
   ],
   "source": [
    "# 튜플에서는 []보다 get함수 많이씀.\n",
    "# print(my_favorite['people']) 키목록에 없는 데이터를 참조시 에러\n",
    "\n",
    "print(my_favorite.get('people'))      # 없는 키를 get함수로 참조시 None\n",
    "print(my_favorite.get('people', '-')) # 없는 키를 get함수로 참조시 '-' 를 나오게 하는 명령\n",
    "print(my_favorite.get('number', '-')) "
   ]
  },
  {
   "cell_type": "markdown",
   "id": "0dffeb67",
   "metadata": {},
   "source": [
    "## 딕셔너리 item 수정, 추가, 삭제"
   ]
  },
  {
   "cell_type": "code",
   "execution_count": 50,
   "id": "d9480f32",
   "metadata": {},
   "outputs": [
    {
     "name": "stdout",
     "output_type": "stream",
     "text": [
      "하나씩 추가 후 : {'fruit': 'apple', 'number': 12, 'sport': 'yoga', 'people': '홍길동', 'subject': 'AI'}\n",
      "한꺼번에 추가 후 : {'fruit': 'apple', 'number': 12, 'sport': 'yoga', 'people': '홍길동', 'subject': '수학', 'major': 'AI'}\n",
      "하나씩 수정 후 : {'fruit': 'mango', 'number': -9, 'sport': 'yoga', 'people': '홍길동', 'subject': '수학', 'major': 'AI'}\n",
      "한꺼번에 수정 후 : {'fruit': 'kiwi', 'number': -99, 'sport': 'yoga', 'people': '홍길동', 'subject': '수학', 'major': 'AI'}\n",
      "del 제거 후 : {'fruit': 'kiwi', 'number': -99, 'sport': 'yoga', 'people': '홍길동', 'major': 'AI'}\n",
      "subject 키가 존재하지 않습니다\n",
      "제거한 데이터 : AI\n",
      "major 키가 존재하지 않습니다\n",
      "{'fruit': 'kiwi', 'number': -99, 'sport': 'yoga', 'people': '홍길동'}\n"
     ]
    }
   ],
   "source": [
    "my_favorite = {'fruit':'apple', 'number':12, 'sport':'yoga'}\n",
    "\n",
    "# 한 item씩 추가\n",
    "\n",
    "my_favorite['people'] = '홍길동'\n",
    "my_favorite['subject'] = 'AI'\n",
    "print('하나씩 추가 후 :', my_favorite)\n",
    "\n",
    "# 여러 item을 한꺼번에 추가\n",
    "\n",
    "my_favorite.update({'subject':'수학','major':'AI'})\n",
    "print('한꺼번에 추가 후 :', my_favorite)\n",
    "\n",
    "# 한 item씩 수정\n",
    "\n",
    "my_favorite['fruit'] = 'mango'\n",
    "my_favorite['number'] = -9\n",
    "print('하나씩 수정 후 :', my_favorite)\n",
    "\n",
    "# 여러 item을 한꺼번에 수정\n",
    "\n",
    "# my_favorite.update({'fruit':'kiwi', 'number':-99}) 이렇게 수정도 가능하고 아래처럼도 가능\n",
    "my_favorite.update(fruit='kiwi', number=-99)\n",
    "print('한꺼번에 수정 후 :', my_favorite)\n",
    "\n",
    "# item 제거(1)\n",
    "\n",
    "del my_favorite['subject']         # subject item 제거. 이미 제거한것이나 없는것 제거할 경우 에러\n",
    "print('del 제거 후 :', my_favorite)\n",
    "\n",
    "if 'subject' in my_favorite:       # 그래서 이렇게 if를 사용해야함\n",
    "    del my_favorite['subject'] \n",
    "else:\n",
    "    print('subject 키가 존재하지 않습니다')\n",
    "    \n",
    "# item 제거(2)\n",
    "\n",
    "print('제거한 데이터 :', my_favorite.pop('major')) # major 키 값을 반환하고 제거\n",
    "\n",
    "if 'major' in my_favorite:\n",
    "    print('제거한 데이터 :', my_favorite.pop('major'))\n",
    "else:\n",
    "    print('major 키가 존재하지 않습니다')\n",
    "print(my_favorite)"
   ]
  },
  {
   "cell_type": "code",
   "execution_count": 58,
   "id": "45f5e8d3",
   "metadata": {},
   "outputs": [
    {
     "name": "stdout",
     "output_type": "stream",
     "text": [
      "홍길동\t30\t010-9999-9999\t\n",
      "0번째 : 홍길동\t1번째 : 30\t2번째 : 010-9999-9999\t\n",
      "0번째 : 홍길동\t1번째 : 30\t2번째 : 010-9999-9999\t"
     ]
    }
   ],
   "source": [
    "# for문을 이용한 튜플 출력\n",
    "\n",
    "my_tuple = ('홍길동', 30, '010-9999-9999')\n",
    "\n",
    "for data in my_tuple:\n",
    "    print(data, end='\\t')\n",
    "print()  # 개행\n",
    "for idx in range(len(my_tuple)):\n",
    "    print(f'{idx}번째 : {my_tuple[idx]}', end='\\t')\n",
    "print()  # 개행\n",
    "for idx, data in enumerate(my_tuple):\n",
    "    print(f'{idx}번째 : {data}', end='\\t')"
   ]
  },
  {
   "cell_type": "markdown",
   "id": "4d800e6c",
   "metadata": {},
   "source": [
    "## 출력하기"
   ]
  },
  {
   "cell_type": "code",
   "execution_count": 66,
   "id": "495d9be6",
   "metadata": {},
   "outputs": [
    {
     "name": "stdout",
     "output_type": "stream",
     "text": [
      "name\tage\ttel\t\n",
      "name : 홍길동\tage : 30\ttel : 010-9999-9999\t\n"
     ]
    }
   ],
   "source": [
    "# for문을 이용한 딕셔너리 출력\n",
    "\n",
    "my_dic = {'name':'홍길동', 'age':30, 'tel':'010-9999-9999'}\n",
    "\n",
    "for key in my_dic:   # key만 출력\n",
    "    print(key, end = '\\t')\n",
    "print()\n",
    "    \n",
    "for key in my_dic:   # key와 value 모두 나오지만 비추\n",
    "    print('{} : {}'.format(key, my_dic.get(key)), end = '\\t')\n",
    "print()"
   ]
  },
  {
   "cell_type": "code",
   "execution_count": 67,
   "id": "c0d5a0df",
   "metadata": {},
   "outputs": [
    {
     "data": {
      "text/plain": [
       "dict_keys(['name', 'age', 'tel'])"
      ]
     },
     "execution_count": 67,
     "metadata": {},
     "output_type": "execute_result"
    }
   ],
   "source": [
    "my_dic.keys() # 키 목록"
   ]
  },
  {
   "cell_type": "code",
   "execution_count": 68,
   "id": "e99bba62",
   "metadata": {},
   "outputs": [
    {
     "data": {
      "text/plain": [
       "dict_values(['홍길동', 30, '010-9999-9999'])"
      ]
     },
     "execution_count": 68,
     "metadata": {},
     "output_type": "execute_result"
    }
   ],
   "source": [
    "my_dic.values() # 값들 목록"
   ]
  },
  {
   "cell_type": "code",
   "execution_count": 69,
   "id": "36f0458e",
   "metadata": {},
   "outputs": [
    {
     "data": {
      "text/plain": [
       "dict_items([('name', '홍길동'), ('age', 30), ('tel', '010-9999-9999')])"
      ]
     },
     "execution_count": 69,
     "metadata": {},
     "output_type": "execute_result"
    }
   ],
   "source": [
    "my_dic.items() # 키-값 쌍 목록"
   ]
  },
  {
   "cell_type": "code",
   "execution_count": 70,
   "id": "a428a2a4",
   "metadata": {},
   "outputs": [
    {
     "name": "stdout",
     "output_type": "stream",
     "text": [
      "name:홍길동\tage:30\ttel:010-9999-9999\t"
     ]
    }
   ],
   "source": [
    "# for key in my_dic:  \n",
    "#     print('{} : {}'.format(key, my_dic.get(key)), end = '\\t') 이것을 아래처럼 바꾸기\n",
    "\n",
    "for key, value in my_dic.items():\n",
    "    print('{}:{}'.format(key,value), end='\\t')"
   ]
  },
  {
   "cell_type": "code",
   "execution_count": 72,
   "id": "20e00e9a",
   "metadata": {},
   "outputs": [
    {
     "name": "stdout",
     "output_type": "stream",
     "text": [
      "홍길동\t30\t010-9999-9999\t"
     ]
    }
   ],
   "source": [
    "for value in my_dic.values():\n",
    "    print(value, end='\\t')"
   ]
  },
  {
   "cell_type": "code",
   "execution_count": 74,
   "id": "5563fa83",
   "metadata": {},
   "outputs": [
    {
     "data": {
      "text/plain": [
       "[(0, ('name', '홍길동')), (1, ('age', 30)), (2, ('tel', '010-9999-9999'))]"
      ]
     },
     "execution_count": 74,
     "metadata": {},
     "output_type": "execute_result"
    }
   ],
   "source": [
    "list(enumerate(my_dic.items()))"
   ]
  },
  {
   "cell_type": "code",
   "execution_count": 75,
   "id": "307d4bde",
   "metadata": {},
   "outputs": [
    {
     "name": "stdout",
     "output_type": "stream",
     "text": [
      "1.name : 홍길동\n",
      "2.age : 30\n",
      "3.tel : 010-9999-9999\n"
     ]
    }
   ],
   "source": [
    "for num, (key,value) in enumerate(my_dic.items()):\n",
    "    print('{}.{} : {}'.format(num+1, key, value))"
   ]
  },
  {
   "cell_type": "markdown",
   "id": "c4a0aff1",
   "metadata": {},
   "source": [
    "## in 연산자"
   ]
  },
  {
   "cell_type": "code",
   "execution_count": 76,
   "id": "78a94c99",
   "metadata": {},
   "outputs": [
    {
     "data": {
      "text/plain": [
       "True"
      ]
     },
     "execution_count": 76,
     "metadata": {},
     "output_type": "execute_result"
    }
   ],
   "source": [
    "# tuple, list, set\n",
    "\n",
    "t = (10, 20, 30)\n",
    "30 in t # list, tuple, set에서의 in 연산자 : 요소(데이터, item)가 있는 여부 반환"
   ]
  },
  {
   "cell_type": "code",
   "execution_count": 77,
   "id": "ca1d7284",
   "metadata": {},
   "outputs": [
    {
     "data": {
      "text/plain": [
       "False"
      ]
     },
     "execution_count": 77,
     "metadata": {},
     "output_type": "execute_result"
    }
   ],
   "source": [
    "# dictionary\n",
    "\n",
    "dic = {'name':'홍길동', 'age':30}\n",
    "'홍길동' in dic # dictionary에서의 in연산자 : key가 있는지 여부 반환"
   ]
  },
  {
   "cell_type": "code",
   "execution_count": 78,
   "id": "1abbc175",
   "metadata": {},
   "outputs": [
    {
     "data": {
      "text/plain": [
       "True"
      ]
     },
     "execution_count": 78,
     "metadata": {},
     "output_type": "execute_result"
    }
   ],
   "source": [
    "'홍길동' in dic.values()"
   ]
  },
  {
   "cell_type": "markdown",
   "id": "e44c2c75",
   "metadata": {},
   "source": [
    "## 복제하기"
   ]
  },
  {
   "cell_type": "code",
   "execution_count": 80,
   "id": "6930c21d",
   "metadata": {},
   "outputs": [
    {
     "name": "stdout",
     "output_type": "stream",
     "text": [
      "my_favorite 주소 : 1727697649792\n",
      "new_favorite 주소 : 1727697649792\n"
     ]
    }
   ],
   "source": [
    "# 할당\n",
    "\n",
    "my_favorite = {'fruit':'apple', 'number':12}\n",
    "new_favorite = my_favorite\n",
    "print('my_favorite 주소 :', id(my_favorite))\n",
    "print('new_favorite 주소 :', id(new_favorite))"
   ]
  },
  {
   "cell_type": "code",
   "execution_count": 81,
   "id": "35b2389f",
   "metadata": {},
   "outputs": [
    {
     "name": "stdout",
     "output_type": "stream",
     "text": [
      "원본 : {'fruit': '과일은 다 좋아', 'number': 12, 'people': '홍길동'}\n",
      "수정본 : {'fruit': '과일은 다 좋아', 'number': 12, 'people': '홍길동'}\n"
     ]
    }
   ],
   "source": [
    "new_favorite['fruit'] = '과일은 다 좋아'\n",
    "new_favorite['people'] = '홍길동'\n",
    "print('원본 :', my_favorite)\n",
    "print('수정본 :', new_favorite)"
   ]
  },
  {
   "cell_type": "code",
   "execution_count": 83,
   "id": "06132b83",
   "metadata": {},
   "outputs": [
    {
     "name": "stdout",
     "output_type": "stream",
     "text": [
      "my_favorite 주소 : 1727697606848\n",
      "new_favorite 주소 : 1727697847424\n",
      "원본 : {'fruit': 'apple', 'number': 12}\n",
      "수정본 : {'fruit': '과일은 다 좋아', 'number': 12, 'people': '홍길동'}\n"
     ]
    }
   ],
   "source": [
    "# 복제(깊은 복사)\n",
    "\n",
    "my_favorite = {'fruit':'apple', 'number':12}\n",
    "new_favorite = my_favorite.copy()\n",
    "print('my_favorite 주소 :', id(my_favorite))\n",
    "print('new_favorite 주소 :', id(new_favorite))\n",
    "\n",
    "new_favorite['fruit'] = '과일은 다 좋아'\n",
    "new_favorite['people'] = '홍길동'\n",
    "print('원본 :', my_favorite)\n",
    "print('수정본 :', new_favorite)"
   ]
  },
  {
   "cell_type": "markdown",
   "id": "897bdaf6",
   "metadata": {},
   "source": [
    "# 4절. 셋\n",
    "\n",
    "- 중복을 허용하지 않는 집합(순서X)\n",
    "- {}나 set()함수를 이용해서 셋 생성 ex. set([1,2,1]), set({'name':'홍길동'})\n",
    "- 추가 : add(), update()\n",
    "- 삭제 : remove()\n",
    "- 집합연산자 : &(교집합), |(합집합), -(차집합)"
   ]
  },
  {
   "cell_type": "code",
   "execution_count": null,
   "id": "6f78d63f",
   "metadata": {},
   "outputs": [],
   "source": [
    "# key, value 가 있으면 딕셔너리, 나열은 셋\n",
    "\n",
    "dic = {'name':'홍길동', 'age':30}\n",
    "se = {'홍길동', 30}"
   ]
  },
  {
   "cell_type": "code",
   "execution_count": 84,
   "id": "43ad71e7",
   "metadata": {},
   "outputs": [
    {
     "data": {
      "text/plain": [
       "{'apple', 'banana', 'orange'}"
      ]
     },
     "execution_count": 84,
     "metadata": {},
     "output_type": "execute_result"
    }
   ],
   "source": [
    "fruits = {'banana', 'orange', 'apple', 'apple'} # 중복 허용이 안되기 때문에 알아서 사라짐\n",
    "fruits"
   ]
  },
  {
   "cell_type": "code",
   "execution_count": 86,
   "id": "c6e78ac5",
   "metadata": {},
   "outputs": [
    {
     "data": {
      "text/plain": [
       "{1, 2, 3}"
      ]
     },
     "execution_count": 86,
     "metadata": {},
     "output_type": "execute_result"
    }
   ],
   "source": [
    "s1 = set([1,2,3,1,1,1,1,1,1,1,1,1,1])\n",
    "s1"
   ]
  },
  {
   "cell_type": "code",
   "execution_count": 87,
   "id": "a5a8f19a",
   "metadata": {},
   "outputs": [
    {
     "data": {
      "text/plain": [
       "{1, 2, 3}"
      ]
     },
     "execution_count": 87,
     "metadata": {},
     "output_type": "execute_result"
    }
   ],
   "source": [
    "s1 = set((1,2,3,1,1,1,1,1,1,1,1,1,1))\n",
    "s1"
   ]
  },
  {
   "cell_type": "code",
   "execution_count": 88,
   "id": "aa4f48a4",
   "metadata": {},
   "outputs": [
    {
     "data": {
      "text/plain": [
       "{'address', 'age', 'name'}"
      ]
     },
     "execution_count": 88,
     "metadata": {},
     "output_type": "execute_result"
    }
   ],
   "source": [
    "# set함수를 이용해서 딕셔너리를 셋으로 전환할 때는 key만 적용\n",
    "\n",
    "s2 = set({'name':'홍길동', 'age':30, 'address':'서울'})\n",
    "s2"
   ]
  },
  {
   "cell_type": "markdown",
   "id": "8400326b",
   "metadata": {},
   "source": [
    "## 추가하기\n",
    "\n",
    "- add() : 기본자료형, 튜플 데이터 하나 추가. list, dic, set 유형은 add()함수 사용 불가\n",
    "- update() : 리스트, 튜플, 딕셔너리, 셋 요소를 하나씩 따로 추가. dictionary 사용시 key만 추가\n",
    "    cf. list의 extend()"
   ]
  },
  {
   "cell_type": "code",
   "execution_count": 95,
   "id": "ebb320b7",
   "metadata": {},
   "outputs": [
    {
     "name": "stdout",
     "output_type": "stream",
     "text": [
      "add() 후 : {1, 2, 3, 4, '오', (6, 7)}\n"
     ]
    }
   ],
   "source": [
    "s = {1, 2, 3}\n",
    "\n",
    "s.add((6,7))\n",
    "s.add(4)\n",
    "s.add('오')\n",
    "print('add() 후 :', s)"
   ]
  },
  {
   "cell_type": "code",
   "execution_count": 100,
   "id": "80a82c7d",
   "metadata": {},
   "outputs": [
    {
     "name": "stdout",
     "output_type": "stream",
     "text": [
      "True add 후 : {1, 2, 3}\n"
     ]
    }
   ],
   "source": [
    "# 1이 set에 있는 상태에서 True 추가\n",
    "\n",
    "s = {1, 2, 3}\n",
    "s.add(True) # 비트로 보기 때문에 1로 봐서 추가가 안됨\n",
    "print('True add 후 :', s)"
   ]
  },
  {
   "cell_type": "code",
   "execution_count": 102,
   "id": "ec6a642a",
   "metadata": {},
   "outputs": [
    {
     "name": "stdout",
     "output_type": "stream",
     "text": [
      "0 add 후 : {False, 1, 2}\n"
     ]
    }
   ],
   "source": [
    "# 0이 set에 있는 상태에서 False 추가\n",
    "\n",
    "s = {False, 1, 2}\n",
    "s.add(0)\n",
    "print('0 add 후 :', s)"
   ]
  },
  {
   "cell_type": "code",
   "execution_count": 97,
   "id": "d9e5c0b1",
   "metadata": {},
   "outputs": [
    {
     "name": "stdout",
     "output_type": "stream",
     "text": [
      "update() 후 : {1, 2, 3, 4, 5, 6, 'age', 'name'}\n"
     ]
    }
   ],
   "source": [
    "s = {1, 2, 3}\n",
    "# s.update([4,5,6])\n",
    "# s.update((4,5,6))\n",
    "s.update({4,5,6})\n",
    "s.update({'name':'홍','age':30})\n",
    "print('update() 후 :', s)"
   ]
  },
  {
   "cell_type": "markdown",
   "id": "8f20f98c",
   "metadata": {},
   "source": [
    "## 삭제하기\n",
    "\n",
    "- romove()"
   ]
  },
  {
   "cell_type": "code",
   "execution_count": 103,
   "id": "de354ec0",
   "metadata": {},
   "outputs": [
    {
     "data": {
      "text/plain": [
       "{1, 3}"
      ]
     },
     "execution_count": 103,
     "metadata": {},
     "output_type": "execute_result"
    }
   ],
   "source": [
    "s = {1, 2, 3, 1, 1}\n",
    "s.remove(2)\n",
    "s"
   ]
  },
  {
   "cell_type": "code",
   "execution_count": 104,
   "id": "ae867324",
   "metadata": {},
   "outputs": [
    {
     "name": "stdout",
     "output_type": "stream",
     "text": [
      "해당 데이터는 없습니다\n"
     ]
    }
   ],
   "source": [
    "# s.remove(5) # 없는 요소를 삭제할 경우 에러\n",
    "\n",
    "if 5 in s:\n",
    "    s.remove(5)\n",
    "else:\n",
    "    print('해당 데이터는 없습니다')"
   ]
  },
  {
   "cell_type": "markdown",
   "id": "3d032895",
   "metadata": {},
   "source": [
    "## 집합연산자\n",
    "    \n",
    "- &(교집합), |(합집합), -(차집합)"
   ]
  },
  {
   "cell_type": "code",
   "execution_count": 105,
   "id": "8592b075",
   "metadata": {},
   "outputs": [
    {
     "name": "stdout",
     "output_type": "stream",
     "text": [
      "s1 =  {1, 2, 3, 4, 5}\n",
      "s2 =  {3, 4, 5, 6, 7}\n",
      "s1&s2 =  {3, 4, 5}\n",
      "s1|s2 =  {1, 2, 3, 4, 5, 6, 7}\n",
      "s1-s2 =  {1, 2}\n",
      "s2-s1 =  {6, 7}\n"
     ]
    }
   ],
   "source": [
    "s1 = {1, 2, 3, 4, 5}\n",
    "s2 = {3, 4, 5, 6, 7}\n",
    "print('s1 = ', s1)\n",
    "print('s2 = ', s2)\n",
    "print('s1&s2 = ', s1&s2)\n",
    "print('s1|s2 = ', s1|s2)\n",
    "print('s1-s2 = ', s1-s2)\n",
    "print('s2-s1 = ', s2-s1)"
   ]
  },
  {
   "cell_type": "code",
   "execution_count": 107,
   "id": "1d442a74",
   "metadata": {},
   "outputs": [
    {
     "name": "stdout",
     "output_type": "stream",
     "text": [
      "길동\n",
      "길자\n",
      "길숙\n"
     ]
    }
   ],
   "source": [
    "names = {'길동', '길숙', '길자'}\n",
    "for name in names:\n",
    "    print(name)"
   ]
  },
  {
   "cell_type": "markdown",
   "id": "7ed57c92",
   "metadata": {},
   "source": [
    "# 5절. enumerate\n",
    "\n",
    "- 반복자. 본복문을 처리할 때 사용할 순서객체를 생성하는 함수\n",
    "- 리스트, 튜플, 딕셔너리, 셋을 for문에 사용시"
   ]
  },
  {
   "cell_type": "code",
   "execution_count": 108,
   "id": "6ecbac4d",
   "metadata": {},
   "outputs": [
    {
     "data": {
      "text/plain": [
       "[(0, '길동'), (1, '길자'), (2, '길숙')]"
      ]
     },
     "execution_count": 108,
     "metadata": {},
     "output_type": "execute_result"
    }
   ],
   "source": [
    "list(enumerate(names))"
   ]
  },
  {
   "cell_type": "code",
   "execution_count": 109,
   "id": "b21b00a1",
   "metadata": {},
   "outputs": [
    {
     "name": "stdout",
     "output_type": "stream",
     "text": [
      "1. 길동\n",
      "2. 길자\n",
      "3. 길숙\n"
     ]
    }
   ],
   "source": [
    "for num, name in enumerate(names):\n",
    "    print('{}. {}'.format(num+1, name))"
   ]
  },
  {
   "cell_type": "code",
   "execution_count": 110,
   "id": "e46b7dd6",
   "metadata": {},
   "outputs": [],
   "source": [
    "names = ['길동', '길자', '길숙']\n",
    "tels = ['02-999-9999', '02-888-8888', '02-777-7777']\n",
    "adds = ['서울', '판교', '하남']"
   ]
  },
  {
   "cell_type": "code",
   "execution_count": 111,
   "id": "67fbc688",
   "metadata": {},
   "outputs": [
    {
     "name": "stdout",
     "output_type": "stream",
     "text": [
      "1. 길동님의 연락처는 02-999-9999이고, 서울 살아요\n",
      "2. 길자님의 연락처는 02-888-8888이고, 판교 살아요\n",
      "3. 길숙님의 연락처는 02-777-7777이고, 하남 살아요\n"
     ]
    }
   ],
   "source": [
    "for idx in range(len(names)):\n",
    "    print('{}. {}님의 연락처는 {}이고, {} 살아요'.format(idx+1,\n",
    "                                             names[idx],\n",
    "                                             tels[idx],\n",
    "                                             adds[idx]))"
   ]
  },
  {
   "cell_type": "code",
   "execution_count": 112,
   "id": "4746c114",
   "metadata": {},
   "outputs": [
    {
     "data": {
      "text/plain": [
       "[('길동', '02-999-9999', '서울'),\n",
       " ('길자', '02-888-8888', '판교'),\n",
       " ('길숙', '02-777-7777', '하남')]"
      ]
     },
     "execution_count": 112,
     "metadata": {},
     "output_type": "execute_result"
    }
   ],
   "source": [
    "list(zip(names, tels, adds))"
   ]
  },
  {
   "cell_type": "code",
   "execution_count": 113,
   "id": "99a257b2",
   "metadata": {},
   "outputs": [
    {
     "name": "stdout",
     "output_type": "stream",
     "text": [
      "길동님의 연락처는 02-999-9999이고, 서울 살아요\n",
      "길자님의 연락처는 02-888-8888이고, 판교 살아요\n",
      "길숙님의 연락처는 02-777-7777이고, 하남 살아요\n"
     ]
    }
   ],
   "source": [
    "for name, tel, add in zip(names, tels, adds):\n",
    "    print(f'{name}님의 연락처는 {tel}이고, {add} 살아요')"
   ]
  },
  {
   "cell_type": "code",
   "execution_count": 114,
   "id": "3413ff52",
   "metadata": {},
   "outputs": [
    {
     "data": {
      "text/plain": [
       "[(0, ('길동', '02-999-9999', '서울')),\n",
       " (1, ('길자', '02-888-8888', '판교')),\n",
       " (2, ('길숙', '02-777-7777', '하남'))]"
      ]
     },
     "execution_count": 114,
     "metadata": {},
     "output_type": "execute_result"
    }
   ],
   "source": [
    "list(enumerate(zip(names, tels, adds)))"
   ]
  },
  {
   "cell_type": "code",
   "execution_count": 115,
   "id": "681b0165",
   "metadata": {},
   "outputs": [
    {
     "name": "stdout",
     "output_type": "stream",
     "text": [
      "1. 길동님의 연락처는 02-999-9999이고, 서울 살아요\n",
      "2. 길자님의 연락처는 02-888-8888이고, 판교 살아요\n",
      "3. 길숙님의 연락처는 02-777-7777이고, 하남 살아요\n"
     ]
    }
   ],
   "source": [
    "for idx, (name, tel, add) in enumerate(zip(names, tels, adds)):\n",
    "    print(f'{idx+1}. {name}님의 연락처는 {tel}이고, {add} 살아요')"
   ]
  },
  {
   "cell_type": "code",
   "execution_count": 117,
   "id": "dc0315a3",
   "metadata": {},
   "outputs": [
    {
     "data": {
      "text/plain": [
       "[{'name': '길동', 'tel': '02-999-9999', 'add': '서울'},\n",
       " {'name': '길자', 'tel': '02-888-8888', 'add': '판교'},\n",
       " {'name': '길숙', 'tel': '02-777-7777', 'add': '하남'}]"
      ]
     },
     "execution_count": 117,
     "metadata": {},
     "output_type": "execute_result"
    }
   ],
   "source": [
    "members = [] #딕셔너리 리스트\n",
    "for name, tel, add in zip(names, tels, adds):\n",
    "    member = {'name' : name, 'tel' : tel, 'add' : add}\n",
    "    members.append(member)\n",
    "members"
   ]
  },
  {
   "cell_type": "code",
   "execution_count": null,
   "id": "b3c965d6",
   "metadata": {},
   "outputs": [],
   "source": [
    "[{'rank':1, 'name':'길동', 'tel':'02-999-9999', 'add':'서울'},\n",
    "{'rank':2, 'name':'길자', 'tel':'02-888-8888', 'add':'판교'},\n",
    "{'rank':3, 'name':'길숙', 'tel':'02-777-7777', 'add':'하남'}]"
   ]
  },
  {
   "cell_type": "code",
   "execution_count": 119,
   "id": "ea90ba4c",
   "metadata": {},
   "outputs": [
    {
     "data": {
      "text/plain": [
       "[{'rank': 1, 'name': '길동', 'tel': '02-999-9999', 'add': '서울'},\n",
       " {'rank': 2, 'name': '길자', 'tel': '02-888-8888', 'add': '판교'},\n",
       " {'rank': 3, 'name': '길숙', 'tel': '02-777-7777', 'add': '하남'}]"
      ]
     },
     "execution_count": 119,
     "metadata": {},
     "output_type": "execute_result"
    }
   ],
   "source": [
    "members = [] # 이것도 써야하는 거. 보기 좋아라고 둔게 아님.\n",
    "for idx, (name, tel, add) in enumerate(zip(names, tels, adds)):\n",
    "    member = {'rank':idx+1, 'name' : name, 'tel' : tel, 'add' : add}\n",
    "    members.append(member)\n",
    "members"
   ]
  },
  {
   "cell_type": "markdown",
   "id": "c4b9d986",
   "metadata": {},
   "source": [
    "# 6. 연습문제"
   ]
  },
  {
   "cell_type": "markdown",
   "id": "a6d73234",
   "metadata": {},
   "source": [
    "## 실습형 연습문제"
   ]
  },
  {
   "cell_type": "code",
   "execution_count": 34,
   "id": "0e7ef127",
   "metadata": {},
   "outputs": [
    {
     "data": {
      "text/plain": [
       "[1, 2, 3, 4, 5, 6, 7, 8, 9, 10, 100]"
      ]
     },
     "execution_count": 34,
     "metadata": {},
     "output_type": "execute_result"
    }
   ],
   "source": [
    "# 다음 리스트가 주어졌을 경우 요구사항대로 코드를 작성하시오\n",
    "numbers = [1,2,3,4,5,6,7,8,9,10]\n",
    "# 1.숫자 100 을 맨 뒤에 추가하세요\n",
    "\n",
    "numbers.append(100)\n",
    "numbers"
   ]
  },
  {
   "cell_type": "code",
   "execution_count": 35,
   "id": "8bbc7215",
   "metadata": {},
   "outputs": [
    {
     "data": {
      "text/plain": [
       "[1, 2, 3, 4, 5, 6, 7, 8, 9, 10, 100, 200, 300, 400, 500]"
      ]
     },
     "execution_count": 35,
     "metadata": {},
     "output_type": "execute_result"
    }
   ],
   "source": [
    "# 2.다음 리스트를 numbers 리스트 맨 뒤에 추가하세요\n",
    "data = [200, 300, 400, 500]\n",
    "\n",
    "numbers.extend(data)\n",
    "numbers"
   ]
  },
  {
   "cell_type": "code",
   "execution_count": 36,
   "id": "37ace7b3",
   "metadata": {},
   "outputs": [
    {
     "data": {
      "text/plain": [
       "[1, 2, 3, 4, 5]"
      ]
     },
     "execution_count": 36,
     "metadata": {},
     "output_type": "execute_result"
    }
   ],
   "source": [
    "# 3.처음 다섯 개 숫자만 출력하세요\n",
    "\n",
    "numbers[:5]"
   ]
  },
  {
   "cell_type": "code",
   "execution_count": 37,
   "id": "adce2af7",
   "metadata": {},
   "outputs": [
    {
     "data": {
      "text/plain": [
       "[1, 3, 5, 7, 9, 100, 300, 500]"
      ]
     },
     "execution_count": 37,
     "metadata": {},
     "output_type": "execute_result"
    }
   ],
   "source": [
    "# 4.리스트에서 짝수 번째 데이터만 출력하세요\n",
    "\n",
    "numbers[::2]"
   ]
  },
  {
   "cell_type": "code",
   "execution_count": 18,
   "id": "ad2d0536",
   "metadata": {},
   "outputs": [
    {
     "data": {
      "text/plain": [
       "[0, 2, 0, 4, 0, 6, 0, 8, 0, 10, 0, 200, 0, 400, 0]"
      ]
     },
     "execution_count": 18,
     "metadata": {},
     "output_type": "execute_result"
    }
   ],
   "source": [
    "# 5.짝수번째 데이터를 모두 0 으로 바꾸세요\n",
    "\n",
    "numbers[::2] = [0] * len(numbers[::2])\n",
    "numbers"
   ]
  },
  {
   "cell_type": "code",
   "execution_count": 12,
   "id": "2f973461",
   "metadata": {},
   "outputs": [
    {
     "data": {
      "text/plain": [
       "[0, 400, 0, 200, 0, 10, 0, 8, 0, 6, 0, 4, 0, 2, 0]"
      ]
     },
     "execution_count": 12,
     "metadata": {},
     "output_type": "execute_result"
    }
   ],
   "source": [
    "# 6.데이터를 역순으로 나열하세요 내림차순 정렬이 아닙니다\n",
    "\n",
    "numbers[::-1]"
   ]
  },
  {
   "cell_type": "code",
   "execution_count": 40,
   "id": "472b039b",
   "metadata": {},
   "outputs": [
    {
     "data": {
      "text/plain": [
       "'서울시 마포구'"
      ]
     },
     "execution_count": 40,
     "metadata": {},
     "output_type": "execute_result"
    }
   ],
   "source": [
    "# 다음 딕셔너리 데이터가 주어졌을 경우 요구사항대로 코드를 작성하세요\n",
    "member_info = {'name':'홍길동', 'age':20, 'address':'서울시 마포구', 'score': 90}\n",
    "# 7.address 값을 출력하세요\n",
    "\n",
    "# member_info['address']   #이건 비추. 내가 이렇게 씀.\n",
    "member_info.get('address') #추천"
   ]
  },
  {
   "cell_type": "code",
   "execution_count": 41,
   "id": "c13f46bd",
   "metadata": {},
   "outputs": [
    {
     "data": {
      "text/plain": [
       "{'name': '홍길동', 'age': 20, 'address': '서울시 마포구'}"
      ]
     },
     "execution_count": 41,
     "metadata": {},
     "output_type": "execute_result"
    }
   ],
   "source": [
    "# 8.score 를 출력하고 member_info 딕셔너리에서 삭제하세요\n",
    "\n",
    "member_info.pop('score')\n",
    "member_info"
   ]
  },
  {
   "cell_type": "code",
   "execution_count": 42,
   "id": "698dfe93",
   "metadata": {},
   "outputs": [
    {
     "data": {
      "text/plain": [
       "{'name': '홍길동', 'age': 20, 'address': '서울시 서대문구'}"
      ]
     },
     "execution_count": 42,
     "metadata": {},
     "output_type": "execute_result"
    }
   ],
   "source": [
    "# 9.address 를 서울시 서대문구 로 변경하세요\n",
    "\n",
    "member_info['address'] = '서울시 서대문구'\n",
    "member_info"
   ]
  },
  {
   "cell_type": "code",
   "execution_count": 43,
   "id": "28a7f0b0",
   "metadata": {},
   "outputs": [
    {
     "data": {
      "text/plain": [
       "['홍길동', 20, '서울시 서대문구']"
      ]
     },
     "execution_count": 43,
     "metadata": {},
     "output_type": "execute_result"
    }
   ],
   "source": [
    "# 10.member_info 딕셔너리 데이터의 값을 리스트로 출력하세요\n",
    "\n",
    "list(member_info.values())"
   ]
  },
  {
   "cell_type": "markdown",
   "id": "64914401",
   "metadata": {},
   "source": [
    "## 서술형 연습문제"
   ]
  },
  {
   "cell_type": "code",
   "execution_count": 14,
   "id": "35a73293",
   "metadata": {},
   "outputs": [
    {
     "name": "stdout",
     "output_type": "stream",
     "text": [
      "['orange', 'banana']\n"
     ]
    }
   ],
   "source": [
    "# 1.다음 코드를 실행했을 때 출력되는 것은\n",
    "L1 = ('orange','apple','banana','kiwi')\n",
    "new_list= [i for i in L1 if len(i)>5]\n",
    "print(new_list)\n",
    "\n",
    "#'ornge', 'banana'"
   ]
  },
  {
   "cell_type": "code",
   "execution_count": 15,
   "id": "7ca6c556",
   "metadata": {},
   "outputs": [],
   "source": [
    "# 2.다음 코드와 실행결과가 잘못 짝지어진 것은\n",
    "# ① print(list(range(10))) -[0,1,2,3,4,5,6,7,8,9]\n",
    "# ② print(list(range(5,10))) -[5,6,7,8,9]\n",
    "# ③ print(list(range(10,0,-1))) -[9,8,7,6,5,4,3,2,1,0]\n",
    "# ④ print(list(range(10,20,2))) –[10,12,14,16,18]\n",
    "\n",
    "# 3번.[10,9,8,7,6,5,4,3,2,1]"
   ]
  },
  {
   "cell_type": "code",
   "execution_count": 16,
   "id": "efe4cbd2",
   "metadata": {},
   "outputs": [
    {
     "data": {
      "text/plain": [
       "1"
      ]
     },
     "execution_count": 16,
     "metadata": {},
     "output_type": "execute_result"
    }
   ],
   "source": [
    "# 3.다음 구문에 의해 출력되는 것은\n",
    "numbers_2d = [ [1,2,3,4,5], [10,20,30,40],[1,3,5],[2,] ]\n",
    "len(numbers_2d[3])\n",
    "\n",
    "# 1"
   ]
  },
  {
   "cell_type": "code",
   "execution_count": 25,
   "id": "1a29001b",
   "metadata": {},
   "outputs": [
    {
     "data": {
      "text/plain": [
       "[1, 2, 3, 4, 5, 10, 20, 30, 40, 50]"
      ]
     },
     "execution_count": 25,
     "metadata": {},
     "output_type": "execute_result"
    }
   ],
   "source": [
    "# 4.다음 코드의 실행결과가 나올 수 있는 빈칸에 들어갈 함수 이름은\n",
    "# numbers = [1,2,3,4,5]\n",
    "# numbers.__________([10,20,30,40,50])\n",
    "# numbers\n",
    "# 결과: [1,2,3,4,5,10,20,30,40,50]\n",
    "\n",
    "# extend\n",
    "\n",
    "numbers = [1,2,3,4,5]\n",
    "numbers.extend([10,20,30,40,50])\n",
    "numbers"
   ]
  },
  {
   "cell_type": "code",
   "execution_count": 24,
   "id": "eac03287",
   "metadata": {},
   "outputs": [
    {
     "name": "stdout",
     "output_type": "stream",
     "text": [
      "[0, 1, 0, 3, 0, 5, 0, 7, 0, 9]\n"
     ]
    }
   ],
   "source": [
    "# 5.다음 구문을 실행할 때 결과는\n",
    "numbers = list(range(10))\n",
    "numbers[::2]= [0] * len(numbers[::2])\n",
    "print(numbers)\n",
    "\n",
    "# [0, 1, 0, 3, 0, 5, 0, 7, 0, 9]"
   ]
  },
  {
   "cell_type": "code",
   "execution_count": 23,
   "id": "1422bc71",
   "metadata": {},
   "outputs": [
    {
     "name": "stdout",
     "output_type": "stream",
     "text": [
      "[5, 1, 6, 3, 7, 5, 8, 7, 9, 9]\n"
     ]
    }
   ],
   "source": [
    "# 6.다음 구문을 실행할 때 결과는\n",
    "numbers = [0,1,2,3,4,5,6,7,8,9]\n",
    "numbers[::2]= numbers[5:]\n",
    "print(numbers)\n",
    "\n",
    "# [0,1,2,3,4,5,5,5,5,5]\n",
    "# [짝수번째에 5부터 5,6~ 이렇게 넣어라는 말이구나]"
   ]
  },
  {
   "cell_type": "code",
   "execution_count": 26,
   "id": "b8e5e87a",
   "metadata": {},
   "outputs": [
    {
     "name": "stdout",
     "output_type": "stream",
     "text": [
      "[0, 1, 1, 3, 2, 5, 3, 7, 4, 9]\n"
     ]
    }
   ],
   "source": [
    "# 7.다음 구문을 실행할 때 결과는\n",
    "numbers = [0, 1, 2, 3, 4, 5, 6, 7, 8, 9]\n",
    "numbers[::2]= numbers[:5]\n",
    "print(numbers)\n",
    "\n",
    "# [0,1,1,3,2,5,3,7,4,9]"
   ]
  },
  {
   "cell_type": "code",
   "execution_count": null,
   "id": "019e30f4",
   "metadata": {},
   "outputs": [],
   "source": [
    "# 8.다음 데이터에서 10 을 출력할 수 없는 구문은\n",
    "my_dic = {“a”:10, “b”:20, “c”:30}\n",
    "# ① my_dic [0]\n",
    "# ② my_dic ['a']\n",
    "# ③ list( my_dic.items ())[0][1]\n",
    "# ④ list( my_dic.values ())[0]\n",
    "# ⑤ my_dic.get ('a')\n",
    "\n",
    "# 1번"
   ]
  },
  {
   "cell_type": "code",
   "execution_count": 28,
   "id": "909ae6de",
   "metadata": {},
   "outputs": [
    {
     "name": "stdout",
     "output_type": "stream",
     "text": [
      "apple\n",
      "banana\n",
      "orange\n"
     ]
    }
   ],
   "source": [
    "# 9.다음 프로그램의 결과를 출력하시오\n",
    "fruits = [ 'apple', 'banana', 'orange']\n",
    "x, y, z = fruits\n",
    "print(x)\n",
    "print(y)\n",
    "print(z)\n",
    "\n",
    "# print(x) = apple\n",
    "# print(y) = banana\n",
    "# print(z) = orange"
   ]
  },
  {
   "cell_type": "code",
   "execution_count": 30,
   "id": "0a6e83c3",
   "metadata": {},
   "outputs": [
    {
     "name": "stdout",
     "output_type": "stream",
     "text": [
      "3\n"
     ]
    }
   ],
   "source": [
    "# 10.다음 프로그램의 결과를 출력하시오\n",
    "fruits = [ 'apple', 'banana', 'orange']\n",
    "print(len(fruits))\n",
    "\n",
    "# 3"
   ]
  },
  {
   "cell_type": "code",
   "execution_count": null,
   "id": "436bf662",
   "metadata": {},
   "outputs": [],
   "source": [
    "# 11.파이썬에서 함수를 만들기 위해 선언하는 단어는\n",
    "\n",
    "# def..?"
   ]
  },
  {
   "cell_type": "markdown",
   "id": "93036949",
   "metadata": {},
   "source": [
    "# *이미지 삽입방법"
   ]
  },
  {
   "cell_type": "markdown",
   "id": "31670006",
   "metadata": {},
   "source": [
    "![변수타입들](https://pynative.com/wp-content/uploads/2021/02/python-data-types.jpg)"
   ]
  },
  {
   "cell_type": "code",
   "execution_count": 44,
   "id": "2ef3d939",
   "metadata": {},
   "outputs": [],
   "source": [
    "#마크다운 셀에 ![](이미지 주소) 복사한것 붙이면 이미지가 나옴."
   ]
  },
  {
   "cell_type": "markdown",
   "id": "24308e05",
   "metadata": {},
   "source": [
    "<img src = 'https://pynative.com/wp-content/uploads/2021/02/python-data-types.jpg'\n",
    "    style ='float:left'\n",
    "    width = '500'>"
   ]
  },
  {
   "cell_type": "code",
   "execution_count": 45,
   "id": "9969ef69",
   "metadata": {},
   "outputs": [],
   "source": [
    "# <img src = 'https://pynative.com/wp-content/uploads/2021/02/python-data-types.jpg'\n",
    "#     style ='float:left'\n",
    "#     width = '500'>\n",
    "\n",
    "# 마크다운 셀에 위에처럼 치면 사이즈 조정도 가능함."
   ]
  }
 ],
 "metadata": {
  "kernelspec": {
   "display_name": "Python 3 (ipykernel)",
   "language": "python",
   "name": "python3"
  },
  "language_info": {
   "codemirror_mode": {
    "name": "ipython",
    "version": 3
   },
   "file_extension": ".py",
   "mimetype": "text/x-python",
   "name": "python",
   "nbconvert_exporter": "python",
   "pygments_lexer": "ipython3",
   "version": "3.10.9"
  },
  "toc": {
   "base_numbering": 1,
   "nav_menu": {},
   "number_sections": false,
   "sideBar": true,
   "skip_h1_title": false,
   "title_cell": "Table of Contents",
   "title_sidebar": "Contents",
   "toc_cell": false,
   "toc_position": {
    "height": "calc(100% - 180px)",
    "left": "10px",
    "top": "150px",
    "width": "165px"
   },
   "toc_section_display": true,
   "toc_window_display": true
  }
 },
 "nbformat": 4,
 "nbformat_minor": 5
}
